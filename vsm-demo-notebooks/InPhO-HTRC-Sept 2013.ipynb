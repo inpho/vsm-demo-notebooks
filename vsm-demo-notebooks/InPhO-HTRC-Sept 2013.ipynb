{
 "metadata": {
  "name": "",
  "signature": "sha256:484914911e5fe281643b32bddb24051618f035e229e32443461d1747efdbaeca"
 },
 "nbformat": 3,
 "nbformat_minor": 0,
 "worksheets": [
  {
   "cells": [
    {
     "cell_type": "heading",
     "level": 1,
     "metadata": {},
     "source": [
      "<center><img src=\"https://inpho.cogs.indiana.edu/img/newlogo.png\" height=\"75\">\n",
      "    <img src=\"http://a0.twimg.com/profile_images/128419119/hathi_logo.jpg\"> \n",
      "    <img src=\"http://ivl.cns.iu.edu/images/IVLforweb.jpg\" height=\"75\">\n",
      "</center>\n",
      "<center>InPhO and HathiTrust: Digging for Philosophy in the Sciences</center>"
     ]
    },
    {
     "cell_type": "markdown",
     "metadata": {},
     "source": [
      "<center>Credits</center>\n",
      "\n",
      "* <b>The InPhO Group: Robert Rose, Jaimie Murdock, Jun Otsuka, Doori Lee, Colin Allen</b>\n",
      "* Digging by Debating Collaborators: Katy B\u00f6rner (IU), Robert Light (IU), Andrew Ravenscroft (UEL), Simon McAlister (UEL), Chris Reed (Dundee), John Lawrence (Dundee), David Bourget (UWO)\n",
      "* Hathi Trust Research Center: Beth Plale (IU) et al."
     ]
    },
    {
     "cell_type": "markdown",
     "metadata": {},
     "source": [
      "<center>\n",
      "    <img src=\"http://mypage.iu.edu/~colallen/Images/JCDL2013.jpg\">\n",
      "</center>\n",
      "<center>\n",
      "    Philosophical content mapped onto the UCSD Map of Science. The size of each circle corresponds to the number of SEP editorial areas citing material from the UCSD Map of Science subdiscipline (minimum: 0, maximum: 43). The color of each circle corresponds to one of 13 disciplines identified by the map of science. (Source: Murdock, Light, Allen, and B\u00f6rner, JCDL 2013).\n",
      "</center>"
     ]
    },
    {
     "cell_type": "heading",
     "level": 1,
     "metadata": {},
     "source": [
      "<hr>"
     ]
    },
    {
     "cell_type": "heading",
     "level": 1,
     "metadata": {},
     "source": [
      "<center>Overview</center>"
     ]
    },
    {
     "cell_type": "markdown",
     "metadata": {},
     "source": [
      "* In this presentation we show our modeling efforts on a selection of books from the HathiTrust collection\n",
      "* Part of the \"<a href=\"http://diggingbydebating.org\">Digging by Debating</a>\" project which has \n",
      "    1. developed a method for visualizing points of contact between philosophy and the sciences;\n",
      "    2. used topic modelling to identify the volumes, and pages within those volumes, which are \u2018rich\u2019 in a chosen topic; \t\n",
      "    3. used a semi-formal discourse analysis technique to identify key arguments in the selected pages to incrementally expose and represent argument structures and used the OVA argument mapping tool to represent and map the key identified arguments and provide a framework for comparative analysis; \t\n",
      "    4. devised and used a novel analysis framework applied to the mapped arguments covering role, content and status of propositions; and, the importance, context and meaning of arguments.\n",
      "* Here I focus mainly on [II]\n",
      "* 1315 volumes were selected using a keyword search for 'darwin', 'romanes', 'anthropomorphism', and 'comparative psychology'\n",
      "    * This set contains lots of books that are not of particular interest to us -- e.g., books on theology, college course catalogs\n",
      "* Challenge: To find the needles (philosophical arguments) in the haystack (too much to read even the metadata)\n",
      "    * BEAGLE and LDA Topic Models trained on the full 1315 volume set\n",
      "    * LDA Models of 86 volume subset\n",
      "    * Further exploration of individual book models towards the goal of mapping philosophical arguments"
     ]
    },
    {
     "cell_type": "markdown",
     "metadata": {},
     "source": [
      "<hr>"
     ]
    },
    {
     "cell_type": "heading",
     "level": 4,
     "metadata": {},
     "source": [
      "Loading the Corpus and Modelling Libraries for 1315 volumes"
     ]
    },
    {
     "cell_type": "markdown",
     "metadata": {},
     "source": [
      "<em>[Note: This presentation is constructed using iPy Notebook (ipynb), which allows live interaction via the Python programming language with our server.  If time permits, we'll demonstrate some of those interactive possibilities at the end of the presentation or during the Q&amp;A.  Notebooks are also archivable object that with appropriate metadata could be used by others to replicate and build upon previous experiments.]</em>"
     ]
    },
    {
     "cell_type": "code",
     "collapsed": false,
     "input": [
      "# loading the corpus libraries\n",
      "from vsm import *\n",
      "from vsm.model.ldagibbs import LDAGibbs as LDA\n",
      "from vsm.viewer.ldagibbsviewer import LDAGibbsViewer as LDAViewer\n",
      "\n",
      "from vsm.extensions.ldasentences import CorpusSent # includes sentences attribute, empty 'docs' not removed.\n",
      "\n",
      "# HTRC specific label functions\n",
      "from vsm.extensions.htrc import htrc_label_fn_1315, htrc_label_fn_86, htrc_label_link_fn_1315, htrc_label_link_fn_86"
     ],
     "language": "python",
     "metadata": {},
     "outputs": [],
     "prompt_number": 1
    },
    {
     "cell_type": "markdown",
     "metadata": {},
     "source": [
      "<hr>"
     ]
    },
    {
     "cell_type": "heading",
     "level": 1,
     "metadata": {},
     "source": [
      "<center>Modeling with BEAGLE</center>"
     ]
    },
    {
     "cell_type": "markdown",
     "metadata": {},
     "source": [
      "* <strong>Beagle</strong> is a semantic space model (by Jones and Mewhort 2007):\n",
      "* It represents <b>words</b> as <b>vectors in a multidimensional space</b> (number of dimensions is a parameter of the model)\n",
      "* The Beagle model has <b>two components</b>:\n",
      "    * <b>Order</b>: sensitive to word position in sentences\n",
      "    * <b>Context</b>: sensitive to co-occurring words in sentences\n",
      "    * These components can be combined into a <b>Composite</b> model as a weighted blend of the order and context\n",
      "    * <b>Similarities</b> between words in Beagle can be computed using <b>cosine</b> between the corresponding word vectors (or <b>arccos</b> if a proper metric is preferred)\n",
      "    * Beagle predicts human semantic similarity judgments in psychological experiments better than other semantic models, such as standard LSA\n",
      "\n",
      "Here we load the corpus files and two of the Composite blends...\n"
     ]
    },
    {
     "cell_type": "code",
     "collapsed": false,
     "input": [
      "from vsm.model.ldagibbs import LDAGibbs as LDA# common corpus for Beagle models\n",
      "data_path = '/var/inphosemantics/data/20130101/'\\\n",
      "            'htrc-anthropomorphism-1315/vsm-data/'\n",
      "c = Corpus.load(data_path + 'hathi-1315-nltk-jones-freq3.npz')"
     ],
     "language": "python",
     "metadata": {},
     "outputs": [
      {
       "output_type": "stream",
       "stream": "stdout",
       "text": [
        "Loading corpus from /var/inphosemantics/data/20130101/htrc-anthropomorphism-1315/vsm-data/hathi-1315-nltk-jones-freq3.npz\n"
       ]
      },
      {
       "output_type": "stream",
       "stream": "stderr",
       "text": [
        "/usr/lib/pymodules/python2.7/numpy/lib/utils.py:1132: DeprecationWarning: The compiler package is deprecated and removed in Python 3.x.\n",
        "  import compiler\n"
       ]
      }
     ],
     "prompt_number": 2
    },
    {
     "cell_type": "code",
     "collapsed": false,
     "input": [
      "# 50:50 and 70:30 blend models loaded and viewers initiated\n",
      "m50 = BeagleComposite.load(data_path + 'hathi-1315-nltk-jones-freq3-beaglecomp-50.npz')\n",
      "m70 = BeagleComposite.load(data_path + 'hathi-1315-nltk-jones-freq3-beaglecomp-70.npz')\n",
      "v50 = BeagleViewer(c,m50)\n",
      "v70 = BeagleViewer(c,m70)"
     ],
     "language": "python",
     "metadata": {},
     "outputs": [
      {
       "output_type": "stream",
       "stream": "stdout",
       "text": [
        "Loading model from /var/inphosemantics/data/20130101/htrc-anthropomorphism-1315/vsm-data/hathi-1315-nltk-jones-freq3-beaglecomp-50.npz\n",
        "Loading model from"
       ]
      },
      {
       "output_type": "stream",
       "stream": "stdout",
       "text": [
        " /var/inphosemantics/data/20130101/htrc-anthropomorphism-1315/vsm-data/hathi-1315-nltk-jones-freq3-beaglecomp-70.npz\n"
       ]
      }
     ],
     "prompt_number": 3
    },
    {
     "cell_type": "markdown",
     "metadata": {},
     "source": [
      "<hr>"
     ]
    },
    {
     "cell_type": "heading",
     "level": 2,
     "metadata": {},
     "source": [
      "<center>Similarity to 'Darwin' in the 50:50 Composite Model</center>"
     ]
    },
    {
     "cell_type": "markdown",
     "metadata": {},
     "source": [
      "Note that this blend finds names pretty well. (The pure order model does better for finding names, but the blend better represents relatedness in semantic space.)"
     ]
    },
    {
     "cell_type": "code",
     "collapsed": false,
     "input": [
      "number_of_items = 40 # used to set a display limit for several cells below\n",
      "l50=v50.dist_word_word(['darwin'], print_len=number_of_items) # similar to 'darwin' from 50:50 (context:order) Beagle model\n",
      "l50"
     ],
     "language": "python",
     "metadata": {},
     "outputs": [
      {
       "html": [
        "<table style=\"margin: 0\"><tr><th style=\"text-align: center; background: #CEE3F6\" colspan                    =\"4\">Words: darwin</th></tr><tr><th style=\"text-align: center; background: #EFF2FB; \">Word                    </th><th style=\"text-align: center; background: #EFF2FB; \">Distance                    </th><th style=\"text-align: center; background: #EFF2FB; \">Word                    </th><th style=\"text-align: center; background: #EFF2FB; \">Distance                    </th></tr><tr><td>darwin                                       </td><td>0.00000   </td><td>weismann                                     </td><td>1.13686   </td></tr><tr><td>spencer                                      </td><td>0.96336   </td><td>babbage                                      </td><td>1.13941   </td></tr><tr><td>gladstone                                    </td><td>0.99297   </td><td>clodd                                        </td><td>1.14618   </td></tr><tr><td>huxley                                       </td><td>1.02383   </td><td>stewart                                      </td><td>1.14953   </td></tr><tr><td>mcdougall                                    </td><td>1.03258   </td><td>buckle                                       </td><td>1.15131   </td></tr><tr><td>lyell                                        </td><td>1.04641   </td><td>theory                                       </td><td>1.15144   </td></tr><tr><td>mivart                                       </td><td>1.05166   </td><td>templeton                                    </td><td>1.15294   </td></tr><tr><td>lamarck                                      </td><td>1.05599   </td><td>martineau                                    </td><td>1.15690   </td></tr><tr><td>darwin's                                     </td><td>1.06359   </td><td>ferrier                                      </td><td>1.15865   </td></tr><tr><td>darwinian                                    </td><td>1.08056   </td><td>theories                                     </td><td>1.16231   </td></tr><tr><td>crawley                                      </td><td>1.08777   </td><td>dickens                                      </td><td>1.16385   </td></tr><tr><td>mill                                         </td><td>1.08945   </td><td>rattlethrough                                </td><td>1.16517   </td></tr><tr><td>jevons                                       </td><td>1.09612   </td><td>tylor                                        </td><td>1.16718   </td></tr><tr><td>lewes                                        </td><td>1.10927   </td><td>mallock                                      </td><td>1.17121   </td></tr><tr><td>rore                                         </td><td>1.11386   </td><td>wallace                                      </td><td>1.17155   </td></tr><tr><td>hume                                         </td><td>1.11731   </td><td>descent                                      </td><td>1.17219   </td></tr><tr><td>romanes                                      </td><td>1.11825   </td><td>locke                                        </td><td>1.17285   </td></tr><tr><td>darwinism                                    </td><td>1.12539   </td><td>swinburne                                    </td><td>1.17290   </td></tr><tr><td>balfour                                      </td><td>1.12946   </td><td>kitson                                       </td><td>1.17312   </td></tr><tr><td>froude                                       </td><td>1.13491   </td><td>evolution                                    </td><td>1.17509   </td></tr></table>"
       ],
       "metadata": {},
       "output_type": "pyout",
       "prompt_number": 4,
       "text": [
        "LabeledColumn([('darwin', 0.0), ('spencer', 0.9633645738773001),\n",
        "       ('gladstone', 0.9929667268435545), ...,\n",
        "       ('polizia', 1.6825294895778051), ('wolfio', 1.6841165568780296),\n",
        "       ('p.salms', 1.6958997680455292)], \n",
        "      dtype=[('word', '|S40'), ('value', '<f8')])"
       ]
      }
     ],
     "prompt_number": 4
    },
    {
     "cell_type": "markdown",
     "metadata": {},
     "source": [
      "<hr>"
     ]
    },
    {
     "cell_type": "heading",
     "level": 2,
     "metadata": {},
     "source": [
      "<center>Simlarity to 'Darwin' in the 70:30 Composite Model</center>"
     ]
    },
    {
     "cell_type": "markdown",
     "metadata": {},
     "source": [
      "<center>Note that this blend enhances the semantic relevance of the name similarities and picks up relationships to important Darwinian terminology.</center>"
     ]
    },
    {
     "cell_type": "code",
     "collapsed": false,
     "input": [
      "number_of_items = 20\n",
      "l70=v70.dist_word_word(['darwin'], print_len=number_of_items) # from 70:30 (context:order) Beagle\n",
      "l70"
     ],
     "language": "python",
     "metadata": {},
     "outputs": [
      {
       "html": [
        "<table style=\"margin: 0\"><tr><th style=\"text-align: center; background: #CEE3F6\" colspan                    =\"4\">Words: darwin</th></tr><tr><th style=\"text-align: center; background: #EFF2FB; \">Word                    </th><th style=\"text-align: center; background: #EFF2FB; \">Distance                    </th><th style=\"text-align: center; background: #EFF2FB; \">Word                    </th><th style=\"text-align: center; background: #EFF2FB; \">Distance                    </th></tr><tr><td>darwin                                       </td><td>0.00000   </td><td>evolution                                    </td><td>0.93686   </td></tr><tr><td>lamarck                                      </td><td>0.76761   </td><td>romanes                                      </td><td>0.94513   </td></tr><tr><td>darwinism                                    </td><td>0.83264   </td><td>cuvier                                       </td><td>0.94754   </td></tr><tr><td>darwinian                                    </td><td>0.83424   </td><td>theories                                     </td><td>0.95508   </td></tr><tr><td>huxley                                       </td><td>0.86307   </td><td>biologists                                   </td><td>0.95690   </td></tr><tr><td>descent                                      </td><td>0.87166   </td><td>mutation                                     </td><td>0.96085   </td></tr><tr><td>theory                                       </td><td>0.88626   </td><td>evolutionary                                 </td><td>0.96193   </td></tr><tr><td>origin                                       </td><td>0.90008   </td><td>natural                                      </td><td>0.96806   </td></tr><tr><td>weismann                                     </td><td>0.90047   </td><td>selection                                    </td><td>0.97522   </td></tr><tr><td>lyell                                        </td><td>0.92712   </td><td>evolutionist                                 </td><td>0.98356   </td></tr></table>"
       ],
       "metadata": {},
       "output_type": "pyout",
       "prompt_number": 5,
       "text": [
        "LabeledColumn([('darwin', 0.0), ('lamarck', 0.7676112569175363),\n",
        "       ('darwinism', 0.8326436538427394), ...,\n",
        "       ('houinger', 1.6747341500627357), ('calcut', 1.6821469875091741),\n",
        "       ('wolfio', 1.6951951997107761)], \n",
        "      dtype=[('word', '|S40'), ('value', '<f8')])"
       ]
      }
     ],
     "prompt_number": 5
    },
    {
     "cell_type": "markdown",
     "metadata": {},
     "source": [
      "<hr>"
     ]
    },
    {
     "cell_type": "heading",
     "level": 2,
     "metadata": {},
     "source": [
      "<center>We can visualize the similarity space around 'Darwin' right here in the notebook, using code from our libraries</center>"
     ]
    },
    {
     "cell_type": "code",
     "collapsed": false,
     "input": [
      "thresh = l70[number_of_items][1] # get the arccos value at nth point\n",
      "#v70.isomap_words(['darwin'], n_neighbors=5) #, thres=thresh"
     ],
     "language": "python",
     "metadata": {},
     "outputs": [],
     "prompt_number": 6
    },
    {
     "cell_type": "markdown",
     "metadata": {},
     "source": [
      "<hr>"
     ]
    },
    {
     "cell_type": "heading",
     "level": 1,
     "metadata": {},
     "source": [
      "<center>LDA Topic Modeling</center>"
     ]
    },
    {
     "cell_type": "markdown",
     "metadata": {},
     "source": [
      "Beagle has many interesting properties, but is strongest for word similarity.  However, we are interested in finding books, specific pages, and specific arguments.  For that, LDA topic modeling is more appropriate.\n",
      "\n",
      "* LDA (Latent Dirichlet Analysis) uses a Bayesian updating method to generate a set of \"topics\" -- probability distributions over the set of terms in a corpus.\n",
      "* The number of topics is a parameter in the modeling technique\n",
      "* The method finds the set of topics that is best able to reproduce the term distributions in the documents belonging to the corpus\n",
      "* Documents may be whole volumes, chapters, articles, single pages, even individual sentences -- modelers' choice"
     ]
    },
    {
     "cell_type": "markdown",
     "metadata": {},
     "source": [
      "<hr>"
     ]
    },
    {
     "cell_type": "heading",
     "level": 1,
     "metadata": {},
     "source": [
      "<center>LDA Results on a 1315-volume selection from the HTRC with books as documents</center>"
     ]
    },
    {
     "cell_type": "code",
     "collapsed": false,
     "input": [
      "# Loading the corpus and and model tools\n",
      "c1 = Corpus.load('/var/inphosemantics/data/20130101/htrc-anthropomorphism-1315/vsm-data/hathi-1315-nltk-freq3-links.npz')\n",
      "\n",
      "# here we select a 60 topic model\n",
      "m1 = LDA.load('/var/inphosemantics/data/20130101/htrc-anthropomorphism-1315/vsm-data/hathi-1315-nltk-freq3-LDA-K60-600.npz')\n",
      "v1 = LDAViewer(c1, m1)"
     ],
     "language": "python",
     "metadata": {},
     "outputs": [
      {
       "output_type": "stream",
       "stream": "stdout",
       "text": [
        "Loading corpus from /var/inphosemantics/data/20130101/htrc-anthropomorphism-1315/vsm-data/hathi-1315-nltk-freq3-links.npz\n",
        "Loading LDA data from"
       ]
      },
      {
       "output_type": "stream",
       "stream": "stdout",
       "text": [
        " /var/inphosemantics/data/20130101/htrc-anthropomorphism-1315/vsm-data/hathi-1315-nltk-freq3-LDA-K60-600.npz\n"
       ]
      }
     ],
     "prompt_number": 7
    },
    {
     "cell_type": "heading",
     "level": 2,
     "metadata": {},
     "source": [
      "Selection of topics most similar to term 'anthropomorphism'"
     ]
    },
    {
     "cell_type": "markdown",
     "metadata": {},
     "source": [
      "We can identify topics using single terms or combinations of terms, and then use one or more topics to select among the documents."
     ]
    },
    {
     "cell_type": "code",
     "collapsed": false,
     "input": [
      "# finding related topics using a single term\n",
      "v1.dist_word_top(['anthropomorphism'])"
     ],
     "language": "python",
     "metadata": {},
     "outputs": [
      {
       "html": [
        "<table style=\"margin: 0\"><tr><th style=\"text-align: center; background: #CEE3F6\" colspan            =\"11\">Sorted by Topic Distance</th></tr><tr><th style=\"text-align: center; background: #EFF2FB;\"                     >Topic</th><th style=\"text-align: center; background: #EFF2FB;\"                     >Words</th></tr><tr><td style=\"padding-left:0.75em;\">38</td><td> god, religion, life, man, religious, spirit, world, nature, spiritual, divine                                    </td></tr><tr><td style=\"padding-left:0.75em;\">16</td><td> animals, evolution, life, animal, development, man, species, cells, living, theory                                    </td></tr><tr><td style=\"padding-left:0.75em;\">51</td><td> philosophy, nature, knowledge, world, thought, idea, things, reason, truth, science                                   </td></tr><tr><td style=\"padding-left:0.75em;\">58</td><td> man, among, tribes, primitive, men, people, also, races, women, race                                      </td></tr><tr><td style=\"padding-left:0.75em;\">12</td><td> child, children, first, development, movements, play, life, little, mental, mother                                    </td></tr><tr><td style=\"padding-left:0.75em;\">21</td><td> social, life, new, mind, upon, individual, human, mental, world, subfield                                  </td></tr><tr><td style=\"padding-left:0.75em;\">11</td><td> motion, force, must, forces, matter, changes, us, parts, like, evolution                                 </td></tr><tr><td style=\"padding-left:0.75em;\">1</td><td> pp, der, vol, die, de, des, und, ibid, university, la                                        </td></tr><tr><td style=\"padding-left:0.75em;\">31</td><td> gods, religion, p, name, see, god, india, ancient, one, worship                                   </td></tr></table>"
       ],
       "metadata": {},
       "output_type": "pyout",
       "prompt_number": 8,
       "text": [
        "CompactTable([[('god', 0.03442064991712094), ('religion', 0.02459173153582905),\n",
        "        ('life', 0.02267148664966742), ...,\n",
        "        ('lagrange', 7.771124589882159e-09),\n",
        "        ('liberalism', 7.771124589882159e-09),\n",
        "        ('emergence', 7.771124589882159e-09)],\n",
        "       [('animals', 0.012132496632905507),\n",
        "        ('evolution', 0.010839270810416975),\n",
        "        ('life', 0.009229700342289563), ...,\n",
        "        ('invagination', 1.1138895973189953e-08),\n",
        "        ('mesoblast', 1.1138895973189953e-08),\n",
        "        ('expands', 1.1138895973189953e-08)],\n",
        "       [('philosophy', 0.013289711909911085),\n",
        "        ('nature', 0.010788829800419326),\n",
        "        ('knowledge', 0.010627151429051464), ...,\n",
        "        ('circumstance', 6.415808387607709e-09),\n",
        "        ('ratke', 6.415808387607709e-09), ('o', 6.415808387607709e-09)],\n",
        "       ..., \n",
        "       [('motion', 0.008039251333599517), ('force', 0.007562084535103518),\n",
        "        ('must', 0.0068795323984793735), ...,\n",
        "        ('pleistocene', 8.852816298618991e-09),\n",
        "        ('pliocene', 8.852816298618991e-09),\n",
        "        ('psychic', 8.852816298618991e-09)],\n",
        "       [('pp', 0.018586942486592054), ('der', 0.0161562404389713),\n",
        "        ('vol', 0.01596769065396894), ...,\n",
        "        ('wiener', 2.2716841566528454e-08),\n",
        "        ('edward', 2.2716841566528454e-08),\n",
        "        ('january', 2.2716841566528454e-08)],\n",
        "       [('gods', 0.009083807285988971), ('religion', 0.00840877421714436),\n",
        "        ('p', 0.005665885528576144), ...,\n",
        "        ('destitute', 1.2956488845374217e-08),\n",
        "        ('kingdoms', 1.2956488845374217e-08),\n",
        "        ('noble', 1.2956488845374217e-08)]], \n",
        "      dtype=[('word', '|S40'), ('value', '<f8')])"
       ]
      }
     ],
     "prompt_number": 8
    },
    {
     "cell_type": "code",
     "collapsed": false,
     "input": [
      "v1.dist_top_doc(16)"
     ],
     "language": "python",
     "metadata": {},
     "outputs": [
      {
       "html": [
        "<table style=\"margin: 0\"><tr><th style=\"text-align: center; background: #CEE3F6\" colspan                    =\"2\">Topics: 16</th></tr><tr><th style=\"text-align: center; background: #EFF2FB; \">Document                          </th><th style=\"text-align: center; background: #EFF2FB; \">Distance                          </th></tr><tr><td>uc2.ark+=13960=t0qr4pc9z, http://hdl.handle.net/2027/uc2.ark:/13960/t0qr4pc9z       </td><td>0.52290   </td></tr><tr><td>uc2.ark+=13960=t6154h42z, http://hdl.handle.net/2027/loc.ark:/13960/t2s47h57b       </td><td>0.63280   </td></tr><tr><td>uc2.ark+=13960=t5v69b880, http://hdl.handle.net/2027/uc2.ark:/13960/t5v69b880       </td><td>0.63291   </td></tr><tr><td>mdp.39015012924836, http://hdl.handle.net/2027/loc.ark:/13960/t2s47h57b             </td><td>0.63693   </td></tr><tr><td>uc2.ark+=13960=t1td9pw8v, http://hdl.handle.net/2027/uc2.ark:/13960/t1td9pw8v       </td><td>0.65898   </td></tr><tr><td>uc2.ark+=13960=t4wh2fm7q, http://hdl.handle.net/2027/nyp.33433081629184             </td><td>0.66834   </td></tr><tr><td>uc2.ark+=13960=t73t9h556, http://hdl.handle.net/2027/uc2.ark:/13960/t73t9h556       </td><td>0.66947   </td></tr><tr><td>uc2.ark+=13960=t75t3j390, http://hdl.handle.net/2027/uc2.ark:/13960/t75t3j390       </td><td>0.67220   </td></tr><tr><td>nnc2.ark+=13960=t6k07rz7d, http://hdl.handle.net/2027/nnc2.ark:/13960/t6k07rz7d     </td><td>0.69294   </td></tr><tr><td>uc2.ark+=13960=t1kh0hv1d, http://hdl.handle.net/2027/njp.32101064234139             </td><td>0.70472   </td></tr></table>"
       ],
       "metadata": {},
       "output_type": "pyout",
       "prompt_number": 9,
       "text": [
        "LabeledColumn([ ('uc2.ark+=13960=t0qr4pc9z, http://hdl.handle.net/2027/uc2.ark:/13960/t0qr4pc9z', 0.5229038225665934),\n",
        "       ('uc2.ark+=13960=t6154h42z, http://hdl.handle.net/2027/loc.ark:/13960/t2s47h57b', 0.6328009187934714),\n",
        "       ('uc2.ark+=13960=t5v69b880, http://hdl.handle.net/2027/uc2.ark:/13960/t5v69b880', 0.6329077913454879),\n",
        "       ...,\n",
        "       ('uc2.ark+=13960=t0xp6xg56, http://hdl.handle.net/2027/uc2.ark:/13960/t7sn0403h', 0.9999997712242171),\n",
        "       ('uc2.ark+=13960=t77s7z814, http://hdl.handle.net/2027/uc2.ark:/13960/t77s7z814', 0.9999998249440064),\n",
        "       ('mdp.39015016778964, http://hdl.handle.net/2027/mdp.39015084381345', 0.9999998618617741)], \n",
        "      dtype=[('doc', '|S79'), ('value', '<f8')])"
       ]
      }
     ],
     "prompt_number": 9
    },
    {
     "cell_type": "code",
     "collapsed": false,
     "input": [
      "# display the documents most similar to (best predicted) by one topic\n",
      "v1.dist_top_doc(16, print_len=20, label_fn=htrc_label_link_fn_1315)"
     ],
     "language": "python",
     "metadata": {},
     "outputs": [
      {
       "html": [
        "<table style=\"margin: 0\"><tr><th style=\"text-align: center; background: #CEE3F6\" colspan                    =\"2\">Topics: 16</th></tr><tr><th style=\"text-align: center; background: #EFF2FB; \">Document                    </th><th style=\"text-align: center; background: #EFF2FB; \">Distance                    </th></tr><tr><td>The germ-plasm : a theory of heredity /, <a href=\"http://hdl.handle.net/2027/uc2.ark:/13960/t0qr4pc9z\" target=\"_blank\">http://hdl.handle.net/2027/uc2.ark:/13960/t0qr4pc9z</a>                            </td><td>0.52290   </td></tr><tr><td>The riddle of the universe at the close of the nineteenth ce, <a href=\"http://hdl.handle.net/2027/loc.ark:/13960/t2s47h57b\" target=\"_blank\">http://hdl.handle.net/2027/loc.ark:/13960/t2s47h57b</a>       </td><td>0.63280   </td></tr><tr><td>The riddle of the universe at the close of the nineteenth ce, <a href=\"http://hdl.handle.net/2027/uc2.ark:/13960/t5v69b880\" target=\"_blank\">http://hdl.handle.net/2027/uc2.ark:/13960/t5v69b880</a>       </td><td>0.63291   </td></tr><tr><td>The riddle of the universe at the close of the nineteenth ce, <a href=\"http://hdl.handle.net/2027/loc.ark:/13960/t2s47h57b\" target=\"_blank\">http://hdl.handle.net/2027/loc.ark:/13960/t2s47h57b</a>       </td><td>0.63693   </td></tr><tr><td>Biology and its makers, with portraits and other illustratio, <a href=\"http://hdl.handle.net/2027/uc2.ark:/13960/t1td9pw8v\" target=\"_blank\">http://hdl.handle.net/2027/uc2.ark:/13960/t1td9pw8v</a>       </td><td>0.65898   </td></tr><tr><td>Last words on evolution; a popular retrospect and summary,, <a href=\"http://hdl.handle.net/2027/nyp.33433081629184\" target=\"_blank\">http://hdl.handle.net/2027/nyp.33433081629184</a>                     </td><td>0.66834   </td></tr><tr><td>The psychic life of micro-organisms. A study in experimental, <a href=\"http://hdl.handle.net/2027/uc2.ark:/13960/t73t9h556\" target=\"_blank\">http://hdl.handle.net/2027/uc2.ark:/13960/t73t9h556</a>       </td><td>0.66947   </td></tr><tr><td>The psychic life of micro-organisms : a study in experimenta, <a href=\"http://hdl.handle.net/2027/uc2.ark:/13960/t75t3j390\" target=\"_blank\">http://hdl.handle.net/2027/uc2.ark:/13960/t75t3j390</a>       </td><td>0.67220   </td></tr><tr><td>General physiology; an outline of the science of life,, <a href=\"http://hdl.handle.net/2027/nnc2.ark:/13960/t6k07rz7d\" target=\"_blank\">http://hdl.handle.net/2027/nnc2.ark:/13960/t6k07rz7d</a>           </td><td>0.69294   </td></tr><tr><td>International Congress of Arts and Science., <a href=\"http://hdl.handle.net/2027/njp.32101064234139\" target=\"_blank\">http://hdl.handle.net/2027/njp.32101064234139</a>                                    </td><td>0.70472   </td></tr><tr><td>The principles of heredity with some applications,, <a href=\"http://hdl.handle.net/2027/mdp.39015068611469\" target=\"_blank\">http://hdl.handle.net/2027/mdp.39015068611469</a>                             </td><td>0.71560   </td></tr><tr><td>The divine pedigree of man, or, The testimony of evolution a, <a href=\"http://hdl.handle.net/2027/uc2.ark:/13960/t75t3hx3f\" target=\"_blank\">http://hdl.handle.net/2027/uc2.ark:/13960/t75t3hx3f</a>       </td><td>0.71737   </td></tr><tr><td>The divine pedigree of man, or, The testimony of evolution a, <a href=\"http://hdl.handle.net/2027/yale.39002088677225\" target=\"_blank\">http://hdl.handle.net/2027/yale.39002088677225</a>                 </td><td>0.72567   </td></tr><tr><td>Biology,, <a href=\"http://hdl.handle.net/2027/uc2.ark:/13960/t15m63g4j\" target=\"_blank\">http://hdl.handle.net/2027/uc2.ark:/13960/t15m63g4j</a>                                                           </td><td>0.73118   </td></tr><tr><td>Biology,, <a href=\"http://hdl.handle.net/2027/uc2.ark:/13960/t8jd4rc4k\" target=\"_blank\">http://hdl.handle.net/2027/uc2.ark:/13960/t8jd4rc4k</a>                                                           </td><td>0.73723   </td></tr><tr><td>The spiritual interpretation of nature,, <a href=\"http://hdl.handle.net/2027/yale.39002088677183\" target=\"_blank\">http://hdl.handle.net/2027/yale.39002088677183</a>                                      </td><td>0.74105   </td></tr><tr><td>The spiritual interpretation of nature,, <a href=\"http://hdl.handle.net/2027/yale.39002088677183\" target=\"_blank\">http://hdl.handle.net/2027/yale.39002088677183</a>                                      </td><td>0.74300   </td></tr><tr><td>Progress of science in the century,, <a href=\"http://hdl.handle.net/2027/uc2.ark:/13960/t5p84550z\" target=\"_blank\">http://hdl.handle.net/2027/uc2.ark:/13960/t5p84550z</a>                                </td><td>0.74786   </td></tr><tr><td>The transformations of the animal world;, <a href=\"http://hdl.handle.net/2027/mdp.39015064498390\" target=\"_blank\">http://hdl.handle.net/2027/mdp.39015064498390</a>                                       </td><td>0.75750   </td></tr><tr><td>The evolution of man: a popular exposition of the principal , <a href=\"http://hdl.handle.net/2027/uc2.ark:/13960/t9d50hh52\" target=\"_blank\">http://hdl.handle.net/2027/uc2.ark:/13960/t9d50hh52</a>       </td><td>0.76363   </td></tr></table>"
       ],
       "metadata": {},
       "output_type": "pyout",
       "prompt_number": 10,
       "text": [
        "LabeledColumn([ ('The germ-plasm : a theory of heredity /, <a href=\"http://hdl.handle.net/2027/uc2.ark:/13960/t0qr4pc9z\" target=\"_blank\">http://hdl.handle.net/2027/uc2.ark:/13960/t0qr4pc9z</a>', 0.5229038225665934),\n",
        "       ('The riddle of the universe at the close of the nineteenth ce, <a href=\"http://hdl.handle.net/2027/loc.ark:/13960/t2s47h57b\" target=\"_blank\">http://hdl.handle.net/2027/loc.ark:/13960/t2s47h57b</a>', 0.6328009187934714),\n",
        "       ('The riddle of the universe at the close of the nineteenth ce, <a href=\"http://hdl.handle.net/2027/uc2.ark:/13960/t5v69b880\" target=\"_blank\">http://hdl.handle.net/2027/uc2.ark:/13960/t5v69b880</a>', 0.6329077913454879),\n",
        "       ...,\n",
        "       ('The best books: a reader\\'s guide and literary reference book, <a href=\"http://hdl.handle.net/2027/uc2.ark:/13960/t7sn0403h\" target=\"_blank\">http://hdl.handle.net/2027/uc2.ark:/13960/t7sn0403h</a>', 0.9999997712242171),\n",
        "       ('Current supplement to the catalogue of the public library of, <a href=\"http://hdl.handle.net/2027/uc2.ark:/13960/t77s7z814\" target=\"_blank\">http://hdl.handle.net/2027/uc2.ark:/13960/t77s7z814</a>', 0.9999998249440064),\n",
        "       ('Printers\\' ink., <a href=\"http://hdl.handle.net/2027/mdp.39015084381345\" target=\"_blank\">http://hdl.handle.net/2027/mdp.39015084381345</a>', 0.9999998618617741)], \n",
        "      dtype=[('doc', '|S197'), ('value', '<f8')])"
       ]
      }
     ],
     "prompt_number": 10
    },
    {
     "cell_type": "markdown",
     "metadata": {},
     "source": [
      "<hr>"
     ]
    },
    {
     "cell_type": "code",
     "collapsed": false,
     "input": [
      "# finding related topics using multiple terms\n",
      "v1.dist_word_top(['anthropomorphism', 'animal', 'psychology'])"
     ],
     "language": "python",
     "metadata": {},
     "outputs": [
      {
       "html": [
        "<table style=\"margin: 0\"><tr><th style=\"text-align: center; background: #CEE3F6\" colspan            =\"11\">Sorted by Topic Distance</th></tr><tr><th style=\"text-align: center; background: #EFF2FB;\"                     >Topic</th><th style=\"text-align: center; background: #EFF2FB;\"                     >Words</th></tr><tr><td style=\"padding-left:0.75em;\">26</td><td> consciousness, experience, p, psychology, process, individual, object, activity, relation, feeling                                   </td></tr><tr><td style=\"padding-left:0.75em;\">16</td><td> animals, evolution, life, animal, development, man, species, cells, living, theory                                    </td></tr><tr><td style=\"padding-left:0.75em;\">10</td><td> animals, water, animal, food, birds, one, leaves, insects, species, many                                      </td></tr><tr><td style=\"padding-left:0.75em;\">47</td><td> college, university, professor, school, law, work, students, degree, education, new                                       </td></tr><tr><td style=\"padding-left:0.75em;\">49</td><td> subfield, code, datafield, tag, ind2, ind1, b, d, c, controlfield                              </td></tr><tr><td style=\"padding-left:0.75em;\">1</td><td> pp, der, vol, die, de, des, und, ibid, university, la                                        </td></tr><tr><td style=\"padding-left:0.75em;\">12</td><td> child, children, first, development, movements, play, life, little, mental, mother                                    </td></tr><tr><td style=\"padding-left:0.75em;\">58</td><td> man, among, tribes, primitive, men, people, also, races, women, race                                      </td></tr><tr><td style=\"padding-left:0.75em;\">21</td><td> social, life, new, mind, upon, individual, human, mental, world, subfield                                  </td></tr><tr><td style=\"padding-left:0.75em;\">2</td><td> test, tests, age, group, children, mental, table, per, cent, number                                    </td></tr><tr><td style=\"padding-left:0.75em;\">29</td><td> fig, two, body, form, cells, animals, first, ii, side, organs                                    </td></tr><tr><td style=\"padding-left:0.75em;\">25</td><td> nature, ii, us, mr, without, life, human, natural, language, every                                     </td></tr><tr><td style=\"padding-left:0.75em;\">8</td><td> mind, consciousness, knowledge, object, perception, sense, mental, external, ideas, phenomena                                 </td></tr><tr><td style=\"padding-left:0.75em;\">20</td><td> man, moral, men, good, law, society, social, conduct, action, pleasure                                  </td></tr><tr><td style=\"padding-left:0.75em;\">45</td><td> brain, nerve, fibres, nervous, motor, nerves, sensory, cord, cells, spinal                                    </td></tr><tr><td style=\"padding-left:0.75em;\">4</td><td> acid, water, body, action, blood, food, alcohol, air, substances, work                                      </td></tr><tr><td style=\"padding-left:0.75em;\">11</td><td> motion, force, must, forces, matter, changes, us, parts, like, evolution                                 </td></tr><tr><td style=\"padding-left:0.75em;\">33</td><td> tlie, may, logic, proposition, terms, term, reasoning, meaning, propositions, argument                                  </td></tr><tr><td style=\"padding-left:0.75em;\">35</td><td> history, science, historical, work, study, philosophy, century, modern, sciences, literature                                </td></tr><tr><td style=\"padding-left:0.75em;\">31</td><td> gods, religion, p, name, see, god, india, ancient, one, worship                                   </td></tr><tr><td style=\"padding-left:0.75em;\">44</td><td> 8vo, svo, vols, c, pp, 6d, r, j, edition, dr                                        </td></tr><tr><td style=\"padding-left:0.75em;\">13</td><td> 8, c, n, rev, ed, tr, 6, v, w, dr                                        </td></tr><tr><td style=\"padding-left:0.75em;\">52</td><td> see, c, history, life, 9, also, j, ed, st, book                                      </td></tr><tr><td style=\"padding-left:0.75em;\">42</td><td> light, eye, two, eyes, visual, fig, vision, red, distance, movement                                  </td></tr><tr><td style=\"padding-left:0.75em;\">18</td><td> teacher, study, education, school, teaching, work, knowledge, pupils, method, reading                                   </td></tr><tr><td style=\"padding-left:0.75em;\">55</td><td> god, see, israel, prophet, jewish, iii, people, jews, ii, also                                      </td></tr><tr><td style=\"padding-left:0.75em;\">19</td><td> criminal, crime, number, women, criminals, prison, among, population, 1, per                                       </td></tr><tr><td style=\"padding-left:0.75em;\">51</td><td> philosophy, nature, knowledge, world, thought, idea, things, reason, truth, science                                   </td></tr><tr><td style=\"padding-left:0.75em;\">38</td><td> god, religion, life, man, religious, spirit, world, nature, spiritual, divine                                    </td></tr><tr><td style=\"padding-left:0.75em;\">40</td><td> de, la, p, vol, et, des, le, les, brissot, pp                                        </td></tr><tr><td style=\"padding-left:0.75em;\">0</td><td> b, e, wis, n, m, y, st, c, d, mrs                                       </td></tr><tr><td style=\"padding-left:0.75em;\">34</td><td> course, 2, hours, year, courses, 3, 4, students, engineering, st                                        </td></tr><tr><td style=\"padding-left:0.75em;\">6</td><td> school, schools, education, work, teachers, children, high, training, pupils, educational                               </td></tr><tr><td style=\"padding-left:0.75em;\">27</td><td> upon, like, would, though, yet, never, us, still, could, whose                                     </td></tr><tr><td style=\"padding-left:0.75em;\">59</td><td> london, c, m.a, college, professor, subfield, 0, shall, j, class                                     </td></tr><tr><td style=\"padding-left:0.75em;\">22</td><td> cases, disease, mental, patient, may, brain, nervous, case, symptoms, treatment                                 </td></tr><tr><td style=\"padding-left:0.75em;\">39</td><td> made, work, water, first, engine, time, steam, great, x, feet                                      </td></tr><tr><td style=\"padding-left:0.75em;\">56</td><td> war, german, germany, army, american, would, france, french, men, japan                                     </td></tr><tr><td style=\"padding-left:0.75em;\">7</td><td> church, jesus, christ, christian, testament, new, paul, bible, gospel, doctrine                                  </td></tr><tr><td style=\"padding-left:0.75em;\">28</td><td> one, may, would, must, time, upon, even, also, first, two                                       </td></tr><tr><td style=\"padding-left:0.75em;\">17</td><td> 1, 2, 3, 4, 5, 6, 8, 7, p, 9                                         </td></tr><tr><td style=\"padding-left:0.75em;\">41</td><td> poetry, art, english, literature, music, life, poet, work, literary, verse                                     </td></tr></table>"
       ],
       "metadata": {},
       "output_type": "pyout",
       "prompt_number": 11,
       "text": [
        "CompactTable([[('consciousness', 0.01573462914141266),\n",
        "        ('experience', 0.011910584664732592), ('p', 0.011393743421870745),\n",
        "        ..., ('excluded', 7.2590062199631514e-09),\n",
        "        ('whence', 7.2590062199631514e-09),\n",
        "        ('darkness', 7.2590062199631514e-09)],\n",
        "       [('animals', 0.012132496632905507),\n",
        "        ('evolution', 0.010839270810416975),\n",
        "        ('life', 0.009229700342289563), ...,\n",
        "        ('invagination', 1.1138895973189953e-08),\n",
        "        ('mesoblast', 1.1138895973189953e-08),\n",
        "        ('expands', 1.1138895973189953e-08)],\n",
        "       [('animals', 0.00832611372063098), ('water', 0.00816275674290704),\n",
        "        ('animal', 0.006407945458763146), ...,\n",
        "        ('folk', 1.2762263884671248e-08),\n",
        "        ('trade', 1.2762263884671248e-08), ('mg', 1.2762263884671248e-08)],\n",
        "       ..., \n",
        "       [('one', 0.0213626122295967), ('may', 0.0187744689663779),\n",
        "        ('would', 0.009787440548626649), ...,\n",
        "        ('stenography', 8.637220968518095e-10),\n",
        "        ('gems', 8.637220968518095e-10),\n",
        "        ('undoubted', 8.637220968518095e-10)],\n",
        "       [('1', 0.11055428991322785), ('2', 0.07993792004202116),\n",
        "        ('3', 0.06021466501209655), ..., ('lis', 7.246135063707952e-09),\n",
        "        ('albertus', 7.246135063707952e-09),\n",
        "        ('nevada', 7.246135063707952e-09)],\n",
        "       [('poetry', 0.009204014160687498), ('art', 0.008516274517261368),\n",
        "        ('english', 0.008026077111840618), ...,\n",
        "        ('subdivision', 9.145473981722123e-09),\n",
        "        ('everybody', 9.145473981722123e-09),\n",
        "        ('devotees', 9.145473981722123e-09)]], \n",
        "      dtype=[('word', '|S40'), ('value', '<f8')])"
       ]
      }
     ],
     "prompt_number": 11
    },
    {
     "cell_type": "markdown",
     "metadata": {},
     "source": [
      "<hr>"
     ]
    },
    {
     "cell_type": "code",
     "collapsed": false,
     "input": [
      "# finding related topics using a weighted combination of multiple terms\n",
      "v1.dist_word_top(['anthropomorphism', 'animal', 'psychology'], weights=[1, 2, 1])"
     ],
     "language": "python",
     "metadata": {},
     "outputs": [
      {
       "html": [
        "<table style=\"margin: 0\"><tr><th style=\"text-align: center; background: #CEE3F6\" colspan            =\"11\">Sorted by Topic Distance</th></tr><tr><th style=\"text-align: center; background: #EFF2FB;\"                     >Topic</th><th style=\"text-align: center; background: #EFF2FB;\"                     >Words</th></tr><tr><td style=\"padding-left:0.75em;\">26</td><td> consciousness, experience, p, psychology, process, individual, object, activity, relation, feeling                                   </td></tr><tr><td style=\"padding-left:0.75em;\">16</td><td> animals, evolution, life, animal, development, man, species, cells, living, theory                                    </td></tr><tr><td style=\"padding-left:0.75em;\">10</td><td> animals, water, animal, food, birds, one, leaves, insects, species, many                                      </td></tr><tr><td style=\"padding-left:0.75em;\">47</td><td> college, university, professor, school, law, work, students, degree, education, new                                       </td></tr><tr><td style=\"padding-left:0.75em;\">49</td><td> subfield, code, datafield, tag, ind2, ind1, b, d, c, controlfield                              </td></tr><tr><td style=\"padding-left:0.75em;\">1</td><td> pp, der, vol, die, de, des, und, ibid, university, la                                        </td></tr><tr><td style=\"padding-left:0.75em;\">12</td><td> child, children, first, development, movements, play, life, little, mental, mother                                    </td></tr><tr><td style=\"padding-left:0.75em;\">58</td><td> man, among, tribes, primitive, men, people, also, races, women, race                                      </td></tr><tr><td style=\"padding-left:0.75em;\">29</td><td> fig, two, body, form, cells, animals, first, ii, side, organs                                    </td></tr><tr><td style=\"padding-left:0.75em;\">25</td><td> nature, ii, us, mr, without, life, human, natural, language, every                                     </td></tr><tr><td style=\"padding-left:0.75em;\">21</td><td> social, life, new, mind, upon, individual, human, mental, world, subfield                                  </td></tr><tr><td style=\"padding-left:0.75em;\">2</td><td> test, tests, age, group, children, mental, table, per, cent, number                                    </td></tr><tr><td style=\"padding-left:0.75em;\">20</td><td> man, moral, men, good, law, society, social, conduct, action, pleasure                                  </td></tr><tr><td style=\"padding-left:0.75em;\">8</td><td> mind, consciousness, knowledge, object, perception, sense, mental, external, ideas, phenomena                                 </td></tr><tr><td style=\"padding-left:0.75em;\">45</td><td> brain, nerve, fibres, nervous, motor, nerves, sensory, cord, cells, spinal                                    </td></tr><tr><td style=\"padding-left:0.75em;\">4</td><td> acid, water, body, action, blood, food, alcohol, air, substances, work                                      </td></tr><tr><td style=\"padding-left:0.75em;\">11</td><td> motion, force, must, forces, matter, changes, us, parts, like, evolution                                 </td></tr><tr><td style=\"padding-left:0.75em;\">33</td><td> tlie, may, logic, proposition, terms, term, reasoning, meaning, propositions, argument                                  </td></tr><tr><td style=\"padding-left:0.75em;\">31</td><td> gods, religion, p, name, see, god, india, ancient, one, worship                                   </td></tr><tr><td style=\"padding-left:0.75em;\">35</td><td> history, science, historical, work, study, philosophy, century, modern, sciences, literature                                </td></tr><tr><td style=\"padding-left:0.75em;\">44</td><td> 8vo, svo, vols, c, pp, 6d, r, j, edition, dr                                        </td></tr><tr><td style=\"padding-left:0.75em;\">13</td><td> 8, c, n, rev, ed, tr, 6, v, w, dr                                        </td></tr><tr><td style=\"padding-left:0.75em;\">52</td><td> see, c, history, life, 9, also, j, ed, st, book                                      </td></tr><tr><td style=\"padding-left:0.75em;\">42</td><td> light, eye, two, eyes, visual, fig, vision, red, distance, movement                                  </td></tr><tr><td style=\"padding-left:0.75em;\">18</td><td> teacher, study, education, school, teaching, work, knowledge, pupils, method, reading                                   </td></tr><tr><td style=\"padding-left:0.75em;\">55</td><td> god, see, israel, prophet, jewish, iii, people, jews, ii, also                                      </td></tr><tr><td style=\"padding-left:0.75em;\">19</td><td> criminal, crime, number, women, criminals, prison, among, population, 1, per                                       </td></tr><tr><td style=\"padding-left:0.75em;\">51</td><td> philosophy, nature, knowledge, world, thought, idea, things, reason, truth, science                                   </td></tr><tr><td style=\"padding-left:0.75em;\">38</td><td> god, religion, life, man, religious, spirit, world, nature, spiritual, divine                                    </td></tr><tr><td style=\"padding-left:0.75em;\">40</td><td> de, la, p, vol, et, des, le, les, brissot, pp                                        </td></tr><tr><td style=\"padding-left:0.75em;\">0</td><td> b, e, wis, n, m, y, st, c, d, mrs                                       </td></tr><tr><td style=\"padding-left:0.75em;\">34</td><td> course, 2, hours, year, courses, 3, 4, students, engineering, st                                        </td></tr><tr><td style=\"padding-left:0.75em;\">6</td><td> school, schools, education, work, teachers, children, high, training, pupils, educational                               </td></tr><tr><td style=\"padding-left:0.75em;\">27</td><td> upon, like, would, though, yet, never, us, still, could, whose                                     </td></tr><tr><td style=\"padding-left:0.75em;\">59</td><td> london, c, m.a, college, professor, subfield, 0, shall, j, class                                     </td></tr><tr><td style=\"padding-left:0.75em;\">22</td><td> cases, disease, mental, patient, may, brain, nervous, case, symptoms, treatment                                 </td></tr><tr><td style=\"padding-left:0.75em;\">39</td><td> made, work, water, first, engine, time, steam, great, x, feet                                      </td></tr><tr><td style=\"padding-left:0.75em;\">56</td><td> war, german, germany, army, american, would, france, french, men, japan                                     </td></tr><tr><td style=\"padding-left:0.75em;\">7</td><td> church, jesus, christ, christian, testament, new, paul, bible, gospel, doctrine                                  </td></tr><tr><td style=\"padding-left:0.75em;\">28</td><td> one, may, would, must, time, upon, even, also, first, two                                       </td></tr><tr><td style=\"padding-left:0.75em;\">17</td><td> 1, 2, 3, 4, 5, 6, 8, 7, p, 9                                         </td></tr><tr><td style=\"padding-left:0.75em;\">41</td><td> poetry, art, english, literature, music, life, poet, work, literary, verse                                     </td></tr></table>"
       ],
       "metadata": {},
       "output_type": "pyout",
       "prompt_number": 12,
       "text": [
        "CompactTable([[('consciousness', 0.01573462914141266),\n",
        "        ('experience', 0.011910584664732592), ('p', 0.011393743421870745),\n",
        "        ..., ('excluded', 7.2590062199631514e-09),\n",
        "        ('whence', 7.2590062199631514e-09),\n",
        "        ('darkness', 7.2590062199631514e-09)],\n",
        "       [('animals', 0.012132496632905507),\n",
        "        ('evolution', 0.010839270810416975),\n",
        "        ('life', 0.009229700342289563), ...,\n",
        "        ('invagination', 1.1138895973189953e-08),\n",
        "        ('mesoblast', 1.1138895973189953e-08),\n",
        "        ('expands', 1.1138895973189953e-08)],\n",
        "       [('animals', 0.00832611372063098), ('water', 0.00816275674290704),\n",
        "        ('animal', 0.006407945458763146), ...,\n",
        "        ('folk', 1.2762263884671248e-08),\n",
        "        ('trade', 1.2762263884671248e-08), ('mg', 1.2762263884671248e-08)],\n",
        "       ..., \n",
        "       [('one', 0.0213626122295967), ('may', 0.0187744689663779),\n",
        "        ('would', 0.009787440548626649), ...,\n",
        "        ('stenography', 8.637220968518095e-10),\n",
        "        ('gems', 8.637220968518095e-10),\n",
        "        ('undoubted', 8.637220968518095e-10)],\n",
        "       [('1', 0.11055428991322785), ('2', 0.07993792004202116),\n",
        "        ('3', 0.06021466501209655), ..., ('lis', 7.246135063707952e-09),\n",
        "        ('albertus', 7.246135063707952e-09),\n",
        "        ('nevada', 7.246135063707952e-09)],\n",
        "       [('poetry', 0.009204014160687498), ('art', 0.008516274517261368),\n",
        "        ('english', 0.008026077111840618), ...,\n",
        "        ('subdivision', 9.145473981722123e-09),\n",
        "        ('everybody', 9.145473981722123e-09),\n",
        "        ('devotees', 9.145473981722123e-09)]], \n",
        "      dtype=[('word', '|S40'), ('value', '<f8')])"
       ]
      }
     ],
     "prompt_number": 12
    },
    {
     "cell_type": "markdown",
     "metadata": {},
     "source": [
      "<hr>"
     ]
    },
    {
     "cell_type": "code",
     "collapsed": false,
     "input": [
      "# showing documents by combined topics\n",
      "v1.dist_top_doc([10,16,26], print_len=20, label_fn=htrc_label_link_fn_1315)"
     ],
     "language": "python",
     "metadata": {},
     "outputs": [
      {
       "html": [
        "<table style=\"margin: 0\"><tr><th style=\"text-align: center; background: #CEE3F6\" colspan                    =\"2\">Topics: 10, 16, 26</th></tr><tr><th style=\"text-align: center; background: #EFF2FB; \">Document                    </th><th style=\"text-align: center; background: #EFF2FB; \">Distance                    </th></tr><tr><td>Comparative studies in the psychology of ants and of higher , <a href=\"http://hdl.handle.net/2027/uc2.ark:/13960/t6057f659\" target=\"_blank\">http://hdl.handle.net/2027/uc2.ark:/13960/t6057f659</a>       </td><td>0.64083   </td></tr><tr><td>Secrets of animal life,, <a href=\"http://hdl.handle.net/2027/uc2.ark:/13960/t7wm15g73\" target=\"_blank\">http://hdl.handle.net/2027/uc2.ark:/13960/t7wm15g73</a>                                            </td><td>0.66966   </td></tr><tr><td>Ants and some other insects; an inquiry into the psychic pow, <a href=\"http://hdl.handle.net/2027/wu.89095158218\" target=\"_blank\">http://hdl.handle.net/2027/wu.89095158218</a>                           </td><td>0.67043   </td></tr><tr><td>The colours of animals, their meaning and use, especially co, <a href=\"http://hdl.handle.net/2027/uc2.ark:/13960/t9t14w82w\" target=\"_blank\">http://hdl.handle.net/2027/uc2.ark:/13960/t9t14w82w</a>       </td><td>0.69174   </td></tr><tr><td>The colour-sense: its origin and development. An essay in co, <a href=\"http://hdl.handle.net/2027/mdp.39015009245195\" target=\"_blank\">http://hdl.handle.net/2027/mdp.39015009245195</a>                   </td><td>0.70837   </td></tr><tr><td>The foundations of normal and abnormal psychology., <a href=\"http://hdl.handle.net/2027/loc.ark:/13960/t9m33nm99\" target=\"_blank\">http://hdl.handle.net/2027/loc.ark:/13960/t9m33nm99</a>                 </td><td>0.70985   </td></tr><tr><td>The animal mind; a text-book of comparative psychology., <a href=\"http://hdl.handle.net/2027/uc2.ark:/13960/t5w66bs1h\" target=\"_blank\">http://hdl.handle.net/2027/uc2.ark:/13960/t5w66bs1h</a>            </td><td>0.71216   </td></tr><tr><td>The nature of life; a study in metaphysical analysis,, <a href=\"http://hdl.handle.net/2027/uc2.ark:/13960/t3bz6393c\" target=\"_blank\">http://hdl.handle.net/2027/uc2.ark:/13960/t3bz6393c</a>              </td><td>0.72213   </td></tr><tr><td>General zoology,, <a href=\"http://hdl.handle.net/2027/uc2.ark:/13960/t3125rr5w\" target=\"_blank\">http://hdl.handle.net/2027/uc2.ark:/13960/t3125rr5w</a>                                                   </td><td>0.72864   </td></tr><tr><td>The animal mind; a text-book of comparative psychology., <a href=\"http://hdl.handle.net/2027/uc2.ark:/13960/t7gq6st77\" target=\"_blank\">http://hdl.handle.net/2027/uc2.ark:/13960/t7gq6st77</a>            </td><td>0.72944   </td></tr><tr><td>Philosophy of the unconscious., <a href=\"http://hdl.handle.net/2027/mdp.39015065627500\" target=\"_blank\">http://hdl.handle.net/2027/mdp.39015065627500</a>                                                 </td><td>0.73135   </td></tr><tr><td>Mind in animals., <a href=\"http://hdl.handle.net/2027/mdp.39015005169357\" target=\"_blank\">http://hdl.handle.net/2027/mdp.39015005169357</a>                                                               </td><td>0.73498   </td></tr><tr><td>The germ-plasm : a theory of heredity /, <a href=\"http://hdl.handle.net/2027/uc2.ark:/13960/t0qr4pc9z\" target=\"_blank\">http://hdl.handle.net/2027/uc2.ark:/13960/t0qr4pc9z</a>                            </td><td>0.73960   </td></tr><tr><td>The soul; a study and an argument,, <a href=\"http://hdl.handle.net/2027/uc2.ark:/13960/t7kp7z924\" target=\"_blank\">http://hdl.handle.net/2027/uc2.ark:/13960/t7kp7z924</a>                                 </td><td>0.74073   </td></tr><tr><td>The spiritual interpretation of nature,, <a href=\"http://hdl.handle.net/2027/yale.39002088677183\" target=\"_blank\">http://hdl.handle.net/2027/yale.39002088677183</a>                                      </td><td>0.74176   </td></tr><tr><td>The spiritual interpretation of nature,, <a href=\"http://hdl.handle.net/2027/yale.39002088677183\" target=\"_blank\">http://hdl.handle.net/2027/yale.39002088677183</a>                                      </td><td>0.74227   </td></tr><tr><td>General biology; a book of outlines and practical studies fo, <a href=\"http://hdl.handle.net/2027/ncs1.ark:/13960/t6d21xv13\" target=\"_blank\">http://hdl.handle.net/2027/ncs1.ark:/13960/t6d21xv13</a>     </td><td>0.74557   </td></tr><tr><td>The psychic life of micro-organisms. A study in experimental, <a href=\"http://hdl.handle.net/2027/uc2.ark:/13960/t73t9h556\" target=\"_blank\">http://hdl.handle.net/2027/uc2.ark:/13960/t73t9h556</a>       </td><td>0.74678   </td></tr><tr><td>A text-book in general zoology,, <a href=\"http://hdl.handle.net/2027/uc2.ark:/13960/t52f7m354\" target=\"_blank\">http://hdl.handle.net/2027/uc2.ark:/13960/t52f7m354</a>                                    </td><td>0.74917   </td></tr><tr><td>Leisure-time studies, chiefly biological. A series of essays, <a href=\"http://hdl.handle.net/2027/uc2.ark:/13960/t3qv3dk5w\" target=\"_blank\">http://hdl.handle.net/2027/uc2.ark:/13960/t3qv3dk5w</a>       </td><td>0.75362   </td></tr></table>"
       ],
       "metadata": {},
       "output_type": "pyout",
       "prompt_number": 13,
       "text": [
        "LabeledColumn([ ('Comparative studies in the psychology of ants and of higher , <a href=\"http://hdl.handle.net/2027/uc2.ark:/13960/t6057f659\" target=\"_blank\">http://hdl.handle.net/2027/uc2.ark:/13960/t6057f659</a>', 0.6408344550903147),\n",
        "       ('Secrets of animal life,, <a href=\"http://hdl.handle.net/2027/uc2.ark:/13960/t7wm15g73\" target=\"_blank\">http://hdl.handle.net/2027/uc2.ark:/13960/t7wm15g73</a>', 0.6696592204220122),\n",
        "       ('Ants and some other insects; an inquiry into the psychic pow, <a href=\"http://hdl.handle.net/2027/wu.89095158218\" target=\"_blank\">http://hdl.handle.net/2027/wu.89095158218</a>', 0.6704328822140952),\n",
        "       ...,\n",
        "       ('Catalogue., <a href=\"http://hdl.handle.net/2027/nnc2.ark:/13960/t7mp5qv2z\" target=\"_blank\">http://hdl.handle.net/2027/nnc2.ark:/13960/t7mp5qv2z</a>', 0.9999990554163352),\n",
        "       ('Catalogue., <a href=\"http://hdl.handle.net/2027/nnc2.ark:/13960/t7mp5qv2z\" target=\"_blank\">http://hdl.handle.net/2027/nnc2.ark:/13960/t7mp5qv2z</a>', 0.9999991423890612),\n",
        "       ('Catalogue., <a href=\"http://hdl.handle.net/2027/nnc2.ark:/13960/t7mp5qv2z\" target=\"_blank\">http://hdl.handle.net/2027/nnc2.ark:/13960/t7mp5qv2z</a>', 0.9999991487966939)], \n",
        "      dtype=[('doc', '|S197'), ('value', '<f8')])"
       ]
      }
     ],
     "prompt_number": 13
    },
    {
     "cell_type": "markdown",
     "metadata": {},
     "source": [
      "<hr>"
     ]
    },
    {
     "cell_type": "heading",
     "level": 1,
     "metadata": {},
     "source": [
      "<center>Results on an 86-volume subset with <font color=\"red\">book pages</font> as documents</center>"
     ]
    },
    {
     "cell_type": "code",
     "collapsed": false,
     "input": [
      "c2 = Corpus.load('/var/inphosemantics/data/20130101/htrc-anthropomorphism-86/vsm-data/htrc-anthropomorphism-86-nltk-freq3.npz')\n",
      "\n",
      "# We will again use a 60-topic model\n",
      "m2 = LDA.load('/var/inphosemantics/data/20130101/htrc-anthropomorphism-86/vsm-data/htrc-anthropomorphism-86-nltk-freq3-LDA-K60-600.npz')\n",
      "v2 = LDAViewer(c2, m2)"
     ],
     "language": "python",
     "metadata": {},
     "outputs": [
      {
       "output_type": "stream",
       "stream": "stdout",
       "text": [
        "Loading corpus from /var/inphosemantics/data/20130101/htrc-anthropomorphism-86/vsm-data/htrc-anthropomorphism-86-nltk-freq3.npz\n",
        "Loading LDA data from"
       ]
      },
      {
       "output_type": "stream",
       "stream": "stdout",
       "text": [
        " /var/inphosemantics/data/20130101/htrc-anthropomorphism-86/vsm-data/htrc-anthropomorphism-86-nltk-freq3-LDA-K60-600.npz\n"
       ]
      }
     ],
     "prompt_number": 14
    },
    {
     "cell_type": "heading",
     "level": 3,
     "metadata": {},
     "source": [
      "    Selection of topics by single term"
     ]
    },
    {
     "cell_type": "code",
     "collapsed": false,
     "input": [
      "v2.dist_word_top(['anthropomorphism'])"
     ],
     "language": "python",
     "metadata": {},
     "outputs": [
      {
       "html": [
        "<table style=\"margin: 0\"><tr><th style=\"text-align: center; background: #CEE3F6\" colspan            =\"11\">Sorted by Topic Distance</th></tr><tr><th style=\"text-align: center; background: #EFF2FB;\"                     >Topic</th><th style=\"text-align: center; background: #EFF2FB;\"                     >Words</th></tr><tr><td style=\"padding-left:0.75em;\">18</td><td> god, religion, evolution, religious, man, human, science, world, christian, belief                       </td></tr><tr><td style=\"padding-left:0.75em;\">3</td><td> mind, man, facts, life, evolution, instinct, subjective, instincts, organic, development                  </td></tr><tr><td style=\"padding-left:0.75em;\">1</td><td> animal, animals, may, stimulus, experience, would, instinct, reaction, one, stimuli                      </td></tr><tr><td style=\"padding-left:0.75em;\">51</td><td> sense, sensation, qualities, touch, perception, sensations, extension, sight, senses, us                           </td></tr></table>"
       ],
       "metadata": {},
       "output_type": "pyout",
       "prompt_number": 15,
       "text": [
        "CompactTable([[('god', 0.020326874549248173), ('religion', 0.0158308869473332),\n",
        "        ('evolution', 0.012513064771221247), ...,\n",
        "        ('connected', 1.354213133105688e-07),\n",
        "        ('laws', 1.354213133105688e-07), ('except', 1.354213133105688e-07)],\n",
        "       [('mind', 0.021211168566072358), ('man', 0.012475673345860193),\n",
        "        ('facts', 0.010631803845785468), ...,\n",
        "        ('occasion', 1.3077088653000332e-07),\n",
        "        ('france', 1.3077088653000332e-07),\n",
        "        ('whilst', 1.3077088653000332e-07)],\n",
        "       [('animal', 0.02185593858383391), ('animals', 0.01841553391852671),\n",
        "        ('may', 0.013684977503729314), ...,\n",
        "        ('nevertheless', 1.535894939867888e-07),\n",
        "        ('expressed', 1.535894939867888e-07), ('f', 1.535894939867888e-07)],\n",
        "       [('sense', 0.019975305286265597),\n",
        "        ('sensation', 0.01689231979504448),\n",
        "        ('qualities', 0.015145294683352517), ...,\n",
        "        ('alteration', 1.2845772880076286e-07),\n",
        "        ('notions', 1.2845772880076286e-07),\n",
        "        ('longer', 1.2845772880076286e-07)]], \n",
        "      dtype=[('word', '|S27'), ('value', '<f8')])"
       ]
      }
     ],
     "prompt_number": 15
    },
    {
     "cell_type": "heading",
     "level": 3,
     "metadata": {},
     "source": [
      "Selection of topics by multiple terms"
     ]
    },
    {
     "cell_type": "code",
     "collapsed": false,
     "input": [
      "v2.dist_word_top(['anthropomorphism', 'animal'])"
     ],
     "language": "python",
     "metadata": {},
     "outputs": [
      {
       "html": [
        "<table style=\"margin: 0\"><tr><th style=\"text-align: center; background: #CEE3F6\" colspan            =\"11\">Sorted by Topic Distance</th></tr><tr><th style=\"text-align: center; background: #EFF2FB;\"                     >Topic</th><th style=\"text-align: center; background: #EFF2FB;\"                     >Words</th></tr><tr><td style=\"padding-left:0.75em;\">1</td><td> animal, animals, may, stimulus, experience, would, instinct, reaction, one, stimuli                      </td></tr><tr><td style=\"padding-left:0.75em;\">19</td><td> life, animal, nature, animals, living, may, one, every, form, forms                        </td></tr><tr><td style=\"padding-left:0.75em;\">47</td><td> animals, animal, upon, wild, man, many, one, among, food, elephant                     </td></tr><tr><td style=\"padding-left:0.75em;\">59</td><td> animals, man, dog, language, certain, animal, dogs, may, lower, many                         </td></tr><tr><td style=\"padding-left:0.75em;\">37</td><td> water, body, food, animal, mouth, surface, may, small, eggs, fish                         </td></tr><tr><td style=\"padding-left:0.75em;\">42</td><td> animals, organs, hydra, fig, one, animal, class, worms, different, body                         </td></tr><tr><td style=\"padding-left:0.75em;\">34</td><td> light, eyes, animal, eye, one, movements, sense, food, smell, reaction                     </td></tr><tr><td style=\"padding-left:0.75em;\">20</td><td> nervous, brain, nerve, system, organs, movements, action, matter, nerves, cells                        </td></tr><tr><td style=\"padding-left:0.75em;\">5</td><td> living, chemical, energy, substances, food, substance, acid, oxygen, matter, organic                      </td></tr><tr><td style=\"padding-left:0.75em;\">52</td><td> theory, evolution, man, development, life, great, history, soul, first, century                      </td></tr><tr><td style=\"padding-left:0.75em;\">3</td><td> mind, man, facts, life, evolution, instinct, subjective, instincts, organic, development                  </td></tr><tr><td style=\"padding-left:0.75em;\">17</td><td> species, forms, animals, series, evolution, one, period, groups, great, fossil                       </td></tr><tr><td style=\"padding-left:0.75em;\">45</td><td> science, study, physiology, work, upon, may, one, knowledge, many, anatomy                      </td></tr><tr><td style=\"padding-left:0.75em;\">44</td><td> p, 1, 2, 3, vol, f, c, ii, 4, 5                            </td></tr><tr><td style=\"padding-left:0.75em;\">11</td><td> cells, cell, nucleus, protoplasm, division, two, one, fig, egg, organisms                    </td></tr><tr><td style=\"padding-left:0.75em;\">38</td><td> darwin, work, theory, evolution, natural, great, history, first, century, years                        </td></tr><tr><td style=\"padding-left:0.75em;\">26</td><td> fig, layer, two, primitive, embryo, intestinal, first, form, egg, cells                        </td></tr><tr><td style=\"padding-left:0.75em;\">13</td><td> man, human, animals, mammals, birds, apes, teeth, fig, bones, found                        </td></tr><tr><td style=\"padding-left:0.75em;\">9</td><td> cells, determinants, one, must, germ-plasm, may, cell, two, case, number                       </td></tr><tr><td style=\"padding-left:0.75em;\">54</td><td> one, consciousness, action, unconscious, act, conscious, desire, may, activity, volition                     </td></tr><tr><td style=\"padding-left:0.75em;\">33</td><td> general, one, objects, analysis, two, judgment, concepts, abstract, concept, class                        </td></tr><tr><td style=\"padding-left:0.75em;\">6</td><td> subfield, datafield, code, tag, ind2, ind1, controlfield, b, c, d                            </td></tr><tr><td style=\"padding-left:0.75em;\">51</td><td> sense, sensation, qualities, touch, perception, sensations, extension, sight, senses, us                           </td></tr><tr><td style=\"padding-left:0.75em;\">58</td><td> selection, species, evolution, may, variations, natural, characters, conditions, environment, would                        </td></tr><tr><td style=\"padding-left:0.75em;\">18</td><td> god, religion, evolution, religious, man, human, science, world, christian, belief                       </td></tr><tr><td style=\"padding-left:0.75em;\">41</td><td> ants, nest, bees, birds, species, eggs, nests, ant, young, also                         </td></tr><tr><td style=\"padding-left:0.75em;\">23</td><td> one, day, would, time, could, two, little, first, long, like                         </td></tr><tr><td style=\"padding-left:0.75em;\">55</td><td> object, perception, knowledge, mind, consciousness, reid, immediate, known, external, act                          </td></tr><tr><td style=\"padding-left:0.75em;\">8</td><td> years, time, one, life, period, age, many, old, much, may                          </td></tr></table>"
       ],
       "metadata": {},
       "output_type": "pyout",
       "prompt_number": 16,
       "text": [
        "CompactTable([[('animal', 0.02185593858383391), ('animals', 0.01841553391852671),\n",
        "        ('may', 0.013684977503729314), ...,\n",
        "        ('nevertheless', 1.535894939867888e-07),\n",
        "        ('expressed', 1.535894939867888e-07), ('f', 1.535894939867888e-07)],\n",
        "       [('life', 0.027914431818059488), ('animal', 0.016025001638945678),\n",
        "        ('nature', 0.0140982560367968), ...,\n",
        "        ('based', 1.1748448793580035e-07),\n",
        "        ('pupil', 1.1748448793580035e-07), ('f', 1.1748448793580035e-07)],\n",
        "       [('animals', 0.015462821705892592),\n",
        "        ('animal', 0.012306088286505283), ('upon', 0.009060181606683307),\n",
        "        ..., ('poor', 1.7834652086917712e-07),\n",
        "        ('reversion', 1.7834652086917712e-07),\n",
        "        ('perfectly', 1.7834652086917712e-07)],\n",
        "       ..., \n",
        "       [('one', 0.015260414189906377), ('day', 0.007201956949808203),\n",
        "        ('would', 0.007083812188804931), ...,\n",
        "        ('brute', 4.9226983751318534e-08),\n",
        "        ('fish', 4.9226983751318534e-08), ('fuego', 4.9226983751318534e-08)],\n",
        "       [('object', 0.025326347196026097),\n",
        "        ('perception', 0.022886616207497136),\n",
        "        ('knowledge', 0.022631414221249337), ...,\n",
        "        ('ask', 1.0208079449902685e-07),\n",
        "        ('thomas', 1.0208079449902685e-07),\n",
        "        ('support', 1.0208079449902685e-07)],\n",
        "       [('years', 0.014879488837380703), ('time', 0.01299806417531784),\n",
        "        ('one', 0.010654346596290961), ...,\n",
        "        ('edge', 1.0750998068920868e-07),\n",
        "        ('covered', 1.0750998068920868e-07),\n",
        "        ('white', 1.0750998068920868e-07)]], \n",
        "      dtype=[('word', '|S27'), ('value', '<f8')])"
       ]
      }
     ],
     "prompt_number": 16
    },
    {
     "cell_type": "heading",
     "level": 3,
     "metadata": {},
     "source": [
      "Selection of pages by topic"
     ]
    },
    {
     "cell_type": "code",
     "collapsed": false,
     "input": [
      "v2.dist_top_doc(1, print_len=200, label_fn=htrc_label_fn_86)"
     ],
     "language": "python",
     "metadata": {},
     "outputs": [
      {
       "html": [
        "<table style=\"margin: 0\"><tr><th style=\"text-align: center; background: #CEE3F6\" colspan                    =\"2\">Topics: 1</th></tr><tr><th style=\"text-align: center; background: #EFF2FB; \">Document                    </th><th style=\"text-align: center; background: #EFF2FB; \">Distance                    </th></tr><tr><td>The animal mind, uc2.ark+=13960=t5w66bs1h/00000043.txt                                        </td><td>0.04414   </td></tr><tr><td>The animal mind, uc2.ark+=13960=t7gq6st77/00000047.txt                                        </td><td>0.04552   </td></tr><tr><td>The animal mind, uc2.ark+=13960=t7gq6st77/00000263.txt                                        </td><td>0.10360   </td></tr><tr><td>The animal mind, uc2.ark+=13960=t7gq6st77/00000016.txt                                        </td><td>0.12336   </td></tr><tr><td>The animal mind, uc2.ark+=13960=t7gq6st77/00000071.txt                                        </td><td>0.15828   </td></tr><tr><td>The animal mind, uc2.ark+=13960=t5w66bs1h/00000219.txt                                        </td><td>0.16288   </td></tr><tr><td>The animal mind, uc2.ark+=13960=t5w66bs1h/00000232.txt                                        </td><td>0.16674   </td></tr><tr><td>The animal mind, uc2.ark+=13960=t5w66bs1h/00000057.txt                                        </td><td>0.18380   </td></tr><tr><td>The animal mind, uc2.ark+=13960=t5w66bs1h/00000072.txt                                        </td><td>0.22610   </td></tr><tr><td>Mind in the low, uc2.ark+=13960=t59c6tb7t/00000179.txt                                        </td><td>0.23408   </td></tr><tr><td>The animal mind, uc2.ark+=13960=t5w66bs1h/00000044.txt                                        </td><td>0.25937   </td></tr><tr><td>The animal mind, uc2.ark+=13960=t7gq6st77/00000048.txt                                        </td><td>0.26135   </td></tr><tr><td>The animal mind, uc2.ark+=13960=t5w66bs1h/00000012.txt                                        </td><td>0.27825   </td></tr><tr><td>The animal mind, uc2.ark+=13960=t5w66bs1h/00000047.txt                                        </td><td>0.27865   </td></tr><tr><td>The animal mind, uc2.ark+=13960=t5w66bs1h/00000077.txt                                        </td><td>0.28145   </td></tr><tr><td>The animal mind, uc2.ark+=13960=t5w66bs1h/00000307.txt                                        </td><td>0.28433   </td></tr><tr><td>The animal mind, uc2.ark+=13960=t7gq6st77/00000320.txt                                        </td><td>0.28897   </td></tr><tr><td>The animal mind, uc2.ark+=13960=t7gq6st77/00000339.txt                                        </td><td>0.29511   </td></tr><tr><td>The animal mind, uc2.ark+=13960=t7gq6st77/00000064.txt                                        </td><td>0.29691   </td></tr><tr><td>The animal mind, uc2.ark+=13960=t7gq6st77/00000052.txt                                        </td><td>0.29898   </td></tr><tr><td>The animal mind, uc2.ark+=13960=t5w66bs1h/00000078.txt                                        </td><td>0.30844   </td></tr><tr><td>The animal mind, uc2.ark+=13960=t7gq6st77/00000054.txt                                        </td><td>0.31181   </td></tr><tr><td>The animal mind, uc2.ark+=13960=t5w66bs1h/00000302.txt                                        </td><td>0.31387   </td></tr><tr><td>The animal mind, uc2.ark+=13960=t5w66bs1h/00000284.txt                                        </td><td>0.31427   </td></tr><tr><td>The animal mind, uc2.ark+=13960=t7gq6st77/00000267.txt                                        </td><td>0.31507   </td></tr><tr><td>The animal mind, uc2.ark+=13960=t7gq6st77/00000268.txt                                        </td><td>0.31842   </td></tr><tr><td>The animal mind, uc2.ark+=13960=t5w66bs1h/00000221.txt                                        </td><td>0.32532   </td></tr><tr><td>The animal mind, uc2.ark+=13960=t5w66bs1h/00000048.txt                                        </td><td>0.33032   </td></tr><tr><td>The animal mind, uc2.ark+=13960=t5w66bs1h/00000050.txt                                        </td><td>0.33058   </td></tr><tr><td>The animal mind, uc2.ark+=13960=t5w66bs1h/00000251.txt                                        </td><td>0.33265   </td></tr><tr><td>The animal mind, uc2.ark+=13960=t7gq6st77/00000264.txt                                        </td><td>0.33404   </td></tr><tr><td>The animal mind, uc2.ark+=13960=t7gq6st77/00000078.txt                                        </td><td>0.33790   </td></tr><tr><td>The animal mind, uc2.ark+=13960=t5w66bs1h/00000051.txt                                        </td><td>0.34291   </td></tr><tr><td>The animal mind, uc2.ark+=13960=t7gq6st77/00000065.txt                                        </td><td>0.34814   </td></tr><tr><td>The animal mind, uc2.ark+=13960=t7gq6st77/00000306.txt                                        </td><td>0.35238   </td></tr><tr><td>The animal mind, uc2.ark+=13960=t7gq6st77/00000305.txt                                        </td><td>0.35704   </td></tr><tr><td>The animal mind, uc2.ark+=13960=t7gq6st77/00000077.txt                                        </td><td>0.35871   </td></tr><tr><td>The animal mind, uc2.ark+=13960=t7gq6st77/00000335.txt                                        </td><td>0.35934   </td></tr><tr><td>The animal mind, uc2.ark+=13960=t7gq6st77/00000341.txt                                        </td><td>0.36048   </td></tr><tr><td>The animal mind, uc2.ark+=13960=t5w66bs1h/00000289.txt                                        </td><td>0.36060   </td></tr><tr><td>The animal mind, uc2.ark+=13960=t7gq6st77/00000074.txt                                        </td><td>0.36186   </td></tr><tr><td>The animal mind, uc2.ark+=13960=t5w66bs1h/00000220.txt                                        </td><td>0.36974   </td></tr><tr><td>The animal mind, uc2.ark+=13960=t5w66bs1h/00000075.txt                                        </td><td>0.37601   </td></tr><tr><td>The animal mind, uc2.ark+=13960=t5w66bs1h/00000305.txt                                        </td><td>0.38049   </td></tr><tr><td>The animal mind, uc2.ark+=13960=t7gq6st77/00000336.txt                                        </td><td>0.38218   </td></tr><tr><td>The animal mind, uc2.ark+=13960=t5w66bs1h/00000231.txt                                        </td><td>0.38376   </td></tr><tr><td>The animal mind, uc2.ark+=13960=t5w66bs1h/00000163.txt                                        </td><td>0.38967   </td></tr><tr><td>The animal mind, uc2.ark+=13960=t7gq6st77/00000051.txt                                        </td><td>0.39403   </td></tr><tr><td>The animal mind, uc2.ark+=13960=t7gq6st77/00000045.txt                                        </td><td>0.39522   </td></tr><tr><td>The animal mind, uc2.ark+=13960=t5w66bs1h/00000041.txt                                        </td><td>0.39747   </td></tr><tr><td>The animal mind, uc2.ark+=13960=t7gq6st77/00000340.txt                                        </td><td>0.39862   </td></tr><tr><td>The animal mind, uc2.ark+=13960=t5w66bs1h/00000306.txt                                        </td><td>0.40010   </td></tr><tr><td>The animal mind, uc2.ark+=13960=t7gq6st77/00000063.txt                                        </td><td>0.40375   </td></tr><tr><td>The animal mind, uc2.ark+=13960=t5w66bs1h/00000069.txt                                        </td><td>0.40440   </td></tr><tr><td>The animal mind, uc2.ark+=13960=t7gq6st77/00000040.txt                                        </td><td>0.40806   </td></tr><tr><td>The animal mind, uc2.ark+=13960=t7gq6st77/00000321.txt                                        </td><td>0.41186   </td></tr><tr><td>The animal mind, uc2.ark+=13960=t5w66bs1h/00000058.txt                                        </td><td>0.41479   </td></tr><tr><td>The animal mind, uc2.ark+=13960=t5w66bs1h/00000063.txt                                        </td><td>0.41502   </td></tr><tr><td>The animal mind, uc2.ark+=13960=t5w66bs1h/00000049.txt                                        </td><td>0.41871   </td></tr><tr><td>The animal mind, uc2.ark+=13960=t7gq6st77/00000191.txt                                        </td><td>0.41947   </td></tr><tr><td>The animal mind, uc2.ark+=13960=t5w66bs1h/00000059.txt                                        </td><td>0.41975   </td></tr><tr><td>The animal mind, uc2.ark+=13960=t5w66bs1h/00000288.txt                                        </td><td>0.41995   </td></tr><tr><td>The animal mind, uc2.ark+=13960=t5w66bs1h/00000304.txt                                        </td><td>0.42051   </td></tr><tr><td>The animal mind, uc2.ark+=13960=t5w66bs1h/00000046.txt                                        </td><td>0.42083   </td></tr><tr><td>The animal mind, uc2.ark+=13960=t7gq6st77/00000190.txt                                        </td><td>0.42621   </td></tr><tr><td>The animal mind, uc2.ark+=13960=t7gq6st77/00000331.txt                                        </td><td>0.42648   </td></tr><tr><td>The animal mind, uc2.ark+=13960=t5w66bs1h/00000040.txt                                        </td><td>0.42672   </td></tr><tr><td>The animal mind, uc2.ark+=13960=t5w66bs1h/00000255.txt                                        </td><td>0.43000   </td></tr><tr><td>The animal mind, uc2.ark+=13960=t7gq6st77/00000022.txt                                        </td><td>0.43014   </td></tr><tr><td>The animal mind, uc2.ark+=13960=t7gq6st77/00000056.txt                                        </td><td>0.43128   </td></tr><tr><td>The animal mind, uc2.ark+=13960=t7gq6st77/00000322.txt                                        </td><td>0.43716   </td></tr><tr><td>The animal mind, uc2.ark+=13960=t5w66bs1h/00000299.txt                                        </td><td>0.43724   </td></tr><tr><td>The animal mind, uc2.ark+=13960=t5w66bs1h/00000009.txt                                        </td><td>0.43736   </td></tr><tr><td>The animal mind, uc2.ark+=13960=t7gq6st77/00000044.txt                                        </td><td>0.43881   </td></tr><tr><td>The animal mind, uc2.ark+=13960=t5w66bs1h/00000308.txt                                        </td><td>0.43893   </td></tr><tr><td>The animal mind, uc2.ark+=13960=t7gq6st77/00000053.txt                                        </td><td>0.43911   </td></tr><tr><td>The animal mind, uc2.ark+=13960=t5w66bs1h/00000074.txt                                        </td><td>0.44346   </td></tr><tr><td>General biology, uc2.ark+=13960=t0ht2h954/00000487.txt                                        </td><td>0.44860   </td></tr><tr><td>The animal mind, uc2.ark+=13960=t5w66bs1h/00000162.txt                                        </td><td>0.44993   </td></tr><tr><td>The animal mind, uc2.ark+=13960=t7gq6st77/00000055.txt                                        </td><td>0.45046   </td></tr><tr><td>The animal mind, uc2.ark+=13960=t7gq6st77/00000037.txt                                        </td><td>0.45085   </td></tr><tr><td>The animal mind, uc2.ark+=13960=t5w66bs1h/00000076.txt                                        </td><td>0.45148   </td></tr><tr><td>The animal mind, uc2.ark+=13960=t7gq6st77/00000269.txt                                        </td><td>0.45485   </td></tr><tr><td>The animal mind, uc2.ark+=13960=t7gq6st77/00000050.txt                                        </td><td>0.45593   </td></tr><tr><td>The animal mind, uc2.ark+=13960=t5w66bs1h/00000252.txt                                        </td><td>0.45641   </td></tr><tr><td>The animal mind, uc2.ark+=13960=t5w66bs1h/00000230.txt                                        </td><td>0.45878   </td></tr><tr><td>The animal mind, uc2.ark+=13960=t5w66bs1h/00000295.txt                                        </td><td>0.45961   </td></tr><tr><td>The animal mind, uc2.ark+=13960=t7gq6st77/00000013.txt                                        </td><td>0.45963   </td></tr><tr><td>The animal mind, uc2.ark+=13960=t7gq6st77/00000337.txt                                        </td><td>0.46045   </td></tr><tr><td>The animal mind, uc2.ark+=13960=t5w66bs1h/00000303.txt                                        </td><td>0.46312   </td></tr><tr><td>The animal mind, uc2.ark+=13960=t7gq6st77/00000079.txt                                        </td><td>0.46490   </td></tr><tr><td>The animal mind, uc2.ark+=13960=t7gq6st77/00000307.txt                                        </td><td>0.46683   </td></tr><tr><td>The animal mind, uc2.ark+=13960=t7gq6st77/00000084.txt                                        </td><td>0.46792   </td></tr><tr><td>The animal mind, uc2.ark+=13960=t5w66bs1h/00000031.txt                                        </td><td>0.46793   </td></tr><tr><td>The animal mind, uc2.ark+=13960=t7gq6st77/00000035.txt                                        </td><td>0.46983   </td></tr><tr><td>The animal mind, uc2.ark+=13960=t7gq6st77/00000338.txt                                        </td><td>0.47183   </td></tr><tr><td>The animal mind, uc2.ark+=13960=t7gq6st77/00000073.txt                                        </td><td>0.47203   </td></tr><tr><td>The spiritual i, yale.39002088677183/00000332.txt                                             </td><td>0.47249   </td></tr><tr><td>The animal mind, uc2.ark+=13960=t5w66bs1h/00000280.txt                                        </td><td>0.47421   </td></tr><tr><td>The animal mind, uc2.ark+=13960=t5w66bs1h/00000033.txt                                        </td><td>0.47701   </td></tr><tr><td>The animal mind, uc2.ark+=13960=t5w66bs1h/00000079.txt                                        </td><td>0.48153   </td></tr><tr><td>The animal mind, uc2.ark+=13960=t7gq6st77/00000334.txt                                        </td><td>0.48312   </td></tr><tr><td>The animal mind, uc2.ark+=13960=t5w66bs1h/00000018.txt                                        </td><td>0.48501   </td></tr><tr><td>The animal mind, uc2.ark+=13960=t7gq6st77/00000069.txt                                        </td><td>0.48512   </td></tr><tr><td>The animal mind, uc2.ark+=13960=t5w66bs1h/00000030.txt                                        </td><td>0.48512   </td></tr><tr><td>General biology, uc2.ark+=13960=t0ht2h954/00000488.txt                                        </td><td>0.48548   </td></tr><tr><td>The animal mind, uc2.ark+=13960=t7gq6st77/00000046.txt                                        </td><td>0.48697   </td></tr><tr><td>The animal mind, uc2.ark+=13960=t5w66bs1h/00000032.txt                                        </td><td>0.48780   </td></tr><tr><td>The animal mind, uc2.ark+=13960=t7gq6st77/00000049.txt                                        </td><td>0.49422   </td></tr><tr><td>The animal mind, uc2.ark+=13960=t5w66bs1h/00000038.txt                                        </td><td>0.49422   </td></tr><tr><td>The animal mind, uc2.ark+=13960=t7gq6st77/00000276.txt                                        </td><td>0.50136   </td></tr><tr><td>The animal mind, uc2.ark+=13960=t7gq6st77/00000234.txt                                        </td><td>0.50328   </td></tr><tr><td>The animal mind, uc2.ark+=13960=t5w66bs1h/00000261.txt                                        </td><td>0.50383   </td></tr><tr><td>The animal mind, uc2.ark+=13960=t5w66bs1h/00000056.txt                                        </td><td>0.50408   </td></tr><tr><td>The animal mind, uc2.ark+=13960=t7gq6st77/00000070.txt                                        </td><td>0.50443   </td></tr><tr><td>The animal mind, uc2.ark+=13960=t7gq6st77/00000042.txt                                        </td><td>0.50787   </td></tr><tr><td>The animal mind, uc2.ark+=13960=t5w66bs1h/00000062.txt                                        </td><td>0.50903   </td></tr><tr><td>The animal mind, uc2.ark+=13960=t7gq6st77/00000080.txt                                        </td><td>0.51075   </td></tr><tr><td>The animal mind, uc2.ark+=13960=t7gq6st77/00000036.txt                                        </td><td>0.51396   </td></tr><tr><td>The animal mind, uc2.ark+=13960=t5w66bs1h/00000066.txt                                        </td><td>0.51481   </td></tr><tr><td>The animal mind, uc2.ark+=13960=t5w66bs1h/00000082.txt                                        </td><td>0.51678   </td></tr><tr><td>The animal mind, uc2.ark+=13960=t7gq6st77/00000030.txt                                        </td><td>0.51717   </td></tr><tr><td>The animal mind, uc2.ark+=13960=t5w66bs1h/00000290.txt                                        </td><td>0.51780   </td></tr><tr><td>The animal mind, uc2.ark+=13960=t5w66bs1h/00000067.txt                                        </td><td>0.51879   </td></tr><tr><td>The animal mind, uc2.ark+=13960=t7gq6st77/00000266.txt                                        </td><td>0.52033   </td></tr><tr><td>The animal mind, uc2.ark+=13960=t5w66bs1h/00000134.txt                                        </td><td>0.52132   </td></tr><tr><td>The animal mind, uc2.ark+=13960=t5w66bs1h/00000293.txt                                        </td><td>0.52240   </td></tr><tr><td>The nature and , uc2.ark+=13960=t05x26n0d/00000013.txt                                        </td><td>0.52638   </td></tr><tr><td>The animal mind, uc2.ark+=13960=t7gq6st77/00000265.txt                                        </td><td>0.52818   </td></tr><tr><td>The animal mind, uc2.ark+=13960=t7gq6st77/00000075.txt                                        </td><td>0.52891   </td></tr><tr><td>The animal mind, uc2.ark+=13960=t5w66bs1h/00000285.txt                                        </td><td>0.53023   </td></tr><tr><td>The animal mind, uc2.ark+=13960=t5w66bs1h/00000045.txt                                        </td><td>0.53324   </td></tr><tr><td>The animal mind, uc2.ark+=13960=t7gq6st77/00000279.txt                                        </td><td>0.53470   </td></tr><tr><td>The animal mind, uc2.ark+=13960=t5w66bs1h/00000035.txt                                        </td><td>0.53475   </td></tr><tr><td>The animal mind, uc2.ark+=13960=t5w66bs1h/00000229.txt                                        </td><td>0.53607   </td></tr><tr><td>The animal mind, uc2.ark+=13960=t7gq6st77/00000297.txt                                        </td><td>0.53843   </td></tr><tr><td>The animal mind, uc2.ark+=13960=t7gq6st77/00000319.txt                                        </td><td>0.54170   </td></tr><tr><td>The animal mind, uc2.ark+=13960=t5w66bs1h/00000042.txt                                        </td><td>0.54345   </td></tr><tr><td>The animal mind, uc2.ark+=13960=t5w66bs1h/00000073.txt                                        </td><td>0.54530   </td></tr><tr><td>The animal mind, uc2.ark+=13960=t5w66bs1h/00000298.txt                                        </td><td>0.54591   </td></tr><tr><td>The animal mind, uc2.ark+=13960=t7gq6st77/00000192.txt                                        </td><td>0.54650   </td></tr><tr><td>General biology, uc2.ark+=13960=t0ht2h954/00000474.txt                                        </td><td>0.54832   </td></tr><tr><td>The animal mind, uc2.ark+=13960=t5w66bs1h/00000039.txt                                        </td><td>0.54855   </td></tr><tr><td>The animal mind, uc2.ark+=13960=t5w66bs1h/00000026.txt                                        </td><td>0.54952   </td></tr><tr><td>The animal mind, uc2.ark+=13960=t5w66bs1h/00000218.txt                                        </td><td>0.55102   </td></tr><tr><td>The animal mind, uc2.ark+=13960=t5w66bs1h/00000259.txt                                        </td><td>0.55254   </td></tr><tr><td>The animal mind, uc2.ark+=13960=t5w66bs1h/00000225.txt                                        </td><td>0.55260   </td></tr><tr><td>The animal mind, uc2.ark+=13960=t7gq6st77/00000019.txt                                        </td><td>0.55310   </td></tr><tr><td>The animal mind, uc2.ark+=13960=t7gq6st77/00000194.txt                                        </td><td>0.55444   </td></tr><tr><td>The principles , uc2.ark+=13960=t74t6gs0m/00000308.txt                                        </td><td>0.55450   </td></tr><tr><td>Comparative stu, uc2.ark+=13960=t6057f659/00000210.txt                                        </td><td>0.55681   </td></tr><tr><td>The animal mind, uc2.ark+=13960=t7gq6st77/00000273.txt                                        </td><td>0.55695   </td></tr><tr><td>The animal mind, uc2.ark+=13960=t7gq6st77/00000066.txt                                        </td><td>0.55701   </td></tr><tr><td>The animal mind, uc2.ark+=13960=t7gq6st77/00000043.txt                                        </td><td>0.55924   </td></tr><tr><td>The animal mind, uc2.ark+=13960=t5w66bs1h/00000015.txt                                        </td><td>0.55989   </td></tr><tr><td>The animal mind, uc2.ark+=13960=t7gq6st77/00000041.txt                                        </td><td>0.56172   </td></tr><tr><td>General biology, uc2.ark+=13960=t0ht2h954/00000471.txt                                        </td><td>0.56336   </td></tr><tr><td>The animal mind, uc2.ark+=13960=t7gq6st77/00000309.txt                                        </td><td>0.56349   </td></tr><tr><td>The animal mind, uc2.ark+=13960=t7gq6st77/00000072.txt                                        </td><td>0.56417   </td></tr><tr><td>The animal mind, uc2.ark+=13960=t7gq6st77/00000295.txt                                        </td><td>0.56444   </td></tr><tr><td>The animal mind, uc2.ark+=13960=t7gq6st77/00000275.txt                                        </td><td>0.56932   </td></tr><tr><td>Secrets of anim, uc2.ark+=13960=t7wm15g73/00000131.txt                                        </td><td>0.57033   </td></tr><tr><td>The animal mind, uc2.ark+=13960=t5w66bs1h/00000287.txt                                        </td><td>0.57033   </td></tr><tr><td>The animal mind, uc2.ark+=13960=t7gq6st77/00000262.txt                                        </td><td>0.57410   </td></tr><tr><td>A text-book in , uc2.ark+=13960=t52f7m354/00000108.txt                                        </td><td>0.57437   </td></tr><tr><td>The animal mind, uc2.ark+=13960=t5w66bs1h/00000034.txt                                        </td><td>0.57478   </td></tr><tr><td>The animal mind, uc2.ark+=13960=t7gq6st77/00000031.txt                                        </td><td>0.57502   </td></tr><tr><td>The animal mind, uc2.ark+=13960=t7gq6st77/00000015.txt                                        </td><td>0.57692   </td></tr><tr><td>Leisure-time st, uc2.ark+=13960=t3qv3dk5w/00000363.txt                                        </td><td>0.57797   </td></tr><tr><td>Comparative stu, uc2.ark+=13960=t6057f659/00000156.txt                                        </td><td>0.58022   </td></tr><tr><td>The animal mind, uc2.ark+=13960=t5w66bs1h/00000165.txt                                        </td><td>0.58047   </td></tr><tr><td>The animal mind, uc2.ark+=13960=t7gq6st77/00000304.txt                                        </td><td>0.58080   </td></tr><tr><td>The animal mind, uc2.ark+=13960=t5w66bs1h/00000016.txt                                        </td><td>0.58160   </td></tr><tr><td>The animal mind, uc2.ark+=13960=t5w66bs1h/00000300.txt                                        </td><td>0.58188   </td></tr><tr><td>The animal mind, uc2.ark+=13960=t7gq6st77/00000226.txt                                        </td><td>0.58191   </td></tr><tr><td>The animal mind, uc2.ark+=13960=t5w66bs1h/00000291.txt                                        </td><td>0.58473   </td></tr><tr><td>The animal mind, uc2.ark+=13960=t7gq6st77/00000296.txt                                        </td><td>0.58655   </td></tr><tr><td>The soul; a stu, uc2.ark+=13960=t7kp7z924/00000180.txt                                        </td><td>0.58691   </td></tr><tr><td>Progress of sci, uc2.ark+=13960=t5p84550z/00000470.txt                                        </td><td>0.59059   </td></tr><tr><td>The animal mind, uc2.ark+=13960=t5w66bs1h/00000065.txt                                        </td><td>0.59128   </td></tr><tr><td>The animal mind, uc2.ark+=13960=t7gq6st77/00000323.txt                                        </td><td>0.59185   </td></tr><tr><td>The animal mind, uc2.ark+=13960=t5w66bs1h/00000228.txt                                        </td><td>0.59216   </td></tr><tr><td>The animal mind, uc2.ark+=13960=t7gq6st77/00000314.txt                                        </td><td>0.59348   </td></tr><tr><td>The animal mind, uc2.ark+=13960=t7gq6st77/00000020.txt                                        </td><td>0.59608   </td></tr><tr><td>Education throu, uc2.ark+=13960=t7np1z11d/00000226.txt                                        </td><td>0.59760   </td></tr><tr><td>Comparative stu, uc2.ark+=13960=t6057f659/00000155.txt                                        </td><td>0.60206   </td></tr><tr><td>The animal mind, uc2.ark+=13960=t7gq6st77/00000289.txt                                        </td><td>0.60234   </td></tr><tr><td>The animal mind, uc2.ark+=13960=t5w66bs1h/00000296.txt                                        </td><td>0.60289   </td></tr><tr><td>The animal mind, uc2.ark+=13960=t7gq6st77/00000068.txt                                        </td><td>0.60289   </td></tr><tr><td>The animal mind, uc2.ark+=13960=t5w66bs1h/00000080.txt                                        </td><td>0.60468   </td></tr><tr><td>The animal mind, uc2.ark+=13960=t5w66bs1h/00000037.txt                                        </td><td>0.60479   </td></tr><tr><td>The animal mind, uc2.ark+=13960=t5w66bs1h/00000060.txt                                        </td><td>0.60608   </td></tr><tr><td>The animal mind, uc2.ark+=13960=t5w66bs1h/00000246.txt                                        </td><td>0.60737   </td></tr><tr><td>Comparative stu, uc2.ark+=13960=t6057f659/00000208.txt                                        </td><td>0.60844   </td></tr><tr><td>The spiritual i, yale.39002088677183/00000325.txt                                             </td><td>0.60917   </td></tr><tr><td>The animal mind, uc2.ark+=13960=t7gq6st77/00000288.txt                                        </td><td>0.61157   </td></tr><tr><td>Comparative stu, uc2.ark+=13960=t6057f659/00000069.txt                                        </td><td>0.61288   </td></tr><tr><td>The animal mind, uc2.ark+=13960=t5w66bs1h/00000199.txt                                        </td><td>0.61302   </td></tr><tr><td>The animal mind, uc2.ark+=13960=t7gq6st77/00000274.txt                                        </td><td>0.61373   </td></tr><tr><td>The animal mind, uc2.ark+=13960=t5w66bs1h/00000282.txt                                        </td><td>0.61465   </td></tr></table>"
       ],
       "metadata": {},
       "output_type": "pyout",
       "prompt_number": 17,
       "text": [
        "LabeledColumn([ ('The animal mind, uc2.ark+=13960=t5w66bs1h/00000043.txt', 0.04414348250950311),\n",
        "       ('The animal mind, uc2.ark+=13960=t7gq6st77/00000047.txt', 0.04551721867729864),\n",
        "       ('The animal mind, uc2.ark+=13960=t7gq6st77/00000263.txt', 0.10359712970944021),\n",
        "       ...,\n",
        "       ('A history of th, uiuo.ark+=13960=t8tb11b3m/uiuo.ark+=13960=t8tb11b3m_metadata.json.pickle', 0.9999392407958212),\n",
        "       ('Public school m, uc2.ark+=13960=t0js9wj9c/uc2.ark+=13960=t0js9wj9c_metadata.json.pickle', 0.9999449448596573),\n",
        "       ('International C, uc2.ark+=13960=t1kh0hv1d/uc2.ark+=13960=t1kh0hv1d_metadata.json.pickle', 0.9999711589833046)], \n",
        "      dtype=[('doc', '|S89'), ('value', '<f8')])"
       ]
      }
     ],
     "prompt_number": 17
    },
    {
     "cell_type": "markdown",
     "metadata": {},
     "source": [
      "<hr>"
     ]
    },
    {
     "cell_type": "heading",
     "level": 3,
     "metadata": {},
     "source": [
      "The list of pages above enables us to find the books with a large number of topic-relevant pages."
     ]
    },
    {
     "cell_type": "markdown",
     "metadata": {},
     "source": [
      "* We selected the three books with highest aggregate of 20-40 topic-relevant pages for precise argument analysis; specifically:\n",
      "    * <em>The Animal Mind: A Text-book of Comparative Psychology</em> by Margaret Floy WASHBURN, 1908\n",
      "    * <em>Comparative Studies: Psychology of Ants and of Higher Animals</em> by Eric WASMANN, 1905\n",
      "    * <em>The Principles of Heredity by  G. Archdall REID</em>, 1906\n",
      "* Argument analysis currently proceeding manually (image below)\n",
      "* Next step: to augment argument analysis with automation:\n",
      "    * Re modeling of the three volumes at the sentence level\n",
      "    * Training of other methods using human analyis plus sentence similarity"
     ]
    },
    {
     "cell_type": "heading",
     "level": 4,
     "metadata": {},
     "source": [
      "<center>Result of manual argument analysis</center>\n",
      "<center><img src=\"http://mypage.iu.edu/~colallen/Images/AnimalMindArg10.jpg\" height=\"450\" title=\"Argument Analysis\"></center>"
     ]
    },
    {
     "cell_type": "markdown",
     "metadata": {},
     "source": [
      "<hr>"
     ]
    },
    {
     "cell_type": "heading",
     "level": 1,
     "metadata": {},
     "source": [
      "<center><font color=\"red\">VERY PRELIMINARY WORK BELOW!</font><br>\n",
      "    LDA Topic Model of Margaret Floy Washburn's <em>The Animal Mind</em><br>\n",
      "    using sentences as documents </center>"
     ]
    },
    {
     "cell_type": "code",
     "collapsed": false,
     "input": [
      "# The Animal Mind (Book) as corpus with sentences as documents\n",
      "path = '/var/inphosemantics/data/20130815/htrc-sentences-t5w66bs1h/vsm-data/'\n",
      "corpus = path + 't5w66bs1h.npz'\n",
      "\n",
      "# here we load the 120-topic model\n",
      "m = LDA.load(path + 'htrc-t5w66bs1h-LDA-K120-1200.npz')\n",
      "#m1 = LDA.load('/var/inphosemantics/data/20130815/htrc-sentences-t5w66bs1h/vsm-data/htrc-t5w66bs1h-LDA-K60-1200.npz')\n",
      "#m2 = LDA.load('/var/inphosemantics/data/20130815/htrc-sentences-t5w66bs1h/vsm-data/htrc-t5w66bs1h-LDA-K80-1200.npz')\n",
      "#m3 = LDA.load('/var/inphosemantics/data/20130815/htrc-sentences-t5w66bs1h/vsm-data/htrc-t5w66bs1h-LDA-K100-1200.npz')\n",
      "v = LDAViewer(c, m)\n",
      "#v1 = LDAViewer(c, m1)\n",
      "#v2 = LDAViewer(c, m2)\n",
      "#v3 = LDAViewer(c, m3)\n",
      "\n",
      "\n",
      "c = CorpusSent.load(corpus)\n",
      "v = LDAViewer(c, m)"
     ],
     "language": "python",
     "metadata": {},
     "outputs": [
      {
       "output_type": "stream",
       "stream": "stdout",
       "text": [
        "Loading LDA data from /var/inphosemantics/data/20130815/htrc-sentences-t5w66bs1h/vsm-data/htrc-t5w66bs1h-LDA-K120-1200.npz\n",
        "Loading corpus from /var/inphosemantics/data/20130815/htrc-sentences-t5w66bs1h/vsm-data/t5w66bs1h.npz\n"
       ]
      }
     ],
     "prompt_number": 18
    },
    {
     "cell_type": "code",
     "collapsed": false,
     "input": [
      "v.topics() ## show all the topics unsorted"
     ],
     "language": "python",
     "metadata": {},
     "outputs": [
      {
       "html": [
        "<table style=\"margin: 0\"><tr><th style=\"text-align: center; background: #CEE3F6\" colspan            =\"11\">Topics Sorted by Index</th></tr><tr><th style=\"text-align: center; background: #EFF2FB;\"                     >Topic</th><th style=\"text-align: center; background: #EFF2FB;\"                     >Words</th></tr><tr><td style=\"padding-left:0.75em;\">0</td><td> j, l, f, e, cole, w, bentley, uexkull, loeb, akad                         </td></tr><tr><td style=\"padding-left:0.75em;\">1</td><td> sense, smell, hearing, taste, sight, organ, insects, fishes, sensory, study                        </td></tr><tr><td style=\"padding-left:0.75em;\">2</td><td> psychology, comparative, animal, experimental, mind, human, study, writers, psychologist, upon                         </td></tr><tr><td style=\"padding-left:0.75em;\">3</td><td> process, may, become, food, many, long, reaction, used, reduced, state                        </td></tr><tr><td style=\"padding-left:0.75em;\">4</td><td> h, c, g, f, e, m, b, j, parker, o                            </td></tr><tr><td style=\"padding-left:0.75em;\">5</td><td> body, surface, animal, food, contact, occur, solid, end, water, two                          </td></tr><tr><td style=\"padding-left:0.75em;\">6</td><td> experience, learning, animal, memory, form, individual, ideas, rapid, idea, learn                        </td></tr><tr><td style=\"padding-left:0.75em;\">7</td><td> vol, physiol, ibid, psych, nat, sci, studies, n.s, science, arts                         </td></tr><tr><td style=\"padding-left:0.75em;\">8</td><td> cilia, current, paramecium, water, swim, bodies, reaction, fact, jennings, animals                      </td></tr><tr><td style=\"padding-left:0.75em;\">9</td><td> animal, method, behavior, interpretation, methods, error, facts, anecdote, trial, experiment                   </td></tr><tr><td style=\"padding-left:0.75em;\">10</td><td> p, 1, 15, 8, 10, 4, ibid, 5, 13, 23                           </td></tr><tr><td style=\"padding-left:0.75em;\">11</td><td> sensation, different, sensations, may, consciousness, qualities, experience, quality, animal, human                        </td></tr><tr><td style=\"padding-left:0.75em;\">12</td><td> p, 17, 14, 16, 21, 22, ibid, 20, 12, 18                           </td></tr><tr><td style=\"padding-left:0.75em;\">13</td><td> pp, two, seen, already, observation, pages, ways, may, dark, rapidly                      </td></tr><tr><td style=\"padding-left:0.75em;\">14</td><td> water, sounds, case, produced, response, current, vibrations, respond, electric, react                        </td></tr><tr><td style=\"padding-left:0.75em;\">15</td><td> side, direction, toward, would, one, opposite, move, object, moved, fish                         </td></tr><tr><td style=\"padding-left:0.75em;\">16</td><td> effect, upon, body, movement, like, light, position, sides, influence, motor                        </td></tr><tr><td style=\"padding-left:0.75em;\">17</td><td> make, conditions, tell, find, behavior, study, observation, ordinary, good, careful                      </td></tr><tr><td style=\"padding-left:0.75em;\">18</td><td> placed, food, one, containing, side, fish, water, either, tank, forceps                      </td></tr><tr><td style=\"padding-left:0.75em;\">19</td><td> jour, neur, trans, leipzig, abth, und, wiss, wien, abstract, st                           </td></tr><tr><td style=\"padding-left:0.75em;\">20</td><td> bees, hive, flowers, visual, memory, bethe, back, insects, explain, smell                        </td></tr><tr><td style=\"padding-left:0.75em;\">21</td><td> reaction, negative, stimulus, mechanical, contact, may, stimulation, positive, form, response                     </td></tr><tr><td style=\"padding-left:0.75em;\">22</td><td> human, experience, animals, power, would, ideas, know, beings, mind, difference                   </td></tr><tr><td style=\"padding-left:0.75em;\">23</td><td> reaction, substances, stimuli, also, edible, gonionemus, chemical, reactions, hand, metridium                    </td></tr><tr><td style=\"padding-left:0.75em;\">24</td><td> evidence, must, distance, us, use, give, could, learning, experience, think                        </td></tr><tr><td style=\"padding-left:0.75em;\">25</td><td> animals, processes, mental, methods, visual, life, form, test, discrimination, phenomena                    </td></tr><tr><td style=\"padding-left:0.75em;\">26</td><td> r, c, acad, w, n, m, soc, v, e, yerkes                       </td></tr><tr><td style=\"padding-left:0.75em;\">27</td><td> number, found, place, romanes, years, series, mollusk, takes, cause, compartment                  </td></tr><tr><td style=\"padding-left:0.75em;\">28</td><td> wasp, nest, wasps, one, solitary, new, least, locality, flight, prey                         </td></tr><tr><td style=\"padding-left:0.75em;\">29</td><td> sensation, sense, may, specific, quality, special, reactions, accompanied, organ, organs                       </td></tr><tr><td style=\"padding-left:0.75em;\">30</td><td> one, would, probably, visual, another, greater, case, differ, true, seems                        </td></tr><tr><td style=\"padding-left:0.75em;\">31</td><td> may, term, professor, groups, whose, library, frontal, book, page, habits                       </td></tr><tr><td style=\"padding-left:0.75em;\">32</td><td> movements, dropping, useless, psychic, pleasure, idea, second, show, part, ones                         </td></tr><tr><td style=\"padding-left:0.75em;\">33</td><td> instinct, experience, cases, object, action, inhibition, instinctive, consequences, hermit, certain                      </td></tr><tr><td style=\"padding-left:0.75em;\">34</td><td> position, gravity, animal, orientation, force, animals, body, always, dead, part                         </td></tr><tr><td style=\"padding-left:0.75em;\">35</td><td> bd, ibid, cent, d, zeit, per, anz, zool, anat, physiol                      </td></tr><tr><td style=\"padding-left:0.75em;\">36</td><td> attention, stimuli, important, stimulus, upon, may, reaction, process, cases, vitally                      </td></tr><tr><td style=\"padding-left:0.75em;\">37</td><td> yerkes, made, found, used, mouse, dancing, experiments, frogs, interesting, labyrinth                    </td></tr><tr><td style=\"padding-left:0.75em;\">38</td><td> one, stimuli, two, animal, discrimination, might, given, simply, involving, first                        </td></tr><tr><td style=\"padding-left:0.75em;\">39</td><td> upon, little, light, shadow, turn, instance, bottom, many, soon, lifted                       </td></tr><tr><td style=\"padding-left:0.75em;\">40</td><td> box, cats, thorndike, dogs, put, work, cat, monkeys, experiments, get                          </td></tr><tr><td style=\"padding-left:0.75em;\">41</td><td> rats, arch, white, bd, labyrinth, watson, maze, learned, pfliigers, rat                          </td></tr><tr><td style=\"padding-left:0.75em;\">42</td><td> one, two, second, first, days, times, time, repeated, day, right                        </td></tr><tr><td style=\"padding-left:0.75em;\">43</td><td> objects, distance, reactions, perception, term, small, invertebrates, accommodation, possible, lower                        </td></tr><tr><td style=\"padding-left:0.75em;\">44</td><td> p, 3, 2, 1, 9, 5, de, 4, 11, arch                         </td></tr><tr><td style=\"padding-left:0.75em;\">45</td><td> w, u, comp, ii, untersuchungen, movements, ostwald, vii, com, claws                        </td></tr><tr><td style=\"padding-left:0.75em;\">46</td><td> spider, fork, glass, web, found, however, sound, reacted, spiders, brought                      </td></tr><tr><td style=\"padding-left:0.75em;\">47</td><td> two, kept, end, screen, degrees, swarm, vessel, spores, one, angle                        </td></tr><tr><td style=\"padding-left:0.75em;\">48</td><td> biol, new, york, inst, gen, marine, lectures, text, sitzungsber, frandsen                     </td></tr><tr><td style=\"padding-left:0.75em;\">49</td><td> made, white, food, screens, still, bethe, removed, though, bateson, displayed                    </td></tr><tr><td style=\"padding-left:0.75em;\">50</td><td> animal, body, one, side, reaction, part, end, forward, head, negative                     </td></tr><tr><td style=\"padding-left:0.75em;\">51</td><td> paper, tentacles, meat, filter, tentacle, mouth, food, fish, nagel, juice                        </td></tr><tr><td style=\"padding-left:0.75em;\">52</td><td> first, centimeters, turned, would, common, move, track, man, upon, point                        </td></tr><tr><td style=\"padding-left:0.75em;\">53</td><td> may, animal, shown, brought, yet, general, path, tendency, strong, movements                    </td></tr><tr><td style=\"padding-left:0.75em;\">54</td><td> could, von, time, two, one, buttel-reepen, says, length, number, like                         </td></tr><tr><td style=\"padding-left:0.75em;\">55</td><td> human, ideas, action, present, actions, anything, less, consciousness, lacking, according                    </td></tr><tr><td style=\"padding-left:0.75em;\">56</td><td> b, c, take, would, large, course, one, place, amoeba, might                        </td></tr><tr><td style=\"padding-left:0.75em;\">57</td><td> stimulus, first, time, contraction, suggests, upon, phenomenon, response, repeated, one                          </td></tr><tr><td style=\"padding-left:0.75em;\">58</td><td> light, phototropic, positive, negative, animals, positively, become, negatively, earthworm, time                         </td></tr><tr><td style=\"padding-left:0.75em;\">59</td><td> ant, nest, ants, paper, back, larvae, follow, little, lubbock, followed                     </td></tr><tr><td style=\"padding-left:0.75em;\">60</td><td> nervous, system, energy, upon, stimulus, stimuli, animal, effect, stimulation, need                         </td></tr><tr><td style=\"padding-left:0.75em;\">61</td><td> certain, right, toward, tendency, would, natural, position, turn, shall, animals                      </td></tr><tr><td style=\"padding-left:0.75em;\">62</td><td> der, die, und, ueber, des, iiber, zur, den, d, das                          </td></tr><tr><td style=\"padding-left:0.75em;\">63</td><td> mind, behavior, evidence, animal, structure, consciousness, animals, discrimination, certain, taken                        </td></tr><tr><td style=\"padding-left:0.75em;\">64</td><td> animals, place, days, observed, thought, every, found, says, later, follow                       </td></tr><tr><td style=\"padding-left:0.75em;\">65</td><td> one, human, us, however, far, capacity, often, made, similar, peculiar                     </td></tr><tr><td style=\"padding-left:0.75em;\">66</td><td> ideas, may, behavior, amoeba, past, stimulation, memory, present, images, consciousness                </td></tr><tr><td style=\"padding-left:0.75em;\">67</td><td> pressure, water, insects, air, theory, fish, lyon, fly, due, rheotropism                  </td></tr><tr><td style=\"padding-left:0.75em;\">68</td><td> animal, imitation, movement, attention, whether, action, learning, inferential, ideas, merely                       </td></tr><tr><td style=\"padding-left:0.75em;\">69</td><td> animals, one, reason, case, absence, must, however, conscious, becomes, consciousness                </td></tr><tr><td style=\"padding-left:0.75em;\">70</td><td> animal, stimuli, consciousness, stimulus, certain, movements, movement, would, response, external                     </td></tr><tr><td style=\"padding-left:0.75em;\">71</td><td> less, well, even, though, known, however, developed, ones, eyes, possibility                  </td></tr><tr><td style=\"padding-left:0.75em;\">72</td><td> ff, f, vision, hearing, sense, learning, chemical, spiders, insects, crustacea                    </td></tr><tr><td style=\"padding-left:0.75em;\">73</td><td> would, way, drop, water, along, currents, necessary, drawn, slightly, upon                         </td></tr><tr><td style=\"padding-left:0.75em;\">74</td><td> stimulation, reactions, light, animals, found, mechanical, sea, responses, protozoa, noted                        </td></tr><tr><td style=\"padding-left:0.75em;\">75</td><td> movements, many, series, behavior, others, stimulus, times, say, set, result                       </td></tr><tr><td style=\"padding-left:0.75em;\">76</td><td> vision, eyes, eye, simple, compound, also, insects, objects, moving, may                          </td></tr><tr><td style=\"padding-left:0.75em;\">77</td><td> image, time, without, process, memory, may, action, course, would, must                         </td></tr><tr><td style=\"padding-left:0.75em;\">78</td><td> species, different, another, one, two, various, tested, belonging, reactions, ants                         </td></tr><tr><td style=\"padding-left:0.75em;\">79</td><td> rays, ultra-violet, intensity, fact, preference, spectrum, usually, showed, thought, red                          </td></tr><tr><td style=\"padding-left:0.75em;\">80</td><td> condition, fact, upon, physiological, effect, animal, differences, hunger, due, part                         </td></tr><tr><td style=\"padding-left:0.75em;\">81</td><td> movement, perception, space, sensations, points, different, idea, spatial, one, reaction                     </td></tr><tr><td style=\"padding-left:0.75em;\">82</td><td> stimuli, animal, labyrinth, may, learning, would, learned, precisely, acquired, guided                       </td></tr><tr><td style=\"padding-left:0.75em;\">83</td><td> english, power, sparrow, evidence, conclusion, fig, cowbird, favor, roy, pigeon                       </td></tr><tr><td style=\"padding-left:0.75em;\">84</td><td> light, away, movements, toward, region, rest, due, source, either, movement                     </td></tr><tr><td style=\"padding-left:0.75em;\">85</td><td> animals, animal, lower, forms, higher, life, mental, mind, must, seen                         </td></tr><tr><td style=\"padding-left:0.75em;\">86</td><td> ants, nest, ant, bethe, forel, though, wasmann, thinks, found, paper                        </td></tr><tr><td style=\"padding-left:0.75em;\">87</td><td> les, la, de, sur, des, et, chez, du, mouvements, dans                         </td></tr><tr><td style=\"padding-left:0.75em;\">88</td><td> way, others, finding, however, apparently, back, take, home, much, hand                         </td></tr><tr><td style=\"padding-left:0.75em;\">89</td><td> various, soon, cause, surface, sense, bohn, air, decidedly, living, high                         </td></tr><tr><td style=\"padding-left:0.75em;\">90</td><td> box, opening, string, door, pulling, wire, seen, get, came, flies                        </td></tr><tr><td style=\"padding-left:0.75em;\">91</td><td> vol, bull, zool, psych, london, rev, harvard, exp, soc, nature                       </td></tr><tr><td style=\"padding-left:0.75em;\">92</td><td> negative, water, positive, light, observed, made, geotropism, response, effect, larvae                       </td></tr><tr><td style=\"padding-left:0.75em;\">93</td><td> experience, thus, attention, processes, conscious, individual, external, may, capable, long                         </td></tr><tr><td style=\"padding-left:0.75em;\">94</td><td> morgan, p, lloyd, chick, case, dog, example, one, merely, instinct                     </td></tr><tr><td style=\"padding-left:0.75em;\">95</td><td> sense, chemical, smell, evidence, food, variety, qualitative, worms, whole, little                       </td></tr><tr><td style=\"padding-left:0.75em;\">96</td><td> shall, chapter, later, see, seems, psychic, aspect, general, discussed, subject                      </td></tr><tr><td style=\"padding-left:0.75em;\">97</td><td> light, intensity, effect, changes, direction, illumination, temperature, reactions, sudden, response                     </td></tr><tr><td style=\"padding-left:0.75em;\">98</td><td> function, fish, equilibrium, canals, cut, organs, static, found, fishes, 27                           </td></tr><tr><td style=\"padding-left:0.75em;\">99</td><td> etc, ii, reactions, studies, organisms, lower, class, behavior, certain, iii                          </td></tr><tr><td style=\"padding-left:0.75em;\">100</td><td> orientation, gravity, light, force, influence, responses, forces, seem, geotropism, orientations                 </td></tr><tr><td style=\"padding-left:0.75em;\">101</td><td> stimulus, reaction, animal, may, one, forms, behavior, stimulation, another, repeated                     </td></tr><tr><td style=\"padding-left:0.75em;\">102</td><td> several, observed, times, tendency, certain, 1, powers, made, six, others                       </td></tr><tr><td style=\"padding-left:0.75em;\">103</td><td> food, bell, toward, mouth, course, manubrium, movement, tentacles, point, feeding                      </td></tr><tr><td style=\"padding-left:0.75em;\">104</td><td> stimulation, reactions, mechanical, chemical, contact, animal, response, food, responses, reaction                     </td></tr><tr><td style=\"padding-left:0.75em;\">105</td><td> light, intensity, orientation, direction, animal, phototaxis, points, photopathy, theory, rays                         </td></tr><tr><td style=\"padding-left:0.75em;\">106</td><td> method, habit, labyrinth, kind, experiments, formation, learning, second, puzzle-box, behavior                     </td></tr><tr><td style=\"padding-left:0.75em;\">107</td><td> organs, insects, sense, function, structures, auditory, antennae, hearing, small, evidence                     </td></tr><tr><td style=\"padding-left:0.75em;\">108</td><td> animal, reactions, kingdom, objects, determined, perception, latter, space, sense, spatially                    </td></tr><tr><td style=\"padding-left:0.75em;\">109</td><td> red, blue, color, white, green, brightness, colors, food, light, different                    </td></tr><tr><td style=\"padding-left:0.75em;\">110</td><td> one, learned, cards, two, raccoons, monkeys, kinnaman, card, birds, porter                       </td></tr><tr><td style=\"padding-left:0.75em;\">111</td><td> light, found, skin, eyes, many, although, reaction, marked, sensitiveness, darkness                     </td></tr><tr><td style=\"padding-left:0.75em;\">112</td><td> end, middle, downward, head, upward, glass, tube, two, worm, posterior                    </td></tr><tr><td style=\"padding-left:0.75em;\">113</td><td> reactions, stimuli, reference, behavior, paramecium, habits, concerning, notes, facts, movements                    </td></tr><tr><td style=\"padding-left:0.75em;\">114</td><td> different, reactions, stimulus, stimuli, point, definite, degrees, applied, certain, body                         </td></tr><tr><td style=\"padding-left:0.75em;\">115</td><td> experiments, method, results, color, similar, used, discrimination, obtained, made, graber                       </td></tr><tr><td style=\"padding-left:0.75em;\">116</td><td> eye, pigment, light, spot, fibres, retina, lens, back, layer, formed                       </td></tr><tr><td style=\"padding-left:0.75em;\">117</td><td> p, paris, 6, 7, psych, biol, sci, 2, 4, 24                           </td></tr><tr><td style=\"padding-left:0.75em;\">118</td><td> odor, ants, smell, queen, species, stock, nest, young, fielde, foreign                      </td></tr><tr><td style=\"padding-left:0.75em;\">119</td><td> f, ff, 10, wiss, n, 8, whatsoever, thought, keeble, neur                         </td></tr></table>"
       ],
       "metadata": {},
       "output_type": "pyout",
       "prompt_number": 19,
       "text": [
        "CompactTable([[('j', 0.15060020345881103), ('l', 0.10990844354019147),\n",
        "        ('f', 0.08142421159715776), ..., ('first', 4.0691759918611484e-05),\n",
        "        ('negative', 4.0691759918611484e-05),\n",
        "        ('de', 4.0691759918611484e-05)],\n",
        "       [('sense', 0.1081311098332427), ('smell', 0.06672800460034824),\n",
        "        ('hearing', 0.036825761932146685), ...,\n",
        "        ('learned', 2.300172512938124e-05),\n",
        "        ('learning', 2.300172512938124e-05),\n",
        "        ('whether', 2.300172512938124e-05)],\n",
        "       [('psychology', 0.09341715312079538),\n",
        "        ('comparative', 0.06288280197575555),\n",
        "        ('animal', 0.04851369555456033), ...,\n",
        "        ('larvae', 1.796138302649044e-05),\n",
        "        ('water', 1.796138302649044e-05),\n",
        "        ('experience', 1.796138302649044e-05)],\n",
        "       ..., \n",
        "       [('p', 0.24106788710909163), ('paris', 0.10987032799390445),\n",
        "        ('6', 0.08546147978642776), ..., ('e', 3.0511060259339795e-05),\n",
        "        ('ff', 3.0511060259339795e-05), ('3', 3.0511060259339795e-05)],\n",
        "       [('odor', 0.06871207784774219), ('ants', 0.06413279908414724),\n",
        "        ('smell', 0.06413279908414724), ...,\n",
        "        ('dogs', 2.2896393817970184e-05),\n",
        "        ('toward', 2.2896393817970184e-05),\n",
        "        ('behavior', 2.2896393817970184e-05)],\n",
        "       [('f', 0.3912357846854004), ('ff', 0.16075815011373593),\n",
        "        ('10', 0.0273237300985618), ..., ('ideas', 3.0326004548897186e-05),\n",
        "        ('vision', 3.0326004548897186e-05),\n",
        "        ('learning', 3.0326004548897186e-05)]], \n",
        "      dtype=[('word', '|S27'), ('value', '<f8')])"
       ]
      }
     ],
     "prompt_number": 19
    },
    {
     "cell_type": "markdown",
     "metadata": {},
     "source": [
      "<hr>"
     ]
    },
    {
     "cell_type": "heading",
     "level": 3,
     "metadata": {},
     "source": [
      "Can we use this to find sentences?  We don't really know... but here goes!"
     ]
    },
    {
     "cell_type": "code",
     "collapsed": false,
     "input": [
      "# some hacks to do something that is not yet in the library (code under development)\n",
      "# return sentence index, if there are multiple occurrences of the sentence,\n",
      "# then return a list of indices.\n",
      "def sent_int(sent):\n",
      "    \"\"\"\n",
      "    sent : list of strings\n",
      "        List of sentence tokenization.\n",
      "        The list could be a subset of existing sentence tokenization.\n",
      "    \"\"\"\n",
      "    tok = c.view_contexts('sentence', as_strings=True)\n",
      "    sent_li = []\n",
      "    for i in xrange(len(tok)):\n",
      "        sent_li.append(sent)\n",
      "    keys = [i for i in xrange(len(tok)) if set(sent_li[i]).issubset(tok[i].tolist())]\n",
      "    print keys\n",
      "    n = len(keys)\n",
      "    if n == 0:\n",
      "        raise Exception('No token fits that description.')\n",
      "    elif n > 1:\n",
      "        return keys\n",
      "    return keys[0]\n",
      "    \n",
      "def sent_label_fn(metadata):\n",
      "    print metadata.dtype, len(c.sentences)\n",
      "    labels = []\n",
      "    for i in metadata['sent_label']:\n",
      "        try:\n",
      "            labels.append(c.sentences[int(i)])\n",
      "        except:\n",
      "            print i\n",
      "    \n",
      "    return np.array(labels)\n",
      "\n",
      "def sim_sent_sent(sent, print_len=10):\n",
      "    \"\"\"\n",
      "    sent : sentence index or sentence as a list of words\n",
      "\n",
      "    Returns\n",
      "    -------\n",
      "    sim_sents : numpy array\n",
      "        (sentence index, probability) as (i, value) pair.\n",
      "    tokenized_sents : list of arrays\n",
      "        List containing tokenized sentences as arrays.\n",
      "    orig_sents : list of strings\n",
      "        List containing original sentences as strings.\n",
      "    \"\"\"\n",
      "    ind = sent\n",
      "    if isinstance(sent, list) and isinstance(sent[0], str):\n",
      "        ind = sent_int(sent)\n",
      "\n",
      "    sim_sents =  v.dist_doc_doc(ind, print_len=print_len, as_strings=True, label_fn=sent_label_fn)\n",
      "    return sim_sents"
     ],
     "language": "python",
     "metadata": {},
     "outputs": [],
     "prompt_number": 20
    },
    {
     "cell_type": "markdown",
     "metadata": {},
     "source": [
      "<hr>"
     ]
    },
    {
     "cell_type": "code",
     "collapsed": false,
     "input": [
      "#display the word list for a single sentence\n",
      "my_sentence = c.view_contexts('sentence', as_strings=True)[4152]\n",
      "my_sentence\n",
      "type(c.sentences)"
     ],
     "language": "python",
     "metadata": {},
     "outputs": [
      {
       "metadata": {},
       "output_type": "pyout",
       "prompt_number": 21,
       "text": [
        "numpy.ndarray"
       ]
      }
     ],
     "prompt_number": 21
    },
    {
     "cell_type": "code",
     "collapsed": false,
     "input": [
      "# VERY EXPERIMENTAL RESULTS -- METHODS NEED FURTHER REFINEMENT!\n",
      "# find similar sentences\n",
      "# Better results may be obtained using different number of topics, and other methods for ranking results\n",
      "#tok_sents, orig_sents, sim_sents = sim_sent_sent(['animal', 'lasting', 'appears', 'result', 'getting'], print_len=15)\n",
      "#tok_sents, orig_sents, sim_sents = sim_sent_sent(my_sentence, print_len=15)\n",
      "#tok_sents, orig_sents, \n",
      "sim_sents = sim_sent_sent(['every', 'statement', 'another', 'possesses', 'psychic','qualities', 'conclusion', 'analogy', 'certainty', 'matter', 'faith'], print_len=15)"
     ],
     "language": "python",
     "metadata": {},
     "outputs": [
      {
       "output_type": "stream",
       "stream": "stdout",
       "text": [
        "[4152]\n",
        "[('idx', '<i4'), ('article_label', '|S19'), ('sent_label', '|S8')]"
       ]
      },
      {
       "output_type": "stream",
       "stream": "stdout",
       "text": [
        " 6935\n"
       ]
      }
     ],
     "prompt_number": 22
    },
    {
     "cell_type": "markdown",
     "metadata": {},
     "source": [
      "<hr>"
     ]
    },
    {
     "cell_type": "heading",
     "level": 3,
     "metadata": {},
     "source": [
      "What did we get? -- tokenized sentences (word lists) followed by original text..."
     ]
    },
    {
     "cell_type": "code",
     "collapsed": false,
     "input": [
      "#tok_sents"
     ],
     "language": "python",
     "metadata": {},
     "outputs": [],
     "prompt_number": 23
    },
    {
     "cell_type": "code",
     "collapsed": false,
     "input": [
      "sim_sents"
     ],
     "language": "python",
     "metadata": {},
     "outputs": [
      {
       "html": [
        "<table style=\"margin: 0\"><tr><th style=\"text-align: center; background: #CEE3F6\" colspan                    =\"2\">Documents: </th></tr><tr><th style=\"text-align: center; background: #EFF2FB; \">Document                          </th><th style=\"text-align: center; background: #EFF2FB; \">Distance                          </th></tr><tr><td>Every statement that another being possesses \n",
        " psychic qualities is a conclusion from analogy, not a certainty; it is a matter of faith.                                                                                                                                                                                                                                                                                                                                                                                                                                                                                                                                                                                                     </td><td>0.00000   </td></tr><tr><td>Again, a bodily structure entirely unlike our own \n",
        " must create a background of organic sensation which renders \n",
        " the whole mental life of an animal foreign and unfamiliar to \n",
        " us.                                                                                                                                                                                                                                                                                                                                                                                                                                                                                                                                                         </td><td>0.54980   </td></tr><tr><td>Fancy, for example, one of us entering a \n",
        " room in the dark and groping about among the furniture.                                                                                                                                                                                                                                                                                                                                                                                                                                                                                                                                                                                                                                           </td><td>0.58367   </td></tr><tr><td>If any consciousness \n",
        " accompanies it, then the nearest human analogy to such \n",
        " consciousness is to be found in organic sensations, and these, \n",
        " as has just been said, must necessarily be in the human mind \n",
        " wholly different in quality from anything to be found in an \n",
        " animal whose structure is as simple as the Amoeba's.                                                                                                                                                                                                                                                                                                                                                                                                           </td><td>0.59338   </td></tr><tr><td>; learning, 208, \n",
        " \n",
        " 214.                                                                                                                                                                                                                                                                                                                                                                                                                                                                                                                                                                                                                                                                                                                    </td><td>0.61271   </td></tr><tr><td>On the other \n",
        " \n",
        "1).                                                                                                                                                                                                                                                                                                                                                                                                                                                                                                                                                                                                                                                                                                                          </td><td>0.61271   </td></tr><tr><td>Caterpillars, 192, 196.                                                                                                                                                                                                                                                                                                                                                                                                                                                                                                                                                                                                                                                                                                                      </td><td>0.61271   </td></tr><tr><td>Dytiscus, 86.                                                                                                                                                                                                                                                                                                                                                                                                                                                                                                                                                                                                                                                                                                                                </td><td>0.61271   </td></tr><tr><td>Burnett, 126, 170.                                                                                                                                                                                                                                                                                                                                                                                                                                                                                                                                                                                                                                                                                                                           </td><td>0.61271   </td></tr><tr><td>Murbach, 107, 158.                                                                                                                                                                                                                                                                                                                                                                                                                                                                                                                                                                                                                                                                                                                           </td><td>0.61271   </td></tr><tr><td>Willem, 130, 192.                                                                                                                                                                                                                                                                                                                                                                                                                                                                                                                                                                                                                                                                                                                            </td><td>0.61271   </td></tr><tr><td>This, of \n",
        " course, does not refer to the power to judge distance.                                                                                                                                                                                                                                                                                                                                                                                                                                                                                                                                                                                                                                                                            </td><td>0.63054   </td></tr><tr><td>This much evidence there is for saying that besideTV \n",
        " a possible food sensation, the Amoeba may have some dim K \n",
        " awareness of affective qualities corresponding to pleasantness J I/ \n",
        " and unpleasantness in ourselves.                                                                                                                                                                                                                                                                                                                                                                                                                                                                                                                    </td><td>0.64563   </td></tr><tr><td>And that is all we know of the matter.                                                                                                                                                                                                                                                                                                                                                                                                                                                                                                                                                                                                                                                                                                       </td><td>0.64865   </td></tr><tr><td>f sensation.                                                                                                                                                                                                                                                                                                                                                                                                                                                                                                                                                                                                                                                                                                                                 </td><td>0.64865   </td></tr></table>"
       ],
       "metadata": {},
       "output_type": "pyout",
       "prompt_number": 24,
       "text": [
        "LabeledColumn([ ('Every statement that another being possesses \\n psychic qualities is a conclusion from analogy, not a certainty; it is a matter of faith.', 0.0),\n",
        "       ('Again, a bodily structure entirely unlike our own \\n must create a background of organic sensation which renders \\n the whole mental life of an animal foreign and unfamiliar to \\n us.', 0.5497955537193292),\n",
        "       ('Fancy, for example, one of us entering a \\n room in the dark and groping about among the furniture.', 0.5836728210538075),\n",
        "       ...,\n",
        "       ('Yet this much may be said for the combination of \\n proof from structure and behavior involved in the Method \\n of Extirpation, if we may so call it : where an animal reacts \\n to a certain stimulus, for instance light, when a sense organ is \\n intact, and fails to react to light, though otherwise normal, \\n when the organ is removed, there arises a possibility that light \\n \\n 1 One of many reasons for the unsatisfactoriness of a recent article by A. \\n Olzelt-Newin, entitled \" Beobachtungen iiber das Leben der Protozoen\" \\n (299), lies in the author\\'s uncritical acceptance of the hypothesis that reaction to a special kind of stimulus means a special kind of sensation.', 0.9674553640100924),\n",
        "       ('In Protozoa, although attempts have been made to show that \\n orientation is produced by the direct effects of light on symmetrical points, according to the observations of Jennings \\n (206) and Mast (261), it seems to be due to negative reactions \\n given when the organism, in its ordinary swimming movements, either passes into a region of greater or less illumination, or swings its anterior end \" to ward or away from the \\n source of light, so that it is shaded at one moment and strongly \\n lighted at the next.', 0.9675508808451388),\n",
        "       ('The attraction of the dark screens \\n \\n screens \\n \\n \\n one in which the object was moved ; if it was heading somewhat in the opposite direction already, it would turn farther \\n in that direction until parallel with the object\\'s line of motion ; \\n if it was heading somewhat in the same direction as the object, \\n it would \"back off hesitatingly,\" and reverse itself by a turn \\n in either direction, usually taking the way around toward \\n which it was already partially headed, if the object was rapidly \\n moved, but the other way around if the object\\'s motion was \\n slow.', 0.968631956495105)], \n",
        "      dtype=[('doc', '|S712'), ('value', '<f8')])"
       ]
      }
     ],
     "prompt_number": 24
    },
    {
     "cell_type": "heading",
     "level": 3,
     "metadata": {},
     "source": [
      "<center>Not great! Not bad?!</center>"
     ]
    },
    {
     "cell_type": "markdown",
     "metadata": {},
     "source": [
      "<hr>"
     ]
    },
    {
     "cell_type": "markdown",
     "metadata": {},
     "source": [
      "<center><a href=\"https://inpho.cogs.indiana.edu/\" target=\"_other\"><img src=\"https://inpho.cogs.indiana.edu/img/newlogo.png\" height=\"175\"></a></center>\n",
      "<center>Visit us at <a href=\"https://inpho.cogs.indiana.edu/\" target=\"_other\">https://inpho.cogs.indiana.edu/</a></center>"
     ]
    },
    {
     "cell_type": "markdown",
     "metadata": {},
     "source": [
      "<center>Credits</center>\n",
      "\n",
      "* <b>The InPhO Group: Robert Rose, Jaimie Murdock, Jun Otsuka, Doori Lee, Colin Allen</b>\n",
      "* Digging by Debating Collaborators: Katy B\u00f6rner (IU), Robert Light (IU), Andrew Ravenscroft (UEL), Simon McAlister (UEL), Chris Reed (Dundee), John Lawrence (Dundee), David Bourget (UWO)\n",
      "* Hathi Trust Research Center: Beth Plale (IU) et al."
     ]
    }
   ],
   "metadata": {}
  }
 ]
}