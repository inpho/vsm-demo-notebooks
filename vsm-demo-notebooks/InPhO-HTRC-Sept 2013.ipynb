{
 "metadata": {
  "name": "InPhO-HTRC-Sept 2013"
 },
 "nbformat": 3,
 "nbformat_minor": 0,
 "worksheets": [
  {
   "cells": [
    {
     "cell_type": "heading",
     "level": 1,
     "metadata": {},
     "source": [
      "<center><img src=\"https://inpho.cogs.indiana.edu/img/newlogo.png\" height=\"75\">\n",
      "    <img src=\"http://a0.twimg.com/profile_images/128419119/hathi_logo.jpg\"> \n",
      "    <img src=\"http://ivl.cns.iu.edu/images/IVLforweb.jpg\" height=\"75\">\n",
      "</center>\n",
      "<center>InPhO and HathiTrust: Digging for Philosophy in the Sciences</center>"
     ]
    },
    {
     "cell_type": "markdown",
     "metadata": {},
     "source": [
      "<center>\n",
      "    <img src=\"http://mypage.iu.edu/~colallen/Images/JCDL2013.jpg\">\n",
      "</center>\n",
      "<center>\n",
      "        Image presented by Murdock, Light, B\u00f6rner and Allen at JCDL 2013.\n",
      "</center>"
     ]
    },
    {
     "cell_type": "markdown",
     "metadata": {},
     "source": [
      "* In this presentation we show our modeling efforts on a selection of books from the HathiTrust collection\n",
      "* 1315 volumes were selected using a keyword search for 'darwin', 'romanes', 'anthropomorphism', and 'comparative psychology'\n",
      "    * This set contains lots of books that are not of particular interest to us -- e.g., books on theology, college course catalogs\n",
      "* Challenge: To find the needles (philosophical arguments) in the haystack (too much to read even the metadata)\n",
      "    * BEAGLE and LDA Topic Models trained on the full 1315 volume set\n",
      "    * LDA Models of 86 volume subset\n",
      "    * Further exploration of individual book models towards the goal of mapping philosophical arguments\n",
      "\n",
      "<em>[Note: This presentation is constructed using iPy Notebook (ipynb), which allows live interaction via the Python programming language with our server.  If time permits, we'll demonstrate some of those interactive possibilities at the end of the presentation or during the Q&amp;A.  Notebooks are also archivable object that with appropriate metadata could be used by others to replicate and build upon previous experiments.]</em>"
     ]
    },
    {
     "cell_type": "heading",
     "level": 4,
     "metadata": {},
     "source": [
      "Loading the Corpus and Modelling Libraries for 1315 volumes"
     ]
    },
    {
     "cell_type": "code",
     "collapsed": false,
     "input": [
      "# loading the corpus libraries\n",
      "from vsm.corpus import Corpus\n",
      "from vsm.extensions.ldasentences import CorpusSent # includes sentences attribute, empty 'docs' not removed.\n",
      "\n",
      "# BEAGLE generic libraries\n",
      "from vsm.model.beaglecomposite import BeagleComposite\n",
      "from vsm.viewer.beagleviewer import BeagleViewer\n",
      "\n",
      "# LDA generic libraries\n",
      "from vsm.model.ldagibbs import LDAGibbs as LDA\n",
      "from vsm.viewer.ldagibbsviewer import LDAGibbsViewer as LDAViewer\n",
      "\n",
      "# HTRC specific label functions\n",
      "from vsm.extensions.htrc import htrc_label_fn_1315, htrc_label_fn_86, htrc_label_link_fn_1315"
     ],
     "language": "python",
     "metadata": {},
     "outputs": [],
     "prompt_number": 36
    },
    {
     "cell_type": "heading",
     "level": 1,
     "metadata": {},
     "source": [
      "<center>Modeling with BEAGLE</center>"
     ]
    },
    {
     "cell_type": "markdown",
     "metadata": {},
     "source": [
      "* <strong>Beagle</strong> is a semantic space model (by Jones and Mewhort 2007):\n",
      "* it represents <b>words</b> as <b>vectors in a multidimensional space</b> (number of dimensions is a parameter of the model)\n",
      "* The Beagle model has <b>two components</b>:\n",
      "    * <b>Order</b>: sensitive to word position in sentences\n",
      "    * <b>Context</b>: sensitive to co-occurring words in sentences\n",
      "    * These components can be combined into a <b>Composite</b> model as a weighted blend of the order and context\n",
      "    * <b>Similarities</b> between words in Beagle can be computed using <b>cosine</b> between the corresponding word vectors (or <b>arccos</b> if a proper metric is preferred)\n",
      "    * Beagle predicts human semantic similarity judgments in psychological experiments better than other semantic models, such as standard LSA\n",
      "\n",
      "Here we load the corpus files and two of the Composite blends...\n"
     ]
    },
    {
     "cell_type": "code",
     "collapsed": false,
     "input": [
      "# common corpus for Beagle models\n",
      "data_path = '/var/inphosemantics/data/20130101/'\\\n",
      "            'htrc-anthropomorphism-1315/vsm-data/'\n",
      "c = Corpus.load(data_path + 'hathi-1315-nltk-jones-freq3.npz')"
     ],
     "language": "python",
     "metadata": {},
     "outputs": [
      {
       "output_type": "stream",
       "stream": "stdout",
       "text": [
        "Loading corpus from /var/inphosemantics/data/20130101/htrc-anthropomorphism-1315/vsm-data/hathi-1315-nltk-jones-freq3.npz\n"
       ]
      }
     ],
     "prompt_number": 37
    },
    {
     "cell_type": "code",
     "collapsed": false,
     "input": [
      "# 50:50 and 70:30 blend models loaded and viewers initiated\n",
      "m50 = BeagleComposite.load(data_path + 'hathi-1315-nltk-jones-freq3-beaglecomp-50.npz')\n",
      "m70 = BeagleComposite.load(data_path + 'hathi-1315-nltk-jones-freq3-beaglecomp-70.npz')\n",
      "v50 = BeagleViewer(c,m50)\n",
      "v70 = BeagleViewer(c,m70)"
     ],
     "language": "python",
     "metadata": {},
     "outputs": [
      {
       "output_type": "stream",
       "stream": "stdout",
       "text": [
        "Loading model from /var/inphosemantics/data/20130101/htrc-anthropomorphism-1315/vsm-data/hathi-1315-nltk-jones-freq3-beaglecomp-50.npz\n",
        "Loading model from"
       ]
      },
      {
       "output_type": "stream",
       "stream": "stdout",
       "text": [
        " /var/inphosemantics/data/20130101/htrc-anthropomorphism-1315/vsm-data/hathi-1315-nltk-jones-freq3-beaglecomp-70.npz\n"
       ]
      }
     ],
     "prompt_number": 38
    },
    {
     "cell_type": "heading",
     "level": 2,
     "metadata": {},
     "source": [
      "<center>Simlarity to 'Darwin' in the 50:50 Composite Model</center>"
     ]
    },
    {
     "cell_type": "markdown",
     "metadata": {},
     "source": [
      "Note that this model finds names really well. (The pure order model does even better.)"
     ]
    },
    {
     "cell_type": "code",
     "collapsed": false,
     "input": [
      "number_of_items = 40 # used to set a display limit for several cells below\n",
      "l50=v50.sim_word_word(['darwin'], print_len=number_of_items) # similar to 'darwin' from 50:50 (context:order) Beagle model\n",
      "l50"
     ],
     "language": "python",
     "metadata": {},
     "outputs": [
      {
       "html": [
        "<table style=\"margin: 0\"><tr><th style=\"text-align: center; background: #CEE3F6\" colspan\t\t        =\"2\">Words: darwin</th></tr><tr><th style=\"text-align: center; background: #EFF2FB; \">Word\t\t\t</th><th style=\"text-align: center; background: #EFF2FB; \">Value\t\t\t</th></tr><tr><td>darwin                                       </td><td>0.00000   </td></tr><tr><td>spencer                                      </td><td>0.96336   </td></tr><tr><td>gladstone                                    </td><td>0.99297   </td></tr><tr><td>huxley                                       </td><td>1.02383   </td></tr><tr><td>mcdougall                                    </td><td>1.03258   </td></tr><tr><td>lyell                                        </td><td>1.04641   </td></tr><tr><td>mivart                                       </td><td>1.05166   </td></tr><tr><td>lamarck                                      </td><td>1.05599   </td></tr><tr><td>darwin's                                     </td><td>1.06359   </td></tr><tr><td>darwinian                                    </td><td>1.08056   </td></tr><tr><td>crawley                                      </td><td>1.08777   </td></tr><tr><td>mill                                         </td><td>1.08945   </td></tr><tr><td>jevons                                       </td><td>1.09612   </td></tr><tr><td>lewes                                        </td><td>1.10927   </td></tr><tr><td>rore                                         </td><td>1.11386   </td></tr><tr><td>hume                                         </td><td>1.11731   </td></tr><tr><td>romanes                                      </td><td>1.11825   </td></tr><tr><td>darwinism                                    </td><td>1.12539   </td></tr><tr><td>balfour                                      </td><td>1.12946   </td></tr><tr><td>froude                                       </td><td>1.13491   </td></tr><tr><td>weismann                                     </td><td>1.13686   </td></tr><tr><td>babbage                                      </td><td>1.13941   </td></tr><tr><td>clodd                                        </td><td>1.14618   </td></tr><tr><td>stewart                                      </td><td>1.14953   </td></tr><tr><td>buckle                                       </td><td>1.15131   </td></tr><tr><td>theory                                       </td><td>1.15144   </td></tr><tr><td>templeton                                    </td><td>1.15294   </td></tr><tr><td>martineau                                    </td><td>1.15690   </td></tr><tr><td>ferrier                                      </td><td>1.15865   </td></tr><tr><td>theories                                     </td><td>1.16231   </td></tr><tr><td>dickens                                      </td><td>1.16385   </td></tr><tr><td>rattlethrough                                </td><td>1.16517   </td></tr><tr><td>tylor                                        </td><td>1.16718   </td></tr><tr><td>mallock                                      </td><td>1.17121   </td></tr><tr><td>wallace                                      </td><td>1.17155   </td></tr><tr><td>descent                                      </td><td>1.17219   </td></tr><tr><td>locke                                        </td><td>1.17285   </td></tr><tr><td>swinburne                                    </td><td>1.17290   </td></tr><tr><td>kitson                                       </td><td>1.17312   </td></tr><tr><td>evolution                                    </td><td>1.17509   </td></tr></table>"
       ],
       "output_type": "pyout",
       "prompt_number": 39,
       "text": [
        "LabeledColumn([('darwin', 0.0), ('spencer', 0.9633643627166748),\n",
        "       ('gladstone', 0.99296677112579346), ...,\n",
        "       ('polizia', 1.6825294494628906), ('wolfio', 1.6841166019439697),\n",
        "       ('p.salms', 1.6958997249603271)], \n",
        "      dtype=[('word', '|S40'), ('value', '<f4')])"
       ]
      }
     ],
     "prompt_number": 39
    },
    {
     "cell_type": "heading",
     "level": 2,
     "metadata": {},
     "source": [
      "<center>Simlarity to 'Darwin' in the 70:30 Composite Model</center>"
     ]
    },
    {
     "cell_type": "markdown",
     "metadata": {},
     "source": [
      "<center>Note that this blend enhances the semantic relevance of the name similarities and inserts important Darwinian terminology.</center>"
     ]
    },
    {
     "cell_type": "code",
     "collapsed": false,
     "input": [
      "number_of_items = 20\n",
      "l70=v70.sim_word_word(['darwin'], print_len=number_of_items) # from 70:30 (context:order) Beagle\n",
      "l70"
     ],
     "language": "python",
     "metadata": {},
     "outputs": [
      {
       "html": [
        "<table style=\"margin: 0\"><tr><th style=\"text-align: center; background: #CEE3F6\" colspan\t\t        =\"2\">Words: darwin</th></tr><tr><th style=\"text-align: center; background: #EFF2FB; \">Word\t\t\t</th><th style=\"text-align: center; background: #EFF2FB; \">Value\t\t\t</th></tr><tr><td>darwin                                       </td><td>0.00000   </td></tr><tr><td>lamarck                                      </td><td>0.76761   </td></tr><tr><td>darwinism                                    </td><td>0.83264   </td></tr><tr><td>darwinian                                    </td><td>0.83424   </td></tr><tr><td>huxley                                       </td><td>0.86307   </td></tr><tr><td>descent                                      </td><td>0.87166   </td></tr><tr><td>theory                                       </td><td>0.88626   </td></tr><tr><td>origin                                       </td><td>0.90008   </td></tr><tr><td>weismann                                     </td><td>0.90047   </td></tr><tr><td>lyell                                        </td><td>0.92712   </td></tr><tr><td>evolution                                    </td><td>0.93686   </td></tr><tr><td>romanes                                      </td><td>0.94513   </td></tr><tr><td>cuvier                                       </td><td>0.94754   </td></tr><tr><td>theories                                     </td><td>0.95508   </td></tr><tr><td>biologists                                   </td><td>0.95690   </td></tr><tr><td>mutation                                     </td><td>0.96085   </td></tr><tr><td>evolutionary                                 </td><td>0.96193   </td></tr><tr><td>natural                                      </td><td>0.96806   </td></tr><tr><td>selection                                    </td><td>0.97522   </td></tr><tr><td>evolutionist                                 </td><td>0.98356   </td></tr></table>"
       ],
       "output_type": "pyout",
       "prompt_number": 40,
       "text": [
        "LabeledColumn([('darwin', 0.0), ('lamarck', 0.76761138439178467),\n",
        "       ('darwinism', 0.83264386653900146), ...,\n",
        "       ('houinger', 1.6747341156005859), ('calcut', 1.6821469068527222),\n",
        "       ('wolfio', 1.695195198059082)], \n",
        "      dtype=[('word', '|S40'), ('value', '<f4')])"
       ]
      }
     ],
     "prompt_number": 40
    },
    {
     "cell_type": "heading",
     "level": 2,
     "metadata": {},
     "source": [
      "<center>We can visualize the similarity space around 'Darwin' right here in the notebook, using code from our libraries</center>"
     ]
    },
    {
     "cell_type": "code",
     "collapsed": false,
     "input": [
      "thresh = l70[number_of_items][1] # get the arccos value at nth point\n",
      "v70.isomap_words('darwin', thres=thresh, n_neighbors=5) # display items "
     ],
     "language": "python",
     "metadata": {},
     "outputs": [
      {
       "output_type": "display_data",
       "png": "[encoded data removed]"
      }
     ],
     "prompt_number": 41
    },
    {
     "cell_type": "markdown",
     "metadata": {},
     "source": [
      "<em>Future visualizations will be nicer! But we can also export the data for use with other applications.</em>"
     ]
    },
    {
     "cell_type": "heading",
     "level": 1,
     "metadata": {},
     "source": [
      "<center>LDA Topic Modeling</center>"
     ]
    },
    {
     "cell_type": "markdown",
     "metadata": {},
     "source": [
      "Beagle has many interesting properties, but is strongest for word similarity.  However, we are interested in finding books, specific pages, and specific arguments.  For that, LDA topic modeling is more appropriate.\n",
      "\n",
      "* LDA (Latent Dirichlet Analysis) uses a Bayesian updating method to generate a set of \"topics\" -- probability distributions over the set of terms in a corpus.\n",
      "* The number of topics is a parameter in the modeling technique\n",
      "* The method finds the set of topics that is best able to reproduce the term distributions in the documents belonging to the corpus\n",
      "* Documents may be whole volumes, chapters, articles, single pages, even individual sentences -- modelers choice"
     ]
    },
    {
     "cell_type": "heading",
     "level": 1,
     "metadata": {},
     "source": [
      "<center>LDA Results on a 1315-volume selection from the HTRC with books as documents</center>"
     ]
    },
    {
     "cell_type": "code",
     "collapsed": false,
     "input": [
      "# Loading the corpus and and model tools\n",
      "c1 = Corpus.load('/var/inphosemantics/data/20130101/htrc-anthropomorphism-1315/vsm-data/hathi-1315-nltk-freq3-links.npz')\n",
      "m1 = LDA.load('/var/inphosemantics/data/20130101/htrc-anthropomorphism-1315/vsm-data/hathi-1315-nltk-freq3-LDA-K60-600.npz')\n",
      "v1 = LDAViewer(c1, m1)"
     ],
     "language": "python",
     "metadata": {},
     "outputs": [
      {
       "output_type": "stream",
       "stream": "stdout",
       "text": [
        "Loading corpus from /var/inphosemantics/data/20130101/htrc-anthropomorphism-1315/vsm-data/hathi-1315-nltk-freq3-links.npz\n",
        "Loading LDA-Gibbs data from"
       ]
      },
      {
       "output_type": "stream",
       "stream": "stdout",
       "text": [
        " /var/inphosemantics/data/20130101/htrc-anthropomorphism-1315/vsm-data/hathi-1315-nltk-freq3-LDA-K60-600.npz\n"
       ]
      }
     ],
     "prompt_number": 42
    },
    {
     "cell_type": "heading",
     "level": 2,
     "metadata": {},
     "source": [
      "Selection of topics most similar to term 'anthropomorphism'"
     ]
    },
    {
     "cell_type": "markdown",
     "metadata": {},
     "source": [
      "We can identify topics using single terms or combinations of terms, and then use one or more topics to select among the documents."
     ]
    },
    {
     "cell_type": "code",
     "collapsed": false,
     "input": [
      "# finding related topics using a single term\n",
      "v1.sim_word_top('anthropomorphism')"
     ],
     "language": "python",
     "metadata": {},
     "outputs": [
      {
       "html": [
        "<table style=\"margin: 0\"><tr><th style=\"text-align: center; background: #CEE3F6\" colspan\t\t\t=\"11\">Sorted by Word Similarity</th></tr><tr><th style=\"text-align: center; background: #EFF2FB;\" \t\t\t\t\t>Topic</th><th style=\"text-align: center; background: #EFF2FB;\" \t\t\t\t\t>Words</th></tr><tr><td style=\"padding-left:0.75em;\">38</td><td> god, religion, life, man, religious, spirit, world, nature, spiritual, divine                                    </td></tr><tr><td style=\"padding-left:0.75em;\">16</td><td> animals, evolution, life, animal, development, man, species, cells, living, theory                                    </td></tr><tr><td style=\"padding-left:0.75em;\">51</td><td> philosophy, nature, knowledge, world, thought, idea, things, reason, truth, science                                   </td></tr><tr><td style=\"padding-left:0.75em;\">58</td><td> man, among, tribes, primitive, men, people, also, races, women, race                                      </td></tr><tr><td style=\"padding-left:0.75em;\">21</td><td> social, life, new, mind, upon, individual, human, mental, world, subfield                                  </td></tr><tr><td style=\"padding-left:0.75em;\">12</td><td> child, children, first, development, movements, play, life, little, mental, mother                                    </td></tr><tr><td style=\"padding-left:0.75em;\">11</td><td> motion, force, must, forces, matter, changes, us, parts, like, evolution                                 </td></tr><tr><td style=\"padding-left:0.75em;\">31</td><td> gods, religion, p, name, see, god, india, ancient, one, worship                                   </td></tr><tr><td style=\"padding-left:0.75em;\">1</td><td> pp, der, vol, die, de, des, und, ibid, university, la                                        </td></tr></table>"
       ],
       "output_type": "pyout",
       "prompt_number": 43,
       "text": [
        "CompactTable([[('god', 0.034420649917120939), ('religion', 0.02459173153582905),\n",
        "        ('life', 0.022671486649667422), ...,\n",
        "        ('lagrange', 7.7711245898821589e-09),\n",
        "        ('liberalism', 7.7711245898821589e-09),\n",
        "        ('emergence', 7.7711245898821589e-09)],\n",
        "       [('animals', 0.012132496632905507),\n",
        "        ('evolution', 0.010839270810416975),\n",
        "        ('life', 0.0092297003422895634), ...,\n",
        "        ('invagination', 1.1138895973189953e-08),\n",
        "        ('mesoblast', 1.1138895973189953e-08),\n",
        "        ('expands', 1.1138895973189953e-08)],\n",
        "       [('philosophy', 0.013289711909911085),\n",
        "        ('nature', 0.010788829800419326),\n",
        "        ('knowledge', 0.010627151429051464), ...,\n",
        "        ('circumstance', 6.4158083876077089e-09),\n",
        "        ('ratke', 6.4158083876077089e-09), ('o', 6.4158083876077089e-09)],\n",
        "       ..., \n",
        "       [('motion', 0.0080392513335995168),\n",
        "        ('force', 0.0075620845351035181), ('must', 0.0068795323984793735),\n",
        "        ..., ('pleistocene', 8.8528162986189915e-09),\n",
        "        ('pliocene', 8.8528162986189915e-09),\n",
        "        ('psychic', 8.8528162986189915e-09)],\n",
        "       [('gods', 0.0090838072859889714),\n",
        "        ('religion', 0.0084087742171443606), ('p', 0.0056658855285761436),\n",
        "        ..., ('destitute', 1.2956488845374217e-08),\n",
        "        ('kingdoms', 1.2956488845374217e-08),\n",
        "        ('noble', 1.2956488845374217e-08)],\n",
        "       [('pp', 0.018586942486592054), ('der', 0.016156240438971299),\n",
        "        ('vol', 0.015967690653968941), ...,\n",
        "        ('wiener', 2.2716841566528454e-08),\n",
        "        ('edward', 2.2716841566528454e-08),\n",
        "        ('january', 2.2716841566528454e-08)]], \n",
        "      dtype=[('word', '|S40'), ('value', '<f8')])"
       ]
      }
     ],
     "prompt_number": 43
    },
    {
     "cell_type": "code",
     "collapsed": false,
     "input": [
      "# display the documents most similar to (best predicted) by one topic\n",
      "v1.sim_top_doc(16, print_len=20, label_fn=htrc_label_link_fn_1315)"
     ],
     "language": "python",
     "metadata": {},
     "outputs": [
      {
       "html": [
        "<table style=\"margin: 0\"><tr><th style=\"text-align: center; background: #CEE3F6\" colspan\t\t        =\"2\">Topics: 16</th></tr><tr><th style=\"text-align: center; background: #EFF2FB; \">Document\t\t\t</th><th style=\"text-align: center; background: #EFF2FB; \">Prob\t\t\t</th></tr><tr><td>The riddle of the universe at the close of the nineteenth ce, <a href=\"http://hdl.handle.net/2027/loc.ark:/13960/t2s47h57b\" target=\"_blank\">http://hdl.handle.net/2027/loc.ark:/13960/t2s47h57b</a>       </td><td>0.86750   </td></tr><tr><td>The riddle of the universe at the close of the nineteenth ce, <a href=\"http://hdl.handle.net/2027/uc2.ark:/13960/t5v69b880\" target=\"_blank\">http://hdl.handle.net/2027/uc2.ark:/13960/t5v69b880</a>       </td><td>0.86704   </td></tr><tr><td>The riddle of the universe at the close of the nineteenth ce, <a href=\"http://hdl.handle.net/2027/loc.ark:/13960/t2s47h57b\" target=\"_blank\">http://hdl.handle.net/2027/loc.ark:/13960/t2s47h57b</a>       </td><td>0.86254   </td></tr><tr><td>The germ-plasm : a theory of heredity /, <a href=\"http://hdl.handle.net/2027/uc2.ark:/13960/t0qr4pc9z\" target=\"_blank\">http://hdl.handle.net/2027/uc2.ark:/13960/t0qr4pc9z</a>                            </td><td>0.84662   </td></tr><tr><td>Last words on evolution; a popular retrospect and summary,, <a href=\"http://hdl.handle.net/2027/nyp.33433081629184\" target=\"_blank\">http://hdl.handle.net/2027/nyp.33433081629184</a>                     </td><td>0.83998   </td></tr><tr><td>Biology and its makers, with portraits and other illustratio, <a href=\"http://hdl.handle.net/2027/uc2.ark:/13960/t1td9pw8v\" target=\"_blank\">http://hdl.handle.net/2027/uc2.ark:/13960/t1td9pw8v</a>       </td><td>0.81621   </td></tr><tr><td>The psychic life of micro-organisms. A study in experimental, <a href=\"http://hdl.handle.net/2027/uc2.ark:/13960/t73t9h556\" target=\"_blank\">http://hdl.handle.net/2027/uc2.ark:/13960/t73t9h556</a>       </td><td>0.74668   </td></tr><tr><td>The psychic life of micro-organisms : a study in experimenta, <a href=\"http://hdl.handle.net/2027/uc2.ark:/13960/t75t3j390\" target=\"_blank\">http://hdl.handle.net/2027/uc2.ark:/13960/t75t3j390</a>       </td><td>0.73637   </td></tr><tr><td>The divine pedigree of man, or, The testimony of evolution a, <a href=\"http://hdl.handle.net/2027/uc2.ark:/13960/t75t3hx3f\" target=\"_blank\">http://hdl.handle.net/2027/uc2.ark:/13960/t75t3hx3f</a>       </td><td>0.68030   </td></tr><tr><td>The principles of heredity with some applications,, <a href=\"http://hdl.handle.net/2027/mdp.39015068611469\" target=\"_blank\">http://hdl.handle.net/2027/mdp.39015068611469</a>                             </td><td>0.67870   </td></tr><tr><td>The divine pedigree of man, or, The testimony of evolution a, <a href=\"http://hdl.handle.net/2027/yale.39002088677225\" target=\"_blank\">http://hdl.handle.net/2027/yale.39002088677225</a>                 </td><td>0.67414   </td></tr><tr><td>International Congress of Arts and Science., <a href=\"http://hdl.handle.net/2027/njp.32101064234139\" target=\"_blank\">http://hdl.handle.net/2027/njp.32101064234139</a>                                    </td><td>0.65784   </td></tr><tr><td>General physiology; an outline of the science of life,, <a href=\"http://hdl.handle.net/2027/nnc2.ark:/13960/t6k07rz7d\" target=\"_blank\">http://hdl.handle.net/2027/nnc2.ark:/13960/t6k07rz7d</a>           </td><td>0.64257   </td></tr><tr><td>Progress of science in the century,, <a href=\"http://hdl.handle.net/2027/uc2.ark:/13960/t5p84550z\" target=\"_blank\">http://hdl.handle.net/2027/uc2.ark:/13960/t5p84550z</a>                                </td><td>0.62781   </td></tr><tr><td>The spiritual interpretation of nature,, <a href=\"http://hdl.handle.net/2027/yale.39002088677183\" target=\"_blank\">http://hdl.handle.net/2027/yale.39002088677183</a>                                      </td><td>0.60094   </td></tr><tr><td>The spiritual interpretation of nature,, <a href=\"http://hdl.handle.net/2027/yale.39002088677183\" target=\"_blank\">http://hdl.handle.net/2027/yale.39002088677183</a>                                      </td><td>0.60022   </td></tr><tr><td>Zoology; the study of animal life,, <a href=\"http://hdl.handle.net/2027/coo.31924003386145\" target=\"_blank\">http://hdl.handle.net/2027/coo.31924003386145</a>                                             </td><td>0.50767   </td></tr><tr><td>Biology,, <a href=\"http://hdl.handle.net/2027/uc2.ark:/13960/t15m63g4j\" target=\"_blank\">http://hdl.handle.net/2027/uc2.ark:/13960/t15m63g4j</a>                                                           </td><td>0.50673   </td></tr><tr><td>Evolution., <a href=\"http://hdl.handle.net/2027/loc.ark:/13960/t6xw58348\" target=\"_blank\">http://hdl.handle.net/2027/loc.ark:/13960/t6xw58348</a>                                                         </td><td>0.50632   </td></tr><tr><td>Biology,, <a href=\"http://hdl.handle.net/2027/uc2.ark:/13960/t8jd4rc4k\" target=\"_blank\">http://hdl.handle.net/2027/uc2.ark:/13960/t8jd4rc4k</a>                                                           </td><td>0.49794   </td></tr></table>"
       ],
       "output_type": "pyout",
       "prompt_number": 44,
       "text": [
        "LabeledColumn([ ('The riddle of the universe at the close of the nineteenth ce, <a href=\"http://hdl.handle.net/2027/loc.ark:/13960/t2s47h57b\" target=\"_blank\">http://hdl.handle.net/2027/loc.ark:/13960/t2s47h57b</a>', 0.86750338861766907),\n",
        "       ('The riddle of the universe at the close of the nineteenth ce, <a href=\"http://hdl.handle.net/2027/uc2.ark:/13960/t5v69b880\" target=\"_blank\">http://hdl.handle.net/2027/uc2.ark:/13960/t5v69b880</a>', 0.86703689963308306),\n",
        "       ('The riddle of the universe at the close of the nineteenth ce, <a href=\"http://hdl.handle.net/2027/loc.ark:/13960/t2s47h57b\" target=\"_blank\">http://hdl.handle.net/2027/loc.ark:/13960/t2s47h57b</a>', 0.86253961565379433),\n",
        "       ...,\n",
        "       ('The best books: a reader\\'s guide and literary reference book, <a href=\"http://hdl.handle.net/2027/uc2.ark:/13960/t7sn0403h\" target=\"_blank\">http://hdl.handle.net/2027/uc2.ark:/13960/t7sn0403h</a>', 5.181744438846982e-08),\n",
        "       ('Current supplement to the catalogue of the public library of, <a href=\"http://hdl.handle.net/2027/uc2.ark:/13960/t77s7z814\" target=\"_blank\">http://hdl.handle.net/2027/uc2.ark:/13960/t77s7z814</a>', 4.6935977807087085e-08),\n",
        "       ('Printers\\' ink., <a href=\"http://hdl.handle.net/2027/mdp.39015084381345\" target=\"_blank\">http://hdl.handle.net/2027/mdp.39015084381345</a>', 4.1010926552215724e-08)], \n",
        "      dtype=[('doc', '|S197'), ('value', '<f8')])"
       ]
      }
     ],
     "prompt_number": 44
    },
    {
     "cell_type": "code",
     "collapsed": false,
     "input": [
      "# finding related topics using multiple terms\n",
      "v1.sim_word_top(['anthropomorphism', 'animal', 'psychology'])"
     ],
     "language": "python",
     "metadata": {},
     "outputs": [
      {
       "html": [
        "<table style=\"margin: 0\"><tr><th style=\"text-align: center; background: #CEE3F6\" colspan\t\t\t=\"11\">Sorted by Word Similarity</th></tr><tr><th style=\"text-align: center; background: #EFF2FB;\" \t\t\t\t\t>Topic</th><th style=\"text-align: center; background: #EFF2FB;\" \t\t\t\t\t>Words</th></tr><tr><td style=\"padding-left:0.75em;\">26</td><td> consciousness, experience, p, psychology, process, individual, object, activity, relation, feeling                                   </td></tr><tr><td style=\"padding-left:0.75em;\">16</td><td> animals, evolution, life, animal, development, man, species, cells, living, theory                                    </td></tr><tr><td style=\"padding-left:0.75em;\">10</td><td> animals, water, animal, food, birds, one, leaves, insects, species, many                                      </td></tr><tr><td style=\"padding-left:0.75em;\">1</td><td> pp, der, vol, die, de, des, und, ibid, university, la                                        </td></tr><tr><td style=\"padding-left:0.75em;\">58</td><td> man, among, tribes, primitive, men, people, also, races, women, race                                      </td></tr><tr><td style=\"padding-left:0.75em;\">47</td><td> college, university, professor, school, law, work, students, degree, education, new                                       </td></tr><tr><td style=\"padding-left:0.75em;\">25</td><td> nature, ii, us, mr, without, life, human, natural, language, every                                     </td></tr><tr><td style=\"padding-left:0.75em;\">29</td><td> fig, two, body, form, cells, animals, first, ii, side, organs                                    </td></tr><tr><td style=\"padding-left:0.75em;\">12</td><td> child, children, first, development, movements, play, life, little, mental, mother                                    </td></tr><tr><td style=\"padding-left:0.75em;\">21</td><td> social, life, new, mind, upon, individual, human, mental, world, subfield                                  </td></tr><tr><td style=\"padding-left:0.75em;\">4</td><td> acid, water, body, action, blood, food, alcohol, air, substances, work                                      </td></tr><tr><td style=\"padding-left:0.75em;\">2</td><td> test, tests, age, group, children, mental, table, per, cent, number                                    </td></tr><tr><td style=\"padding-left:0.75em;\">45</td><td> brain, nerve, fibres, nervous, motor, nerves, sensory, cord, cells, spinal                                    </td></tr><tr><td style=\"padding-left:0.75em;\">8</td><td> mind, consciousness, knowledge, object, perception, sense, mental, external, ideas, phenomena                                 </td></tr><tr><td style=\"padding-left:0.75em;\">20</td><td> man, moral, men, good, law, society, social, conduct, action, pleasure                                  </td></tr><tr><td style=\"padding-left:0.75em;\">11</td><td> motion, force, must, forces, matter, changes, us, parts, like, evolution                                 </td></tr><tr><td style=\"padding-left:0.75em;\">31</td><td> gods, religion, p, name, see, god, india, ancient, one, worship                                   </td></tr><tr><td style=\"padding-left:0.75em;\">49</td><td> subfield, code, datafield, tag, ind2, ind1, b, d, c, controlfield                              </td></tr><tr><td style=\"padding-left:0.75em;\">33</td><td> tlie, may, logic, proposition, terms, term, reasoning, meaning, propositions, argument                                  </td></tr><tr><td style=\"padding-left:0.75em;\">35</td><td> history, science, historical, work, study, philosophy, century, modern, sciences, literature                                </td></tr><tr><td style=\"padding-left:0.75em;\">42</td><td> light, eye, two, eyes, visual, fig, vision, red, distance, movement                                  </td></tr><tr><td style=\"padding-left:0.75em;\">52</td><td> see, c, history, life, 9, also, j, ed, st, book                                      </td></tr><tr><td style=\"padding-left:0.75em;\">44</td><td> 8vo, svo, vols, c, pp, 6d, r, j, edition, dr                                        </td></tr><tr><td style=\"padding-left:0.75em;\">18</td><td> teacher, study, education, school, teaching, work, knowledge, pupils, method, reading                                   </td></tr><tr><td style=\"padding-left:0.75em;\">13</td><td> 8, c, n, rev, ed, tr, 6, v, w, dr                                        </td></tr><tr><td style=\"padding-left:0.75em;\">55</td><td> god, see, israel, prophet, jewish, iii, people, jews, ii, also                                      </td></tr><tr><td style=\"padding-left:0.75em;\">19</td><td> criminal, crime, number, women, criminals, prison, among, population, 1, per                                       </td></tr><tr><td style=\"padding-left:0.75em;\">51</td><td> philosophy, nature, knowledge, world, thought, idea, things, reason, truth, science                                   </td></tr><tr><td style=\"padding-left:0.75em;\">27</td><td> upon, like, would, though, yet, never, us, still, could, whose                                     </td></tr><tr><td style=\"padding-left:0.75em;\">59</td><td> london, c, m.a, college, professor, subfield, 0, shall, j, class                                     </td></tr><tr><td style=\"padding-left:0.75em;\">39</td><td> made, work, water, first, engine, time, steam, great, x, feet                                      </td></tr><tr><td style=\"padding-left:0.75em;\">34</td><td> course, 2, hours, year, courses, 3, 4, students, engineering, st                                        </td></tr><tr><td style=\"padding-left:0.75em;\">38</td><td> god, religion, life, man, religious, spirit, world, nature, spiritual, divine                                    </td></tr><tr><td style=\"padding-left:0.75em;\">22</td><td> cases, disease, mental, patient, may, brain, nervous, case, symptoms, treatment                                 </td></tr><tr><td style=\"padding-left:0.75em;\">40</td><td> de, la, p, vol, et, des, le, les, brissot, pp                                        </td></tr><tr><td style=\"padding-left:0.75em;\">56</td><td> war, german, germany, army, american, would, france, french, men, japan                                     </td></tr><tr><td style=\"padding-left:0.75em;\">6</td><td> school, schools, education, work, teachers, children, high, training, pupils, educational                               </td></tr><tr><td style=\"padding-left:0.75em;\">0</td><td> b, e, wis, n, m, y, st, c, d, mrs                                       </td></tr><tr><td style=\"padding-left:0.75em;\">7</td><td> church, jesus, christ, christian, testament, new, paul, bible, gospel, doctrine                                  </td></tr><tr><td style=\"padding-left:0.75em;\">28</td><td> one, may, would, must, time, upon, even, also, first, two                                       </td></tr><tr><td style=\"padding-left:0.75em;\">41</td><td> poetry, art, english, literature, music, life, poet, work, literary, verse                                     </td></tr><tr><td style=\"padding-left:0.75em;\">17</td><td> 1, 2, 3, 4, 5, 6, 8, 7, p, 9                                         </td></tr></table>"
       ],
       "output_type": "pyout",
       "prompt_number": 45,
       "text": [
        "CompactTable([[('consciousness', 0.015734629141412659),\n",
        "        ('experience', 0.011910584664732592), ('p', 0.011393743421870745),\n",
        "        ..., ('excluded', 7.2590062199631514e-09),\n",
        "        ('whence', 7.2590062199631514e-09),\n",
        "        ('darkness', 7.2590062199631514e-09)],\n",
        "       [('animals', 0.012132496632905507),\n",
        "        ('evolution', 0.010839270810416975),\n",
        "        ('life', 0.0092297003422895634), ...,\n",
        "        ('invagination', 1.1138895973189953e-08),\n",
        "        ('mesoblast', 1.1138895973189953e-08),\n",
        "        ('expands', 1.1138895973189953e-08)],\n",
        "       [('animals', 0.0083261137206309798),\n",
        "        ('water', 0.0081627567429070399),\n",
        "        ('animal', 0.0064079454587631464), ...,\n",
        "        ('folk', 1.2762263884671248e-08),\n",
        "        ('trade', 1.2762263884671248e-08), ('mg', 1.2762263884671248e-08)],\n",
        "       ..., \n",
        "       [('one', 0.021362612229596699), ('may', 0.0187744689663779),\n",
        "        ('would', 0.009787440548626649), ...,\n",
        "        ('stenography', 8.6372209685180946e-10),\n",
        "        ('gems', 8.6372209685180946e-10),\n",
        "        ('undoubted', 8.6372209685180946e-10)],\n",
        "       [('poetry', 0.009204014160687498), ('art', 0.0085162745172613682),\n",
        "        ('english', 0.0080260771118406179), ...,\n",
        "        ('subdivision', 9.1454739817221232e-09),\n",
        "        ('everybody', 9.1454739817221232e-09),\n",
        "        ('devotees', 9.1454739817221232e-09)],\n",
        "       [('1', 0.11055428991322785), ('2', 0.07993792004202116),\n",
        "        ('3', 0.060214665012096547), ..., ('lis', 7.2461350637079519e-09),\n",
        "        ('albertus', 7.2461350637079519e-09),\n",
        "        ('nevada', 7.2461350637079519e-09)]], \n",
        "      dtype=[('word', '|S40'), ('value', '<f8')])"
       ]
      }
     ],
     "prompt_number": 45
    },
    {
     "cell_type": "code",
     "collapsed": false,
     "input": [
      "# finding related topics using a weighted combination of multiple terms\n",
      "v1.sim_word_top(['anthropomorphism', 'animal', 'psychology'], weights=[1, 2, 1])"
     ],
     "language": "python",
     "metadata": {},
     "outputs": [
      {
       "html": [
        "<table style=\"margin: 0\"><tr><th style=\"text-align: center; background: #CEE3F6\" colspan\t\t\t=\"11\">Sorted by Word Similarity</th></tr><tr><th style=\"text-align: center; background: #EFF2FB;\" \t\t\t\t\t>Topic</th><th style=\"text-align: center; background: #EFF2FB;\" \t\t\t\t\t>Words</th></tr><tr><td style=\"padding-left:0.75em;\">16</td><td> animals, evolution, life, animal, development, man, species, cells, living, theory                                    </td></tr><tr><td style=\"padding-left:0.75em;\">10</td><td> animals, water, animal, food, birds, one, leaves, insects, species, many                                      </td></tr><tr><td style=\"padding-left:0.75em;\">26</td><td> consciousness, experience, p, psychology, process, individual, object, activity, relation, feeling                                   </td></tr><tr><td style=\"padding-left:0.75em;\">58</td><td> man, among, tribes, primitive, men, people, also, races, women, race                                      </td></tr><tr><td style=\"padding-left:0.75em;\">25</td><td> nature, ii, us, mr, without, life, human, natural, language, every                                     </td></tr><tr><td style=\"padding-left:0.75em;\">29</td><td> fig, two, body, form, cells, animals, first, ii, side, organs                                    </td></tr><tr><td style=\"padding-left:0.75em;\">4</td><td> acid, water, body, action, blood, food, alcohol, air, substances, work                                      </td></tr><tr><td style=\"padding-left:0.75em;\">1</td><td> pp, der, vol, die, de, des, und, ibid, university, la                                        </td></tr><tr><td style=\"padding-left:0.75em;\">45</td><td> brain, nerve, fibres, nervous, motor, nerves, sensory, cord, cells, spinal                                    </td></tr><tr><td style=\"padding-left:0.75em;\">12</td><td> child, children, first, development, movements, play, life, little, mental, mother                                    </td></tr><tr><td style=\"padding-left:0.75em;\">20</td><td> man, moral, men, good, law, society, social, conduct, action, pleasure                                  </td></tr><tr><td style=\"padding-left:0.75em;\">31</td><td> gods, religion, p, name, see, god, india, ancient, one, worship                                   </td></tr><tr><td style=\"padding-left:0.75em;\">47</td><td> college, university, professor, school, law, work, students, degree, education, new                                       </td></tr><tr><td style=\"padding-left:0.75em;\">11</td><td> motion, force, must, forces, matter, changes, us, parts, like, evolution                                 </td></tr><tr><td style=\"padding-left:0.75em;\">8</td><td> mind, consciousness, knowledge, object, perception, sense, mental, external, ideas, phenomena                                 </td></tr><tr><td style=\"padding-left:0.75em;\">21</td><td> social, life, new, mind, upon, individual, human, mental, world, subfield                                  </td></tr><tr><td style=\"padding-left:0.75em;\">2</td><td> test, tests, age, group, children, mental, table, per, cent, number                                    </td></tr><tr><td style=\"padding-left:0.75em;\">33</td><td> tlie, may, logic, proposition, terms, term, reasoning, meaning, propositions, argument                                  </td></tr><tr><td style=\"padding-left:0.75em;\">49</td><td> subfield, code, datafield, tag, ind2, ind1, b, d, c, controlfield                              </td></tr><tr><td style=\"padding-left:0.75em;\">42</td><td> light, eye, two, eyes, visual, fig, vision, red, distance, movement                                  </td></tr><tr><td style=\"padding-left:0.75em;\">35</td><td> history, science, historical, work, study, philosophy, century, modern, sciences, literature                                </td></tr><tr><td style=\"padding-left:0.75em;\">52</td><td> see, c, history, life, 9, also, j, ed, st, book                                      </td></tr><tr><td style=\"padding-left:0.75em;\">55</td><td> god, see, israel, prophet, jewish, iii, people, jews, ii, also                                      </td></tr><tr><td style=\"padding-left:0.75em;\">44</td><td> 8vo, svo, vols, c, pp, 6d, r, j, edition, dr                                        </td></tr><tr><td style=\"padding-left:0.75em;\">18</td><td> teacher, study, education, school, teaching, work, knowledge, pupils, method, reading                                   </td></tr><tr><td style=\"padding-left:0.75em;\">13</td><td> 8, c, n, rev, ed, tr, 6, v, w, dr                                        </td></tr><tr><td style=\"padding-left:0.75em;\">19</td><td> criminal, crime, number, women, criminals, prison, among, population, 1, per                                       </td></tr><tr><td style=\"padding-left:0.75em;\">51</td><td> philosophy, nature, knowledge, world, thought, idea, things, reason, truth, science                                   </td></tr><tr><td style=\"padding-left:0.75em;\">39</td><td> made, work, water, first, engine, time, steam, great, x, feet                                      </td></tr><tr><td style=\"padding-left:0.75em;\">34</td><td> course, 2, hours, year, courses, 3, 4, students, engineering, st                                        </td></tr><tr><td style=\"padding-left:0.75em;\">40</td><td> de, la, p, vol, et, des, le, les, brissot, pp                                        </td></tr><tr><td style=\"padding-left:0.75em;\">27</td><td> upon, like, would, though, yet, never, us, still, could, whose                                     </td></tr><tr><td style=\"padding-left:0.75em;\">59</td><td> london, c, m.a, college, professor, subfield, 0, shall, j, class                                     </td></tr><tr><td style=\"padding-left:0.75em;\">38</td><td> god, religion, life, man, religious, spirit, world, nature, spiritual, divine                                    </td></tr><tr><td style=\"padding-left:0.75em;\">0</td><td> b, e, wis, n, m, y, st, c, d, mrs                                       </td></tr><tr><td style=\"padding-left:0.75em;\">6</td><td> school, schools, education, work, teachers, children, high, training, pupils, educational                               </td></tr><tr><td style=\"padding-left:0.75em;\">22</td><td> cases, disease, mental, patient, may, brain, nervous, case, symptoms, treatment                                 </td></tr><tr><td style=\"padding-left:0.75em;\">56</td><td> war, german, germany, army, american, would, france, french, men, japan                                     </td></tr><tr><td style=\"padding-left:0.75em;\">7</td><td> church, jesus, christ, christian, testament, new, paul, bible, gospel, doctrine                                  </td></tr><tr><td style=\"padding-left:0.75em;\">28</td><td> one, may, would, must, time, upon, even, also, first, two                                       </td></tr><tr><td style=\"padding-left:0.75em;\">41</td><td> poetry, art, english, literature, music, life, poet, work, literary, verse                                     </td></tr><tr><td style=\"padding-left:0.75em;\">17</td><td> 1, 2, 3, 4, 5, 6, 8, 7, p, 9                                         </td></tr></table>"
       ],
       "output_type": "pyout",
       "prompt_number": 46,
       "text": [
        "CompactTable([[('animals', 0.012132496632905507),\n",
        "        ('evolution', 0.010839270810416975),\n",
        "        ('life', 0.0092297003422895634), ...,\n",
        "        ('invagination', 1.1138895973189953e-08),\n",
        "        ('mesoblast', 1.1138895973189953e-08),\n",
        "        ('expands', 1.1138895973189953e-08)],\n",
        "       [('animals', 0.0083261137206309798),\n",
        "        ('water', 0.0081627567429070399),\n",
        "        ('animal', 0.0064079454587631464), ...,\n",
        "        ('folk', 1.2762263884671248e-08),\n",
        "        ('trade', 1.2762263884671248e-08), ('mg', 1.2762263884671248e-08)],\n",
        "       [('consciousness', 0.015734629141412659),\n",
        "        ('experience', 0.011910584664732592), ('p', 0.011393743421870745),\n",
        "        ..., ('excluded', 7.2590062199631514e-09),\n",
        "        ('whence', 7.2590062199631514e-09),\n",
        "        ('darkness', 7.2590062199631514e-09)],\n",
        "       ..., \n",
        "       [('one', 0.021362612229596699), ('may', 0.0187744689663779),\n",
        "        ('would', 0.009787440548626649), ...,\n",
        "        ('stenography', 8.6372209685180946e-10),\n",
        "        ('gems', 8.6372209685180946e-10),\n",
        "        ('undoubted', 8.6372209685180946e-10)],\n",
        "       [('poetry', 0.009204014160687498), ('art', 0.0085162745172613682),\n",
        "        ('english', 0.0080260771118406179), ...,\n",
        "        ('subdivision', 9.1454739817221232e-09),\n",
        "        ('everybody', 9.1454739817221232e-09),\n",
        "        ('devotees', 9.1454739817221232e-09)],\n",
        "       [('1', 0.11055428991322785), ('2', 0.07993792004202116),\n",
        "        ('3', 0.060214665012096547), ..., ('lis', 7.2461350637079519e-09),\n",
        "        ('albertus', 7.2461350637079519e-09),\n",
        "        ('nevada', 7.2461350637079519e-09)]], \n",
        "      dtype=[('word', '|S40'), ('value', '<f8')])"
       ]
      }
     ],
     "prompt_number": 46
    },
    {
     "cell_type": "code",
     "collapsed": false,
     "input": [
      "# showing documents by combined topics\n",
      "v1.sim_top_doc([10,16,26], print_len=20, label_fn=htrc_label_link_fn_1315)"
     ],
     "language": "python",
     "metadata": {},
     "outputs": [
      {
       "html": [
        "<table style=\"margin: 0\"><tr><th style=\"text-align: center; background: #CEE3F6\" colspan\t\t        =\"2\">Topics: 10, 16, 26</th></tr><tr><th style=\"text-align: center; background: #EFF2FB; \">Document\t\t\t</th><th style=\"text-align: center; background: #EFF2FB; \">Prob\t\t\t</th></tr><tr><td>Secrets of animal life,, <a href=\"http://hdl.handle.net/2027/uc2.ark:/13960/t7wm15g73\" target=\"_blank\">http://hdl.handle.net/2027/uc2.ark:/13960/t7wm15g73</a>                                            </td><td>0.63954   </td></tr><tr><td>Comparative studies in the psychology of ants and of higher , <a href=\"http://hdl.handle.net/2027/uc2.ark:/13960/t6057f659\" target=\"_blank\">http://hdl.handle.net/2027/uc2.ark:/13960/t6057f659</a>       </td><td>0.63085   </td></tr><tr><td>The colours of animals, their meaning and use, especially co, <a href=\"http://hdl.handle.net/2027/uc2.ark:/13960/t9t14w82w\" target=\"_blank\">http://hdl.handle.net/2027/uc2.ark:/13960/t9t14w82w</a>       </td><td>0.55333   </td></tr><tr><td>The foundations of normal and abnormal psychology., <a href=\"http://hdl.handle.net/2027/loc.ark:/13960/t9m33nm99\" target=\"_blank\">http://hdl.handle.net/2027/loc.ark:/13960/t9m33nm99</a>                 </td><td>0.54171   </td></tr><tr><td>The bird rookeries of the Tortugas., <a href=\"http://hdl.handle.net/2027/uc2.ark:/13960/t3pv6cc9j\" target=\"_blank\">http://hdl.handle.net/2027/uc2.ark:/13960/t3pv6cc9j</a>                                </td><td>0.53789   </td></tr><tr><td>Mind in animals., <a href=\"http://hdl.handle.net/2027/mdp.39015005169357\" target=\"_blank\">http://hdl.handle.net/2027/mdp.39015005169357</a>                                                               </td><td>0.53783   </td></tr><tr><td>Ants and some other insects; an inquiry into the psychic pow, <a href=\"http://hdl.handle.net/2027/wu.89095158218\" target=\"_blank\">http://hdl.handle.net/2027/wu.89095158218</a>                           </td><td>0.53606   </td></tr><tr><td>Systematic science teaching ; a manual of inductive elementa, <a href=\"http://hdl.handle.net/2027/uc2.ark:/13960/t11n8195t\" target=\"_blank\">http://hdl.handle.net/2027/uc2.ark:/13960/t11n8195t</a>       </td><td>0.53152   </td></tr><tr><td>The riddle of the universe at the close of the nineteenth ce, <a href=\"http://hdl.handle.net/2027/uc2.ark:/13960/t5v69b880\" target=\"_blank\">http://hdl.handle.net/2027/uc2.ark:/13960/t5v69b880</a>       </td><td>0.52804   </td></tr><tr><td>The riddle of the universe at the close of the nineteenth ce, <a href=\"http://hdl.handle.net/2027/loc.ark:/13960/t2s47h57b\" target=\"_blank\">http://hdl.handle.net/2027/loc.ark:/13960/t2s47h57b</a>       </td><td>0.52763   </td></tr><tr><td>The riddle of the universe at the close of the nineteenth ce, <a href=\"http://hdl.handle.net/2027/loc.ark:/13960/t2s47h57b\" target=\"_blank\">http://hdl.handle.net/2027/loc.ark:/13960/t2s47h57b</a>       </td><td>0.52035   </td></tr><tr><td>The colour-sense: its origin and development. An essay in co, <a href=\"http://hdl.handle.net/2027/mdp.39015009245195\" target=\"_blank\">http://hdl.handle.net/2027/mdp.39015009245195</a>                   </td><td>0.51658   </td></tr><tr><td>Advanced elementary science;, <a href=\"http://hdl.handle.net/2027/uc2.ark:/13960/t8z895h4k\" target=\"_blank\">http://hdl.handle.net/2027/uc2.ark:/13960/t8z895h4k</a>                                       </td><td>0.50012   </td></tr><tr><td>Report of the Brown-Harvard Expedition to Nachvak, Labrador,, <a href=\"http://hdl.handle.net/2027/uc2.ark:/13960/t41r70n1f\" target=\"_blank\">http://hdl.handle.net/2027/uc2.ark:/13960/t41r70n1f</a>       </td><td>0.49748   </td></tr><tr><td>The germ-plasm : a theory of heredity /, <a href=\"http://hdl.handle.net/2027/uc2.ark:/13960/t0qr4pc9z\" target=\"_blank\">http://hdl.handle.net/2027/uc2.ark:/13960/t0qr4pc9z</a>                            </td><td>0.49713   </td></tr><tr><td>Biology and its makers, with portraits and other illustratio, <a href=\"http://hdl.handle.net/2027/uc2.ark:/13960/t1td9pw8v\" target=\"_blank\">http://hdl.handle.net/2027/uc2.ark:/13960/t1td9pw8v</a>       </td><td>0.49495   </td></tr><tr><td>Report of the Brown-Harvard expedition to Nachvak, Labrador,, <a href=\"http://hdl.handle.net/2027/loc.ark:/13960/t4vh6bb8k\" target=\"_blank\">http://hdl.handle.net/2027/loc.ark:/13960/t4vh6bb8k</a>       </td><td>0.49243   </td></tr><tr><td>Last words on evolution; a popular retrospect and summary,, <a href=\"http://hdl.handle.net/2027/nyp.33433081629184\" target=\"_blank\">http://hdl.handle.net/2027/nyp.33433081629184</a>                     </td><td>0.48496   </td></tr><tr><td>Thought and things; a study of the development and meaning o, <a href=\"http://hdl.handle.net/2027/nc01.ark:/13960/t9x06sq8q\" target=\"_blank\">http://hdl.handle.net/2027/nc01.ark:/13960/t9x06sq8q</a>     </td><td>0.48331   </td></tr><tr><td>The psychic life of micro-organisms. A study in experimental, <a href=\"http://hdl.handle.net/2027/uc2.ark:/13960/t73t9h556\" target=\"_blank\">http://hdl.handle.net/2027/uc2.ark:/13960/t73t9h556</a>       </td><td>0.47866   </td></tr></table>"
       ],
       "output_type": "pyout",
       "prompt_number": 47,
       "text": [
        "LabeledColumn([ ('Secrets of animal life,, <a href=\"http://hdl.handle.net/2027/uc2.ark:/13960/t7wm15g73\" target=\"_blank\">http://hdl.handle.net/2027/uc2.ark:/13960/t7wm15g73</a>', 0.63954385160913918),\n",
        "       ('Comparative studies in the psychology of ants and of higher , <a href=\"http://hdl.handle.net/2027/uc2.ark:/13960/t6057f659\" target=\"_blank\">http://hdl.handle.net/2027/uc2.ark:/13960/t6057f659</a>', 0.63085298524150291),\n",
        "       ('The colours of animals, their meaning and use, especially co, <a href=\"http://hdl.handle.net/2027/uc2.ark:/13960/t9t14w82w\" target=\"_blank\">http://hdl.handle.net/2027/uc2.ark:/13960/t9t14w82w</a>', 0.5533252507761629),\n",
        "       ...,\n",
        "       ('Catalogue., <a href=\"http://hdl.handle.net/2027/nnc2.ark:/13960/t7mp5qv2z\" target=\"_blank\">http://hdl.handle.net/2027/nnc2.ark:/13960/t7mp5qv2z</a>', 1.4365011363559399e-07),\n",
        "       ('Catalogue., <a href=\"http://hdl.handle.net/2027/nnc2.ark:/13960/t7mp5qv2z\" target=\"_blank\">http://hdl.handle.net/2027/nnc2.ark:/13960/t7mp5qv2z</a>', 1.4050728815293745e-07),\n",
        "       ('General catalogue of the officers and graduates of the Unive, <a href=\"http://hdl.handle.net/2027/uc2.ark:/13960/t8tb11c8g\" target=\"_blank\">http://hdl.handle.net/2027/uc2.ark:/13960/t8tb11c8g</a>', 1.194149386713481e-07)], \n",
        "      dtype=[('doc', '|S197'), ('value', '<f8')])"
       ]
      }
     ],
     "prompt_number": 47
    },
    {
     "cell_type": "heading",
     "level": 1,
     "metadata": {},
     "source": [
      "<center>Results on an 86-volume subset with <font color=\"red\">book pages</font> as documents</center>"
     ]
    },
    {
     "cell_type": "code",
     "collapsed": false,
     "input": [
      "c2 = Corpus.load('/var/inphosemantics/data/20130101/htrc-anthropomorphism-86/vsm-data/htrc-anthropomorphism-86-nltk-freq3.npz')\n",
      "m2 = LDA.load('/var/inphosemantics/data/20130101/htrc-anthropomorphism-86/vsm-data/htrc-anthropomorphism-86-nltk-freq3-LDA-K60-600.npz')\n",
      "v2 = LDAViewer(c2, m2)"
     ],
     "language": "python",
     "metadata": {},
     "outputs": [
      {
       "output_type": "stream",
       "stream": "stdout",
       "text": [
        "Loading corpus from /var/inphosemantics/data/20130101/htrc-anthropomorphism-86/vsm-data/htrc-anthropomorphism-86-nltk-freq3.npz\n",
        "Loading LDA-Gibbs data from"
       ]
      },
      {
       "output_type": "stream",
       "stream": "stdout",
       "text": [
        " /var/inphosemantics/data/20130101/htrc-anthropomorphism-86/vsm-data/htrc-anthropomorphism-86-nltk-freq3-LDA-K60-600.npz\n"
       ]
      }
     ],
     "prompt_number": 48
    },
    {
     "cell_type": "heading",
     "level": 3,
     "metadata": {},
     "source": [
      "    Selection of topics by single term"
     ]
    },
    {
     "cell_type": "code",
     "collapsed": false,
     "input": [
      "v2.sim_word_top('anthropomorphism')"
     ],
     "language": "python",
     "metadata": {},
     "outputs": [
      {
       "html": [
        "<table style=\"margin: 0\"><tr><th style=\"text-align: center; background: #CEE3F6\" colspan\t\t\t=\"11\">Sorted by Word Similarity</th></tr><tr><th style=\"text-align: center; background: #EFF2FB;\" \t\t\t\t\t>Topic</th><th style=\"text-align: center; background: #EFF2FB;\" \t\t\t\t\t>Words</th></tr><tr><td style=\"padding-left:0.75em;\">18</td><td> god, religion, evolution, religious, man, human, science, world, christian, belief                       </td></tr><tr><td style=\"padding-left:0.75em;\">3</td><td> mind, man, facts, life, evolution, instinct, subjective, instincts, organic, development                  </td></tr><tr><td style=\"padding-left:0.75em;\">1</td><td> animal, animals, may, stimulus, experience, would, instinct, reaction, one, stimuli                      </td></tr><tr><td style=\"padding-left:0.75em;\">51</td><td> sense, sensation, qualities, touch, perception, sensations, extension, sight, senses, us                           </td></tr></table>"
       ],
       "output_type": "pyout",
       "prompt_number": 49,
       "text": [
        "CompactTable([[('god', 0.020326874549248173), ('religion', 0.0158308869473332),\n",
        "        ('evolution', 0.012513064771221247), ...,\n",
        "        ('connected', 1.3542131331056879e-07),\n",
        "        ('laws', 1.3542131331056879e-07),\n",
        "        ('except', 1.3542131331056879e-07)],\n",
        "       [('mind', 0.021211168566072358), ('man', 0.012475673345860193),\n",
        "        ('facts', 0.010631803845785468), ...,\n",
        "        ('occasion', 1.3077088653000332e-07),\n",
        "        ('france', 1.3077088653000332e-07),\n",
        "        ('whilst', 1.3077088653000332e-07)],\n",
        "       [('animal', 0.02185593858383391), ('animals', 0.018415533918526711),\n",
        "        ('may', 0.013684977503729314), ...,\n",
        "        ('nevertheless', 1.5358949398678881e-07),\n",
        "        ('expressed', 1.5358949398678881e-07),\n",
        "        ('f', 1.5358949398678881e-07)],\n",
        "       [('sense', 0.019975305286265597),\n",
        "        ('sensation', 0.016892319795044481),\n",
        "        ('qualities', 0.015145294683352517), ...,\n",
        "        ('alteration', 1.2845772880076286e-07),\n",
        "        ('notions', 1.2845772880076286e-07),\n",
        "        ('longer', 1.2845772880076286e-07)]], \n",
        "      dtype=[('word', '|S27'), ('value', '<f8')])"
       ]
      }
     ],
     "prompt_number": 49
    },
    {
     "cell_type": "heading",
     "level": 3,
     "metadata": {},
     "source": [
      "Selection of topics by multiple terms"
     ]
    },
    {
     "cell_type": "code",
     "collapsed": false,
     "input": [
      "v2.sim_word_top(['anthropomorphism', 'animal'])"
     ],
     "language": "python",
     "metadata": {},
     "outputs": [
      {
       "html": [
        "<table style=\"margin: 0\"><tr><th style=\"text-align: center; background: #CEE3F6\" colspan\t\t\t=\"11\">Sorted by Word Similarity</th></tr><tr><th style=\"text-align: center; background: #EFF2FB;\" \t\t\t\t\t>Topic</th><th style=\"text-align: center; background: #EFF2FB;\" \t\t\t\t\t>Words</th></tr><tr><td style=\"padding-left:0.75em;\">1</td><td> animal, animals, may, stimulus, experience, would, instinct, reaction, one, stimuli                      </td></tr><tr><td style=\"padding-left:0.75em;\">47</td><td> animals, animal, upon, wild, man, many, one, among, food, elephant                     </td></tr><tr><td style=\"padding-left:0.75em;\">19</td><td> life, animal, nature, animals, living, may, one, every, form, forms                        </td></tr><tr><td style=\"padding-left:0.75em;\">37</td><td> water, body, food, animal, mouth, surface, may, small, eggs, fish                         </td></tr><tr><td style=\"padding-left:0.75em;\">59</td><td> animals, man, dog, language, certain, animal, dogs, may, lower, many                         </td></tr><tr><td style=\"padding-left:0.75em;\">34</td><td> light, eyes, animal, eye, one, movements, sense, food, smell, reaction                     </td></tr><tr><td style=\"padding-left:0.75em;\">42</td><td> animals, organs, hydra, fig, one, animal, class, worms, different, body                         </td></tr><tr><td style=\"padding-left:0.75em;\">20</td><td> nervous, brain, nerve, system, organs, movements, action, matter, nerves, cells                        </td></tr><tr><td style=\"padding-left:0.75em;\">52</td><td> theory, evolution, man, development, life, great, history, soul, first, century                      </td></tr><tr><td style=\"padding-left:0.75em;\">17</td><td> species, forms, animals, series, evolution, one, period, groups, great, fossil                       </td></tr><tr><td style=\"padding-left:0.75em;\">5</td><td> living, chemical, energy, substances, food, substance, acid, oxygen, matter, organic                      </td></tr><tr><td style=\"padding-left:0.75em;\">3</td><td> mind, man, facts, life, evolution, instinct, subjective, instincts, organic, development                  </td></tr><tr><td style=\"padding-left:0.75em;\">45</td><td> science, study, physiology, work, upon, may, one, knowledge, many, anatomy                      </td></tr><tr><td style=\"padding-left:0.75em;\">38</td><td> darwin, work, theory, evolution, natural, great, history, first, century, years                        </td></tr><tr><td style=\"padding-left:0.75em;\">11</td><td> cells, cell, nucleus, protoplasm, division, two, one, fig, egg, organisms                    </td></tr><tr><td style=\"padding-left:0.75em;\">26</td><td> fig, layer, two, primitive, embryo, intestinal, first, form, egg, cells                        </td></tr><tr><td style=\"padding-left:0.75em;\">13</td><td> man, human, animals, mammals, birds, apes, teeth, fig, bones, found                        </td></tr><tr><td style=\"padding-left:0.75em;\">44</td><td> p, 1, 2, 3, vol, f, c, ii, 4, 5                            </td></tr><tr><td style=\"padding-left:0.75em;\">54</td><td> one, consciousness, action, unconscious, act, conscious, desire, may, activity, volition                     </td></tr><tr><td style=\"padding-left:0.75em;\">9</td><td> cells, determinants, one, must, germ-plasm, may, cell, two, case, number                       </td></tr><tr><td style=\"padding-left:0.75em;\">33</td><td> general, one, objects, analysis, two, judgment, concepts, abstract, concept, class                        </td></tr><tr><td style=\"padding-left:0.75em;\">58</td><td> selection, species, evolution, may, variations, natural, characters, conditions, environment, would                        </td></tr><tr><td style=\"padding-left:0.75em;\">51</td><td> sense, sensation, qualities, touch, perception, sensations, extension, sight, senses, us                           </td></tr><tr><td style=\"padding-left:0.75em;\">18</td><td> god, religion, evolution, religious, man, human, science, world, christian, belief                       </td></tr><tr><td style=\"padding-left:0.75em;\">41</td><td> ants, nest, bees, birds, species, eggs, nests, ant, young, also                         </td></tr><tr><td style=\"padding-left:0.75em;\">23</td><td> one, day, would, time, could, two, little, first, long, like                         </td></tr><tr><td style=\"padding-left:0.75em;\">6</td><td> subfield, datafield, code, tag, ind2, ind1, controlfield, b, c, d                            </td></tr><tr><td style=\"padding-left:0.75em;\">55</td><td> object, perception, knowledge, mind, consciousness, reid, immediate, known, external, act                          </td></tr><tr><td style=\"padding-left:0.75em;\">8</td><td> years, time, one, life, period, age, many, old, much, may                          </td></tr></table>"
       ],
       "output_type": "pyout",
       "prompt_number": 50,
       "text": [
        "CompactTable([[('animal', 0.02185593858383391), ('animals', 0.018415533918526711),\n",
        "        ('may', 0.013684977503729314), ...,\n",
        "        ('nevertheless', 1.5358949398678881e-07),\n",
        "        ('expressed', 1.5358949398678881e-07),\n",
        "        ('f', 1.5358949398678881e-07)],\n",
        "       [('animals', 0.015462821705892592),\n",
        "        ('animal', 0.012306088286505283), ('upon', 0.0090601816066833065),\n",
        "        ..., ('poor', 1.7834652086917712e-07),\n",
        "        ('reversion', 1.7834652086917712e-07),\n",
        "        ('perfectly', 1.7834652086917712e-07)],\n",
        "       [('life', 0.027914431818059488), ('animal', 0.016025001638945678),\n",
        "        ('nature', 0.0140982560367968), ...,\n",
        "        ('based', 1.1748448793580035e-07),\n",
        "        ('pupil', 1.1748448793580035e-07), ('f', 1.1748448793580035e-07)],\n",
        "       ..., \n",
        "       [('subfield', 0.20399778184523087),\n",
        "        ('datafield', 0.10336695970746979), ('code', 0.10306807903856623),\n",
        "        ..., ('plants', 2.2990820684868533e-07),\n",
        "        ('used', 2.2990820684868533e-07), ('fact', 2.2990820684868533e-07)],\n",
        "       [('object', 0.025326347196026097),\n",
        "        ('perception', 0.022886616207497136),\n",
        "        ('knowledge', 0.022631414221249337), ...,\n",
        "        ('ask', 1.0208079449902685e-07),\n",
        "        ('thomas', 1.0208079449902685e-07),\n",
        "        ('support', 1.0208079449902685e-07)],\n",
        "       [('years', 0.014879488837380703), ('time', 0.01299806417531784),\n",
        "        ('one', 0.010654346596290961), ...,\n",
        "        ('edge', 1.0750998068920868e-07),\n",
        "        ('covered', 1.0750998068920868e-07),\n",
        "        ('white', 1.0750998068920868e-07)]], \n",
        "      dtype=[('word', '|S27'), ('value', '<f8')])"
       ]
      }
     ],
     "prompt_number": 50
    },
    {
     "cell_type": "heading",
     "level": 3,
     "metadata": {},
     "source": [
      "Selection of pages by topic"
     ]
    },
    {
     "cell_type": "code",
     "collapsed": false,
     "input": [
      "v2.sim_top_doc(1, print_len=200, label_fn=htrc_label_fn_86)"
     ],
     "language": "python",
     "metadata": {},
     "outputs": [
      {
       "html": [
        "<table style=\"margin: 0\"><tr><th style=\"text-align: center; background: #CEE3F6\" colspan\t\t        =\"2\">Topics: 1</th></tr><tr><th style=\"text-align: center; background: #EFF2FB; \">Document\t\t\t</th><th style=\"text-align: center; background: #EFF2FB; \">Prob\t\t\t</th></tr><tr><td>The animal mind, uc2.ark+=13960=t5w66bs1h/00000043.txt                                        </td><td>1.00000   </td></tr><tr><td>The animal mind, uc2.ark+=13960=t7gq6st77/00000047.txt                                        </td><td>1.00000   </td></tr><tr><td>The animal mind, uc2.ark+=13960=t7gq6st77/00000016.txt                                        </td><td>0.99999   </td></tr><tr><td>The animal mind, uc2.ark+=13960=t7gq6st77/00000263.txt                                        </td><td>0.99993   </td></tr><tr><td>Mind in the low, uc2.ark+=13960=t59c6tb7t/00000179.txt                                        </td><td>0.99988   </td></tr><tr><td>The animal mind, uc2.ark+=13960=t5w66bs1h/00000219.txt                                        </td><td>0.99937   </td></tr><tr><td>The animal mind, uc2.ark+=13960=t7gq6st77/00000071.txt                                        </td><td>0.99893   </td></tr><tr><td>The animal mind, uc2.ark+=13960=t5w66bs1h/00000232.txt                                        </td><td>0.99887   </td></tr><tr><td>The animal mind, uc2.ark+=13960=t5w66bs1h/00000057.txt                                        </td><td>0.99778   </td></tr><tr><td>The animal mind, uc2.ark+=13960=t7gq6st77/00000048.txt                                        </td><td>0.99700   </td></tr><tr><td>The animal mind, uc2.ark+=13960=t5w66bs1h/00000072.txt                                        </td><td>0.99693   </td></tr><tr><td>The animal mind, uc2.ark+=13960=t7gq6st77/00000320.txt                                        </td><td>0.99693   </td></tr><tr><td>The animal mind, uc2.ark+=13960=t5w66bs1h/00000044.txt                                        </td><td>0.99438   </td></tr><tr><td>The animal mind, uc2.ark+=13960=t5w66bs1h/00000047.txt                                        </td><td>0.99394   </td></tr><tr><td>The animal mind, uc2.ark+=13960=t5w66bs1h/00000012.txt                                        </td><td>0.99313   </td></tr><tr><td>The animal mind, uc2.ark+=13960=t5w66bs1h/00000077.txt                                        </td><td>0.99313   </td></tr><tr><td>The animal mind, uc2.ark+=13960=t5w66bs1h/00000048.txt                                        </td><td>0.99200   </td></tr><tr><td>The animal mind, uc2.ark+=13960=t5w66bs1h/00000307.txt                                        </td><td>0.99156   </td></tr><tr><td>The animal mind, uc2.ark+=13960=t7gq6st77/00000339.txt                                        </td><td>0.99113   </td></tr><tr><td>The animal mind, uc2.ark+=13960=t5w66bs1h/00000284.txt                                        </td><td>0.99093   </td></tr><tr><td>The animal mind, uc2.ark+=13960=t5w66bs1h/00000302.txt                                        </td><td>0.99034   </td></tr><tr><td>The animal mind, uc2.ark+=13960=t7gq6st77/00000052.txt                                        </td><td>0.98970   </td></tr><tr><td>The animal mind, uc2.ark+=13960=t5w66bs1h/00000220.txt                                        </td><td>0.98870   </td></tr><tr><td>The animal mind, uc2.ark+=13960=t7gq6st77/00000306.txt                                        </td><td>0.98853   </td></tr><tr><td>The animal mind, uc2.ark+=13960=t7gq6st77/00000064.txt                                        </td><td>0.98827   </td></tr><tr><td>The animal mind, uc2.ark+=13960=t7gq6st77/00000054.txt                                        </td><td>0.98791   </td></tr><tr><td>The animal mind, uc2.ark+=13960=t7gq6st77/00000267.txt                                        </td><td>0.98732   </td></tr><tr><td>The animal mind, uc2.ark+=13960=t7gq6st77/00000268.txt                                        </td><td>0.98702   </td></tr><tr><td>The animal mind, uc2.ark+=13960=t5w66bs1h/00000051.txt                                        </td><td>0.98622   </td></tr><tr><td>The animal mind, uc2.ark+=13960=t7gq6st77/00000305.txt                                        </td><td>0.98619   </td></tr><tr><td>The animal mind, uc2.ark+=13960=t5w66bs1h/00000289.txt                                        </td><td>0.98473   </td></tr><tr><td>The animal mind, uc2.ark+=13960=t5w66bs1h/00000075.txt                                        </td><td>0.98317   </td></tr><tr><td>The animal mind, uc2.ark+=13960=t5w66bs1h/00000305.txt                                        </td><td>0.98186   </td></tr><tr><td>The animal mind, uc2.ark+=13960=t7gq6st77/00000264.txt                                        </td><td>0.98096   </td></tr><tr><td>The animal mind, uc2.ark+=13960=t7gq6st77/00000077.txt                                        </td><td>0.98060   </td></tr><tr><td>The animal mind, uc2.ark+=13960=t5w66bs1h/00000078.txt                                        </td><td>0.97992   </td></tr><tr><td>The animal mind, uc2.ark+=13960=t5w66bs1h/00000306.txt                                        </td><td>0.97903   </td></tr><tr><td>The animal mind, uc2.ark+=13960=t5w66bs1h/00000050.txt                                        </td><td>0.97858   </td></tr><tr><td>The animal mind, uc2.ark+=13960=t7gq6st77/00000078.txt                                        </td><td>0.97850   </td></tr><tr><td>The animal mind, uc2.ark+=13960=t7gq6st77/00000040.txt                                        </td><td>0.97820   </td></tr><tr><td>The animal mind, uc2.ark+=13960=t7gq6st77/00000335.txt                                        </td><td>0.97706   </td></tr><tr><td>The animal mind, uc2.ark+=13960=t5w66bs1h/00000288.txt                                        </td><td>0.97650   </td></tr><tr><td>The animal mind, uc2.ark+=13960=t5w66bs1h/00000251.txt                                        </td><td>0.97641   </td></tr><tr><td>The animal mind, uc2.ark+=13960=t7gq6st77/00000336.txt                                        </td><td>0.97481   </td></tr><tr><td>The animal mind, uc2.ark+=13960=t7gq6st77/00000341.txt                                        </td><td>0.97463   </td></tr><tr><td>The animal mind, uc2.ark+=13960=t5w66bs1h/00000221.txt                                        </td><td>0.97448   </td></tr><tr><td>The animal mind, uc2.ark+=13960=t7gq6st77/00000051.txt                                        </td><td>0.97263   </td></tr><tr><td>The animal mind, uc2.ark+=13960=t5w66bs1h/00000049.txt                                        </td><td>0.97234   </td></tr><tr><td>The animal mind, uc2.ark+=13960=t5w66bs1h/00000041.txt                                        </td><td>0.97194   </td></tr><tr><td>The animal mind, uc2.ark+=13960=t7gq6st77/00000074.txt                                        </td><td>0.97123   </td></tr><tr><td>The animal mind, uc2.ark+=13960=t7gq6st77/00000022.txt                                        </td><td>0.97040   </td></tr><tr><td>The animal mind, uc2.ark+=13960=t7gq6st77/00000322.txt                                        </td><td>0.97031   </td></tr><tr><td>The animal mind, uc2.ark+=13960=t7gq6st77/00000053.txt                                        </td><td>0.96857   </td></tr><tr><td>The animal mind, uc2.ark+=13960=t7gq6st77/00000065.txt                                        </td><td>0.96842   </td></tr><tr><td>The animal mind, uc2.ark+=13960=t5w66bs1h/00000231.txt                                        </td><td>0.96804   </td></tr><tr><td>The animal mind, uc2.ark+=13960=t5w66bs1h/00000163.txt                                        </td><td>0.96750   </td></tr><tr><td>The animal mind, uc2.ark+=13960=t5w66bs1h/00000069.txt                                        </td><td>0.96691   </td></tr><tr><td>The animal mind, uc2.ark+=13960=t5w66bs1h/00000046.txt                                        </td><td>0.96652   </td></tr><tr><td>General biology, uc2.ark+=13960=t0ht2h954/00000487.txt                                        </td><td>0.96431   </td></tr><tr><td>The animal mind, uc2.ark+=13960=t7gq6st77/00000045.txt                                        </td><td>0.96364   </td></tr><tr><td>The animal mind, uc2.ark+=13960=t5w66bs1h/00000059.txt                                        </td><td>0.96275   </td></tr><tr><td>The animal mind, uc2.ark+=13960=t7gq6st77/00000338.txt                                        </td><td>0.96273   </td></tr><tr><td>The animal mind, uc2.ark+=13960=t7gq6st77/00000321.txt                                        </td><td>0.96221   </td></tr><tr><td>The animal mind, uc2.ark+=13960=t5w66bs1h/00000076.txt                                        </td><td>0.96112   </td></tr><tr><td>The animal mind, uc2.ark+=13960=t7gq6st77/00000191.txt                                        </td><td>0.95726   </td></tr><tr><td>The animal mind, uc2.ark+=13960=t7gq6st77/00000063.txt                                        </td><td>0.95681   </td></tr><tr><td>The animal mind, uc2.ark+=13960=t7gq6st77/00000050.txt                                        </td><td>0.95478   </td></tr><tr><td>The animal mind, uc2.ark+=13960=t5w66bs1h/00000255.txt                                        </td><td>0.95437   </td></tr><tr><td>The animal mind, uc2.ark+=13960=t5w66bs1h/00000162.txt                                        </td><td>0.95326   </td></tr><tr><td>The animal mind, uc2.ark+=13960=t7gq6st77/00000190.txt                                        </td><td>0.94935   </td></tr><tr><td>The animal mind, uc2.ark+=13960=t5w66bs1h/00000303.txt                                        </td><td>0.94833   </td></tr><tr><td>The animal mind, uc2.ark+=13960=t5w66bs1h/00000058.txt                                        </td><td>0.94710   </td></tr><tr><td>General biology, uc2.ark+=13960=t0ht2h954/00000488.txt                                        </td><td>0.94587   </td></tr><tr><td>The animal mind, uc2.ark+=13960=t5w66bs1h/00000032.txt                                        </td><td>0.94539   </td></tr><tr><td>The animal mind, uc2.ark+=13960=t7gq6st77/00000056.txt                                        </td><td>0.94525   </td></tr><tr><td>The animal mind, uc2.ark+=13960=t7gq6st77/00000276.txt                                        </td><td>0.94447   </td></tr><tr><td>The animal mind, uc2.ark+=13960=t5w66bs1h/00000030.txt                                        </td><td>0.94390   </td></tr><tr><td>The animal mind, uc2.ark+=13960=t5w66bs1h/00000252.txt                                        </td><td>0.94263   </td></tr><tr><td>The animal mind, uc2.ark+=13960=t5w66bs1h/00000031.txt                                        </td><td>0.94186   </td></tr><tr><td>The animal mind, uc2.ark+=13960=t5w66bs1h/00000063.txt                                        </td><td>0.94182   </td></tr><tr><td>The animal mind, uc2.ark+=13960=t5w66bs1h/00000038.txt                                        </td><td>0.94132   </td></tr><tr><td>The animal mind, uc2.ark+=13960=t7gq6st77/00000042.txt                                        </td><td>0.93811   </td></tr><tr><td>The spiritual i, yale.39002088677183/00000332.txt                                             </td><td>0.93777   </td></tr><tr><td>The animal mind, uc2.ark+=13960=t5w66bs1h/00000293.txt                                        </td><td>0.93757   </td></tr><tr><td>The animal mind, uc2.ark+=13960=t7gq6st77/00000337.txt                                        </td><td>0.93681   </td></tr><tr><td>The animal mind, uc2.ark+=13960=t5w66bs1h/00000299.txt                                        </td><td>0.93596   </td></tr><tr><td>The animal mind, uc2.ark+=13960=t7gq6st77/00000049.txt                                        </td><td>0.93561   </td></tr><tr><td>The animal mind, uc2.ark+=13960=t7gq6st77/00000035.txt                                        </td><td>0.93553   </td></tr><tr><td>The animal mind, uc2.ark+=13960=t5w66bs1h/00000304.txt                                        </td><td>0.93502   </td></tr><tr><td>The animal mind, uc2.ark+=13960=t7gq6st77/00000269.txt                                        </td><td>0.93199   </td></tr><tr><td>The animal mind, uc2.ark+=13960=t7gq6st77/00000075.txt                                        </td><td>0.93189   </td></tr><tr><td>The animal mind, uc2.ark+=13960=t5w66bs1h/00000295.txt                                        </td><td>0.93137   </td></tr><tr><td>The animal mind, uc2.ark+=13960=t7gq6st77/00000340.txt                                        </td><td>0.93135   </td></tr><tr><td>The animal mind, uc2.ark+=13960=t7gq6st77/00000044.txt                                        </td><td>0.92629   </td></tr><tr><td>The animal mind, uc2.ark+=13960=t7gq6st77/00000084.txt                                        </td><td>0.92617   </td></tr><tr><td>The animal mind, uc2.ark+=13960=t5w66bs1h/00000035.txt                                        </td><td>0.92422   </td></tr><tr><td>The animal mind, uc2.ark+=13960=t5w66bs1h/00000018.txt                                        </td><td>0.92350   </td></tr><tr><td>The animal mind, uc2.ark+=13960=t7gq6st77/00000331.txt                                        </td><td>0.92342   </td></tr><tr><td>The animal mind, uc2.ark+=13960=t5w66bs1h/00000033.txt                                        </td><td>0.92270   </td></tr><tr><td>The animal mind, uc2.ark+=13960=t5w66bs1h/00000040.txt                                        </td><td>0.92171   </td></tr><tr><td>The animal mind, uc2.ark+=13960=t5w66bs1h/00000285.txt                                        </td><td>0.92169   </td></tr><tr><td>The animal mind, uc2.ark+=13960=t7gq6st77/00000307.txt                                        </td><td>0.92092   </td></tr><tr><td>The animal mind, uc2.ark+=13960=t5w66bs1h/00000308.txt                                        </td><td>0.92033   </td></tr><tr><td>The animal mind, uc2.ark+=13960=t5w66bs1h/00000280.txt                                        </td><td>0.91703   </td></tr><tr><td>The animal mind, uc2.ark+=13960=t5w66bs1h/00000074.txt                                        </td><td>0.91628   </td></tr><tr><td>General biology, uc2.ark+=13960=t0ht2h954/00000474.txt                                        </td><td>0.91519   </td></tr><tr><td>The animal mind, uc2.ark+=13960=t5w66bs1h/00000230.txt                                        </td><td>0.91420   </td></tr><tr><td>The animal mind, uc2.ark+=13960=t5w66bs1h/00000082.txt                                        </td><td>0.91290   </td></tr><tr><td>The animal mind, uc2.ark+=13960=t7gq6st77/00000037.txt                                        </td><td>0.91284   </td></tr><tr><td>The animal mind, uc2.ark+=13960=t7gq6st77/00000030.txt                                        </td><td>0.91169   </td></tr><tr><td>The animal mind, uc2.ark+=13960=t5w66bs1h/00000290.txt                                        </td><td>0.91073   </td></tr><tr><td>The animal mind, uc2.ark+=13960=t7gq6st77/00000043.txt                                        </td><td>0.90936   </td></tr><tr><td>The animal mind, uc2.ark+=13960=t7gq6st77/00000194.txt                                        </td><td>0.90916   </td></tr><tr><td>A text-book in , uc2.ark+=13960=t52f7m354/00000108.txt                                        </td><td>0.90843   </td></tr><tr><td>Comparative stu, uc2.ark+=13960=t6057f659/00000210.txt                                        </td><td>0.90773   </td></tr><tr><td>The animal mind, uc2.ark+=13960=t5w66bs1h/00000056.txt                                        </td><td>0.90733   </td></tr><tr><td>The animal mind, uc2.ark+=13960=t5w66bs1h/00000045.txt                                        </td><td>0.90731   </td></tr><tr><td>The animal mind, uc2.ark+=13960=t5w66bs1h/00000261.txt                                        </td><td>0.90432   </td></tr><tr><td>General biology, uc2.ark+=13960=t0ht2h954/00000471.txt                                        </td><td>0.90338   </td></tr><tr><td>The animal mind, uc2.ark+=13960=t7gq6st77/00000036.txt                                        </td><td>0.90329   </td></tr><tr><td>The animal mind, uc2.ark+=13960=t7gq6st77/00000309.txt                                        </td><td>0.90138   </td></tr><tr><td>The animal mind, uc2.ark+=13960=t7gq6st77/00000275.txt                                        </td><td>0.90082   </td></tr><tr><td>The animal mind, uc2.ark+=13960=t5w66bs1h/00000034.txt                                        </td><td>0.90079   </td></tr><tr><td>The animal mind, uc2.ark+=13960=t7gq6st77/00000070.txt                                        </td><td>0.89839   </td></tr><tr><td>The animal mind, uc2.ark+=13960=t7gq6st77/00000079.txt                                        </td><td>0.89784   </td></tr><tr><td>The animal mind, uc2.ark+=13960=t5w66bs1h/00000009.txt                                        </td><td>0.89732   </td></tr><tr><td>Comparative stu, uc2.ark+=13960=t6057f659/00000155.txt                                        </td><td>0.89721   </td></tr><tr><td>The animal mind, uc2.ark+=13960=t7gq6st77/00000073.txt                                        </td><td>0.89590   </td></tr><tr><td>The animal mind, uc2.ark+=13960=t7gq6st77/00000055.txt                                        </td><td>0.89429   </td></tr><tr><td>The animal mind, uc2.ark+=13960=t7gq6st77/00000013.txt                                        </td><td>0.89300   </td></tr><tr><td>The animal mind, uc2.ark+=13960=t7gq6st77/00000334.txt                                        </td><td>0.89290   </td></tr><tr><td>The animal mind, uc2.ark+=13960=t5w66bs1h/00000134.txt                                        </td><td>0.89204   </td></tr><tr><td>The animal mind, uc2.ark+=13960=t7gq6st77/00000295.txt                                        </td><td>0.89175   </td></tr><tr><td>The animal mind, uc2.ark+=13960=t5w66bs1h/00000015.txt                                        </td><td>0.89169   </td></tr><tr><td>The animal mind, uc2.ark+=13960=t7gq6st77/00000234.txt                                        </td><td>0.89140   </td></tr><tr><td>The animal mind, uc2.ark+=13960=t7gq6st77/00000046.txt                                        </td><td>0.89116   </td></tr><tr><td>The animal mind, uc2.ark+=13960=t7gq6st77/00000297.txt                                        </td><td>0.88494   </td></tr><tr><td>The animal mind, uc2.ark+=13960=t7gq6st77/00000072.txt                                        </td><td>0.88232   </td></tr><tr><td>The animal mind, uc2.ark+=13960=t7gq6st77/00000019.txt                                        </td><td>0.88056   </td></tr><tr><td>The animal mind, uc2.ark+=13960=t5w66bs1h/00000079.txt                                        </td><td>0.87901   </td></tr><tr><td>The animal mind, uc2.ark+=13960=t5w66bs1h/00000026.txt                                        </td><td>0.87779   </td></tr><tr><td>The animal mind, uc2.ark+=13960=t5w66bs1h/00000066.txt                                        </td><td>0.87412   </td></tr><tr><td>Comparative stu, uc2.ark+=13960=t6057f659/00000156.txt                                        </td><td>0.87311   </td></tr><tr><td>The animal mind, uc2.ark+=13960=t7gq6st77/00000080.txt                                        </td><td>0.87155   </td></tr><tr><td>The animal mind, uc2.ark+=13960=t5w66bs1h/00000067.txt                                        </td><td>0.87146   </td></tr><tr><td>The animal mind, uc2.ark+=13960=t7gq6st77/00000031.txt                                        </td><td>0.87008   </td></tr><tr><td>The animal mind, uc2.ark+=13960=t5w66bs1h/00000039.txt                                        </td><td>0.86908   </td></tr><tr><td>Leisure-time st, uc2.ark+=13960=t3qv3dk5w/00000363.txt                                        </td><td>0.86781   </td></tr><tr><td>The animal mind, uc2.ark+=13960=t7gq6st77/00000066.txt                                        </td><td>0.86715   </td></tr><tr><td>The animal mind, uc2.ark+=13960=t7gq6st77/00000041.txt                                        </td><td>0.86647   </td></tr><tr><td>The animal mind, uc2.ark+=13960=t5w66bs1h/00000042.txt                                        </td><td>0.86340   </td></tr><tr><td>The animal mind, uc2.ark+=13960=t5w66bs1h/00000287.txt                                        </td><td>0.86153   </td></tr><tr><td>The animal mind, uc2.ark+=13960=t5w66bs1h/00000259.txt                                        </td><td>0.85918   </td></tr><tr><td>A text-book in , uc2.ark+=13960=t52f7m354/00000105.txt                                        </td><td>0.85813   </td></tr><tr><td>The animal mind, uc2.ark+=13960=t5w66bs1h/00000073.txt                                        </td><td>0.85633   </td></tr><tr><td>The principles , uc2.ark+=13960=t74t6gs0m/00000246.txt                                        </td><td>0.85412   </td></tr><tr><td>The spiritual i, yale.39002088677183/00000325.txt                                             </td><td>0.85274   </td></tr><tr><td>The animal mind, uc2.ark+=13960=t7gq6st77/00000069.txt                                        </td><td>0.85141   </td></tr><tr><td>The animal mind, uc2.ark+=13960=t5w66bs1h/00000291.txt                                        </td><td>0.85130   </td></tr><tr><td>The animal mind, uc2.ark+=13960=t5w66bs1h/00000037.txt                                        </td><td>0.85030   </td></tr><tr><td>Human psycholog, uc2.ark+=13960=t0bv7dz15/00000206.txt                                        </td><td>0.84516   </td></tr><tr><td>Human psycholog, uc2.ark+=13960=t1ng4kj9v/00000204.txt                                        </td><td>0.84038   </td></tr><tr><td>The animal mind, uc2.ark+=13960=t7gq6st77/00000323.txt                                        </td><td>0.83853   </td></tr><tr><td>The animal mind, uc2.ark+=13960=t5w66bs1h/00000229.txt                                        </td><td>0.83614   </td></tr><tr><td>The animal mind, uc2.ark+=13960=t7gq6st77/00000279.txt                                        </td><td>0.83455   </td></tr><tr><td>The animal mind, uc2.ark+=13960=t7gq6st77/00000034.txt                                        </td><td>0.83380   </td></tr><tr><td>The animal mind, uc2.ark+=13960=t7gq6st77/00000021.txt                                        </td><td>0.83283   </td></tr><tr><td>A text-book in , uc2.ark+=13960=t52f7m354/00000107.txt                                        </td><td>0.82928   </td></tr><tr><td>The animal mind, uc2.ark+=13960=t5w66bs1h/00000294.txt                                        </td><td>0.82702   </td></tr><tr><td>The animal mind, uc2.ark+=13960=t7gq6st77/00000319.txt                                        </td><td>0.82697   </td></tr><tr><td>The human speci, uc2.ark+=13960=t80k2fg27/00000323.txt                                        </td><td>0.82677   </td></tr><tr><td>The animal mind, uc2.ark+=13960=t5w66bs1h/00000062.txt                                        </td><td>0.82630   </td></tr><tr><td>The animal mind, uc2.ark+=13960=t7gq6st77/00000266.txt                                        </td><td>0.82625   </td></tr><tr><td>The animal mind, uc2.ark+=13960=t7gq6st77/00000265.txt                                        </td><td>0.82463   </td></tr><tr><td>Comparative stu, uc2.ark+=13960=t6057f659/00000007.txt                                        </td><td>0.82462   </td></tr><tr><td>Progress of sci, uc2.ark+=13960=t5p84550z/00000470.txt                                        </td><td>0.82459   </td></tr><tr><td>The animal mind, uc2.ark+=13960=t5w66bs1h/00000165.txt                                        </td><td>0.82242   </td></tr><tr><td>The animal mind, uc2.ark+=13960=t7gq6st77/00000192.txt                                        </td><td>0.82102   </td></tr><tr><td>Ants and some o, uc2.ark+=13960=t1jh3f62c/00000044.txt                                        </td><td>0.82068   </td></tr><tr><td>The spiritual i, yale.39002088677183/00000326.txt                                             </td><td>0.81970   </td></tr><tr><td>The animal mind, uc2.ark+=13960=t5w66bs1h/00000228.txt                                        </td><td>0.81934   </td></tr><tr><td>The animal mind, uc2.ark+=13960=t5w66bs1h/00000027.txt                                        </td><td>0.81901   </td></tr><tr><td>The principles , uc2.ark+=13960=t74t6gs0m/00000308.txt                                        </td><td>0.81807   </td></tr><tr><td>The animal mind, uc2.ark+=13960=t5w66bs1h/00000225.txt                                        </td><td>0.81764   </td></tr><tr><td>The spiritual i, yale.39002088677183/00000324.txt                                             </td><td>0.81584   </td></tr><tr><td>The animal mind, uc2.ark+=13960=t5w66bs1h/00000204.txt                                        </td><td>0.81510   </td></tr><tr><td>The animal mind, uc2.ark+=13960=t5w66bs1h/00000300.txt                                        </td><td>0.81328   </td></tr><tr><td>The animal mind, uc2.ark+=13960=t7gq6st77/00000289.txt                                        </td><td>0.81193   </td></tr><tr><td>The spiritual i, yale.39002088677183/00000337.txt                                             </td><td>0.81136   </td></tr><tr><td>The nature and , uc2.ark+=13960=t05x26n0d/00000013.txt                                        </td><td>0.81122   </td></tr><tr><td>The spiritual i, yale.39002088677183/00000327.txt                                             </td><td>0.81109   </td></tr><tr><td>The animal mind, uc2.ark+=13960=t7gq6st77/00000020.txt                                        </td><td>0.80852   </td></tr><tr><td>International C, uc2.ark+=13960=t1kh0hv1d/00000045.txt                                        </td><td>0.80757   </td></tr><tr><td>Evolutional eth, uc2.ark+=13960=t26972z86/00000179.txt                                        </td><td>0.80659   </td></tr><tr><td>General biology, uc2.ark+=13960=t0ht2h954/00000452.txt                                        </td><td>0.80201   </td></tr><tr><td>The animal mind, uc2.ark+=13960=t7gq6st77/00000038.txt                                        </td><td>0.80182   </td></tr><tr><td>General biology, uc2.ark+=13960=t0ht2h954/00000455.txt                                        </td><td>0.80171   </td></tr><tr><td>General biology, uc2.ark+=13960=t0ht2h954/00000491.txt                                        </td><td>0.80136   </td></tr><tr><td>Progress of sci, uc2.ark+=13960=t5p84550z/00000471.txt                                        </td><td>0.80006   </td></tr><tr><td>The animal mind, uc2.ark+=13960=t5w66bs1h/00000016.txt                                        </td><td>0.79857   </td></tr></table>"
       ],
       "output_type": "pyout",
       "prompt_number": 51,
       "text": [
        "LabeledColumn([ ('The animal mind, uc2.ark+=13960=t5w66bs1h/00000043.txt', 0.99999987063686924),\n",
        "       ('The animal mind, uc2.ark+=13960=t7gq6st77/00000047.txt', 0.99999985372029809),\n",
        "       ('The animal mind, uc2.ark+=13960=t7gq6st77/00000016.txt', 0.99999183694985294),\n",
        "       ...,\n",
        "       ('A history of th, uiuo.ark+=13960=t8tb11b3m/uiuo.ark+=13960=t8tb11b3m_metadata.json.pickle', 1.4004291058515119e-05),\n",
        "       ('Public school m, uc2.ark+=13960=t0js9wj9c/uc2.ark+=13960=t0js9wj9c_metadata.json.pickle', 1.2784785660870851e-05),\n",
        "       ('International C, uc2.ark+=13960=t1kh0hv1d/uc2.ark+=13960=t1kh0hv1d_metadata.json.pickle', 6.3478879602122565e-06)], \n",
        "      dtype=[('doc', '|S89'), ('value', '<f8')])"
       ]
      }
     ],
     "prompt_number": 51
    },
    {
     "cell_type": "heading",
     "level": 3,
     "metadata": {},
     "source": [
      "Note that the list above enables us to find the books with a large number of topic relevant pages."
     ]
    },
    {
     "cell_type": "markdown",
     "metadata": {},
     "source": [
      "* We selected the three books with highest aggregate of 20-40 topic-relevant pages for precise argument analysis; specifically:\n",
      "    * <em>The Animal Mind: A Text-book of Comparative Psychology</em> by Margaret Floy WASHBURN, 1908\n",
      "    * <em>Comparative Studies: Psychology of Ants and of Higher Animals</em> by Eric WASMANN, 1905\n",
      "    * <em>The Principles of Heredity by  G. Archdall REID</em>, 1906\n",
      "* Argument analysis currently proceeding manually (image below)\n",
      "* Next step: to augment argument analysis with automation:\n",
      "    * Re modeling of the three volumes at the sentence level\n",
      "    * Training of other methods using human analyis plus sentence similarity"
     ]
    },
    {
     "cell_type": "heading",
     "level": 4,
     "metadata": {},
     "source": [
      "<center>Result of manual argument analysis</center>\n",
      "<center><img src=\"http://mypage.iu.edu/~colallen/Images/AnimalMindArg10.jpg\" title=\"Argument Analysis\"></center>"
     ]
    },
    {
     "cell_type": "heading",
     "level": 1,
     "metadata": {},
     "source": [
      "<center><font color=\"red\">VERY PRELIMINARY WORK BELOW!</font><br>\n",
      "    LDA Topic Model of Margaret Floy Washburn's <em>The Animal Mind</em><br>\n",
      "    using sentences as documents </center>"
     ]
    },
    {
     "cell_type": "code",
     "collapsed": false,
     "input": [
      "# The Animal Mind (Book) as corpus with sentences as documents\n",
      "path = '/var/inphosemantics/data/20130815/htrc-sentences-t5w66bs1h/vsm-data/'\n",
      "corpus = path + 't5w66bs1h.npz'\n",
      "\n",
      "# here we load the 120-topic model\n",
      "m = LDA.load(path + 'htrc-t5w66bs1h-LDA-K120-1200.npz')\n",
      "#m1 = LDA.load('/var/inphosemantics/data/20130815/htrc-sentences-t5w66bs1h/vsm-data/htrc-t5w66bs1h-LDA-K60-1200.npz')\n",
      "#m2 = LDA.load('/var/inphosemantics/data/20130815/htrc-sentences-t5w66bs1h/vsm-data/htrc-t5w66bs1h-LDA-K80-1200.npz')\n",
      "#m3 = LDA.load('/var/inphosemantics/data/20130815/htrc-sentences-t5w66bs1h/vsm-data/htrc-t5w66bs1h-LDA-K100-1200.npz')\n",
      "v = LDAViewer(c, m)\n",
      "#v1 = LDAViewer(c, m1)\n",
      "#v2 = LDAViewer(c, m2)\n",
      "#v3 = LDAViewer(c, m3)\n",
      "\n",
      "\n",
      "c = CorpusSent.load(corpus)\n",
      "v = LDAViewer(c, m)"
     ],
     "language": "python",
     "metadata": {},
     "outputs": [
      {
       "output_type": "stream",
       "stream": "stdout",
       "text": [
        "Loading LDA-Gibbs data from /var/inphosemantics/data/20130815/htrc-sentences-t5w66bs1h/vsm-data/htrc-t5w66bs1h-LDA-K120-1200.npz\n",
        "Loading corpus from"
       ]
      },
      {
       "output_type": "stream",
       "stream": "stdout",
       "text": [
        " /var/inphosemantics/data/20130815/htrc-sentences-t5w66bs1h/vsm-data/t5w66bs1h.npz\n"
       ]
      }
     ],
     "prompt_number": 73
    },
    {
     "cell_type": "code",
     "collapsed": false,
     "input": [
      "v.topics() ## show all the topics unsorted"
     ],
     "language": "python",
     "metadata": {},
     "outputs": [
      {
       "html": [
        "<table style=\"margin: 0\"><tr><th style=\"text-align: center; background: #CEE3F6\" colspan\t\t\t=\"11\">Topics Sorted by Index</th></tr><tr><th style=\"text-align: center; background: #EFF2FB;\" \t\t\t\t\t>Topic</th><th style=\"text-align: center; background: #EFF2FB;\" \t\t\t\t\t>Words</th></tr><tr><td style=\"padding-left:0.75em;\">0</td><td> j, l, f, e, cole, w, bentley, uexkull, loeb, akad                         </td></tr><tr><td style=\"padding-left:0.75em;\">1</td><td> sense, smell, hearing, taste, sight, organ, insects, fishes, sensory, study                        </td></tr><tr><td style=\"padding-left:0.75em;\">2</td><td> psychology, comparative, animal, experimental, mind, human, study, writers, psychologist, upon                         </td></tr><tr><td style=\"padding-left:0.75em;\">3</td><td> process, may, become, food, many, long, reaction, used, reduced, state                        </td></tr><tr><td style=\"padding-left:0.75em;\">4</td><td> h, c, g, f, e, m, b, j, parker, o                            </td></tr><tr><td style=\"padding-left:0.75em;\">5</td><td> body, surface, animal, food, contact, occur, solid, end, water, two                          </td></tr><tr><td style=\"padding-left:0.75em;\">6</td><td> experience, learning, animal, memory, form, individual, ideas, rapid, idea, learn                        </td></tr><tr><td style=\"padding-left:0.75em;\">7</td><td> vol, physiol, ibid, psych, nat, sci, studies, n.s, science, arts                         </td></tr><tr><td style=\"padding-left:0.75em;\">8</td><td> cilia, current, paramecium, water, swim, bodies, reaction, fact, jennings, animals                      </td></tr><tr><td style=\"padding-left:0.75em;\">9</td><td> animal, method, behavior, interpretation, methods, error, facts, anecdote, trial, experiment                   </td></tr><tr><td style=\"padding-left:0.75em;\">10</td><td> p, 1, 15, 8, 10, 4, ibid, 5, 13, 23                           </td></tr><tr><td style=\"padding-left:0.75em;\">11</td><td> sensation, different, sensations, may, consciousness, qualities, experience, quality, animal, human                        </td></tr><tr><td style=\"padding-left:0.75em;\">12</td><td> p, 17, 14, 16, 21, 22, ibid, 20, 12, 18                           </td></tr><tr><td style=\"padding-left:0.75em;\">13</td><td> pp, two, seen, already, observation, pages, ways, may, dark, rapidly                      </td></tr><tr><td style=\"padding-left:0.75em;\">14</td><td> water, sounds, case, produced, response, current, vibrations, respond, electric, react                        </td></tr><tr><td style=\"padding-left:0.75em;\">15</td><td> side, direction, toward, would, one, opposite, move, object, moved, fish                         </td></tr><tr><td style=\"padding-left:0.75em;\">16</td><td> effect, upon, body, movement, like, light, position, sides, influence, motor                        </td></tr><tr><td style=\"padding-left:0.75em;\">17</td><td> make, conditions, tell, find, behavior, study, observation, ordinary, good, careful                      </td></tr><tr><td style=\"padding-left:0.75em;\">18</td><td> placed, food, one, containing, side, fish, water, either, tank, forceps                      </td></tr><tr><td style=\"padding-left:0.75em;\">19</td><td> jour, neur, trans, leipzig, abth, und, wiss, wien, abstract, st                           </td></tr><tr><td style=\"padding-left:0.75em;\">20</td><td> bees, hive, flowers, visual, memory, bethe, back, insects, explain, smell                        </td></tr><tr><td style=\"padding-left:0.75em;\">21</td><td> reaction, negative, stimulus, mechanical, contact, may, stimulation, positive, form, response                     </td></tr><tr><td style=\"padding-left:0.75em;\">22</td><td> human, experience, animals, power, would, ideas, know, beings, mind, difference                   </td></tr><tr><td style=\"padding-left:0.75em;\">23</td><td> reaction, substances, stimuli, also, edible, gonionemus, chemical, reactions, hand, metridium                    </td></tr><tr><td style=\"padding-left:0.75em;\">24</td><td> evidence, must, distance, us, use, give, could, learning, experience, think                        </td></tr><tr><td style=\"padding-left:0.75em;\">25</td><td> animals, processes, mental, methods, visual, life, form, test, discrimination, phenomena                    </td></tr><tr><td style=\"padding-left:0.75em;\">26</td><td> r, c, acad, w, n, m, soc, v, e, yerkes                       </td></tr><tr><td style=\"padding-left:0.75em;\">27</td><td> number, found, place, romanes, years, series, mollusk, takes, cause, compartment                  </td></tr><tr><td style=\"padding-left:0.75em;\">28</td><td> wasp, nest, wasps, one, solitary, new, least, locality, flight, prey                         </td></tr><tr><td style=\"padding-left:0.75em;\">29</td><td> sensation, sense, may, specific, quality, special, reactions, accompanied, organ, organs                       </td></tr><tr><td style=\"padding-left:0.75em;\">30</td><td> one, would, probably, visual, another, greater, case, differ, true, seems                        </td></tr><tr><td style=\"padding-left:0.75em;\">31</td><td> may, term, professor, groups, whose, library, frontal, book, page, habits                       </td></tr><tr><td style=\"padding-left:0.75em;\">32</td><td> movements, dropping, useless, psychic, pleasure, idea, second, show, part, ones                         </td></tr><tr><td style=\"padding-left:0.75em;\">33</td><td> instinct, experience, cases, object, action, inhibition, instinctive, consequences, hermit, certain                      </td></tr><tr><td style=\"padding-left:0.75em;\">34</td><td> position, gravity, animal, orientation, force, animals, body, always, dead, part                         </td></tr><tr><td style=\"padding-left:0.75em;\">35</td><td> bd, ibid, cent, d, zeit, per, anz, zool, anat, physiol                      </td></tr><tr><td style=\"padding-left:0.75em;\">36</td><td> attention, stimuli, important, stimulus, upon, may, reaction, process, cases, vitally                      </td></tr><tr><td style=\"padding-left:0.75em;\">37</td><td> yerkes, made, found, used, mouse, dancing, experiments, frogs, interesting, labyrinth                    </td></tr><tr><td style=\"padding-left:0.75em;\">38</td><td> one, stimuli, two, animal, discrimination, might, given, simply, involving, first                        </td></tr><tr><td style=\"padding-left:0.75em;\">39</td><td> upon, little, light, shadow, turn, instance, bottom, many, soon, lifted                       </td></tr><tr><td style=\"padding-left:0.75em;\">40</td><td> box, cats, thorndike, dogs, put, work, cat, monkeys, experiments, get                          </td></tr><tr><td style=\"padding-left:0.75em;\">41</td><td> rats, arch, white, bd, labyrinth, watson, maze, learned, pfliigers, rat                          </td></tr><tr><td style=\"padding-left:0.75em;\">42</td><td> one, two, second, first, days, times, time, repeated, day, right                        </td></tr><tr><td style=\"padding-left:0.75em;\">43</td><td> objects, distance, reactions, perception, term, small, invertebrates, accommodation, possible, lower                        </td></tr><tr><td style=\"padding-left:0.75em;\">44</td><td> p, 3, 2, 1, 9, 5, de, 4, 11, arch                         </td></tr><tr><td style=\"padding-left:0.75em;\">45</td><td> w, u, comp, ii, untersuchungen, movements, ostwald, vii, com, claws                        </td></tr><tr><td style=\"padding-left:0.75em;\">46</td><td> spider, fork, glass, web, found, however, sound, reacted, spiders, brought                      </td></tr><tr><td style=\"padding-left:0.75em;\">47</td><td> two, kept, end, screen, degrees, swarm, vessel, spores, one, angle                        </td></tr><tr><td style=\"padding-left:0.75em;\">48</td><td> biol, new, york, inst, gen, marine, lectures, text, sitzungsber, frandsen                     </td></tr><tr><td style=\"padding-left:0.75em;\">49</td><td> made, white, food, screens, still, bethe, removed, though, bateson, displayed                    </td></tr><tr><td style=\"padding-left:0.75em;\">50</td><td> animal, body, one, side, reaction, part, end, forward, head, negative                     </td></tr><tr><td style=\"padding-left:0.75em;\">51</td><td> paper, tentacles, meat, filter, tentacle, mouth, food, fish, nagel, juice                        </td></tr><tr><td style=\"padding-left:0.75em;\">52</td><td> first, centimeters, turned, would, common, move, track, man, upon, point                        </td></tr><tr><td style=\"padding-left:0.75em;\">53</td><td> may, animal, shown, brought, yet, general, path, tendency, strong, movements                    </td></tr><tr><td style=\"padding-left:0.75em;\">54</td><td> could, von, time, two, one, buttel-reepen, says, length, number, like                         </td></tr><tr><td style=\"padding-left:0.75em;\">55</td><td> human, ideas, action, present, actions, anything, less, consciousness, lacking, according                    </td></tr><tr><td style=\"padding-left:0.75em;\">56</td><td> b, c, take, would, large, course, one, place, amoeba, might                        </td></tr><tr><td style=\"padding-left:0.75em;\">57</td><td> stimulus, first, time, contraction, suggests, upon, phenomenon, response, repeated, one                          </td></tr><tr><td style=\"padding-left:0.75em;\">58</td><td> light, phototropic, positive, negative, animals, positively, become, negatively, earthworm, time                         </td></tr><tr><td style=\"padding-left:0.75em;\">59</td><td> ant, nest, ants, paper, back, larvae, follow, little, lubbock, followed                     </td></tr><tr><td style=\"padding-left:0.75em;\">60</td><td> nervous, system, energy, upon, stimulus, stimuli, animal, effect, stimulation, need                         </td></tr><tr><td style=\"padding-left:0.75em;\">61</td><td> certain, right, toward, tendency, would, natural, position, turn, shall, animals                      </td></tr><tr><td style=\"padding-left:0.75em;\">62</td><td> der, die, und, ueber, des, iiber, zur, den, d, das                          </td></tr><tr><td style=\"padding-left:0.75em;\">63</td><td> mind, behavior, evidence, animal, structure, consciousness, animals, discrimination, certain, taken                        </td></tr><tr><td style=\"padding-left:0.75em;\">64</td><td> animals, place, days, observed, thought, every, found, says, later, follow                       </td></tr><tr><td style=\"padding-left:0.75em;\">65</td><td> one, human, us, however, far, capacity, often, made, similar, peculiar                     </td></tr><tr><td style=\"padding-left:0.75em;\">66</td><td> ideas, may, behavior, amoeba, past, stimulation, memory, present, images, consciousness                </td></tr><tr><td style=\"padding-left:0.75em;\">67</td><td> pressure, water, insects, air, theory, fish, lyon, fly, due, rheotropism                  </td></tr><tr><td style=\"padding-left:0.75em;\">68</td><td> animal, imitation, movement, attention, whether, action, learning, inferential, ideas, merely                       </td></tr><tr><td style=\"padding-left:0.75em;\">69</td><td> animals, one, reason, case, absence, must, however, conscious, becomes, consciousness                </td></tr><tr><td style=\"padding-left:0.75em;\">70</td><td> animal, stimuli, consciousness, stimulus, certain, movements, movement, would, response, external                     </td></tr><tr><td style=\"padding-left:0.75em;\">71</td><td> less, well, even, though, known, however, developed, ones, eyes, possibility                  </td></tr><tr><td style=\"padding-left:0.75em;\">72</td><td> ff, f, vision, hearing, sense, learning, chemical, spiders, insects, crustacea                    </td></tr><tr><td style=\"padding-left:0.75em;\">73</td><td> would, way, drop, water, along, currents, necessary, drawn, slightly, upon                         </td></tr><tr><td style=\"padding-left:0.75em;\">74</td><td> stimulation, reactions, light, animals, found, mechanical, sea, responses, protozoa, noted                        </td></tr><tr><td style=\"padding-left:0.75em;\">75</td><td> movements, many, series, behavior, others, stimulus, times, say, set, result                       </td></tr><tr><td style=\"padding-left:0.75em;\">76</td><td> vision, eyes, eye, simple, compound, also, insects, objects, moving, may                          </td></tr><tr><td style=\"padding-left:0.75em;\">77</td><td> image, time, without, process, memory, may, action, course, would, must                         </td></tr><tr><td style=\"padding-left:0.75em;\">78</td><td> species, different, another, one, two, various, tested, belonging, reactions, ants                         </td></tr><tr><td style=\"padding-left:0.75em;\">79</td><td> rays, ultra-violet, intensity, fact, preference, spectrum, usually, showed, thought, red                          </td></tr><tr><td style=\"padding-left:0.75em;\">80</td><td> condition, fact, upon, physiological, effect, animal, differences, hunger, due, part                         </td></tr><tr><td style=\"padding-left:0.75em;\">81</td><td> movement, perception, space, sensations, points, different, idea, spatial, one, reaction                     </td></tr><tr><td style=\"padding-left:0.75em;\">82</td><td> stimuli, animal, labyrinth, may, learning, would, learned, precisely, acquired, guided                       </td></tr><tr><td style=\"padding-left:0.75em;\">83</td><td> english, power, sparrow, evidence, conclusion, fig, cowbird, favor, roy, pigeon                       </td></tr><tr><td style=\"padding-left:0.75em;\">84</td><td> light, away, movements, toward, region, rest, due, source, either, movement                     </td></tr><tr><td style=\"padding-left:0.75em;\">85</td><td> animals, animal, lower, forms, higher, life, mental, mind, must, seen                         </td></tr><tr><td style=\"padding-left:0.75em;\">86</td><td> ants, nest, ant, bethe, forel, though, wasmann, thinks, found, paper                        </td></tr><tr><td style=\"padding-left:0.75em;\">87</td><td> les, la, de, sur, des, et, chez, du, mouvements, dans                         </td></tr><tr><td style=\"padding-left:0.75em;\">88</td><td> way, others, finding, however, apparently, back, take, home, much, hand                         </td></tr><tr><td style=\"padding-left:0.75em;\">89</td><td> various, soon, cause, surface, sense, bohn, air, decidedly, living, high                         </td></tr><tr><td style=\"padding-left:0.75em;\">90</td><td> box, opening, string, door, pulling, wire, seen, get, came, flies                        </td></tr><tr><td style=\"padding-left:0.75em;\">91</td><td> vol, bull, zool, psych, london, rev, harvard, exp, soc, nature                       </td></tr><tr><td style=\"padding-left:0.75em;\">92</td><td> negative, water, positive, light, observed, made, geotropism, response, effect, larvae                       </td></tr><tr><td style=\"padding-left:0.75em;\">93</td><td> experience, thus, attention, processes, conscious, individual, external, may, capable, long                         </td></tr><tr><td style=\"padding-left:0.75em;\">94</td><td> morgan, p, lloyd, chick, case, dog, example, one, merely, instinct                     </td></tr><tr><td style=\"padding-left:0.75em;\">95</td><td> sense, chemical, smell, evidence, food, variety, qualitative, worms, whole, little                       </td></tr><tr><td style=\"padding-left:0.75em;\">96</td><td> shall, chapter, later, see, seems, psychic, aspect, general, discussed, subject                      </td></tr><tr><td style=\"padding-left:0.75em;\">97</td><td> light, intensity, effect, changes, direction, illumination, temperature, reactions, sudden, response                     </td></tr><tr><td style=\"padding-left:0.75em;\">98</td><td> function, fish, equilibrium, canals, cut, organs, static, found, fishes, 27                           </td></tr><tr><td style=\"padding-left:0.75em;\">99</td><td> etc, ii, reactions, studies, organisms, lower, class, behavior, certain, iii                          </td></tr><tr><td style=\"padding-left:0.75em;\">100</td><td> orientation, gravity, light, force, influence, responses, forces, seem, geotropism, orientations                 </td></tr><tr><td style=\"padding-left:0.75em;\">101</td><td> stimulus, reaction, animal, may, one, forms, behavior, stimulation, another, repeated                     </td></tr><tr><td style=\"padding-left:0.75em;\">102</td><td> several, observed, times, tendency, certain, 1, powers, made, six, others                       </td></tr><tr><td style=\"padding-left:0.75em;\">103</td><td> food, bell, toward, mouth, course, manubrium, movement, tentacles, point, feeding                      </td></tr><tr><td style=\"padding-left:0.75em;\">104</td><td> stimulation, reactions, mechanical, chemical, contact, animal, response, food, responses, reaction                     </td></tr><tr><td style=\"padding-left:0.75em;\">105</td><td> light, intensity, orientation, direction, animal, phototaxis, points, photopathy, theory, rays                         </td></tr><tr><td style=\"padding-left:0.75em;\">106</td><td> method, habit, labyrinth, kind, experiments, formation, learning, second, puzzle-box, behavior                     </td></tr><tr><td style=\"padding-left:0.75em;\">107</td><td> organs, insects, sense, function, structures, auditory, antennae, hearing, small, evidence                     </td></tr><tr><td style=\"padding-left:0.75em;\">108</td><td> animal, reactions, kingdom, objects, determined, perception, latter, space, sense, spatially                    </td></tr><tr><td style=\"padding-left:0.75em;\">109</td><td> red, blue, color, white, green, brightness, colors, food, light, different                    </td></tr><tr><td style=\"padding-left:0.75em;\">110</td><td> one, learned, cards, two, raccoons, monkeys, kinnaman, card, birds, porter                       </td></tr><tr><td style=\"padding-left:0.75em;\">111</td><td> light, found, skin, eyes, many, although, reaction, marked, sensitiveness, darkness                     </td></tr><tr><td style=\"padding-left:0.75em;\">112</td><td> end, middle, downward, head, upward, glass, tube, two, worm, posterior                    </td></tr><tr><td style=\"padding-left:0.75em;\">113</td><td> reactions, stimuli, reference, behavior, paramecium, habits, concerning, notes, facts, movements                    </td></tr><tr><td style=\"padding-left:0.75em;\">114</td><td> different, reactions, stimulus, stimuli, point, definite, degrees, applied, certain, body                         </td></tr><tr><td style=\"padding-left:0.75em;\">115</td><td> experiments, method, results, color, similar, used, discrimination, obtained, made, graber                       </td></tr><tr><td style=\"padding-left:0.75em;\">116</td><td> eye, pigment, light, spot, fibres, retina, lens, back, layer, formed                       </td></tr><tr><td style=\"padding-left:0.75em;\">117</td><td> p, paris, 6, 7, psych, biol, sci, 2, 4, 24                           </td></tr><tr><td style=\"padding-left:0.75em;\">118</td><td> odor, ants, smell, queen, species, stock, nest, young, fielde, foreign                      </td></tr><tr><td style=\"padding-left:0.75em;\">119</td><td> f, ff, 10, wiss, n, 8, whatsoever, thought, keeble, neur                         </td></tr></table>"
       ],
       "output_type": "pyout",
       "prompt_number": 74,
       "text": [
        "CompactTable([[('j', 0.15060020345881103), ('l', 0.10990844354019147),\n",
        "        ('f', 0.081424211597157764), ...,\n",
        "        ('first', 4.0691759918611484e-05),\n",
        "        ('negative', 4.0691759918611484e-05),\n",
        "        ('de', 4.0691759918611484e-05)],\n",
        "       [('sense', 0.1081311098332427), ('smell', 0.066728004600348237),\n",
        "        ('hearing', 0.036825761932146685), ...,\n",
        "        ('learned', 2.3001725129381239e-05),\n",
        "        ('learning', 2.3001725129381239e-05),\n",
        "        ('whether', 2.3001725129381239e-05)],\n",
        "       [('psychology', 0.093417153120795376),\n",
        "        ('comparative', 0.062882801975755548),\n",
        "        ('animal', 0.048513695554560331), ...,\n",
        "        ('larvae', 1.7961383026490441e-05),\n",
        "        ('water', 1.7961383026490441e-05),\n",
        "        ('experience', 1.7961383026490441e-05)],\n",
        "       ..., \n",
        "       [('p', 0.24106788710909163), ('paris', 0.10987032799390445),\n",
        "        ('6', 0.085461479786427763), ..., ('e', 3.0511060259339795e-05),\n",
        "        ('ff', 3.0511060259339795e-05), ('3', 3.0511060259339795e-05)],\n",
        "       [('odor', 0.068712077847742192), ('ants', 0.064132799084147235),\n",
        "        ('smell', 0.064132799084147235), ...,\n",
        "        ('dogs', 2.2896393817970184e-05),\n",
        "        ('toward', 2.2896393817970184e-05),\n",
        "        ('behavior', 2.2896393817970184e-05)],\n",
        "       [('f', 0.39123578468540038), ('ff', 0.16075815011373593),\n",
        "        ('10', 0.027323730098561799), ...,\n",
        "        ('ideas', 3.0326004548897186e-05),\n",
        "        ('vision', 3.0326004548897186e-05),\n",
        "        ('learning', 3.0326004548897186e-05)]], \n",
        "      dtype=[('word', '|S27'), ('value', '<f8')])"
       ]
      }
     ],
     "prompt_number": 74
    },
    {
     "cell_type": "heading",
     "level": 3,
     "metadata": {},
     "source": [
      "Can we use this to find sentences?  We don't really know... but here goes!"
     ]
    },
    {
     "cell_type": "code",
     "collapsed": false,
     "input": [
      "# some hacks to do something that is not yet in the library (code under development)\n",
      "# return sentence index, if there are multiple occurrences of the sentence,\n",
      "# then return a list of indices.\n",
      "def sent_int(sent):\n",
      "    \"\"\"\n",
      "    sent : list of strings\n",
      "        List of sentence tokenization.\n",
      "        The list could be a subset of existing sentence tokenization.\n",
      "    \"\"\"\n",
      "    tok = c.view_contexts('sentence', as_strings=True)\n",
      "    sent_li = []\n",
      "    for i in xrange(len(tok)):\n",
      "        sent_li.append(sent)\n",
      "    keys = [i for i in xrange(len(tok)) if set(sent_li[i]).issubset(tok[i].tolist())]\n",
      "    print keys\n",
      "    n = len(keys)\n",
      "    if n == 0:\n",
      "        raise Exception('No token fits that description.')\n",
      "    elif n > 1:\n",
      "        return keys\n",
      "    return keys[0]\n",
      "    \n",
      "    \n",
      "def sim_sent_sent(sent, print_len=10):\n",
      "    \"\"\"\n",
      "    sent : sentence index or sentence as a list of words\n",
      "\n",
      "    Returns\n",
      "    -------\n",
      "    sim_sents : numpy array\n",
      "        (sentence index, probability) as (i, value) pair.\n",
      "    tokenized_sents : list of arrays\n",
      "        List containing tokenized sentences as arrays.\n",
      "    orig_sents : list of strings\n",
      "        List containing original sentences as strings.\n",
      "    \"\"\"\n",
      "    ind = sent\n",
      "    if isinstance(sent, list) and isinstance(sent[0], str):\n",
      "        ind = sent_int(sent)\n",
      "    sim_sents = v.sim_doc_doc(ind, print_len=print_len, as_strings=False)\n",
      "    lc = sim_sents['i'][:print_len]\n",
      "    \n",
      "    # only returns print_len length\n",
      "    tokenized_sents, orig_sents = [], []\n",
      "    for i in lc:\n",
      "        tokenized_sents.append(c.view_contexts('sentence', as_strings=True)[i])\n",
      "        orig_sents.append(c.sentences[i])\n",
      "\n",
      "    return tokenized_sents, orig_sents, sim_sents"
     ],
     "language": "python",
     "metadata": {},
     "outputs": [],
     "prompt_number": 55
    },
    {
     "cell_type": "code",
     "collapsed": false,
     "input": [
      "#display the word list for a single sentence\n",
      "my_sentence = c.view_contexts('sentence', as_strings=True)[4152]\n",
      "my_sentence"
     ],
     "language": "python",
     "metadata": {},
     "outputs": [
      {
       "output_type": "pyout",
       "prompt_number": 68,
       "text": [
        "array(['every', 'statement', 'another', 'possesses', 'psychic',\n",
        "       'qualities', 'conclusion', 'analogy', 'certainty', 'matter', 'faith'], \n",
        "      dtype='|S27')"
       ]
      }
     ],
     "prompt_number": 68
    },
    {
     "cell_type": "code",
     "collapsed": false,
     "input": [
      "# VERY EXPERIMENTAL RESULTS -- METHODS NEED FURTHER REFINEMENT!\n",
      "# find similar sentences\n",
      "# Better results may be obtained using different number of topics, and other methods for ranking results\n",
      "#tok_sents, orig_sents, sim_sents = sim_sent_sent(['animal', 'lasting', 'appears', 'result', 'getting'], print_len=15)\n",
      "#tok_sents, orig_sents, sim_sents = sim_sent_sent(my_sentence, print_len=15)\n",
      "tok_sents, orig_sents, sim_sents = sim_sent_sent(['every', 'statement', 'another', 'possesses', 'psychic','qualities', 'conclusion', 'analogy', 'certainty', 'matter', 'faith'], print_len=15)"
     ],
     "language": "python",
     "metadata": {},
     "outputs": [
      {
       "output_type": "stream",
       "stream": "stdout",
       "text": [
        "[4152]\n"
       ]
      }
     ],
     "prompt_number": 64
    },
    {
     "cell_type": "heading",
     "level": 3,
     "metadata": {},
     "source": [
      "What did we get? -- tokenized sentences (word lists) followed by original text..."
     ]
    },
    {
     "cell_type": "code",
     "collapsed": false,
     "input": [
      "tok_sents"
     ],
     "language": "python",
     "metadata": {},
     "outputs": [
      {
       "output_type": "pyout",
       "prompt_number": 72,
       "text": [
        "[array(['every', 'statement', 'another', 'possesses', 'psychic',\n",
        "       'qualities', 'conclusion', 'analogy', 'certainty', 'matter', 'faith'], \n",
        "      dtype='|S27'),\n",
        " array(['consciousness', 'accompanies', 'nearest', 'human', 'analogy',\n",
        "       'consciousness', 'found', 'organic', 'sensations', 'said', 'must',\n",
        "       'necessarily', 'human', 'mind', 'wholly', 'different', 'quality',\n",
        "       'anything', 'found', 'animal', 'whose', 'structure', 'simple',\n",
        "       'amoeba'], \n",
        "      dtype='|S27'),\n",
        " array(['learning'], \n",
        "      dtype='|S27'),\n",
        " array(['1'], \n",
        "      dtype='|S27'),\n",
        " array(['dytiscus'], \n",
        "      dtype='|S27'),\n",
        " array(['burnett'], \n",
        "      dtype='|S27'),\n",
        " array(['willem'], \n",
        "      dtype='|S27'),\n",
        " array(['caterpillars'], \n",
        "      dtype='|S27'),\n",
        " array(['murbach'], \n",
        "      dtype='|S27'),\n",
        " array(['example', 'one', 'us', 'entering', 'room', 'dark', 'among'], \n",
        "      dtype='|S27'),\n",
        " array(['course', 'refer', 'power', 'judge', 'distance'], \n",
        "      dtype='|S27'),\n",
        " array(['bodily', 'structure', 'entirely', 'unlike', 'must', 'create',\n",
        "       'background', 'organic', 'sensation', 'renders', 'whole', 'mental',\n",
        "       'life', 'animal', 'foreign', 'us'], \n",
        "      dtype='|S27'),\n",
        " array(['psychic', 'learning', 'experience', 'theory', 'nagel', 'saying',\n",
        "       'experience', 'upon', 'animal', 'could', 'reject', 'filter',\n",
        "       'paper', 'must', 'experience', 'good', 'food'], \n",
        "      dtype='|S27'),\n",
        " array(['speak', 'example', 'wasp'], \n",
        "      dtype='|S27'),\n",
        " array(['traces', 'learning', 'e', 'learning', 'give', 'evidence', 'power',\n",
        "       'judge', 'distance'], \n",
        "      dtype='|S27')]"
       ]
      }
     ],
     "prompt_number": 72
    },
    {
     "cell_type": "code",
     "collapsed": false,
     "input": [
      "orig_sents"
     ],
     "language": "python",
     "metadata": {},
     "outputs": [
      {
       "output_type": "pyout",
       "prompt_number": 66,
       "text": [
        "['Every statement that another being possesses \\n psychic qualities is a conclusion from analogy, not a certainty; it is a matter of faith.',\n",
        " \"If any consciousness \\n accompanies it, then the nearest human analogy to such \\n consciousness is to be found in organic sensations, and these, \\n as has just been said, must necessarily be in the human mind \\n wholly different in quality from anything to be found in an \\n animal whose structure is as simple as the Amoeba's.\",\n",
        " '; learning, 208, \\n \\n 214.',\n",
        " 'On the other \\n \\n1).',\n",
        " 'Dytiscus, 86.',\n",
        " 'Burnett, 126, 170.',\n",
        " 'Willem, 130, 192.',\n",
        " 'Caterpillars, 192, 196.',\n",
        " 'Murbach, 107, 158.',\n",
        " 'Fancy, for example, one of us entering a \\n room in the dark and groping about among the furniture.',\n",
        " 'This, of \\n course, does not refer to the power to judge distance.',\n",
        " 'Again, a bodily structure entirely unlike our own \\n must create a background of organic sensation which renders \\n the whole mental life of an animal foreign and unfamiliar to \\n us.',\n",
        " 'She disposes of the psychic learning by experience theory of Nagel \\n by saying that the only experience upon which the animal \\n could reject the filter paper must be experience that it is not \\n good for food.',\n",
        " 'We speak, for example, of an \"angry\" wasp.',\n",
        " 'All traces of the \"learning\" \\n \\ne \"learning\" \\n \\n \\n give evidence of the power to judge distance.']"
       ]
      }
     ],
     "prompt_number": 66
    },
    {
     "cell_type": "heading",
     "level": 3,
     "metadata": {},
     "source": [
      "<center>Not great! Not bad?!</center>"
     ]
    },
    {
     "cell_type": "markdown",
     "metadata": {},
     "source": [
      "<center><a href=\"https://inpho.cogs.indiana.edu/\" target=\"_other\"><img src=\"https://inpho.cogs.indiana.edu/img/newlogo.png\" height=\"175\"></a></center>\n",
      "<center>Visit us at <a href=\"https://inpho.cogs.indiana.edu/\" target=\"_other\">https://inpho.cogs.indiana.edu/</a></center>"
     ]
    },
    {
     "cell_type": "markdown",
     "metadata": {},
     "source": [
      "<iframe>https://inpho.cogs.indiana.edu</iframe>"
     ]
    }
   ],
   "metadata": {}
  }
 ]
}