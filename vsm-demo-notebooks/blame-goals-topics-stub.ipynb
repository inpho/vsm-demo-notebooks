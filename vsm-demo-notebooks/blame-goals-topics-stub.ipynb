{
 "metadata": {
  "name": "",
  "signature": "sha256:29fdcc9e72f0323a6fc7e29f558c41372a81015b511a6c9457d5fcd81a7e8daf"
 },
 "nbformat": 3,
 "nbformat_minor": 0,
 "worksheets": [
  {
   "cells": [
    {
     "cell_type": "heading",
     "level": 4,
     "metadata": {},
     "source": [
      "To execute this notebook"
     ]
    },
    {
     "cell_type": "markdown",
     "metadata": {},
     "source": [
      "The text file 'blame-goals-by-verb.txt' should be in the same directory as this notebook.\n",
      "\n",
      "This notebook requires vsm v0.1-develop, found here: https://github.com/inpho/vsm/tree/v0.1-develop\n",
      "\n",
      "Additional dependencies for this version of the module include matplotlib and sklearn."
     ]
    },
    {
     "cell_type": "heading",
     "level": 1,
     "metadata": {},
     "source": [
      "Corpus Generation"
     ]
    },
    {
     "cell_type": "markdown",
     "metadata": {},
     "source": [
      "First we generate a Corpus object. The data itself is read in from a file. Since we don't have another source for document metadata, we construct some here. We apply the NLTK stoplist and also filter out words which occur with frequency less than 2."
     ]
    },
    {
     "cell_type": "code",
     "collapsed": false,
     "input": [
      "verbs = [ 'accuse', 'admonish', 'attack', 'berate', 'blame', 'castigate', \n",
      "          'censure', 'chastise', 'chew-out', 'chide', 'condemn', 'criticize',\n",
      "          'denounce', 'disapprove-of', 'find-fault-with', 'lash-out-at', \n",
      "          'let-x-have-it', 'object-to', 'point-the-finger', \n",
      "          'read-the-riot-act', 'rebuke', 'reprimand', 'reproach', 'revile', \n",
      "          'scold', 'slander', 'tell-x-off', 'vilify' ]\n",
      "\n",
      "metadata = ['Verb: {0}'.format(verb) for verb in verbs]"
     ],
     "language": "python",
     "metadata": {},
     "outputs": [],
     "prompt_number": 1
    },
    {
     "cell_type": "code",
     "collapsed": false,
     "input": [
      "from vsm.corpus.util.corpusbuilders import toy_corpus\n",
      "\n",
      "corpus = toy_corpus('blame-goals-by-verb.txt', is_filename=True, \n",
      "                    metadata=metadata, nltk_stop=True, stop_freq=1)"
     ],
     "language": "python",
     "metadata": {},
     "outputs": [
      {
       "output_type": "stream",
       "stream": "stdout",
       "text": [
        "Computing collection frequencies\n",
        "Selecting words of frequency <= 1\n",
        "Removing stop words\n",
        "Rebuilding corpus\n",
        "Recomputing token breaks: document\n"
       ]
      }
     ],
     "prompt_number": 3
    },
    {
     "cell_type": "heading",
     "level": 1,
     "metadata": {},
     "source": [
      "Corpus Inspection"
     ]
    },
    {
     "cell_type": "markdown",
     "metadata": {},
     "source": [
      "We use a 'term-frequency' model and the Corpus object itself to examine the corpus."
     ]
    },
    {
     "cell_type": "code",
     "collapsed": false,
     "input": [
      "from vsm.model.tf import TfSeq\n",
      "\n",
      "tf_model = TfSeq(corpus, 'document')\n",
      "tf_model.train()"
     ],
     "language": "python",
     "metadata": {},
     "outputs": [],
     "prompt_number": 15
    },
    {
     "cell_type": "code",
     "collapsed": false,
     "input": [
      "from vsm.viewer.tfviewer import TfViewer\n",
      "\n",
      "tf_viewer = TfViewer(corpus, tf_model)"
     ],
     "language": "python",
     "metadata": {},
     "outputs": [],
     "prompt_number": 16
    },
    {
     "cell_type": "code",
     "collapsed": false,
     "input": [
      "tf_viewer.coll_freqs(print_len=324)"
     ],
     "language": "python",
     "metadata": {},
     "outputs": [
      {
       "html": [
        "<table style=\"margin: 0\"><tr><th style=\"text-align: center; background: #CEE3F6\" colspan                    =\"10\">Collection Frequencies</th></tr><tr><th style=\"text-align: center; background: #EFF2FB; \">Word                    </th><th style=\"text-align: center; background: #EFF2FB; \">Counts                    </th><th style=\"text-align: center; background: #EFF2FB; \">Word                    </th><th style=\"text-align: center; background: #EFF2FB; \">Counts                    </th><th style=\"text-align: center; background: #EFF2FB; \">Word                    </th><th style=\"text-align: center; background: #EFF2FB; \">Counts                    </th><th style=\"text-align: center; background: #EFF2FB; \">Word                    </th><th style=\"text-align: center; background: #EFF2FB; \">Counts                    </th><th style=\"text-align: center; background: #EFF2FB; \">Word                    </th><th style=\"text-align: center; background: #EFF2FB; \">Counts                    </th></tr><tr><td>make                  </td><td>167       </td><td>scolded               </td><td>13        </td><td>physically            </td><td>4         </td><td>language              </td><td>3         </td><td>sorry                 </td><td>2         </td></tr><tr><td>feel                  </td><td>116       </td><td>teach                 </td><td>13        </td><td>distance              </td><td>4         </td><td>learn                 </td><td>3         </td><td>spending              </td><td>2         </td></tr><tr><td>wanted                </td><td>110       </td><td>made                  </td><td>13        </td><td>punished              </td><td>4         </td><td>morally               </td><td>3         </td><td>spent                 </td><td>2         </td></tr><tr><td>know                  </td><td>97        </td><td>angry                 </td><td>12        </td><td>spend                 </td><td>4         </td><td>next                  </td><td>3         </td><td>worthless             </td><td>2         </td></tr><tr><td>bad                   </td><td>89        </td><td>look                  </td><td>12        </td><td>assign                </td><td>4         </td><td>really                </td><td>3         </td><td>want                  </td><td>2         </td></tr><tr><td>let                   </td><td>57        </td><td>put                   </td><td>12        </td><td>showed                </td><td>4         </td><td>mind                  </td><td>3         </td><td>viscous               </td><td>2         </td></tr><tr><td>blame                 </td><td>52        </td><td>hurt                  </td><td>12        </td><td>never                 </td><td>4         </td><td>blaming               </td><td>2         </td><td>validate              </td><td>2         </td></tr><tr><td>wrong                 </td><td>37        </td><td>sure                  </td><td>12        </td><td>serious               </td><td>4         </td><td>call                  </td><td>2         </td><td>turn                  </td><td>2         </td></tr><tr><td>scold                 </td><td>36        </td><td>give                  </td><td>11        </td><td>sense                 </td><td>4         </td><td>disgust               </td><td>2         </td><td>tsk                   </td><td>2         </td></tr><tr><td>actions               </td><td>35        </td><td>money                 </td><td>11        </td><td>telling               </td><td>4         </td><td>cause                 </td><td>2         </td><td>truth                 </td><td>2         </td></tr><tr><td>criticize             </td><td>35        </td><td>stop                  </td><td>10        </td><td>reprimanded           </td><td>4         </td><td>castigated            </td><td>2         </td><td>trouble               </td><td>2         </td></tr><tr><td>done                  </td><td>35        </td><td>felt                  </td><td>10        </td><td>thinks                </td><td>4         </td><td>broken                </td><td>2         </td><td>tried                 </td><td>2         </td></tr><tr><td>express               </td><td>34        </td><td>tell                  </td><td>10        </td><td>time                  </td><td>4         </td><td>acceptable            </td><td>2         </td><td>towards               </td><td>2         </td></tr><tr><td>like                  </td><td>33        </td><td>situation             </td><td>10        </td><td>punishment            </td><td>4         </td><td>disappointed          </td><td>2         </td><td>taught                </td><td>2         </td></tr><tr><td>behavior              </td><td>33        </td><td>embarrass             </td><td>9         </td><td>understand            </td><td>4         </td><td>boss                  </td><td>2         </td><td>talking               </td><td>2         </td></tr><tr><td>disapprove-of         </td><td>32        </td><td>take                  </td><td>9         </td><td>opinion               </td><td>4         </td><td>disagreed             </td><td>2         </td><td>superiority           </td><td>2         </td></tr><tr><td>wants                 </td><td>32        </td><td>try                   </td><td>9         </td><td>without               </td><td>4         </td><td>accused               </td><td>2         </td><td>suffer                </td><td>2         </td></tr><tr><td>anger                 </td><td>32        </td><td>yell                  </td><td>9         </td><td>ones                  </td><td>4         </td><td>direct                </td><td>2         </td><td>submission            </td><td>2         </td></tr><tr><td>rebuke                </td><td>31        </td><td>right                 </td><td>9         </td><td>warning               </td><td>4         </td><td>cast                  </td><td>2         </td><td>stupid                </td><td>2         </td></tr><tr><td>berate                </td><td>31        </td><td>fault                 </td><td>9         </td><td>harm                  </td><td>3         </td><td>communication         </td><td>2         </td><td>stress                </td><td>2         </td></tr><tr><td>reprimand             </td><td>31        </td><td>verbally              </td><td>9         </td><td>alone                 </td><td>3         </td><td>behave                </td><td>2         </td><td>nowhere               </td><td>2         </td></tr><tr><td>castigate             </td><td>31        </td><td>publicly              </td><td>8         </td><td>emotionally           </td><td>3         </td><td>anymore               </td><td>2         </td><td>name                  </td><td>2         </td></tr><tr><td>accuse                </td><td>31        </td><td>upset                 </td><td>8         </td><td>criminal              </td><td>3         </td><td>around                </td><td>2         </td><td>distaste              </td><td>2         </td></tr><tr><td>attack                </td><td>31        </td><td>person                </td><td>8         </td><td>straight              </td><td>3         </td><td>approvals             </td><td>2         </td><td>follow                </td><td>2         </td></tr><tr><td>revile                </td><td>30        </td><td>blamed                </td><td>8         </td><td>good                  </td><td>3         </td><td>ashamed               </td><td>2         </td><td>happy                 </td><td>2         </td></tr><tr><td>chastise              </td><td>30        </td><td>shame                 </td><td>8         </td><td>hear                  </td><td>3         </td><td>appropriate           </td><td>2         </td><td>happened              </td><td>2         </td></tr><tr><td>censure               </td><td>30        </td><td>realize               </td><td>8         </td><td>help                  </td><td>3         </td><td>consequences          </td><td>2         </td><td>guide                 </td><td>2         </td></tr><tr><td>reproach              </td><td>30        </td><td>agree                 </td><td>7         </td><td>word                  </td><td>3         </td><td>contempt              </td><td>2         </td><td>goal                  </td><td>2         </td></tr><tr><td>let-x-have-it         </td><td>30        </td><td>less                  </td><td>7         </td><td>words                 </td><td>3         </td><td>anything              </td><td>2         </td><td>getting               </td><td>2         </td></tr><tr><td>tell-x-off            </td><td>30        </td><td>child                 </td><td>7         </td><td>discipline            </td><td>3         </td><td>attacked              </td><td>2         </td><td>fun                   </td><td>2         </td></tr><tr><td>chew-out              </td><td>30        </td><td>vent                  </td><td>7         </td><td>discourage            </td><td>3         </td><td>attention             </td><td>2         </td><td>front                 </td><td>2         </td></tr><tr><td>chide                 </td><td>30        </td><td>disapproved           </td><td>7         </td><td>talked                </td><td>3         </td><td>afraid                </td><td>2         </td><td>found                 </td><td>2         </td></tr><tr><td>admonish              </td><td>30        </td><td>feelings              </td><td>7         </td><td>everything            </td><td>3         </td><td>act                   </td><td>2         </td><td>find                  </td><td>2         </td></tr><tr><td>lash-out-at           </td><td>30        </td><td>trying                </td><td>7         </td><td>going                 </td><td>3         </td><td>cut                   </td><td>2         </td><td>must                  </td><td>2         </td></tr><tr><td>condemn               </td><td>30        </td><td>action                </td><td>7         </td><td>disappointment        </td><td>3         </td><td>decide                </td><td>2         </td><td>feedback              </td><td>2         </td></tr><tr><td>slander               </td><td>30        </td><td>could                 </td><td>6         </td><td>think                 </td><td>3         </td><td>beat                  </td><td>2         </td><td>eyes                  </td><td>2         </td></tr><tr><td>denounce              </td><td>30        </td><td>expressing            </td><td>6         </td><td>future                </td><td>3         </td><td>adult                 </td><td>2         </td><td>expressed             </td><td>2         </td></tr><tr><td>object-to             </td><td>30        </td><td>lesson                </td><td>6         </td><td>error                 </td><td>3         </td><td>committed             </td><td>2         </td><td>evil                  </td><td>2         </td></tr><tr><td>find-fault-with       </td><td>30        </td><td>thought               </td><td>6         </td><td>finger                </td><td>3         </td><td>destroy               </td><td>2         </td><td>enough                </td><td>2         </td></tr><tr><td>read-the-riot-act     </td><td>30        </td><td>manner                </td><td>6         </td><td>innocent              </td><td>3         </td><td>became                </td><td>2         </td><td>encourage             </td><td>2         </td></tr><tr><td>point-the-finger      </td><td>30        </td><td>told                  </td><td>6         </td><td>feeling               </td><td>3         </td><td>admit                 </td><td>2         </td><td>effective             </td><td>2         </td></tr><tr><td>vilify                </td><td>30        </td><td>loudly                </td><td>6         </td><td>used                  </td><td>3         </td><td>detail                </td><td>2         </td><td>educate               </td><td>2         </td></tr><tr><td>show                  </td><td>28        </td><td>compass               </td><td>5         </td><td>values                </td><td>3         </td><td>deserved              </td><td>2         </td><td>hate                  </td><td>2         </td></tr><tr><td>change                </td><td>26        </td><td>expected              </td><td>5         </td><td>villain               </td><td>3         </td><td>letting               </td><td>2         </td><td>heard                 </td><td>2         </td></tr><tr><td>disapproval           </td><td>24        </td><td>warn                  </td><td>5         </td><td>errors                </td><td>3         </td><td>displeased            </td><td>2         </td><td>held                  </td><td>2         </td></tr><tr><td>get                   </td><td>23        </td><td>mistakes              </td><td>5         </td><td>violence              </td><td>3         </td><td>responsibility        </td><td>2         </td><td>hopes                 </td><td>2         </td></tr><tr><td>thing                 </td><td>23        </td><td>one                   </td><td>5         </td><td>accountable           </td><td>3         </td><td>skills                </td><td>2         </td><td>messed                </td><td>2         </td></tr><tr><td>punish                </td><td>23        </td><td>place                 </td><td>5         </td><td>inferior              </td><td>3         </td><td>silence               </td><td>2         </td><td>meaning               </td><td>2         </td></tr><tr><td>guilty                </td><td>23        </td><td>badly                 </td><td>5         </td><td>negative              </td><td>3         </td><td>side                  </td><td>2         </td><td>maybe                 </td><td>2         </td></tr><tr><td>others                </td><td>20        </td><td>removing              </td><td>5         </td><td>completely            </td><td>3         </td><td>showing               </td><td>2         </td><td>making                </td><td>2         </td></tr><tr><td>frustration           </td><td>19        </td><td>speak                 </td><td>5         </td><td>seriously             </td><td>3         </td><td>shake                 </td><td>2         </td><td>loud                  </td><td>2         </td></tr><tr><td>would                 </td><td>18        </td><td>responsible           </td><td>5         </td><td>mad                   </td><td>3         </td><td>setting               </td><td>2         </td><td>lot                   </td><td>2         </td></tr><tr><td>means                 </td><td>17        </td><td>away                  </td><td>5         </td><td>rage                  </td><td>3         </td><td>sad                   </td><td>2         </td><td>listen                </td><td>2         </td></tr><tr><td>things                </td><td>17        </td><td>said                  </td><td>5         </td><td>lonely                </td><td>3         </td><td>ruin                  </td><td>2         </td><td>life                  </td><td>2         </td></tr><tr><td>control               </td><td>17        </td><td>talk                  </td><td>5         </td><td>likely                </td><td>3         </td><td>repeated              </td><td>2         </td><td>level                 </td><td>2         </td></tr><tr><td>moral                 </td><td>16        </td><td>scare                 </td><td>5         </td><td>character             </td><td>3         </td><td>nice                  </td><td>2         </td><td>lessen                </td><td>2         </td></tr><tr><td>belittle              </td><td>16        </td><td>align                 </td><td>5         </td><td>matter                </td><td>3         </td><td>remove                </td><td>2         </td><td>legal                 </td><td>2         </td></tr><tr><td>way                   </td><td>16        </td><td>correct               </td><td>5         </td><td>reputation            </td><td>3         </td><td>remind                </td><td>2         </td><td>lay                   </td><td>2         </td></tr><tr><td>mistake               </td><td>15        </td><td>decision              </td><td>4         </td><td>point                 </td><td>3         </td><td>refuse                </td><td>2         </td><td>insult                </td><td>2         </td></tr><tr><td>approve               </td><td>15        </td><td>guilt                 </td><td>4         </td><td>revenge               </td><td>3         </td><td>reduced               </td><td>2         </td><td>instructing           </td><td>2         </td></tr><tr><td>something             </td><td>14        </td><td>even                  </td><td>4         </td><td>satisfy               </td><td>3         </td><td>redirect              </td><td>2         </td><td>important             </td><td>2         </td></tr><tr><td>better                </td><td>14        </td><td>knew                  </td><td>4         </td><td>mean                  </td><td>3         </td><td>public                </td><td>2         </td><td>humiliate             </td><td>2         </td></tr><tr><td>yelled                </td><td>14        </td><td>keep                  </td><td>4         </td><td>screamed              </td><td>3         </td><td>poorly                </td><td>2         </td><td>hoping                </td><td>2         </td></tr><tr><td>aware                 </td><td>13        </td><td>needed                </td><td>4         </td><td>say                   </td><td>3         </td><td>pay                   </td><td>2         </td><td>accept                </td><td>2         </td></tr><tr><td>relieve               </td><td>13        </td><td>judge                 </td><td>4         </td><td>known                 </td><td>3         </td><td>small                 </td><td>2         </td><td style=\"border-color: #EFF2FB; background: #EEF2FB;\">                                                   </td><td style=\"border-color: #EFF2FB; background: #EEF2FB;\">                                       </td></tr></table>"
       ],
       "metadata": {},
       "output_type": "pyout",
       "prompt_number": 17,
       "text": [
        "LabeledColumn([('make', 167), ('feel', 116), ('wanted', 110), ('know', 97),\n",
        "       ('bad', 89), ('let', 57), ('blame', 52), ('wrong', 37),\n",
        "       ('scold', 36), ('actions', 35), ('criticize', 35), ('done', 35),\n",
        "       ('express', 34), ('like', 33), ('behavior', 33),\n",
        "       ('disapprove-of', 32), ('wants', 32), ('anger', 32), ('rebuke', 31),\n",
        "       ('berate', 31), ('reprimand', 31), ('castigate', 31),\n",
        "       ('accuse', 31), ('attack', 31), ('revile', 30), ('chastise', 30),\n",
        "       ('censure', 30), ('reproach', 30), ('let-x-have-it', 30),\n",
        "       ('tell-x-off', 30), ('chew-out', 30), ('chide', 30),\n",
        "       ('admonish', 30), ('lash-out-at', 30), ('condemn', 30),\n",
        "       ('slander', 30), ('denounce', 30), ('object-to', 30),\n",
        "       ('find-fault-with', 30), ('read-the-riot-act', 30),\n",
        "       ('point-the-finger', 30), ('vilify', 30), ('show', 28),\n",
        "       ('change', 26), ('disapproval', 24), ('get', 23), ('thing', 23),\n",
        "       ('punish', 23), ('guilty', 23), ('others', 20), ('frustration', 19),\n",
        "       ('would', 18), ('means', 17), ('things', 17), ('control', 17),\n",
        "       ('moral', 16), ('belittle', 16), ('way', 16), ('mistake', 15),\n",
        "       ('approve', 15), ('something', 14), ('better', 14), ('yelled', 14),\n",
        "       ('aware', 13), ('relieve', 13), ('scolded', 13), ('teach', 13),\n",
        "       ('made', 13), ('angry', 12), ('look', 12), ('put', 12),\n",
        "       ('hurt', 12), ('sure', 12), ('give', 11), ('money', 11),\n",
        "       ('stop', 10), ('felt', 10), ('tell', 10), ('situation', 10),\n",
        "       ('embarrass', 9), ('take', 9), ('try', 9), ('yell', 9),\n",
        "       ('right', 9), ('fault', 9), ('verbally', 9), ('publicly', 8),\n",
        "       ('upset', 8), ('person', 8), ('blamed', 8), ('shame', 8),\n",
        "       ('realize', 8), ('agree', 7), ('less', 7), ('child', 7),\n",
        "       ('vent', 7), ('disapproved', 7), ('feelings', 7), ('trying', 7),\n",
        "       ('action', 7), ('could', 6), ('expressing', 6), ('lesson', 6),\n",
        "       ('thought', 6), ('manner', 6), ('told', 6), ('loudly', 6),\n",
        "       ('compass', 5), ('expected', 5), ('warn', 5), ('mistakes', 5),\n",
        "       ('one', 5), ('place', 5), ('badly', 5), ('removing', 5),\n",
        "       ('speak', 5), ('responsible', 5), ('away', 5), ('said', 5),\n",
        "       ('talk', 5), ('scare', 5), ('align', 5), ('correct', 5),\n",
        "       ('decision', 4), ('guilt', 4), ('even', 4), ('knew', 4),\n",
        "       ('keep', 4), ('needed', 4), ('judge', 4), ('physically', 4),\n",
        "       ('distance', 4), ('punished', 4), ('spend', 4), ('assign', 4),\n",
        "       ('showed', 4), ('never', 4), ('serious', 4), ('sense', 4),\n",
        "       ('telling', 4), ('reprimanded', 4), ('thinks', 4), ('time', 4),\n",
        "       ('punishment', 4), ('understand', 4), ('opinion', 4),\n",
        "       ('without', 4), ('ones', 4), ('warning', 4), ('harm', 3),\n",
        "       ('alone', 3), ('emotionally', 3), ('criminal', 3), ('straight', 3),\n",
        "       ('good', 3), ('hear', 3), ('help', 3), ('word', 3), ('words', 3),\n",
        "       ('discipline', 3), ('discourage', 3), ('talked', 3),\n",
        "       ('everything', 3), ('going', 3), ('disappointment', 3),\n",
        "       ('think', 3), ('future', 3), ('error', 3), ('finger', 3),\n",
        "       ('innocent', 3), ('feeling', 3), ('used', 3), ('values', 3),\n",
        "       ('villain', 3), ('errors', 3), ('violence', 3), ('accountable', 3),\n",
        "       ('inferior', 3), ('negative', 3), ('completely', 3),\n",
        "       ('seriously', 3), ('mad', 3), ('rage', 3), ('lonely', 3),\n",
        "       ('likely', 3), ('character', 3), ('matter', 3), ('reputation', 3),\n",
        "       ('point', 3), ('revenge', 3), ('satisfy', 3), ('mean', 3),\n",
        "       ('screamed', 3), ('say', 3), ('known', 3), ('language', 3),\n",
        "       ('learn', 3), ('morally', 3), ('next', 3), ('really', 3),\n",
        "       ('mind', 3), ('blaming', 2), ('call', 2), ('disgust', 2),\n",
        "       ('cause', 2), ('castigated', 2), ('broken', 2), ('acceptable', 2),\n",
        "       ('disappointed', 2), ('boss', 2), ('disagreed', 2), ('accused', 2),\n",
        "       ('direct', 2), ('cast', 2), ('communication', 2), ('behave', 2),\n",
        "       ('anymore', 2), ('around', 2), ('approvals', 2), ('ashamed', 2),\n",
        "       ('appropriate', 2), ('consequences', 2), ('contempt', 2),\n",
        "       ('anything', 2), ('attacked', 2), ('attention', 2), ('afraid', 2),\n",
        "       ('act', 2), ('cut', 2), ('decide', 2), ('beat', 2), ('adult', 2),\n",
        "       ('committed', 2), ('destroy', 2), ('became', 2), ('admit', 2),\n",
        "       ('detail', 2), ('deserved', 2), ('letting', 2), ('displeased', 2),\n",
        "       ('responsibility', 2), ('skills', 2), ('silence', 2), ('side', 2),\n",
        "       ('showing', 2), ('shake', 2), ('setting', 2), ('sad', 2),\n",
        "       ('ruin', 2), ('repeated', 2), ('nice', 2), ('remove', 2),\n",
        "       ('remind', 2), ('refuse', 2), ('reduced', 2), ('redirect', 2),\n",
        "       ('public', 2), ('poorly', 2), ('pay', 2), ('small', 2),\n",
        "       ('sorry', 2), ('spending', 2), ('spent', 2), ('worthless', 2),\n",
        "       ('want', 2), ('viscous', 2), ('validate', 2), ('turn', 2),\n",
        "       ('tsk', 2), ('truth', 2), ('trouble', 2), ('tried', 2),\n",
        "       ('towards', 2), ('taught', 2), ('talking', 2), ('superiority', 2),\n",
        "       ('suffer', 2), ('submission', 2), ('stupid', 2), ('stress', 2),\n",
        "       ('nowhere', 2), ('name', 2), ('distaste', 2), ('follow', 2),\n",
        "       ('happy', 2), ('happened', 2), ('guide', 2), ('goal', 2),\n",
        "       ('getting', 2), ('fun', 2), ('front', 2), ('found', 2), ('find', 2),\n",
        "       ('must', 2), ('feedback', 2), ('eyes', 2), ('expressed', 2),\n",
        "       ('evil', 2), ('enough', 2), ('encourage', 2), ('effective', 2),\n",
        "       ('educate', 2), ('hate', 2), ('heard', 2), ('held', 2),\n",
        "       ('hopes', 2), ('messed', 2), ('meaning', 2), ('maybe', 2),\n",
        "       ('making', 2), ('loud', 2), ('lot', 2), ('listen', 2), ('life', 2),\n",
        "       ('level', 2), ('lessen', 2), ('legal', 2), ('lay', 2),\n",
        "       ('insult', 2), ('instructing', 2), ('important', 2),\n",
        "       ('humiliate', 2), ('hoping', 2), ('accept', 2)], \n",
        "      dtype=[('word', 'S17'), ('value', '<i4')])"
       ]
      }
     ],
     "prompt_number": 17
    },
    {
     "cell_type": "code",
     "collapsed": false,
     "input": [
      "print corpus.words"
     ],
     "language": "python",
     "metadata": {},
     "outputs": [
      {
       "output_type": "stream",
       "stream": "stdout",
       "text": [
        "['accept' 'acceptable' 'accountable' 'accuse' 'accused' 'act' 'action'\n",
        " 'actions' 'admit' 'admonish' 'adult' 'afraid' 'agree' 'align' 'alone'\n",
        " 'anger' 'angry' 'anymore' 'anything' 'appropriate' 'approvals' 'approve'\n",
        " 'around' 'ashamed' 'assign' 'attack' 'attacked' 'attention' 'aware' 'away'\n",
        " 'bad' 'badly' 'beat' 'became' 'behave' 'behavior' 'belittle' 'berate'\n",
        " 'better' 'blame' 'blamed' 'blaming' 'boss' 'broken' 'call' 'cast'\n",
        " 'castigate' 'castigated' 'cause' 'censure' 'change' 'character' 'chastise'\n",
        " 'chew-out' 'chide' 'child' 'committed' 'communication' 'compass'\n",
        " 'completely' 'condemn' 'consequences' 'contempt' 'control' 'correct'\n",
        " 'could' 'criminal' 'criticize' 'cut' 'decide' 'decision' 'denounce'\n",
        " 'deserved' 'destroy' 'detail' 'direct' 'disagreed' 'disappointed'\n",
        " 'disappointment' 'disapproval' 'disapprove-of' 'disapproved' 'discipline'\n",
        " 'discourage' 'disgust' 'displeased' 'distance' 'distaste' 'done' 'educate'\n",
        " 'effective' 'embarrass' 'emotionally' 'encourage' 'enough' 'error'\n",
        " 'errors' 'even' 'everything' 'evil' 'expected' 'express' 'expressed'\n",
        " 'expressing' 'eyes' 'fault' 'feedback' 'feel' 'feeling' 'feelings' 'felt'\n",
        " 'find' 'find-fault-with' 'finger' 'follow' 'found' 'front' 'frustration'\n",
        " 'fun' 'future' 'get' 'getting' 'give' 'goal' 'going' 'good' 'guide'\n",
        " 'guilt' 'guilty' 'happened' 'happy' 'harm' 'hate' 'hear' 'heard' 'held'\n",
        " 'help' 'hopes' 'hoping' 'humiliate' 'hurt' 'important' 'inferior'\n",
        " 'innocent' 'instructing' 'insult' 'judge' 'keep' 'knew' 'know' 'known'\n",
        " 'language' 'lash-out-at' 'lay' 'learn' 'legal' 'less' 'lessen' 'lesson'\n",
        " 'let' 'let-x-have-it' 'letting' 'level' 'life' 'like' 'likely' 'listen'\n",
        " 'lonely' 'look' 'lot' 'loud' 'loudly' 'mad' 'made' 'make' 'making'\n",
        " 'manner' 'matter' 'maybe' 'mean' 'meaning' 'means' 'messed' 'mind'\n",
        " 'mistake' 'mistakes' 'money' 'moral' 'morally' 'must' 'name' 'needed'\n",
        " 'negative' 'never' 'next' 'nice' 'nowhere' 'object-to' 'one' 'ones'\n",
        " 'opinion' 'others' 'pay' 'person' 'physically' 'place' 'point'\n",
        " 'point-the-finger' 'poorly' 'public' 'publicly' 'punish' 'punished'\n",
        " 'punishment' 'put' 'rage' 'read-the-riot-act' 'realize' 'really' 'rebuke'\n",
        " 'redirect' 'reduced' 'refuse' 'relieve' 'remind' 'remove' 'removing'\n",
        " 'repeated' 'reprimand' 'reprimanded' 'reproach' 'reputation'\n",
        " 'responsibility' 'responsible' 'revenge' 'revile' 'right' 'ruin' 'sad'\n",
        " 'said' 'satisfy' 'say' 'scare' 'scold' 'scolded' 'screamed' 'sense'\n",
        " 'serious' 'seriously' 'setting' 'shake' 'shame' 'show' 'showed' 'showing'\n",
        " 'side' 'silence' 'situation' 'skills' 'slander' 'small' 'something'\n",
        " 'sorry' 'speak' 'spend' 'spending' 'spent' 'stop' 'straight' 'stress'\n",
        " 'stupid' 'submission' 'suffer' 'superiority' 'sure' 'take' 'talk' 'talked'\n",
        " 'talking' 'taught' 'teach' 'tell' 'tell-x-off' 'telling' 'thing' 'things'\n",
        " 'think' 'thinks' 'thought' 'time' 'told' 'towards' 'tried' 'trouble'\n",
        " 'truth' 'try' 'trying' 'tsk' 'turn' 'understand' 'upset' 'used' 'validate'\n",
        " 'values' 'vent' 'verbally' 'vilify' 'villain' 'violence' 'viscous' 'want'\n",
        " 'wanted' 'wants' 'warn' 'warning' 'way' 'without' 'word' 'words'\n",
        " 'worthless' 'would' 'wrong' 'yell' 'yelled']\n"
       ]
      }
     ],
     "prompt_number": 27
    },
    {
     "cell_type": "heading",
     "level": 4,
     "metadata": {},
     "source": [
      "A few notes about the manipulations I've performed and possible further manipulations. "
     ]
    },
    {
     "cell_type": "markdown",
     "metadata": {},
     "source": [
      "* Replacement verbs are considered as single terms: to that end, I've hyphenated them. (This was a step Bertram had discussed with me.) It may be worth performing this operation on words in the responses as well. For example, 'make', 'feel' and 'bad' are all high frequency words; variations on the expression 'make feel bad' are common and perhaps could be replaced with 'make-feel-bad'.\n",
      "\n",
      "* I spell-checked the responses. Orthographic variation was creating artificial lexical diversity.\n",
      "\n",
      "* I also rewrote contractions in their uncontracted forms.\n",
      "\n",
      "* A corpus of this size under a bag-of-words model may benefit from further steps to reduce lexical diversity. It may be worthwhile to stem this, even manually. For example, I wonder if you might want 'disapproval', 'disapprove-of', and 'disapproved' treated as the same word."
     ]
    },
    {
     "cell_type": "heading",
     "level": 1,
     "metadata": {},
     "source": [
      "Topic Modeling"
     ]
    },
    {
     "cell_type": "markdown",
     "metadata": {},
     "source": [
      "Here is one approach to modeling this data. One goal is to represent the semantics of the 28 replacement verbs and then to cluster the resulting representations. From the point of the view of these kinds of models, the 28 verbs have no meaning in of themselves. Their meaning is derived entirely from the contexts (i.e., documents) in which they appear. I treat the responses as the contexts from which the 28 verbs derive their meaning. Thus, there are 28 documents.\n",
      "\n",
      "Standard LDA takes the number of topics K as a parameter. An upper limit of sorts is to allow for there to be one topic per document. Since there are so few documents, this is reasonable to do here; and it could be of some interest to when you do and when you do not recover the original 28 verbs (viewed as categorical distributions over words with value 1 at the verb and 0 everywhere else).\n",
      "\n",
      "Below I arbitrarily pick 5 topics. It's worth varying this parameter manually to explore the data. I should also note that non-parametric LDA does exist; but is not currently implemented in this module."
     ]
    },
    {
     "cell_type": "code",
     "collapsed": false,
     "input": [
      "from vsm.model.ldagibbs import LDAGibbs\n",
      "\n",
      "lda_model = LDAGibbs(corpus, 'document', K=5)\n",
      "lda_model.train(itr=500)"
     ],
     "language": "python",
     "metadata": {},
     "outputs": [
      {
       "output_type": "stream",
       "stream": "stdout",
       "text": [
        "\r",
        "Iteration 0"
       ]
      },
      {
       "output_type": "stream",
       "stream": "stdout",
       "text": [
        "\r",
        "Iteration 1"
       ]
      },
      {
       "output_type": "stream",
       "stream": "stdout",
       "text": [
        "\r",
        "Iteration 2"
       ]
      },
      {
       "output_type": "stream",
       "stream": "stdout",
       "text": [
        "\r",
        "Iteration 3"
       ]
      },
      {
       "output_type": "stream",
       "stream": "stdout",
       "text": [
        "\r",
        "Iteration 4"
       ]
      },
      {
       "output_type": "stream",
       "stream": "stdout",
       "text": [
        "\r",
        "Iteration 5"
       ]
      },
      {
       "output_type": "stream",
       "stream": "stdout",
       "text": [
        "\r",
        "Iteration 6"
       ]
      },
      {
       "output_type": "stream",
       "stream": "stdout",
       "text": [
        "\r",
        "Iteration 7"
       ]
      },
      {
       "output_type": "stream",
       "stream": "stdout",
       "text": [
        "\r",
        "Iteration 8"
       ]
      },
      {
       "output_type": "stream",
       "stream": "stdout",
       "text": [
        "\r",
        "Iteration 9"
       ]
      },
      {
       "output_type": "stream",
       "stream": "stdout",
       "text": [
        "\r",
        "Iteration 10"
       ]
      },
      {
       "output_type": "stream",
       "stream": "stdout",
       "text": [
        "\r",
        "Iteration 11"
       ]
      },
      {
       "output_type": "stream",
       "stream": "stdout",
       "text": [
        "\r",
        "Iteration 12"
       ]
      },
      {
       "output_type": "stream",
       "stream": "stdout",
       "text": [
        "\r",
        "Iteration 13"
       ]
      },
      {
       "output_type": "stream",
       "stream": "stdout",
       "text": [
        "\r",
        "Iteration 14"
       ]
      },
      {
       "output_type": "stream",
       "stream": "stdout",
       "text": [
        "\r",
        "Iteration 15"
       ]
      },
      {
       "output_type": "stream",
       "stream": "stdout",
       "text": [
        "\r",
        "Iteration 16"
       ]
      },
      {
       "output_type": "stream",
       "stream": "stdout",
       "text": [
        "\r",
        "Iteration 17"
       ]
      },
      {
       "output_type": "stream",
       "stream": "stdout",
       "text": [
        "\r",
        "Iteration 18"
       ]
      },
      {
       "output_type": "stream",
       "stream": "stdout",
       "text": [
        "\r",
        "Iteration 19"
       ]
      },
      {
       "output_type": "stream",
       "stream": "stdout",
       "text": [
        "\r",
        "Iteration 20"
       ]
      },
      {
       "output_type": "stream",
       "stream": "stdout",
       "text": [
        "\r",
        "Iteration 21"
       ]
      },
      {
       "output_type": "stream",
       "stream": "stdout",
       "text": [
        "\r",
        "Iteration 22"
       ]
      },
      {
       "output_type": "stream",
       "stream": "stdout",
       "text": [
        "\r",
        "Iteration 23"
       ]
      },
      {
       "output_type": "stream",
       "stream": "stdout",
       "text": [
        "\r",
        "Iteration 24"
       ]
      },
      {
       "output_type": "stream",
       "stream": "stdout",
       "text": [
        "\r",
        "Iteration 25"
       ]
      },
      {
       "output_type": "stream",
       "stream": "stdout",
       "text": [
        "\r",
        "Iteration 26"
       ]
      },
      {
       "output_type": "stream",
       "stream": "stdout",
       "text": [
        "\r",
        "Iteration 27"
       ]
      },
      {
       "output_type": "stream",
       "stream": "stdout",
       "text": [
        "\r",
        "Iteration 28"
       ]
      },
      {
       "output_type": "stream",
       "stream": "stdout",
       "text": [
        "\r",
        "Iteration 29"
       ]
      },
      {
       "output_type": "stream",
       "stream": "stdout",
       "text": [
        "\r",
        "Iteration 30"
       ]
      },
      {
       "output_type": "stream",
       "stream": "stdout",
       "text": [
        "\r",
        "Iteration 31"
       ]
      },
      {
       "output_type": "stream",
       "stream": "stdout",
       "text": [
        "\r",
        "Iteration 32"
       ]
      },
      {
       "output_type": "stream",
       "stream": "stdout",
       "text": [
        "\r",
        "Iteration 33"
       ]
      },
      {
       "output_type": "stream",
       "stream": "stdout",
       "text": [
        "\r",
        "Iteration 34"
       ]
      },
      {
       "output_type": "stream",
       "stream": "stdout",
       "text": [
        "\r",
        "Iteration 35"
       ]
      },
      {
       "output_type": "stream",
       "stream": "stdout",
       "text": [
        "\r",
        "Iteration 36"
       ]
      },
      {
       "output_type": "stream",
       "stream": "stdout",
       "text": [
        "\r",
        "Iteration 37"
       ]
      },
      {
       "output_type": "stream",
       "stream": "stdout",
       "text": [
        "\r",
        "Iteration 38"
       ]
      },
      {
       "output_type": "stream",
       "stream": "stdout",
       "text": [
        "\r",
        "Iteration 39"
       ]
      },
      {
       "output_type": "stream",
       "stream": "stdout",
       "text": [
        "\r",
        "Iteration 40"
       ]
      },
      {
       "output_type": "stream",
       "stream": "stdout",
       "text": [
        "\r",
        "Iteration 41"
       ]
      },
      {
       "output_type": "stream",
       "stream": "stdout",
       "text": [
        "\r",
        "Iteration 42"
       ]
      },
      {
       "output_type": "stream",
       "stream": "stdout",
       "text": [
        "\r",
        "Iteration 43"
       ]
      },
      {
       "output_type": "stream",
       "stream": "stdout",
       "text": [
        "\r",
        "Iteration 44"
       ]
      },
      {
       "output_type": "stream",
       "stream": "stdout",
       "text": [
        "\r",
        "Iteration 45"
       ]
      },
      {
       "output_type": "stream",
       "stream": "stdout",
       "text": [
        "\r",
        "Iteration 46"
       ]
      },
      {
       "output_type": "stream",
       "stream": "stdout",
       "text": [
        "\r",
        "Iteration 47"
       ]
      },
      {
       "output_type": "stream",
       "stream": "stdout",
       "text": [
        "\r",
        "Iteration 48"
       ]
      },
      {
       "output_type": "stream",
       "stream": "stdout",
       "text": [
        "\r",
        "Iteration 49"
       ]
      },
      {
       "output_type": "stream",
       "stream": "stdout",
       "text": [
        "\r",
        "Iteration 50"
       ]
      },
      {
       "output_type": "stream",
       "stream": "stdout",
       "text": [
        "\r",
        "Iteration 51"
       ]
      },
      {
       "output_type": "stream",
       "stream": "stdout",
       "text": [
        "\r",
        "Iteration 52"
       ]
      },
      {
       "output_type": "stream",
       "stream": "stdout",
       "text": [
        "\r",
        "Iteration 53"
       ]
      },
      {
       "output_type": "stream",
       "stream": "stdout",
       "text": [
        "\r",
        "Iteration 54"
       ]
      },
      {
       "output_type": "stream",
       "stream": "stdout",
       "text": [
        "\r",
        "Iteration 55"
       ]
      },
      {
       "output_type": "stream",
       "stream": "stdout",
       "text": [
        "\r",
        "Iteration 56"
       ]
      },
      {
       "output_type": "stream",
       "stream": "stdout",
       "text": [
        "\r",
        "Iteration 57"
       ]
      },
      {
       "output_type": "stream",
       "stream": "stdout",
       "text": [
        "\r",
        "Iteration 58"
       ]
      },
      {
       "output_type": "stream",
       "stream": "stdout",
       "text": [
        "\r",
        "Iteration 59"
       ]
      },
      {
       "output_type": "stream",
       "stream": "stdout",
       "text": [
        "\r",
        "Iteration 60"
       ]
      },
      {
       "output_type": "stream",
       "stream": "stdout",
       "text": [
        "\r",
        "Iteration 61"
       ]
      },
      {
       "output_type": "stream",
       "stream": "stdout",
       "text": [
        "\r",
        "Iteration 62"
       ]
      },
      {
       "output_type": "stream",
       "stream": "stdout",
       "text": [
        "\r",
        "Iteration 63"
       ]
      },
      {
       "output_type": "stream",
       "stream": "stdout",
       "text": [
        "\r",
        "Iteration 64"
       ]
      },
      {
       "output_type": "stream",
       "stream": "stdout",
       "text": [
        "\r",
        "Iteration 65"
       ]
      },
      {
       "output_type": "stream",
       "stream": "stdout",
       "text": [
        "\r",
        "Iteration 66"
       ]
      },
      {
       "output_type": "stream",
       "stream": "stdout",
       "text": [
        "\r",
        "Iteration 67"
       ]
      },
      {
       "output_type": "stream",
       "stream": "stdout",
       "text": [
        "\r",
        "Iteration 68"
       ]
      },
      {
       "output_type": "stream",
       "stream": "stdout",
       "text": [
        "\r",
        "Iteration 69"
       ]
      },
      {
       "output_type": "stream",
       "stream": "stdout",
       "text": [
        "\r",
        "Iteration 70"
       ]
      },
      {
       "output_type": "stream",
       "stream": "stdout",
       "text": [
        "\r",
        "Iteration 71"
       ]
      },
      {
       "output_type": "stream",
       "stream": "stdout",
       "text": [
        "\r",
        "Iteration 72"
       ]
      },
      {
       "output_type": "stream",
       "stream": "stdout",
       "text": [
        "\r",
        "Iteration 73"
       ]
      },
      {
       "output_type": "stream",
       "stream": "stdout",
       "text": [
        "\r",
        "Iteration 74"
       ]
      },
      {
       "output_type": "stream",
       "stream": "stdout",
       "text": [
        "\r",
        "Iteration 75"
       ]
      },
      {
       "output_type": "stream",
       "stream": "stdout",
       "text": [
        "\r",
        "Iteration 76"
       ]
      },
      {
       "output_type": "stream",
       "stream": "stdout",
       "text": [
        "\r",
        "Iteration 77"
       ]
      },
      {
       "output_type": "stream",
       "stream": "stdout",
       "text": [
        "\r",
        "Iteration 78"
       ]
      },
      {
       "output_type": "stream",
       "stream": "stdout",
       "text": [
        "\r",
        "Iteration 79"
       ]
      },
      {
       "output_type": "stream",
       "stream": "stdout",
       "text": [
        "\r",
        "Iteration 80"
       ]
      },
      {
       "output_type": "stream",
       "stream": "stdout",
       "text": [
        "\r",
        "Iteration 81"
       ]
      },
      {
       "output_type": "stream",
       "stream": "stdout",
       "text": [
        "\r",
        "Iteration 82"
       ]
      },
      {
       "output_type": "stream",
       "stream": "stdout",
       "text": [
        "\r",
        "Iteration 83"
       ]
      },
      {
       "output_type": "stream",
       "stream": "stdout",
       "text": [
        "\r",
        "Iteration 84"
       ]
      },
      {
       "output_type": "stream",
       "stream": "stdout",
       "text": [
        "\r",
        "Iteration 85"
       ]
      },
      {
       "output_type": "stream",
       "stream": "stdout",
       "text": [
        "\r",
        "Iteration 86"
       ]
      },
      {
       "output_type": "stream",
       "stream": "stdout",
       "text": [
        "\r",
        "Iteration 87"
       ]
      },
      {
       "output_type": "stream",
       "stream": "stdout",
       "text": [
        "\r",
        "Iteration 88"
       ]
      },
      {
       "output_type": "stream",
       "stream": "stdout",
       "text": [
        "\r",
        "Iteration 89"
       ]
      },
      {
       "output_type": "stream",
       "stream": "stdout",
       "text": [
        "\r",
        "Iteration 90"
       ]
      },
      {
       "output_type": "stream",
       "stream": "stdout",
       "text": [
        "\r",
        "Iteration 91"
       ]
      },
      {
       "output_type": "stream",
       "stream": "stdout",
       "text": [
        "\r",
        "Iteration 92"
       ]
      },
      {
       "output_type": "stream",
       "stream": "stdout",
       "text": [
        "\r",
        "Iteration 93"
       ]
      },
      {
       "output_type": "stream",
       "stream": "stdout",
       "text": [
        "\r",
        "Iteration 94"
       ]
      },
      {
       "output_type": "stream",
       "stream": "stdout",
       "text": [
        "\r",
        "Iteration 95"
       ]
      },
      {
       "output_type": "stream",
       "stream": "stdout",
       "text": [
        "\r",
        "Iteration 96"
       ]
      },
      {
       "output_type": "stream",
       "stream": "stdout",
       "text": [
        "\r",
        "Iteration 97"
       ]
      },
      {
       "output_type": "stream",
       "stream": "stdout",
       "text": [
        "\r",
        "Iteration 98"
       ]
      },
      {
       "output_type": "stream",
       "stream": "stdout",
       "text": [
        "\r",
        "Iteration 99"
       ]
      },
      {
       "output_type": "stream",
       "stream": "stdout",
       "text": [
        "\r",
        "Iteration 100"
       ]
      },
      {
       "output_type": "stream",
       "stream": "stdout",
       "text": [
        "\r",
        "Iteration 101"
       ]
      },
      {
       "output_type": "stream",
       "stream": "stdout",
       "text": [
        "\r",
        "Iteration 102"
       ]
      },
      {
       "output_type": "stream",
       "stream": "stdout",
       "text": [
        "\r",
        "Iteration 103"
       ]
      },
      {
       "output_type": "stream",
       "stream": "stdout",
       "text": [
        "\r",
        "Iteration 104"
       ]
      },
      {
       "output_type": "stream",
       "stream": "stdout",
       "text": [
        "\r",
        "Iteration 105"
       ]
      },
      {
       "output_type": "stream",
       "stream": "stdout",
       "text": [
        "\r",
        "Iteration 106"
       ]
      },
      {
       "output_type": "stream",
       "stream": "stdout",
       "text": [
        "\r",
        "Iteration 107"
       ]
      },
      {
       "output_type": "stream",
       "stream": "stdout",
       "text": [
        "\r",
        "Iteration 108"
       ]
      },
      {
       "output_type": "stream",
       "stream": "stdout",
       "text": [
        "\r",
        "Iteration 109"
       ]
      },
      {
       "output_type": "stream",
       "stream": "stdout",
       "text": [
        "\r",
        "Iteration 110"
       ]
      },
      {
       "output_type": "stream",
       "stream": "stdout",
       "text": [
        "\r",
        "Iteration 111"
       ]
      },
      {
       "output_type": "stream",
       "stream": "stdout",
       "text": [
        "\r",
        "Iteration 112"
       ]
      },
      {
       "output_type": "stream",
       "stream": "stdout",
       "text": [
        "\r",
        "Iteration 113"
       ]
      },
      {
       "output_type": "stream",
       "stream": "stdout",
       "text": [
        "\r",
        "Iteration 114"
       ]
      },
      {
       "output_type": "stream",
       "stream": "stdout",
       "text": [
        "\r",
        "Iteration 115"
       ]
      },
      {
       "output_type": "stream",
       "stream": "stdout",
       "text": [
        "\r",
        "Iteration 116"
       ]
      },
      {
       "output_type": "stream",
       "stream": "stdout",
       "text": [
        "\r",
        "Iteration 117"
       ]
      },
      {
       "output_type": "stream",
       "stream": "stdout",
       "text": [
        "\r",
        "Iteration 118"
       ]
      },
      {
       "output_type": "stream",
       "stream": "stdout",
       "text": [
        "\r",
        "Iteration 119"
       ]
      },
      {
       "output_type": "stream",
       "stream": "stdout",
       "text": [
        "\r",
        "Iteration 120"
       ]
      },
      {
       "output_type": "stream",
       "stream": "stdout",
       "text": [
        "\r",
        "Iteration 121"
       ]
      },
      {
       "output_type": "stream",
       "stream": "stdout",
       "text": [
        "\r",
        "Iteration 122"
       ]
      },
      {
       "output_type": "stream",
       "stream": "stdout",
       "text": [
        "\r",
        "Iteration 123"
       ]
      },
      {
       "output_type": "stream",
       "stream": "stdout",
       "text": [
        "\r",
        "Iteration 124"
       ]
      },
      {
       "output_type": "stream",
       "stream": "stdout",
       "text": [
        "\r",
        "Iteration 125"
       ]
      },
      {
       "output_type": "stream",
       "stream": "stdout",
       "text": [
        "\r",
        "Iteration 126"
       ]
      },
      {
       "output_type": "stream",
       "stream": "stdout",
       "text": [
        "\r",
        "Iteration 127"
       ]
      },
      {
       "output_type": "stream",
       "stream": "stdout",
       "text": [
        "\r",
        "Iteration 128"
       ]
      },
      {
       "output_type": "stream",
       "stream": "stdout",
       "text": [
        "\r",
        "Iteration 129"
       ]
      },
      {
       "output_type": "stream",
       "stream": "stdout",
       "text": [
        "\r",
        "Iteration 130"
       ]
      },
      {
       "output_type": "stream",
       "stream": "stdout",
       "text": [
        "\r",
        "Iteration 131"
       ]
      },
      {
       "output_type": "stream",
       "stream": "stdout",
       "text": [
        "\r",
        "Iteration 132"
       ]
      },
      {
       "output_type": "stream",
       "stream": "stdout",
       "text": [
        "\r",
        "Iteration 133"
       ]
      },
      {
       "output_type": "stream",
       "stream": "stdout",
       "text": [
        "\r",
        "Iteration 134"
       ]
      },
      {
       "output_type": "stream",
       "stream": "stdout",
       "text": [
        "\r",
        "Iteration 135"
       ]
      },
      {
       "output_type": "stream",
       "stream": "stdout",
       "text": [
        "\r",
        "Iteration 136"
       ]
      },
      {
       "output_type": "stream",
       "stream": "stdout",
       "text": [
        "\r",
        "Iteration 137"
       ]
      },
      {
       "output_type": "stream",
       "stream": "stdout",
       "text": [
        "\r",
        "Iteration 138"
       ]
      },
      {
       "output_type": "stream",
       "stream": "stdout",
       "text": [
        "\r",
        "Iteration 139"
       ]
      },
      {
       "output_type": "stream",
       "stream": "stdout",
       "text": [
        "\r",
        "Iteration 140"
       ]
      },
      {
       "output_type": "stream",
       "stream": "stdout",
       "text": [
        "\r",
        "Iteration 141"
       ]
      },
      {
       "output_type": "stream",
       "stream": "stdout",
       "text": [
        "\r",
        "Iteration 142"
       ]
      },
      {
       "output_type": "stream",
       "stream": "stdout",
       "text": [
        "\r",
        "Iteration 143"
       ]
      },
      {
       "output_type": "stream",
       "stream": "stdout",
       "text": [
        "\r",
        "Iteration 144"
       ]
      },
      {
       "output_type": "stream",
       "stream": "stdout",
       "text": [
        "\r",
        "Iteration 145"
       ]
      },
      {
       "output_type": "stream",
       "stream": "stdout",
       "text": [
        "\r",
        "Iteration 146"
       ]
      },
      {
       "output_type": "stream",
       "stream": "stdout",
       "text": [
        "\r",
        "Iteration 147"
       ]
      },
      {
       "output_type": "stream",
       "stream": "stdout",
       "text": [
        "\r",
        "Iteration 148"
       ]
      },
      {
       "output_type": "stream",
       "stream": "stdout",
       "text": [
        "\r",
        "Iteration 149"
       ]
      },
      {
       "output_type": "stream",
       "stream": "stdout",
       "text": [
        "\r",
        "Iteration 150"
       ]
      },
      {
       "output_type": "stream",
       "stream": "stdout",
       "text": [
        "\r",
        "Iteration 151"
       ]
      },
      {
       "output_type": "stream",
       "stream": "stdout",
       "text": [
        "\r",
        "Iteration 152"
       ]
      },
      {
       "output_type": "stream",
       "stream": "stdout",
       "text": [
        "\r",
        "Iteration 153"
       ]
      },
      {
       "output_type": "stream",
       "stream": "stdout",
       "text": [
        "\r",
        "Iteration 154"
       ]
      },
      {
       "output_type": "stream",
       "stream": "stdout",
       "text": [
        "\r",
        "Iteration 155"
       ]
      },
      {
       "output_type": "stream",
       "stream": "stdout",
       "text": [
        "\r",
        "Iteration 156"
       ]
      },
      {
       "output_type": "stream",
       "stream": "stdout",
       "text": [
        "\r",
        "Iteration 157"
       ]
      },
      {
       "output_type": "stream",
       "stream": "stdout",
       "text": [
        "\r",
        "Iteration 158"
       ]
      },
      {
       "output_type": "stream",
       "stream": "stdout",
       "text": [
        "\r",
        "Iteration 159"
       ]
      },
      {
       "output_type": "stream",
       "stream": "stdout",
       "text": [
        "\r",
        "Iteration 160"
       ]
      },
      {
       "output_type": "stream",
       "stream": "stdout",
       "text": [
        "\r",
        "Iteration 161"
       ]
      },
      {
       "output_type": "stream",
       "stream": "stdout",
       "text": [
        "\r",
        "Iteration 162"
       ]
      },
      {
       "output_type": "stream",
       "stream": "stdout",
       "text": [
        "\r",
        "Iteration 163"
       ]
      },
      {
       "output_type": "stream",
       "stream": "stdout",
       "text": [
        "\r",
        "Iteration 164"
       ]
      },
      {
       "output_type": "stream",
       "stream": "stdout",
       "text": [
        "\r",
        "Iteration 165"
       ]
      },
      {
       "output_type": "stream",
       "stream": "stdout",
       "text": [
        "\r",
        "Iteration 166"
       ]
      },
      {
       "output_type": "stream",
       "stream": "stdout",
       "text": [
        "\r",
        "Iteration 167"
       ]
      },
      {
       "output_type": "stream",
       "stream": "stdout",
       "text": [
        "\r",
        "Iteration 168"
       ]
      },
      {
       "output_type": "stream",
       "stream": "stdout",
       "text": [
        "\r",
        "Iteration 169"
       ]
      },
      {
       "output_type": "stream",
       "stream": "stdout",
       "text": [
        "\r",
        "Iteration 170"
       ]
      },
      {
       "output_type": "stream",
       "stream": "stdout",
       "text": [
        "\r",
        "Iteration 171"
       ]
      },
      {
       "output_type": "stream",
       "stream": "stdout",
       "text": [
        "\r",
        "Iteration 172"
       ]
      },
      {
       "output_type": "stream",
       "stream": "stdout",
       "text": [
        "\r",
        "Iteration 173"
       ]
      },
      {
       "output_type": "stream",
       "stream": "stdout",
       "text": [
        "\r",
        "Iteration 174"
       ]
      },
      {
       "output_type": "stream",
       "stream": "stdout",
       "text": [
        "\r",
        "Iteration 175"
       ]
      },
      {
       "output_type": "stream",
       "stream": "stdout",
       "text": [
        "\r",
        "Iteration 176"
       ]
      },
      {
       "output_type": "stream",
       "stream": "stdout",
       "text": [
        "\r",
        "Iteration 177"
       ]
      },
      {
       "output_type": "stream",
       "stream": "stdout",
       "text": [
        "\r",
        "Iteration 178"
       ]
      },
      {
       "output_type": "stream",
       "stream": "stdout",
       "text": [
        "\r",
        "Iteration 179"
       ]
      },
      {
       "output_type": "stream",
       "stream": "stdout",
       "text": [
        "\r",
        "Iteration 180"
       ]
      },
      {
       "output_type": "stream",
       "stream": "stdout",
       "text": [
        "\r",
        "Iteration 181"
       ]
      },
      {
       "output_type": "stream",
       "stream": "stdout",
       "text": [
        "\r",
        "Iteration 182"
       ]
      },
      {
       "output_type": "stream",
       "stream": "stdout",
       "text": [
        "\r",
        "Iteration 183"
       ]
      },
      {
       "output_type": "stream",
       "stream": "stdout",
       "text": [
        "\r",
        "Iteration 184"
       ]
      },
      {
       "output_type": "stream",
       "stream": "stdout",
       "text": [
        "\r",
        "Iteration 185"
       ]
      },
      {
       "output_type": "stream",
       "stream": "stdout",
       "text": [
        "\r",
        "Iteration 186"
       ]
      },
      {
       "output_type": "stream",
       "stream": "stdout",
       "text": [
        "\r",
        "Iteration 187"
       ]
      },
      {
       "output_type": "stream",
       "stream": "stdout",
       "text": [
        "\r",
        "Iteration 188"
       ]
      },
      {
       "output_type": "stream",
       "stream": "stdout",
       "text": [
        "\r",
        "Iteration 189"
       ]
      },
      {
       "output_type": "stream",
       "stream": "stdout",
       "text": [
        "\r",
        "Iteration 190"
       ]
      },
      {
       "output_type": "stream",
       "stream": "stdout",
       "text": [
        "\r",
        "Iteration 191"
       ]
      },
      {
       "output_type": "stream",
       "stream": "stdout",
       "text": [
        "\r",
        "Iteration 192"
       ]
      },
      {
       "output_type": "stream",
       "stream": "stdout",
       "text": [
        "\r",
        "Iteration 193"
       ]
      },
      {
       "output_type": "stream",
       "stream": "stdout",
       "text": [
        "\r",
        "Iteration 194"
       ]
      },
      {
       "output_type": "stream",
       "stream": "stdout",
       "text": [
        "\r",
        "Iteration 195"
       ]
      },
      {
       "output_type": "stream",
       "stream": "stdout",
       "text": [
        "\r",
        "Iteration 196"
       ]
      },
      {
       "output_type": "stream",
       "stream": "stdout",
       "text": [
        "\r",
        "Iteration 197"
       ]
      },
      {
       "output_type": "stream",
       "stream": "stdout",
       "text": [
        "\r",
        "Iteration 198"
       ]
      },
      {
       "output_type": "stream",
       "stream": "stdout",
       "text": [
        "\r",
        "Iteration 199"
       ]
      },
      {
       "output_type": "stream",
       "stream": "stdout",
       "text": [
        "\r",
        "Iteration 200"
       ]
      },
      {
       "output_type": "stream",
       "stream": "stdout",
       "text": [
        "\r",
        "Iteration 201"
       ]
      },
      {
       "output_type": "stream",
       "stream": "stdout",
       "text": [
        "\r",
        "Iteration 202"
       ]
      },
      {
       "output_type": "stream",
       "stream": "stdout",
       "text": [
        "\r",
        "Iteration 203"
       ]
      },
      {
       "output_type": "stream",
       "stream": "stdout",
       "text": [
        "\r",
        "Iteration 204"
       ]
      },
      {
       "output_type": "stream",
       "stream": "stdout",
       "text": [
        "\r",
        "Iteration 205"
       ]
      },
      {
       "output_type": "stream",
       "stream": "stdout",
       "text": [
        "\r",
        "Iteration 206"
       ]
      },
      {
       "output_type": "stream",
       "stream": "stdout",
       "text": [
        "\r",
        "Iteration 207"
       ]
      },
      {
       "output_type": "stream",
       "stream": "stdout",
       "text": [
        "\r",
        "Iteration 208"
       ]
      },
      {
       "output_type": "stream",
       "stream": "stdout",
       "text": [
        "\r",
        "Iteration 209"
       ]
      },
      {
       "output_type": "stream",
       "stream": "stdout",
       "text": [
        "\r",
        "Iteration 210"
       ]
      },
      {
       "output_type": "stream",
       "stream": "stdout",
       "text": [
        "\r",
        "Iteration 211"
       ]
      },
      {
       "output_type": "stream",
       "stream": "stdout",
       "text": [
        "\r",
        "Iteration 212"
       ]
      },
      {
       "output_type": "stream",
       "stream": "stdout",
       "text": [
        "\r",
        "Iteration 213"
       ]
      },
      {
       "output_type": "stream",
       "stream": "stdout",
       "text": [
        "\r",
        "Iteration 214"
       ]
      },
      {
       "output_type": "stream",
       "stream": "stdout",
       "text": [
        "\r",
        "Iteration 215"
       ]
      },
      {
       "output_type": "stream",
       "stream": "stdout",
       "text": [
        "\r",
        "Iteration 216"
       ]
      },
      {
       "output_type": "stream",
       "stream": "stdout",
       "text": [
        "\r",
        "Iteration 217"
       ]
      },
      {
       "output_type": "stream",
       "stream": "stdout",
       "text": [
        "\r",
        "Iteration 218"
       ]
      },
      {
       "output_type": "stream",
       "stream": "stdout",
       "text": [
        "\r",
        "Iteration 219"
       ]
      },
      {
       "output_type": "stream",
       "stream": "stdout",
       "text": [
        "\r",
        "Iteration 220"
       ]
      },
      {
       "output_type": "stream",
       "stream": "stdout",
       "text": [
        "\r",
        "Iteration 221"
       ]
      },
      {
       "output_type": "stream",
       "stream": "stdout",
       "text": [
        "\r",
        "Iteration 222"
       ]
      },
      {
       "output_type": "stream",
       "stream": "stdout",
       "text": [
        "\r",
        "Iteration 223"
       ]
      },
      {
       "output_type": "stream",
       "stream": "stdout",
       "text": [
        "\r",
        "Iteration 224"
       ]
      },
      {
       "output_type": "stream",
       "stream": "stdout",
       "text": [
        "\r",
        "Iteration 225"
       ]
      },
      {
       "output_type": "stream",
       "stream": "stdout",
       "text": [
        "\r",
        "Iteration 226"
       ]
      },
      {
       "output_type": "stream",
       "stream": "stdout",
       "text": [
        "\r",
        "Iteration 227"
       ]
      },
      {
       "output_type": "stream",
       "stream": "stdout",
       "text": [
        "\r",
        "Iteration 228"
       ]
      },
      {
       "output_type": "stream",
       "stream": "stdout",
       "text": [
        "\r",
        "Iteration 229"
       ]
      },
      {
       "output_type": "stream",
       "stream": "stdout",
       "text": [
        "\r",
        "Iteration 230"
       ]
      },
      {
       "output_type": "stream",
       "stream": "stdout",
       "text": [
        "\r",
        "Iteration 231"
       ]
      },
      {
       "output_type": "stream",
       "stream": "stdout",
       "text": [
        "\r",
        "Iteration 232"
       ]
      },
      {
       "output_type": "stream",
       "stream": "stdout",
       "text": [
        "\r",
        "Iteration 233"
       ]
      },
      {
       "output_type": "stream",
       "stream": "stdout",
       "text": [
        "\r",
        "Iteration 234"
       ]
      },
      {
       "output_type": "stream",
       "stream": "stdout",
       "text": [
        "\r",
        "Iteration 235"
       ]
      },
      {
       "output_type": "stream",
       "stream": "stdout",
       "text": [
        "\r",
        "Iteration 236"
       ]
      },
      {
       "output_type": "stream",
       "stream": "stdout",
       "text": [
        "\r",
        "Iteration 237"
       ]
      },
      {
       "output_type": "stream",
       "stream": "stdout",
       "text": [
        "\r",
        "Iteration 238"
       ]
      },
      {
       "output_type": "stream",
       "stream": "stdout",
       "text": [
        "\r",
        "Iteration 239"
       ]
      },
      {
       "output_type": "stream",
       "stream": "stdout",
       "text": [
        "\r",
        "Iteration 240"
       ]
      },
      {
       "output_type": "stream",
       "stream": "stdout",
       "text": [
        "\r",
        "Iteration 241"
       ]
      },
      {
       "output_type": "stream",
       "stream": "stdout",
       "text": [
        "\r",
        "Iteration 242"
       ]
      },
      {
       "output_type": "stream",
       "stream": "stdout",
       "text": [
        "\r",
        "Iteration 243"
       ]
      },
      {
       "output_type": "stream",
       "stream": "stdout",
       "text": [
        "\r",
        "Iteration 244"
       ]
      },
      {
       "output_type": "stream",
       "stream": "stdout",
       "text": [
        "\r",
        "Iteration 245"
       ]
      },
      {
       "output_type": "stream",
       "stream": "stdout",
       "text": [
        "\r",
        "Iteration 246"
       ]
      },
      {
       "output_type": "stream",
       "stream": "stdout",
       "text": [
        "\r",
        "Iteration 247"
       ]
      },
      {
       "output_type": "stream",
       "stream": "stdout",
       "text": [
        "\r",
        "Iteration 248"
       ]
      },
      {
       "output_type": "stream",
       "stream": "stdout",
       "text": [
        "\r",
        "Iteration 249"
       ]
      },
      {
       "output_type": "stream",
       "stream": "stdout",
       "text": [
        "\r",
        "Iteration 250"
       ]
      },
      {
       "output_type": "stream",
       "stream": "stdout",
       "text": [
        "\r",
        "Iteration 251"
       ]
      },
      {
       "output_type": "stream",
       "stream": "stdout",
       "text": [
        "\r",
        "Iteration 252"
       ]
      },
      {
       "output_type": "stream",
       "stream": "stdout",
       "text": [
        "\r",
        "Iteration 253"
       ]
      },
      {
       "output_type": "stream",
       "stream": "stdout",
       "text": [
        "\r",
        "Iteration 254"
       ]
      },
      {
       "output_type": "stream",
       "stream": "stdout",
       "text": [
        "\r",
        "Iteration 255"
       ]
      },
      {
       "output_type": "stream",
       "stream": "stdout",
       "text": [
        "\r",
        "Iteration 256"
       ]
      },
      {
       "output_type": "stream",
       "stream": "stdout",
       "text": [
        "\r",
        "Iteration 257"
       ]
      },
      {
       "output_type": "stream",
       "stream": "stdout",
       "text": [
        "\r",
        "Iteration 258"
       ]
      },
      {
       "output_type": "stream",
       "stream": "stdout",
       "text": [
        "\r",
        "Iteration 259"
       ]
      },
      {
       "output_type": "stream",
       "stream": "stdout",
       "text": [
        "\r",
        "Iteration 260"
       ]
      },
      {
       "output_type": "stream",
       "stream": "stdout",
       "text": [
        "\r",
        "Iteration 261"
       ]
      },
      {
       "output_type": "stream",
       "stream": "stdout",
       "text": [
        "\r",
        "Iteration 262"
       ]
      },
      {
       "output_type": "stream",
       "stream": "stdout",
       "text": [
        "\r",
        "Iteration 263"
       ]
      },
      {
       "output_type": "stream",
       "stream": "stdout",
       "text": [
        "\r",
        "Iteration 264"
       ]
      },
      {
       "output_type": "stream",
       "stream": "stdout",
       "text": [
        "\r",
        "Iteration 265"
       ]
      },
      {
       "output_type": "stream",
       "stream": "stdout",
       "text": [
        "\r",
        "Iteration 266"
       ]
      },
      {
       "output_type": "stream",
       "stream": "stdout",
       "text": [
        "\r",
        "Iteration 267"
       ]
      },
      {
       "output_type": "stream",
       "stream": "stdout",
       "text": [
        "\r",
        "Iteration 268"
       ]
      },
      {
       "output_type": "stream",
       "stream": "stdout",
       "text": [
        "\r",
        "Iteration 269"
       ]
      },
      {
       "output_type": "stream",
       "stream": "stdout",
       "text": [
        "\r",
        "Iteration 270"
       ]
      },
      {
       "output_type": "stream",
       "stream": "stdout",
       "text": [
        "\r",
        "Iteration 271"
       ]
      },
      {
       "output_type": "stream",
       "stream": "stdout",
       "text": [
        "\r",
        "Iteration 272"
       ]
      },
      {
       "output_type": "stream",
       "stream": "stdout",
       "text": [
        "\r",
        "Iteration 273"
       ]
      },
      {
       "output_type": "stream",
       "stream": "stdout",
       "text": [
        "\r",
        "Iteration 274"
       ]
      },
      {
       "output_type": "stream",
       "stream": "stdout",
       "text": [
        "\r",
        "Iteration 275"
       ]
      },
      {
       "output_type": "stream",
       "stream": "stdout",
       "text": [
        "\r",
        "Iteration 276"
       ]
      },
      {
       "output_type": "stream",
       "stream": "stdout",
       "text": [
        "\r",
        "Iteration 277"
       ]
      },
      {
       "output_type": "stream",
       "stream": "stdout",
       "text": [
        "\r",
        "Iteration 278"
       ]
      },
      {
       "output_type": "stream",
       "stream": "stdout",
       "text": [
        "\r",
        "Iteration 279"
       ]
      },
      {
       "output_type": "stream",
       "stream": "stdout",
       "text": [
        "\r",
        "Iteration 280"
       ]
      },
      {
       "output_type": "stream",
       "stream": "stdout",
       "text": [
        "\r",
        "Iteration 281"
       ]
      },
      {
       "output_type": "stream",
       "stream": "stdout",
       "text": [
        "\r",
        "Iteration 282"
       ]
      },
      {
       "output_type": "stream",
       "stream": "stdout",
       "text": [
        "\r",
        "Iteration 283"
       ]
      },
      {
       "output_type": "stream",
       "stream": "stdout",
       "text": [
        "\r",
        "Iteration 284"
       ]
      },
      {
       "output_type": "stream",
       "stream": "stdout",
       "text": [
        "\r",
        "Iteration 285"
       ]
      },
      {
       "output_type": "stream",
       "stream": "stdout",
       "text": [
        "\r",
        "Iteration 286"
       ]
      },
      {
       "output_type": "stream",
       "stream": "stdout",
       "text": [
        "\r",
        "Iteration 287"
       ]
      },
      {
       "output_type": "stream",
       "stream": "stdout",
       "text": [
        "\r",
        "Iteration 288"
       ]
      },
      {
       "output_type": "stream",
       "stream": "stdout",
       "text": [
        "\r",
        "Iteration 289"
       ]
      },
      {
       "output_type": "stream",
       "stream": "stdout",
       "text": [
        "\r",
        "Iteration 290"
       ]
      },
      {
       "output_type": "stream",
       "stream": "stdout",
       "text": [
        "\r",
        "Iteration 291"
       ]
      },
      {
       "output_type": "stream",
       "stream": "stdout",
       "text": [
        "\r",
        "Iteration 292"
       ]
      },
      {
       "output_type": "stream",
       "stream": "stdout",
       "text": [
        "\r",
        "Iteration 293"
       ]
      },
      {
       "output_type": "stream",
       "stream": "stdout",
       "text": [
        "\r",
        "Iteration 294"
       ]
      },
      {
       "output_type": "stream",
       "stream": "stdout",
       "text": [
        "\r",
        "Iteration 295"
       ]
      },
      {
       "output_type": "stream",
       "stream": "stdout",
       "text": [
        "\r",
        "Iteration 296"
       ]
      },
      {
       "output_type": "stream",
       "stream": "stdout",
       "text": [
        "\r",
        "Iteration 297"
       ]
      },
      {
       "output_type": "stream",
       "stream": "stdout",
       "text": [
        "\r",
        "Iteration 298"
       ]
      },
      {
       "output_type": "stream",
       "stream": "stdout",
       "text": [
        "\r",
        "Iteration 299"
       ]
      },
      {
       "output_type": "stream",
       "stream": "stdout",
       "text": [
        "\r",
        "Iteration 300"
       ]
      },
      {
       "output_type": "stream",
       "stream": "stdout",
       "text": [
        "\r",
        "Iteration 301"
       ]
      },
      {
       "output_type": "stream",
       "stream": "stdout",
       "text": [
        "\r",
        "Iteration 302"
       ]
      },
      {
       "output_type": "stream",
       "stream": "stdout",
       "text": [
        "\r",
        "Iteration 303"
       ]
      },
      {
       "output_type": "stream",
       "stream": "stdout",
       "text": [
        "\r",
        "Iteration 304"
       ]
      },
      {
       "output_type": "stream",
       "stream": "stdout",
       "text": [
        "\r",
        "Iteration 305"
       ]
      },
      {
       "output_type": "stream",
       "stream": "stdout",
       "text": [
        "\r",
        "Iteration 306"
       ]
      },
      {
       "output_type": "stream",
       "stream": "stdout",
       "text": [
        "\r",
        "Iteration 307"
       ]
      },
      {
       "output_type": "stream",
       "stream": "stdout",
       "text": [
        "\r",
        "Iteration 308"
       ]
      },
      {
       "output_type": "stream",
       "stream": "stdout",
       "text": [
        "\r",
        "Iteration 309"
       ]
      },
      {
       "output_type": "stream",
       "stream": "stdout",
       "text": [
        "\r",
        "Iteration 310"
       ]
      },
      {
       "output_type": "stream",
       "stream": "stdout",
       "text": [
        "\r",
        "Iteration 311"
       ]
      },
      {
       "output_type": "stream",
       "stream": "stdout",
       "text": [
        "\r",
        "Iteration 312"
       ]
      },
      {
       "output_type": "stream",
       "stream": "stdout",
       "text": [
        "\r",
        "Iteration 313"
       ]
      },
      {
       "output_type": "stream",
       "stream": "stdout",
       "text": [
        "\r",
        "Iteration 314"
       ]
      },
      {
       "output_type": "stream",
       "stream": "stdout",
       "text": [
        "\r",
        "Iteration 315"
       ]
      },
      {
       "output_type": "stream",
       "stream": "stdout",
       "text": [
        "\r",
        "Iteration 316"
       ]
      },
      {
       "output_type": "stream",
       "stream": "stdout",
       "text": [
        "\r",
        "Iteration 317"
       ]
      },
      {
       "output_type": "stream",
       "stream": "stdout",
       "text": [
        "\r",
        "Iteration 318"
       ]
      },
      {
       "output_type": "stream",
       "stream": "stdout",
       "text": [
        "\r",
        "Iteration 319"
       ]
      },
      {
       "output_type": "stream",
       "stream": "stdout",
       "text": [
        "\r",
        "Iteration 320"
       ]
      },
      {
       "output_type": "stream",
       "stream": "stdout",
       "text": [
        "\r",
        "Iteration 321"
       ]
      },
      {
       "output_type": "stream",
       "stream": "stdout",
       "text": [
        "\r",
        "Iteration 322"
       ]
      },
      {
       "output_type": "stream",
       "stream": "stdout",
       "text": [
        "\r",
        "Iteration 323"
       ]
      },
      {
       "output_type": "stream",
       "stream": "stdout",
       "text": [
        "\r",
        "Iteration 324"
       ]
      },
      {
       "output_type": "stream",
       "stream": "stdout",
       "text": [
        "\r",
        "Iteration 325"
       ]
      },
      {
       "output_type": "stream",
       "stream": "stdout",
       "text": [
        "\r",
        "Iteration 326"
       ]
      },
      {
       "output_type": "stream",
       "stream": "stdout",
       "text": [
        "\r",
        "Iteration 327"
       ]
      },
      {
       "output_type": "stream",
       "stream": "stdout",
       "text": [
        "\r",
        "Iteration 328"
       ]
      },
      {
       "output_type": "stream",
       "stream": "stdout",
       "text": [
        "\r",
        "Iteration 329"
       ]
      },
      {
       "output_type": "stream",
       "stream": "stdout",
       "text": [
        "\r",
        "Iteration 330"
       ]
      },
      {
       "output_type": "stream",
       "stream": "stdout",
       "text": [
        "\r",
        "Iteration 331"
       ]
      },
      {
       "output_type": "stream",
       "stream": "stdout",
       "text": [
        "\r",
        "Iteration 332"
       ]
      },
      {
       "output_type": "stream",
       "stream": "stdout",
       "text": [
        "\r",
        "Iteration 333"
       ]
      },
      {
       "output_type": "stream",
       "stream": "stdout",
       "text": [
        "\r",
        "Iteration 334"
       ]
      },
      {
       "output_type": "stream",
       "stream": "stdout",
       "text": [
        "\r",
        "Iteration 335"
       ]
      },
      {
       "output_type": "stream",
       "stream": "stdout",
       "text": [
        "\r",
        "Iteration 336"
       ]
      },
      {
       "output_type": "stream",
       "stream": "stdout",
       "text": [
        "\r",
        "Iteration 337"
       ]
      },
      {
       "output_type": "stream",
       "stream": "stdout",
       "text": [
        "\r",
        "Iteration 338"
       ]
      },
      {
       "output_type": "stream",
       "stream": "stdout",
       "text": [
        "\r",
        "Iteration 339"
       ]
      },
      {
       "output_type": "stream",
       "stream": "stdout",
       "text": [
        "\r",
        "Iteration 340"
       ]
      },
      {
       "output_type": "stream",
       "stream": "stdout",
       "text": [
        "\r",
        "Iteration 341"
       ]
      },
      {
       "output_type": "stream",
       "stream": "stdout",
       "text": [
        "\r",
        "Iteration 342"
       ]
      },
      {
       "output_type": "stream",
       "stream": "stdout",
       "text": [
        "\r",
        "Iteration 343"
       ]
      },
      {
       "output_type": "stream",
       "stream": "stdout",
       "text": [
        "\r",
        "Iteration 344"
       ]
      },
      {
       "output_type": "stream",
       "stream": "stdout",
       "text": [
        "\r",
        "Iteration 345"
       ]
      },
      {
       "output_type": "stream",
       "stream": "stdout",
       "text": [
        "\r",
        "Iteration 346"
       ]
      },
      {
       "output_type": "stream",
       "stream": "stdout",
       "text": [
        "\r",
        "Iteration 347"
       ]
      },
      {
       "output_type": "stream",
       "stream": "stdout",
       "text": [
        "\r",
        "Iteration 348"
       ]
      },
      {
       "output_type": "stream",
       "stream": "stdout",
       "text": [
        "\r",
        "Iteration 349"
       ]
      },
      {
       "output_type": "stream",
       "stream": "stdout",
       "text": [
        "\r",
        "Iteration 350"
       ]
      },
      {
       "output_type": "stream",
       "stream": "stdout",
       "text": [
        "\r",
        "Iteration 351"
       ]
      },
      {
       "output_type": "stream",
       "stream": "stdout",
       "text": [
        "\r",
        "Iteration 352"
       ]
      },
      {
       "output_type": "stream",
       "stream": "stdout",
       "text": [
        "\r",
        "Iteration 353"
       ]
      },
      {
       "output_type": "stream",
       "stream": "stdout",
       "text": [
        "\r",
        "Iteration 354"
       ]
      },
      {
       "output_type": "stream",
       "stream": "stdout",
       "text": [
        "\r",
        "Iteration 355"
       ]
      },
      {
       "output_type": "stream",
       "stream": "stdout",
       "text": [
        "\r",
        "Iteration 356"
       ]
      },
      {
       "output_type": "stream",
       "stream": "stdout",
       "text": [
        "\r",
        "Iteration 357"
       ]
      },
      {
       "output_type": "stream",
       "stream": "stdout",
       "text": [
        "\r",
        "Iteration 358"
       ]
      },
      {
       "output_type": "stream",
       "stream": "stdout",
       "text": [
        "\r",
        "Iteration 359"
       ]
      },
      {
       "output_type": "stream",
       "stream": "stdout",
       "text": [
        "\r",
        "Iteration 360"
       ]
      },
      {
       "output_type": "stream",
       "stream": "stdout",
       "text": [
        "\r",
        "Iteration 361"
       ]
      },
      {
       "output_type": "stream",
       "stream": "stdout",
       "text": [
        "\r",
        "Iteration 362"
       ]
      },
      {
       "output_type": "stream",
       "stream": "stdout",
       "text": [
        "\r",
        "Iteration 363"
       ]
      },
      {
       "output_type": "stream",
       "stream": "stdout",
       "text": [
        "\r",
        "Iteration 364"
       ]
      },
      {
       "output_type": "stream",
       "stream": "stdout",
       "text": [
        "\r",
        "Iteration 365"
       ]
      },
      {
       "output_type": "stream",
       "stream": "stdout",
       "text": [
        "\r",
        "Iteration 366"
       ]
      },
      {
       "output_type": "stream",
       "stream": "stdout",
       "text": [
        "\r",
        "Iteration 367"
       ]
      },
      {
       "output_type": "stream",
       "stream": "stdout",
       "text": [
        "\r",
        "Iteration 368"
       ]
      },
      {
       "output_type": "stream",
       "stream": "stdout",
       "text": [
        "\r",
        "Iteration 369"
       ]
      },
      {
       "output_type": "stream",
       "stream": "stdout",
       "text": [
        "\r",
        "Iteration 370"
       ]
      },
      {
       "output_type": "stream",
       "stream": "stdout",
       "text": [
        "\r",
        "Iteration 371"
       ]
      },
      {
       "output_type": "stream",
       "stream": "stdout",
       "text": [
        "\r",
        "Iteration 372"
       ]
      },
      {
       "output_type": "stream",
       "stream": "stdout",
       "text": [
        "\r",
        "Iteration 373"
       ]
      },
      {
       "output_type": "stream",
       "stream": "stdout",
       "text": [
        "\r",
        "Iteration 374"
       ]
      },
      {
       "output_type": "stream",
       "stream": "stdout",
       "text": [
        "\r",
        "Iteration 375"
       ]
      },
      {
       "output_type": "stream",
       "stream": "stdout",
       "text": [
        "\r",
        "Iteration 376"
       ]
      },
      {
       "output_type": "stream",
       "stream": "stdout",
       "text": [
        "\r",
        "Iteration 377"
       ]
      },
      {
       "output_type": "stream",
       "stream": "stdout",
       "text": [
        "\r",
        "Iteration 378"
       ]
      },
      {
       "output_type": "stream",
       "stream": "stdout",
       "text": [
        "\r",
        "Iteration 379"
       ]
      },
      {
       "output_type": "stream",
       "stream": "stdout",
       "text": [
        "\r",
        "Iteration 380"
       ]
      },
      {
       "output_type": "stream",
       "stream": "stdout",
       "text": [
        "\r",
        "Iteration 381"
       ]
      },
      {
       "output_type": "stream",
       "stream": "stdout",
       "text": [
        "\r",
        "Iteration 382"
       ]
      },
      {
       "output_type": "stream",
       "stream": "stdout",
       "text": [
        "\r",
        "Iteration 383"
       ]
      },
      {
       "output_type": "stream",
       "stream": "stdout",
       "text": [
        "\r",
        "Iteration 384"
       ]
      },
      {
       "output_type": "stream",
       "stream": "stdout",
       "text": [
        "\r",
        "Iteration 385"
       ]
      },
      {
       "output_type": "stream",
       "stream": "stdout",
       "text": [
        "\r",
        "Iteration 386"
       ]
      },
      {
       "output_type": "stream",
       "stream": "stdout",
       "text": [
        "\r",
        "Iteration 387"
       ]
      },
      {
       "output_type": "stream",
       "stream": "stdout",
       "text": [
        "\r",
        "Iteration 388"
       ]
      },
      {
       "output_type": "stream",
       "stream": "stdout",
       "text": [
        "\r",
        "Iteration 389"
       ]
      },
      {
       "output_type": "stream",
       "stream": "stdout",
       "text": [
        "\r",
        "Iteration 390"
       ]
      },
      {
       "output_type": "stream",
       "stream": "stdout",
       "text": [
        "\r",
        "Iteration 391"
       ]
      },
      {
       "output_type": "stream",
       "stream": "stdout",
       "text": [
        "\r",
        "Iteration 392"
       ]
      },
      {
       "output_type": "stream",
       "stream": "stdout",
       "text": [
        "\r",
        "Iteration 393"
       ]
      },
      {
       "output_type": "stream",
       "stream": "stdout",
       "text": [
        "\r",
        "Iteration 394"
       ]
      },
      {
       "output_type": "stream",
       "stream": "stdout",
       "text": [
        "\r",
        "Iteration 395"
       ]
      },
      {
       "output_type": "stream",
       "stream": "stdout",
       "text": [
        "\r",
        "Iteration 396"
       ]
      },
      {
       "output_type": "stream",
       "stream": "stdout",
       "text": [
        "\r",
        "Iteration 397"
       ]
      },
      {
       "output_type": "stream",
       "stream": "stdout",
       "text": [
        "\r",
        "Iteration 398"
       ]
      },
      {
       "output_type": "stream",
       "stream": "stdout",
       "text": [
        "\r",
        "Iteration 399"
       ]
      },
      {
       "output_type": "stream",
       "stream": "stdout",
       "text": [
        "\r",
        "Iteration 400"
       ]
      },
      {
       "output_type": "stream",
       "stream": "stdout",
       "text": [
        "\r",
        "Iteration 401"
       ]
      },
      {
       "output_type": "stream",
       "stream": "stdout",
       "text": [
        "\r",
        "Iteration 402"
       ]
      },
      {
       "output_type": "stream",
       "stream": "stdout",
       "text": [
        "\r",
        "Iteration 403"
       ]
      },
      {
       "output_type": "stream",
       "stream": "stdout",
       "text": [
        "\r",
        "Iteration 404"
       ]
      },
      {
       "output_type": "stream",
       "stream": "stdout",
       "text": [
        "\r",
        "Iteration 405"
       ]
      },
      {
       "output_type": "stream",
       "stream": "stdout",
       "text": [
        "\r",
        "Iteration 406"
       ]
      },
      {
       "output_type": "stream",
       "stream": "stdout",
       "text": [
        "\r",
        "Iteration 407"
       ]
      },
      {
       "output_type": "stream",
       "stream": "stdout",
       "text": [
        "\r",
        "Iteration 408"
       ]
      },
      {
       "output_type": "stream",
       "stream": "stdout",
       "text": [
        "\r",
        "Iteration 409"
       ]
      },
      {
       "output_type": "stream",
       "stream": "stdout",
       "text": [
        "\r",
        "Iteration 410"
       ]
      },
      {
       "output_type": "stream",
       "stream": "stdout",
       "text": [
        "\r",
        "Iteration 411"
       ]
      },
      {
       "output_type": "stream",
       "stream": "stdout",
       "text": [
        "\r",
        "Iteration 412"
       ]
      },
      {
       "output_type": "stream",
       "stream": "stdout",
       "text": [
        "\r",
        "Iteration 413"
       ]
      },
      {
       "output_type": "stream",
       "stream": "stdout",
       "text": [
        "\r",
        "Iteration 414"
       ]
      },
      {
       "output_type": "stream",
       "stream": "stdout",
       "text": [
        "\r",
        "Iteration 415"
       ]
      },
      {
       "output_type": "stream",
       "stream": "stdout",
       "text": [
        "\r",
        "Iteration 416"
       ]
      },
      {
       "output_type": "stream",
       "stream": "stdout",
       "text": [
        "\r",
        "Iteration 417"
       ]
      },
      {
       "output_type": "stream",
       "stream": "stdout",
       "text": [
        "\r",
        "Iteration 418"
       ]
      },
      {
       "output_type": "stream",
       "stream": "stdout",
       "text": [
        "\r",
        "Iteration 419"
       ]
      },
      {
       "output_type": "stream",
       "stream": "stdout",
       "text": [
        "\r",
        "Iteration 420"
       ]
      },
      {
       "output_type": "stream",
       "stream": "stdout",
       "text": [
        "\r",
        "Iteration 421"
       ]
      },
      {
       "output_type": "stream",
       "stream": "stdout",
       "text": [
        "\r",
        "Iteration 422"
       ]
      },
      {
       "output_type": "stream",
       "stream": "stdout",
       "text": [
        "\r",
        "Iteration 423"
       ]
      },
      {
       "output_type": "stream",
       "stream": "stdout",
       "text": [
        "\r",
        "Iteration 424"
       ]
      },
      {
       "output_type": "stream",
       "stream": "stdout",
       "text": [
        "\r",
        "Iteration 425"
       ]
      },
      {
       "output_type": "stream",
       "stream": "stdout",
       "text": [
        "\r",
        "Iteration 426"
       ]
      },
      {
       "output_type": "stream",
       "stream": "stdout",
       "text": [
        "\r",
        "Iteration 427"
       ]
      },
      {
       "output_type": "stream",
       "stream": "stdout",
       "text": [
        "\r",
        "Iteration 428"
       ]
      },
      {
       "output_type": "stream",
       "stream": "stdout",
       "text": [
        "\r",
        "Iteration 429"
       ]
      },
      {
       "output_type": "stream",
       "stream": "stdout",
       "text": [
        "\r",
        "Iteration 430"
       ]
      },
      {
       "output_type": "stream",
       "stream": "stdout",
       "text": [
        "\r",
        "Iteration 431"
       ]
      },
      {
       "output_type": "stream",
       "stream": "stdout",
       "text": [
        "\r",
        "Iteration 432"
       ]
      },
      {
       "output_type": "stream",
       "stream": "stdout",
       "text": [
        "\r",
        "Iteration 433"
       ]
      },
      {
       "output_type": "stream",
       "stream": "stdout",
       "text": [
        "\r",
        "Iteration 434"
       ]
      },
      {
       "output_type": "stream",
       "stream": "stdout",
       "text": [
        "\r",
        "Iteration 435"
       ]
      },
      {
       "output_type": "stream",
       "stream": "stdout",
       "text": [
        "\r",
        "Iteration 436"
       ]
      },
      {
       "output_type": "stream",
       "stream": "stdout",
       "text": [
        "\r",
        "Iteration 437"
       ]
      },
      {
       "output_type": "stream",
       "stream": "stdout",
       "text": [
        "\r",
        "Iteration 438"
       ]
      },
      {
       "output_type": "stream",
       "stream": "stdout",
       "text": [
        "\r",
        "Iteration 439"
       ]
      },
      {
       "output_type": "stream",
       "stream": "stdout",
       "text": [
        "\r",
        "Iteration 440"
       ]
      },
      {
       "output_type": "stream",
       "stream": "stdout",
       "text": [
        "\r",
        "Iteration 441"
       ]
      },
      {
       "output_type": "stream",
       "stream": "stdout",
       "text": [
        "\r",
        "Iteration 442"
       ]
      },
      {
       "output_type": "stream",
       "stream": "stdout",
       "text": [
        "\r",
        "Iteration 443"
       ]
      },
      {
       "output_type": "stream",
       "stream": "stdout",
       "text": [
        "\r",
        "Iteration 444"
       ]
      },
      {
       "output_type": "stream",
       "stream": "stdout",
       "text": [
        "\r",
        "Iteration 445"
       ]
      },
      {
       "output_type": "stream",
       "stream": "stdout",
       "text": [
        "\r",
        "Iteration 446"
       ]
      },
      {
       "output_type": "stream",
       "stream": "stdout",
       "text": [
        "\r",
        "Iteration 447"
       ]
      },
      {
       "output_type": "stream",
       "stream": "stdout",
       "text": [
        "\r",
        "Iteration 448"
       ]
      },
      {
       "output_type": "stream",
       "stream": "stdout",
       "text": [
        "\r",
        "Iteration 449"
       ]
      },
      {
       "output_type": "stream",
       "stream": "stdout",
       "text": [
        "\r",
        "Iteration 450"
       ]
      },
      {
       "output_type": "stream",
       "stream": "stdout",
       "text": [
        "\r",
        "Iteration 451"
       ]
      },
      {
       "output_type": "stream",
       "stream": "stdout",
       "text": [
        "\r",
        "Iteration 452"
       ]
      },
      {
       "output_type": "stream",
       "stream": "stdout",
       "text": [
        "\r",
        "Iteration 453"
       ]
      },
      {
       "output_type": "stream",
       "stream": "stdout",
       "text": [
        "\r",
        "Iteration 454"
       ]
      },
      {
       "output_type": "stream",
       "stream": "stdout",
       "text": [
        "\r",
        "Iteration 455"
       ]
      },
      {
       "output_type": "stream",
       "stream": "stdout",
       "text": [
        "\r",
        "Iteration 456"
       ]
      },
      {
       "output_type": "stream",
       "stream": "stdout",
       "text": [
        "\r",
        "Iteration 457"
       ]
      },
      {
       "output_type": "stream",
       "stream": "stdout",
       "text": [
        "\r",
        "Iteration 458"
       ]
      },
      {
       "output_type": "stream",
       "stream": "stdout",
       "text": [
        "\r",
        "Iteration 459"
       ]
      },
      {
       "output_type": "stream",
       "stream": "stdout",
       "text": [
        "\r",
        "Iteration 460"
       ]
      },
      {
       "output_type": "stream",
       "stream": "stdout",
       "text": [
        "\r",
        "Iteration 461"
       ]
      },
      {
       "output_type": "stream",
       "stream": "stdout",
       "text": [
        "\r",
        "Iteration 462"
       ]
      },
      {
       "output_type": "stream",
       "stream": "stdout",
       "text": [
        "\r",
        "Iteration 463"
       ]
      },
      {
       "output_type": "stream",
       "stream": "stdout",
       "text": [
        "\r",
        "Iteration 464"
       ]
      },
      {
       "output_type": "stream",
       "stream": "stdout",
       "text": [
        "\r",
        "Iteration 465"
       ]
      },
      {
       "output_type": "stream",
       "stream": "stdout",
       "text": [
        "\r",
        "Iteration 466"
       ]
      },
      {
       "output_type": "stream",
       "stream": "stdout",
       "text": [
        "\r",
        "Iteration 467"
       ]
      },
      {
       "output_type": "stream",
       "stream": "stdout",
       "text": [
        "\r",
        "Iteration 468"
       ]
      },
      {
       "output_type": "stream",
       "stream": "stdout",
       "text": [
        "\r",
        "Iteration 469"
       ]
      },
      {
       "output_type": "stream",
       "stream": "stdout",
       "text": [
        "\r",
        "Iteration 470"
       ]
      },
      {
       "output_type": "stream",
       "stream": "stdout",
       "text": [
        "\r",
        "Iteration 471"
       ]
      },
      {
       "output_type": "stream",
       "stream": "stdout",
       "text": [
        "\r",
        "Iteration 472"
       ]
      },
      {
       "output_type": "stream",
       "stream": "stdout",
       "text": [
        "\r",
        "Iteration 473"
       ]
      },
      {
       "output_type": "stream",
       "stream": "stdout",
       "text": [
        "\r",
        "Iteration 474"
       ]
      },
      {
       "output_type": "stream",
       "stream": "stdout",
       "text": [
        "\r",
        "Iteration 475"
       ]
      },
      {
       "output_type": "stream",
       "stream": "stdout",
       "text": [
        "\r",
        "Iteration 476"
       ]
      },
      {
       "output_type": "stream",
       "stream": "stdout",
       "text": [
        "\r",
        "Iteration 477"
       ]
      },
      {
       "output_type": "stream",
       "stream": "stdout",
       "text": [
        "\r",
        "Iteration 478"
       ]
      },
      {
       "output_type": "stream",
       "stream": "stdout",
       "text": [
        "\r",
        "Iteration 479"
       ]
      },
      {
       "output_type": "stream",
       "stream": "stdout",
       "text": [
        "\r",
        "Iteration 480"
       ]
      },
      {
       "output_type": "stream",
       "stream": "stdout",
       "text": [
        "\r",
        "Iteration 481"
       ]
      },
      {
       "output_type": "stream",
       "stream": "stdout",
       "text": [
        "\r",
        "Iteration 482"
       ]
      },
      {
       "output_type": "stream",
       "stream": "stdout",
       "text": [
        "\r",
        "Iteration 483"
       ]
      },
      {
       "output_type": "stream",
       "stream": "stdout",
       "text": [
        "\r",
        "Iteration 484"
       ]
      },
      {
       "output_type": "stream",
       "stream": "stdout",
       "text": [
        "\r",
        "Iteration 485"
       ]
      },
      {
       "output_type": "stream",
       "stream": "stdout",
       "text": [
        "\r",
        "Iteration 486"
       ]
      },
      {
       "output_type": "stream",
       "stream": "stdout",
       "text": [
        "\r",
        "Iteration 487"
       ]
      },
      {
       "output_type": "stream",
       "stream": "stdout",
       "text": [
        "\r",
        "Iteration 488"
       ]
      },
      {
       "output_type": "stream",
       "stream": "stdout",
       "text": [
        "\r",
        "Iteration 489"
       ]
      },
      {
       "output_type": "stream",
       "stream": "stdout",
       "text": [
        "\r",
        "Iteration 490"
       ]
      },
      {
       "output_type": "stream",
       "stream": "stdout",
       "text": [
        "\r",
        "Iteration 491"
       ]
      },
      {
       "output_type": "stream",
       "stream": "stdout",
       "text": [
        "\r",
        "Iteration 492"
       ]
      },
      {
       "output_type": "stream",
       "stream": "stdout",
       "text": [
        "\r",
        "Iteration 493"
       ]
      },
      {
       "output_type": "stream",
       "stream": "stdout",
       "text": [
        "\r",
        "Iteration 494"
       ]
      },
      {
       "output_type": "stream",
       "stream": "stdout",
       "text": [
        "\r",
        "Iteration 495"
       ]
      },
      {
       "output_type": "stream",
       "stream": "stdout",
       "text": [
        "\r",
        "Iteration 496"
       ]
      },
      {
       "output_type": "stream",
       "stream": "stdout",
       "text": [
        "\r",
        "Iteration 497"
       ]
      },
      {
       "output_type": "stream",
       "stream": "stdout",
       "text": [
        "\r",
        "Iteration 498"
       ]
      },
      {
       "output_type": "stream",
       "stream": "stdout",
       "text": [
        "\r",
        "Iteration 499"
       ]
      },
      {
       "output_type": "stream",
       "stream": "stdout",
       "text": [
        "\n"
       ]
      }
     ],
     "prompt_number": 29
    },
    {
     "cell_type": "code",
     "collapsed": false,
     "input": [
      "%matplotlib inline"
     ],
     "language": "python",
     "metadata": {},
     "outputs": [],
     "prompt_number": 5
    },
    {
     "cell_type": "code",
     "collapsed": false,
     "input": [
      "from vsm.viewer.ldagibbsviewer import LDAGibbsViewer\n",
      "\n",
      "lda_viewer = LDAGibbsViewer(corpus, lda_model)"
     ],
     "language": "python",
     "metadata": {},
     "outputs": [],
     "prompt_number": 30
    },
    {
     "cell_type": "heading",
     "level": 3,
     "metadata": {},
     "source": [
      "Listing topics"
     ]
    },
    {
     "cell_type": "code",
     "collapsed": false,
     "input": [
      "lda_viewer.topics(compact_view=False, print_len=6)"
     ],
     "language": "python",
     "metadata": {},
     "outputs": [
      {
       "html": [
        "<table><tr><th style=\"text-align: center; background: #A9D0F5;            fontsize: 14px;\" colspan=\"6\"> Topics Sorted by Index </th></tr><tr><th style=\"text-align: center; background: #CEE3F6;\"                 colspan=\"2\">Topic 0</th><th style=\"text-align: center; background: #CEE3F6;\"                 colspan=\"2\">Topic 1</th><th style=\"text-align: center; background: #CEE3F6;\"                 colspan=\"2\">Topic 2</th></tr><tr><th style=\"text-align: center; background: #EFF2FB;\">                        Word</th><th style=\"text-align: center; background: #EFF2FB;\">                        Prob</th><th style=\"text-align: center; background: #EFF2FB;\">                        Word</th><th style=\"text-align: center; background: #EFF2FB;\">                        Prob</th><th style=\"text-align: center; background: #EFF2FB;\">                        Word</th><th style=\"text-align: center; background: #EFF2FB;\">                        Prob</th></tr><tr><td>blame</td><td>0.16277</td><td>disapprove-of</td><td>0.14534</td><td>attack</td><td>0.08134</td></tr><tr><td>accuse</td><td>0.10093</td><td>reprimand</td><td>0.14080</td><td>lash-out-at</td><td>0.07872</td></tr><tr><td>denounce</td><td>0.09768</td><td>object-to</td><td>0.13626</td><td>chew-out</td><td>0.07872</td></tr><tr><td>revile</td><td>0.09768</td><td>point-the-finger</td><td>0.13626</td><td>tell-x-off</td><td>0.07872</td></tr><tr><td>reproach</td><td>0.09768</td><td>censure</td><td>0.13626</td><td>let-x-have-it</td><td>0.07872</td></tr><tr><td>chastise</td><td>0.09768</td><td>warn</td><td>0.02275</td><td>find-fault-with</td><td>0.07872</td></tr><tr><th style=\"text-align: center; background: #CEE3F6;\"                 colspan=\"2\">Topic 3</th><th style=\"text-align: center; background: #CEE3F6;\"                 colspan=\"2\">Topic 4</th><th style=\"border-color: #EFF2FB; background: #EFF2FB;\"                        colspan=\"2\">                                 </th></tr><tr><th style=\"text-align: center; background: #EFF2FB;\">                        Word</th><th style=\"text-align: center; background: #EFF2FB;\">                        Prob</th><th style=\"text-align: center; background: #EFF2FB;\">                        Word</th><th style=\"text-align: center; background: #EFF2FB;\">                        Prob</th><th style=\"border-color: #EFF2FB; background: #EFF2FB;\"                         colspan=\"2\">                                 </th></tr><tr><td>make</td><td>0.08263</td><td>castigate</td><td>0.12197</td><td style=\"border-color: #EFF2FB; background: #EFF2FB;\"                            colspan=\"2\">                                  </th></tr><tr><td>feel</td><td>0.05740</td><td>berate</td><td>0.12197</td><td style=\"border-color: #EFF2FB; background: #EFF2FB;\"                            colspan=\"2\">                                  </th></tr><tr><td>wanted</td><td>0.05443</td><td>rebuke</td><td>0.12197</td><td style=\"border-color: #EFF2FB; background: #EFF2FB;\"                            colspan=\"2\">                                  </th></tr><tr><td>know</td><td>0.04800</td><td>vilify</td><td>0.11804</td><td style=\"border-color: #EFF2FB; background: #EFF2FB;\"                            colspan=\"2\">                                  </th></tr><tr><td>bad</td><td>0.04404</td><td>chide</td><td>0.11804</td><td style=\"border-color: #EFF2FB; background: #EFF2FB;\"                            colspan=\"2\">                                  </th></tr><tr><td>let</td><td>0.02821</td><td>read-the-riot-act</td><td>0.11804</td><td style=\"border-color: #EFF2FB; background: #EFF2FB;\"                            colspan=\"2\">                                  </th></tr></table>"
       ],
       "metadata": {},
       "output_type": "pyout",
       "prompt_number": 31,
       "text": [
        "[LabeledColumn([('blame', 0.16277177450852884), ('accuse', 0.10093086837651429),\n",
        "        ('denounce', 0.09767608384325037), ('revile', 0.09767608384325037),\n",
        "        ('reproach', 0.09767608384325037),\n",
        "        ('chastise', 0.09767608384325037), ('fault', 0.026070824111444034),\n",
        "        ('responsible', 0.01630647051165226),\n",
        "        ('blamed', 0.01630647051165226), ('expected', 0.01630647051165226),\n",
        "        ('assign', 0.013051685978388336), ('yelled', 0.009796901445124412),\n",
        "        ('innocent', 0.009796901445124412), ('learn', 0.009796901445124412),\n",
        "        ('thought', 0.009796901445124412), ('next', 0.009796901445124412),\n",
        "        ('would', 0.009796901445124412), ('guilt', 0.009796901445124412),\n",
        "        ('level', 0.006542116911860487), ('meaning', 0.006542116911860487),\n",
        "        ('hate', 0.006542116911860487), ('really', 0.006542116911860487),\n",
        "        ('remove', 0.006542116911860487), ('showing', 0.006542116911860487),\n",
        "        ('truth', 0.006542116911860487), ('help', 0.006542116911860487),\n",
        "        ('good', 0.006542116911860487), ('happened', 0.006542116911860487),\n",
        "        ('decide', 0.006542116911860487), ('adult', 0.006542116911860487),\n",
        "        ('anything', 0.006542116911860487),\n",
        "        ('without', 0.006542116911860487),\n",
        "        ('attention', 0.006542116911860487),\n",
        "        ('blaming', 0.006542116911860487),\n",
        "        ('committed', 0.006542116911860487), ('want', 0.006542116911860487),\n",
        "        ('disgust', 0.006542116911860487),\n",
        "        ('validate', 0.006542116911860487), ('found', 0.006542116911860487),\n",
        "        ('situation', 0.006542116911860487),\n",
        "        ('lessen', 0.003287332378596563),\n",
        "        ('something', 0.003287332378596563),\n",
        "        ('point', 0.003287332378596563), ('cause', 0.003287332378596563),\n",
        "        ('less', 0.003287332378596563), ('removing', 0.003287332378596563),\n",
        "        ('responsibility', 0.003287332378596563),\n",
        "        ('humiliate', 0.003287332378596563),\n",
        "        ('frustration', 0.003287332378596563),\n",
        "        ('accept', 0.003287332378596563), ('towards', 0.003287332378596563),\n",
        "        ('superiority', 3.2547845332639274e-05),\n",
        "        ('pay', 3.2547845332639274e-05), ('child', 3.2547845332639274e-05),\n",
        "        ('point-the-finger', 3.2547845332639274e-05),\n",
        "        ('language', 3.2547845332639274e-05),\n",
        "        ('keep', 3.2547845332639274e-05),\n",
        "        ('attack', 3.2547845332639274e-05),\n",
        "        ('punishment', 3.2547845332639274e-05),\n",
        "        ('word', 3.2547845332639274e-05),\n",
        "        ('inferior', 3.2547845332639274e-05),\n",
        "        ('approvals', 3.2547845332639274e-05),\n",
        "        ('held', 3.2547845332639274e-05),\n",
        "        ('trying', 3.2547845332639274e-05),\n",
        "        ('reprimanded', 3.2547845332639274e-05),\n",
        "        ('teach', 3.2547845332639274e-05),\n",
        "        ('reputation', 3.2547845332639274e-05),\n",
        "        ('beat', 3.2547845332639274e-05), ('ones', 3.2547845332639274e-05),\n",
        "        ('correct', 3.2547845332639274e-05),\n",
        "        ('behave', 3.2547845332639274e-05),\n",
        "        ('matter', 3.2547845332639274e-05),\n",
        "        ('maybe', 3.2547845332639274e-05), ('mean', 3.2547845332639274e-05),\n",
        "        ('effective', 3.2547845332639274e-05),\n",
        "        ('lonely', 3.2547845332639274e-05),\n",
        "        ('mistake', 3.2547845332639274e-05),\n",
        "        ('mistakes', 3.2547845332639274e-05),\n",
        "        ('money', 3.2547845332639274e-05),\n",
        "        ('likely', 3.2547845332639274e-05),\n",
        "        ('must', 3.2547845332639274e-05), ('life', 3.2547845332639274e-05),\n",
        "        ('viscous', 3.2547845332639274e-05),\n",
        "        ('yell', 3.2547845332639274e-05), ('nice', 3.2547845332639274e-05),\n",
        "        ('nowhere', 3.2547845332639274e-05),\n",
        "        ('revenge', 3.2547845332639274e-05),\n",
        "        ('suffer', 3.2547845332639274e-05),\n",
        "        ('vilify', 3.2547845332639274e-05),\n",
        "        ('alone', 3.2547845332639274e-05),\n",
        "        ('disagreed', 3.2547845332639274e-05),\n",
        "        ('disappointed', 3.2547845332639274e-05),\n",
        "        ('shake', 3.2547845332639274e-05),\n",
        "        ('disapprove-of', 3.2547845332639274e-05),\n",
        "        ('expressing', 3.2547845332639274e-05),\n",
        "        ('serious', 3.2547845332639274e-05),\n",
        "        ('decision', 3.2547845332639274e-05),\n",
        "        ('discourage', 3.2547845332639274e-05),\n",
        "        ('speak', 3.2547845332639274e-05),\n",
        "        ('spending', 3.2547845332639274e-05),\n",
        "        ('spend', 3.2547845332639274e-05), ('say', 3.2547845332639274e-05),\n",
        "        ('cut', 3.2547845332639274e-05),\n",
        "        ('acceptable', 3.2547845332639274e-05),\n",
        "        ('getting', 3.2547845332639274e-05),\n",
        "        ('satisfy', 3.2547845332639274e-05),\n",
        "        ('side', 3.2547845332639274e-05), ('listen', 3.254784533263925e-05),\n",
        "        ('censure', 3.254784533263925e-05),\n",
        "        ('discipline', 3.254784533263925e-05),\n",
        "        ('encourage', 3.254784533263925e-05),\n",
        "        ('displeased', 3.254784533263925e-05),\n",
        "        ('chide', 3.254784533263925e-05), ('lot', 3.254784533263925e-05),\n",
        "        ('let-x-have-it', 3.254784533263925e-05),\n",
        "        ('chew-out', 3.254784533263925e-05),\n",
        "        ('emotionally', 3.254784533263925e-05),\n",
        "        ('disappointment', 3.254784533263925e-05),\n",
        "        ('error', 3.254784533263925e-05), ('lesson', 3.254784533263925e-05),\n",
        "        ('loudly', 3.254784533263925e-05),\n",
        "        ('distaste', 3.254784533263925e-05),\n",
        "        ('turn', 3.254784533263925e-05), ('told', 3.254784533263925e-05),\n",
        "        ('detail', 3.254784533263925e-05), ('tsk', 3.254784533263925e-05),\n",
        "        ('harm', 3.254784533263925e-05), ('going', 3.254784533263925e-05),\n",
        "        ('hear', 3.254784533263925e-05), ('heard', 3.254784533263925e-05),\n",
        "        ('castigated', 3.254784533263925e-05),\n",
        "        ('hoping', 3.254784533263925e-05),\n",
        "        ('trouble', 3.254784533263925e-05),\n",
        "        ('important', 3.254784533263925e-05),\n",
        "        ('villain', 3.254784533263925e-05),\n",
        "        ('tried', 3.254784533263925e-05),\n",
        "        ('instructing', 3.254784533263925e-05),\n",
        "        ('insult', 3.254784533263925e-05),\n",
        "        ('condemn', 3.254784533263925e-05), ('fun', 3.254784533263925e-05),\n",
        "        ('front', 3.254784533263925e-05), ('knew', 3.254784533263925e-05),\n",
        "        ('used', 3.254784533263925e-05),\n",
        "        ('communication', 3.254784533263925e-05),\n",
        "        ('violence', 3.254784533263925e-05),\n",
        "        ('guide', 3.254784533263925e-05), ('finger', 3.254784533263925e-05),\n",
        "        ('deserved', 3.254784533263925e-05), ('mad', 3.254784533263925e-05),\n",
        "        ('warn', 3.254784533263925e-05),\n",
        "        ('castigate', 3.254784533263925e-05),\n",
        "        ('read-the-riot-act', 3.254784533263925e-05),\n",
        "        ('rebuke', 3.254784533263925e-05),\n",
        "        ('reduced', 3.254784533263925e-05),\n",
        "        ('refuse', 3.254784533263925e-05),\n",
        "        ('remind', 3.254784533263925e-05),\n",
        "        ('tell-x-off', 3.254784533263925e-05),\n",
        "        ('words', 3.254784533263925e-05),\n",
        "        ('repeated', 3.254784533263925e-05),\n",
        "        ('taught', 3.254784533263925e-05),\n",
        "        ('talking', 3.254784533263925e-05),\n",
        "        ('talked', 3.254784533263925e-05), ('ruin', 3.254784533263925e-05),\n",
        "        ('sad', 3.254784533263925e-05), ('angry', 3.254784533263925e-05),\n",
        "        ('sense', 3.254784533263925e-05),\n",
        "        ('seriously', 3.254784533263925e-05),\n",
        "        ('setting', 3.254784533263925e-05),\n",
        "        ('worthless', 3.254784533263925e-05),\n",
        "        ('admonish', 3.254784533263925e-05),\n",
        "        ('silence', 3.254784533263925e-05),\n",
        "        ('skills', 3.254784533263925e-05),\n",
        "        ('slander', 3.254784533263925e-05),\n",
        "        ('small', 3.254784533263925e-05),\n",
        "        ('straight', 3.254784533263925e-05),\n",
        "        ('stress', 3.254784533263925e-05),\n",
        "        ('stupid', 3.254784533263925e-05),\n",
        "        ('around', 3.254784533263925e-05),\n",
        "        ('reprimand', 3.254784533263925e-05),\n",
        "        ('physically', 3.254784533263925e-05),\n",
        "        ('berate', 3.254784533263925e-05),\n",
        "        ('object-to', 3.254784533263925e-05),\n",
        "        ('became', 3.254784533263925e-05), ('name', 3.254784533263925e-05),\n",
        "        ('badly', 3.254784533263925e-05), ('things', 3.254784533263925e-05),\n",
        "        ('warning', 3.254784533263925e-05),\n",
        "        ('public', 3.254784533263925e-05),\n",
        "        ('negative', 3.254784533263925e-05),\n",
        "        ('broken', 3.254784533263925e-05), ('call', 3.254784533263925e-05),\n",
        "        ('opinion', 3.254784533263925e-05),\n",
        "        ('direct', 3.254784533263855e-05),\n",
        "        ('actions', 3.254784533263855e-05),\n",
        "        ('admit', 3.254784533263855e-05), ('better', 3.254784533263855e-05),\n",
        "        ('disapproval', 3.254784533263855e-05),\n",
        "        ('destroy', 3.254784533263855e-05),\n",
        "        ('ashamed', 3.254784533263855e-05),\n",
        "        ('change', 3.254784533263855e-05),\n",
        "        ('disapproved', 3.254784533263855e-05),\n",
        "        ('action', 3.254784533263855e-05), ('act', 3.254784533263855e-05),\n",
        "        ('verbally', 3.254784533263855e-05),\n",
        "        ('accused', 3.254784533263855e-05),\n",
        "        ('distance', 3.254784533263855e-05),\n",
        "        ('accountable', 3.254784533263855e-05),\n",
        "        ('boss', 3.254784533263855e-05), ('done', 3.254784533263855e-05),\n",
        "        ('character', 3.254784533263855e-05),\n",
        "        ('behavior', 3.254784533263855e-05),\n",
        "        ('afraid', 3.254784533263855e-05),\n",
        "        ('belittle', 3.254784533263855e-05),\n",
        "        ('attacked', 3.254784533263855e-05), ('way', 3.254784533263855e-05),\n",
        "        ('consequences', 3.254784533263855e-05),\n",
        "        ('completely', 3.254784533263855e-05),\n",
        "        ('appropriate', 3.254784533263855e-05),\n",
        "        ('contempt', 3.254784533263855e-05),\n",
        "        ('compass', 3.254784533263855e-05),\n",
        "        ('aware', 3.254784533263855e-05), ('away', 3.254784533263855e-05),\n",
        "        ('cast', 3.254784533263855e-05), ('control', 3.254784533263855e-05),\n",
        "        ('anymore', 3.254784533263855e-05),\n",
        "        ('could', 3.254784533263855e-05),\n",
        "        ('criminal', 3.254784533263855e-05),\n",
        "        ('criticize', 3.254784533263855e-05),\n",
        "        ('anger', 3.254784533263855e-05), ('align', 3.254784533263855e-05),\n",
        "        ('agree', 3.254784533263855e-05),\n",
        "        ('approve', 3.254784533263855e-05),\n",
        "        ('educate', 3.254784533263855e-05), ('try', 3.254784533263855e-05),\n",
        "        ('embarrass', 3.254784533263855e-05),\n",
        "        ('others', 3.254784533263855e-05), ('put', 3.254784533263855e-05),\n",
        "        ('punished', 3.254784533263855e-05),\n",
        "        ('punish', 3.254784533263855e-05),\n",
        "        ('publicly', 3.254784533263855e-05),\n",
        "        ('poorly', 3.254784533263855e-05), ('thing', 3.254784533263855e-05),\n",
        "        ('place', 3.254784533263855e-05), ('person', 3.254784533263855e-05),\n",
        "        ('one', 3.254784533263855e-05), ('making', 3.254784533263855e-05),\n",
        "        ('never', 3.254784533263855e-05), ('needed', 3.254784533263855e-05),\n",
        "        ('morally', 3.254784533263855e-05),\n",
        "        ('moral', 3.254784533263855e-05), ('mind', 3.254784533263855e-05),\n",
        "        ('messed', 3.254784533263855e-05), ('means', 3.254784533263855e-05),\n",
        "        ('think', 3.254784533263855e-05), ('rage', 3.254784533263855e-05),\n",
        "        ('realize', 3.254784533263855e-05),\n",
        "        ('telling', 3.254784533263855e-05),\n",
        "        ('redirect', 3.254784533263855e-05),\n",
        "        ('submission', 3.254784533263855e-05),\n",
        "        ('stop', 3.254784533263855e-05), ('spent', 3.254784533263855e-05),\n",
        "        ('sorry', 3.254784533263855e-05), ('sure', 3.254784533263855e-05),\n",
        "        ('take', 3.254784533263855e-05), ('talk', 3.254784533263855e-05),\n",
        "        ('showed', 3.254784533263855e-05), ('shame', 3.254784533263855e-05),\n",
        "        ('screamed', 3.254784533263855e-05),\n",
        "        ('scolded', 3.254784533263855e-05),\n",
        "        ('scold', 3.254784533263855e-05), ('scare', 3.254784533263855e-05),\n",
        "        ('said', 3.254784533263855e-05), ('right', 3.254784533263855e-05),\n",
        "        ('tell', 3.254784533263855e-05), ('relieve', 3.254784533263855e-05),\n",
        "        ('enough', 3.254784533263855e-05),\n",
        "        ('manner', 3.254784533263855e-05), ('give', 3.254784533263855e-05),\n",
        "        ('made', 3.254784533263855e-05), ('future', 3.254784533263855e-05),\n",
        "        ('upset', 3.254784533263855e-05), ('follow', 3.254784533263855e-05),\n",
        "        ('find-fault-with', 3.254784533263855e-05),\n",
        "        ('find', 3.254784533263855e-05), ('felt', 3.254784533263855e-05),\n",
        "        ('feelings', 3.254784533263855e-05),\n",
        "        ('feeling', 3.254784533263855e-05), ('feel', 3.254784533263855e-05),\n",
        "        ('feedback', 3.254784533263855e-05),\n",
        "        ('values', 3.254784533263855e-05), ('eyes', 3.254784533263855e-05),\n",
        "        ('expressed', 3.254784533263855e-05),\n",
        "        ('express', 3.254784533263855e-05), ('vent', 3.254784533263855e-05),\n",
        "        ('evil', 3.254784533263855e-05),\n",
        "        ('everything', 3.254784533263855e-05),\n",
        "        ('even', 3.254784533263855e-05), ('errors', 3.254784533263855e-05),\n",
        "        ('get', 3.254784533263855e-05), ('letting', 3.254784533263855e-05),\n",
        "        ('goal', 3.254784533263855e-05), ('known', 3.254784533263855e-05),\n",
        "        ('loud', 3.254784533263855e-05), ('look', 3.254784533263855e-05),\n",
        "        ('like', 3.254784533263855e-05), ('thinks', 3.254784533263855e-05),\n",
        "        ('time', 3.254784533263855e-05),\n",
        "        ('understand', 3.254784533263855e-05),\n",
        "        ('lay', 3.254784533263855e-05), ('legal', 3.254784533263855e-05),\n",
        "        ('judge', 3.254784533263855e-05), ('hurt', 3.254784533263855e-05),\n",
        "        ('hopes', 3.254784533263855e-05), ('happy', 3.254784533263855e-05),\n",
        "        ('guilty', 3.254784533263855e-05),\n",
        "        ('lash-out-at', 3.254784533263277e-05),\n",
        "        ('know', 3.254784533263277e-05), ('show', 3.254784533263277e-05),\n",
        "        ('bad', 3.254784533263277e-05), ('let', 3.254784533263277e-05),\n",
        "        ('wants', 3.254784533263277e-05), ('wrong', 3.254784533263277e-05),\n",
        "        ('wanted', 3.254784533263277e-05), ('make', 3.254784533263277e-05)], \n",
        "       dtype=[('word', 'S17'), ('value', '<f8')]),\n",
        " LabeledColumn([('disapprove-of', 0.14534144569560514),\n",
        "        ('reprimand', 0.1408009444242648),\n",
        "        ('object-to', 0.13626044315292443),\n",
        "        ('point-the-finger', 0.13626044315292443),\n",
        "        ('censure', 0.13626044315292443), ('warn', 0.02274791136941524),\n",
        "        ('warning', 0.01820741009807487), ('spend', 0.01820741009807487),\n",
        "        ('moral', 0.01820741009807487), ('less', 0.01820741009807487),\n",
        "        ('action', 0.013666908826734506), ('finger', 0.013666908826734506),\n",
        "        ('wants', 0.013666908826734497),\n",
        "        ('disagreed', 0.009126407555394138),\n",
        "        ('maybe', 0.009126407555394138), ('taught', 0.009126407555394138),\n",
        "        ('hoping', 0.009126407555394138), ('getting', 0.009126407555394138),\n",
        "        ('point', 0.009126407555394138), ('trouble', 0.009126407555394138),\n",
        "        ('must', 0.009126407555394138), ('tried', 0.009126407555394138),\n",
        "        ('redirect', 0.009126407555394138),\n",
        "        ('removing', 0.009126407555394138), ('shake', 0.009126407555394138),\n",
        "        ('accused', 0.009126407555394138),\n",
        "        ('publicly', 0.00458590628405377), ('sure', 0.00458590628405377),\n",
        "        ('refuse', 0.00458590628405377), ('language', 0.00458590628405377),\n",
        "        ('accept', 0.00458590628405377), ('serious', 0.00458590628405377),\n",
        "        ('disappointed', 0.00458590628405377),\n",
        "        ('done', 0.004585906284053762), ('mind', 4.540501271340372e-05),\n",
        "        ('morally', 4.540501271340372e-05),\n",
        "        ('destroy', 4.540501271340372e-05),\n",
        "        ('negative', 4.540501271340372e-05),\n",
        "        ('deserved', 4.540501271340372e-05),\n",
        "        ('never', 4.540501271340372e-05),\n",
        "        ('criminal', 4.540501271340372e-05), ('pay', 4.540501271340372e-05),\n",
        "        ('control', 4.540501271340372e-05), ('eyes', 4.540501271340372e-05),\n",
        "        ('badly', 4.540501271340372e-05), ('really', 4.540501271340372e-05),\n",
        "        ('bad', 4.540501271340372e-05), ('ashamed', 4.540501271340372e-05),\n",
        "        ('around', 4.540501271340372e-05), ('angry', 4.540501271340372e-05),\n",
        "        ('reputation', 4.540501271340372e-05),\n",
        "        ('scare', 4.540501271340372e-05),\n",
        "        ('admonish', 4.540501271340372e-05),\n",
        "        ('character', 4.540501271340372e-05),\n",
        "        ('mean', 4.540501271340372e-05), ('front', 4.540501271340372e-05),\n",
        "        ('distaste', 4.540501271340372e-05),\n",
        "        ('expressing', 4.540501271340372e-05),\n",
        "        ('going', 4.540501271340372e-05), ('good', 4.540501271340372e-05),\n",
        "        ('seriously', 4.540501271340372e-05),\n",
        "        ('help', 4.540501271340372e-05), ('evil', 4.540501271340372e-05),\n",
        "        ('humiliate', 4.540501271340372e-05),\n",
        "        ('hurt', 4.540501271340372e-05),\n",
        "        ('important', 4.540501271340372e-05),\n",
        "        ('even', 4.540501271340372e-05),\n",
        "        ('effective', 4.540501271340372e-05),\n",
        "        ('learn', 4.540501271340372e-05),\n",
        "        ('educate', 4.540501271340372e-05),\n",
        "        ('lessen', 4.540501271340372e-05), ('yell', 4.540501271340372e-05),\n",
        "        ('likely', 4.540501271340372e-05),\n",
        "        ('manner', 4.540501271340372e-05),\n",
        "        ('happened', 4.540501271340372e-05),\n",
        "        ('yelled', 4.540501271340372e-05),\n",
        "        ('setting', 4.540501271340372e-05),\n",
        "        ('verbally', 4.540501271340372e-05),\n",
        "        ('submission', 4.540501271340372e-05),\n",
        "        ('sorry', 4.540501271340372e-05), ('skills', 4.540501271340372e-05),\n",
        "        ('think', 4.540501271340372e-05), ('turn', 4.540501271340372e-05),\n",
        "        ('used', 4.540501271340372e-05), ('side', 4.540501271340372e-05),\n",
        "        ('straight', 4.540501271340372e-05),\n",
        "        ('berate', 4.540501271340368e-05),\n",
        "        ('lonely', 4.540501271340368e-05), ('hate', 4.540501271340368e-05),\n",
        "        ('hear', 4.540501271340368e-05), ('hopes', 4.540501271340368e-05),\n",
        "        ('telling', 4.540501271340368e-05),\n",
        "        ('tell-x-off', 4.540501271340368e-05),\n",
        "        ('insult', 4.540501271340368e-05),\n",
        "        ('lash-out-at', 4.540501271340368e-05),\n",
        "        ('lay', 4.540501271340368e-05), ('talked', 4.540501271340368e-05),\n",
        "        ('let-x-have-it', 4.540501271340368e-05),\n",
        "        ('loud', 4.540501271340368e-05), ('harm', 4.540501271340368e-05),\n",
        "        ('afraid', 4.540501271340368e-05),\n",
        "        ('loudly', 4.540501271340368e-05), ('mad', 4.540501271340368e-05),\n",
        "        ('making', 4.540501271340368e-05),\n",
        "        ('suffer', 4.540501271340368e-05),\n",
        "        ('worthless', 4.540501271340368e-05),\n",
        "        ('stupid', 4.540501271340368e-05),\n",
        "        ('meaning', 4.540501271340368e-05),\n",
        "        ('messed', 4.540501271340368e-05),\n",
        "        ('stress', 4.540501271340368e-05), ('words', 4.540501271340368e-05),\n",
        "        ('attack', 4.540501271340368e-05), ('boss', 4.540501271340368e-05),\n",
        "        ('vilify', 4.540501271340368e-05),\n",
        "        ('castigated', 4.540501271340368e-05),\n",
        "        ('chastise', 4.540501271340368e-05),\n",
        "        ('chew-out', 4.540501271340368e-05),\n",
        "        ('chide', 4.540501271340368e-05),\n",
        "        ('condemn', 4.540501271340368e-05),\n",
        "        ('contempt', 4.540501271340368e-05),\n",
        "        ('violence', 4.540501271340368e-05),\n",
        "        ('villain', 4.540501271340368e-05), ('cut', 4.540501271340368e-05),\n",
        "        ('denounce', 4.540501271340368e-05),\n",
        "        ('behave', 4.540501271340368e-05),\n",
        "        ('find-fault-with', 4.540501271340368e-05),\n",
        "        ('disgust', 4.540501271340368e-05),\n",
        "        ('became', 4.540501271340368e-05),\n",
        "        ('displeased', 4.540501271340368e-05),\n",
        "        ('beat', 4.540501271340368e-05), ('upset', 4.540501271340368e-05),\n",
        "        ('attacked', 4.540501271340368e-05),\n",
        "        ('mistakes', 4.540501271340368e-05),\n",
        "        ('truth', 4.540501271340368e-05),\n",
        "        ('feedback', 4.540501271340368e-05),\n",
        "        ('feeling', 4.540501271340368e-05),\n",
        "        ('emotionally', 4.540501271340368e-05),\n",
        "        ('goal', 4.540501271340368e-05), ('public', 4.540501271340368e-05),\n",
        "        ('poorly', 4.540501271340368e-05),\n",
        "        ('read-the-riot-act', 4.540501271340368e-05),\n",
        "        ('physically', 4.540501271340368e-05),\n",
        "        ('remove', 4.540501271340368e-05), ('nice', 4.540501271340368e-05),\n",
        "        ('said', 4.540501271340368e-05),\n",
        "        ('screamed', 4.540501271340368e-05),\n",
        "        ('spending', 4.540501271340368e-05),\n",
        "        ('reproach', 4.540501271340368e-05),\n",
        "        ('name', 4.540501271340368e-05), ('slander', 4.540501271340368e-05),\n",
        "        ('revile', 4.540501271340368e-05),\n",
        "        ('rebuke', 4.540501271340368e-05), ('ruin', 4.540501271340368e-05),\n",
        "        ('consequences', 4.540501271340271e-05),\n",
        "        ('compass', 4.540501271340271e-05), ('show', 4.540501271340271e-05),\n",
        "        ('completely', 4.540501271340271e-05),\n",
        "        ('child', 4.540501271340271e-05),\n",
        "        ('communication', 4.540501271340271e-05),\n",
        "        ('committed', 4.540501271340271e-05),\n",
        "        ('correct', 4.540501271340271e-05),\n",
        "        ('responsibility', 4.540501271340271e-05),\n",
        "        ('responsible', 4.540501271340271e-05),\n",
        "        ('revenge', 4.540501271340271e-05),\n",
        "        ('viscous', 4.540501271340271e-05),\n",
        "        ('change', 4.540501271340271e-05),\n",
        "        ('reprimanded', 4.540501271340271e-05),\n",
        "        ('money', 4.540501271340271e-05), ('could', 4.540501271340271e-05),\n",
        "        ('disappointment', 4.540501271340271e-05),\n",
        "        ('silence', 4.540501271340271e-05),\n",
        "        ('distance', 4.540501271340271e-05),\n",
        "        ('reduced', 4.540501271340271e-05),\n",
        "        ('relieve', 4.540501271340271e-05),\n",
        "        ('discourage', 4.540501271340271e-05),\n",
        "        ('discipline', 4.540501271340271e-05),\n",
        "        ('disapproved', 4.540501271340271e-05),\n",
        "        ('validate', 4.540501271340271e-05),\n",
        "        ('values', 4.540501271340271e-05),\n",
        "        ('showed', 4.540501271340271e-05), ('vent', 4.540501271340271e-05),\n",
        "        ('direct', 4.540501271340271e-05),\n",
        "        ('detail', 4.540501271340271e-05),\n",
        "        ('remind', 4.540501271340271e-05),\n",
        "        ('showing', 4.540501271340271e-05),\n",
        "        ('decision', 4.540501271340271e-05),\n",
        "        ('repeated', 4.540501271340271e-05),\n",
        "        ('criticize', 4.540501271340271e-05),\n",
        "        ('decide', 4.540501271340271e-05),\n",
        "        ('castigate', 4.540501271340271e-05),\n",
        "        ('want', 4.540501271340271e-05), ('alone', 4.540501271340271e-05),\n",
        "        ('word', 4.540501271340271e-05), ('approve', 4.540501271340271e-05),\n",
        "        ('approvals', 4.540501271340271e-05),\n",
        "        ('appropriate', 4.540501271340271e-05),\n",
        "        ('anything', 4.540501271340271e-05),\n",
        "        ('anymore', 4.540501271340271e-05),\n",
        "        ('scold', 4.540501271340271e-05), ('anger', 4.540501271340271e-05),\n",
        "        ('align', 4.540501271340271e-05), ('cause', 4.540501271340271e-05),\n",
        "        ('agree', 4.540501271340271e-05),\n",
        "        ('scolded', 4.540501271340271e-05),\n",
        "        ('adult', 4.540501271340271e-05), ('admit', 4.540501271340271e-05),\n",
        "        ('act', 4.540501271340271e-05), ('accuse', 4.540501271340271e-05),\n",
        "        ('accountable', 4.540501271340271e-05),\n",
        "        ('acceptable', 4.540501271340271e-05),\n",
        "        ('without', 4.540501271340271e-05),\n",
        "        ('assign', 4.540501271340271e-05), ('shame', 4.540501271340271e-05),\n",
        "        ('say', 4.540501271340271e-05),\n",
        "        ('situation', 4.540501271340271e-05),\n",
        "        ('cast', 4.540501271340271e-05), ('call', 4.540501271340271e-05),\n",
        "        ('broken', 4.540501271340271e-05), ('right', 4.540501271340271e-05),\n",
        "        ('blaming', 4.540501271340271e-05),\n",
        "        ('blamed', 4.540501271340271e-05), ('blame', 4.540501271340271e-05),\n",
        "        ('better', 4.540501271340271e-05),\n",
        "        ('belittle', 4.540501271340271e-05), ('sad', 4.540501271340271e-05),\n",
        "        ('satisfy', 4.540501271340271e-05),\n",
        "        ('wanted', 4.540501271340271e-05), ('way', 4.540501271340271e-05),\n",
        "        ('away', 4.540501271340271e-05), ('aware', 4.540501271340271e-05),\n",
        "        ('attention', 4.540501271340271e-05),\n",
        "        ('understand', 4.540501271340271e-05),\n",
        "        ('realize', 4.540501271340271e-05),\n",
        "        ('embarrass', 4.540501271340271e-05),\n",
        "        ('known', 4.540501271340271e-05), ('lesson', 4.540501271340271e-05),\n",
        "        ('talk', 4.540501271340271e-05), ('others', 4.540501271340271e-05),\n",
        "        ('legal', 4.540501271340271e-05),\n",
        "        ('talking', 4.540501271340271e-05),\n",
        "        ('something', 4.540501271340271e-05),\n",
        "        ('person', 4.540501271340271e-05), ('teach', 4.540501271340271e-05),\n",
        "        ('knew', 4.540501271340271e-05), ('held', 4.540501271340271e-05),\n",
        "        ('keep', 4.540501271340271e-05), ('judge', 4.540501271340271e-05),\n",
        "        ('instructing', 4.540501271340271e-05),\n",
        "        ('innocent', 4.540501271340271e-05),\n",
        "        ('inferior', 4.540501271340271e-05),\n",
        "        ('tell', 4.540501271340271e-05), ('place', 4.540501271340271e-05),\n",
        "        ('mistake', 4.540501271340271e-05), ('let', 4.540501271340271e-05),\n",
        "        ('opinion', 4.540501271340271e-05), ('take', 4.540501271340271e-05),\n",
        "        ('level', 4.540501271340271e-05), ('stop', 4.540501271340271e-05),\n",
        "        ('spent', 4.540501271340271e-05), ('means', 4.540501271340271e-05),\n",
        "        ('needed', 4.540501271340271e-05),\n",
        "        ('matter', 4.540501271340271e-05), ('speak', 4.540501271340271e-05),\n",
        "        ('next', 4.540501271340271e-05), ('make', 4.540501271340271e-05),\n",
        "        ('made', 4.540501271340271e-05), ('nowhere', 4.540501271340271e-05),\n",
        "        ('one', 4.540501271340271e-05), ('lot', 4.540501271340271e-05),\n",
        "        ('look', 4.540501271340271e-05), ('ones', 4.540501271340271e-05),\n",
        "        ('listen', 4.540501271340271e-05),\n",
        "        ('superiority', 4.540501271340271e-05),\n",
        "        ('life', 4.540501271340271e-05), ('things', 4.540501271340271e-05),\n",
        "        ('small', 4.540501271340271e-05), ('heard', 4.540501271340271e-05),\n",
        "        ('follow', 4.540501271340271e-05),\n",
        "        ('punishment', 4.540501271340271e-05),\n",
        "        ('felt', 4.540501271340271e-05),\n",
        "        ('feelings', 4.540501271340271e-05), ('put', 4.540501271340271e-05),\n",
        "        ('rage', 4.540501271340271e-05), ('fault', 4.540501271340271e-05),\n",
        "        ('try', 4.540501271340271e-05),\n",
        "        ('expressed', 4.540501271340271e-05),\n",
        "        ('express', 4.540501271340271e-05),\n",
        "        ('expected', 4.540501271340271e-05),\n",
        "        ('trying', 4.540501271340271e-05),\n",
        "        ('everything', 4.540501271340271e-05),\n",
        "        ('tsk', 4.540501271340271e-05), ('errors', 4.540501271340271e-05),\n",
        "        ('error', 4.540501271340271e-05), ('enough', 4.540501271340271e-05),\n",
        "        ('encourage', 4.540501271340271e-05),\n",
        "        ('towards', 4.540501271340271e-05), ('find', 4.540501271340271e-05),\n",
        "        ('found', 4.540501271340271e-05), ('told', 4.540501271340271e-05),\n",
        "        ('punish', 4.540501271340271e-05), ('happy', 4.540501271340271e-05),\n",
        "        ('punished', 4.540501271340271e-05),\n",
        "        ('guilty', 4.540501271340271e-05), ('guilt', 4.540501271340271e-05),\n",
        "        ('guide', 4.540501271340271e-05), ('thinks', 4.540501271340271e-05),\n",
        "        ('thought', 4.540501271340271e-05),\n",
        "        ('sense', 4.540501271340271e-05),\n",
        "        ('letting', 4.540501271340271e-05), ('give', 4.540501271340271e-05),\n",
        "        ('time', 4.540501271340271e-05), ('future', 4.540501271340271e-05),\n",
        "        ('fun', 4.540501271340271e-05),\n",
        "        ('frustration', 4.540501271340271e-05),\n",
        "        ('behavior', 4.5405012713394644e-05),\n",
        "        ('get', 4.5405012713394644e-05), ('like', 4.5405012713394644e-05),\n",
        "        ('actions', 4.5405012713394644e-05),\n",
        "        ('would', 4.5405012713394644e-05),\n",
        "        ('wrong', 4.5405012713394644e-05),\n",
        "        ('thing', 4.5405012713394644e-05),\n",
        "        ('disapproval', 4.5405012713394644e-05),\n",
        "        ('know', 4.540501271336238e-05), ('feel', 4.540501271336238e-05)], \n",
        "       dtype=[('word', 'S17'), ('value', '<f8')]),\n",
        " LabeledColumn([('attack', 0.08133983842199172),\n",
        "        ('lash-out-at', 0.07871681880180495),\n",
        "        ('chew-out', 0.07871681880180495),\n",
        "        ('tell-x-off', 0.07871681880180495),\n",
        "        ('let-x-have-it', 0.07871681880180495),\n",
        "        ('find-fault-with', 0.07871681880180495),\n",
        "        ('anger', 0.05773266184031079), ('hurt', 0.031502465638443104),\n",
        "        ('angry', 0.031502465638443104), ('relieve', 0.02887944601825633),\n",
        "        ('yelled', 0.02887944601825633), ('verbally', 0.023633406777882792),\n",
        "        ('frustration', 0.021010387157696025),\n",
        "        ('situation', 0.018387367537509254),\n",
        "        ('expressing', 0.015764347917322483),\n",
        "        ('loudly', 0.015764347917322483), ('scare', 0.013141328297135714),\n",
        "        ('physically', 0.010518308676948945),\n",
        "        ('screamed', 0.007895289056762176),\n",
        "        ('violence', 0.007895289056762176), ('harm', 0.007895289056762176),\n",
        "        ('emotionally', 0.007895289056762176),\n",
        "        ('mad', 0.007895289056762176), ('rage', 0.007895289056762176),\n",
        "        ('manner', 0.007895289056762176), ('beat', 0.0052722694365754065),\n",
        "        ('became', 0.0052722694365754065),\n",
        "        ('communication', 0.0052722694365754065),\n",
        "        ('action', 0.0052722694365754065), ('like', 0.0052722694365754065),\n",
        "        ('messed', 0.0052722694365754065),\n",
        "        ('things', 0.0052722694365754065),\n",
        "        ('blamed', 0.0052722694365754065),\n",
        "        ('suffer', 0.0052722694365754065),\n",
        "        ('stress', 0.0052722694365754065), ('yell', 0.0052722694365754065),\n",
        "        ('skills', 0.0052722694365754065), ('loud', 0.0052722694365754065),\n",
        "        ('lot', 0.0052722694365754065), ('inferior', 0.0052722694365754065),\n",
        "        ('viscous', 0.0052722694365754065),\n",
        "        ('afraid', 0.0052722694365754065),\n",
        "        ('effective', 0.0052722694365754065),\n",
        "        ('understand', 0.0052722694365754065),\n",
        "        ('detail', 0.0052722694365754065),\n",
        "        ('worthless', 0.0052722694365754065),\n",
        "        ('nowhere', 0.0052722694365754065), ('name', 0.0052722694365754065),\n",
        "        ('front', 0.0052722694365754065), ('broken', 0.0052722694365754065),\n",
        "        ('talking', 0.002649249816388637),\n",
        "        ('character', 0.002649249816388637), ('mean', 0.002649249816388637),\n",
        "        ('goal', 0.0026492498163886366),\n",
        "        ('responsibility', 0.0026492498163886366),\n",
        "        ('cut', 0.0026492498163886366), ('guilt', 0.0026492498163886366),\n",
        "        ('likely', 0.0026492498163886366), ('hopes', 0.0026492498163886366),\n",
        "        ('boss', 0.0026492498163886366), ('towards', 0.0026492498163886366),\n",
        "        ('lessen', 0.0026492498163886366),\n",
        "        ('talked', 0.0026492498163886366), ('held', 2.623019620186772e-05),\n",
        "        ('embarrass', 2.623019620186772e-05),\n",
        "        ('good', 2.623019620186772e-05), ('known', 2.623019620186772e-05),\n",
        "        ('want', 2.623019620186772e-05), ('public', 2.623019620186772e-05),\n",
        "        ('language', 2.623019620186772e-05),\n",
        "        ('adult', 2.623019620186772e-05), ('values', 2.623019620186772e-05),\n",
        "        ('punishment', 2.623019620186772e-05),\n",
        "        ('feeling', 2.623019620186772e-05),\n",
        "        ('agree', 2.623019620186772e-05),\n",
        "        ('read-the-riot-act', 2.623019620186772e-05),\n",
        "        ('distance', 2.623019620186772e-05),\n",
        "        ('displeased', 2.623019620186772e-05),\n",
        "        ('discourage', 2.623019620186772e-05),\n",
        "        ('align', 2.623019620186772e-05), ('act', 2.623019620186772e-05),\n",
        "        ('others', 2.623019620186772e-05), ('pay', 2.623019620186772e-05),\n",
        "        ('alone', 2.623019620186772e-05), ('keep', 2.623019620186772e-05),\n",
        "        ('fun', 2.623019620186772e-05), ('would', 2.623019620186772e-05),\n",
        "        ('words', 2.623019620186772e-05), ('word', 2.623019620186772e-05),\n",
        "        ('needed', 2.623019620186772e-05), ('found', 2.623019620186772e-05),\n",
        "        ('going', 2.623019620186772e-05),\n",
        "        ('without', 2.623019620186772e-05), ('find', 2.623019620186772e-05),\n",
        "        ('important', 2.623019620186772e-05),\n",
        "        ('feelings', 2.623019620186772e-05), ('one', 2.623019620186772e-05),\n",
        "        ('ones', 2.623019620186772e-05), ('opinion', 2.623019620186772e-05),\n",
        "        ('disapprove-of', 2.623019620186772e-05),\n",
        "        ('disappointed', 2.623019620186772e-05),\n",
        "        ('mistakes', 2.623019620186772e-05),\n",
        "        ('criticize', 2.623019620186772e-05),\n",
        "        ('talk', 2.623019620186772e-05), ('less', 2.623019620186772e-05),\n",
        "        ('listen', 2.623019620186772e-05), ('tell', 2.623019620186772e-05),\n",
        "        ('compass', 2.623019620186772e-05),\n",
        "        ('lonely', 2.623019620186772e-05), ('look', 2.623019620186772e-05),\n",
        "        ('contempt', 2.623019620186772e-05),\n",
        "        ('serious', 2.623019620186772e-05),\n",
        "        ('sense', 2.623019620186772e-05), ('think', 2.623019620186772e-05),\n",
        "        ('scold', 2.623019620186772e-05), ('remind', 2.623019620186772e-05),\n",
        "        ('assign', 2.623019620186772e-05), ('said', 2.623019620186772e-05),\n",
        "        ('sad', 2.623019620186772e-05), ('sorry', 2.623019620186772e-05),\n",
        "        ('around', 2.623019620186772e-05),\n",
        "        ('revile', 2.623019620186772e-05),\n",
        "        ('instructing', 2.623019620186772e-05),\n",
        "        ('approve', 2.623019620186772e-05),\n",
        "        ('truth', 2.623019620186772e-05), ('made', 2.623019620186772e-05),\n",
        "        ('destroy', 2.623019620186772e-05), ('turn', 2.623019620186772e-05),\n",
        "        ('cause', 2.623019620186772e-05),\n",
        "        ('repeated', 2.623019620186772e-05),\n",
        "        ('removing', 2.623019620186772e-05),\n",
        "        ('straight', 2.623019620186772e-05),\n",
        "        ('blame', 2.623019620186772e-05), ('heard', 2.6230196201867695e-05),\n",
        "        ('happened', 2.6230196201867695e-05),\n",
        "        ('help', 2.6230196201867695e-05), ('guide', 2.6230196201867695e-05),\n",
        "        ('happy', 2.6230196201867695e-05),\n",
        "        ('hoping', 2.6230196201867695e-05),\n",
        "        ('decision', 2.6230196201867695e-05),\n",
        "        ('give', 2.6230196201867695e-05), ('badly', 2.6230196201867695e-05),\n",
        "        ('censure', 2.6230196201867695e-05),\n",
        "        ('castigated', 2.6230196201867695e-05),\n",
        "        ('castigate', 2.6230196201867695e-05),\n",
        "        ('cast', 2.6230196201867695e-05),\n",
        "        ('blaming', 2.6230196201867695e-05),\n",
        "        ('berate', 2.6230196201867695e-05),\n",
        "        ('behave', 2.6230196201867695e-05),\n",
        "        ('attention', 2.6230196201867695e-05),\n",
        "        ('future', 2.6230196201867695e-05),\n",
        "        ('ashamed', 2.6230196201867695e-05),\n",
        "        ('approvals', 2.6230196201867695e-05),\n",
        "        ('admonish', 2.6230196201867695e-05),\n",
        "        ('admit', 2.6230196201867695e-05),\n",
        "        ('accused', 2.6230196201867695e-05),\n",
        "        ('accuse', 2.6230196201867695e-05),\n",
        "        ('acceptable', 2.6230196201867695e-05),\n",
        "        ('chastise', 2.6230196201867695e-05),\n",
        "        ('chide', 2.6230196201867695e-05),\n",
        "        ('child', 2.6230196201867695e-05),\n",
        "        ('committed', 2.6230196201867695e-05),\n",
        "        ('finger', 2.6230196201867695e-05),\n",
        "        ('feedback', 2.6230196201867695e-05),\n",
        "        ('error', 2.6230196201867695e-05),\n",
        "        ('enough', 2.6230196201867695e-05),\n",
        "        ('encourage', 2.6230196201867695e-05),\n",
        "        ('discipline', 2.6230196201867695e-05),\n",
        "        ('disappointment', 2.6230196201867695e-05),\n",
        "        ('direct', 2.6230196201867695e-05),\n",
        "        ('deserved', 2.6230196201867695e-05),\n",
        "        ('denounce', 2.6230196201867695e-05),\n",
        "        ('decide', 2.6230196201867695e-05),\n",
        "        ('criminal', 2.6230196201867695e-05),\n",
        "        ('correct', 2.6230196201867695e-05),\n",
        "        ('consequences', 2.6230196201867695e-05),\n",
        "        ('condemn', 2.6230196201867695e-05),\n",
        "        ('innocent', 2.6230196201867695e-05),\n",
        "        ('letting', 2.6230196201867695e-05),\n",
        "        ('accept', 2.6230196201867695e-05),\n",
        "        ('place', 2.6230196201867695e-05),\n",
        "        ('superiority', 2.6230196201867695e-05),\n",
        "        ('must', 2.6230196201867695e-05),\n",
        "        ('trouble', 2.6230196201867695e-05),\n",
        "        ('tried', 2.6230196201867695e-05),\n",
        "        ('reprimand', 2.6230196201867695e-05),\n",
        "        ('nice', 2.6230196201867695e-05),\n",
        "        ('thought', 2.6230196201867695e-05),\n",
        "        ('object-to', 2.6230196201867695e-05),\n",
        "        ('remove', 2.6230196201867695e-05),\n",
        "        ('refuse', 2.6230196201867695e-05),\n",
        "        ('reproach', 2.6230196201867695e-05),\n",
        "        ('spend', 2.6230196201867695e-05),\n",
        "        ('reduced', 2.6230196201867695e-05),\n",
        "        ('redirect', 2.6230196201867695e-05),\n",
        "        ('rebuke', 2.6230196201867695e-05),\n",
        "        ('taught', 2.6230196201867695e-05),\n",
        "        ('point-the-finger', 2.6230196201867695e-05),\n",
        "        ('poorly', 2.6230196201867695e-05),\n",
        "        ('stupid', 2.6230196201867695e-05),\n",
        "        ('punished', 2.6230196201867695e-05),\n",
        "        ('try', 2.6230196201867695e-05),\n",
        "        ('morally', 2.6230196201867695e-05),\n",
        "        ('put', 2.6230196201867695e-05),\n",
        "        ('satisfy', 2.6230196201867695e-05),\n",
        "        ('warning', 2.6230196201867695e-05),\n",
        "        ('warn', 2.6230196201867695e-05), ('level', 2.6230196201867695e-05),\n",
        "        ('responsible', 2.6230196201867695e-05),\n",
        "        ('villain', 2.6230196201867695e-05),\n",
        "        ('life', 2.6230196201867695e-05), ('say', 2.6230196201867695e-05),\n",
        "        ('vilify', 2.6230196201867695e-05),\n",
        "        ('matter', 2.6230196201867695e-05),\n",
        "        ('setting', 2.6230196201867695e-05),\n",
        "        ('maybe', 2.6230196201867695e-05),\n",
        "        ('silence', 2.6230196201867695e-05),\n",
        "        ('tsk', 2.6230196201867695e-05), ('knew', 2.6230196201867695e-05),\n",
        "        ('learn', 2.6230196201867695e-05), ('call', 2.6230196201867136e-05),\n",
        "        ('show', 2.6230196201867136e-05),\n",
        "        ('submission', 2.6230196201867136e-05),\n",
        "        ('showed', 2.6230196201867136e-05),\n",
        "        ('stop', 2.6230196201867136e-05),\n",
        "        ('change', 2.6230196201867136e-05),\n",
        "        ('spent', 2.6230196201867136e-05),\n",
        "        ('spending', 2.6230196201867136e-05),\n",
        "        ('showing', 2.6230196201867136e-05),\n",
        "        ('speak', 2.6230196201867136e-05),\n",
        "        ('something', 2.6230196201867136e-05),\n",
        "        ('slander', 2.6230196201867136e-05),\n",
        "        ('small', 2.6230196201867136e-05), ('side', 2.6230196201867136e-05),\n",
        "        ('thing', 2.6230196201867136e-05), ('sure', 2.6230196201867136e-05),\n",
        "        ('appropriate', 2.6230196201867136e-05),\n",
        "        ('wrong', 2.6230196201867136e-05),\n",
        "        ('accountable', 2.6230196201867136e-05),\n",
        "        ('way', 2.6230196201867136e-05), ('wants', 2.6230196201867136e-05),\n",
        "        ('actions', 2.6230196201867136e-05),\n",
        "        ('vent', 2.6230196201867136e-05),\n",
        "        ('validate', 2.6230196201867136e-05),\n",
        "        ('used', 2.6230196201867136e-05), ('upset', 2.6230196201867136e-05),\n",
        "        ('trying', 2.6230196201867136e-05),\n",
        "        ('anymore', 2.6230196201867136e-05),\n",
        "        ('anything', 2.6230196201867136e-05),\n",
        "        ('told', 2.6230196201867136e-05),\n",
        "        ('better', 2.6230196201867136e-05),\n",
        "        ('time', 2.6230196201867136e-05),\n",
        "        ('attacked', 2.6230196201867136e-05),\n",
        "        ('thinks', 2.6230196201867136e-05),\n",
        "        ('aware', 2.6230196201867136e-05), ('away', 2.6230196201867136e-05),\n",
        "        ('bad', 2.6230196201867136e-05),\n",
        "        ('completely', 2.6230196201867136e-05),\n",
        "        ('telling', 2.6230196201867136e-05),\n",
        "        ('teach', 2.6230196201867136e-05),\n",
        "        ('behavior', 2.6230196201867136e-05),\n",
        "        ('belittle', 2.6230196201867136e-05),\n",
        "        ('take', 2.6230196201867136e-05), ('shame', 2.6230196201867136e-05),\n",
        "        ('insult', 2.6230196201867136e-05),\n",
        "        ('shake', 2.6230196201867136e-05),\n",
        "        ('mistake', 2.6230196201867136e-05),\n",
        "        ('fault', 2.6230196201867136e-05),\n",
        "        ('person', 2.6230196201867136e-05),\n",
        "        ('felt', 2.6230196201867136e-05), ('next', 2.6230196201867136e-05),\n",
        "        ('never', 2.6230196201867136e-05),\n",
        "        ('follow', 2.6230196201867136e-05),\n",
        "        ('negative', 2.6230196201867136e-05),\n",
        "        ('moral', 2.6230196201867136e-05),\n",
        "        ('money', 2.6230196201867136e-05), ('get', 2.6230196201867136e-05),\n",
        "        ('getting', 2.6230196201867136e-05),\n",
        "        ('mind', 2.6230196201867136e-05), ('point', 2.6230196201867136e-05),\n",
        "        ('means', 2.6230196201867136e-05),\n",
        "        ('meaning', 2.6230196201867136e-05),\n",
        "        ('guilty', 2.6230196201867136e-05),\n",
        "        ('making', 2.6230196201867136e-05),\n",
        "        ('hate', 2.6230196201867136e-05), ('hear', 2.6230196201867136e-05),\n",
        "        ('let', 2.6230196201867136e-05), ('lesson', 2.6230196201867136e-05),\n",
        "        ('legal', 2.6230196201867136e-05),\n",
        "        ('humiliate', 2.6230196201867136e-05),\n",
        "        ('lay', 2.6230196201867136e-05),\n",
        "        ('seriously', 2.6230196201867136e-05),\n",
        "        ('eyes', 2.6230196201867136e-05),\n",
        "        ('expressed', 2.6230196201867136e-05),\n",
        "        ('really', 2.6230196201867136e-05),\n",
        "        ('control', 2.6230196201867136e-05),\n",
        "        ('scolded', 2.6230196201867136e-05),\n",
        "        ('could', 2.6230196201867136e-05), ('ruin', 2.6230196201867136e-05),\n",
        "        ('right', 2.6230196201867136e-05),\n",
        "        ('revenge', 2.6230196201867136e-05),\n",
        "        ('judge', 2.6230196201867136e-05),\n",
        "        ('reprimanded', 2.6230196201867136e-05),\n",
        "        ('disagreed', 2.6230196201867136e-05),\n",
        "        ('disapproval', 2.6230196201867136e-05),\n",
        "        ('disapproved', 2.6230196201867136e-05),\n",
        "        ('express', 2.6230196201867136e-05),\n",
        "        ('disgust', 2.6230196201867136e-05),\n",
        "        ('realize', 2.6230196201867136e-05),\n",
        "        ('distaste', 2.6230196201867136e-05),\n",
        "        ('done', 2.6230196201867136e-05),\n",
        "        ('educate', 2.6230196201867136e-05),\n",
        "        ('punish', 2.6230196201867136e-05),\n",
        "        ('publicly', 2.6230196201867136e-05),\n",
        "        ('errors', 2.6230196201867136e-05),\n",
        "        ('even', 2.6230196201867136e-05),\n",
        "        ('everything', 2.6230196201867136e-05),\n",
        "        ('evil', 2.6230196201867136e-05),\n",
        "        ('expected', 2.6230196201867136e-05),\n",
        "        ('reputation', 2.6230196201867136e-05),\n",
        "        ('make', 2.6230196201862477e-05),\n",
        "        ('wanted', 2.6230196201862477e-05),\n",
        "        ('feel', 2.6230196201862477e-05), ('know', 2.6230196201862477e-05)], \n",
        "       dtype=[('word', 'S17'), ('value', '<f8')]),\n",
        " LabeledColumn([('make', 0.08262749599255913), ('feel', 0.05739546021254286),\n",
        "        ('wanted', 0.05442698541489389), ('know', 0.047995290019987785),\n",
        "        ('bad', 0.04403732362312249), ('let', 0.02820545803566131),\n",
        "        ('wrong', 0.018310542043498072),\n",
        "        ('criticize', 0.017321050444281748),\n",
        "        ('actions', 0.017321050444281748),\n",
        "        ('express', 0.016826304644673586), ('done', 0.016826304644673586),\n",
        "        ('behavior', 0.016331558845065423), ('like', 0.0153420672458491),\n",
        "        ('slander', 0.014847321446240938),\n",
        "        ('admonish', 0.014847321446240938),\n",
        "        ('condemn', 0.014847321446240938), ('wants', 0.014352575646632776),\n",
        "        ('show', 0.013857829847024616), ('change', 0.012868338247808291),\n",
        "        ('disapproval', 0.011878846648591967),\n",
        "        ('thing', 0.011384100848983805), ('guilty', 0.011384100848983805),\n",
        "        ('get', 0.011384100848983805), ('punish', 0.011384100848983805),\n",
        "        ('others', 0.00989986345015932), ('control', 0.008415626051334833),\n",
        "        ('means', 0.008415626051334833), ('way', 0.007920880251726672),\n",
        "        ('belittle', 0.007920880251726672),\n",
        "        ('mistake', 0.00742613445211851), ('approve', 0.00742613445211851),\n",
        "        ('things', 0.007426134452118509), ('would', 0.007426134452118509),\n",
        "        ('better', 0.006931388652510349), ('teach', 0.006436642852902187),\n",
        "        ('made', 0.006436642852902187), ('aware', 0.006436642852902187),\n",
        "        ('something', 0.006436642852902187),\n",
        "        ('scold', 0.006436642852902186), ('look', 0.005941897053294024),\n",
        "        ('put', 0.005941897053294024), ('moral', 0.0059418970532940235),\n",
        "        ('give', 0.005447151253685863), ('sure', 0.005447151253685863),\n",
        "        ('scolded', 0.005447151253685863), ('money', 0.005447151253685863),\n",
        "        ('stop', 0.004952405454077701), ('felt', 0.004952405454077701),\n",
        "        ('tell', 0.004952405454077701), ('anger', 0.004952405454077701),\n",
        "        ('frustration', 0.0049524054540777),\n",
        "        ('right', 0.0044576596544695386), ('take', 0.0044576596544695386),\n",
        "        ('try', 0.0044576596544695386),\n",
        "        ('embarrass', 0.0044576596544695386),\n",
        "        ('person', 0.003962913854861377), ('upset', 0.003962913854861377),\n",
        "        ('shame', 0.003962913854861377), ('realize', 0.003962913854861377),\n",
        "        ('yell', 0.003468168055253215), ('feelings', 0.003468168055253215),\n",
        "        ('agree', 0.003468168055253215),\n",
        "        ('disapproved', 0.003468168055253215),\n",
        "        ('child', 0.003468168055253215), ('publicly', 0.003468168055253215),\n",
        "        ('trying', 0.003468168055253215), ('vent', 0.003468168055253215),\n",
        "        ('lesson', 0.002973422255645053), ('told', 0.002973422255645053),\n",
        "        ('could', 0.002973422255645053), ('compass', 0.0024786764560368914),\n",
        "        ('away', 0.0024786764560368914),\n",
        "        ('mistakes', 0.0024786764560368914),\n",
        "        ('badly', 0.0024786764560368914), ('said', 0.0024786764560368914),\n",
        "        ('place', 0.0024786764560368914), ('one', 0.0024786764560368914),\n",
        "        ('speak', 0.0024786764560368914), ('align', 0.0024786764560368914),\n",
        "        ('correct', 0.0024786764560368914), ('talk', 0.0024786764560368914),\n",
        "        ('ones', 0.001983930656428729), ('needed', 0.001983930656428729),\n",
        "        ('never', 0.001983930656428729), ('time', 0.001983930656428729),\n",
        "        ('knew', 0.001983930656428729), ('sense', 0.001983930656428729),\n",
        "        ('opinion', 0.001983930656428729),\n",
        "        ('telling', 0.001983930656428729), ('thinks', 0.001983930656428729),\n",
        "        ('punishment', 0.001983930656428729),\n",
        "        ('punished', 0.001983930656428729), ('keep', 0.001983930656428729),\n",
        "        ('even', 0.001983930656428729), ('judge', 0.001983930656428729),\n",
        "        ('distance', 0.001983930656428729),\n",
        "        ('decision', 0.001983930656428729),\n",
        "        ('showed', 0.001983930656428729),\n",
        "        ('reprimanded', 0.001983930656428729),\n",
        "        ('used', 0.0014891848568205674),\n",
        "        ('discipline', 0.0014891848568205674),\n",
        "        ('think', 0.0014891848568205674), ('words', 0.0014891848568205674),\n",
        "        ('word', 0.0014891848568205674),\n",
        "        ('accountable', 0.0014891848568205674),\n",
        "        ('disappointment', 0.0014891848568205674),\n",
        "        ('matter', 0.0014891848568205674),\n",
        "        ('manner', 0.0014891848568205674),\n",
        "        ('discourage', 0.0014891848568205674),\n",
        "        ('alone', 0.0014891848568205674), ('known', 0.0014891848568205674),\n",
        "        ('negative', 0.0014891848568205674),\n",
        "        ('mind', 0.0014891848568205674), ('values', 0.0014891848568205674),\n",
        "        ('morally', 0.0014891848568205674),\n",
        "        ('lonely', 0.0014891848568205674),\n",
        "        ('satisfy', 0.0014891848568205674),\n",
        "        ('straight', 0.0014891848568205674),\n",
        "        ('completely', 0.0014891848568205674),\n",
        "        ('revenge', 0.0014891848568205674),\n",
        "        ('criminal', 0.0014891848568205674),\n",
        "        ('future', 0.0014891848568205674), ('hear', 0.0014891848568205674),\n",
        "        ('feeling', 0.0014891848568205674), ('say', 0.0014891848568205674),\n",
        "        ('reputation', 0.0014891848568205674),\n",
        "        ('seriously', 0.0014891848568205674),\n",
        "        ('everything', 0.0014891848568205674),\n",
        "        ('errors', 0.0014891848568205674), ('error', 0.0014891848568205674),\n",
        "        ('serious', 0.0014891848568205674), ('cast', 0.0009944390572124053),\n",
        "        ('contempt', 0.0009944390572124053),\n",
        "        ('find', 0.0009944390572124053), ('legal', 0.0009944390572124053),\n",
        "        ('likely', 0.0009944390572124053),\n",
        "        ('consequences', 0.0009944390572124053),\n",
        "        ('direct', 0.0009944390572124053), ('lay', 0.0009944390572124053),\n",
        "        ('instructing', 0.0009944390572124053),\n",
        "        ('educate', 0.0009944390572124053),\n",
        "        ('distaste', 0.0009944390572124053),\n",
        "        ('listen', 0.0009944390572124053), ('guide', 0.0009944390572124053),\n",
        "        ('encourage', 0.0009944390572124053),\n",
        "        ('feedback', 0.0009944390572124053),\n",
        "        ('eyes', 0.0009944390572124053), ('happy', 0.0009944390572124053),\n",
        "        ('expressed', 0.0009944390572124053),\n",
        "        ('language', 0.0009944390572124053),\n",
        "        ('heard', 0.0009944390572124053), ('evil', 0.0009944390572124053),\n",
        "        ('held', 0.0009944390572124053), ('enough', 0.0009944390572124053),\n",
        "        ('important', 0.0009944390572124053),\n",
        "        ('character', 0.0009944390572124053),\n",
        "        ('insult', 0.0009944390572124053),\n",
        "        ('letting', 0.0009944390572124053), ('ruin', 0.0009944390572124053),\n",
        "        ('sorry', 0.0009944390572124053), ('remind', 0.0009944390572124053),\n",
        "        ('attacked', 0.0009944390572124053),\n",
        "        ('repeated', 0.0009944390572124053), ('sad', 0.0009944390572124053),\n",
        "        ('ashamed', 0.0009944390572124053),\n",
        "        ('setting', 0.0009944390572124053),\n",
        "        ('around', 0.0009944390572124053), ('side', 0.0009944390572124053),\n",
        "        ('silence', 0.0009944390572124053),\n",
        "        ('approvals', 0.0009944390572124053),\n",
        "        ('small', 0.0009944390572124053),\n",
        "        ('appropriate', 0.0009944390572124053),\n",
        "        ('reduced', 0.0009944390572124053),\n",
        "        ('spending', 0.0009944390572124053),\n",
        "        ('spent', 0.0009944390572124053), ('stupid', 0.0009944390572124053),\n",
        "        ('submission', 0.0009944390572124053),\n",
        "        ('superiority', 0.0009944390572124053),\n",
        "        ('talked', 0.0009944390572124053), ('turn', 0.0009944390572124053),\n",
        "        ('understand', 0.0009944390572124053),\n",
        "        ('admit', 0.0009944390572124053), ('action', 0.0009944390572124053),\n",
        "        ('act', 0.0009944390572124053), ('relieve', 0.0009944390572124053),\n",
        "        ('deserved', 0.0009944390572124053), ('pay', 0.0009944390572124053),\n",
        "        ('destroy', 0.0009944390572124053), ('nice', 0.0009944390572124053),\n",
        "        ('poorly', 0.0009944390572124053),\n",
        "        ('behave', 0.0009944390572124053),\n",
        "        ('making', 0.0009944390572124053),\n",
        "        ('public', 0.0009944390572124053), ('fault', 0.0004996932576042434),\n",
        "        ('situation', 0.0004996932576042434),\n",
        "        ('help', 0.0004996932576042434), ('goal', 0.0004996932576042434),\n",
        "        ('blamed', 0.0004996932576042434),\n",
        "        ('talking', 0.0004996932576042434),\n",
        "        ('inferior', 0.0004996932576042434),\n",
        "        ('boss', 0.0004996932576042434),\n",
        "        ('disappointed', 0.0004996932576042434),\n",
        "        ('really', 0.0004996932576042434), ('angry', 4.947457996081624e-06),\n",
        "        ('censure', 4.947457996081624e-06),\n",
        "        ('expressing', 4.947457996081624e-06),\n",
        "        ('let-x-have-it', 4.947457996081624e-06),\n",
        "        ('castigate', 4.947457996081624e-06),\n",
        "        ('disapprove-of', 4.947457996081624e-06),\n",
        "        ('find-fault-with', 4.947457996081624e-06),\n",
        "        ('read-the-riot-act', 4.947457996081624e-06),\n",
        "        ('physically', 4.947457996081624e-06),\n",
        "        ('point-the-finger', 4.947457996081624e-06),\n",
        "        ('scare', 4.947457996081624e-06),\n",
        "        ('responsible', 4.947457996081624e-06),\n",
        "        ('chastise', 4.947457996081624e-06),\n",
        "        ('harm', 4.947457996081619e-06), ('vilify', 4.947457996081619e-06),\n",
        "        ('decide', 4.947457996081619e-06),\n",
        "        ('emotionally', 4.947457996081619e-06),\n",
        "        ('villain', 4.947457996081619e-06),\n",
        "        ('violence', 4.947457996081619e-06),\n",
        "        ('attack', 4.947457996081619e-06),\n",
        "        ('reproach', 4.947457996081619e-06),\n",
        "        ('accused', 4.947457996081619e-06),\n",
        "        ('chew-out', 4.947457996081619e-06),\n",
        "        ('accuse', 4.947457996081619e-06),\n",
        "        ('berate', 4.947457996081619e-06),\n",
        "        ('revile', 4.947457996081619e-06),\n",
        "        ('denounce', 4.947457996081619e-06),\n",
        "        ('object-to', 4.947457996081619e-06),\n",
        "        ('committed', 4.9474579960815135e-06),\n",
        "        ('chide', 4.9474579960815135e-06),\n",
        "        ('acceptable', 4.9474579960815135e-06),\n",
        "        ('blaming', 4.9474579960815135e-06),\n",
        "        ('afraid', 4.9474579960815135e-06),\n",
        "        ('communication', 4.9474579960815135e-06),\n",
        "        ('cut', 4.9474579960815135e-06), ('adult', 4.9474579960815135e-06),\n",
        "        ('beat', 4.9474579960815135e-06),\n",
        "        ('attention', 4.9474579960815135e-06),\n",
        "        ('castigated', 4.9474579960815135e-06),\n",
        "        ('anymore', 4.9474579960815135e-06),\n",
        "        ('cause', 4.9474579960815135e-06),\n",
        "        ('blame', 4.9474579960815135e-06),\n",
        "        ('anything', 4.9474579960815135e-06),\n",
        "        ('assign', 4.9474579960815135e-06),\n",
        "        ('broken', 4.9474579960815135e-06),\n",
        "        ('became', 4.9474579960815135e-06),\n",
        "        ('call', 4.9474579960815135e-06),\n",
        "        ('yelled', 4.9474579960815135e-06),\n",
        "        ('detail', 4.9474579960815135e-06),\n",
        "        ('disagreed', 4.9474579960815135e-06),\n",
        "        ('skills', 4.9474579960815135e-06),\n",
        "        ('showing', 4.9474579960815135e-06),\n",
        "        ('shake', 4.9474579960815135e-06),\n",
        "        ('screamed', 4.9474579960815135e-06),\n",
        "        ('responsibility', 4.9474579960815135e-06),\n",
        "        ('reprimand', 4.9474579960815135e-06),\n",
        "        ('removing', 4.9474579960815135e-06),\n",
        "        ('remove', 4.9474579960815135e-06),\n",
        "        ('refuse', 4.9474579960815135e-06),\n",
        "        ('redirect', 4.9474579960815135e-06),\n",
        "        ('rebuke', 4.9474579960815135e-06),\n",
        "        ('rage', 4.9474579960815135e-06), ('point', 4.9474579960815135e-06),\n",
        "        ('nowhere', 4.9474579960815135e-06),\n",
        "        ('next', 4.9474579960815135e-06), ('spend', 4.9474579960815135e-06),\n",
        "        ('stress', 4.9474579960815135e-06),\n",
        "        ('suffer', 4.9474579960815135e-06),\n",
        "        ('verbally', 4.9474579960815135e-06),\n",
        "        ('worthless', 4.9474579960815135e-06),\n",
        "        ('without', 4.9474579960815135e-06),\n",
        "        ('warning', 4.9474579960815135e-06),\n",
        "        ('warn', 4.9474579960815135e-06), ('want', 4.9474579960815135e-06),\n",
        "        ('viscous', 4.9474579960815135e-06),\n",
        "        ('validate', 4.9474579960815135e-06),\n",
        "        ('taught', 4.9474579960815135e-06), ('tsk', 4.9474579960815135e-06),\n",
        "        ('truth', 4.9474579960815135e-06),\n",
        "        ('trouble', 4.9474579960815135e-06),\n",
        "        ('tried', 4.9474579960815135e-06),\n",
        "        ('towards', 4.9474579960815135e-06),\n",
        "        ('thought', 4.9474579960815135e-06),\n",
        "        ('name', 4.9474579960815135e-06), ('must', 4.9474579960815135e-06),\n",
        "        ('messed', 4.9474579960815135e-06),\n",
        "        ('front', 4.9474579960815135e-06),\n",
        "        ('happened', 4.9474579960815135e-06),\n",
        "        ('guilt', 4.9474579960815135e-06), ('good', 4.9474579960815135e-06),\n",
        "        ('going', 4.9474579960815135e-06),\n",
        "        ('getting', 4.9474579960815135e-06),\n",
        "        ('fun', 4.9474579960815135e-06), ('found', 4.9474579960815135e-06),\n",
        "        ('meaning', 4.9474579960815135e-06),\n",
        "        ('follow', 4.9474579960815135e-06),\n",
        "        ('finger', 4.9474579960815135e-06),\n",
        "        ('expected', 4.9474579960815135e-06),\n",
        "        ('effective', 4.9474579960815135e-06),\n",
        "        ('displeased', 4.9474579960815135e-06),\n",
        "        ('disgust', 4.9474579960815135e-06),\n",
        "        ('hate', 4.9474579960815135e-06), ('hopes', 4.9474579960815135e-06),\n",
        "        ('hoping', 4.9474579960815135e-06),\n",
        "        ('humiliate', 4.9474579960815135e-06),\n",
        "        ('mean', 4.9474579960815135e-06), ('maybe', 4.9474579960815135e-06),\n",
        "        ('mad', 4.9474579960815135e-06), ('loudly', 4.9474579960815135e-06),\n",
        "        ('loud', 4.9474579960815135e-06), ('lot', 4.9474579960815135e-06),\n",
        "        ('life', 4.9474579960815135e-06), ('level', 4.9474579960815135e-06),\n",
        "        ('lessen', 4.9474579960815135e-06),\n",
        "        ('less', 4.9474579960815135e-06), ('learn', 4.9474579960815135e-06),\n",
        "        ('lash-out-at', 4.9474579960815135e-06),\n",
        "        ('innocent', 4.9474579960815135e-06),\n",
        "        ('hurt', 4.9474579960815135e-06),\n",
        "        ('accept', 4.9474579960815135e-06),\n",
        "        ('tell-x-off', 4.947457996080635e-06)], \n",
        "       dtype=[('word', 'S17'), ('value', '<f8')]),\n",
        " LabeledColumn([('castigate', 0.12197136563876661), ('berate', 0.12197136563876661),\n",
        "        ('rebuke', 0.12197136563876661), ('vilify', 0.1180380742605413),\n",
        "        ('chide', 0.1180380742605413),\n",
        "        ('read-the-riot-act', 0.1180380742605413),\n",
        "        ('scold', 0.09050503461296419), ('thought', 0.011839207048458159),\n",
        "        ('going', 0.011839207048458159), ('villain', 0.011839207048458159),\n",
        "        ('castigated', 0.007905915670232857),\n",
        "        ('call', 0.007905915670232857), ('less', 0.007905915670232857),\n",
        "        ('fun', 0.007905915670232857), ('follow', 0.007905915670232857),\n",
        "        ('scolded', 0.007905915670232857), ('blame', 0.007905915670232857),\n",
        "        ('tsk', 0.007905915670232857), ('removing', 0.007905915670232857),\n",
        "        ('without', 0.007905915670232857),\n",
        "        ('anymore', 0.007905915670232857),\n",
        "        ('acceptable', 0.007905915670232857),\n",
        "        ('life', 0.007905915670232857), ('mean', 0.007905915670232857),\n",
        "        ('displeased', 0.007905915670232857),\n",
        "        ('good', 0.0039726242920075545), ('refuse', 0.0039726242920075545),\n",
        "        ('cut', 0.003972624292007554), ('humiliate', 0.003972624292007554),\n",
        "        ('cause', 0.003972624292007554), ('hopes', 0.003972624292007554),\n",
        "        ('front', 3.933291378225305e-05), ('error', 3.933291378225305e-05),\n",
        "        ('errors', 3.933291378225305e-05),\n",
        "        ('getting', 3.933291378225305e-05), ('pay', 3.933291378225305e-05),\n",
        "        ('spend', 3.933291378225305e-05),\n",
        "        ('everything', 3.933291378225305e-05),\n",
        "        ('feelings', 3.933291378225305e-05),\n",
        "        ('letting', 3.933291378225305e-05), ('harm', 3.933291378225305e-05),\n",
        "        ('heard', 3.933291378225305e-05), ('held', 3.933291378225305e-05),\n",
        "        ('stop', 3.933291378225305e-05), ('hurt', 3.933291378225305e-05),\n",
        "        ('judge', 3.933291378225305e-05), ('lay', 3.933291378225305e-05),\n",
        "        ('level', 3.933291378225305e-05), ('really', 3.933291378225305e-05),\n",
        "        ('lonely', 3.933291378225305e-05), ('maybe', 3.933291378225305e-05),\n",
        "        ('mind', 3.933291378225305e-05), ('place', 3.933291378225305e-05),\n",
        "        ('spending', 3.933291378225305e-05),\n",
        "        ('speak', 3.933291378225305e-05),\n",
        "        ('opinion', 3.933291378225305e-05),\n",
        "        ('talking', 3.933291378225305e-05),\n",
        "        ('blamed', 3.933291378225305e-05),\n",
        "        ('blaming', 3.933291378225305e-05),\n",
        "        ('broken', 3.933291378225305e-05),\n",
        "        ('disappointment', 3.933291378225305e-05),\n",
        "        ('badly', 3.933291378225305e-05),\n",
        "        ('attention', 3.933291378225305e-05),\n",
        "        ('chastise', 3.933291378225305e-05),\n",
        "        ('attacked', 3.933291378225305e-05),\n",
        "        ('think', 3.933291378225305e-05), ('things', 3.933291378225305e-05),\n",
        "        ('compass', 3.933291378225305e-05), ('want', 3.933291378225305e-05),\n",
        "        ('ashamed', 3.933291378225305e-05),\n",
        "        ('wants', 3.933291378225305e-05),\n",
        "        ('submission', 3.933291378225305e-05),\n",
        "        ('words', 3.933291378225305e-05),\n",
        "        ('decision', 3.933291378225305e-05),\n",
        "        ('anything', 3.933291378225302e-05),\n",
        "        ('accused', 3.933291378225302e-05), ('ones', 3.933291378225302e-05),\n",
        "        ('accuse', 3.933291378225302e-05),\n",
        "        ('object-to', 3.933291378225302e-05),\n",
        "        ('negative', 3.933291378225302e-05),\n",
        "        ('name', 3.933291378225302e-05), ('must', 3.933291378225302e-05),\n",
        "        ('learn', 3.933291378225302e-05),\n",
        "        ('let-x-have-it', 3.933291378225302e-05),\n",
        "        ('around', 3.933291378225302e-05),\n",
        "        ('attack', 3.933291378225302e-05),\n",
        "        ('admonish', 3.933291378225302e-05),\n",
        "        ('assign', 3.933291378225302e-05),\n",
        "        ('matter', 3.933291378225302e-05),\n",
        "        ('loudly', 3.933291378225302e-05),\n",
        "        ('became', 3.933291378225302e-05),\n",
        "        ('likely', 3.933291378225302e-05),\n",
        "        ('lash-out-at', 3.933291378225302e-05),\n",
        "        ('disapprove-of', 3.933291378225302e-05),\n",
        "        ('insult', 3.933291378225302e-05),\n",
        "        ('feedback', 3.933291378225302e-05),\n",
        "        ('disgust', 3.933291378225302e-05),\n",
        "        ('disagreed', 3.933291378225302e-05),\n",
        "        ('direct', 3.933291378225302e-05),\n",
        "        ('destroy', 3.933291378225302e-05),\n",
        "        ('distance', 3.933291378225302e-05),\n",
        "        ('emotionally', 3.933291378225302e-05),\n",
        "        ('denounce', 3.933291378225302e-05),\n",
        "        ('decide', 3.933291378225302e-05),\n",
        "        ('expected', 3.933291378225302e-05),\n",
        "        ('eyes', 3.933291378225302e-05), ('fault', 3.933291378225302e-05),\n",
        "        ('find', 3.933291378225302e-05),\n",
        "        ('innocent', 3.933291378225302e-05),\n",
        "        ('find-fault-with', 3.933291378225302e-05),\n",
        "        ('contempt', 3.933291378225302e-05),\n",
        "        ('found', 3.933291378225302e-05),\n",
        "        ('consequences', 3.933291378225302e-05),\n",
        "        ('condemn', 3.933291378225302e-05),\n",
        "        ('committed', 3.933291378225302e-05),\n",
        "        ('chew-out', 3.933291378225302e-05),\n",
        "        ('happened', 3.933291378225302e-05),\n",
        "        ('happy', 3.933291378225302e-05), ('hate', 3.933291378225302e-05),\n",
        "        ('character', 3.933291378225302e-05),\n",
        "        ('censure', 3.933291378225302e-05),\n",
        "        ('accept', 3.933291378225302e-05),\n",
        "        ('slander', 3.933291378225302e-05),\n",
        "        ('stress', 3.933291378225302e-05), ('warn', 3.933291378225302e-05),\n",
        "        ('violence', 3.933291378225302e-05),\n",
        "        ('values', 3.933291378225302e-05),\n",
        "        ('talked', 3.933291378225302e-05),\n",
        "        ('validate', 3.933291378225302e-05),\n",
        "        ('said', 3.933291378225302e-05),\n",
        "        ('understand', 3.933291378225302e-05),\n",
        "        ('taught', 3.933291378225302e-05), ('ruin', 3.933291378225302e-05),\n",
        "        ('revile', 3.933291378225302e-05),\n",
        "        ('remove', 3.933291378225302e-05),\n",
        "        ('reprimand', 3.933291378225302e-05),\n",
        "        ('trouble', 3.933291378225302e-05),\n",
        "        ('tried', 3.933291378225302e-05),\n",
        "        ('tell-x-off', 3.933291378225302e-05),\n",
        "        ('responsible', 3.933291378225302e-05),\n",
        "        ('reproach', 3.933291378225302e-05),\n",
        "        ('stupid', 3.933291378225302e-05),\n",
        "        ('reputation', 3.933291378225302e-05),\n",
        "        ('physically', 3.933291378225302e-05),\n",
        "        ('point-the-finger', 3.933291378225302e-05),\n",
        "        ('disappointed', 3.933291378225218e-05),\n",
        "        ('effective', 3.933291378225218e-05),\n",
        "        ('distaste', 3.933291378225218e-05),\n",
        "        ('done', 3.933291378225218e-05), ('teach', 3.933291378225218e-05),\n",
        "        ('tell', 3.933291378225218e-05), ('educate', 3.933291378225218e-05),\n",
        "        ('completely', 3.933291378225218e-05),\n",
        "        ('embarrass', 3.933291378225218e-05),\n",
        "        ('disapproval', 3.933291378225218e-05),\n",
        "        ('small', 3.933291378225218e-05),\n",
        "        ('encourage', 3.933291378225218e-05),\n",
        "        ('communication', 3.933291378225218e-05),\n",
        "        ('enough', 3.933291378225218e-05),\n",
        "        ('telling', 3.933291378225218e-05),\n",
        "        ('child', 3.933291378225218e-05),\n",
        "        ('something', 3.933291378225218e-05),\n",
        "        ('sorry', 3.933291378225218e-05),\n",
        "        ('control', 3.933291378225218e-05),\n",
        "        ('correct', 3.933291378225218e-05),\n",
        "        ('suffer', 3.933291378225218e-05),\n",
        "        ('detail', 3.933291378225218e-05),\n",
        "        ('straight', 3.933291378225218e-05),\n",
        "        ('superiority', 3.933291378225218e-05),\n",
        "        ('disapproved', 3.933291378225218e-05),\n",
        "        ('deserved', 3.933291378225218e-05),\n",
        "        ('thing', 3.933291378225218e-05), ('take', 3.933291378225218e-05),\n",
        "        ('talk', 3.933291378225218e-05),\n",
        "        ('discipline', 3.933291378225218e-05),\n",
        "        ('discourage', 3.933291378225218e-05),\n",
        "        ('spent', 3.933291378225218e-05),\n",
        "        ('criticize', 3.933291378225218e-05),\n",
        "        ('criminal', 3.933291378225218e-05),\n",
        "        ('could', 3.933291378225218e-05), ('sure', 3.933291378225218e-05),\n",
        "        ('others', 3.933291378225218e-05),\n",
        "        ('thinks', 3.933291378225218e-05),\n",
        "        ('approve', 3.933291378225218e-05),\n",
        "        ('appropriate', 3.933291378225218e-05),\n",
        "        ('warning', 3.933291378225218e-05), ('way', 3.933291378225218e-05),\n",
        "        ('angry', 3.933291378225218e-05), ('anger', 3.933291378225218e-05),\n",
        "        ('alone', 3.933291378225218e-05), ('align', 3.933291378225218e-05),\n",
        "        ('agree', 3.933291378225218e-05), ('afraid', 3.933291378225218e-05),\n",
        "        ('adult', 3.933291378225218e-05), ('word', 3.933291378225218e-05),\n",
        "        ('admit', 3.933291378225218e-05),\n",
        "        ('actions', 3.933291378225218e-05),\n",
        "        ('action', 3.933291378225218e-05), ('act', 3.933291378225218e-05),\n",
        "        ('worthless', 3.933291378225218e-05),\n",
        "        ('would', 3.933291378225218e-05),\n",
        "        ('accountable', 3.933291378225218e-05),\n",
        "        ('wrong', 3.933291378225218e-05),\n",
        "        ('approvals', 3.933291378225218e-05),\n",
        "        ('viscous', 3.933291378225218e-05), ('time', 3.933291378225218e-05),\n",
        "        ('verbally', 3.933291378225218e-05),\n",
        "        ('told', 3.933291378225218e-05), ('change', 3.933291378225218e-05),\n",
        "        ('skills', 3.933291378225218e-05), ('truth', 3.933291378225218e-05),\n",
        "        ('cast', 3.933291378225218e-05), ('try', 3.933291378225218e-05),\n",
        "        ('trying', 3.933291378225218e-05), ('boss', 3.933291378225218e-05),\n",
        "        ('turn', 3.933291378225218e-05), ('upset', 3.933291378225218e-05),\n",
        "        ('better', 3.933291378225218e-05), ('used', 3.933291378225218e-05),\n",
        "        ('belittle', 3.933291378225218e-05),\n",
        "        ('behavior', 3.933291378225218e-05),\n",
        "        ('behave', 3.933291378225218e-05), ('beat', 3.933291378225218e-05),\n",
        "        ('away', 3.933291378225218e-05), ('aware', 3.933291378225218e-05),\n",
        "        ('vent', 3.933291378225218e-05), ('towards', 3.933291378225218e-05),\n",
        "        ('silence', 3.933291378225218e-05), ('even', 3.933291378225218e-05),\n",
        "        ('making', 3.933291378225218e-05), ('mad', 3.933291378225218e-05),\n",
        "        ('put', 3.933291378225218e-05), ('loud', 3.933291378225218e-05),\n",
        "        ('lot', 3.933291378225218e-05), ('look', 3.933291378225218e-05),\n",
        "        ('rage', 3.933291378225218e-05), ('listen', 3.933291378225218e-05),\n",
        "        ('realize', 3.933291378225218e-05),\n",
        "        ('redirect', 3.933291378225218e-05),\n",
        "        ('reduced', 3.933291378225218e-05), ('yell', 3.933291378225218e-05),\n",
        "        ('relieve', 3.933291378225218e-05),\n",
        "        ('lesson', 3.933291378225218e-05),\n",
        "        ('lessen', 3.933291378225218e-05),\n",
        "        ('remind', 3.933291378225218e-05), ('legal', 3.933291378225218e-05),\n",
        "        ('repeated', 3.933291378225218e-05),\n",
        "        ('situation', 3.933291378225218e-05),\n",
        "        ('known', 3.933291378225218e-05), ('made', 3.933291378225218e-05),\n",
        "        ('manner', 3.933291378225218e-05), ('knew', 3.933291378225218e-05),\n",
        "        ('punishment', 3.933291378225218e-05),\n",
        "        ('one', 3.933291378225218e-05), ('point', 3.933291378225218e-05),\n",
        "        ('nowhere', 3.933291378225218e-05), ('nice', 3.933291378225218e-05),\n",
        "        ('next', 3.933291378225218e-05), ('never', 3.933291378225218e-05),\n",
        "        ('needed', 3.933291378225218e-05),\n",
        "        ('poorly', 3.933291378225218e-05),\n",
        "        ('public', 3.933291378225218e-05),\n",
        "        ('morally', 3.933291378225218e-05),\n",
        "        ('moral', 3.933291378225218e-05), ('money', 3.933291378225218e-05),\n",
        "        ('mistakes', 3.933291378225218e-05),\n",
        "        ('mistake', 3.933291378225218e-05),\n",
        "        ('publicly', 3.933291378225218e-05),\n",
        "        ('messed', 3.933291378225218e-05), ('means', 3.933291378225218e-05),\n",
        "        ('meaning', 3.933291378225218e-05),\n",
        "        ('punished', 3.933291378225218e-05),\n",
        "        ('know', 3.933291378225218e-05),\n",
        "        ('language', 3.933291378225218e-05),\n",
        "        ('keep', 3.933291378225218e-05),\n",
        "        ('screamed', 3.933291378225218e-05),\n",
        "        ('future', 3.933291378225218e-05), ('sense', 3.933291378225218e-05),\n",
        "        ('frustration', 3.933291378225218e-05),\n",
        "        ('serious', 3.933291378225218e-05),\n",
        "        ('seriously', 3.933291378225218e-05),\n",
        "        ('setting', 3.933291378225218e-05),\n",
        "        ('finger', 3.933291378225218e-05), ('shake', 3.933291378225218e-05),\n",
        "        ('shame', 3.933291378225218e-05), ('felt', 3.933291378225218e-05),\n",
        "        ('show', 3.933291378225218e-05), ('feeling', 3.933291378225218e-05),\n",
        "        ('showed', 3.933291378225218e-05),\n",
        "        ('showing', 3.933291378225218e-05), ('side', 3.933291378225218e-05),\n",
        "        ('expressing', 3.933291378225218e-05),\n",
        "        ('expressed', 3.933291378225218e-05),\n",
        "        ('person', 3.933291378225218e-05), ('evil', 3.933291378225218e-05),\n",
        "        ('reprimanded', 3.933291378225218e-05),\n",
        "        ('get', 3.933291378225218e-05), ('give', 3.933291378225218e-05),\n",
        "        ('satisfy', 3.933291378225218e-05),\n",
        "        ('instructing', 3.933291378225218e-05),\n",
        "        ('inferior', 3.933291378225218e-05),\n",
        "        ('important', 3.933291378225218e-05),\n",
        "        ('responsibility', 3.933291378225218e-05),\n",
        "        ('hoping', 3.933291378225218e-05),\n",
        "        ('revenge', 3.933291378225218e-05), ('help', 3.933291378225218e-05),\n",
        "        ('right', 3.933291378225218e-05), ('hear', 3.933291378225218e-05),\n",
        "        ('sad', 3.933291378225218e-05), ('guilty', 3.933291378225218e-05),\n",
        "        ('guilt', 3.933291378225218e-05), ('guide', 3.933291378225218e-05),\n",
        "        ('say', 3.933291378225218e-05), ('scare', 3.933291378225218e-05),\n",
        "        ('goal', 3.933291378225218e-05), ('yelled', 3.933291378225218e-05),\n",
        "        ('like', 3.933291378224519e-05), ('feel', 3.933291378224519e-05),\n",
        "        ('let', 3.933291378224519e-05), ('punish', 3.933291378224519e-05),\n",
        "        ('bad', 3.933291378224519e-05), ('express', 3.933291378224519e-05),\n",
        "        ('wanted', 3.933291378224519e-05), ('make', 3.933291378221725e-05)], \n",
        "       dtype=[('word', 'S17'), ('value', '<f8')])]"
       ]
      }
     ],
     "prompt_number": 31
    },
    {
     "cell_type": "heading",
     "level": 3,
     "metadata": {},
     "source": [
      "Examining the distribution over topics that generated a given document"
     ]
    },
    {
     "cell_type": "markdown",
     "metadata": {},
     "source": [
      "Note that that according to the model, the 'accuse' document was generated by an even mixture of the 'blame/accuse' topic and the 'make feel bad' topic."
     ]
    },
    {
     "cell_type": "code",
     "collapsed": false,
     "input": [
      "lda_viewer.doc_topics('Verb: accuse', print_len=6)"
     ],
     "language": "python",
     "metadata": {},
     "outputs": [
      {
       "html": [
        "<table style=\"margin: 0\"><tr><th style=\"text-align: center; background: #CEE3F6\" colspan                    =\"2\">Document: Verb: accuse</th></tr><tr><th style=\"text-align: center; background: #EFF2FB; \">Topic                          </th><th style=\"text-align: center; background: #EFF2FB; \">Prob                          </th></tr><tr><td>3         </td><td>0.50445   </td></tr><tr><td>0         </td><td>0.49528   </td></tr><tr><td>2         </td><td>0.00009   </td></tr><tr><td>4         </td><td>0.00009   </td></tr><tr><td>1         </td><td>0.00009   </td></tr></table>"
       ],
       "metadata": {},
       "output_type": "pyout",
       "prompt_number": 32,
       "text": [
        "LabeledColumn([(3, 0.5044475011462631), (0, 0.49527739569005036),\n",
        "       (2, 9.170105456212748e-05), (4, 9.170105456212551e-05),\n",
        "       (1, 9.170105456210922e-05)], \n",
        "      dtype=[('i', '<i8'), ('value', '<f8')])"
       ]
      }
     ],
     "prompt_number": 32
    },
    {
     "cell_type": "heading",
     "level": 3,
     "metadata": {},
     "source": [
      "Distances from a given document to every other document"
     ]
    },
    {
     "cell_type": "code",
     "collapsed": false,
     "input": [
      "lda_viewer.sim_doc_doc('Verb: accuse', print_len=28)"
     ],
     "language": "python",
     "metadata": {},
     "outputs": [
      {
       "html": [
        "<table style=\"margin: 0\"><tr><th style=\"text-align: center; background: #CEE3F6\" colspan                    =\"4\">Documents: </th></tr><tr><th style=\"text-align: center; background: #EFF2FB; \">Document                    </th><th style=\"text-align: center; background: #EFF2FB; \">Value                    </th><th style=\"text-align: center; background: #EFF2FB; \">Document                    </th><th style=\"text-align: center; background: #EFF2FB; \">Value                    </th></tr><tr><td>Verb: accuse                </td><td>0.00000   </td><td>Verb: chide                 </td><td>5.90055   </td></tr><tr><td>Verb: blame                 </td><td>0.00046   </td><td>Verb: reprimand             </td><td>5.92736   </td></tr><tr><td>Verb: reproach              </td><td>0.07427   </td><td>Verb: object-to             </td><td>5.95651   </td></tr><tr><td>Verb: denounce              </td><td>0.08097   </td><td>Verb: rebuke                </td><td>5.99077   </td></tr><tr><td>Verb: chastise              </td><td>0.09679   </td><td>Verb: castigate             </td><td>5.99910   </td></tr><tr><td>Verb: revile                </td><td>0.09980   </td><td>Verb: censure               </td><td>6.00352   </td></tr><tr><td>Verb: find-fault-with       </td><td>1.07492   </td><td>Verb: disapprove-of         </td><td>6.01167   </td></tr><tr><td>Verb: point-the-finger      </td><td>1.19019   </td><td>Verb: read-the-riot-act     </td><td>6.05903   </td></tr><tr><td>Verb: scold                 </td><td>1.45925   </td><td>Verb: berate                </td><td>6.07604   </td></tr><tr><td>Verb: vilify                </td><td>1.90997   </td><td>Verb: tell-x-off            </td><td>6.10568   </td></tr><tr><td>Verb: admonish              </td><td>5.62310   </td><td>Verb: chew-out              </td><td>6.14240   </td></tr><tr><td>Verb: criticize             </td><td>5.71190   </td><td>Verb: let-x-have-it         </td><td>6.18646   </td></tr><tr><td>Verb: condemn               </td><td>5.74675   </td><td>Verb: lash-out-at           </td><td>6.35802   </td></tr><tr><td>Verb: slander               </td><td>5.83961   </td><td>Verb: attack                </td><td>6.37913   </td></tr></table>"
       ],
       "metadata": {},
       "output_type": "pyout",
       "prompt_number": 47,
       "text": [
        "LabeledColumn([('Verb: accuse', 0.0), ('Verb: blame', 0.0004647694922824243),\n",
        "       ('Verb: reproach', 0.07426619591027671),\n",
        "       ('Verb: denounce', 0.08096867477686419),\n",
        "       ('Verb: chastise', 0.09678923084864965),\n",
        "       ('Verb: revile', 0.09979873372389875),\n",
        "       ('Verb: find-fault-with', 1.0749236751656595),\n",
        "       ('Verb: point-the-finger', 1.1901930962838803),\n",
        "       ('Verb: scold', 1.4592490279630075),\n",
        "       ('Verb: vilify', 1.9099748713607403),\n",
        "       ('Verb: admonish', 5.623100513213264),\n",
        "       ('Verb: criticize', 5.711895851354073),\n",
        "       ('Verb: condemn', 5.746751733137119),\n",
        "       ('Verb: slander', 5.839612088163142),\n",
        "       ('Verb: chide', 5.900549181962493),\n",
        "       ('Verb: reprimand', 5.927355239818567),\n",
        "       ('Verb: object-to', 5.956511615639504),\n",
        "       ('Verb: rebuke', 5.990770313593543),\n",
        "       ('Verb: castigate', 5.999095580148395),\n",
        "       ('Verb: censure', 6.003518220873022),\n",
        "       ('Verb: disapprove-of', 6.011674878374156),\n",
        "       ('Verb: read-the-riot-act', 6.0590250205213305),\n",
        "       ('Verb: berate', 6.076040070270123),\n",
        "       ('Verb: tell-x-off', 6.105682368629143),\n",
        "       ('Verb: chew-out', 6.142397492290963),\n",
        "       ('Verb: let-x-have-it', 6.186464311939638),\n",
        "       ('Verb: lash-out-at', 6.358023093008388),\n",
        "       ('Verb: attack', 6.3791329931019)], \n",
        "      dtype=[('doc', 'S23'), ('value', '<f8')])"
       ]
      }
     ],
     "prompt_number": 47
    },
    {
     "cell_type": "heading",
     "level": 3,
     "metadata": {},
     "source": [
      "Distances from a word (viewed as a parameter to a categorical distribution over words) to topics"
     ]
    },
    {
     "cell_type": "markdown",
     "metadata": {},
     "source": [
      "Note that topics 0,1 and 4 are absent from this list. This indicates that by the current parameter estimates of the model, the word 'anger' is never drawn from these three distributions. "
     ]
    },
    {
     "cell_type": "code",
     "collapsed": false,
     "input": [
      "lda_viewer.sim_word_top('anger')"
     ],
     "language": "python",
     "metadata": {},
     "outputs": [
      {
       "html": [
        "<table style=\"margin: 0\"><tr><th style=\"text-align: center; background: #CEE3F6\" colspan            =\"11\">Sorted by Word Similarity</th></tr><tr><th style=\"text-align: center; background: #EFF2FB;\"                     >Topic</th><th style=\"text-align: center; background: #EFF2FB;\"                     >Words</th></tr><tr><td style=\"padding-left:0.75em;\">2</td><td> attack, lash-out-at, chew-out, tell-x-off, let-x-have-it, find-fault-with, anger, hurt, angry, relieve            </td></tr><tr><td style=\"padding-left:0.75em;\">3</td><td> make, feel, wanted, know, bad, let, wrong, criticize, actions, express            </td></tr></table>"
       ],
       "metadata": {},
       "output_type": "pyout",
       "prompt_number": 50,
       "text": [
        "CompactTable([[('attack', 0.08133983842199172),\n",
        "        ('lash-out-at', 0.07871681880180495),\n",
        "        ('chew-out', 0.07871681880180495),\n",
        "        ('tell-x-off', 0.07871681880180495),\n",
        "        ('let-x-have-it', 0.07871681880180495),\n",
        "        ('find-fault-with', 0.07871681880180495),\n",
        "        ('anger', 0.05773266184031079), ('hurt', 0.031502465638443104),\n",
        "        ('angry', 0.031502465638443104), ('relieve', 0.02887944601825633),\n",
        "        ('yelled', 0.02887944601825633),\n",
        "        ('verbally', 0.023633406777882792),\n",
        "        ('frustration', 0.021010387157696025),\n",
        "        ('situation', 0.018387367537509254),\n",
        "        ('expressing', 0.015764347917322483),\n",
        "        ('loudly', 0.015764347917322483), ('scare', 0.013141328297135714),\n",
        "        ('physically', 0.010518308676948945),\n",
        "        ('screamed', 0.007895289056762176),\n",
        "        ('violence', 0.007895289056762176), ('harm', 0.007895289056762176),\n",
        "        ('emotionally', 0.007895289056762176),\n",
        "        ('mad', 0.007895289056762176), ('rage', 0.007895289056762176),\n",
        "        ('manner', 0.007895289056762176), ('beat', 0.0052722694365754065),\n",
        "        ('became', 0.0052722694365754065),\n",
        "        ('communication', 0.0052722694365754065),\n",
        "        ('action', 0.0052722694365754065), ('like', 0.0052722694365754065),\n",
        "        ('messed', 0.0052722694365754065),\n",
        "        ('things', 0.0052722694365754065),\n",
        "        ('blamed', 0.0052722694365754065),\n",
        "        ('suffer', 0.0052722694365754065),\n",
        "        ('stress', 0.0052722694365754065), ('yell', 0.0052722694365754065),\n",
        "        ('skills', 0.0052722694365754065), ('loud', 0.0052722694365754065),\n",
        "        ('lot', 0.0052722694365754065),\n",
        "        ('inferior', 0.0052722694365754065),\n",
        "        ('viscous', 0.0052722694365754065),\n",
        "        ('afraid', 0.0052722694365754065),\n",
        "        ('effective', 0.0052722694365754065),\n",
        "        ('understand', 0.0052722694365754065),\n",
        "        ('detail', 0.0052722694365754065),\n",
        "        ('worthless', 0.0052722694365754065),\n",
        "        ('nowhere', 0.0052722694365754065),\n",
        "        ('name', 0.0052722694365754065), ('front', 0.0052722694365754065),\n",
        "        ('broken', 0.0052722694365754065),\n",
        "        ('talking', 0.002649249816388637),\n",
        "        ('character', 0.002649249816388637),\n",
        "        ('mean', 0.002649249816388637), ('goal', 0.0026492498163886366),\n",
        "        ('responsibility', 0.0026492498163886366),\n",
        "        ('cut', 0.0026492498163886366), ('guilt', 0.0026492498163886366),\n",
        "        ('likely', 0.0026492498163886366),\n",
        "        ('hopes', 0.0026492498163886366), ('boss', 0.0026492498163886366),\n",
        "        ('towards', 0.0026492498163886366),\n",
        "        ('lessen', 0.0026492498163886366),\n",
        "        ('talked', 0.0026492498163886366), ('held', 2.623019620186772e-05),\n",
        "        ('embarrass', 2.623019620186772e-05),\n",
        "        ('good', 2.623019620186772e-05), ('known', 2.623019620186772e-05),\n",
        "        ('want', 2.623019620186772e-05), ('public', 2.623019620186772e-05),\n",
        "        ('language', 2.623019620186772e-05),\n",
        "        ('adult', 2.623019620186772e-05),\n",
        "        ('values', 2.623019620186772e-05),\n",
        "        ('punishment', 2.623019620186772e-05),\n",
        "        ('feeling', 2.623019620186772e-05),\n",
        "        ('agree', 2.623019620186772e-05),\n",
        "        ('read-the-riot-act', 2.623019620186772e-05),\n",
        "        ('distance', 2.623019620186772e-05),\n",
        "        ('displeased', 2.623019620186772e-05),\n",
        "        ('discourage', 2.623019620186772e-05),\n",
        "        ('align', 2.623019620186772e-05), ('act', 2.623019620186772e-05),\n",
        "        ('others', 2.623019620186772e-05), ('pay', 2.623019620186772e-05),\n",
        "        ('alone', 2.623019620186772e-05), ('keep', 2.623019620186772e-05),\n",
        "        ('fun', 2.623019620186772e-05), ('would', 2.623019620186772e-05),\n",
        "        ('words', 2.623019620186772e-05), ('word', 2.623019620186772e-05),\n",
        "        ('needed', 2.623019620186772e-05),\n",
        "        ('found', 2.623019620186772e-05), ('going', 2.623019620186772e-05),\n",
        "        ('without', 2.623019620186772e-05),\n",
        "        ('find', 2.623019620186772e-05),\n",
        "        ('important', 2.623019620186772e-05),\n",
        "        ('feelings', 2.623019620186772e-05),\n",
        "        ('one', 2.623019620186772e-05), ('ones', 2.623019620186772e-05),\n",
        "        ('opinion', 2.623019620186772e-05),\n",
        "        ('disapprove-of', 2.623019620186772e-05),\n",
        "        ('disappointed', 2.623019620186772e-05),\n",
        "        ('mistakes', 2.623019620186772e-05),\n",
        "        ('criticize', 2.623019620186772e-05),\n",
        "        ('talk', 2.623019620186772e-05), ('less', 2.623019620186772e-05),\n",
        "        ('listen', 2.623019620186772e-05), ('tell', 2.623019620186772e-05),\n",
        "        ('compass', 2.623019620186772e-05),\n",
        "        ('lonely', 2.623019620186772e-05), ('look', 2.623019620186772e-05),\n",
        "        ('contempt', 2.623019620186772e-05),\n",
        "        ('serious', 2.623019620186772e-05),\n",
        "        ('sense', 2.623019620186772e-05), ('think', 2.623019620186772e-05),\n",
        "        ('scold', 2.623019620186772e-05),\n",
        "        ('remind', 2.623019620186772e-05),\n",
        "        ('assign', 2.623019620186772e-05), ('said', 2.623019620186772e-05),\n",
        "        ('sad', 2.623019620186772e-05), ('sorry', 2.623019620186772e-05),\n",
        "        ('around', 2.623019620186772e-05),\n",
        "        ('revile', 2.623019620186772e-05),\n",
        "        ('instructing', 2.623019620186772e-05),\n",
        "        ('approve', 2.623019620186772e-05),\n",
        "        ('truth', 2.623019620186772e-05), ('made', 2.623019620186772e-05),\n",
        "        ('destroy', 2.623019620186772e-05),\n",
        "        ('turn', 2.623019620186772e-05), ('cause', 2.623019620186772e-05),\n",
        "        ('repeated', 2.623019620186772e-05),\n",
        "        ('removing', 2.623019620186772e-05),\n",
        "        ('straight', 2.623019620186772e-05),\n",
        "        ('blame', 2.623019620186772e-05),\n",
        "        ('heard', 2.6230196201867695e-05),\n",
        "        ('happened', 2.6230196201867695e-05),\n",
        "        ('help', 2.6230196201867695e-05),\n",
        "        ('guide', 2.6230196201867695e-05),\n",
        "        ('happy', 2.6230196201867695e-05),\n",
        "        ('hoping', 2.6230196201867695e-05),\n",
        "        ('decision', 2.6230196201867695e-05),\n",
        "        ('give', 2.6230196201867695e-05),\n",
        "        ('badly', 2.6230196201867695e-05),\n",
        "        ('censure', 2.6230196201867695e-05),\n",
        "        ('castigated', 2.6230196201867695e-05),\n",
        "        ('castigate', 2.6230196201867695e-05),\n",
        "        ('cast', 2.6230196201867695e-05),\n",
        "        ('blaming', 2.6230196201867695e-05),\n",
        "        ('berate', 2.6230196201867695e-05),\n",
        "        ('behave', 2.6230196201867695e-05),\n",
        "        ('attention', 2.6230196201867695e-05),\n",
        "        ('future', 2.6230196201867695e-05),\n",
        "        ('ashamed', 2.6230196201867695e-05),\n",
        "        ('approvals', 2.6230196201867695e-05),\n",
        "        ('admonish', 2.6230196201867695e-05),\n",
        "        ('admit', 2.6230196201867695e-05),\n",
        "        ('accused', 2.6230196201867695e-05),\n",
        "        ('accuse', 2.6230196201867695e-05),\n",
        "        ('acceptable', 2.6230196201867695e-05),\n",
        "        ('chastise', 2.6230196201867695e-05),\n",
        "        ('chide', 2.6230196201867695e-05),\n",
        "        ('child', 2.6230196201867695e-05),\n",
        "        ('committed', 2.6230196201867695e-05),\n",
        "        ('finger', 2.6230196201867695e-05),\n",
        "        ('feedback', 2.6230196201867695e-05),\n",
        "        ('error', 2.6230196201867695e-05),\n",
        "        ('enough', 2.6230196201867695e-05),\n",
        "        ('encourage', 2.6230196201867695e-05),\n",
        "        ('discipline', 2.6230196201867695e-05),\n",
        "        ('disappointment', 2.6230196201867695e-05),\n",
        "        ('direct', 2.6230196201867695e-05),\n",
        "        ('deserved', 2.6230196201867695e-05),\n",
        "        ('denounce', 2.6230196201867695e-05),\n",
        "        ('decide', 2.6230196201867695e-05),\n",
        "        ('criminal', 2.6230196201867695e-05),\n",
        "        ('correct', 2.6230196201867695e-05),\n",
        "        ('consequences', 2.6230196201867695e-05),\n",
        "        ('condemn', 2.6230196201867695e-05),\n",
        "        ('innocent', 2.6230196201867695e-05),\n",
        "        ('letting', 2.6230196201867695e-05),\n",
        "        ('accept', 2.6230196201867695e-05),\n",
        "        ('place', 2.6230196201867695e-05),\n",
        "        ('superiority', 2.6230196201867695e-05),\n",
        "        ('must', 2.6230196201867695e-05),\n",
        "        ('trouble', 2.6230196201867695e-05),\n",
        "        ('tried', 2.6230196201867695e-05),\n",
        "        ('reprimand', 2.6230196201867695e-05),\n",
        "        ('nice', 2.6230196201867695e-05),\n",
        "        ('thought', 2.6230196201867695e-05),\n",
        "        ('object-to', 2.6230196201867695e-05),\n",
        "        ('remove', 2.6230196201867695e-05),\n",
        "        ('refuse', 2.6230196201867695e-05),\n",
        "        ('reproach', 2.6230196201867695e-05),\n",
        "        ('spend', 2.6230196201867695e-05),\n",
        "        ('reduced', 2.6230196201867695e-05),\n",
        "        ('redirect', 2.6230196201867695e-05),\n",
        "        ('rebuke', 2.6230196201867695e-05),\n",
        "        ('taught', 2.6230196201867695e-05),\n",
        "        ('point-the-finger', 2.6230196201867695e-05),\n",
        "        ('poorly', 2.6230196201867695e-05),\n",
        "        ('stupid', 2.6230196201867695e-05),\n",
        "        ('punished', 2.6230196201867695e-05),\n",
        "        ('try', 2.6230196201867695e-05),\n",
        "        ('morally', 2.6230196201867695e-05),\n",
        "        ('put', 2.6230196201867695e-05),\n",
        "        ('satisfy', 2.6230196201867695e-05),\n",
        "        ('warning', 2.6230196201867695e-05),\n",
        "        ('warn', 2.6230196201867695e-05),\n",
        "        ('level', 2.6230196201867695e-05),\n",
        "        ('responsible', 2.6230196201867695e-05),\n",
        "        ('villain', 2.6230196201867695e-05),\n",
        "        ('life', 2.6230196201867695e-05), ('say', 2.6230196201867695e-05),\n",
        "        ('vilify', 2.6230196201867695e-05),\n",
        "        ('matter', 2.6230196201867695e-05),\n",
        "        ('setting', 2.6230196201867695e-05),\n",
        "        ('maybe', 2.6230196201867695e-05),\n",
        "        ('silence', 2.6230196201867695e-05),\n",
        "        ('tsk', 2.6230196201867695e-05), ('knew', 2.6230196201867695e-05),\n",
        "        ('learn', 2.6230196201867695e-05),\n",
        "        ('call', 2.6230196201867136e-05), ('show', 2.6230196201867136e-05),\n",
        "        ('submission', 2.6230196201867136e-05),\n",
        "        ('showed', 2.6230196201867136e-05),\n",
        "        ('stop', 2.6230196201867136e-05),\n",
        "        ('change', 2.6230196201867136e-05),\n",
        "        ('spent', 2.6230196201867136e-05),\n",
        "        ('spending', 2.6230196201867136e-05),\n",
        "        ('showing', 2.6230196201867136e-05),\n",
        "        ('speak', 2.6230196201867136e-05),\n",
        "        ('something', 2.6230196201867136e-05),\n",
        "        ('slander', 2.6230196201867136e-05),\n",
        "        ('small', 2.6230196201867136e-05),\n",
        "        ('side', 2.6230196201867136e-05),\n",
        "        ('thing', 2.6230196201867136e-05),\n",
        "        ('sure', 2.6230196201867136e-05),\n",
        "        ('appropriate', 2.6230196201867136e-05),\n",
        "        ('wrong', 2.6230196201867136e-05),\n",
        "        ('accountable', 2.6230196201867136e-05),\n",
        "        ('way', 2.6230196201867136e-05), ('wants', 2.6230196201867136e-05),\n",
        "        ('actions', 2.6230196201867136e-05),\n",
        "        ('vent', 2.6230196201867136e-05),\n",
        "        ('validate', 2.6230196201867136e-05),\n",
        "        ('used', 2.6230196201867136e-05),\n",
        "        ('upset', 2.6230196201867136e-05),\n",
        "        ('trying', 2.6230196201867136e-05),\n",
        "        ('anymore', 2.6230196201867136e-05),\n",
        "        ('anything', 2.6230196201867136e-05),\n",
        "        ('told', 2.6230196201867136e-05),\n",
        "        ('better', 2.6230196201867136e-05),\n",
        "        ('time', 2.6230196201867136e-05),\n",
        "        ('attacked', 2.6230196201867136e-05),\n",
        "        ('thinks', 2.6230196201867136e-05),\n",
        "        ('aware', 2.6230196201867136e-05),\n",
        "        ('away', 2.6230196201867136e-05), ('bad', 2.6230196201867136e-05),\n",
        "        ('completely', 2.6230196201867136e-05),\n",
        "        ('telling', 2.6230196201867136e-05),\n",
        "        ('teach', 2.6230196201867136e-05),\n",
        "        ('behavior', 2.6230196201867136e-05),\n",
        "        ('belittle', 2.6230196201867136e-05),\n",
        "        ('take', 2.6230196201867136e-05),\n",
        "        ('shame', 2.6230196201867136e-05),\n",
        "        ('insult', 2.6230196201867136e-05),\n",
        "        ('shake', 2.6230196201867136e-05),\n",
        "        ('mistake', 2.6230196201867136e-05),\n",
        "        ('fault', 2.6230196201867136e-05),\n",
        "        ('person', 2.6230196201867136e-05),\n",
        "        ('felt', 2.6230196201867136e-05), ('next', 2.6230196201867136e-05),\n",
        "        ('never', 2.6230196201867136e-05),\n",
        "        ('follow', 2.6230196201867136e-05),\n",
        "        ('negative', 2.6230196201867136e-05),\n",
        "        ('moral', 2.6230196201867136e-05),\n",
        "        ('money', 2.6230196201867136e-05), ('get', 2.6230196201867136e-05),\n",
        "        ('getting', 2.6230196201867136e-05),\n",
        "        ('mind', 2.6230196201867136e-05),\n",
        "        ('point', 2.6230196201867136e-05),\n",
        "        ('means', 2.6230196201867136e-05),\n",
        "        ('meaning', 2.6230196201867136e-05),\n",
        "        ('guilty', 2.6230196201867136e-05),\n",
        "        ('making', 2.6230196201867136e-05),\n",
        "        ('hate', 2.6230196201867136e-05), ('hear', 2.6230196201867136e-05),\n",
        "        ('let', 2.6230196201867136e-05),\n",
        "        ('lesson', 2.6230196201867136e-05),\n",
        "        ('legal', 2.6230196201867136e-05),\n",
        "        ('humiliate', 2.6230196201867136e-05),\n",
        "        ('lay', 2.6230196201867136e-05),\n",
        "        ('seriously', 2.6230196201867136e-05),\n",
        "        ('eyes', 2.6230196201867136e-05),\n",
        "        ('expressed', 2.6230196201867136e-05),\n",
        "        ('really', 2.6230196201867136e-05),\n",
        "        ('control', 2.6230196201867136e-05),\n",
        "        ('scolded', 2.6230196201867136e-05),\n",
        "        ('could', 2.6230196201867136e-05),\n",
        "        ('ruin', 2.6230196201867136e-05),\n",
        "        ('right', 2.6230196201867136e-05),\n",
        "        ('revenge', 2.6230196201867136e-05),\n",
        "        ('judge', 2.6230196201867136e-05),\n",
        "        ('reprimanded', 2.6230196201867136e-05),\n",
        "        ('disagreed', 2.6230196201867136e-05),\n",
        "        ('disapproval', 2.6230196201867136e-05),\n",
        "        ('disapproved', 2.6230196201867136e-05),\n",
        "        ('express', 2.6230196201867136e-05),\n",
        "        ('disgust', 2.6230196201867136e-05),\n",
        "        ('realize', 2.6230196201867136e-05),\n",
        "        ('distaste', 2.6230196201867136e-05),\n",
        "        ('done', 2.6230196201867136e-05),\n",
        "        ('educate', 2.6230196201867136e-05),\n",
        "        ('punish', 2.6230196201867136e-05),\n",
        "        ('publicly', 2.6230196201867136e-05),\n",
        "        ('errors', 2.6230196201867136e-05),\n",
        "        ('even', 2.6230196201867136e-05),\n",
        "        ('everything', 2.6230196201867136e-05),\n",
        "        ('evil', 2.6230196201867136e-05),\n",
        "        ('expected', 2.6230196201867136e-05),\n",
        "        ('reputation', 2.6230196201867136e-05),\n",
        "        ('make', 2.6230196201862477e-05),\n",
        "        ('wanted', 2.6230196201862477e-05),\n",
        "        ('feel', 2.6230196201862477e-05), ('know', 2.6230196201862477e-05)],\n",
        "       [('make', 0.08262749599255913), ('feel', 0.05739546021254286),\n",
        "        ('wanted', 0.05442698541489389), ('know', 0.047995290019987785),\n",
        "        ('bad', 0.04403732362312249), ('let', 0.02820545803566131),\n",
        "        ('wrong', 0.018310542043498072),\n",
        "        ('criticize', 0.017321050444281748),\n",
        "        ('actions', 0.017321050444281748),\n",
        "        ('express', 0.016826304644673586), ('done', 0.016826304644673586),\n",
        "        ('behavior', 0.016331558845065423), ('like', 0.0153420672458491),\n",
        "        ('slander', 0.014847321446240938),\n",
        "        ('admonish', 0.014847321446240938),\n",
        "        ('condemn', 0.014847321446240938), ('wants', 0.014352575646632776),\n",
        "        ('show', 0.013857829847024616), ('change', 0.012868338247808291),\n",
        "        ('disapproval', 0.011878846648591967),\n",
        "        ('thing', 0.011384100848983805), ('guilty', 0.011384100848983805),\n",
        "        ('get', 0.011384100848983805), ('punish', 0.011384100848983805),\n",
        "        ('others', 0.00989986345015932), ('control', 0.008415626051334833),\n",
        "        ('means', 0.008415626051334833), ('way', 0.007920880251726672),\n",
        "        ('belittle', 0.007920880251726672),\n",
        "        ('mistake', 0.00742613445211851), ('approve', 0.00742613445211851),\n",
        "        ('things', 0.007426134452118509), ('would', 0.007426134452118509),\n",
        "        ('better', 0.006931388652510349), ('teach', 0.006436642852902187),\n",
        "        ('made', 0.006436642852902187), ('aware', 0.006436642852902187),\n",
        "        ('something', 0.006436642852902187),\n",
        "        ('scold', 0.006436642852902186), ('look', 0.005941897053294024),\n",
        "        ('put', 0.005941897053294024), ('moral', 0.0059418970532940235),\n",
        "        ('give', 0.005447151253685863), ('sure', 0.005447151253685863),\n",
        "        ('scolded', 0.005447151253685863), ('money', 0.005447151253685863),\n",
        "        ('stop', 0.004952405454077701), ('felt', 0.004952405454077701),\n",
        "        ('tell', 0.004952405454077701), ('anger', 0.004952405454077701),\n",
        "        ('frustration', 0.0049524054540777),\n",
        "        ('right', 0.0044576596544695386), ('take', 0.0044576596544695386),\n",
        "        ('try', 0.0044576596544695386),\n",
        "        ('embarrass', 0.0044576596544695386),\n",
        "        ('person', 0.003962913854861377), ('upset', 0.003962913854861377),\n",
        "        ('shame', 0.003962913854861377), ('realize', 0.003962913854861377),\n",
        "        ('yell', 0.003468168055253215), ('feelings', 0.003468168055253215),\n",
        "        ('agree', 0.003468168055253215),\n",
        "        ('disapproved', 0.003468168055253215),\n",
        "        ('child', 0.003468168055253215),\n",
        "        ('publicly', 0.003468168055253215),\n",
        "        ('trying', 0.003468168055253215), ('vent', 0.003468168055253215),\n",
        "        ('lesson', 0.002973422255645053), ('told', 0.002973422255645053),\n",
        "        ('could', 0.002973422255645053),\n",
        "        ('compass', 0.0024786764560368914),\n",
        "        ('away', 0.0024786764560368914),\n",
        "        ('mistakes', 0.0024786764560368914),\n",
        "        ('badly', 0.0024786764560368914), ('said', 0.0024786764560368914),\n",
        "        ('place', 0.0024786764560368914), ('one', 0.0024786764560368914),\n",
        "        ('speak', 0.0024786764560368914), ('align', 0.0024786764560368914),\n",
        "        ('correct', 0.0024786764560368914),\n",
        "        ('talk', 0.0024786764560368914), ('ones', 0.001983930656428729),\n",
        "        ('needed', 0.001983930656428729), ('never', 0.001983930656428729),\n",
        "        ('time', 0.001983930656428729), ('knew', 0.001983930656428729),\n",
        "        ('sense', 0.001983930656428729), ('opinion', 0.001983930656428729),\n",
        "        ('telling', 0.001983930656428729),\n",
        "        ('thinks', 0.001983930656428729),\n",
        "        ('punishment', 0.001983930656428729),\n",
        "        ('punished', 0.001983930656428729), ('keep', 0.001983930656428729),\n",
        "        ('even', 0.001983930656428729), ('judge', 0.001983930656428729),\n",
        "        ('distance', 0.001983930656428729),\n",
        "        ('decision', 0.001983930656428729),\n",
        "        ('showed', 0.001983930656428729),\n",
        "        ('reprimanded', 0.001983930656428729),\n",
        "        ('used', 0.0014891848568205674),\n",
        "        ('discipline', 0.0014891848568205674),\n",
        "        ('think', 0.0014891848568205674), ('words', 0.0014891848568205674),\n",
        "        ('word', 0.0014891848568205674),\n",
        "        ('accountable', 0.0014891848568205674),\n",
        "        ('disappointment', 0.0014891848568205674),\n",
        "        ('matter', 0.0014891848568205674),\n",
        "        ('manner', 0.0014891848568205674),\n",
        "        ('discourage', 0.0014891848568205674),\n",
        "        ('alone', 0.0014891848568205674), ('known', 0.0014891848568205674),\n",
        "        ('negative', 0.0014891848568205674),\n",
        "        ('mind', 0.0014891848568205674), ('values', 0.0014891848568205674),\n",
        "        ('morally', 0.0014891848568205674),\n",
        "        ('lonely', 0.0014891848568205674),\n",
        "        ('satisfy', 0.0014891848568205674),\n",
        "        ('straight', 0.0014891848568205674),\n",
        "        ('completely', 0.0014891848568205674),\n",
        "        ('revenge', 0.0014891848568205674),\n",
        "        ('criminal', 0.0014891848568205674),\n",
        "        ('future', 0.0014891848568205674), ('hear', 0.0014891848568205674),\n",
        "        ('feeling', 0.0014891848568205674), ('say', 0.0014891848568205674),\n",
        "        ('reputation', 0.0014891848568205674),\n",
        "        ('seriously', 0.0014891848568205674),\n",
        "        ('everything', 0.0014891848568205674),\n",
        "        ('errors', 0.0014891848568205674),\n",
        "        ('error', 0.0014891848568205674),\n",
        "        ('serious', 0.0014891848568205674),\n",
        "        ('cast', 0.0009944390572124053),\n",
        "        ('contempt', 0.0009944390572124053),\n",
        "        ('find', 0.0009944390572124053), ('legal', 0.0009944390572124053),\n",
        "        ('likely', 0.0009944390572124053),\n",
        "        ('consequences', 0.0009944390572124053),\n",
        "        ('direct', 0.0009944390572124053), ('lay', 0.0009944390572124053),\n",
        "        ('instructing', 0.0009944390572124053),\n",
        "        ('educate', 0.0009944390572124053),\n",
        "        ('distaste', 0.0009944390572124053),\n",
        "        ('listen', 0.0009944390572124053),\n",
        "        ('guide', 0.0009944390572124053),\n",
        "        ('encourage', 0.0009944390572124053),\n",
        "        ('feedback', 0.0009944390572124053),\n",
        "        ('eyes', 0.0009944390572124053), ('happy', 0.0009944390572124053),\n",
        "        ('expressed', 0.0009944390572124053),\n",
        "        ('language', 0.0009944390572124053),\n",
        "        ('heard', 0.0009944390572124053), ('evil', 0.0009944390572124053),\n",
        "        ('held', 0.0009944390572124053), ('enough', 0.0009944390572124053),\n",
        "        ('important', 0.0009944390572124053),\n",
        "        ('character', 0.0009944390572124053),\n",
        "        ('insult', 0.0009944390572124053),\n",
        "        ('letting', 0.0009944390572124053),\n",
        "        ('ruin', 0.0009944390572124053), ('sorry', 0.0009944390572124053),\n",
        "        ('remind', 0.0009944390572124053),\n",
        "        ('attacked', 0.0009944390572124053),\n",
        "        ('repeated', 0.0009944390572124053),\n",
        "        ('sad', 0.0009944390572124053), ('ashamed', 0.0009944390572124053),\n",
        "        ('setting', 0.0009944390572124053),\n",
        "        ('around', 0.0009944390572124053), ('side', 0.0009944390572124053),\n",
        "        ('silence', 0.0009944390572124053),\n",
        "        ('approvals', 0.0009944390572124053),\n",
        "        ('small', 0.0009944390572124053),\n",
        "        ('appropriate', 0.0009944390572124053),\n",
        "        ('reduced', 0.0009944390572124053),\n",
        "        ('spending', 0.0009944390572124053),\n",
        "        ('spent', 0.0009944390572124053),\n",
        "        ('stupid', 0.0009944390572124053),\n",
        "        ('submission', 0.0009944390572124053),\n",
        "        ('superiority', 0.0009944390572124053),\n",
        "        ('talked', 0.0009944390572124053), ('turn', 0.0009944390572124053),\n",
        "        ('understand', 0.0009944390572124053),\n",
        "        ('admit', 0.0009944390572124053),\n",
        "        ('action', 0.0009944390572124053), ('act', 0.0009944390572124053),\n",
        "        ('relieve', 0.0009944390572124053),\n",
        "        ('deserved', 0.0009944390572124053),\n",
        "        ('pay', 0.0009944390572124053), ('destroy', 0.0009944390572124053),\n",
        "        ('nice', 0.0009944390572124053), ('poorly', 0.0009944390572124053),\n",
        "        ('behave', 0.0009944390572124053),\n",
        "        ('making', 0.0009944390572124053),\n",
        "        ('public', 0.0009944390572124053),\n",
        "        ('fault', 0.0004996932576042434),\n",
        "        ('situation', 0.0004996932576042434),\n",
        "        ('help', 0.0004996932576042434), ('goal', 0.0004996932576042434),\n",
        "        ('blamed', 0.0004996932576042434),\n",
        "        ('talking', 0.0004996932576042434),\n",
        "        ('inferior', 0.0004996932576042434),\n",
        "        ('boss', 0.0004996932576042434),\n",
        "        ('disappointed', 0.0004996932576042434),\n",
        "        ('really', 0.0004996932576042434),\n",
        "        ('angry', 4.947457996081624e-06),\n",
        "        ('censure', 4.947457996081624e-06),\n",
        "        ('expressing', 4.947457996081624e-06),\n",
        "        ('let-x-have-it', 4.947457996081624e-06),\n",
        "        ('castigate', 4.947457996081624e-06),\n",
        "        ('disapprove-of', 4.947457996081624e-06),\n",
        "        ('find-fault-with', 4.947457996081624e-06),\n",
        "        ('read-the-riot-act', 4.947457996081624e-06),\n",
        "        ('physically', 4.947457996081624e-06),\n",
        "        ('point-the-finger', 4.947457996081624e-06),\n",
        "        ('scare', 4.947457996081624e-06),\n",
        "        ('responsible', 4.947457996081624e-06),\n",
        "        ('chastise', 4.947457996081624e-06),\n",
        "        ('harm', 4.947457996081619e-06), ('vilify', 4.947457996081619e-06),\n",
        "        ('decide', 4.947457996081619e-06),\n",
        "        ('emotionally', 4.947457996081619e-06),\n",
        "        ('villain', 4.947457996081619e-06),\n",
        "        ('violence', 4.947457996081619e-06),\n",
        "        ('attack', 4.947457996081619e-06),\n",
        "        ('reproach', 4.947457996081619e-06),\n",
        "        ('accused', 4.947457996081619e-06),\n",
        "        ('chew-out', 4.947457996081619e-06),\n",
        "        ('accuse', 4.947457996081619e-06),\n",
        "        ('berate', 4.947457996081619e-06),\n",
        "        ('revile', 4.947457996081619e-06),\n",
        "        ('denounce', 4.947457996081619e-06),\n",
        "        ('object-to', 4.947457996081619e-06),\n",
        "        ('committed', 4.9474579960815135e-06),\n",
        "        ('chide', 4.9474579960815135e-06),\n",
        "        ('acceptable', 4.9474579960815135e-06),\n",
        "        ('blaming', 4.9474579960815135e-06),\n",
        "        ('afraid', 4.9474579960815135e-06),\n",
        "        ('communication', 4.9474579960815135e-06),\n",
        "        ('cut', 4.9474579960815135e-06), ('adult', 4.9474579960815135e-06),\n",
        "        ('beat', 4.9474579960815135e-06),\n",
        "        ('attention', 4.9474579960815135e-06),\n",
        "        ('castigated', 4.9474579960815135e-06),\n",
        "        ('anymore', 4.9474579960815135e-06),\n",
        "        ('cause', 4.9474579960815135e-06),\n",
        "        ('blame', 4.9474579960815135e-06),\n",
        "        ('anything', 4.9474579960815135e-06),\n",
        "        ('assign', 4.9474579960815135e-06),\n",
        "        ('broken', 4.9474579960815135e-06),\n",
        "        ('became', 4.9474579960815135e-06),\n",
        "        ('call', 4.9474579960815135e-06),\n",
        "        ('yelled', 4.9474579960815135e-06),\n",
        "        ('detail', 4.9474579960815135e-06),\n",
        "        ('disagreed', 4.9474579960815135e-06),\n",
        "        ('skills', 4.9474579960815135e-06),\n",
        "        ('showing', 4.9474579960815135e-06),\n",
        "        ('shake', 4.9474579960815135e-06),\n",
        "        ('screamed', 4.9474579960815135e-06),\n",
        "        ('responsibility', 4.9474579960815135e-06),\n",
        "        ('reprimand', 4.9474579960815135e-06),\n",
        "        ('removing', 4.9474579960815135e-06),\n",
        "        ('remove', 4.9474579960815135e-06),\n",
        "        ('refuse', 4.9474579960815135e-06),\n",
        "        ('redirect', 4.9474579960815135e-06),\n",
        "        ('rebuke', 4.9474579960815135e-06),\n",
        "        ('rage', 4.9474579960815135e-06),\n",
        "        ('point', 4.9474579960815135e-06),\n",
        "        ('nowhere', 4.9474579960815135e-06),\n",
        "        ('next', 4.9474579960815135e-06),\n",
        "        ('spend', 4.9474579960815135e-06),\n",
        "        ('stress', 4.9474579960815135e-06),\n",
        "        ('suffer', 4.9474579960815135e-06),\n",
        "        ('verbally', 4.9474579960815135e-06),\n",
        "        ('worthless', 4.9474579960815135e-06),\n",
        "        ('without', 4.9474579960815135e-06),\n",
        "        ('warning', 4.9474579960815135e-06),\n",
        "        ('warn', 4.9474579960815135e-06), ('want', 4.9474579960815135e-06),\n",
        "        ('viscous', 4.9474579960815135e-06),\n",
        "        ('validate', 4.9474579960815135e-06),\n",
        "        ('taught', 4.9474579960815135e-06),\n",
        "        ('tsk', 4.9474579960815135e-06), ('truth', 4.9474579960815135e-06),\n",
        "        ('trouble', 4.9474579960815135e-06),\n",
        "        ('tried', 4.9474579960815135e-06),\n",
        "        ('towards', 4.9474579960815135e-06),\n",
        "        ('thought', 4.9474579960815135e-06),\n",
        "        ('name', 4.9474579960815135e-06), ('must', 4.9474579960815135e-06),\n",
        "        ('messed', 4.9474579960815135e-06),\n",
        "        ('front', 4.9474579960815135e-06),\n",
        "        ('happened', 4.9474579960815135e-06),\n",
        "        ('guilt', 4.9474579960815135e-06),\n",
        "        ('good', 4.9474579960815135e-06),\n",
        "        ('going', 4.9474579960815135e-06),\n",
        "        ('getting', 4.9474579960815135e-06),\n",
        "        ('fun', 4.9474579960815135e-06), ('found', 4.9474579960815135e-06),\n",
        "        ('meaning', 4.9474579960815135e-06),\n",
        "        ('follow', 4.9474579960815135e-06),\n",
        "        ('finger', 4.9474579960815135e-06),\n",
        "        ('expected', 4.9474579960815135e-06),\n",
        "        ('effective', 4.9474579960815135e-06),\n",
        "        ('displeased', 4.9474579960815135e-06),\n",
        "        ('disgust', 4.9474579960815135e-06),\n",
        "        ('hate', 4.9474579960815135e-06),\n",
        "        ('hopes', 4.9474579960815135e-06),\n",
        "        ('hoping', 4.9474579960815135e-06),\n",
        "        ('humiliate', 4.9474579960815135e-06),\n",
        "        ('mean', 4.9474579960815135e-06),\n",
        "        ('maybe', 4.9474579960815135e-06), ('mad', 4.9474579960815135e-06),\n",
        "        ('loudly', 4.9474579960815135e-06),\n",
        "        ('loud', 4.9474579960815135e-06), ('lot', 4.9474579960815135e-06),\n",
        "        ('life', 4.9474579960815135e-06),\n",
        "        ('level', 4.9474579960815135e-06),\n",
        "        ('lessen', 4.9474579960815135e-06),\n",
        "        ('less', 4.9474579960815135e-06),\n",
        "        ('learn', 4.9474579960815135e-06),\n",
        "        ('lash-out-at', 4.9474579960815135e-06),\n",
        "        ('innocent', 4.9474579960815135e-06),\n",
        "        ('hurt', 4.9474579960815135e-06),\n",
        "        ('accept', 4.9474579960815135e-06),\n",
        "        ('tell-x-off', 4.947457996080635e-06)]], \n",
        "      dtype=[('word', 'S17'), ('value', '<f8')])"
       ]
      }
     ],
     "prompt_number": 50
    },
    {
     "cell_type": "heading",
     "level": 1,
     "metadata": {},
     "source": [
      "Clustering"
     ]
    },
    {
     "cell_type": "code",
     "collapsed": false,
     "input": [
      "dataset = lda_viewer.dismat_docs()"
     ],
     "language": "python",
     "metadata": {},
     "outputs": [],
     "prompt_number": 51
    },
    {
     "cell_type": "code",
     "collapsed": false,
     "input": [
      "dataset.isomap()"
     ],
     "language": "python",
     "metadata": {},
     "outputs": [],
     "prompt_number": 52
    },
    {
     "cell_type": "code",
     "collapsed": false,
     "input": [
      "print dataset.KMeans(n_clusters=6)"
     ],
     "language": "python",
     "metadata": {},
     "outputs": [
      {
       "output_type": "stream",
       "stream": "stdout",
       "text": [
        "Initialization complete\n",
        "Iteration  0, inertia 0.082\n",
        "Iteration  1, inertia 0.077\n",
        "Converged at iteration 1\n",
        "[['0', '1', '4', '5', '6', '7', '8', '9', '10', '11', '12', '13', '17', '18', '20', '21', '22', '23', '25', '26'], ['3', '19'], ['24'], ['14'], ['2', '15', '16'], ['27']]\n"
       ]
      }
     ],
     "prompt_number": 55
    },
    {
     "cell_type": "code",
     "collapsed": false,
     "input": [
      "dataset.plot()"
     ],
     "language": "python",
     "metadata": {},
     "outputs": [
      {
       "metadata": {},
       "output_type": "display_data",
       "png": "[encoded data removed]",
       "text": [
        "<matplotlib.figure.Figure at 0x7f46a2d3be50>"
       ]
      }
     ],
     "prompt_number": 54
    },
    {
     "cell_type": "code",
     "collapsed": false,
     "input": [],
     "language": "python",
     "metadata": {},
     "outputs": []
    }
   ],
   "metadata": {}
  }
 ]
}