{
 "metadata": {
  "name": "",
  "signature": "sha256:8404e488fd8630d44e7507ba1bb61bf5bff40e712fd60a48088b8065500d6ac9"
 },
 "nbformat": 3,
 "nbformat_minor": 0,
 "worksheets": [
  {
   "cells": [
    {
     "cell_type": "markdown",
     "metadata": {},
     "source": [
      "# Duplicate Detection Experiments\n",
      "This notebook contains an experiment for duplicate detection using the notebook interface"
     ]
    },
    {
     "cell_type": "code",
     "collapsed": false,
     "input": [
      "from vsm.corpus import Corpus\n",
      "from vsm.model.beaglecomposite import BeagleComposite\n",
      "from vsm.viewer.beagleviewer import BeagleViewer\n",
      "from vsm.model.ldacgsmulti import LdaCgsMulti as LCM\n",
      "from vsm.viewer.ldagibbsviewer import LDAGibbsViewer as LDAViewer\n",
      "\n",
      "path ='/var/inphosemantics/data/20130101/htrc-anthropomorphism-1315/vsm-data/hathi-1315-nltk-freq3'\n",
      "lda_c = Corpus.load(path + '.npz')\n",
      "lda_m = None\n",
      "lda_v = None\n",
      "def load_model(k):\n",
      "    global lda_m, lda_v\n",
      "    lda_m = LCM.load(path + '-LDA-K%d-500.npz' % k)\n",
      "    lda_v = LDAViewer(lda_c, lda_m)\n",
      "\n",
      "load_model(20)"
     ],
     "language": "python",
     "metadata": {},
     "outputs": [
      {
       "output_type": "stream",
       "stream": "stdout",
       "text": [
        "Loading corpus from /var/inphosemantics/data/20130101/htrc-anthropomorphism-1315/vsm-data/hathi-1315-nltk-freq3.npz\n",
        "Loading LDA data from"
       ]
      },
      {
       "output_type": "stream",
       "stream": "stdout",
       "text": [
        " /var/inphosemantics/data/20130101/htrc-anthropomorphism-1315/vsm-data/hathi-1315-nltk-freq3-LDA-K20-500.npz\n"
       ]
      }
     ],
     "prompt_number": 89
    },
    {
     "cell_type": "code",
     "collapsed": false,
     "input": [
      "import vsm.viewer.ldacgsviewer\n",
      "from vsm.extensions.htrc import htrc_label_fn_1315, htrc_get_titles\n",
      "#help(vsm.viewer.ldacgsviewer.LdaCgsViewer)[]\n",
      "data = lda_v.dist_doc_doc('uc2.ark+=13960=t0wp9w83z', label_fn=htrc_label_fn_1315)[:10]\n",
      "for doc, p in data:\n",
      "    print p, doc"
     ],
     "language": "python",
     "metadata": {},
     "outputs": [
      {
       "output_type": "stream",
       "stream": "stdout",
       "text": [
        "0.0 Obstacles to peace, by S. S. McClure.\n",
        "0.0390041359166 Obstacles to peace,\n",
        "0.0403695395663 Obstacles to peace,\n",
        "0.169931733488 Japan or Germany; the inside story of the struggle in Siberi\n",
        "0.173761724327 Japan or Germany; the inside story of the struggle in Siberi\n",
        "0.19294062079 The Mexican people: their struggle for freedom\n",
        "0.230616901268 Hesitations, the American crisis and the war,\n",
        "0.252896547107 The battle of the Marne,\n",
        "0.256927138021 The Possibilities of the Negro in symposium.\n",
        "0.26287913683 The war and world opinion,\n"
       ]
      }
     ],
     "prompt_number": 140
    },
    {
     "cell_type": "code",
     "collapsed": false,
     "input": [
      "doc = 'uc2.ark+=13960=t0wp9w83z'\n",
      "def find_duplicates(doc, thresh=0.1):\n",
      "    sim = lda_v.dist_doc_doc(doc)\n",
      "    sim = sim[sim['value'] < thresh]\n",
      "    return sim[sim['value'] > 0.0]\n",
      "\n",
      "def find_all_duplicates(thresh):\n",
      "    docs = lda_v.corpus.view_metadata('book')['book_label']\n",
      "    dup_vols = set()\n",
      "    duplicates = set()\n",
      "    for doc in docs:\n",
      "        dups = find_duplicates(doc, thresh)['doc'].tolist()\n",
      "        if len(dups):\n",
      "            dups.append(doc)\n",
      "            dup_vols.update(dups)\n",
      "            duplicates.add(tuple(sorted(dups)))\n",
      "    return (dup_vols, duplicates)"
     ],
     "language": "python",
     "metadata": {},
     "outputs": [],
     "prompt_number": 91
    },
    {
     "cell_type": "code",
     "collapsed": false,
     "input": [
      "import pylab"
     ],
     "language": "python",
     "metadata": {},
     "outputs": [],
     "prompt_number": 92
    },
    {
     "cell_type": "code",
     "collapsed": false,
     "input": [
      "xs = [0.01*i for i in range(1,26)]\n",
      "duplicates = [find_all_duplicates(x) for x in xs]\n",
      "vols = [len(dups[0]) for dups in duplicates]\n",
      "sets = [len(dups[1]) for dups in duplicates]\n",
      "diff = [len(dups[0]) - len(dups[1]) for dups in duplicates]\n"
     ],
     "language": "python",
     "metadata": {},
     "outputs": [],
     "prompt_number": 93
    },
    {
     "cell_type": "code",
     "collapsed": false,
     "input": [
      "avg_dup_size = [sum([len(d) for d in dups[1]])/float(len(dups[1])) for dups in duplicates]"
     ],
     "language": "python",
     "metadata": {},
     "outputs": [],
     "prompt_number": 95
    },
    {
     "cell_type": "code",
     "collapsed": false,
     "input": [
      "pylab.figure(figsize=(12,9))\n",
      "ax = pylab.gca()\n",
      "pylab.plot(xs, vols, label=\"# Volumes\", c='green')\n",
      "pylab.plot(xs, sets, label=\"# Sets\", c='blue')\n",
      "pylab.plot(xs, diff, label=\"Differece\", c='red', linestyle='--')\n",
      "pylab.title('Duplicate Volume Detection')\n",
      "pylab.xlim([0.01,0.25])\n",
      "pylab.ylim([0,800])\n",
      "\n",
      "\n",
      "pylab.twinx()\n",
      "ax2 = pylab.gca()\n",
      "pylab.plot(xs, avg_dup_size, label=\"Avg Set Size\", linestyle=':', c='red')\n",
      "pylab.xlabel('Threshold')\n",
      "pylab.ylabel('Number')\n",
      "pylab.xlim([0.01,0.25])\n",
      "\n",
      "handles, labels = ax.get_legend_handles_labels()\n",
      "handles2, labels2 = ax2.get_legend_handles_labels()\n",
      "handles.extend(handles2)\n",
      "labels.extend(labels2)\n",
      "pylab.legend(handles, labels)\n",
      "\n",
      "pylab.show()"
     ],
     "language": "python",
     "metadata": {},
     "outputs": [
      {
       "metadata": {},
       "output_type": "display_data",
       "png": "[encoded data removed]",
       "text": [
        "<matplotlib.figure.Figure at 0x780d950>"
       ]
      }
     ],
     "prompt_number": 133
    },
    {
     "cell_type": "markdown",
     "metadata": {},
     "source": [
      "Now that we have a distribution graph, let's pick an arbitrary cutoff, say 0.05 (index 4), and print the texts so we can select volumes to remove."
     ]
    },
    {
     "cell_type": "code",
     "collapsed": false,
     "input": [
      "dup_vols, dups = duplicates[4]\n",
      "def get_titles(doc_ids):\n",
      "    md = lda_v.corpus.view_metadata('book') \n",
      "    label = htrc_label_fn_1315(md)\n",
      "    return [label[md['book_label']==doc_id][0] for doc_id in doc_ids]\n",
      "\n",
      "for i,row in enumerate(dups):\n",
      "    print i, get_titles(row)"
     ],
     "language": "python",
     "metadata": {},
     "outputs": [
      {
       "output_type": "stream",
       "stream": "stdout",
       "text": [
        "0 "
       ]
      },
      {
       "output_type": "stream",
       "stream": "stdout",
       "text": [
        "['An introduction to the study of labor problems /', 'An introduction to the study of labor problems,']\n",
        "1 "
       ]
      },
      {
       "output_type": "stream",
       "stream": "stdout",
       "text": [
        "['Practical elements of elocution', 'Practical elements of elocution ...']\n",
        "2 "
       ]
      },
      {
       "output_type": "stream",
       "stream": "stdout",
       "text": [
        "['Catalogue.', 'Catalogue.']\n",
        "3 "
       ]
      },
      {
       "output_type": "stream",
       "stream": "stdout",
       "text": [
        "['The American engineers in France,', 'The American engineers in France,']\n",
        "4 "
       ]
      },
      {
       "output_type": "stream",
       "stream": "stdout",
       "text": [
        "['Catalogue.', 'Catalogue.', 'Catalogue.', 'Catalogue.', 'Catalogue.']\n",
        "5 "
       ]
      },
      {
       "output_type": "stream",
       "stream": "stdout",
       "text": [
        "['The psychic life of micro-organisms. A study in experimental', 'The psychic life of micro-organisms : a study in experimenta']\n",
        "6 "
       ]
      },
      {
       "output_type": "stream",
       "stream": "stdout",
       "text": [
        "['A comparative study of the play activities of adult savages ', 'A comparative study of the play activities of adult savages ', 'A comparative study of the play activities of adult savages ']\n",
        "7 "
       ]
      },
      {
       "output_type": "stream",
       "stream": "stdout",
       "text": [
        "['The evolution of states; an introduction to English politics', 'The evolution of states; an introduction to English politics']\n",
        "8 "
       ]
      },
      {
       "output_type": "stream",
       "stream": "stdout",
       "text": [
        "['Methods of teaching in high schools /', 'Methods of teaching in high schools /']\n",
        "9 "
       ]
      },
      {
       "output_type": "stream",
       "stream": "stdout",
       "text": [
        "['International congress of arts and science,', 'International Congress of Arts and Science.']\n",
        "10 "
       ]
      },
      {
       "output_type": "stream",
       "stream": "stdout",
       "text": [
        "['The mechanism of the brain and the function of the frontal l', 'The Mechanism of the brain and the function of the frontal l']\n",
        "11 "
       ]
      },
      {
       "output_type": "stream",
       "stream": "stdout",
       "text": [
        "['A realistic universe; an introd. to metaphysics.', 'A realistic universe; an introd. to metaphysics.']\n",
        "12 "
       ]
      },
      {
       "output_type": "stream",
       "stream": "stdout",
       "text": [
        "['An introduction to social psychology,', 'An introduction to social psychology.']\n",
        "13 "
       ]
      },
      {
       "output_type": "stream",
       "stream": "stdout",
       "text": [
        "['Principles of accounting,', 'Principles of accounting,']\n",
        "14 "
       ]
      },
      {
       "output_type": "stream",
       "stream": "stdout",
       "text": [
        "['Historical philosophy in France and French Belgium and Switz', 'Historical philosophy in France and French Belgium and Switz', 'Historical philosophy in France and French Belgium and Switz']\n",
        "15 "
       ]
      },
      {
       "output_type": "stream",
       "stream": "stdout",
       "text": [
        "['Personality, human and divine.', 'Personality, human and divine; being the Bampton lectures fo']\n",
        "16 "
       ]
      },
      {
       "output_type": "stream",
       "stream": "stdout",
       "text": [
        "['English lyrical poetry : from its origins to the present tim', 'English lyrical poetry : from its origins to the present tim']\n",
        "17 "
       ]
      },
      {
       "output_type": "stream",
       "stream": "stdout",
       "text": [
        "['Education for social efficiency;', 'Education for social efficiency;']\n",
        "18 "
       ]
      },
      {
       "output_type": "stream",
       "stream": "stdout",
       "text": [
        "['A preliminary bibliography of modern criminal law and crimin', 'A preliminary bibliography of modern criminal law and crimin', 'A preliminary bibliography of modern criminal law and crimin']\n",
        "19 "
       ]
      },
      {
       "output_type": "stream",
       "stream": "stdout",
       "text": [
        "['Treasury of facts. A cyclopaedia of natural and mathematical', 'Normal school outlines of the common school and advanced bra', 'Normal school outlines of the common school and advanced bra']\n",
        "20 "
       ]
      },
      {
       "output_type": "stream",
       "stream": "stdout",
       "text": [
        "['Philosophy of education, a survey of fundamentals, topics, q', 'Philosophy of education, a survey of fundamentals, topics, q']\n",
        "21 "
       ]
      },
      {
       "output_type": "stream",
       "stream": "stdout",
       "text": [
        "['The essentials of aesthetics in music, poetry, painting, scu', 'The essentials of aesthetics in music, poetry, painting, scu']\n",
        "22 "
       ]
      },
      {
       "output_type": "stream",
       "stream": "stdout",
       "text": [
        "['The child;', 'The child;']\n",
        "23 "
       ]
      },
      {
       "output_type": "stream",
       "stream": "stdout",
       "text": [
        "['Economic crises,', 'Economic crises,']\n",
        "24 "
       ]
      },
      {
       "output_type": "stream",
       "stream": "stdout",
       "text": [
        "['Clark university.', 'Clark University, 1889-1899. Decennial celebration.', 'Clark university.']\n",
        "25 "
       ]
      },
      {
       "output_type": "stream",
       "stream": "stdout",
       "text": [
        "[\"The kingdom of God : or Christ's teaching according to the s\", \"The Kingdom of God, or, Christ's teaching according to the s\"]\n",
        "26 "
       ]
      },
      {
       "output_type": "stream",
       "stream": "stdout",
       "text": [
        "['The note-books of Samuel Butler /', 'The note-books of Samuel Butler ...']\n",
        "27 "
       ]
      },
      {
       "output_type": "stream",
       "stream": "stdout",
       "text": [
        "['International congress of arts and science,', 'International Congress of Arts and Science.']\n",
        "28 "
       ]
      },
      {
       "output_type": "stream",
       "stream": "stdout",
       "text": [
        "['Political science and comparative constitutional law ...', 'Political science and comparative constitutional law ... By ']\n",
        "29 "
       ]
      },
      {
       "output_type": "stream",
       "stream": "stdout",
       "text": [
        "['World literature and its place in general culture,', 'World literature and its place in general culture,']\n",
        "30 "
       ]
      },
      {
       "output_type": "stream",
       "stream": "stdout",
       "text": [
        "['Microbes, ferments and moulds /', 'Microbes, ferments and moulds,']\n",
        "31 "
       ]
      },
      {
       "output_type": "stream",
       "stream": "stdout",
       "text": [
        "['Catalogue.', 'Catalogue.', 'Catalogue.', 'Catalogue.']\n",
        "32 "
       ]
      },
      {
       "output_type": "stream",
       "stream": "stdout",
       "text": [
        "['An introduction to economics,', 'An introduction to economics,']\n",
        "33 "
       ]
      },
      {
       "output_type": "stream",
       "stream": "stdout",
       "text": [
        "['The elements of pedagogy; A manual for teachers, normal scho', 'The elements of pedagogy. A manual for teachers, normal scho', 'The elements of pedagogy : a manual for teachers, normal sch']\n",
        "34 "
       ]
      },
      {
       "output_type": "stream",
       "stream": "stdout",
       "text": [
        "['Catalogue.', 'Catalogue.', 'Catalogue.']\n",
        "35 "
       ]
      },
      {
       "output_type": "stream",
       "stream": "stdout",
       "text": [
        "['Catalogue.', 'Catalogue.', 'Catalogue.']\n",
        "36 "
       ]
      },
      {
       "output_type": "stream",
       "stream": "stdout",
       "text": [
        "['The elements of logic, theoretical and practical,', 'The elements of logic : theoretical and practical /']\n",
        "37 "
       ]
      },
      {
       "output_type": "stream",
       "stream": "stdout",
       "text": [
        "['War-time financial problems,', 'War-time financial problems,']\n",
        "38 "
       ]
      },
      {
       "output_type": "stream",
       "stream": "stdout",
       "text": [
        "['Catalogue.', 'Catalogue.']\n",
        "39 "
       ]
      },
      {
       "output_type": "stream",
       "stream": "stdout",
       "text": [
        "['The study of the behavior of an individual child; syllabus a', 'The study of the behavior of an individual child; syllabus a']\n",
        "40 "
       ]
      },
      {
       "output_type": "stream",
       "stream": "stdout",
       "text": [
        "['First principles of a new system of philosophy.', 'First principles of a new system of philosophy. --', 'First principles,', 'First principles.', 'First principles.', 'First principles,']\n",
        "41 "
       ]
      },
      {
       "output_type": "stream",
       "stream": "stdout",
       "text": [
        "['Formative types in English poetry; the Earl lectures of 1917', 'Formative types in English poetry; the Earl lectures of 1917']\n",
        "42 "
       ]
      },
      {
       "output_type": "stream",
       "stream": "stdout",
       "text": [
        "['The neurotic constitution; outlines of a comparative individ', 'The neurotic constitution; outlines of a comparative individ', 'The neurotic constitution; outlines of a comparative individ']\n",
        "43 "
       ]
      },
      {
       "output_type": "stream",
       "stream": "stdout",
       "text": [
        "['Experimental studies of mental defectives;', 'Experimental studies of mental defectives; a critique of the']\n",
        "44 "
       ]
      },
      {
       "output_type": "stream",
       "stream": "stdout",
       "text": [
        "['The riddle of the universe at the close of the nineteenth ce', 'The riddle of the universe at the close of the nineteenth ce', 'The riddle of the universe at the close of the nineteenth ce']\n",
        "45 "
       ]
      },
      {
       "output_type": "stream",
       "stream": "stdout",
       "text": [
        "['Catalogue.', 'Catalogue.']\n",
        "46 "
       ]
      },
      {
       "output_type": "stream",
       "stream": "stdout",
       "text": [
        "['Philosophy of Sir William Hamilton, Bart. Arranged and edite', 'Philosophy of Sir William Hamilton, bart. ...']\n",
        "47 "
       ]
      },
      {
       "output_type": "stream",
       "stream": "stdout",
       "text": [
        "['Ireland: vital hour', 'Ireland: vital hour']\n",
        "48 "
       ]
      },
      {
       "output_type": "stream",
       "stream": "stdout",
       "text": [
        "['International Congress of Arts and Science.', 'International congress of arts and science,']\n",
        "49 "
       ]
      },
      {
       "output_type": "stream",
       "stream": "stdout",
       "text": [
        "['First principles of a new system of philosophy.', 'First principles,', 'First principles.', 'First principles.', 'First principles,']\n",
        "50 "
       ]
      },
      {
       "output_type": "stream",
       "stream": "stdout",
       "text": [
        "['Personality, human and divine ; being the Bampton lectures f', 'Personality, human and divine; being the Bampton lectures fo']\n",
        "51 "
       ]
      },
      {
       "output_type": "stream",
       "stream": "stdout",
       "text": [
        "['Lectures on political economy.', 'The collected works of Dugald Stewart.']\n",
        "52 "
       ]
      },
      {
       "output_type": "stream",
       "stream": "stdout",
       "text": [
        "['Mental discipline and educational values', 'Mental discipline and educational values /']\n",
        "53 "
       ]
      },
      {
       "output_type": "stream",
       "stream": "stdout",
       "text": [
        "['Bulletin for administrative authorities of universities and ', 'Bulletin for administrative authorities of universities and ']\n",
        "54 "
       ]
      },
      {
       "output_type": "stream",
       "stream": "stdout",
       "text": [
        "['Essays, scientific, political, and speculative,', 'Essays : scientific, political and speculative /']\n",
        "55 "
       ]
      },
      {
       "output_type": "stream",
       "stream": "stdout",
       "text": [
        "['The junior high school,', 'The junior high school,']\n",
        "56 "
       ]
      },
      {
       "output_type": "stream",
       "stream": "stdout",
       "text": [
        "['Six thousand years of history /', \"The world's history and its makers /\"]\n",
        "57 "
       ]
      },
      {
       "output_type": "stream",
       "stream": "stdout",
       "text": [
        "['Sociology based upon ethnography,', 'Sociology based upon ethnography,']\n",
        "58 "
       ]
      },
      {
       "output_type": "stream",
       "stream": "stdout",
       "text": [
        "['The rural school in the United States,', 'The rural school in the United States,']\n",
        "59 "
       ]
      },
      {
       "output_type": "stream",
       "stream": "stdout",
       "text": [
        "['The moral instruction of children /', 'The moral instruction of children,']\n",
        "60 "
       ]
      },
      {
       "output_type": "stream",
       "stream": "stdout",
       "text": [
        "['Japan or Germany; the inside story of the struggle in Siberi', 'Japan or Germany; the inside story of the struggle in Siberi']\n",
        "61 "
       ]
      },
      {
       "output_type": "stream",
       "stream": "stdout",
       "text": [
        "['Modernities /', 'Modernities,']\n",
        "62 "
       ]
      },
      {
       "output_type": "stream",
       "stream": "stdout",
       "text": [
        "['Remains in verse and prose of Arthur Henry Hallam. With a pr', 'Remains in verse and prose of Arthur Henry Hallam. With a pr']\n",
        "63 "
       ]
      },
      {
       "output_type": "stream",
       "stream": "stdout",
       "text": [
        "['International congress of arts and science,', 'International Congress of Arts and Science.']\n",
        "64 "
       ]
      },
      {
       "output_type": "stream",
       "stream": "stdout",
       "text": [
        "['Catalogue.', 'Catalogue.']\n",
        "65 "
       ]
      },
      {
       "output_type": "stream",
       "stream": "stdout",
       "text": [
        "['Biblical and theological studies,', 'Biblical and theological studies,']\n",
        "66 "
       ]
      },
      {
       "output_type": "stream",
       "stream": "stdout",
       "text": [
        "['Three plays by Brieux ...', 'Three plays by Brieux : member of the French Academy /']\n",
        "67 "
       ]
      },
      {
       "output_type": "stream",
       "stream": "stdout",
       "text": [
        "['A sketch of ancient philosophy from Thales to Cicero /', 'A sketch of ancient philosophy from Thales to Cicero /']\n",
        "68 "
       ]
      },
      {
       "output_type": "stream",
       "stream": "stdout",
       "text": [
        "['Some fundamental veritie in education,', 'Some fundamental veritie in education,']\n",
        "69 "
       ]
      },
      {
       "output_type": "stream",
       "stream": "stdout",
       "text": [
        "['History of the intellectual development of Europe. [electron', 'History of the intellectual development of Europe.']\n",
        "70 "
       ]
      },
      {
       "output_type": "stream",
       "stream": "stdout",
       "text": [
        "['Points of view /', 'Points of view,']\n",
        "71 "
       ]
      },
      {
       "output_type": "stream",
       "stream": "stdout",
       "text": [
        "['Growth during school age,', 'Growth during school age,']\n",
        "72 "
       ]
      },
      {
       "output_type": "stream",
       "stream": "stdout",
       "text": [
        "['Talks to students on the art of study,', 'Talks to students on the art of study,', 'Talks to students on the art of study /']\n",
        "73 "
       ]
      },
      {
       "output_type": "stream",
       "stream": "stdout",
       "text": [
        "['Conscious motherhood; or, The earliest unfolding of the chil', 'Conscious motherhood; or, The earliest unfolding of the chil']\n",
        "74 "
       ]
      },
      {
       "output_type": "stream",
       "stream": "stdout",
       "text": [
        "['Catalogue.', 'Catalogue.', 'Catalogue.']\n",
        "75 "
       ]
      },
      {
       "output_type": "stream",
       "stream": "stdout",
       "text": [
        "['The picture completion test,', 'The picture completion test,']\n",
        "76 "
       ]
      },
      {
       "output_type": "stream",
       "stream": "stdout",
       "text": [
        "['The development of theology in Germany since Kant; and its p', 'The development of theology in Germany since Kant; and its p']\n",
        "77 "
       ]
      },
      {
       "output_type": "stream",
       "stream": "stdout",
       "text": [
        "['First principles of a new system of philosophy. --', 'First principles,', 'First principles.', 'First principles,']\n",
        "78 "
       ]
      },
      {
       "output_type": "stream",
       "stream": "stdout",
       "text": [
        "['The psychology of the Negro; an experimental study,', 'The psychology of the Negro; an experimental study,']\n",
        "79 "
       ]
      },
      {
       "output_type": "stream",
       "stream": "stdout",
       "text": [
        "['Catalogue.', 'Catalogue.', 'Catalogue.', 'Catalogue.', 'Catalogue.']\n",
        "80 "
       ]
      },
      {
       "output_type": "stream",
       "stream": "stdout",
       "text": [
        "['Obstacles to peace, by S. S. McClure.', 'Obstacles to peace,']\n",
        "81 "
       ]
      },
      {
       "output_type": "stream",
       "stream": "stdout",
       "text": [
        "['Obstacles to peace,', 'Obstacles to peace, by S. S. McClure.', 'Obstacles to peace,']\n",
        "82 "
       ]
      },
      {
       "output_type": "stream",
       "stream": "stdout",
       "text": [
        "['The evolution of man: a popular exposition of the principal ', 'The evolution of man:', 'The evolution of man: a popular exposition of the principal ']\n",
        "83 "
       ]
      },
      {
       "output_type": "stream",
       "stream": "stdout",
       "text": [
        "['Higher education of women in Europe,', 'Higher education of women in Europe,']\n",
        "84 "
       ]
      },
      {
       "output_type": "stream",
       "stream": "stdout",
       "text": [
        "['The spiritual interpretation of nature,', 'The spiritual interpretation of nature,']\n",
        "85 "
       ]
      },
      {
       "output_type": "stream",
       "stream": "stdout",
       "text": [
        "['Psychology: empirical and rational.', 'Psychology: empirical and rational.']\n",
        "86 "
       ]
      },
      {
       "output_type": "stream",
       "stream": "stdout",
       "text": [
        "['Report of the Brown-Harvard expedition to Nachvak, Labrador,', 'Report of the Brown-Harvard Expedition to Nachvak, Labrador,']\n",
        "87 "
       ]
      },
      {
       "output_type": "stream",
       "stream": "stdout",
       "text": [
        "['Catalogue.', 'Catalogue.', 'Catalogue.']\n",
        "88 "
       ]
      },
      {
       "output_type": "stream",
       "stream": "stdout",
       "text": [
        "['Personality, human and divine ; being the Bampton lectures f', 'Personality, human and divine.', 'Personality, human and divine; being the Bampton lectures fo']\n",
        "89 "
       ]
      },
      {
       "output_type": "stream",
       "stream": "stdout",
       "text": [
        "['The New Testament in modern education,', 'The New Testament in modern education,', 'The New Testament in modern education,']\n",
        "90 "
       ]
      },
      {
       "output_type": "stream",
       "stream": "stdout",
       "text": [
        "['A comparative study of achievement in country and town schoo', 'A comparative study of achievement in country and town schoo']\n",
        "91 "
       ]
      },
      {
       "output_type": "stream",
       "stream": "stdout",
       "text": [
        "['The Greek romances in Elizabethan prose fiction,', 'The Greek romances in Elizabethan prose fiction,']\n",
        "92 "
       ]
      },
      {
       "output_type": "stream",
       "stream": "stdout",
       "text": [
        "['Early civilization; an introduction to anthropology /', 'Early civilization; an introduction to anthropology,']\n",
        "93 "
       ]
      },
      {
       "output_type": "stream",
       "stream": "stdout",
       "text": [
        "['Catalogue.', 'Catalogue.', 'Catalogue.', 'Catalogue.']\n",
        "94 "
       ]
      },
      {
       "output_type": "stream",
       "stream": "stdout",
       "text": [
        "['Catalogue.', 'Catalogue.', 'Catalogue.']\n",
        "95 "
       ]
      },
      {
       "output_type": "stream",
       "stream": "stdout",
       "text": [
        "['Michael and his lost angel, a play in five acts.', 'Michael and his lost angel; a play in five acts,']\n",
        "96 "
       ]
      },
      {
       "output_type": "stream",
       "stream": "stdout",
       "text": [
        "['The social mind and education,', 'The social mind and education ...']\n",
        "97 "
       ]
      },
      {
       "output_type": "stream",
       "stream": "stdout",
       "text": [
        "['Alumni directory, the University of Chicago, 1913 /', 'Alumni directory.', 'Alumni directory, the University of Chicago, 1913 /', 'Alumni directory. The University of Chicago, 1861-1910,']\n",
        "98 "
       ]
      },
      {
       "output_type": "stream",
       "stream": "stdout",
       "text": [
        "['The psychology of religion; an empirical study of the growth', 'The psychology of religion: an empirical study of the growth']\n",
        "99 "
       ]
      },
      {
       "output_type": "stream",
       "stream": "stdout",
       "text": [
        "['Brissot de Warville; a study in the history of the French re', 'Brissot de Warville; a study in the history of the French re']\n",
        "100 "
       ]
      },
      {
       "output_type": "stream",
       "stream": "stdout",
       "text": [
        "['Educating by story-telling; showing the value of story-telli', 'Educating by story-telling; showing the value of story-telli']\n",
        "101 "
       ]
      },
      {
       "output_type": "stream",
       "stream": "stdout",
       "text": [
        "['Enjoying life, and other literary remains of W. N. P. Barbel', 'Enjoying life, and other literary remains of W. N. P. Barbel', 'Enjoying life, and other literary remains of W. N. P. Barbel']\n",
        "102 "
       ]
      },
      {
       "output_type": "stream",
       "stream": "stdout",
       "text": [
        "['Science of statistics.', 'Science of statistics ...']\n",
        "103 "
       ]
      },
      {
       "output_type": "stream",
       "stream": "stdout",
       "text": [
        "['History of German civilization; a general survey', 'History of German civilization; a general survey']\n",
        "104 "
       ]
      },
      {
       "output_type": "stream",
       "stream": "stdout",
       "text": [
        "['Obstacles to peace,', 'Obstacles to peace, by S. S. McClure.']\n",
        "105 "
       ]
      },
      {
       "output_type": "stream",
       "stream": "stdout",
       "text": [
        "['An introduction to the history of the science of politics.', 'An introduction to the history of the science of politics,']\n",
        "106 "
       ]
      },
      {
       "output_type": "stream",
       "stream": "stdout",
       "text": [
        "['A comparative study of the play activities of adult savages ', 'A comparative study of the play activities of adult savages ']\n",
        "107 "
       ]
      },
      {
       "output_type": "stream",
       "stream": "stdout",
       "text": [
        "['Little journeys to the homes of the great /', 'Little journeys to the homes of the great /']\n",
        "108 "
       ]
      },
      {
       "output_type": "stream",
       "stream": "stdout",
       "text": [
        "['Railway regulation : an analysis of the underlying problems ', 'Railway regulation : an analysis of the underlying problems ']\n",
        "109 "
       ]
      },
      {
       "output_type": "stream",
       "stream": "stdout",
       "text": [
        "['Biology,', 'Biology,']\n",
        "110 "
       ]
      },
      {
       "output_type": "stream",
       "stream": "stdout",
       "text": [
        "['Walter Pater,', 'Walter Pater.']\n",
        "111 "
       ]
      },
      {
       "output_type": "stream",
       "stream": "stdout",
       "text": [
        "['On principles and methods in Latin syntax,', 'On principles and methods in Latin syntax,']\n",
        "112 "
       ]
      },
      {
       "output_type": "stream",
       "stream": "stdout",
       "text": [
        "['The tempter, a tragedy in verse in four acts,', 'The tempter; a tragedy in verse in four acts.']\n",
        "113 "
       ]
      },
      {
       "output_type": "stream",
       "stream": "stdout",
       "text": [
        "['The passions of the human soul.', 'The passions of the human soul.']\n",
        "114 "
       ]
      },
      {
       "output_type": "stream",
       "stream": "stdout",
       "text": [
        "['Supply and demand,', 'Supply and demand,', 'Supply and demand,']\n",
        "115 "
       ]
      },
      {
       "output_type": "stream",
       "stream": "stdout",
       "text": [
        "['Catalogue.', 'Catalogue.']\n",
        "116 "
       ]
      },
      {
       "output_type": "stream",
       "stream": "stdout",
       "text": [
        "['Criminology.', 'Criminology, by Arthur MacDonald ... with an introduction by']\n",
        "117 "
       ]
      },
      {
       "output_type": "stream",
       "stream": "stdout",
       "text": [
        "['A comparative study of the play activities of adult savages ', 'A comparative study of the play activities of adult savages ']\n",
        "118 "
       ]
      },
      {
       "output_type": "stream",
       "stream": "stdout",
       "text": [
        "['Catalogue.', 'Catalogue.']\n",
        "119 "
       ]
      },
      {
       "output_type": "stream",
       "stream": "stdout",
       "text": [
        "[\"Hegel's educational ideas,\", \"Hegel's educational ideas,\"]\n",
        "120 "
       ]
      },
      {
       "output_type": "stream",
       "stream": "stdout",
       "text": [
        "['English childhood;', \"English childhood; Wordsworth's treatment of childhood in th\"]\n",
        "121 "
       ]
      },
      {
       "output_type": "stream",
       "stream": "stdout",
       "text": [
        "['Mind and brain; or, The correlations of consciousness and or', 'Mind and brain; or, The correlations of consciousness and or']\n",
        "122 "
       ]
      },
      {
       "output_type": "stream",
       "stream": "stdout",
       "text": [
        "['Calendar.', 'Calendar.']\n",
        "123 "
       ]
      },
      {
       "output_type": "stream",
       "stream": "stdout",
       "text": [
        "['The inductive determination of educational method;', 'The inductive determination of educational method; or, The s']\n",
        "124 "
       ]
      },
      {
       "output_type": "stream",
       "stream": "stdout",
       "text": [
        "['Catalogue.', 'Catalogue.', 'Catalogue.', 'Catalogue.', 'Catalogue.']\n"
       ]
      }
     ],
     "prompt_number": 170
    },
    {
     "cell_type": "code",
     "collapsed": false,
     "input": [
      "to_remove_all_13 = [0,20,31,40,68]\n",
      "to_keep_13 = [10,11,27,28,32,33,43,45,47,53,57,61,65,66,70]\n",
      "to_remove_all_4 = [2,4,24,34,35,38,45,64,74,79,87,93,94,97,115,118,122,124]\n",
      "to_keep_4 = [56]"
     ],
     "language": "python",
     "metadata": {},
     "outputs": [],
     "prompt_number": 171
    },
    {
     "cell_type": "markdown",
     "metadata": {},
     "source": [
      "This process invites a new web interface for corpus selection."
     ]
    },
    {
     "cell_type": "code",
     "collapsed": false,
     "input": [
      "# corpus cleanup from 0.05\n",
      "\n",
      "to_remove_all_4 = [2,4,24,34,35,38,45,64,74,79,87,93,94,97,115,118,122,124]\n",
      "to_keep_4 = [56]\n",
      "dup_vols, dups = duplicates[4]\n",
      "to_remove = set()\n",
      "for i,row in enumerate(dups):\n",
      "    if i in to_remove_all_4:\n",
      "        to_remove.update(row)\n",
      "    elif i in to_keep_4:\n",
      "        pass\n",
      "    else:\n",
      "        to_remove.update(row[1:])\n",
      "\n",
      "print len(to_remove)"
     ],
     "language": "python",
     "metadata": {},
     "outputs": [
      {
       "output_type": "stream",
       "stream": "stdout",
       "text": [
        "144\n"
       ]
      }
     ],
     "prompt_number": 173
    },
    {
     "cell_type": "code",
     "collapsed": false,
     "input": [
      "# check if rows marked for entire removal are removed by virtue of the above process\n",
      "# this often indicates that the rows are a subset of another row\n",
      "for i,row in enumerate(dups):\n",
      "    if to_remove >= set(row) and i not in to_remove_all_4:\n",
      "        print i, get_titles(row)"
     ],
     "language": "python",
     "metadata": {},
     "outputs": [
      {
       "output_type": "stream",
       "stream": "stdout",
       "text": [
        "15 "
       ]
      },
      {
       "output_type": "stream",
       "stream": "stdout",
       "text": [
        "['Personality, human and divine.', 'Personality, human and divine; being the Bampton lectures fo']\n",
        "31 "
       ]
      },
      {
       "output_type": "stream",
       "stream": "stdout",
       "text": [
        "['Catalogue.', 'Catalogue.', 'Catalogue.', 'Catalogue.']\n",
        "77 "
       ]
      },
      {
       "output_type": "stream",
       "stream": "stdout",
       "text": [
        "['First principles of a new system of philosophy. --', 'First principles,', 'First principles.', 'First principles,']\n",
        "80 "
       ]
      },
      {
       "output_type": "stream",
       "stream": "stdout",
       "text": [
        "['Obstacles to peace, by S. S. McClure.', 'Obstacles to peace,']\n",
        "106 "
       ]
      },
      {
       "output_type": "stream",
       "stream": "stdout",
       "text": [
        "['A comparative study of the play activities of adult savages ', 'A comparative study of the play activities of adult savages ']\n"
       ]
      }
     ],
     "prompt_number": 178
    },
    {
     "cell_type": "code",
     "collapsed": false,
     "input": [],
     "language": "python",
     "metadata": {},
     "outputs": []
    }
   ],
   "metadata": {}
  }
 ]
}
