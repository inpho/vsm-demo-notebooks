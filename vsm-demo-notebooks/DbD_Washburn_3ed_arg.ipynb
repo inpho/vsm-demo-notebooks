{
 "metadata": {
  "name": ""
 },
 "nbformat": 3,
 "nbformat_minor": 0,
 "worksheets": [
  {
   "cells": [
    {
     "cell_type": "heading",
     "level": 2,
     "metadata": {},
     "source": [
      "<center>Argument comparison in 3 editions of *The Animal Mind* </center> "
     ]
    },
    {
     "cell_type": "markdown",
     "metadata": {},
     "source": [
      "HathiTrust Library has 3 editions of *The Animal Mind* by Margaret Floy Washburn.\n",
      "\n",
      "+ 1st ed (1908) - <a href=\"http://hdl.handle.net/2027/uc2.ark:/13960/t5w66bs1h\" \n",
      "style=\"text-decoration:None\">uc2.ark+=13960=t5w66bs1h</a>\n",
      "+ 2nd ed (1917) - <a href=\"http://hdl.handle.net/2027/uc2.ark:/13960/t7gq6st77\"\n",
      "style=\"text-decoration:None\">uc2.ark+=13960=t7gq6st77</a>\n",
      "+ 3rd ed (1926) - <a href=\"http://hdl.handle.net/2027/mdp.39015011339705\"\n",
      "style=\"text-decoration:None\">mdp.39015011339705</a>\n",
      "\n",
      "With BEAGLE and LDA models, we'd like to explore how the content in the editions had evolved over the years."
     ]
    },
    {
     "cell_type": "heading",
     "level": 4,
     "metadata": {},
     "source": [
      "Loading the Corpus and Modeling Libraries for modeling analysis"
     ]
    },
    {
     "cell_type": "code",
     "collapsed": false,
     "input": [
      "from vsm.extensions.ldasentences import *\n",
      "from vsm.extensions.htrc import *\n",
      "\n",
      "from vsm.model.beaglecomposite import BeagleComposite as BC\n",
      "from vsm.model.ldacgsmulti import LdaCgsMulti as LDA\n",
      "\n",
      "from vsm.viewer.beagleviewer import BeagleViewer\n",
      "from vsm.viewer.ldagibbsviewer import LDAGibbsViewer\n",
      "\n",
      "\n",
      "path = '/var/inphosemantics/data/20131214/Washburn/vsm-data/'\n",
      "\n",
      "# 1908 edition\n",
      "c1 = CorpusSent.load(path + 'uc2.ark+=13960=t5w66bs1h-nltk-freq3-len2-label.npz')\n",
      "m1 = LDA.load(path + 'uc2.ark+=13960=t5w66bs1h-nltk-freq3-len2-LDA-K20-600.npz')\n",
      "v1 = LDAGibbsViewer(c1, m1)\n",
      "\n",
      "# 1917 edition\n",
      "c2 = CorpusSent.load(path + 'uc2.ark+=13960=t7gq6st77-nltk-freq3-len2-label.npz')\n",
      "m2 = LDA.load(path + 'uc2.ark+=13960=t7gq6st77-nltk-freq3-len2-LDA-K20-600.npz')\n",
      "v2 = LDAGibbsViewer(c2, m2)\n",
      "\n",
      "# 1926 edition\n",
      "c3 = CorpusSent.load(path + 'mdp.39015011339705-nltk-freq3-len2-label.npz')\n",
      "m3 = LDA.load('mdp.39015011339705-nltk-freq3-len2-LDA-K20-600.npz')\n",
      "v3 = LDAGibbsViewer(c3, m3)\n",
      "\n",
      "# BEAGLE Composite models with context-order 50:50 & 70:30 blend\n",
      "b = CorpusSent.load(path + '3ed-nltk-freq3-len2.npz')\n",
      "bcm50 = BC.load(path + '3ed-nltk-freq3-len2-beaglecomp-50.npz')\n",
      "bcm70 = BC.load(path + '3ed-nltk-freq3-len2-beaglecomp-70.npz')\n",
      "bv50 = BeagleViewer(b, bcm50)\n",
      "bv70 = BeagleViewer(b, bcm70)"
     ],
     "language": "python",
     "metadata": {},
     "outputs": [
      {
       "output_type": "stream",
       "stream": "stdout",
       "text": [
        "Loading corpus from /var/inphosemantics/data/20131214/Washburn/vsm-data/uc2.ark+=13960=t5w66bs1h-nltk-freq3-len2-label.npz\n",
        "Loading LdaCgsMulti data from /var/inphosemantics/data/20131214/Washburn/vsm-data/uc2.ark+=13960=t5w66bs1h-nltk-freq3-len2-LDA-K20-600.npz\n",
        "Loading corpus from"
       ]
      },
      {
       "output_type": "stream",
       "stream": "stdout",
       "text": [
        " /var/inphosemantics/data/20131214/Washburn/vsm-data/uc2.ark+=13960=t7gq6st77-nltk-freq3-len2-label.npz\n",
        "Loading LdaCgsMulti data from /var/inphosemantics/data/20131214/Washburn/vsm-data/uc2.ark+=13960=t7gq6st77-nltk-freq3-len2-LDA-K20-600.npz\n",
        "Loading corpus from"
       ]
      },
      {
       "output_type": "stream",
       "stream": "stdout",
       "text": [
        " /var/inphosemantics/data/20131214/Washburn/vsm-data/mdp.39015011339705-nltk-freq3-len2-label.npz\n",
        "Loading LdaCgsMulti data from mdp.39015011339705-nltk-freq3-len2-LDA-K20-600.npz\n",
        "Loading corpus from"
       ]
      },
      {
       "output_type": "stream",
       "stream": "stdout",
       "text": [
        " /var/inphosemantics/data/20131214/Washburn/vsm-data/3ed-nltk-freq3-len2.npz\n",
        "Loading model from"
       ]
      },
      {
       "output_type": "stream",
       "stream": "stdout",
       "text": [
        " /var/inphosemantics/data/20131214/Washburn/vsm-data/3ed-nltk-freq3-len2-beaglecomp-50.npz\n",
        "Loading model from"
       ]
      },
      {
       "output_type": "stream",
       "stream": "stdout",
       "text": [
        " /var/inphosemantics/data/20131214/Washburn/vsm-data/3ed-nltk-freq3-len2-beaglecomp-70.npz\n"
       ]
      }
     ],
     "prompt_number": 15
    },
    {
     "cell_type": "markdown",
     "metadata": {},
     "source": [
      "**We compare the evolution of editions by comparing the arguments.**\n",
      "<ol>\n",
      "    <li>Find arguments from the 1st edition (1908) that are used in argument mapping study.</li>\n",
      "    <li>With LDA, find similar sentences that are possible arguments for argument analysis.</li>\n",
      "    <li>Find similar sentences across volumes to compare the evolution of arguments in newer editions.</li>\n",
      "</ol>"
     ]
    },
    {
     "cell_type": "markdown",
     "metadata": {},
     "source": [
      "**Here are sentences from the 1st edition that are used in argument mapping.**"
     ]
    },
    {
     "cell_type": "code",
     "collapsed": false,
     "input": [
      "# Move to path + \n",
      "import json\n",
      "from unidecode import unidecode\n",
      "\n",
      "path = '/var/inphosemantics/data/20131214/Washburn/vsm-data/'\n",
      "f = open(path + 'arguments.json', 'r')\n",
      "seeds = json.load(f)\n",
      "# seeds are dictionary of 'arg#':[] list of **arguments**.\n",
      "# ARGUMENTS are often rewritten, combined, part of sentences.\n",
      "# args in the jsons match with folder `previous` better than Pass A"
     ],
     "language": "python",
     "metadata": {},
     "outputs": [],
     "prompt_number": 17
    },
    {
     "cell_type": "raw",
     "metadata": {},
     "source": [
      "// Chapter 1 Difficulties and Methods of Comparative Psychology __5. Methods of Interpreting Facts \n",
      "sent indices for arg1 = [410:416]\n",
      "sent indices for arg2 = [(431,432), 433, (419,420,422), 434, 423, 427]\n",
      "sent indices for arg3 = [(444,445), (446,447), 450, 451, (439, 440)]\n",
      "sent indices for arg4 = [455,462,464,467,468, (469, 470)]"
     ]
    },
    {
     "cell_type": "code",
     "collapsed": false,
     "input": [
      "args = seeds['arg4']\n",
      "args = [unidecode(a) for a in args]\n",
      "args"
     ],
     "language": "python",
     "metadata": {},
     "outputs": [
      {
       "metadata": {},
       "output_type": "pyout",
       "prompt_number": 21,
       "text": [
        "[' [Darwin says in The Descent of Man]  As dogs, cats, horses, and probably all the higher animals, even birds, have vivid dreams',\n",
        " '[Darwin says] and this is shown by their movements and the sounds uttered',\n",
        " '[Darwin says]  we must admit that they possess some power of imagination. ',\n",
        " '[Darwin says] Only a few persons now dispute that animals possess some power of reasoning. Animals may constantly be seen to pause, deliberate, and resolve.',\n",
        " '[Darwin says]  His object to show that there is no fundamental difference between man and the higher mammals in their mental faculties',\n",
        " 'Animal Mind Arg4',\n",
        " 'Now Darwin and Romanes were not led to humanize animals merely out of general sympathy with the brute creation, like Montaigne ; they had an ulterior motive ; namely, to meet the objection raised in their time against the doctrine of evolution, based on the supposed fact of a great mental and moral gulf between man and the lower animals.',\n",
        " 'They wished to show, as Darwin clearly states, that this gulf is not absolute but may conceivably have been bridged by intermediate stages of mental and moral development. ',\n",
        " 'While this argument against evolution was being pressed, the evolutionary writers were very unsafe guides in the field of animal psychology, for they distinctly \"held a brief for animal intelligence,\" to use Thorndike\\'s phrase. In more recent times interest in the objection drawn from man\\'s superiority has died out, and such special pleading has become unnecessary. ']"
       ]
      }
     ],
     "prompt_number": 21
    },
    {
     "cell_type": "code",
     "collapsed": false,
     "input": [
      "[w for w in xrange(len(c1.sentences)) if c1.sentences[w].startswith('They wished')]"
     ],
     "language": "python",
     "metadata": {},
     "outputs": [
      {
       "metadata": {},
       "output_type": "pyout",
       "prompt_number": 33,
       "text": [
        "[468]"
       ]
      }
     ],
     "prompt_number": 33
    },
    {
     "cell_type": "code",
     "collapsed": false,
     "input": [
      "c1.sentences[455]"
     ],
     "language": "python",
     "metadata": {},
     "outputs": [
      {
       "metadata": {},
       "output_type": "pyout",
       "prompt_number": 53,
       "text": [
        "'Darwin, for instance, says in \"The Descent of Man,\" \"As   dogs, cats, horses, and probably all the higher animals, even   birds, have vivid dreams, and this is shown by their movements and the sounds uttered, we must admit that they possess some power of imagination\" (89, p. 74).'"
       ]
      }
     ],
     "prompt_number": 53
    },
    {
     "cell_type": "markdown",
     "metadata": {},
     "source": [
      "**<< Mapped Arguments 1 >>** </br>\n",
      "**Chapter 1 Difficulties and Methods of Comparative Psychology __5. Methods of Interpreting Facts** </br>\n",
      "Diverse views on animal consciousness."
     ]
    },
    {
     "cell_type": "markdown",
     "metadata": {},
     "source": [
      "**Let's find related `documents` (sentences) of the mapped arguments. **"
     ]
    },
    {
     "cell_type": "code",
     "collapsed": false,
     "input": [
      "v1.sim_doc_doc([410, 411, 412], label_fn=vol_link_fn)"
     ],
     "language": "python",
     "metadata": {},
     "outputs": [
      {
       "html": [
        "<table style=\"margin: 0\"><tr><th style=\"text-align: center; background: #CEE3F6\" colspan                    =\"2\">Documents: </th></tr><tr><th style=\"text-align: center; background: #EFF2FB; \">Document                          </th><th style=\"text-align: center; background: #EFF2FB; \">Value                          </th></tr><tr><td><a href=\"http://hdl.handle.net/2027/njp.32101063553950?urlappend=%3Bseq=30\" target=\"_blank\">00000028.txt</a>, 422,    second book of Essays, \" An Apology of Raymond Sebonde,\"   he gives free rein to the inclination to humanize them.                                                                                                                                                                                                                                                                                                                                                                                                                                                                                                                                                                                  </td><td>0.96095   </td></tr><tr><td><a href=\"http://hdl.handle.net/2027/njp.32101063553950?urlappend=%3Bseq=23\" target=\"_blank\">00000021.txt</a>, 336, It will be seen that in both the cases just criticised the error   lies in the interpretation of the animal's behavior.                                                                                                                                                                                                                                                                                                                                                                                                                                                                                                                                                                                </td><td>0.96009   </td></tr><tr><td><a href=\"http://hdl.handle.net/2027/njp.32101063553950?urlappend=%3Bseq=286\" target=\"_blank\">00000284.txt</a>, 3512, We must admit that it   is not easy to prove the possession by any animal of memory   in the sense of having ideas of absent objects, rather than in the   sense of behaving differently to present objects because of past   experience with them.                                                                                                                                                                                                                                                                                                                                                                                                                                                  </td><td>0.95951   </td></tr><tr><td><a href=\"http://hdl.handle.net/2027/njp.32101063553950?urlappend=%3Bseq=47\" target=\"_blank\">00000045.txt</a>, 638, \"Because a   lowly organized animal,\" he says, \"does not learn by its own   individual experience, we may not therefore conclude that in   performing its natural or ancestral adaptations to appropriate   stimuli, consciousness, or the mind element, is wholly absent ;   we can only say that this element, if present, reveals no evidence of the fact \" (364, p. 3).                                                                                                                                                                                                                                                                                                                            </td><td>0.95879   </td></tr><tr><td><a href=\"http://hdl.handle.net/2027/njp.32101063553950?urlappend=%3Bseq=47\" target=\"_blank\">00000045.txt</a>, 634,    speak of a \" mechanism\" as forming an \"elemental component\" in \" psychic phenomena,\" but these points may be   passed over.                                                                                                                                                                                                                                                                                                                                                                                                                                                                                                                                                                         </td><td>0.95831   </td></tr><tr><td><a href=\"http://hdl.handle.net/2027/njp.32101063553950?urlappend=%3Bseq=47\" target=\"_blank\">00000045.txt</a>, 636, Does the absence of proof that an animal learns by experience show that the animal is unconscious?                                                                                                                                                                                                                                                                                                                                                                                                                                                                                                                                                                                                     </td><td>0.95831   </td></tr><tr><td><a href=\"http://hdl.handle.net/2027/njp.32101063553950?urlappend=%3Bseq=257\" target=\"_blank\">00000255.txt</a>, 3178, But in each of these cases,   the experience which is supposed to give the animal the idea   of the act is one that has some points of likeness with the   act and other points of decided difference.                                                                                                                                                                                                                                                                                                                                                                                                                                                                                               </td><td>0.95533   </td></tr><tr><td><a href=\"http://hdl.handle.net/2027/njp.32101063553950?urlappend=%3Bseq=50\" target=\"_blank\">00000048.txt</a>, 681, The fact is   that while proof of the existence of mind can be derived from   animal learning by experience only if the learning is very   rapid, other evidence, equally valid on the principle of analogy, makes it highly improbable that all animals which learn   too slowly to evince the presence of ideas are therefore unconscious.                                                                                                                                                                                                                                                                                                                                                           </td><td>0.95373   </td></tr><tr><td><a href=\"http://hdl.handle.net/2027/njp.32101063553950?urlappend=%3Bseq=327\" target=\"_blank\">00000325.txt</a>, 5399, The nature and development of animal intelligence.                                                                                                                                                                                                                                                                                                                                                                                                                                                                                                                                                                                                                                                   </td><td>0.95232   </td></tr><tr><td><a href=\"http://hdl.handle.net/2027/njp.32101063553950?urlappend=%3Bseq=39\" target=\"_blank\">00000037.txt</a>, 549, If so,^we must also admit that human psychology is   impossible.                                                                                                                                                                                                                                                                                                                                                                                                                                                                                                                                                                                                                                       </td><td>0.95130   </td></tr></table>"
       ],
       "metadata": {},
       "output_type": "pyout",
       "prompt_number": 6,
       "text": [
        "LabeledColumn([ ('<a href=\"http://hdl.handle.net/2027/njp.32101063553950?urlappend=%3Bseq=30\" target=\"_blank\">00000028.txt</a>, 422,    second book of Essays, \" An Apology of Raymond Sebonde,\"   he gives free rein to the inclination to humanize them.', 0.9609532229068416),\n",
        "       ('<a href=\"http://hdl.handle.net/2027/njp.32101063553950?urlappend=%3Bseq=23\" target=\"_blank\">00000021.txt</a>, 336, It will be seen that in both the cases just criticised the error   lies in the interpretation of the animal\\'s behavior.', 0.96008844906483981),\n",
        "       ('<a href=\"http://hdl.handle.net/2027/njp.32101063553950?urlappend=%3Bseq=286\" target=\"_blank\">00000284.txt</a>, 3512, We must admit that it   is not easy to prove the possession by any animal of memory   in the sense of having ideas of absent objects, rather than in the   sense of behaving differently to present objects because of past   experience with them.', 0.95951333930596783),\n",
        "       ...,\n",
        "       ('<a href=\"http://hdl.handle.net/2027/njp.32101063553950?urlappend=%3Bseq=305\" target=\"_blank\">00000303.txt</a>, 3736, The response to   it is in most cases adapted rather to its importance than to   its physical strength A third arrangement for the securing   of reaction to vitally important stimulation lies in the existence   of preformed connections in the nervous system, which bring   it about that the path of the excitation produced by one stimulus is clear to the motor apparatus, while that of another is   closed.', 0.0025527811535250439),\n",
        "       ('<a href=\"http://hdl.handle.net/2027/njp.32101063553950?urlappend=%3Bseq=228\" target=\"_blank\">00000226.txt</a>, 2797, Nagel observed that if a ball of   filter paper soaked in fish juice were placed upon one of the   tentacles of Adamsia, it was seized as eagerly as a ball of fish   meat, but that when this deception had been several times   repeated, the ball was held for a shorter period each time, and   was finally rejected as soon as offered.', 0.0024557036063650212),\n",
        "       ('<a href=\"http://hdl.handle.net/2027/njp.32101063553950?urlappend=%3Bseq=79\" target=\"_blank\">00000077.txt</a>, 1032, Though light and mechanical stimulation,   for example, both ordinarily produce a negative reaction,   yet if light brings about its effect only through the medium   of a specialized structure with which mechanical stimuli   are not concerned, then along with the probable unpleasantness accompanying the negative reaction there may   go a quality peculiar to the functioning of that special   structure.', 0.0024131036550017601)], \n",
        "      dtype=[('doc', '|S789'), ('value', '<f8')])"
       ]
      }
     ],
     "prompt_number": 6
    },
    {
     "cell_type": "markdown",
     "metadata": {},
     "source": [
      "**Observations**\n",
      "<ul>\n",
      "    <li>Sentence 636 asks a question regarding animal behavior and consciousness like the first mapped argument :  `If an animal behaves in a certain manner, what may we conclude the consciousness accompanying its behavior to be like?`</li>\n",
      "    <li>we find several similar sentences in `00000045.txt` which is in Chapter 2. The Evidence of Mind __6. Inferring Mind from Behavior**.</li>\n",
      "</ul>"
     ]
    },
    {
     "cell_type": "markdown",
     "metadata": {},
     "source": [
      "**Are there any similar arguments in edition 2 and 3? </br>\n",
      "Let's find similar sentences across volumes.** </br>\n",
      "\n",
      "We do this by.. </br>\n",
      "<ol>\n",
      "    <li>Replacing words that don't appear in the other edition with BEAGLE.</li>\n",
      "    <li>Finding topic related to the words.</li>\n",
      "    <li>Calculate documents that are most likely generated by the topics.</li>\n",
      "</ol>"
     ]
    },
    {
     "cell_type": "markdown",
     "metadata": {},
     "source": [
      "**Below are sentences in edition 2 that are similar to the arguments.**"
     ]
    },
    {
     "cell_type": "code",
     "collapsed": false,
     "input": [
      "sim_sent_sent_across(v1, v2, bv50, [410, 411, 412, 413, 414, 415, 416])"
     ],
     "language": "python",
     "metadata": {},
     "outputs": [
      {
       "output_type": "stream",
       "stream": "stdout",
       "text": [
        "BEAGLE composite model replaced gone by idea\n",
        "BEAGLE composite model replaced behaves by behavior"
       ]
      },
      {
       "output_type": "stream",
       "stream": "stdout",
       "text": [
        "\n",
        "Related topics: "
       ]
      },
      {
       "output_type": "stream",
       "stream": "stdout",
       "text": [
        " [4, 14, 5]\n"
       ]
      },
      {
       "html": [
        "<table style=\"margin: 0\"><tr><th style=\"text-align: center; background: #CEE3F6\" colspan                    =\"2\">Topics: 4, 14, 5</th></tr><tr><th style=\"text-align: center; background: #EFF2FB; \">Document                          </th><th style=\"text-align: center; background: #EFF2FB; \">Prob                          </th></tr><tr><td><a href=\"http://hdl.handle.net/2027/uc2.ark:/13960/t7gq6st77?urlappend=%3Bseq=37\" target=\"_blank\">00000037.txt</a>, 505, The term   \" intelligence \" which most writers use to designate merely   the power of learning by individual experience, Wasmann   would reserve for the power of deducing and understanding relations, and would assign only to human beings   (761, 762).                                                                                                                                                                                                                                                                                                                                                                                                                </td><td>0.99656   </td></tr><tr><td><a href=\"http://hdl.handle.net/2027/uc2.ark:/13960/t7gq6st77?urlappend=%3Bseq=19\" target=\"_blank\">00000019.txt</a>, 236, The science of human psychology   has to reckon with this unbridgeable gap between minds as   its chief difficulty.                                                                                                                                                                                                                                                                                                                                                                                                                                                                                                                                                        </td><td>0.92642   </td></tr><tr><td><a href=\"http://hdl.handle.net/2027/uc2.ark:/13960/t7gq6st77?urlappend=%3Bseq=53\" target=\"_blank\">00000053.txt</a>, 686, Inferring Mind from Structure     Both Yerkes and Lukas urge that the resemblance of an   animal's nervous system and sense organs to those of human   beings ought to be taken into consideration in deciding   whether the animal is conscious or not.                                                                                                                                                                                                                                                                                                                                                                                                                   </td><td>0.92402   </td></tr><tr><td><a href=\"http://hdl.handle.net/2027/uc2.ark:/13960/t7gq6st77?urlappend=%3Bseq=22\" target=\"_blank\">00000022.txt</a>, 268, From these general considerations we can understand   something of the special difficulties that beset the path of the   comparative psychologist, who desires to know the contents   of minds below the human level.                                                                                                                                                                                                                                                                                                                                                                                                                                                      </td><td>0.88106   </td></tr><tr><td><a href=\"http://hdl.handle.net/2027/uc2.ark:/13960/t7gq6st77?urlappend=%3Bseq=34\" target=\"_blank\">00000034.txt</a>, 472, Now these writers were not led to take such an attitude   merely out of general sympathy with the brute creation,   like Montaigne; they had an ulterior motive; namely,   to meet the objection raised in their time against the   doctrine of evolution, based on the supposed fact of a   great mental and moral gulf between man and the lower   animals.                                                                                                                                                                                                                                                                                                              </td><td>0.87014   </td></tr><tr><td><a href=\"http://hdl.handle.net/2027/uc2.ark:/13960/t7gq6st77?urlappend=%3Bseq=20\" target=\"_blank\">00000020.txt</a>, 242, observer is asked to study his own experience under certain   definite conditions, and to put it into words so that the experimenter may know what the contents of another mind are   like in the circumstances.                                                                                                                                                                                                                                                                                                                                                                                                                                                           </td><td>0.86558   </td></tr><tr><td><a href=\"http://hdl.handle.net/2027/uc2.ark:/13960/t7gq6st77?urlappend=%3Bseq=359\" target=\"_blank\">00000359.txt</a>, 5578, The play of animals.                                                                                                                                                                                                                                                                                                                                                                                                                                                                                                                                                                                                                                                     </td><td>0.82018   </td></tr><tr><td><a href=\"http://hdl.handle.net/2027/uc2.ark:/13960/t7gq6st77?urlappend=%3Bseq=39\" target=\"_blank\">00000039.txt</a>, 526, When this is lacking, there is not   the slightest scientific justification for assuming psychic   qualities.                                                                                                                                                                                                                                                                                                                                                                                                                                                                                                                                                              </td><td>0.81844   </td></tr><tr><td><a href=\"http://hdl.handle.net/2027/uc2.ark:/13960/t7gq6st77?urlappend=%3Bseq=54\" target=\"_blank\">00000054.txt</a>, 712, The terms \" discrimination,\" \" docility,\" and \"initiative\"   in this connection are borrowed from Royce's \" Outlines of   Psychology' 7 (649).                                                                                                                                                                                                                                                                                                                                                                                                                                                                                                                             </td><td>0.81844   </td></tr><tr><td><a href=\"http://hdl.handle.net/2027/uc2.ark:/13960/t7gq6st77?urlappend=%3Bseq=38\" target=\"_blank\">00000038.txt</a>, 520, In a footnote to a later   article he says : \"Psychic qualities cannot be demonstrated.                                                                                                                                                                                                                                                                                                                                                                                                                                                                                                                                                                                    </td><td>0.81781   </td></tr></table>"
       ],
       "metadata": {},
       "output_type": "pyout",
       "prompt_number": 2,
       "text": [
        "LabeledColumn([ ('<a href=\"http://hdl.handle.net/2027/uc2.ark:/13960/t7gq6st77?urlappend=%3Bseq=37\" target=\"_blank\">00000037.txt</a>, 505, The term   \" intelligence \" which most writers use to designate merely   the power of learning by individual experience, Wasmann   would reserve for the power of deducing and understanding relations, and would assign only to human beings   (761, 762).', 0.99656100192077302),\n",
        "       ('<a href=\"http://hdl.handle.net/2027/uc2.ark:/13960/t7gq6st77?urlappend=%3Bseq=19\" target=\"_blank\">00000019.txt</a>, 236, The science of human psychology   has to reckon with this unbridgeable gap between minds as   its chief difficulty.', 0.92642140566549425),\n",
        "       ('<a href=\"http://hdl.handle.net/2027/uc2.ark:/13960/t7gq6st77?urlappend=%3Bseq=53\" target=\"_blank\">00000053.txt</a>, 686, Inferring Mind from Structure     Both Yerkes and Lukas urge that the resemblance of an   animal\\'s nervous system and sense organs to those of human   beings ought to be taken into consideration in deciding   whether the animal is conscious or not.', 0.92401942347587995),\n",
        "       ...,\n",
        "       ('<a href=\"http://hdl.handle.net/2027/uc2.ark:/13960/t7gq6st77?urlappend=%3Bseq=215\" target=\"_blank\">00000215.txt</a>, 2548, Hence the animal will turn until its head points   towards the light: in this position random movements   towards either side will be equally checked because they will   equally tend to bring the head into a darker region ; and so   movement will take place in a line generally towards the   light, though still with balanced random movements to   either side.', 0.00050905210256933721),\n",
        "       ('<a href=\"http://hdl.handle.net/2027/uc2.ark:/13960/t7gq6st77?urlappend=%3Bseq=242\" target=\"_blank\">00000242.txt</a>, 2859, Two turtles   learned to discriminate between vertical lines eight millimeters in width and vertical lines two millimeters in width,   and one gifted animal learned to distinguish, first, lines   eight millimeters wide from lines one millimeter wide, then   between a width of four millimeters and a width of one   millimeter, then between four and two, and finally between   three and two millimeters.', 0.00045568262790381028),\n",
        "       ('<a href=\"http://hdl.handle.net/2027/uc2.ark:/13960/t7gq6st77?urlappend=%3Bseq=231\" target=\"_blank\">00000231.txt</a>, 2738, If an individual fish happened to be   heading directly toward the object, it would turn in the   opposite direction from the one in which the object was   moved ; if it was heading somewhat in the opposite direction already, it would turn farther in that direction until   parallel with the object\\'s line of motion ; if it was heading   somewhat in the same direction as the object, it would   \"back off hesitatingly,\" and reverse itself by a turn in   either direction, usually taking the way around toward   which it was already partially headed, if the object was   rapidly moved, but the other way around if the object\\'s   motion was slow.', 0.00037645077815372929)], \n",
        "      dtype=[('doc', '|S767'), ('value', '<f8')])"
       ]
      }
     ],
     "prompt_number": 2
    },
    {
     "cell_type": "markdown",
     "metadata": {},
     "source": [
      "**Below are the topics that relate to the resulting documents in edition 2.**"
     ]
    },
    {
     "cell_type": "code",
     "collapsed": false,
     "input": [
      "v2.topics(k_indices=[4,5,14])"
     ],
     "language": "python",
     "metadata": {},
     "outputs": [
      {
       "html": [
        "<table style=\"margin: 0\"><tr><th style=\"text-align: center; background: #CEE3F6\" colspan            =\"11\">Topics Sorted by Index</th></tr><tr><th style=\"text-align: center; background: #EFF2FB;\"                     >Topic</th><th style=\"text-align: center; background: #EFF2FB;\"                     >Words</th></tr><tr><td style=\"padding-left:0.75em;\">4</td><td> experience, animal, may, consciousness, human, behavior, different, conscious, sensation, memory             </td></tr><tr><td style=\"padding-left:0.75em;\">5</td><td> animal, psychology, experimental, study, method, comparative, intelligence, behavior, mental, methods            </td></tr><tr><td style=\"padding-left:0.75em;\">14</td><td> animals, evidence, mind, behavior, human, animal, structure, must, may, case               </td></tr></table>"
       ],
       "metadata": {},
       "output_type": "pyout",
       "prompt_number": 16,
       "text": [
        "CompactTable([[('experience', 0.02313436588554604),\n",
        "        ('animal', 0.021625766871164166), ('may', 0.020117167856782289),\n",
        "        ..., ('vision', 2.5143316906350636e-06),\n",
        "        ('left', 2.5143316906350636e-06), ('psych', 2.5143316906341704e-06)],\n",
        "       [('animal', 0.038346281908990476),\n",
        "        ('psychology', 0.032796892341842784),\n",
        "        ('experimental', 0.022202603168197218), ...,\n",
        "        ('human', 5.0448996064950944e-06),\n",
        "        ('others', 5.0448996064950944e-06),\n",
        "        ('however', 5.0448996064950944e-06)],\n",
        "       [('animals', 0.027491789233184023),\n",
        "        ('evidence', 0.021422961587889526), ('mind', 0.019281022418962065),\n",
        "        ..., ('mechanical', 3.5698986148771307e-06),\n",
        "        ('reactions', 3.5698986148758623e-06),\n",
        "        ('exper', 3.5698986148758623e-06)]], \n",
        "      dtype=[('word', '|S17'), ('value', '<f8')])"
       ]
      }
     ],
     "prompt_number": 16
    },
    {
     "cell_type": "markdown",
     "metadata": {},
     "source": [
      "**Below are sentences in edition 3 that are similar to the arguments.**"
     ]
    },
    {
     "cell_type": "code",
     "collapsed": false,
     "input": [
      "sim_sent_sent_across(v1, v3, bv50, [410, 411, 412, 413, 414, 415, 416])"
     ],
     "language": "python",
     "metadata": {},
     "outputs": [
      {
       "output_type": "stream",
       "stream": "stdout",
       "text": [
        "BEAGLE composite model replaced behaves by behavior\n",
        "Related topics: "
       ]
      },
      {
       "output_type": "stream",
       "stream": "stdout",
       "text": [
        " [13, 11, 16]\n"
       ]
      },
      {
       "html": [
        "<table style=\"margin: 0\"><tr><th style=\"text-align: center; background: #CEE3F6\" colspan                    =\"2\">Topics: 13, 11, 16</th></tr><tr><th style=\"text-align: center; background: #EFF2FB; \">Document                          </th><th style=\"text-align: center; background: #EFF2FB; \">Prob                          </th></tr><tr><td><a href=\"http://hdl.handle.net/2027/mdp.39015011339705?urlappend=%3Bseq=69\" target=\"_blank\">00000069.txt</a>, 888, Another consequence of that simplicity of structure which results both from the rudimentary powers of sensory discrimination and from the absence of memory ideas in the Amceba's mind is that there can be no distinction, within a given mental process, between that which is attended to and that which is not attended to, between the focus and the margin of consciousness.                                                                                                                                                                                                                                                                                   </td><td>0.87776   </td></tr><tr><td><a href=\"http://hdl.handle.net/2027/mdp.39015011339705?urlappend=%3Bseq=366\" target=\"_blank\">00000366.txt</a>, 4732, If it is true that instinct unmodified by experience is adapted to general rather than to special features of environment,1 it seems likely that the phenomena of attention as we 1 In this connection Franz's experimental demonstration that the frontal lobes, long regarded as the seat of the neural processes under-                                                                                                                                                                                                                                                                                                                                         </td><td>0.87103   </td></tr><tr><td><a href=\"http://hdl.handle.net/2027/mdp.39015011339705?urlappend=%3Bseq=73\" target=\"_blank\">00000073.txt</a>, 935, If an animal is capable only of a half dozen different ways of responding to stimulation, we may with comparative safety assume that it has less opportunity to hold them in reserve; and if such an animal invariably reacts in the same way to two different forms of stimulus, or if the variations in its response are not correlated with differences in the stimulation, it becomes probable that the two stimuli produce in its assumed consciousness identical sensation qualities.                                                                                                                                                                          </td><td>0.86026   </td></tr><tr><td><a href=\"http://hdl.handle.net/2027/mdp.39015011339705?urlappend=%3Bseq=29\" target=\"_blank\">00000029.txt</a>, 342, The maker of an anecdote is seldom content with merely telling one what the animal did and leaving future investigation and the comparative study of many facts to decide what the animal's conscious experience in doing it was like.                                                                                                                                                                                                                                                                                                                                                                                                                               </td><td>0.85082   </td></tr><tr><td><a href=\"http://hdl.handle.net/2027/mdp.39015011339705?urlappend=%3Bseq=41\" target=\"_blank\">00000041.txt</a>, 533, \" The main purpose of this paper was to suggest that all terms having a psychological implication, such as sight, smell, sense-organ, memory, learning, and the like, be carefully excluded from discussions of animal reactions to stimulation and animal behavior generally.                                                                                                                                                                                                                                                                                                                                                                                       </td><td>0.84344   </td></tr><tr><td><a href=\"http://hdl.handle.net/2027/mdp.39015011339705?urlappend=%3Bseq=411\" target=\"_blank\">00000411.txt</a>, 8445, The mechanistic conception of life.                                                                                                                                                                                                                                                                                                                                                                                                                                                                                                                                                                                                                                </td><td>0.82018   </td></tr><tr><td><a href=\"http://hdl.handle.net/2027/mdp.39015011339705?urlappend=%3Bseq=393\" target=\"_blank\">00000393.txt</a>, 6380, The habits and movements of the razor-shell clam.                                                                                                                                                                                                                                                                                                                                                                                                                                                                                                                                                                                                                  </td><td>0.82018   </td></tr><tr><td><a href=\"http://hdl.handle.net/2027/mdp.39015011339705?urlappend=%3Bseq=40\" target=\"_blank\">00000040.txt</a>, 514, A living being is forever distinguished from a lifeless creature by the presence of such entelechies.                                                                                                                                                                                                                                                                                                                                                                                                                                                                                                                                                                </td><td>0.81844   </td></tr><tr><td><a href=\"http://hdl.handle.net/2027/mdp.39015011339705?urlappend=%3Bseq=379\" target=\"_blank\">00000379.txt</a>, 4872, Some points regarding the behavior of Metridium.                                                                                                                                                                                                                                                                                                                                                                                                                                                                                                                                                                                                                   </td><td>0.81844   </td></tr><tr><td><a href=\"http://hdl.handle.net/2027/mdp.39015011339705?urlappend=%3Bseq=337\" target=\"_blank\">00000337.txt</a>, 4355, Much the same sort of phenomena are reported                                                                                                                                                                                                                                                                                                                                                                                                                                                                                                                                                                                                                       </td><td>0.81844   </td></tr></table>"
       ],
       "metadata": {},
       "output_type": "pyout",
       "prompt_number": 5,
       "text": [
        "LabeledColumn([ ('<a href=\"http://hdl.handle.net/2027/mdp.39015011339705?urlappend=%3Bseq=69\" target=\"_blank\">00000069.txt</a>, 888, Another consequence of that simplicity of structure which results both from the rudimentary powers of sensory discrimination and from the absence of memory ideas in the Amceba\\'s mind is that there can be no distinction, within a given mental process, between that which is attended to and that which is not attended to, between the focus and the margin of consciousness.', 0.87776431991251136),\n",
        "       ('<a href=\"http://hdl.handle.net/2027/mdp.39015011339705?urlappend=%3Bseq=366\" target=\"_blank\">00000366.txt</a>, 4732, If it is true that instinct unmodified by experience is adapted to general rather than to special features of environment,1 it seems likely that the phenomena of attention as we 1 In this connection Franz\\'s experimental demonstration that the frontal lobes, long regarded as the seat of the neural processes under- ', 0.87102739000645757),\n",
        "       ('<a href=\"http://hdl.handle.net/2027/mdp.39015011339705?urlappend=%3Bseq=73\" target=\"_blank\">00000073.txt</a>, 935, If an animal is capable only of a half dozen different ways of responding to stimulation, we may with comparative safety assume that it has less opportunity to hold them in reserve; and if such an animal invariably reacts in the same way to two different forms of stimulus, or if the variations in its response are not correlated with differences in the stimulation, it becomes probable that the two stimuli produce in its assumed consciousness identical sensation qualities.', 0.86025839128681691),\n",
        "       ...,\n",
        "       ('<a href=\"http://hdl.handle.net/2027/mdp.39015011339705?urlappend=%3Bseq=351\" target=\"_blank\">00000351.txt</a>, 4544, (b) A certain type of movement is regularly in a state of heightened readiness; for example, the movements of withdrawal from injury, as is shown by the very rapid learning that punishment produces, (c) Frequency of previous discharge leaves a motor pathway in a condition of heightened readiness; this is shown by the favorable effect of repetition on learning, (d) Immediately after a motor pathway has discharged, there is a short refractory period during which its activity is inhibited, but following this there is for some sec- ', 0.00051621839609030426),\n",
        "       ('<a href=\"http://hdl.handle.net/2027/mdp.39015011339705?urlappend=%3Bseq=353\" target=\"_blank\">00000353.txt</a>, 4559, Szymanski\\'s observation that a rat will not learn a maze with food in the centre if he is not hungry, and that after he has learned it he will not run it correctly unless he is hungry will be recalled (see p. 325); also the writer\\'s experiments showing that while speed of movement of white mice in a maze may result from either hunger or from general activity, only the speed resulting from hunger is correlated with the elimination of errors.', 0.00050927650250202135),\n",
        "       ('<a href=\"http://hdl.handle.net/2027/mdp.39015011339705?urlappend=%3Bseq=211\" target=\"_blank\">00000211.txt</a>, 2732, Hence the animal will turn until its head points towards the light: in this position random movements towards either side will be equally checked because they will equally tend to bring the head into a darker region; and so movement will take place in a line generally towards the light, though still with balanced random movements to either side.', 0.00049472992434003167)], \n",
        "      dtype=[('doc', '|S755'), ('value', '<f8')])"
       ]
      }
     ],
     "prompt_number": 5
    },
    {
     "cell_type": "markdown",
     "metadata": {},
     "source": [
      "**Below are the topics that relate to the resulting documents in edition 3.**"
     ]
    },
    {
     "cell_type": "code",
     "collapsed": false,
     "input": [
      "v3.topics(k_indices=[13, 11, 16])"
     ],
     "language": "python",
     "metadata": {},
     "outputs": [
      {
       "html": [
        "<table style=\"margin: 0\"><tr><th style=\"text-align: center; background: #CEE3F6\" colspan            =\"11\">Topics Sorted by Index</th></tr><tr><th style=\"text-align: center; background: #EFF2FB;\"                     >Topic</th><th style=\"text-align: center; background: #EFF2FB;\"                     >Words</th></tr><tr><td style=\"padding-left:0.75em;\">13</td><td> animal, experience, memory, animals, may, behavior, would, ideas, must, mind                 </td></tr><tr><td style=\"padding-left:0.75em;\">11</td><td> stimulus, stimuli, may, reaction, animal, different, reactions, animals, sensation, stimulation          </td></tr><tr><td style=\"padding-left:0.75em;\">16</td><td> behavior, animals, animal, study, psychology, experimental, method, comparative, methods, evidence             </td></tr></table>"
       ],
       "metadata": {},
       "output_type": "pyout",
       "prompt_number": 10,
       "text": [
        "CompactTable([[('animal', 0.022273314936333357),\n",
        "        ('experience', 0.014804061101211506),\n",
        "        ('memory', 0.012631187258266969), ...,\n",
        "        ('activity', 1.3580461518400663e-06),\n",
        "        ('visual', 1.3580461518391013e-06),\n",
        "        ('response', 1.3580461518391013e-06)],\n",
        "       [('stimulus', 0.019402457198188325),\n",
        "        ('stimuli', 0.015453633947517312), ('may', 0.015281945980096825),\n",
        "        ..., ('bull', 1.7168796742044479e-06),\n",
        "        ('called', 1.716879674203838e-06), ('proc', 1.716879674203838e-06)],\n",
        "       [('behavior', 0.032389096371426472),\n",
        "        ('animals', 0.024120419497538209), ('animal', 0.0227423066852235),\n",
        "        ..., ('effect', 3.445282030783642e-06),\n",
        "        ('time', 3.445282030783642e-06), ('cases', 3.4452820307824176e-06)]], \n",
        "      dtype=[('word', '|S19'), ('value', '<f8')])"
       ]
      }
     ],
     "prompt_number": 10
    },
    {
     "cell_type": "markdown",
     "metadata": {},
     "source": [
      "**<< Mapped Arguments 2 >>** </br>\n",
      "**Chapter 1 Difficulties and Methods of Comparative Psychology __5. Methods of Interpreting Facts** </br>\n",
      "Views of Montaigne"
     ]
    },
    {
     "cell_type": "code",
     "collapsed": false,
     "input": [
      "v1.sim_doc_doc([419, 420, 422, 423, 427, 431, 432, 433, 434], label_fn=vol_link_fn)"
     ],
     "language": "python",
     "metadata": {},
     "outputs": [
      {
       "html": [
        "<table style=\"margin: 0\"><tr><th style=\"text-align: center; background: #CEE3F6\" colspan                    =\"2\">Documents: </th></tr><tr><th style=\"text-align: center; background: #EFF2FB; \">Document                          </th><th style=\"text-align: center; background: #EFF2FB; \">Value                          </th></tr><tr><td><a href=\"http://hdl.handle.net/2027/njp.32101063553950?urlappend=%3Bseq=64\" target=\"_blank\">00000062.txt</a>, 850, Let us consider for a moment some of the results of the   absence of this kind of material in the possible mental processes of Amoeba.                                                                                                                                                                                                                                                                                                                                                                                                                                                                                                                                                                 </td><td>0.82108   </td></tr><tr><td><a href=\"http://hdl.handle.net/2027/njp.32101063553950?urlappend=%3Bseq=306\" target=\"_blank\">00000304.txt</a>, 3743, If the experience of consequences is slowly acquired, by   many repetitions, the process of reacting to an object originally   indifferent may be unaccompanied by any ideas of the consequences of such reaction.                                                                                                                                                                                                                                                                                                                                                                                                                                                                                   </td><td>0.79076   </td></tr><tr><td><a href=\"http://hdl.handle.net/2027/njp.32101063553950?urlappend=%3Bseq=298\" target=\"_blank\">00000296.txt</a>, 3658, The attention is   absorbed in external objects quite as much in play as in                                                                                                                                                                                                                                                                                                                                                                                                                                                                                                                                                                                                                          </td><td>0.79060   </td></tr><tr><td><a href=\"http://hdl.handle.net/2027/njp.32101063553950?urlappend=%3Bseq=64\" target=\"_blank\">00000062.txt</a>, 858, It is equally obvious that in the absence of memory ideas,   not only must the Amoeba lack processes of imagination and   reasoning, but there can be nothing like the continuous self-   consciousness of a human being, the \" sense \" of personal identity, which depends upon the power to revive past experiences.                                                                                                                                                                                                                                                                                                                                                                                 </td><td>0.79032   </td></tr><tr><td><a href=\"http://hdl.handle.net/2027/njp.32101063553950?urlappend=%3Bseq=19\" target=\"_blank\">00000017.txt</a>, 253, Again, a bodily structure entirely unlike our own   must create a background of organic sensation which renders   the whole mental life of an animal foreign and unfamiliar to   us.                                                                                                                                                                                                                                                                                                                                                                                                                                                                                                                   </td><td>0.78911   </td></tr><tr><td><a href=\"http://hdl.handle.net/2027/njp.32101063553950?urlappend=%3Bseq=288\" target=\"_blank\">00000286.txt</a>, 3528, A dog shows depression during his master's   absence, but his state of mind may be merely vague discomfort at the lack of an accustomed set of stimuli, not an idea   of what he wants.                                                                                                                                                                                                                                                                                                                                                                                                                                                                                                              </td><td>0.78911   </td></tr><tr><td><a href=\"http://hdl.handle.net/2027/njp.32101063553950?urlappend=%3Bseq=258\" target=\"_blank\">00000256.txt</a>, 3181, To the human mind, accustomed to   more analysis of its own experiences, one of these would   suggest the other, but we cannot argue that because such an   association is not made in the animal's mind, therefore the   latter is incapable of ideas, any more than we could conclude   a total absence of ideas in the consciousness of a man to   whom a primrose by the river's brim does not suggest thoughts   of the moral government of the Universe.                                                                                                                                                                                                                                       </td><td>0.78868   </td></tr><tr><td><a href=\"http://hdl.handle.net/2027/njp.32101063553950?urlappend=%3Bseq=286\" target=\"_blank\">00000284.txt</a>, 3511, Evidence for and against Ideas in Animals     IN the last chapter we have seen that the behavior of the   lower forms of animal life, at least, can be fully explained   without supposing that the animals concerned ever consciously   recall the effects of a previously experienced stimulus in the   entire absence of the stimulus itself.                                                                                                                                                                                                                                                                                                                                                     </td><td>0.78835   </td></tr><tr><td><a href=\"http://hdl.handle.net/2027/njp.32101063553950?urlappend=%3Bseq=218\" target=\"_blank\">00000216.txt</a>, 2704, It is   a good deal easier, of course, to ask than to answer such   questions.                                                                                                                                                                                                                                                                                                                                                                                                                                                                                                                                                                                                                       </td><td>0.78794   </td></tr><tr><td><a href=\"http://hdl.handle.net/2027/njp.32101063553950?urlappend=%3Bseq=245\" target=\"_blank\">00000243.txt</a>, 3029, \" Nor can we show that an animal was not guided   by some other stimuli, say visual ones, in learning the labyrinth, when we prove that having once learned it, the animal   is not disturbed by the removal of these stimuli.                                                                                                                                                                                                                                                                                                                                                                                                                                                                       </td><td>0.78780   </td></tr></table>"
       ],
       "metadata": {},
       "output_type": "pyout",
       "prompt_number": 8,
       "text": [
        "LabeledColumn([ ('<a href=\"http://hdl.handle.net/2027/njp.32101063553950?urlappend=%3Bseq=64\" target=\"_blank\">00000062.txt</a>, 850, Let us consider for a moment some of the results of the   absence of this kind of material in the possible mental processes of Amoeba.', 0.82108300452952332),\n",
        "       ('<a href=\"http://hdl.handle.net/2027/njp.32101063553950?urlappend=%3Bseq=306\" target=\"_blank\">00000304.txt</a>, 3743, If the experience of consequences is slowly acquired, by   many repetitions, the process of reacting to an object originally   indifferent may be unaccompanied by any ideas of the consequences of such reaction.', 0.79075833328970924),\n",
        "       ('<a href=\"http://hdl.handle.net/2027/njp.32101063553950?urlappend=%3Bseq=298\" target=\"_blank\">00000296.txt</a>, 3658, The attention is   absorbed in external objects quite as much in play as in    ', 0.79060376036679214),\n",
        "       ...,\n",
        "       ('<a href=\"http://hdl.handle.net/2027/njp.32101063553950?urlappend=%3Bseq=305\" target=\"_blank\">00000303.txt</a>, 3736, The response to   it is in most cases adapted rather to its importance than to   its physical strength A third arrangement for the securing   of reaction to vitally important stimulation lies in the existence   of preformed connections in the nervous system, which bring   it about that the path of the excitation produced by one stimulus is clear to the motor apparatus, while that of another is   closed.', 0.0046210444291937417),\n",
        "       ('<a href=\"http://hdl.handle.net/2027/njp.32101063553950?urlappend=%3Bseq=268\" target=\"_blank\">00000266.txt</a>, 3299, The animals learned to climb up for food   when one of two differently colored cards was shown, and   to stay down when the other one appeared; to distinguish   in a similar way between a high and a low tone, between   a round and a square card, and between a card 6| x 6J   inches and one 4^ x 4^ inches square.', 0.0044960120368206652),\n",
        "       ('<a href=\"http://hdl.handle.net/2027/njp.32101063553950?urlappend=%3Bseq=79\" target=\"_blank\">00000077.txt</a>, 1032, Though light and mechanical stimulation,   for example, both ordinarily produce a negative reaction,   yet if light brings about its effect only through the medium   of a specialized structure with which mechanical stimuli   are not concerned, then along with the probable unpleasantness accompanying the negative reaction there may   go a quality peculiar to the functioning of that special   structure.', 0.0043615653460775082)], \n",
        "      dtype=[('doc', '|S789'), ('value', '<f8')])"
       ]
      }
     ],
     "prompt_number": 8
    },
    {
     "cell_type": "code",
     "collapsed": false,
     "input": [
      "sim_sent_sent_across(v1, v2, bv50,\n",
      "                     [419, 420, 422, 423, 427, 431, 432, 433, 434])"
     ],
     "language": "python",
     "metadata": {},
     "outputs": [
      {
       "output_type": "stream",
       "stream": "stdout",
       "text": [
        "BEAGLE composite model replaced approach by translation\n",
        "BEAGLE composite model replaced judgment by translation"
       ]
      },
      {
       "output_type": "stream",
       "stream": "stdout",
       "text": [
        "\n",
        "Related topics: "
       ]
      },
      {
       "output_type": "stream",
       "stream": "stdout",
       "text": [
        " [16, 14, 8]\n"
       ]
      },
      {
       "html": [
        "<table style=\"margin: 0\"><tr><th style=\"text-align: center; background: #CEE3F6\" colspan                    =\"2\">Topics: 16, 14, 8</th></tr><tr><th style=\"text-align: center; background: #EFF2FB; \">Document                          </th><th style=\"text-align: center; background: #EFF2FB; \">Prob                          </th></tr><tr><td><a href=\"http://hdl.handle.net/2027/uc2.ark:/13960/t7gq6st77?urlappend=%3Bseq=276\" target=\"_blank\">00000276.txt</a>, 3243, The spider experimented                                                                                                                                                                                                                                                                                                                                                                                                                                                                                                                                                                                                                                                  </td><td>0.82018   </td></tr><tr><td><a href=\"http://hdl.handle.net/2027/uc2.ark:/13960/t7gq6st77?urlappend=%3Bseq=158\" target=\"_blank\">00000158.txt</a>, 1899,    quick withdrawal into the burrow (171, 327), but the reaction time to light is much longer than that to mechanidal   stimulation.                                                                                                                                                                                                                                                                                                                                                                                                                                                                                                                                     </td><td>0.81749   </td></tr><tr><td><a href=\"http://hdl.handle.net/2027/uc2.ark:/13960/t7gq6st77?urlappend=%3Bseq=22\" target=\"_blank\">00000022.txt</a>, 267, One happy consequence of   this fact, which to a slight extent balances its disadvantages,   is that we have not to contend with self-consciousness and   posing, which often invalidate human reports of introspection.                                                                                                                                                                                                                                                                                                                                                                                                                                                   </td><td>0.81749   </td></tr><tr><td><a href=\"http://hdl.handle.net/2027/uc2.ark:/13960/t7gq6st77?urlappend=%3Bseq=62\" target=\"_blank\">00000062.txt</a>, 795, \" Its mode of getting   out of the difficulty is to send out \"long, slender pseudopodia   in all directions,\" until \"the body may become reduced to   little more than a meeting point for these pseudopodia\"   (378, p. 8).                                                                                                                                                                                                                                                                                                                                                                                                                                               </td><td>0.81707   </td></tr><tr><td><a href=\"http://hdl.handle.net/2027/uc2.ark:/13960/t7gq6st77?urlappend=%3Bseq=265\" target=\"_blank\">00000265.txt</a>, 3116, Frandsen   found that if the slug Limax maximus has a tentacle touched   several times in succession, it at first withdraws the tentacle and turns away from the stimulus.                                                                                                                                                                                                                                                                                                                                                                                                                                                                                               </td><td>0.81472   </td></tr><tr><td><a href=\"http://hdl.handle.net/2027/uc2.ark:/13960/t7gq6st77?urlappend=%3Bseq=91\" target=\"_blank\">00000091.txt</a>, 1125, Metridium, a common sea-anemone of our coasts, has   its tentacles covered with cilia which have a continual   waving motion toward the tip of the tentacle (Fig.                                                                                                                                                                                                                                                                                                                                                                                                                                                                                                         </td><td>0.81388   </td></tr><tr><td><a href=\"http://hdl.handle.net/2027/uc2.ark:/13960/t7gq6st77?urlappend=%3Bseq=66\" target=\"_blank\">00000066.txt</a>, 847, A large Amoeba, c, had   swallowed a smaller one, , but had left a small canal   open, through which the swallowed one made efforts to   escape, which were several times foiled by movements on   the part of the large Amoeba toward surrounding it again.                                                                                                                                                                                                                                                                                                                                                                                                               </td><td>0.81352   </td></tr><tr><td><a href=\"http://hdl.handle.net/2027/uc2.ark:/13960/t7gq6st77?urlappend=%3Bseq=26\" target=\"_blank\">00000026.txt</a>, 347, As Thorndike has forcibly   put it : \"Dogs get lost hundreds of times and no one ever   notices it or sends an account of it to a scientific magazine.                                                                                                                                                                                                                                                                                                                                                                                                                                                                                                                     </td><td>0.81241   </td></tr><tr><td><a href=\"http://hdl.handle.net/2027/uc2.ark:/13960/t7gq6st77?urlappend=%3Bseq=315\" target=\"_blank\">00000315.txt</a>, 3684, At   first he looked about over the floor for food and then   climbed the front wire, stopping on the brace opposite the   chute.                                                                                                                                                                                                                                                                                                                                                                                                                                                                                                                                        </td><td>0.81241   </td></tr><tr><td><a href=\"http://hdl.handle.net/2027/uc2.ark:/13960/t7gq6st77?urlappend=%3Bseq=75\" target=\"_blank\">00000075.txt</a>, 933, The salivary ducts of the dog,   which lie near the surface, are operated on so that the   saliva can be discharged into a graduated tube.                                                                                                                                                                                                                                                                                                                                                                                                                                                                                                                                 </td><td>0.80946   </td></tr></table>"
       ],
       "metadata": {},
       "output_type": "pyout",
       "prompt_number": 8,
       "text": [
        "LabeledColumn([ ('<a href=\"http://hdl.handle.net/2027/uc2.ark:/13960/t7gq6st77?urlappend=%3Bseq=276\" target=\"_blank\">00000276.txt</a>, 3243, The spider experimented    ', 0.82017691569134887),\n",
        "       ('<a href=\"http://hdl.handle.net/2027/uc2.ark:/13960/t7gq6st77?urlappend=%3Bseq=158\" target=\"_blank\">00000158.txt</a>, 1899,    quick withdrawal into the burrow (171, 327), but the reaction time to light is much longer than that to mechanidal   stimulation.', 0.817491779358965),\n",
        "       ('<a href=\"http://hdl.handle.net/2027/uc2.ark:/13960/t7gq6st77?urlappend=%3Bseq=22\" target=\"_blank\">00000022.txt</a>, 267, One happy consequence of   this fact, which to a slight extent balances its disadvantages,   is that we have not to contend with self-consciousness and   posing, which often invalidate human reports of introspection.', 0.817491779358965),\n",
        "       ...,\n",
        "       ('<a href=\"http://hdl.handle.net/2027/uc2.ark:/13960/t7gq6st77?urlappend=%3Bseq=125\" target=\"_blank\">00000125.txt</a>, 1526, How Bees \"Recognize\" Nest Mates     The nest smell, which characterizes each hive and prevents the reception of strangers, who are treated precisely   as by ants in similar circumstances, is composed according   to von Buttel-Reepen of the following odors: the individual odor of different workers ; the family odor, common   to all the offspring of the same queen ; the larval smell and   food smell ; the drone smell, the wax smell, and the honey   smell.', 0.00053871981398675203),\n",
        "       ('<a href=\"http://hdl.handle.net/2027/uc2.ark:/13960/t7gq6st77?urlappend=%3Bseq=242\" target=\"_blank\">00000242.txt</a>, 2859, Two turtles   learned to discriminate between vertical lines eight millimeters in width and vertical lines two millimeters in width,   and one gifted animal learned to distinguish, first, lines   eight millimeters wide from lines one millimeter wide, then   between a width of four millimeters and a width of one   millimeter, then between four and two, and finally between   three and two millimeters.', 0.00045568262790377992),\n",
        "       ('<a href=\"http://hdl.handle.net/2027/uc2.ark:/13960/t7gq6st77?urlappend=%3Bseq=407\" target=\"_blank\">00000407.txt</a>, 9634,    UNDER THE GENERAL EDITORSHIP OF     ROBERT M. YERKES, Ph.D.     Assistant Professor of Comparative Psychology, Harvard University     The aim of the Series is to present a number of small volumes which   taken together shall form a comprehensive introduction to Comparative Psychology     NOW READY     The Dancing Mouse     By ROBERT M. YERKES, Ph.D.     Cloth, I2mo, xxi + 290 pages, illus., $ 135     \" Dr. Yerkes\\' book is a most interesting example of modern laboratory methods   and can be read with profit by any one, on account of the accurate methods   of observation and careful deductive reasoning which it shows.', 0.00045504684641264746)], \n",
        "      dtype=[('doc', '|S767'), ('value', '<f8')])"
       ]
      }
     ],
     "prompt_number": 8
    },
    {
     "cell_type": "code",
     "collapsed": false,
     "input": [
      "v2.topics(k_indices=[16, 14, 8])"
     ],
     "language": "python",
     "metadata": {},
     "outputs": [
      {
       "html": [
        "<table style=\"margin: 0\"><tr><th style=\"text-align: center; background: #CEE3F6\" colspan            =\"11\">Topics Sorted by Index</th></tr><tr><th style=\"text-align: center; background: #EFF2FB;\"                     >Topic</th><th style=\"text-align: center; background: #EFF2FB;\"                     >Words</th></tr><tr><td style=\"padding-left:0.75em;\">16</td><td> food, time, one, paper, right, would, could, stimulus, left, first              </td></tr><tr><td style=\"padding-left:0.75em;\">14</td><td> animals, evidence, mind, behavior, human, animal, structure, must, may, case               </td></tr><tr><td style=\"padding-left:0.75em;\">8</td><td> end, side, one, animal, body, light, toward, direction, head, away               </td></tr></table>"
       ],
       "metadata": {},
       "output_type": "pyout",
       "prompt_number": 11,
       "text": [
        "CompactTable([[('food', 0.022602739726026409), ('time', 0.018082887142757013),\n",
        "        ('one', 0.015996801335094218), ...,\n",
        "        ('negative', 3.476809679436069e-06),\n",
        "        ('experience', 3.476809679436069e-06),\n",
        "        ('psych', 3.4768096794348341e-06)],\n",
        "       [('animals', 0.027491789233184023),\n",
        "        ('evidence', 0.021422961587889526), ('mind', 0.019281022418962065),\n",
        "        ..., ('mechanical', 3.5698986148771307e-06),\n",
        "        ('reactions', 3.5698986148758623e-06),\n",
        "        ('exper', 3.5698986148758623e-06)],\n",
        "       [('end', 0.018802398252120153), ('side', 0.018294293989125417),\n",
        "        ('one', 0.017278085463135948), ...,\n",
        "        ('effect', 2.5405213149727162e-06),\n",
        "        ('observed', 2.5405213149722652e-06),\n",
        "        ('certain', 2.5405213149713627e-06)]], \n",
        "      dtype=[('word', '|S17'), ('value', '<f8')])"
       ]
      }
     ],
     "prompt_number": 11
    },
    {
     "cell_type": "code",
     "collapsed": false,
     "input": [
      "sim_sent_sent_across(v1, v3, bv50,\n",
      "                     [419, 420, 422, 423, 427, 431, 432, 433, 434])"
     ],
     "language": "python",
     "metadata": {},
     "outputs": [
      {
       "output_type": "stream",
       "stream": "stdout",
       "text": [
        "BEAGLE composite model replaced approach by translation\n",
        "BEAGLE composite model replaced judgment by translation"
       ]
      },
      {
       "output_type": "stream",
       "stream": "stdout",
       "text": [
        "\n",
        "Related topics: "
       ]
      },
      {
       "output_type": "stream",
       "stream": "stdout",
       "text": [
        " [13, 17, 8]\n"
       ]
      },
      {
       "html": [
        "<table style=\"margin: 0\"><tr><th style=\"text-align: center; background: #CEE3F6\" colspan                    =\"2\">Topics: 13, 17, 8</th></tr><tr><th style=\"text-align: center; background: #EFF2FB; \">Document                          </th><th style=\"text-align: center; background: #EFF2FB; \">Prob                          </th></tr><tr><td><a href=\"http://hdl.handle.net/2027/mdp.39015011339705?urlappend=%3Bseq=302\" target=\"_blank\">00000302.txt</a>, 3913, The truth of this is evidenced by the fact that if we break down in playing a certain passage, we can recover ourselves by going back a little, so as to get the proper kinesthetic stimuli.                                                                                                                                                                                                                                                                                                                                                                                                                                                                       </td><td>0.95741   </td></tr><tr><td><a href=\"http://hdl.handle.net/2027/mdp.39015011339705?urlappend=%3Bseq=341\" target=\"_blank\">00000341.txt</a>, 4410, It is clear that the interval between repetitions must not be so great that forgetting occurs.                                                                                                                                                                                                                                                                                                                                                                                                                                                                                                                                                                     </td><td>0.92769   </td></tr><tr><td><a href=\"http://hdl.handle.net/2027/mdp.39015011339705?urlappend=%3Bseq=293\" target=\"_blank\">00000293.txt</a>, 3792, In a later test with this box the rat chanced to be extremely hungry, and dug violently for several seconds, displaying a blunting of the discriminative powers by hunger, analogous to that which we have found in very low animals.                                                                                                                                                                                                                                                                                                                                                                                                                              </td><td>0.89709   </td></tr><tr><td><a href=\"http://hdl.handle.net/2027/mdp.39015011339705?urlappend=%3Bseq=279\" target=\"_blank\">00000279.txt</a>, 3621, With this law in mind as an essential postulate, we shall survey the types of true learning found in the lower animals under the following four heads: (1) learning involving the dropping out of movements; (2) learning involving the formation of series of movements; (3) the recognition of landmarks; (4) learning involving the anticipation of movements.                                                                                                                                                                                                                                                                                                  </td><td>0.87183   </td></tr><tr><td><a href=\"http://hdl.handle.net/2027/mdp.39015011339705?urlappend=%3Bseq=254\" target=\"_blank\">00000254.txt</a>, 3310, When, however, the mice were required to judge which of two partitions was nearer to their starting-point, and to turn to the right or the left in accordance with this preliminary judgment in returning to their nest, they failed: this really involves a rather complex type of learning, and is a much less fair test of the mere ability to perceive distance than is the instinctive reaction of jumping.                                                                                                                                                                                                                                                   </td><td>0.84493   </td></tr><tr><td><a href=\"http://hdl.handle.net/2027/mdp.39015011339705?urlappend=%3Bseq=338\" target=\"_blank\">00000338.txt</a>, 4359, (1) They learn too quickly to allow of their understanding.                                                                                                                                                                                                                                                                                                                                                                                                                                                                                                                                                                                                        </td><td>0.81844   </td></tr><tr><td><a href=\"http://hdl.handle.net/2027/mdp.39015011339705?urlappend=%3Bseq=39\" target=\"_blank\">00000039.txt</a>, 507, \"Every psychic phenomenon is the same real thing as the molecular or neuro- cymic activity of the brain-cortex coinciding with it\" (310, p. 7).                                                                                                                                                                                                                                                                                                                                                                                                                                                                                                                      </td><td>0.81781   </td></tr><tr><td><a href=\"http://hdl.handle.net/2027/mdp.39015011339705?urlappend=%3Bseq=350\" target=\"_blank\">00000350.txt</a>, 4526, Six out of twelve rat mothers displayed similar indifference in Simmons's experiments (930).                                                                                                                                                                                                                                                                                                                                                                                                                                                                                                                                                                       </td><td>0.81749   </td></tr><tr><td><a href=\"http://hdl.handle.net/2027/mdp.39015011339705?urlappend=%3Bseq=248\" target=\"_blank\">00000248.txt</a>, 3216, Von Buttel-Reepen, however, doubts whether the bees really never visited the town.                                                                                                                                                                                                                                                                                                                                                                                                                                                                                                                                                                                 </td><td>0.81749   </td></tr><tr><td><a href=\"http://hdl.handle.net/2027/mdp.39015011339705?urlappend=%3Bseq=296\" target=\"_blank\">00000296.txt</a>, 3829, In a pure maze experiment, however, there is no way of distinguishing between the passages except by experiencing the consequences of following them.                                                                                                                                                                                                                                                                                                                                                                                                                                                                                                              </td><td>0.81730   </td></tr></table>"
       ],
       "metadata": {},
       "output_type": "pyout",
       "prompt_number": 9,
       "text": [
        "LabeledColumn([ ('<a href=\"http://hdl.handle.net/2027/mdp.39015011339705?urlappend=%3Bseq=302\" target=\"_blank\">00000302.txt</a>, 3913, The truth of this is evidenced by the fact that if we break down in playing a certain passage, we can recover ourselves by going back a little, so as to get the proper kinesthetic stimuli.', 0.95740900810473084),\n",
        "       ('<a href=\"http://hdl.handle.net/2027/mdp.39015011339705?urlappend=%3Bseq=341\" target=\"_blank\">00000341.txt</a>, 4410, It is clear that the interval between repetitions must not be so great that forgetting occurs.', 0.92768608360670668),\n",
        "       ('<a href=\"http://hdl.handle.net/2027/mdp.39015011339705?urlappend=%3Bseq=293\" target=\"_blank\">00000293.txt</a>, 3792, In a later test with this box the rat chanced to be extremely hungry, and dug violently for several seconds, displaying a blunting of the discriminative powers by hunger, analogous to that which we have found in very low animals.', 0.89709447390615249),\n",
        "       ...,\n",
        "       ('<a href=\"http://hdl.handle.net/2027/mdp.39015011339705?urlappend=%3Bseq=325\" target=\"_blank\">00000325.txt</a>, 4214, A, reaction mechanisms, nine similar boxes or stalls; V, stall number 4; O, entrance door of box; P, exit door of box ; T, food trough of box; G, observer\\'s stand and H, writing table; D, runwaj between trough, T, and stand, O; S, 8, yards; B, reaction space; R, E, alleys or runways connecting D with 8; I, observer\\'s entrance door to apparatus; J, observer\\'s entrance door to reaction space Bj L, M, slide doors between yards and reaction space; K, N, slide doors between yards and alleys.', 0.00051643404591404955),\n",
        "       ('<a href=\"http://hdl.handle.net/2027/mdp.39015011339705?urlappend=%3Bseq=211\" target=\"_blank\">00000211.txt</a>, 2732, Hence the animal will turn until its head points towards the light: in this position random movements towards either side will be equally checked because they will equally tend to bring the head into a darker region; and so movement will take place in a line generally towards the light, though still with balanced random movements to either side.', 0.00049472992434003524),\n",
        "       ('<a href=\"http://hdl.handle.net/2027/mdp.39015011339705?urlappend=%3Bseq=367\" target=\"_blank\">00000367.txt</a>, 4733, know them are found chiefly in connection with those responses to vitally important stimulation which are determined, in part, at least, by the individual experience of the reacting animal, for these are the responses requiring most careful discrimination among stimuli, and the delay of reaction until such discrimination has been made.1 Putting the matter in a slightly different way, we may say that purely inherited responses can be adapted only to certain broad, roughly distinguished classes of stimuli, for these alone are common to the experience of all members of the species.', 0.00046951599552386765)], \n",
        "      dtype=[('doc', '|S755'), ('value', '<f8')])"
       ]
      }
     ],
     "prompt_number": 9
    },
    {
     "cell_type": "code",
     "collapsed": false,
     "input": [
      "v3.topics(k_indices=[13, 17, 8])"
     ],
     "language": "python",
     "metadata": {},
     "outputs": [
      {
       "html": [
        "<table style=\"margin: 0\"><tr><th style=\"text-align: center; background: #CEE3F6\" colspan            =\"11\">Topics Sorted by Index</th></tr><tr><th style=\"text-align: center; background: #EFF2FB;\"                     >Topic</th><th style=\"text-align: center; background: #EFF2FB;\"                     >Words</th></tr><tr><td style=\"padding-left:0.75em;\">13</td><td> animal, experience, memory, animals, may, behavior, would, ideas, must, mind                 </td></tr><tr><td style=\"padding-left:0.75em;\">17</td><td> maze, learning, movements, one, time, rats, movement, first, rat, right                </td></tr><tr><td style=\"padding-left:0.75em;\">8</td><td> ants, nest, ant, one, bees, spider, smell, hive, food, species              </td></tr></table>"
       ],
       "metadata": {},
       "output_type": "pyout",
       "prompt_number": 12,
       "text": [
        "CompactTable([[('animal', 0.022273314936333357),\n",
        "        ('experience', 0.014804061101211506),\n",
        "        ('memory', 0.012631187258266969), ...,\n",
        "        ('activity', 1.3580461518400663e-06),\n",
        "        ('visual', 1.3580461518391013e-06),\n",
        "        ('response', 1.3580461518391013e-06)],\n",
        "       [('maze', 0.027353839335792156), ('learning', 0.020429254983968307),\n",
        "        ('movements', 0.020256140375172711), ...,\n",
        "        ('whose', 1.7311460879543876e-06),\n",
        "        ('must', 1.7311460879543876e-06), ('could', 1.7311460879531575e-06)],\n",
        "       [('ants', 0.027475467041969032), ('nest', 0.025547533208658338),\n",
        "        ('ant', 0.014943897125449518), ...,\n",
        "        ('maze', 2.4099172916361761e-06), ('neur', 2.4099172916361761e-06),\n",
        "        ('result', 2.4099172916361761e-06)]], \n",
        "      dtype=[('word', '|S19'), ('value', '<f8')])"
       ]
      }
     ],
     "prompt_number": 12
    }
   ],
   "metadata": {}
  }
 ]
}