{
 "metadata": {
  "name": "htrc-demo1"
 },
 "nbformat": 3,
 "nbformat_minor": 0,
 "worksheets": [
  {
   "cells": [
    {
     "cell_type": "code",
     "collapsed": false,
     "input": [
      "from vsm.corpus import Corpus\n",
      "from vsm.model.ldagibbs import LDAGibbs\n",
      "from vsm.viewer.ldagibbsviewer import LDAGibbsViewer\n",
      "from vsm.util.htrc import htrc_label_fn_1315, htrc_label_fn_86"
     ],
     "language": "python",
     "metadata": {},
     "outputs": [],
     "prompt_number": 1
    },
    {
     "cell_type": "heading",
     "level": 1,
     "metadata": {},
     "source": [
      "Results on a 1315-volume selection from the HTRC with books as contexts"
     ]
    },
    {
     "cell_type": "code",
     "collapsed": false,
     "input": [
      "c1 = Corpus.load('/var/inphosemantics/data/20130101/htrc-anthropomorphism-1315/vsm-data/hathi-1315-nltk-freq3.npz')\n",
      "m1 = LDAGibbs.load('/var/inphosemantics/data/20130101/htrc-anthropomorphism-1315/vsm-data/hathi-1315-nltk-freq3-LDA-K60-600.npz')\n",
      "v1 = LDAGibbsViewer(c1, m1)"
     ],
     "language": "python",
     "metadata": {},
     "outputs": [
      {
       "output_type": "stream",
       "stream": "stdout",
       "text": [
        "Loading corpus from /var/inphosemantics/data/20130101/htrc-anthropomorphism-1315/vsm-data/hathi-1315-nltk-freq3.npz\n",
        "Loading LDA-Gibbs data from"
       ]
      },
      {
       "output_type": "stream",
       "stream": "stdout",
       "text": [
        " /var/inphosemantics/data/20130101/htrc-anthropomorphism-1315/vsm-data/hathi-1315-nltk-freq3-LDA-K60-600.npz\n"
       ]
      }
     ],
     "prompt_number": 2
    },
    {
     "cell_type": "code",
     "collapsed": false,
     "input": [
      "v1.sim_word_top('anthropomorphism')"
     ],
     "language": "python",
     "metadata": {},
     "outputs": [
      {
       "html": [
        "<table style=\"margin: 0\"><tr><th style=\"text-align: center; background: #CEE3F6\" colspan\t\t\t=\"11\">Sorted by Word Similarity</th></tr><tr><th style=\"text-align: center; background: #EFF2FB;\" \t\t\t\t\t>Topic</th><th style=\"text-align: center; background: #EFF2FB;\" \t\t\t\t\t>Words</th></tr><tr><td style=\"padding-left:0.75em;\">38</td><td> god, religion, life, man, religious, spirit, world, nature, spiritual, divine                                    </td></tr><tr><td style=\"padding-left:0.75em;\">16</td><td> animals, evolution, life, animal, development, man, species, cells, living, theory                                    </td></tr><tr><td style=\"padding-left:0.75em;\">51</td><td> philosophy, nature, knowledge, world, thought, idea, things, reason, truth, science                                   </td></tr><tr><td style=\"padding-left:0.75em;\">58</td><td> man, among, tribes, primitive, men, people, also, races, women, race                                      </td></tr><tr><td style=\"padding-left:0.75em;\">21</td><td> social, life, new, mind, upon, individual, human, mental, world, subfield                                  </td></tr><tr><td style=\"padding-left:0.75em;\">12</td><td> child, children, first, development, movements, play, life, little, mental, mother                                    </td></tr><tr><td style=\"padding-left:0.75em;\">11</td><td> motion, force, must, forces, matter, changes, us, parts, like, evolution                                 </td></tr><tr><td style=\"padding-left:0.75em;\">31</td><td> gods, religion, p, name, see, god, india, ancient, one, worship                                   </td></tr><tr><td style=\"padding-left:0.75em;\">1</td><td> pp, der, vol, die, de, des, und, ibid, university, la                                        </td></tr></table>"
       ],
       "output_type": "pyout",
       "prompt_number": 3,
       "text": [
        "CompactTable([[('god', 0.034420649917120939), ('religion', 0.02459173153582905),\n",
        "        ('life', 0.022671486649667422), ...,\n",
        "        ('lagrange', 7.7711245898821589e-09),\n",
        "        ('liberalism', 7.7711245898821589e-09),\n",
        "        ('emergence', 7.7711245898821589e-09)],\n",
        "       [('animals', 0.012132496632905507),\n",
        "        ('evolution', 0.010839270810416975),\n",
        "        ('life', 0.0092297003422895634), ...,\n",
        "        ('invagination', 1.1138895973189953e-08),\n",
        "        ('mesoblast', 1.1138895973189953e-08),\n",
        "        ('expands', 1.1138895973189953e-08)],\n",
        "       [('philosophy', 0.013289711909911085),\n",
        "        ('nature', 0.010788829800419326),\n",
        "        ('knowledge', 0.010627151429051464), ...,\n",
        "        ('circumstance', 6.4158083876077089e-09),\n",
        "        ('ratke', 6.4158083876077089e-09), ('o', 6.4158083876077089e-09)],\n",
        "       ..., \n",
        "       [('motion', 0.0080392513335995168),\n",
        "        ('force', 0.0075620845351035181), ('must', 0.0068795323984793735),\n",
        "        ..., ('pleistocene', 8.8528162986189915e-09),\n",
        "        ('pliocene', 8.8528162986189915e-09),\n",
        "        ('psychic', 8.8528162986189915e-09)],\n",
        "       [('gods', 0.0090838072859889714),\n",
        "        ('religion', 0.0084087742171443606), ('p', 0.0056658855285761436),\n",
        "        ..., ('destitute', 1.2956488845374217e-08),\n",
        "        ('kingdoms', 1.2956488845374217e-08),\n",
        "        ('noble', 1.2956488845374217e-08)],\n",
        "       [('pp', 0.018586942486592054), ('der', 0.016156240438971299),\n",
        "        ('vol', 0.015967690653968941), ...,\n",
        "        ('wiener', 2.2716841566528454e-08),\n",
        "        ('edward', 2.2716841566528454e-08),\n",
        "        ('january', 2.2716841566528454e-08)]], \n",
        "      dtype=[('word', '|S40'), ('value', '<f8')])"
       ]
      }
     ],
     "prompt_number": 3
    },
    {
     "cell_type": "code",
     "collapsed": false,
     "input": [
      "v1.sim_word_top(['anthropomorphism', 'god'])"
     ],
     "language": "python",
     "metadata": {},
     "outputs": [
      {
       "html": [
        "<table style=\"margin: 0\"><tr><th style=\"text-align: center; background: #CEE3F6\" colspan\t\t\t=\"11\">Sorted by Word Similarity</th></tr><tr><th style=\"text-align: center; background: #EFF2FB;\" \t\t\t\t\t>Topic</th><th style=\"text-align: center; background: #EFF2FB;\" \t\t\t\t\t>Words</th></tr><tr><td style=\"padding-left:0.75em;\">55</td><td> god, see, israel, prophet, jewish, iii, people, jews, ii, also                                      </td></tr><tr><td style=\"padding-left:0.75em;\">38</td><td> god, religion, life, man, religious, spirit, world, nature, spiritual, divine                                    </td></tr><tr><td style=\"padding-left:0.75em;\">48</td><td> man, god, shall, said, thou, earth, us, things, upon, thy                                       </td></tr><tr><td style=\"padding-left:0.75em;\">31</td><td> gods, religion, p, name, see, god, india, ancient, one, worship                                   </td></tr><tr><td style=\"padding-left:0.75em;\">51</td><td> philosophy, nature, knowledge, world, thought, idea, things, reason, truth, science                                   </td></tr><tr><td style=\"padding-left:0.75em;\">5</td><td> shall, g, unto, v, j, thou, said, d, y, plato                                     </td></tr><tr><td style=\"padding-left:0.75em;\">58</td><td> man, among, tribes, primitive, men, people, also, races, women, race                                      </td></tr><tr><td style=\"padding-left:0.75em;\">57</td><td> would, said, man, could, know, mr, much, n't, think, say                                       </td></tr><tr><td style=\"padding-left:0.75em;\">52</td><td> see, c, history, life, 9, also, j, ed, st, book                                      </td></tr><tr><td style=\"padding-left:0.75em;\">11</td><td> motion, force, must, forces, matter, changes, us, parts, like, evolution                                 </td></tr><tr><td style=\"padding-left:0.75em;\">37</td><td> e, agus, neurotic, air, n, sexual, masculine, patient, dream, guiding                                   </td></tr><tr><td style=\"padding-left:0.75em;\">25</td><td> nature, ii, us, mr, without, life, human, natural, language, every                                     </td></tr><tr><td style=\"padding-left:0.75em;\">16</td><td> animals, evolution, life, animal, development, man, species, cells, living, theory                                    </td></tr><tr><td style=\"padding-left:0.75em;\">14</td><td> language, words, word, english, languages, speech, latin, meaning, greek, sentence                                  </td></tr><tr><td style=\"padding-left:0.75em;\">36</td><td> law, state, government, shall, states, political, constitution, power, public, united                                    </td></tr><tr><td style=\"padding-left:0.75em;\">21</td><td> social, life, new, mind, upon, individual, human, mental, world, subfield                                  </td></tr><tr><td style=\"padding-left:0.75em;\">12</td><td> child, children, first, development, movements, play, life, little, mental, mother                                    </td></tr><tr><td style=\"padding-left:0.75em;\">40</td><td> de, la, p, vol, et, des, le, les, brissot, pp                                        </td></tr><tr><td style=\"padding-left:0.75em;\">18</td><td> teacher, study, education, school, teaching, work, knowledge, pupils, method, reading                                   </td></tr><tr><td style=\"padding-left:0.75em;\">1</td><td> pp, der, vol, die, de, des, und, ibid, university, la                                        </td></tr><tr><td style=\"padding-left:0.75em;\">24</td><td> york, new, city, c, n, a.b, y, 2, ave, 3                                         </td></tr><tr><td style=\"padding-left:0.75em;\">22</td><td> cases, disease, mental, patient, may, brain, nervous, case, symptoms, treatment                                 </td></tr><tr><td style=\"padding-left:0.75em;\">34</td><td> course, 2, hours, year, courses, 3, 4, students, engineering, st                                        </td></tr></table>"
       ],
       "output_type": "pyout",
       "prompt_number": 46,
       "text": [
        "CompactTable([[('god', 0.020886821145116512), ('see', 0.0080988300018163158),\n",
        "        ('israel', 0.0077410060480556453), ...,\n",
        "        ('fruits', 1.8734238416771994e-08),\n",
        "        ('planets', 1.8734238416771994e-08),\n",
        "        ('phenomenal', 1.8734238416771994e-08)],\n",
        "       [('god', 0.034420649917120939), ('religion', 0.02459173153582905),\n",
        "        ('life', 0.022671486649667422), ...,\n",
        "        ('lagrange', 7.7711245898821589e-09),\n",
        "        ('liberalism', 7.7711245898821589e-09),\n",
        "        ('emergence', 7.7711245898821589e-09)],\n",
        "       [('man', 0.014120167043876889), ('god', 0.013098069308956092),\n",
        "        ('shall', 0.012238022499235316), ...,\n",
        "        ('protecting', 9.0531243128420419e-09),\n",
        "        ('discernment', 9.0531243128420419e-09),\n",
        "        ('surpassing', 9.0531243128420419e-09)],\n",
        "       ..., \n",
        "       [('york', 0.046932545201232689), ('new', 0.044540432677402417),\n",
        "        ('city', 0.043018017569299273), ...,\n",
        "        ('allegheny', 8.8926116127438829e-09),\n",
        "        ('episcopal', 8.8926116127438829e-09),\n",
        "        ('continually', 8.8926116127438829e-09)],\n",
        "       [('cases', 0.013663174619053666), ('disease', 0.010236623262610668),\n",
        "        ('mental', 0.0095166170392545438), ...,\n",
        "        ('metres', 1.3043591002816455e-08),\n",
        "        ('groupes', 1.3043591002816455e-08), ('o', 1.3043591002816455e-08)],\n",
        "       [('course', 0.013645345136766131), ('2', 0.013385850510229783),\n",
        "        ('hours', 0.012178763146341615), ...,\n",
        "        ('um', 9.7188998702662736e-09),\n",
        "        ('percival', 9.7188998702662736e-09),\n",
        "        ('mermaid', 9.7188998702662736e-09)]], \n",
        "      dtype=[('word', '|S40'), ('value', '<f8')])"
       ]
      }
     ],
     "prompt_number": 46
    },
    {
     "cell_type": "code",
     "collapsed": false,
     "input": [
      "v1.sim_word_top(['anthropomorphism', 'animal'])"
     ],
     "language": "python",
     "metadata": {},
     "outputs": [
      {
       "html": [
        "<table style=\"margin: 0\"><tr><th style=\"text-align: center; background: #CEE3F6\" colspan\t\t\t=\"11\">Sorted by Word Similarity</th></tr><tr><th style=\"text-align: center; background: #EFF2FB;\" \t\t\t\t\t>Topic</th><th style=\"text-align: center; background: #EFF2FB;\" \t\t\t\t\t>Words</th></tr><tr><td style=\"padding-left:0.75em;\">10</td><td> animals, water, animal, food, birds, one, leaves, insects, species, many                                      </td></tr><tr><td style=\"padding-left:0.75em;\">16</td><td> animals, evolution, life, animal, development, man, species, cells, living, theory                                    </td></tr><tr><td style=\"padding-left:0.75em;\">58</td><td> man, among, tribes, primitive, men, people, also, races, women, race                                      </td></tr><tr><td style=\"padding-left:0.75em;\">25</td><td> nature, ii, us, mr, without, life, human, natural, language, every                                     </td></tr><tr><td style=\"padding-left:0.75em;\">29</td><td> fig, two, body, form, cells, animals, first, ii, side, organs                                    </td></tr><tr><td style=\"padding-left:0.75em;\">4</td><td> acid, water, body, action, blood, food, alcohol, air, substances, work                                      </td></tr><tr><td style=\"padding-left:0.75em;\">45</td><td> brain, nerve, fibres, nervous, motor, nerves, sensory, cord, cells, spinal                                    </td></tr><tr><td style=\"padding-left:0.75em;\">20</td><td> man, moral, men, good, law, society, social, conduct, action, pleasure                                  </td></tr><tr><td style=\"padding-left:0.75em;\">31</td><td> gods, religion, p, name, see, god, india, ancient, one, worship                                   </td></tr><tr><td style=\"padding-left:0.75em;\">26</td><td> consciousness, experience, p, psychology, process, individual, object, activity, relation, feeling                                   </td></tr><tr><td style=\"padding-left:0.75em;\">12</td><td> child, children, first, development, movements, play, life, little, mental, mother                                    </td></tr><tr><td style=\"padding-left:0.75em;\">11</td><td> motion, force, must, forces, matter, changes, us, parts, like, evolution                                 </td></tr><tr><td style=\"padding-left:0.75em;\">33</td><td> tlie, may, logic, proposition, terms, term, reasoning, meaning, propositions, argument                                  </td></tr><tr><td style=\"padding-left:0.75em;\">8</td><td> mind, consciousness, knowledge, object, perception, sense, mental, external, ideas, phenomena                                 </td></tr><tr><td style=\"padding-left:0.75em;\">42</td><td> light, eye, two, eyes, visual, fig, vision, red, distance, movement                                  </td></tr><tr><td style=\"padding-left:0.75em;\">55</td><td> god, see, israel, prophet, jewish, iii, people, jews, ii, also                                      </td></tr><tr><td style=\"padding-left:0.75em;\">1</td><td> pp, der, vol, die, de, des, und, ibid, university, la                                        </td></tr><tr><td style=\"padding-left:0.75em;\">52</td><td> see, c, history, life, 9, also, j, ed, st, book                                      </td></tr><tr><td style=\"padding-left:0.75em;\">44</td><td> 8vo, svo, vols, c, pp, 6d, r, j, edition, dr                                        </td></tr><tr><td style=\"padding-left:0.75em;\">39</td><td> made, work, water, first, engine, time, steam, great, x, feet                                      </td></tr><tr><td style=\"padding-left:0.75em;\">34</td><td> course, 2, hours, year, courses, 3, 4, students, engineering, st                                        </td></tr><tr><td style=\"padding-left:0.75em;\">38</td><td> god, religion, life, man, religious, spirit, world, nature, spiritual, divine                                    </td></tr><tr><td style=\"padding-left:0.75em;\">40</td><td> de, la, p, vol, et, des, le, les, brissot, pp                                        </td></tr><tr><td style=\"padding-left:0.75em;\">0</td><td> b, e, wis, n, m, y, st, c, d, mrs                                       </td></tr><tr><td style=\"padding-left:0.75em;\">51</td><td> philosophy, nature, knowledge, world, thought, idea, things, reason, truth, science                                   </td></tr><tr><td style=\"padding-left:0.75em;\">59</td><td> london, c, m.a, college, professor, subfield, 0, shall, j, class                                     </td></tr><tr><td style=\"padding-left:0.75em;\">49</td><td> subfield, code, datafield, tag, ind2, ind1, b, d, c, controlfield                              </td></tr><tr><td style=\"padding-left:0.75em;\">2</td><td> test, tests, age, group, children, mental, table, per, cent, number                                    </td></tr><tr><td style=\"padding-left:0.75em;\">6</td><td> school, schools, education, work, teachers, children, high, training, pupils, educational                               </td></tr><tr><td style=\"padding-left:0.75em;\">21</td><td> social, life, new, mind, upon, individual, human, mental, world, subfield                                  </td></tr><tr><td style=\"padding-left:0.75em;\">41</td><td> poetry, art, english, literature, music, life, poet, work, literary, verse                                     </td></tr><tr><td style=\"padding-left:0.75em;\">17</td><td> 1, 2, 3, 4, 5, 6, 8, 7, p, 9                                         </td></tr></table>"
       ],
       "output_type": "pyout",
       "prompt_number": 42,
       "text": [
        "CompactTable([[('animals', 0.0083261137206309798),\n",
        "        ('water', 0.0081627567429070399),\n",
        "        ('animal', 0.0064079454587631464), ...,\n",
        "        ('folk', 1.2762263884671248e-08),\n",
        "        ('trade', 1.2762263884671248e-08), ('mg', 1.2762263884671248e-08)],\n",
        "       [('animals', 0.012132496632905507),\n",
        "        ('evolution', 0.010839270810416975),\n",
        "        ('life', 0.0092297003422895634), ...,\n",
        "        ('invagination', 1.1138895973189953e-08),\n",
        "        ('mesoblast', 1.1138895973189953e-08),\n",
        "        ('expands', 1.1138895973189953e-08)],\n",
        "       [('man', 0.011981491884966528), ('among', 0.0096083997126494031),\n",
        "        ('tribes', 0.0065800704238647171), ...,\n",
        "        ('effects', 1.3183845401749811e-08),\n",
        "        ('eighth', 1.3183845401749811e-08),\n",
        "        ('peking', 1.3183845401749811e-08)],\n",
        "       ..., \n",
        "       [('social', 0.019020558032250699), ('life', 0.018987706375477097),\n",
        "        ('new', 0.00898075763759296), ...,\n",
        "        ('sensori-motor', 5.5680774192494082e-09),\n",
        "        ('duly', 5.5680774192494082e-09),\n",
        "        ('borders', 5.5680774192494082e-09)],\n",
        "       [('poetry', 0.009204014160687498), ('art', 0.0085162745172613682),\n",
        "        ('english', 0.0080260771118406179), ...,\n",
        "        ('subdivision', 9.1454739817221232e-09),\n",
        "        ('everybody', 9.1454739817221232e-09),\n",
        "        ('devotees', 9.1454739817221232e-09)],\n",
        "       [('1', 0.11055428991322785), ('2', 0.07993792004202116),\n",
        "        ('3', 0.060214665012096547), ..., ('lis', 7.2461350637079519e-09),\n",
        "        ('albertus', 7.2461350637079519e-09),\n",
        "        ('nevada', 7.2461350637079519e-09)]], \n",
        "      dtype=[('word', '|S40'), ('value', '<f8')])"
       ]
      }
     ],
     "prompt_number": 42
    },
    {
     "cell_type": "code",
     "collapsed": false,
     "input": [
      "topnum= top.first_cols\n",
      "topnum = [int(t) for t in topnum]"
     ],
     "language": "python",
     "metadata": {},
     "outputs": [],
     "prompt_number": 4
    },
    {
     "cell_type": "code",
     "collapsed": false,
     "input": [
      "cls = v1.cluster_topics(k_indices=topnum, n_clusters=2)"
     ],
     "language": "python",
     "metadata": {},
     "outputs": [
      {
       "output_type": "stream",
       "stream": "stdout",
       "text": [
        "Initialization complete\n",
        "Iteration 0, inertia 8.48576442757\n",
        "Iteration 1, inertia 4.88115672647\n",
        "Converged to similar centers at iteration 1\n"
       ]
      }
     ],
     "prompt_number": 26
    },
    {
     "cell_type": "code",
     "collapsed": false,
     "input": [
      "v1.topics(k_indices=cls[0])"
     ],
     "language": "python",
     "metadata": {},
     "outputs": [
      {
       "html": [
        "<table style=\"margin: 0\"><tr><th style=\"text-align: center; background: #CEE3F6\" colspan\t\t\t=\"11\">Topics Sorted by Index</th></tr><tr><th style=\"text-align: center; background: #EFF2FB;\" \t\t\t\t\t>Topic</th><th style=\"text-align: center; background: #EFF2FB;\" \t\t\t\t\t>Words</th></tr><tr><td style=\"padding-left:0.75em;\">38</td><td> god, religion, life, man, religious, spirit, world, nature, spiritual, divine                                    </td></tr><tr><td style=\"padding-left:0.75em;\">58</td><td> man, among, tribes, primitive, men, people, also, races, women, race                                      </td></tr><tr><td style=\"padding-left:0.75em;\">21</td><td> social, life, new, mind, upon, individual, human, mental, world, subfield                                  </td></tr><tr><td style=\"padding-left:0.75em;\">31</td><td> gods, religion, p, name, see, god, india, ancient, one, worship                                   </td></tr></table>"
       ],
       "output_type": "pyout",
       "prompt_number": 27,
       "text": [
        "CompactTable([[('god', 0.034420649917120939), ('religion', 0.02459173153582905),\n",
        "        ('life', 0.022671486649667422), ...,\n",
        "        ('lagrange', 7.7711245898821589e-09),\n",
        "        ('liberalism', 7.7711245898821589e-09),\n",
        "        ('emergence', 7.7711245898821589e-09)],\n",
        "       [('man', 0.011981491884966528), ('among', 0.0096083997126494031),\n",
        "        ('tribes', 0.0065800704238647171), ...,\n",
        "        ('effects', 1.3183845401749811e-08),\n",
        "        ('eighth', 1.3183845401749811e-08),\n",
        "        ('peking', 1.3183845401749811e-08)],\n",
        "       [('social', 0.019020558032250699), ('life', 0.018987706375477097),\n",
        "        ('new', 0.00898075763759296), ...,\n",
        "        ('sensori-motor', 5.5680774192494082e-09),\n",
        "        ('duly', 5.5680774192494082e-09),\n",
        "        ('borders', 5.5680774192494082e-09)],\n",
        "       [('gods', 0.0090838072859889714),\n",
        "        ('religion', 0.0084087742171443606), ('p', 0.0056658855285761436),\n",
        "        ..., ('destitute', 1.2956488845374217e-08),\n",
        "        ('kingdoms', 1.2956488845374217e-08),\n",
        "        ('noble', 1.2956488845374217e-08)]], \n",
        "      dtype=[('word', '|S40'), ('value', '<f8')])"
       ]
      }
     ],
     "prompt_number": 27
    },
    {
     "cell_type": "code",
     "collapsed": false,
     "input": [
      "v1.topics(k_indices=cls[1])"
     ],
     "language": "python",
     "metadata": {},
     "outputs": [
      {
       "html": [
        "<table style=\"margin: 0\"><tr><th style=\"text-align: center; background: #CEE3F6\" colspan\t\t\t=\"11\">Topics Sorted by Index</th></tr><tr><th style=\"text-align: center; background: #EFF2FB;\" \t\t\t\t\t>Topic</th><th style=\"text-align: center; background: #EFF2FB;\" \t\t\t\t\t>Words</th></tr><tr><td style=\"padding-left:0.75em;\">16</td><td> animals, evolution, life, animal, development, man, species, cells, living, theory                                    </td></tr><tr><td style=\"padding-left:0.75em;\">51</td><td> philosophy, nature, knowledge, world, thought, idea, things, reason, truth, science                                   </td></tr><tr><td style=\"padding-left:0.75em;\">12</td><td> child, children, first, development, movements, play, life, little, mental, mother                                    </td></tr><tr><td style=\"padding-left:0.75em;\">11</td><td> motion, force, must, forces, matter, changes, us, parts, like, evolution                                 </td></tr><tr><td style=\"padding-left:0.75em;\">1</td><td> pp, der, vol, die, de, des, und, ibid, university, la                                        </td></tr></table>"
       ],
       "output_type": "pyout",
       "prompt_number": 28,
       "text": [
        "CompactTable([[('animals', 0.012132496632905507),\n",
        "        ('evolution', 0.010839270810416975),\n",
        "        ('life', 0.0092297003422895634), ...,\n",
        "        ('invagination', 1.1138895973189953e-08),\n",
        "        ('mesoblast', 1.1138895973189953e-08),\n",
        "        ('expands', 1.1138895973189953e-08)],\n",
        "       [('philosophy', 0.013289711909911085),\n",
        "        ('nature', 0.010788829800419326),\n",
        "        ('knowledge', 0.010627151429051464), ...,\n",
        "        ('circumstance', 6.4158083876077089e-09),\n",
        "        ('ratke', 6.4158083876077089e-09), ('o', 6.4158083876077089e-09)],\n",
        "       [('child', 0.042854383932782139),\n",
        "        ('children', 0.017450903181065167),\n",
        "        ('first', 0.010676641647273973), ...,\n",
        "        ('colouring', 1.1200829255596944e-08),\n",
        "        ('inspire', 1.1200829255596944e-08),\n",
        "        ('replaces', 1.1200829255596944e-08)],\n",
        "       [('motion', 0.0080392513335995168),\n",
        "        ('force', 0.0075620845351035181), ('must', 0.0068795323984793735),\n",
        "        ..., ('pleistocene', 8.8528162986189915e-09),\n",
        "        ('pliocene', 8.8528162986189915e-09),\n",
        "        ('psychic', 8.8528162986189915e-09)],\n",
        "       [('pp', 0.018586942486592054), ('der', 0.016156240438971299),\n",
        "        ('vol', 0.015967690653968941), ...,\n",
        "        ('wiener', 2.2716841566528454e-08),\n",
        "        ('edward', 2.2716841566528454e-08),\n",
        "        ('january', 2.2716841566528454e-08)]], \n",
        "      dtype=[('word', '|S40'), ('value', '<f8')])"
       ]
      }
     ],
     "prompt_number": 28
    },
    {
     "cell_type": "code",
     "collapsed": false,
     "input": [
      "v1.isomap_topics(k_indices=cls, size=9*[200])"
     ],
     "language": "python",
     "metadata": {},
     "outputs": [
      {
       "output_type": "display_data",
       "png": "[encoded data removed]"
      }
     ],
     "prompt_number": 31
    },
    {
     "cell_type": "heading",
     "level": 3,
     "metadata": {},
     "source": [
      "Compare cluster 0 with 'anthropomorphism', 'god'"
     ]
    },
    {
     "cell_type": "code",
     "collapsed": false,
     "input": [
      "v1.sim_top_doc(cls[0], print_len=30, label_fn=htrc_label_fn_1315)"
     ],
     "language": "python",
     "metadata": {},
     "outputs": [
      {
       "html": [
        "<table style=\"margin: 0\"><tr><th style=\"text-align: center; background: #CEE3F6\" colspan\t\t        =\"2\">Topics: 38, 58, 21, 31</th></tr><tr><th style=\"text-align: center; background: #EFF2FB; \">Document\t\t\t</th><th style=\"text-align: center; background: #EFF2FB; \">Prob\t\t\t</th></tr><tr><td>The growth of religion, a study of its origins and developme     </td><td>0.70749   </td></tr><tr><td>The social evolution of religion,                                </td><td>0.70631   </td></tr><tr><td>Animism, the seed of religion.                                   </td><td>0.69931   </td></tr><tr><td>The tree of life; a study of religion,                           </td><td>0.66115   </td></tr><tr><td>The philosophy of religion; a critical and speculative treat     </td><td>0.63846   </td></tr><tr><td>Lectures on the origin and growth of the conception of God a     </td><td>0.63623   </td></tr><tr><td>Rest days : a study in early law and morality /                  </td><td>0.63381   </td></tr><tr><td>The history of religions,                                        </td><td>0.61846   </td></tr><tr><td>Studies in the philosophy of religion and history /              </td><td>0.61763   </td></tr><tr><td>The psychology of religious experience,                          </td><td>0.60980   </td></tr><tr><td>Inaugural lecture of the Wilde lecturer in natural & compara     </td><td>0.57503   </td></tr><tr><td>The classification of religions; different methods, their ad     </td><td>0.57181   </td></tr><tr><td>Iroquois religion and its relation to their morals,              </td><td>0.56770   </td></tr><tr><td>Chinese religion through Hindu eyes;                             </td><td>0.54822   </td></tr><tr><td>Ethics and revelation.                                           </td><td>0.54664   </td></tr><tr><td>A student's philosophy of religion.                              </td><td>0.54637   </td></tr><tr><td>An account of the Polynesian race, its origins and migration     </td><td>0.54407   </td></tr><tr><td>Asiatic studies, religious and social,                           </td><td>0.53639   </td></tr><tr><td>Bases of religious belief, historic and ideal; an outline of     </td><td>0.53472   </td></tr><tr><td>Pagan Christs; studies in comparative hierology,                 </td><td>0.53380   </td></tr><tr><td>Pagan Christs : studies in comparative hierology /               </td><td>0.53134   </td></tr><tr><td>Early civilization; an introduction to anthropology,             </td><td>0.52658   </td></tr><tr><td>Early civilization; an introduction to anthropology /            </td><td>0.52277   </td></tr><tr><td>The primitive culture of India; lectures delivered in 1922 a     </td><td>0.52166   </td></tr><tr><td>The new humanism; studies in personal and social development     </td><td>0.51342   </td></tr><tr><td>The significance of ancient religions in relation to human e     </td><td>0.51243   </td></tr><tr><td>American hero-myths. A study in the native religions of the      </td><td>0.50442   </td></tr><tr><td>An encyclopaedia of religions,                                   </td><td>0.49851   </td></tr><tr><td>The psychological origin and the nature of religion,             </td><td>0.49695   </td></tr><tr><td>The making of religion,                                          </td><td>0.49075   </td></tr></table>"
       ],
       "output_type": "pyout",
       "prompt_number": 49,
       "text": [
        "LabeledColumn([ ('The growth of religion, a study of its origins and developme', 0.70748689918383567),\n",
        "       ('The social evolution of religion,', 0.70630586729141953),\n",
        "       ('Animism, the seed of religion.', 0.69931364963970488), ...,\n",
        "       ('The mechanics of engineering,', 1.6813989526826003e-07),\n",
        "       ('Catalogue.', 1.622438412764127e-07),\n",
        "       ('General catalogue of the officers and graduates of the Unive', 1.3788849397435135e-07)], \n",
        "      dtype=[('doc', '|S60'), ('value', '<f8')])"
       ]
      }
     ],
     "prompt_number": 49
    },
    {
     "cell_type": "code",
     "collapsed": false,
     "input": [
      "v1.sim_top_doc([55,38,48], weights=[1,2,1], print_len=30, label_fn=htrc_label_fn_1315)"
     ],
     "language": "python",
     "metadata": {},
     "outputs": [
      {
       "html": [
        "<table style=\"margin: 0\"><tr><th style=\"text-align: center; background: #CEE3F6\" colspan\t\t        =\"2\">Topics: 55, 38, 48</th></tr><tr><th style=\"text-align: center; background: #EFF2FB; \">Document\t\t\t</th><th style=\"text-align: center; background: #EFF2FB; \">Prob\t\t\t</th></tr><tr><td>Jewish theology systematically and historically considered.      </td><td>0.73296   </td></tr><tr><td>The mystic way; a psychological study in Christian origins,      </td><td>0.68401   </td></tr><tr><td>Old Testament theology and modern ideas /                        </td><td>0.65616   </td></tr><tr><td>The meaning and value of mysticism /                             </td><td>0.64319   </td></tr><tr><td>Bases of religious belief, historic and ideal; an outline of     </td><td>0.63256   </td></tr><tr><td>Life more abundant; scriptural truth in modern application,      </td><td>0.61065   </td></tr><tr><td>The next step in evolution; the present step.                    </td><td>0.60156   </td></tr><tr><td>At one with the invisible; studies in mysticism,                 </td><td>0.59816   </td></tr><tr><td>The Old Testament prophecy of the consummation of God's king     </td><td>0.59214   </td></tr><tr><td>The philosophy of religion; a critical and speculative treat     </td><td>0.56891   </td></tr><tr><td>The making of Christianity; an exhibit of Hebrew and Christi     </td><td>0.56725   </td></tr><tr><td>The next step in evolution : the present step /                  </td><td>0.55338   </td></tr><tr><td>Personal idealism and mysticism,                                 </td><td>0.54637   </td></tr><tr><td>A handbook of Christian apologetics,                             </td><td>0.54401   </td></tr><tr><td>Ethics and revelation.                                           </td><td>0.54206   </td></tr><tr><td>Divine transcendence and its reflection in religious authori     </td><td>0.53946   </td></tr><tr><td>The development of theology in Germany since Kant; and its p     </td><td>0.53121   </td></tr><tr><td>Scientific religion;                                             </td><td>0.51641   </td></tr><tr><td>The development of theology in Germany since Kant; and its p     </td><td>0.51369   </td></tr><tr><td>Is God knowable? /                                               </td><td>0.49899   </td></tr><tr><td>Christian dogmatics.                                             </td><td>0.49508   </td></tr><tr><td>Studies in the philosophy of religion and history /              </td><td>0.49208   </td></tr><tr><td>The gospel and the modern man,                                   </td><td>0.48597   </td></tr><tr><td>The religion of ancient Israel,                                  </td><td>0.47414   </td></tr><tr><td>Sermons and addresses,                                           </td><td>0.47246   </td></tr><tr><td>The religion of ancient Israel,                                  </td><td>0.46634   </td></tr><tr><td>The theology of the Reformed church in its fundamental princ     </td><td>0.46035   </td></tr><tr><td>Messiahs, Christian and pagan /                                  </td><td>0.45929   </td></tr><tr><td>Psychology and mystical experience,                              </td><td>0.45907   </td></tr><tr><td>Philosophy and Christianity. A series of lectures delivered      </td><td>0.45142   </td></tr></table>"
       ],
       "output_type": "pyout",
       "prompt_number": 50,
       "text": [
        "LabeledColumn([ ('Jewish theology systematically and historically considered.', 0.73296132640053269),\n",
        "       ('The mystic way; a psychological study in Christian origins,', 0.6840099205387179),\n",
        "       ('Old Testament theology and modern ideas /', 0.65616196631180179),\n",
        "       ..., ('Cornell university, a history,', 1.1163506579408206e-07),\n",
        "       ('Current supplement to the catalogue of the public library of', 7.6646130804040551e-08),\n",
        "       (\"Printers' ink.\", 6.6970562621088798e-08)], \n",
        "      dtype=[('doc', '|S60'), ('value', '<f8')])"
       ]
      }
     ],
     "prompt_number": 50
    },
    {
     "cell_type": "heading",
     "level": 3,
     "metadata": {},
     "source": [
      "Compare cluster 0 with 'anthropomorphism', 'animal'"
     ]
    },
    {
     "cell_type": "code",
     "collapsed": false,
     "input": [
      "# cls[1] without topic 1\n",
      "v1.sim_top_doc([16,51,12,11], print_len=30, label_fn=htrc_label_fn_1315)"
     ],
     "language": "python",
     "metadata": {},
     "outputs": [
      {
       "html": [
        "<table style=\"margin: 0\"><tr><th style=\"text-align: center; background: #CEE3F6\" colspan\t\t        =\"2\">Topics: 16, 51, 12, 11</th></tr><tr><th style=\"text-align: center; background: #EFF2FB; \">Document\t\t\t</th><th style=\"text-align: center; background: #EFF2FB; \">Prob\t\t\t</th></tr><tr><td>The riddle of the universe at the close of the nineteenth ce     </td><td>0.56728   </td></tr><tr><td>The riddle of the universe at the close of the nineteenth ce     </td><td>0.56718   </td></tr><tr><td>The riddle of the universe at the close of the nineteenth ce     </td><td>0.56597   </td></tr><tr><td>The principles of biology.                                       </td><td>0.56197   </td></tr><tr><td>Evolution.                                                       </td><td>0.55495   </td></tr><tr><td>Evolution.                                                       </td><td>0.54197   </td></tr><tr><td>Essays : scientific, political and speculative /                 </td><td>0.51561   </td></tr><tr><td>Essays, scientific, political, and speculative,                  </td><td>0.51322   </td></tr><tr><td>Philosophical realism,                                           </td><td>0.50644   </td></tr><tr><td>The concepts and theories of modern physics /                    </td><td>0.49875   </td></tr><tr><td>Last words on evolution; a popular retrospect and summary,       </td><td>0.49855   </td></tr><tr><td>Evolution in science, philosophy, and art. Popular lectures      </td><td>0.49697   </td></tr><tr><td>The divine pedigree of man, or, The testimony of evolution a     </td><td>0.49697   </td></tr><tr><td>First principles,                                                </td><td>0.48697   </td></tr><tr><td>[Works]                                                          </td><td>0.48587   </td></tr><tr><td>First principles.                                                </td><td>0.48537   </td></tr><tr><td>First principles,                                                </td><td>0.48514   </td></tr><tr><td>First principles of a new system of philosophy. --               </td><td>0.48490   </td></tr><tr><td>First principles of a new system of philosophy.                  </td><td>0.48389   </td></tr><tr><td>Evolution, the master-key; a discussion of the principle of      </td><td>0.48299   </td></tr><tr><td>First principles.                                                </td><td>0.48152   </td></tr><tr><td>Mind and brain; or, The correlations of consciousness and or     </td><td>0.47643   </td></tr><tr><td>The divine pedigree of man, or, The testimony of evolution a     </td><td>0.47641   </td></tr><tr><td>Mind and brain; or, The correlations of consciousness and or     </td><td>0.47132   </td></tr><tr><td>Kant and Spencer, a study of the fallacies of agnosticism,       </td><td>0.46381   </td></tr><tr><td>Kant and Spencer; a study of the fallacies of agnosticism,       </td><td>0.46302   </td></tr><tr><td>Progress of science in the century,                              </td><td>0.45250   </td></tr><tr><td>Kant's cosmogony as in his essay on the retardation of the r     </td><td>0.45023   </td></tr><tr><td>History of philosophy.                                           </td><td>0.44894   </td></tr><tr><td>The psychology of childhood,                                     </td><td>0.44509   </td></tr></table>"
       ],
       "output_type": "pyout",
       "prompt_number": 51,
       "text": [
        "LabeledColumn([ ('The riddle of the universe at the close of the nineteenth ce', 0.56727670366308147),\n",
        "       ('The riddle of the universe at the close of the nineteenth ce', 0.56718312824722117),\n",
        "       ('The riddle of the universe at the close of the nineteenth ce', 0.56596781919377925),\n",
        "       ..., ('Cornell university, a history,', 1.3672447429876461e-07),\n",
        "       ('Alumni directory, 1849-1911.', 1.3402202253578678e-07),\n",
        "       ('Current supplement to the catalogue of the public library of', 9.3871955615262211e-08)], \n",
        "      dtype=[('doc', '|S60'), ('value', '<f8')])"
       ]
      }
     ],
     "prompt_number": 51
    },
    {
     "cell_type": "code",
     "collapsed": false,
     "input": [
      "v1.sim_top_doc([10,16,58], weights=[1,2,2], print_len=30, label_fn=htrc_label_fn_1315)"
     ],
     "language": "python",
     "metadata": {},
     "outputs": [
      {
       "html": [
        "<table style=\"margin: 0\"><tr><th style=\"text-align: center; background: #CEE3F6\" colspan\t\t        =\"2\">Topics: 10, 16, 58</th></tr><tr><th style=\"text-align: center; background: #EFF2FB; \">Document\t\t\t</th><th style=\"text-align: center; background: #EFF2FB; \">Prob\t\t\t</th></tr><tr><td>Sociology based upon ethnography,                                </td><td>0.60903   </td></tr><tr><td>Sociology based upon ethnography,                                </td><td>0.60770   </td></tr><tr><td>The Andaman islanders; a study in anthropology (Anthony Wilk     </td><td>0.59325   </td></tr><tr><td>The iconographic encyclopaedia of the arts and sciences /        </td><td>0.59053   </td></tr><tr><td>The primitive culture of India; lectures delivered in 1922 a     </td><td>0.58067   </td></tr><tr><td>The riddle of the universe at the close of the nineteenth ce     </td><td>0.57834   </td></tr><tr><td>The riddle of the universe at the close of the nineteenth ce     </td><td>0.57802   </td></tr><tr><td>Early civilization; an introduction to anthropology,             </td><td>0.57745   </td></tr><tr><td>On the trail of the pigmies; an anthropological exploration      </td><td>0.57705   </td></tr><tr><td>Early civilization; an introduction to anthropology /            </td><td>0.57663   </td></tr><tr><td>The riddle of the universe at the close of the nineteenth ce     </td><td>0.57503   </td></tr><tr><td>The germ-plasm : a theory of heredity /                          </td><td>0.56922   </td></tr><tr><td>An account of the Polynesian race, its origins and migration     </td><td>0.56418   </td></tr><tr><td>Last words on evolution; a popular retrospect and summary,       </td><td>0.55999   </td></tr><tr><td>Biology and its makers, with portraits and other illustratio     </td><td>0.55783   </td></tr><tr><td>Iroquois religion and its relation to their morals,              </td><td>0.54899   </td></tr><tr><td>The history of social development,                               </td><td>0.54062   </td></tr><tr><td>The principles of heredity with some applications,               </td><td>0.53214   </td></tr><tr><td>The psychic life of micro-organisms. A study in experimental     </td><td>0.51815   </td></tr><tr><td>The origin of man and his superstitions /                        </td><td>0.51118   </td></tr><tr><td>Primitive folk. Studies in comparative ethnology.                </td><td>0.50595   </td></tr><tr><td>The psychic life of micro-organisms : a study in experimenta     </td><td>0.50530   </td></tr><tr><td>The study of man /                                               </td><td>0.50153   </td></tr><tr><td>Secrets of animal life,                                          </td><td>0.50142   </td></tr><tr><td>The human species considered from the standpoints of compara     </td><td>0.47842   </td></tr><tr><td>Animism, the seed of religion.                                   </td><td>0.46720   </td></tr><tr><td>Evolutional ethics and animal psychology;                        </td><td>0.46371   </td></tr><tr><td>The divine pedigree of man, or, The testimony of evolution a     </td><td>0.45353   </td></tr><tr><td>International Congress of Arts and Science.                      </td><td>0.45244   </td></tr><tr><td>The divine pedigree of man, or, The testimony of evolution a     </td><td>0.44943   </td></tr></table>"
       ],
       "output_type": "pyout",
       "prompt_number": 53,
       "text": [
        "LabeledColumn([('Sociology based upon ethnography,', 0.60902917632771492),\n",
        "       ('Sociology based upon ethnography,', 0.60770468442886438),\n",
        "       ('The Andaman islanders; a study in anthropology (Anthony Wilk', 0.59325315985223936),\n",
        "       ..., ('Catalogue.', 1.3822738629440876e-07),\n",
        "       ('Catalogue.', 1.3520320106369525e-07),\n",
        "       ('General catalogue of the officers and graduates of the Unive', 1.1490707831195334e-07)], \n",
        "      dtype=[('doc', '|S60'), ('value', '<f8')])"
       ]
      }
     ],
     "prompt_number": 53
    },
    {
     "cell_type": "code",
     "collapsed": false,
     "input": [],
     "language": "python",
     "metadata": {},
     "outputs": []
    }
   ],
   "metadata": {}
  }
 ]
}