{
 "metadata": {
  "name": ""
 },
 "nbformat": 3,
 "nbformat_minor": 0,
 "worksheets": [
  {
   "cells": [
    {
     "cell_type": "heading",
     "level": 2,
     "metadata": {},
     "source": [
      "<center>Argument comparison in 3 editions of *The Animal Mind* </center> "
     ]
    },
    {
     "cell_type": "markdown",
     "metadata": {},
     "source": [
      "HathiTrust Library has 3 editions of *The Animal Mind* by Margaret Floy Washburn.\n",
      "\n",
      "+ 1st ed (1908) - <a href=\"http://hdl.handle.net/2027/uc2.ark:/13960/t5w66bs1h\" \n",
      "style=\"text-decoration:None\">uc2.ark+=13960=t5w66bs1h</a>\n",
      "+ 2nd ed (1917) - <a href=\"http://hdl.handle.net/2027/uc2.ark:/13960/t7gq6st77\"\n",
      "style=\"text-decoration:None\">uc2.ark+=13960=t7gq6st77</a>\n",
      "+ 3rd ed (1926) - <a href=\"http://hdl.handle.net/2027/mdp.39015011339705\"\n",
      "style=\"text-decoration:None\">mdp.39015011339705</a>\n",
      "\n",
      "With BEAGLE and LDA models, we'd like to explore how the content in the editions had evolved over the years."
     ]
    },
    {
     "cell_type": "heading",
     "level": 4,
     "metadata": {},
     "source": [
      "Loading the Corpus and Modeling Libraries for modeling analysis"
     ]
    },
    {
     "cell_type": "code",
     "collapsed": false,
     "input": [
      "from vsm.extensions.ldasentences import *\n",
      "from vsm.extensions.htrc import *\n",
      "\n",
      "from vsm.model.beaglecomposite import BeagleComposite as BC\n",
      "from vsm.model.ldacgsmulti import LdaCgsMulti as LDA\n",
      "\n",
      "from vsm.viewer.beagleviewer import BeagleViewer\n",
      "from vsm.viewer.ldagibbsviewer import LDAGibbsViewer\n",
      "\n",
      "path = '/var/inphosemantics/data/20131214/Washburn/vsm-data/'\n",
      "\n",
      "# 1908 edition\n",
      "c1 = CorpusSent.load(path + 'uc2.ark+=13960=t5w66bs1h-nltk-freq3-len2-label.npz')\n",
      "m1 = LDA.load(path + 'uc2.ark+=13960=t5w66bs1h-nltk-freq3-len2-LDA-K20-600.npz')\n",
      "v1 = LDAGibbsViewer(c1, m1)\n",
      "\n",
      "# 1917 edition\n",
      "c2 = CorpusSent.load(path + 'uc2.ark+=13960=t7gq6st77-nltk-freq3-len2-label.npz')\n",
      "m2 = LDA.load(path + 'uc2.ark+=13960=t7gq6st77-nltk-freq3-len2-LDA-K20-600.npz')\n",
      "v2 = LDAGibbsViewer(c2, m2)\n",
      "\n",
      "# 1926 edition\n",
      "c3 = CorpusSent.load(path + 'mdp.39015011339705-nltk-freq3-len2-label.npz')\n",
      "m3 = LDA.load('mdp.39015011339705-nltk-freq3-len2-LDA-K20-600.npz')\n",
      "v3 = LDAGibbsViewer(c3, m3)\n",
      "\n",
      "# BEAGLE Composite models with context-order 50:50 & 70:30 blend\n",
      "b = CorpusSent.load(path + '3ed-nltk-freq3-len2.npz')\n",
      "bcm50 = BC.load(path + '3ed-nltk-freq3-len2-beaglecomp-50.npz')\n",
      "bcm70 = BC.load(path + '3ed-nltk-freq3-len2-beaglecomp-70.npz')\n",
      "bv50 = BeagleViewer(b, bcm50)\n",
      "bv70 = BeagleViewer(b, bcm70)"
     ],
     "language": "python",
     "metadata": {},
     "outputs": [
      {
       "output_type": "stream",
       "stream": "stdout",
       "text": [
        "Loading corpus from /var/inphosemantics/data/20131214/Washburn/vsm-data/uc2.ark+=13960=t5w66bs1h-nltk-freq3-len2-label.npz\n",
        "Loading LdaCgsMulti data from /var/inphosemantics/data/20131214/Washburn/vsm-data/uc2.ark+=13960=t5w66bs1h-nltk-freq3-len2-LDA-K20-600.npz\n",
        "Loading corpus from"
       ]
      },
      {
       "output_type": "stream",
       "stream": "stdout",
       "text": [
        " /var/inphosemantics/data/20131214/Washburn/vsm-data/uc2.ark+=13960=t7gq6st77-nltk-freq3-len2-label.npz\n",
        "Loading LdaCgsMulti data from /var/inphosemantics/data/20131214/Washburn/vsm-data/uc2.ark+=13960=t7gq6st77-nltk-freq3-len2-LDA-K20-600.npz\n",
        "Loading corpus from"
       ]
      },
      {
       "output_type": "stream",
       "stream": "stdout",
       "text": [
        " /var/inphosemantics/data/20131214/Washburn/vsm-data/mdp.39015011339705-nltk-freq3-len2-label.npz\n",
        "Loading LdaCgsMulti data from mdp.39015011339705-nltk-freq3-len2-LDA-K20-600.npz\n",
        "Loading corpus from"
       ]
      },
      {
       "output_type": "stream",
       "stream": "stdout",
       "text": [
        " /var/inphosemantics/data/20131214/Washburn/vsm-data/3ed-nltk-freq3-len2.npz\n",
        "Loading model from /var/inphosemantics/data/20131214/Washburn/vsm-data/3ed-nltk-freq3-len2-beaglecomp-50.npz\n",
        "Loading model from"
       ]
      },
      {
       "output_type": "stream",
       "stream": "stdout",
       "text": [
        " /var/inphosemantics/data/20131214/Washburn/vsm-data/3ed-nltk-freq3-len2-beaglecomp-70.npz\n"
       ]
      }
     ],
     "prompt_number": 1
    },
    {
     "cell_type": "markdown",
     "metadata": {},
     "source": [
      "**We compare the evolution of editions by comparing the arguments.**\n",
      "<ol>\n",
      "    <li>Find arguments from the 1st edition (1908) that are used in argument mapping study.</li>\n",
      "    <li>With LDA, find similar sentences that are possible arguments for argument analysis.</li>\n",
      "    <li>Find similar sentences across volumes to compare the evolution of arguments in newer editions.</li>\n",
      "</ol>"
     ]
    },
    {
     "cell_type": "markdown",
     "metadata": {},
     "source": [
      "**Here are sentences from the 1st edition that are used in argument mapping.**"
     ]
    },
    {
     "cell_type": "code",
     "collapsed": false,
     "input": [
      "import json\n",
      "from unidecode import unidecode\n",
      "\n",
      "path = '/var/inphosemantics/data/20131214/Washburn/vsm-data/'\n",
      "f = open(path + 'arguments.json', 'r')\n",
      "seeds = json.load(f)\n",
      "f.close()"
     ],
     "language": "python",
     "metadata": {},
     "outputs": [],
     "prompt_number": 1
    },
    {
     "cell_type": "code",
     "collapsed": false,
     "input": [
      "args = seeds['arg4']\n",
      "args = [unidecode(a) for a in args]\n",
      "args"
     ],
     "language": "python",
     "metadata": {},
     "outputs": [
      {
       "metadata": {},
       "output_type": "pyout",
       "prompt_number": 2,
       "text": [
        "[' [Darwin says in The Descent of Man]  As dogs, cats, horses, and probably all the higher animals, even birds, have vivid dreams',\n",
        " '[Darwin says] and this is shown by their movements and the sounds uttered',\n",
        " '[Darwin says]  we must admit that they possess some power of imagination. ',\n",
        " '[Darwin says] Only a few persons now dispute that animals possess some power of reasoning. Animals may constantly be seen to pause, deliberate, and resolve.',\n",
        " '[Darwin says]  His object to show that there is no fundamental difference between man and the higher mammals in their mental faculties',\n",
        " 'Animal Mind Arg4',\n",
        " 'Now Darwin and Romanes were not led to humanize animals merely out of general sympathy with the brute creation, like Montaigne ; they had an ulterior motive ; namely, to meet the objection raised in their time against the doctrine of evolution, based on the supposed fact of a great mental and moral gulf between man and the lower animals.',\n",
        " 'They wished to show, as Darwin clearly states, that this gulf is not absolute but may conceivably have been bridged by intermediate stages of mental and moral development. ',\n",
        " 'While this argument against evolution was being pressed, the evolutionary writers were very unsafe guides in the field of animal psychology, for they distinctly \"held a brief for animal intelligence,\" to use Thorndike\\'s phrase. In more recent times interest in the objection drawn from man\\'s superiority has died out, and such special pleading has become unnecessary. ']"
       ]
      }
     ],
     "prompt_number": 2
    },
    {
     "cell_type": "markdown",
     "metadata": {},
     "source": [
      "**<< Mapped Arguments 1 >>** </br>\n",
      "**Chapter 1 Difficulties and Methods of Comparative Psychology __5. Methods of Interpreting Facts** </br>\n",
      "Diverse views on animal consciousness."
     ]
    },
    {
     "cell_type": "markdown",
     "metadata": {},
     "source": [
      "**Let's find related `documents` (sentences) of the mapped arguments. **"
     ]
    },
    {
     "cell_type": "code",
     "collapsed": false,
     "input": [
      "from IPython.display import HTML\n",
      "es = extend_sdd([410, 411, 412, 413, 414, 415, 416], v1)\n",
      "h = HTML(es); h"
     ],
     "language": "python",
     "metadata": {},
     "outputs": [
      {
       "html": [
        "<table style=\"margin: 0\"><tr><th style=\"text-align: center; background: #CEE3F6\" colspan                    =\"3\">Documents: </th></tr><tr><th style=\"text-align: center; background: #EFF2FB; \">Document                          </th><th style=\"text-align: center; background: #EFF2FB; \">Value                          </th><th style=\"text-align: center; background: #EFF2FB;\">Argument                Map</th></tr><tr><td><a href=\"http://hdl.handle.net/2027/njp.32101063553950?urlappend=%3Bseq=30\" target=\"_blank\">00000028.txt</a>, 422,    second book of Essays, \" An Apology of Raymond Sebonde,\"   he gives free rein to the inclination to humanize them.                                                                                                                                                                                                                                                                                                                                                                                                                                                                                                                                                                                  </td><td>0.98170   </td><td>arg2</td></tr><tr><td><a href=\"http://hdl.handle.net/2027/njp.32101063553950?urlappend=%3Bseq=286\" target=\"_blank\">00000284.txt</a>, 3512, We must admit that it   is not easy to prove the possession by any animal of memory   in the sense of having ideas of absent objects, rather than in the   sense of behaving differently to present objects because of past   experience with them.                                                                                                                                                                                                                                                                                                                                                                                                                                                  </td><td>0.98108   </td><td></td></tr><tr><td><a href=\"http://hdl.handle.net/2027/njp.32101063553950?urlappend=%3Bseq=47\" target=\"_blank\">00000045.txt</a>, 638, \"Because a   lowly organized animal,\" he says, \"does not learn by its own   individual experience, we may not therefore conclude that in   performing its natural or ancestral adaptations to appropriate   stimuli, consciousness, or the mind element, is wholly absent ;   we can only say that this element, if present, reveals no evidence of the fact \" (364, p. 3).                                                                                                                                                                                                                                                                                                                            </td><td>0.98094   </td><td>arg14</td></tr><tr><td><a href=\"http://hdl.handle.net/2027/njp.32101063553950?urlappend=%3Bseq=23\" target=\"_blank\">00000021.txt</a>, 336, It will be seen that in both the cases just criticised the error   lies in the interpretation of the animal's behavior.                                                                                                                                                                                                                                                                                                                                                                                                                                                                                                                                                                                </td><td>0.97860   </td><td></td></tr><tr><td><a href=\"http://hdl.handle.net/2027/njp.32101063553950?urlappend=%3Bseq=50\" target=\"_blank\">00000048.txt</a>, 681, The fact is   that while proof of the existence of mind can be derived from   animal learning by experience only if the learning is very   rapid, other evidence, equally valid on the principle of analogy, makes it highly improbable that all animals which learn   too slowly to evince the presence of ideas are therefore unconscious.                                                                                                                                                                                                                                                                                                                                                           </td><td>0.97825   </td><td>arg14</td></tr><tr><td><a href=\"http://hdl.handle.net/2027/njp.32101063553950?urlappend=%3Bseq=327\" target=\"_blank\">00000325.txt</a>, 5399, The nature and development of animal intelligence.                                                                                                                                                                                                                                                                                                                                                                                                                                                                                                                                                                                                                                                   </td><td>0.97781   </td><td></td></tr><tr><td><a href=\"http://hdl.handle.net/2027/njp.32101063553950?urlappend=%3Bseq=39\" target=\"_blank\">00000037.txt</a>, 549, If so,^we must also admit that human psychology is   impossible.                                                                                                                                                                                                                                                                                                                                                                                                                                                                                                                                                                                                                                       </td><td>0.97679   </td><td></td></tr><tr><td><a href=\"http://hdl.handle.net/2027/njp.32101063553950?urlappend=%3Bseq=31\" target=\"_blank\">00000029.txt</a>, 450, Descartes does not assert that animals   are unconscious in the sense which that term would carry   to-day, but only that they are without thought.                                                                                                                                                                                                                                                                                                                                                                                                                                                                                                                                                    </td><td>0.97643   </td><td>arg3</td></tr><tr><td><a href=\"http://hdl.handle.net/2027/njp.32101063553950?urlappend=%3Bseq=53\" target=\"_blank\">00000051.txt</a>, 727, Undeniably the formation of a positive notion regarding   the character arid content of psychic states in the mind, say   of an Amoeba, is next door to an impossibility.                                                                                                                                                                                                                                                                                                                                                                                                                                                                                                                              </td><td>0.97624   </td><td></td></tr><tr><td><a href=\"http://hdl.handle.net/2027/njp.32101063553950?urlappend=%3Bseq=47\" target=\"_blank\">00000045.txt</a>, 636, Does the absence of proof that an animal learns by experience show that the animal is unconscious?                                                                                                                                                                                                                                                                                                                                                                                                                                                                                                                                                                                                     </td><td>0.97554   </td><td>arg14</td></tr></table>"
       ],
       "metadata": {},
       "output_type": "pyout",
       "prompt_number": 2,
       "text": [
        "<IPython.core.display.HTML at 0x2a9b950>"
       ]
      }
     ],
     "prompt_number": 2
    },
    {
     "cell_type": "markdown",
     "metadata": {},
     "source": [
      "**Observations**\n",
      "<ul>\n",
      "    <li>Sentence 636 asks a question regarding animal behavior and consciousness like the first mapped argument :  `If an animal behaves in a certain manner, what may we conclude the consciousness accompanying its behavior to be like?`</li>\n",
      "    <li>we find several similar sentences in `00000045.txt` which is in Chapter 2. The Evidence of Mind __6. Inferring Mind from Behavior**.</li>\n",
      "</ul>"
     ]
    },
    {
     "cell_type": "markdown",
     "metadata": {},
     "source": [
      "**Are there any similar arguments in edition 2 and 3? </br>\n",
      "Let's find similar sentences across volumes.** </br>\n",
      "\n",
      "We do this by.. </br>\n",
      "<ol>\n",
      "    <li>Replacing words that don't appear in the other edition with BEAGLE.</li>\n",
      "    <li>Finding topic related to the words.</li>\n",
      "    <li>Calculate documents that are most likely generated by the topics.</li>\n",
      "</ol>"
     ]
    },
    {
     "cell_type": "markdown",
     "metadata": {},
     "source": [
      "**Below are sentences in edition 2 that are similar to the arguments.**"
     ]
    },
    {
     "cell_type": "code",
     "collapsed": false,
     "input": [
      "from IPython.display import HTML\n",
      "ea = extend_across(v1, v2, bv50, [410, 411, 412, 413, 414, 415, 416], 'table1col1.txt', 'table1col2.txt')\n",
      "h = HTML(ea); h"
     ],
     "language": "python",
     "metadata": {},
     "outputs": [
      {
       "output_type": "stream",
       "stream": "stdout",
       "text": [
        "BEAGLE composite model replaced gone by idea\n",
        "BEAGLE composite model replaced behaves by behavior"
       ]
      },
      {
       "output_type": "stream",
       "stream": "stdout",
       "text": [
        "\n",
        "Related topics: "
       ]
      },
      {
       "output_type": "stream",
       "stream": "stdout",
       "text": [
        " [4, 14, 5]\n"
       ]
      },
      {
       "html": [
        "<table style=\"margin: 0\"><tr><th style=\"text-align: center; background: #CEE3F6\" colspan                    =\"4\">Topics: 4, 14, 5</th></tr><tr><th style=\"text-align: center; background: #EFF2FB; \">Document                          </th><th style=\"text-align: center; background: #EFF2FB; \">Prob                          </th><th style=\"text-align: center; background: #EFF2FB;\">                Argument Map</th><th style=\"text-align: center; background:                 #EFF2FB;\">Novelty</th></tr><tr><td><a href=\"http://hdl.handle.net/2027/uc2.ark:/13960/t7gq6st77?urlappend=%3Bseq=37\" target=\"_blank\">00000037.txt</a>, 505, The term   \" intelligence \" which most writers use to designate merely   the power of learning by individual experience, Wasmann   would reserve for the power of deducing and understanding relations, and would assign only to human beings   (761, 762).                                                                                                                                                                                                                                                                                                                                                                                                                </td><td>0.99656   </td><td></td><td>12 (0.996)</td></tr><tr><td><a href=\"http://hdl.handle.net/2027/uc2.ark:/13960/t7gq6st77?urlappend=%3Bseq=19\" target=\"_blank\">00000019.txt</a>, 236, The science of human psychology   has to reckon with this unbridgeable gap between minds as   its chief difficulty.                                                                                                                                                                                                                                                                                                                                                                                                                                                                                                                                                        </td><td>0.92642   </td><td></td><td>234</td></tr><tr><td><a href=\"http://hdl.handle.net/2027/uc2.ark:/13960/t7gq6st77?urlappend=%3Bseq=53\" target=\"_blank\">00000053.txt</a>, 686, Inferring Mind from Structure     Both Yerkes and Lukas urge that the resemblance of an   animal's nervous system and sense organs to those of human   beings ought to be taken into consideration in deciding   whether the animal is conscious or not.                                                                                                                                                                                                                                                                                                                                                                                                                   </td><td>0.92402   </td><td></td><td>new</td></tr><tr><td><a href=\"http://hdl.handle.net/2027/uc2.ark:/13960/t7gq6st77?urlappend=%3Bseq=22\" target=\"_blank\">00000022.txt</a>, 268, From these general considerations we can understand   something of the special difficulties that beset the path of the   comparative psychologist, who desires to know the contents   of minds below the human level.                                                                                                                                                                                                                                                                                                                                                                                                                                                      </td><td>0.88106   </td><td></td><td>265</td></tr><tr><td><a href=\"http://hdl.handle.net/2027/uc2.ark:/13960/t7gq6st77?urlappend=%3Bseq=34\" target=\"_blank\">00000034.txt</a>, 472, Now these writers were not led to take such an attitude   merely out of general sympathy with the brute creation,   like Montaigne; they had an ulterior motive; namely,   to meet the objection raised in their time against the   doctrine of evolution, based on the supposed fact of a   great mental and moral gulf between man and the lower   animals.                                                                                                                                                                                                                                                                                                              </td><td>0.87014   </td><td></td><td>new</td></tr><tr><td><a href=\"http://hdl.handle.net/2027/uc2.ark:/13960/t7gq6st77?urlappend=%3Bseq=20\" target=\"_blank\">00000020.txt</a>, 242, observer is asked to study his own experience under certain   definite conditions, and to put it into words so that the experimenter may know what the contents of another mind are   like in the circumstances.                                                                                                                                                                                                                                                                                                                                                                                                                                                           </td><td>0.86558   </td><td></td><td>new</td></tr><tr><td><a href=\"http://hdl.handle.net/2027/uc2.ark:/13960/t7gq6st77?urlappend=%3Bseq=359\" target=\"_blank\">00000359.txt</a>, 5578, The play of animals.                                                                                                                                                                                                                                                                                                                                                                                                                                                                                                                                                                                                                                                     </td><td>0.82018   </td><td></td><td>586 (0.820)</td></tr><tr><td><a href=\"http://hdl.handle.net/2027/uc2.ark:/13960/t7gq6st77?urlappend=%3Bseq=39\" target=\"_blank\">00000039.txt</a>, 526, When this is lacking, there is not   the slightest scientific justification for assuming psychic   qualities.                                                                                                                                                                                                                                                                                                                                                                                                                                                                                                                                                              </td><td>0.81844   </td><td></td><td>new</td></tr><tr><td><a href=\"http://hdl.handle.net/2027/uc2.ark:/13960/t7gq6st77?urlappend=%3Bseq=54\" target=\"_blank\">00000054.txt</a>, 712, The terms \" discrimination,\" \" docility,\" and \"initiative\"   in this connection are borrowed from Royce's \" Outlines of   Psychology' 7 (649).                                                                                                                                                                                                                                                                                                                                                                                                                                                                                                                             </td><td>0.81844   </td><td></td><td>268 (0.818)</td></tr><tr><td><a href=\"http://hdl.handle.net/2027/uc2.ark:/13960/t7gq6st77?urlappend=%3Bseq=38\" target=\"_blank\">00000038.txt</a>, 520, In a footnote to a later   article he says : \"Psychic qualities cannot be demonstrated.                                                                                                                                                                                                                                                                                                                                                                                                                                                                                                                                                                                    </td><td>0.81781   </td><td>arg9</td><td>518</td></tr></table>"
       ],
       "metadata": {},
       "output_type": "pyout",
       "prompt_number": 4,
       "text": [
        "<IPython.core.display.HTML at 0x26e1a90>"
       ]
      }
     ],
     "prompt_number": 4
    },
    {
     "cell_type": "markdown",
     "metadata": {},
     "source": [
      "**Below are the topics that relate to the resulting documents in edition 2.**"
     ]
    },
    {
     "cell_type": "code",
     "collapsed": false,
     "input": [
      "v2.topics(k_indices=[4,5,14])"
     ],
     "language": "python",
     "metadata": {},
     "outputs": [
      {
       "html": [
        "<table style=\"margin: 0\"><tr><th style=\"text-align: center; background: #CEE3F6\" colspan            =\"11\">Topics Sorted by Index</th></tr><tr><th style=\"text-align: center; background: #EFF2FB;\"                     >Topic</th><th style=\"text-align: center; background: #EFF2FB;\"                     >Words</th></tr><tr><td style=\"padding-left:0.75em;\">4</td><td> experience, animal, may, consciousness, human, behavior, different, conscious, sensation, memory             </td></tr><tr><td style=\"padding-left:0.75em;\">5</td><td> animal, psychology, experimental, study, method, comparative, intelligence, behavior, mental, methods            </td></tr><tr><td style=\"padding-left:0.75em;\">14</td><td> animals, evidence, mind, behavior, human, animal, structure, must, may, case               </td></tr></table>"
       ],
       "metadata": {},
       "output_type": "pyout",
       "prompt_number": 16,
       "text": [
        "CompactTable([[('experience', 0.02313436588554604),\n",
        "        ('animal', 0.021625766871164166), ('may', 0.020117167856782289),\n",
        "        ..., ('vision', 2.5143316906350636e-06),\n",
        "        ('left', 2.5143316906350636e-06), ('psych', 2.5143316906341704e-06)],\n",
        "       [('animal', 0.038346281908990476),\n",
        "        ('psychology', 0.032796892341842784),\n",
        "        ('experimental', 0.022202603168197218), ...,\n",
        "        ('human', 5.0448996064950944e-06),\n",
        "        ('others', 5.0448996064950944e-06),\n",
        "        ('however', 5.0448996064950944e-06)],\n",
        "       [('animals', 0.027491789233184023),\n",
        "        ('evidence', 0.021422961587889526), ('mind', 0.019281022418962065),\n",
        "        ..., ('mechanical', 3.5698986148771307e-06),\n",
        "        ('reactions', 3.5698986148758623e-06),\n",
        "        ('exper', 3.5698986148758623e-06)]], \n",
        "      dtype=[('word', '|S17'), ('value', '<f8')])"
       ]
      }
     ],
     "prompt_number": 16
    },
    {
     "cell_type": "markdown",
     "metadata": {},
     "source": [
      "**Below are sentences in edition 3 that are similar to the arguments.**"
     ]
    },
    {
     "cell_type": "code",
     "collapsed": false,
     "input": [
      "from IPython.display import HTML\n",
      "ea = extend_across(v1, v3, bv50, [410, 411, 412, 413, 414, 415, 416], 'table1col1.txt', 'table1col3.txt')\n",
      "h = HTML(ea); h"
     ],
     "language": "python",
     "metadata": {},
     "outputs": [
      {
       "output_type": "stream",
       "stream": "stdout",
       "text": [
        "BEAGLE composite model replaced behaves by behavior\n",
        "Related topics: "
       ]
      },
      {
       "output_type": "stream",
       "stream": "stdout",
       "text": [
        " [13, 11, 16]\n"
       ]
      },
      {
       "html": [
        "<table style=\"margin: 0\"><tr><th style=\"text-align: center; background: #CEE3F6\" colspan                    =\"4\">Topics: 13, 11, 16</th></tr><tr><th style=\"text-align: center; background: #EFF2FB; \">Document                          </th><th style=\"text-align: center; background: #EFF2FB; \">Prob                          </th><th style=\"text-align: center; background: #EFF2FB;\">                Argument Map</th><th style=\"text-align: center; background:                 #EFF2FB;\">Novelty</th></tr><tr><td><a href=\"http://hdl.handle.net/2027/mdp.39015011339705?urlappend=%3Bseq=69\" target=\"_blank\">00000069.txt</a>, 888, Another consequence of that simplicity of structure which results both from the rudimentary powers of sensory discrimination and from the absence of memory ideas in the Amceba's mind is that there can be no distinction, within a given mental process, between that which is attended to and that which is not attended to, between the focus and the margin of consciousness.                                                                                                                                                                                                                                                                                   </td><td>0.87776   </td><td></td><td>12 (0.877)</td></tr><tr><td><a href=\"http://hdl.handle.net/2027/mdp.39015011339705?urlappend=%3Bseq=366\" target=\"_blank\">00000366.txt</a>, 4732, If it is true that instinct unmodified by experience is adapted to general rather than to special features of environment,1 it seems likely that the phenomena of attention as we 1 In this connection Franz's experimental demonstration that the frontal lobes, long regarded as the seat of the neural processes under-                                                                                                                                                                                                                                                                                                                                         </td><td>0.87103   </td><td></td><td>new</td></tr><tr><td><a href=\"http://hdl.handle.net/2027/mdp.39015011339705?urlappend=%3Bseq=73\" target=\"_blank\">00000073.txt</a>, 935, If an animal is capable only of a half dozen different ways of responding to stimulation, we may with comparative safety assume that it has less opportunity to hold them in reserve; and if such an animal invariably reacts in the same way to two different forms of stimulus, or if the variations in its response are not correlated with differences in the stimulation, it becomes probable that the two stimuli produce in its assumed consciousness identical sensation qualities.                                                                                                                                                                          </td><td>0.86026   </td><td></td><td>new</td></tr><tr><td><a href=\"http://hdl.handle.net/2027/mdp.39015011339705?urlappend=%3Bseq=29\" target=\"_blank\">00000029.txt</a>, 342, The maker of an anecdote is seldom content with merely telling one what the animal did and leaving future investigation and the comparative study of many facts to decide what the animal's conscious experience in doing it was like.                                                                                                                                                                                                                                                                                                                                                                                                                               </td><td>0.85082   </td><td></td><td>new</td></tr><tr><td><a href=\"http://hdl.handle.net/2027/mdp.39015011339705?urlappend=%3Bseq=41\" target=\"_blank\">00000041.txt</a>, 533, \" The main purpose of this paper was to suggest that all terms having a psychological implication, such as sight, smell, sense-organ, memory, learning, and the like, be carefully excluded from discussions of animal reactions to stimulation and animal behavior generally.                                                                                                                                                                                                                                                                                                                                                                                       </td><td>0.84344   </td><td></td><td>new</td></tr><tr><td><a href=\"http://hdl.handle.net/2027/mdp.39015011339705?urlappend=%3Bseq=411\" target=\"_blank\">00000411.txt</a>, 8445, The mechanistic conception of life.                                                                                                                                                                                                                                                                                                                                                                                                                                                                                                                                                                                                                                </td><td>0.82018   </td><td></td><td>new</td></tr><tr><td><a href=\"http://hdl.handle.net/2027/mdp.39015011339705?urlappend=%3Bseq=393\" target=\"_blank\">00000393.txt</a>, 6380, The habits and movements of the razor-shell clam.                                                                                                                                                                                                                                                                                                                                                                                                                                                                                                                                                                                                                  </td><td>0.82018   </td><td></td><td>new</td></tr><tr><td><a href=\"http://hdl.handle.net/2027/mdp.39015011339705?urlappend=%3Bseq=40\" target=\"_blank\">00000040.txt</a>, 514, A living being is forever distinguished from a lifeless creature by the presence of such entelechies.                                                                                                                                                                                                                                                                                                                                                                                                                                                                                                                                                                </td><td>0.81844   </td><td></td><td>new</td></tr><tr><td><a href=\"http://hdl.handle.net/2027/mdp.39015011339705?urlappend=%3Bseq=379\" target=\"_blank\">00000379.txt</a>, 4872, Some points regarding the behavior of Metridium.                                                                                                                                                                                                                                                                                                                                                                                                                                                                                                                                                                                                                   </td><td>0.81844   </td><td></td><td>new</td></tr><tr><td><a href=\"http://hdl.handle.net/2027/mdp.39015011339705?urlappend=%3Bseq=337\" target=\"_blank\">00000337.txt</a>, 4355, Much the same sort of phenomena are reported                                                                                                                                                                                                                                                                                                                                                                                                                                                                                                                                                                                                                       </td><td>0.81844   </td><td></td><td>new</td></tr></table>"
       ],
       "metadata": {},
       "output_type": "pyout",
       "prompt_number": 2,
       "text": [
        "<IPython.core.display.HTML at 0x26e1a50>"
       ]
      }
     ],
     "prompt_number": 2
    },
    {
     "cell_type": "markdown",
     "metadata": {},
     "source": [
      "**Below are the topics that relate to the resulting documents in edition 3.**"
     ]
    },
    {
     "cell_type": "code",
     "collapsed": false,
     "input": [
      "v3.topics(k_indices=[13, 11, 16])"
     ],
     "language": "python",
     "metadata": {},
     "outputs": [
      {
       "html": [
        "<table style=\"margin: 0\"><tr><th style=\"text-align: center; background: #CEE3F6\" colspan            =\"11\">Topics Sorted by Index</th></tr><tr><th style=\"text-align: center; background: #EFF2FB;\"                     >Topic</th><th style=\"text-align: center; background: #EFF2FB;\"                     >Words</th></tr><tr><td style=\"padding-left:0.75em;\">13</td><td> animal, experience, memory, animals, may, behavior, would, ideas, must, mind                 </td></tr><tr><td style=\"padding-left:0.75em;\">11</td><td> stimulus, stimuli, may, reaction, animal, different, reactions, animals, sensation, stimulation          </td></tr><tr><td style=\"padding-left:0.75em;\">16</td><td> behavior, animals, animal, study, psychology, experimental, method, comparative, methods, evidence             </td></tr></table>"
       ],
       "metadata": {},
       "output_type": "pyout",
       "prompt_number": 10,
       "text": [
        "CompactTable([[('animal', 0.022273314936333357),\n",
        "        ('experience', 0.014804061101211506),\n",
        "        ('memory', 0.012631187258266969), ...,\n",
        "        ('activity', 1.3580461518400663e-06),\n",
        "        ('visual', 1.3580461518391013e-06),\n",
        "        ('response', 1.3580461518391013e-06)],\n",
        "       [('stimulus', 0.019402457198188325),\n",
        "        ('stimuli', 0.015453633947517312), ('may', 0.015281945980096825),\n",
        "        ..., ('bull', 1.7168796742044479e-06),\n",
        "        ('called', 1.716879674203838e-06), ('proc', 1.716879674203838e-06)],\n",
        "       [('behavior', 0.032389096371426472),\n",
        "        ('animals', 0.024120419497538209), ('animal', 0.0227423066852235),\n",
        "        ..., ('effect', 3.445282030783642e-06),\n",
        "        ('time', 3.445282030783642e-06), ('cases', 3.4452820307824176e-06)]], \n",
        "      dtype=[('word', '|S19'), ('value', '<f8')])"
       ]
      }
     ],
     "prompt_number": 10
    },
    {
     "cell_type": "markdown",
     "metadata": {},
     "source": [
      "**<< Mapped Arguments 5 >>** </br>\n",
      "**Chapter 1 Difficulties and Methods of Comparative Psychology __5. Methods of Interpreting Facts** </br>\n",
      "the bias of physiologists, no psychic interpretation."
     ]
    },
    {
     "cell_type": "code",
     "collapsed": false,
     "input": [
      "from IPython.display import HTML\n",
      "es = extend_sdd([471, 472, 473], v1)\n",
      "h = HTML(es); h"
     ],
     "language": "python",
     "metadata": {},
     "outputs": [
      {
       "html": [
        "<table style=\"margin: 0\"><tr><th style=\"text-align: center; background: #CEE3F6\" colspan                    =\"3\">Documents: </th></tr><tr><th style=\"text-align: center; background: #EFF2FB; \">Document                          </th><th style=\"text-align: center; background: #EFF2FB; \">Value                          </th><th style=\"text-align: center; background: #EFF2FB;\">Argument                Map</th></tr><tr><td><a href=\"http://hdl.handle.net/2027/njp.32101063553950?urlappend=%3Bseq=218\" target=\"_blank\">00000216.txt</a>, 2698, For   one thing, it looks probable that the ability to suspend immediate reaction is essential to space perception.                                                                                                                                                                                                                                                                                                                                                                                                                                                                                                                                                                                  </td><td>0.97549   </td><td></td></tr><tr><td><a href=\"http://hdl.handle.net/2027/njp.32101063553950?urlappend=%3Bseq=306\" target=\"_blank\">00000304.txt</a>, 3749, In   attention, the details of the object attended to become clear   and distinct.                                                                                                                                                                                                                                                                                                                                                                                                                                                                                                                                                                                                                   </td><td>0.90345   </td><td></td></tr><tr><td><a href=\"http://hdl.handle.net/2027/njp.32101063553950?urlappend=%3Bseq=225\" target=\"_blank\">00000223.txt</a>, 2767, As a matter of fact, the higher the animal the more lasting   appears to be the result of \"getting used\" to a stimulus.                                                                                                                                                                                                                                                                                                                                                                                                                                                                                                                                                                              </td><td>0.90094   </td><td></td></tr><tr><td><a href=\"http://hdl.handle.net/2027/njp.32101063553950?urlappend=%3Bseq=308\" target=\"_blank\">00000306.txt</a>, 3767,    adapted to general rather than to special features of environment, it seems likely that the phenomena of attention as we   know them are found chiefly in connection with those responses to vitally important stimulation which are determined,   in part, at least, by the individual experience of the reacting   animal, for these are the responses requiring most careful   discrimination among stimuli, and the delay of reaction until   such discrimination has been made.                                                                                                                                                                                                              </td><td>0.87826   </td><td></td></tr><tr><td><a href=\"http://hdl.handle.net/2027/njp.32101063553950?urlappend=%3Bseq=32\" target=\"_blank\">00000030.txt</a>, 471, \\ On the other hand, the fact that the greater part of the   experiments on animals were until the last ten or fifteen years   performed by physiologists has given rise to an opposite tendency in interpreting the animal mind: the tendency to   make purely biological concepts suffice as far as possible   for the explanation of animal behavior and to assume the   presence even of consciousness in animals only when it is   absolutely necessary to do so.                                                                                                                                                                                                                                 </td><td>0.87148   </td><td>arg5</td></tr><tr><td><a href=\"http://hdl.handle.net/2027/njp.32101063553950?urlappend=%3Bseq=206\" target=\"_blank\">00000204.txt</a>, 2551, Its usefulness is obvious : a stimulus in motion is   very commonly a living creature, hence either an enemy or   food.                                                                                                                                                                                                                                                                                                                                                                                                                                                                                                                                                                              </td><td>0.85243   </td><td></td></tr><tr><td><a href=\"http://hdl.handle.net/2027/njp.32101063553950?urlappend=%3Bseq=254\" target=\"_blank\">00000252.txt</a>, 3139, But it will continue to   perform the act, in the absence of any copy to imitate, only   if the act is itself an instinctive one, like drinking in birds,   or becomes permanent by reason of its consequences, just as   would be the case if its first performance had been accidental   rather than imitative.                                                                                                                                                                                                                                                                                                                                                                                    </td><td>0.84765   </td><td></td></tr><tr><td><a href=\"http://hdl.handle.net/2027/njp.32101063553950?urlappend=%3Bseq=43\" target=\"_blank\">00000041.txt</a>, 595, In the case of man, we /   know that absence of visible response does not prove that the   stimulus has not been sensed ; while it is probable that some   effect upon motor channels always occurs when consciousness   .accompanies stimulation, the effect may not be apparent to   an outside observer.                                                                                                                                                                                                                                                                                                                                                                                            </td><td>0.84059   </td><td></td></tr><tr><td><a href=\"http://hdl.handle.net/2027/njp.32101063553950?urlappend=%3Bseq=266\" target=\"_blank\">00000264.txt</a>, 3273,    It is possible that, as a consequence of the general tendency   of the nervous system to establish short-cuts, after repetition   of this experience, the appearance of the stimulus may stir   up the negative reaction soon enough to inhibit the positive   one altogether; through the operation of the same law   whereby in learning a foreign language we first pass to the   meaning of a word by way of the sound of the English word,   but later make the association without any intervening link.                                                                                                                                                                                    </td><td>0.84030   </td><td></td></tr><tr><td><a href=\"http://hdl.handle.net/2027/njp.32101063553950?urlappend=%3Bseq=295\" target=\"_blank\">00000293.txt</a>, 3607, Ideas of Movement     (3) A very striking difference between man and most of   the lower animals lies in the immensely greater number of   different movements, each adapted to some feature of the   environment, that man is able to perform.                                                                                                                                                                                                                                                                                                                                                                                                                                                      </td><td>0.83980   </td><td></td></tr></table>"
       ],
       "metadata": {},
       "output_type": "pyout",
       "prompt_number": 5,
       "text": [
        "<IPython.core.display.HTML at 0x26e18d0>"
       ]
      }
     ],
     "prompt_number": 5
    },
    {
     "cell_type": "code",
     "collapsed": false,
     "input": [
      "from IPython.display import HTML\n",
      "ea = extend_across(v1, v2, bv50, [471, 472, 473], 'table1col1.txt', 'table1col2.txt')\n",
      "h = HTML(ea); h"
     ],
     "language": "python",
     "metadata": {},
     "outputs": [
      {
       "output_type": "stream",
       "stream": "stdout",
       "text": [
        "BEAGLE composite model replaced concepts by language\n",
        "Related topics: "
       ]
      },
      {
       "output_type": "stream",
       "stream": "stdout",
       "text": [
        " [6, 14, 4]\n"
       ]
      },
      {
       "html": [
        "<table style=\"margin: 0\"><tr><th style=\"text-align: center; background: #CEE3F6\" colspan                    =\"4\">Topics: 6, 14, 4</th></tr><tr><th style=\"text-align: center; background: #EFF2FB; \">Document                          </th><th style=\"text-align: center; background: #EFF2FB; \">Prob                          </th><th style=\"text-align: center; background: #EFF2FB;\">                Argument Map</th><th style=\"text-align: center; background:                 #EFF2FB;\">Novelty</th></tr><tr><td><a href=\"http://hdl.handle.net/2027/uc2.ark:/13960/t7gq6st77?urlappend=%3Bseq=197\" target=\"_blank\">00000197.txt</a>, 2350, Increasing the air   pressure, or protecting the surface with oil, has no effect   upon geotropism, Lyon finds, and he urges that Jensen's   theory requires enormous sensibility to pressure differences   on the organism's part, as great as that needed by a human                                                                                                                                                                                                                                                                                                                                                                                                   </td><td>0.83431   </td><td></td><td>481 (0.834)</td></tr><tr><td><a href=\"http://hdl.handle.net/2027/uc2.ark:/13960/t7gq6st77?urlappend=%3Bseq=359\" target=\"_blank\">00000359.txt</a>, 5578, The play of animals.                                                                                                                                                                                                                                                                                                                                                                                                                                                                                                                                                                                                                                                     </td><td>0.82018   </td><td></td><td>586 (0.820)</td></tr><tr><td><a href=\"http://hdl.handle.net/2027/uc2.ark:/13960/t7gq6st77?urlappend=%3Bseq=39\" target=\"_blank\">00000039.txt</a>, 526, When this is lacking, there is not   the slightest scientific justification for assuming psychic   qualities.                                                                                                                                                                                                                                                                                                                                                                                                                                                                                                                                                              </td><td>0.81844   </td><td></td><td>new</td></tr><tr><td><a href=\"http://hdl.handle.net/2027/uc2.ark:/13960/t7gq6st77?urlappend=%3Bseq=229\" target=\"_blank\">00000229.txt</a>, 2713, Similar considerations apply to orientation to centrifugal force.                                                                                                                                                                                                                                                                                                                                                                                                                                                                                                                                                                                                        </td><td>0.81781   </td><td></td><td>new</td></tr><tr><td><a href=\"http://hdl.handle.net/2027/uc2.ark:/13960/t7gq6st77?urlappend=%3Bseq=162\" target=\"_blank\">00000162.txt</a>, 1948, Such collections are evidently   not due to a definite choice on an animal's part.                                                                                                                                                                                                                                                                                                                                                                                                                                                                                                                                                                                       </td><td>0.81781   </td><td></td><td>984 (0.817)</td></tr><tr><td><a href=\"http://hdl.handle.net/2027/uc2.ark:/13960/t7gq6st77?urlappend=%3Bseq=33\" target=\"_blank\">00000033.txt</a>, 443, \" While   animals surpass us in certain actions, it is, he holds, only   in those \" which are not directed by thought.                                                                                                                                                                                                                                                                                                                                                                                                                                                                                                                                                     </td><td>0.81781   </td><td>arg3</td><td>440</td></tr><tr><td><a href=\"http://hdl.handle.net/2027/uc2.ark:/13960/t7gq6st77?urlappend=%3Bseq=69\" target=\"_blank\">00000069.txt</a>, 878, It is even possible that the \"stream of   consciousness\" for an Amoeba may not be a continuous   stream at all.                                                                                                                                                                                                                                                                                                                                                                                                                                                                                                                                                            </td><td>0.81749   </td><td></td><td>new</td></tr><tr><td><a href=\"http://hdl.handle.net/2027/uc2.ark:/13960/t7gq6st77?urlappend=%3Bseq=80\" target=\"_blank\">00000080.txt</a>, 986, Organic and kinaesthetic sensations are hard to trace in   the lower animals; for animals whose structure differs   widely from our own, the qualities of these two classes   must remain beyond the power of our imagination.                                                                                                                                                                                                                                                                                                                                                                                                                                             </td><td>0.81690   </td><td></td><td>1065</td></tr><tr><td><a href=\"http://hdl.handle.net/2027/uc2.ark:/13960/t7gq6st77?urlappend=%3Bseq=44\" target=\"_blank\">00000044.txt</a>, 591, The social consciousness of man is   very strong, and his tendency to think of other creatures,   even of inanimate nature, as sharing his own thoughts and   feelings, has shown itself in his past to be almost irresistible.                                                                                                                                                                                                                                                                                                                                                                                                                                            </td><td>0.81523   </td><td></td><td>new</td></tr><tr><td><a href=\"http://hdl.handle.net/2027/uc2.ark:/13960/t7gq6st77?urlappend=%3Bseq=65\" target=\"_blank\">00000065.txt</a>, 827,    A consequence of this lack of qualitative variety in the   sense experiences of an Amoeba is a lack of what we may   call complexity of structure in that experience.                                                                                                                                                                                                                                                                                                                                                                                                                                                                                                   </td><td>0.81472   </td><td></td><td>809</td></tr></table>"
       ],
       "metadata": {},
       "output_type": "pyout",
       "prompt_number": 6,
       "text": [
        "<IPython.core.display.HTML at 0x26e1990>"
       ]
      }
     ],
     "prompt_number": 6
    },
    {
     "cell_type": "code",
     "collapsed": false,
     "input": [
      "v2.topics(k_indices=[6, 14, 4])"
     ],
     "language": "python",
     "metadata": {},
     "outputs": [
      {
       "html": [
        "<table style=\"margin: 0\"><tr><th style=\"text-align: center; background: #CEE3F6\" colspan            =\"11\">Topics Sorted by Index</th></tr><tr><th style=\"text-align: center; background: #EFF2FB;\"                     >Topic</th><th style=\"text-align: center; background: #EFF2FB;\"                     >Words</th></tr><tr><td style=\"padding-left:0.75em;\">6</td><td> light, gravity, orientation, animal, animals, position, reactions, due, may, response           </td></tr><tr><td style=\"padding-left:0.75em;\">14</td><td> animals, evidence, mind, behavior, human, animal, structure, must, may, case               </td></tr><tr><td style=\"padding-left:0.75em;\">4</td><td> experience, animal, may, consciousness, human, behavior, different, conscious, sensation, memory             </td></tr></table>"
       ],
       "metadata": {},
       "output_type": "pyout",
       "prompt_number": 5,
       "text": [
        "CompactTable([[('light', 0.043892896026126907), ('gravity', 0.021778034839410758),\n",
        "        ('orientation', 0.019396434403918257), ...,\n",
        "        ('contact', 3.40228633641719e-06),\n",
        "        ('organs', 3.40228633641719e-06), ('jour', 3.4022863364147726e-06)],\n",
        "       [('animals', 0.027491789233184023),\n",
        "        ('evidence', 0.021422961587889526), ('mind', 0.019281022418962065),\n",
        "        ..., ('mechanical', 3.5698986148771307e-06),\n",
        "        ('reactions', 3.5698986148758623e-06),\n",
        "        ('exper', 3.5698986148758623e-06)],\n",
        "       [('experience', 0.02313436588554604),\n",
        "        ('animal', 0.021625766871164166), ('may', 0.020117167856782289),\n",
        "        ..., ('vision', 2.5143316906350636e-06),\n",
        "        ('left', 2.5143316906350636e-06), ('psych', 2.5143316906341704e-06)]], \n",
        "      dtype=[('word', '|S17'), ('value', '<f8')])"
       ]
      }
     ],
     "prompt_number": 5
    },
    {
     "cell_type": "code",
     "collapsed": false,
     "input": [
      "from IPython.display import HTML\n",
      "ea = extend_across(v1, v3, bv50, [471, 472, 473], 'table1col1.txt', 'table1col3.txt')\n",
      "h = HTML(ea); h"
     ],
     "language": "python",
     "metadata": {},
     "outputs": [
      {
       "output_type": "stream",
       "stream": "stdout",
       "text": [
        "BEAGLE composite model replaced concepts by language\n",
        "Related topics: "
       ]
      },
      {
       "output_type": "stream",
       "stream": "stdout",
       "text": [
        " [13, 11, 3]\n"
       ]
      },
      {
       "html": [
        "<table style=\"margin: 0\"><tr><th style=\"text-align: center; background: #CEE3F6\" colspan                    =\"4\">Topics: 13, 11, 3</th></tr><tr><th style=\"text-align: center; background: #EFF2FB; \">Document                          </th><th style=\"text-align: center; background: #EFF2FB; \">Prob                          </th><th style=\"text-align: center; background: #EFF2FB;\">                Argument Map</th><th style=\"text-align: center; background:                 #EFF2FB;\">Novelty</th></tr><tr><td><a href=\"http://hdl.handle.net/2027/mdp.39015011339705?urlappend=%3Bseq=414\" target=\"_blank\">00000414.txt</a>, 8713, Light and the behavior of organisms.                                                                                                                                                                                                                                                                                                                                                                                                                                                                                                                                                                                                                               </td><td>0.99972   </td><td></td><td>255 (0.999)</td></tr><tr><td><a href=\"http://hdl.handle.net/2027/mdp.39015011339705?urlappend=%3Bseq=24\" target=\"_blank\">00000024.txt</a>, 253, If this hypothesis be uncertain when applied to our fellow human beings, it fails us utterly when we turn to the lower animals.                                                                                                                                                                                                                                                                                                                                                                                                                                                                                                                                      </td><td>0.87896   </td><td></td><td>244</td></tr><tr><td><a href=\"http://hdl.handle.net/2027/mdp.39015011339705?urlappend=%3Bseq=196\" target=\"_blank\">00000196.txt</a>, 2543, It has been suggested that the downward movement under these circumstances is protective, since it shields the animals from surface agitation of the water, from surface ice, and from failure of the surface food supply (694).                                                                                                                                                                                                                                                                                                                                                                                                                                   </td><td>0.87891   </td><td></td><td>2152</td></tr><tr><td><a href=\"http://hdl.handle.net/2027/mdp.39015011339705?urlappend=%3Bseq=411\" target=\"_blank\">00000411.txt</a>, 8445, The mechanistic conception of life.                                                                                                                                                                                                                                                                                                                                                                                                                                                                                                                                                                                                                                </td><td>0.82018   </td><td></td><td>new</td></tr><tr><td><a href=\"http://hdl.handle.net/2027/mdp.39015011339705?urlappend=%3Bseq=442\" target=\"_blank\">00000442.txt</a>, 11733, Circus movements, 191 f. Clepsine, 129.                                                                                                                                                                                                                                                                                                                                                                                                                                                                                                                                                                                                                           </td><td>0.82018   </td><td></td><td>new</td></tr><tr><td><a href=\"http://hdl.handle.net/2027/mdp.39015011339705?urlappend=%3Bseq=315\" target=\"_blank\">00000315.txt</a>, 4077, it receives food.                                                                                                                                                                                                                                                                                                                                                                                                                                                                                                                                                                                                                                                  </td><td>0.82018   </td><td></td><td>new</td></tr><tr><td><a href=\"http://hdl.handle.net/2027/mdp.39015011339705?urlappend=%3Bseq=18\" target=\"_blank\">00000018.txt</a>, 179, The Psychic Aspect of Orientation to Light.                                                                                                                                                                                                                                                                                                                                                                                                                                                                                                                                                                                                                          </td><td>0.81844   </td><td></td><td>178</td></tr><tr><td><a href=\"http://hdl.handle.net/2027/mdp.39015011339705?urlappend=%3Bseq=40\" target=\"_blank\">00000040.txt</a>, 514, A living being is forever distinguished from a lifeless creature by the presence of such entelechies.                                                                                                                                                                                                                                                                                                                                                                                                                                                                                                                                                                </td><td>0.81844   </td><td></td><td>new</td></tr><tr><td><a href=\"http://hdl.handle.net/2027/mdp.39015011339705?urlappend=%3Bseq=148\" target=\"_blank\">00000148.txt</a>, 1921, It is uncertain, then, what the function of the pigment spot is.                                                                                                                                                                                                                                                                                                                                                                                                                                                                                                                                                                                                   </td><td>0.81844   </td><td></td><td>1749</td></tr><tr><td><a href=\"http://hdl.handle.net/2027/mdp.39015011339705?urlappend=%3Bseq=80\" target=\"_blank\">00000080.txt</a>, 1014, Its needs are therefore well served by the very definite and vigorous negative reaction which gets it out of trouble.                                                                                                                                                                                                                                                                                                                                                                                                                                                                                                                                               </td><td>0.81749   </td><td></td><td>new</td></tr></table>"
       ],
       "metadata": {},
       "output_type": "pyout",
       "prompt_number": 7,
       "text": [
        "<IPython.core.display.HTML at 0x3a14f90>"
       ]
      }
     ],
     "prompt_number": 7
    },
    {
     "cell_type": "code",
     "collapsed": false,
     "input": [
      "v3.topics(k_indices=[13, 11, 3])"
     ],
     "language": "python",
     "metadata": {},
     "outputs": [
      {
       "html": [
        "<table style=\"margin: 0\"><tr><th style=\"text-align: center; background: #CEE3F6\" colspan            =\"11\">Topics Sorted by Index</th></tr><tr><th style=\"text-align: center; background: #EFF2FB;\"                     >Topic</th><th style=\"text-align: center; background: #EFF2FB;\"                     >Words</th></tr><tr><td style=\"padding-left:0.75em;\">13</td><td> animal, experience, memory, animals, may, behavior, would, ideas, must, mind                 </td></tr><tr><td style=\"padding-left:0.75em;\">11</td><td> stimulus, stimuli, may, reaction, animal, different, reactions, animals, sensation, stimulation          </td></tr><tr><td style=\"padding-left:0.75em;\">3</td><td> light, animal, body, one, side, direction, movements, stimulus, head, negative             </td></tr></table>"
       ],
       "metadata": {},
       "output_type": "pyout",
       "prompt_number": 8,
       "text": [
        "CompactTable([[('animal', 0.022273314936333357),\n",
        "        ('experience', 0.014804061101211506),\n",
        "        ('memory', 0.012631187258266969), ...,\n",
        "        ('activity', 1.3580461518400663e-06),\n",
        "        ('visual', 1.3580461518391013e-06),\n",
        "        ('response', 1.3580461518391013e-06)],\n",
        "       [('stimulus', 0.019402457198188325),\n",
        "        ('stimuli', 0.015453633947517312), ('may', 0.015281945980096825),\n",
        "        ..., ('bull', 1.7168796742044479e-06),\n",
        "        ('called', 1.716879674203838e-06), ('proc', 1.716879674203838e-06)],\n",
        "       [('light', 0.049011011731549189), ('animal', 0.020869069133456417),\n",
        "        ('body', 0.013211397678193076), ...,\n",
        "        ('become', 1.9144178638147741e-06),\n",
        "        ('sur', 1.9144178638140939e-06),\n",
        "        ('discrimination', 1.9144178638137538e-06)]], \n",
        "      dtype=[('word', '|S19'), ('value', '<f8')])"
       ]
      }
     ],
     "prompt_number": 8
    },
    {
     "cell_type": "markdown",
     "metadata": {},
     "source": [
      "**<< Mapped Arguments 8 >>** </br>\n",
      "**Chapter 1 Difficulties and Methods of Comparative Psychology __5. Methods of Interpreting Facts** </br>\n",
      "Wasmann's arguments."
     ]
    },
    {
     "cell_type": "code",
     "collapsed": false,
     "input": [
      "from IPython.display import HTML\n",
      "es = extend_sdd([497, 498, 499, 500, 501, 502, 503], v1)\n",
      "h = HTML(es); h"
     ],
     "language": "python",
     "metadata": {},
     "outputs": [
      {
       "html": [
        "<table style=\"margin: 0\"><tr><th style=\"text-align: center; background: #CEE3F6\" colspan                    =\"3\">Documents: </th></tr><tr><th style=\"text-align: center; background: #EFF2FB; \">Document                          </th><th style=\"text-align: center; background: #EFF2FB; \">Value                          </th><th style=\"text-align: center; background: #EFF2FB;\">Argument                Map</th></tr><tr><td><a href=\"http://hdl.handle.net/2027/njp.32101063553950?urlappend=%3Bseq=80\" target=\"_blank\">00000078.txt</a>, 1049, Evidence for Discrimination of Certain \"Lower\"   Sensation Classes     Bearing all these points in mind, let us proceed to survey   the evidence for variety in the sensations of animals.                                                                                                                                                                                                                                                                                                                                                                                                                                                                                                            </td><td>0.94297   </td><td></td></tr><tr><td><a href=\"http://hdl.handle.net/2027/njp.32101063553950?urlappend=%3Bseq=327\" target=\"_blank\">00000325.txt</a>, 5399, The nature and development of animal intelligence.                                                                                                                                                                                                                                                                                                                                                                                                                                                                                                                                                                                                                                                   </td><td>0.91540   </td><td></td></tr><tr><td><a href=\"http://hdl.handle.net/2027/njp.32101063553950?urlappend=%3Bseq=39\" target=\"_blank\">00000037.txt</a>, 549, If so,^we must also admit that human psychology is   impossible.                                                                                                                                                                                                                                                                                                                                                                                                                                                                                                                                                                                                                                       </td><td>0.91336   </td><td></td></tr><tr><td><a href=\"http://hdl.handle.net/2027/njp.32101063553950?urlappend=%3Bseq=31\" target=\"_blank\">00000029.txt</a>, 450, Descartes does not assert that animals   are unconscious in the sense which that term would carry   to-day, but only that they are without thought.                                                                                                                                                                                                                                                                                                                                                                                                                                                                                                                                                    </td><td>0.91266   </td><td>arg3</td></tr><tr><td><a href=\"http://hdl.handle.net/2027/njp.32101063553950?urlappend=%3Bseq=53\" target=\"_blank\">00000051.txt</a>, 727, Undeniably the formation of a positive notion regarding   the character arid content of psychic states in the mind, say   of an Amoeba, is next door to an impossibility.                                                                                                                                                                                                                                                                                                                                                                                                                                                                                                                              </td><td>0.91231   </td><td></td></tr><tr><td><a href=\"http://hdl.handle.net/2027/njp.32101063553950?urlappend=%3Bseq=50\" target=\"_blank\">00000048.txt</a>, 681, The fact is   that while proof of the existence of mind can be derived from   animal learning by experience only if the learning is very   rapid, other evidence, equally valid on the principle of analogy, makes it highly improbable that all animals which learn   too slowly to evince the presence of ideas are therefore unconscious.                                                                                                                                                                                                                                                                                                                                                           </td><td>0.91223   </td><td>arg14</td></tr><tr><td><a href=\"http://hdl.handle.net/2027/njp.32101063553950?urlappend=%3Bseq=47\" target=\"_blank\">00000045.txt</a>, 638, \"Because a   lowly organized animal,\" he says, \"does not learn by its own   individual experience, we may not therefore conclude that in   performing its natural or ancestral adaptations to appropriate   stimuli, consciousness, or the mind element, is wholly absent ;   we can only say that this element, if present, reveals no evidence of the fact \" (364, p. 3).                                                                                                                                                                                                                                                                                                                            </td><td>0.91082   </td><td>arg14</td></tr><tr><td><a href=\"http://hdl.handle.net/2027/njp.32101063553950?urlappend=%3Bseq=30\" target=\"_blank\">00000028.txt</a>, 422,    second book of Essays, \" An Apology of Raymond Sebonde,\"   he gives free rein to the inclination to humanize them.                                                                                                                                                                                                                                                                                                                                                                                                                                                                                                                                                                                  </td><td>0.91026   </td><td>arg2</td></tr><tr><td><a href=\"http://hdl.handle.net/2027/njp.32101063553950?urlappend=%3Bseq=286\" target=\"_blank\">00000284.txt</a>, 3512, We must admit that it   is not easy to prove the possession by any animal of memory   in the sense of having ideas of absent objects, rather than in the   sense of behaving differently to present objects because of past   experience with them.                                                                                                                                                                                                                                                                                                                                                                                                                                                  </td><td>0.91004   </td><td></td></tr><tr><td><a href=\"http://hdl.handle.net/2027/njp.32101063553950?urlappend=%3Bseq=53\" target=\"_blank\">00000051.txt</a>, 728, Yet it may   not be wholly a waste of time if we spend a few pages in the   attempt to discover wherein the simplest type, of mind, supposing it to be that belonging to the simplest type of animal,   necessarily differs from our own.                                                                                                                                                                                                                                                                                                                                                                                                                                                              </td><td>0.90860   </td><td></td></tr></table>"
       ],
       "metadata": {},
       "output_type": "pyout",
       "prompt_number": 8,
       "text": [
        "<IPython.core.display.HTML at 0x26e1450>"
       ]
      }
     ],
     "prompt_number": 8
    },
    {
     "cell_type": "code",
     "collapsed": false,
     "input": [
      "from IPython.display import HTML\n",
      "ea = extend_across(v1, v2, bv50, [497, 498, 499, 500, 501, 502, 503], 'table1col1.txt', 'table1col2.txt')\n",
      "h = HTML(ea); h"
     ],
     "language": "python",
     "metadata": {},
     "outputs": [
      {
       "output_type": "stream",
       "stream": "stdout",
       "text": [
        "BEAGLE composite model replaced designate by understanding\n",
        "BEAGLE composite model replaced reserve by variations"
       ]
      },
      {
       "output_type": "stream",
       "stream": "stdout",
       "text": [
        "\n",
        "Related topics: "
       ]
      },
      {
       "output_type": "stream",
       "stream": "stdout",
       "text": [
        " [4, 14, 5]\n"
       ]
      },
      {
       "html": [
        "<table style=\"margin: 0\"><tr><th style=\"text-align: center; background: #CEE3F6\" colspan                    =\"4\">Topics: 4, 14, 5</th></tr><tr><th style=\"text-align: center; background: #EFF2FB; \">Document                          </th><th style=\"text-align: center; background: #EFF2FB; \">Prob                          </th><th style=\"text-align: center; background: #EFF2FB;\">                Argument Map</th><th style=\"text-align: center; background:                 #EFF2FB;\">Novelty</th></tr><tr><td><a href=\"http://hdl.handle.net/2027/uc2.ark:/13960/t7gq6st77?urlappend=%3Bseq=37\" target=\"_blank\">00000037.txt</a>, 505, The term   \" intelligence \" which most writers use to designate merely   the power of learning by individual experience, Wasmann   would reserve for the power of deducing and understanding relations, and would assign only to human beings   (761, 762).                                                                                                                                                                                                                                                                                                                                                                                                                </td><td>0.99656   </td><td></td><td>12 (0.996)</td></tr><tr><td><a href=\"http://hdl.handle.net/2027/uc2.ark:/13960/t7gq6st77?urlappend=%3Bseq=19\" target=\"_blank\">00000019.txt</a>, 236, The science of human psychology   has to reckon with this unbridgeable gap between minds as   its chief difficulty.                                                                                                                                                                                                                                                                                                                                                                                                                                                                                                                                                        </td><td>0.92642   </td><td></td><td>234</td></tr><tr><td><a href=\"http://hdl.handle.net/2027/uc2.ark:/13960/t7gq6st77?urlappend=%3Bseq=53\" target=\"_blank\">00000053.txt</a>, 686, Inferring Mind from Structure     Both Yerkes and Lukas urge that the resemblance of an   animal's nervous system and sense organs to those of human   beings ought to be taken into consideration in deciding   whether the animal is conscious or not.                                                                                                                                                                                                                                                                                                                                                                                                                   </td><td>0.92402   </td><td></td><td>new</td></tr><tr><td><a href=\"http://hdl.handle.net/2027/uc2.ark:/13960/t7gq6st77?urlappend=%3Bseq=22\" target=\"_blank\">00000022.txt</a>, 268, From these general considerations we can understand   something of the special difficulties that beset the path of the   comparative psychologist, who desires to know the contents   of minds below the human level.                                                                                                                                                                                                                                                                                                                                                                                                                                                      </td><td>0.88106   </td><td></td><td>265</td></tr><tr><td><a href=\"http://hdl.handle.net/2027/uc2.ark:/13960/t7gq6st77?urlappend=%3Bseq=34\" target=\"_blank\">00000034.txt</a>, 472, Now these writers were not led to take such an attitude   merely out of general sympathy with the brute creation,   like Montaigne; they had an ulterior motive; namely,   to meet the objection raised in their time against the   doctrine of evolution, based on the supposed fact of a   great mental and moral gulf between man and the lower   animals.                                                                                                                                                                                                                                                                                                              </td><td>0.87014   </td><td></td><td>new</td></tr><tr><td><a href=\"http://hdl.handle.net/2027/uc2.ark:/13960/t7gq6st77?urlappend=%3Bseq=20\" target=\"_blank\">00000020.txt</a>, 242, observer is asked to study his own experience under certain   definite conditions, and to put it into words so that the experimenter may know what the contents of another mind are   like in the circumstances.                                                                                                                                                                                                                                                                                                                                                                                                                                                           </td><td>0.86558   </td><td></td><td>new</td></tr><tr><td><a href=\"http://hdl.handle.net/2027/uc2.ark:/13960/t7gq6st77?urlappend=%3Bseq=359\" target=\"_blank\">00000359.txt</a>, 5578, The play of animals.                                                                                                                                                                                                                                                                                                                                                                                                                                                                                                                                                                                                                                                     </td><td>0.82018   </td><td></td><td>586 (0.820)</td></tr><tr><td><a href=\"http://hdl.handle.net/2027/uc2.ark:/13960/t7gq6st77?urlappend=%3Bseq=39\" target=\"_blank\">00000039.txt</a>, 526, When this is lacking, there is not   the slightest scientific justification for assuming psychic   qualities.                                                                                                                                                                                                                                                                                                                                                                                                                                                                                                                                                              </td><td>0.81844   </td><td></td><td>new</td></tr><tr><td><a href=\"http://hdl.handle.net/2027/uc2.ark:/13960/t7gq6st77?urlappend=%3Bseq=54\" target=\"_blank\">00000054.txt</a>, 712, The terms \" discrimination,\" \" docility,\" and \"initiative\"   in this connection are borrowed from Royce's \" Outlines of   Psychology' 7 (649).                                                                                                                                                                                                                                                                                                                                                                                                                                                                                                                             </td><td>0.81844   </td><td></td><td>268 (0.818)</td></tr><tr><td><a href=\"http://hdl.handle.net/2027/uc2.ark:/13960/t7gq6st77?urlappend=%3Bseq=38\" target=\"_blank\">00000038.txt</a>, 520, In a footnote to a later   article he says : \"Psychic qualities cannot be demonstrated.                                                                                                                                                                                                                                                                                                                                                                                                                                                                                                                                                                                    </td><td>0.81781   </td><td>arg9</td><td>518</td></tr></table>"
       ],
       "metadata": {},
       "output_type": "pyout",
       "prompt_number": 9,
       "text": [
        "<IPython.core.display.HTML at 0x26e1650>"
       ]
      }
     ],
     "prompt_number": 9
    },
    {
     "cell_type": "code",
     "collapsed": false,
     "input": [
      "from IPython.display import HTML\n",
      "ea = extend_across(v1, v3, bv50, [497, 498, 499, 500, 501, 502, 503], 'table1col1.txt', 'table1col3.txt')\n",
      "h = HTML(ea); h"
     ],
     "language": "python",
     "metadata": {},
     "outputs": [
      {
       "output_type": "stream",
       "stream": "stdout",
       "text": [
        "BEAGLE composite model replaced designate by understanding\n",
        "BEAGLE composite model replaced reserve by variations"
       ]
      },
      {
       "output_type": "stream",
       "stream": "stdout",
       "text": [
        "\n",
        "Related topics: "
       ]
      },
      {
       "output_type": "stream",
       "stream": "stdout",
       "text": [
        " [13, 11, 16]\n"
       ]
      },
      {
       "html": [
        "<table style=\"margin: 0\"><tr><th style=\"text-align: center; background: #CEE3F6\" colspan                    =\"4\">Topics: 13, 11, 16</th></tr><tr><th style=\"text-align: center; background: #EFF2FB; \">Document                          </th><th style=\"text-align: center; background: #EFF2FB; \">Prob                          </th><th style=\"text-align: center; background: #EFF2FB;\">                Argument Map</th><th style=\"text-align: center; background:                 #EFF2FB;\">Novelty</th></tr><tr><td><a href=\"http://hdl.handle.net/2027/mdp.39015011339705?urlappend=%3Bseq=69\" target=\"_blank\">00000069.txt</a>, 888, Another consequence of that simplicity of structure which results both from the rudimentary powers of sensory discrimination and from the absence of memory ideas in the Amceba's mind is that there can be no distinction, within a given mental process, between that which is attended to and that which is not attended to, between the focus and the margin of consciousness.                                                                                                                                                                                                                                                                                   </td><td>0.87776   </td><td></td><td>12 (0.877)</td></tr><tr><td><a href=\"http://hdl.handle.net/2027/mdp.39015011339705?urlappend=%3Bseq=366\" target=\"_blank\">00000366.txt</a>, 4732, If it is true that instinct unmodified by experience is adapted to general rather than to special features of environment,1 it seems likely that the phenomena of attention as we 1 In this connection Franz's experimental demonstration that the frontal lobes, long regarded as the seat of the neural processes under-                                                                                                                                                                                                                                                                                                                                         </td><td>0.87103   </td><td></td><td>new</td></tr><tr><td><a href=\"http://hdl.handle.net/2027/mdp.39015011339705?urlappend=%3Bseq=73\" target=\"_blank\">00000073.txt</a>, 935, If an animal is capable only of a half dozen different ways of responding to stimulation, we may with comparative safety assume that it has less opportunity to hold them in reserve; and if such an animal invariably reacts in the same way to two different forms of stimulus, or if the variations in its response are not correlated with differences in the stimulation, it becomes probable that the two stimuli produce in its assumed consciousness identical sensation qualities.                                                                                                                                                                          </td><td>0.86026   </td><td></td><td>new</td></tr><tr><td><a href=\"http://hdl.handle.net/2027/mdp.39015011339705?urlappend=%3Bseq=29\" target=\"_blank\">00000029.txt</a>, 342, The maker of an anecdote is seldom content with merely telling one what the animal did and leaving future investigation and the comparative study of many facts to decide what the animal's conscious experience in doing it was like.                                                                                                                                                                                                                                                                                                                                                                                                                               </td><td>0.85082   </td><td></td><td>new</td></tr><tr><td><a href=\"http://hdl.handle.net/2027/mdp.39015011339705?urlappend=%3Bseq=41\" target=\"_blank\">00000041.txt</a>, 533, \" The main purpose of this paper was to suggest that all terms having a psychological implication, such as sight, smell, sense-organ, memory, learning, and the like, be carefully excluded from discussions of animal reactions to stimulation and animal behavior generally.                                                                                                                                                                                                                                                                                                                                                                                       </td><td>0.84344   </td><td></td><td>new</td></tr><tr><td><a href=\"http://hdl.handle.net/2027/mdp.39015011339705?urlappend=%3Bseq=411\" target=\"_blank\">00000411.txt</a>, 8445, The mechanistic conception of life.                                                                                                                                                                                                                                                                                                                                                                                                                                                                                                                                                                                                                                </td><td>0.82018   </td><td></td><td>new</td></tr><tr><td><a href=\"http://hdl.handle.net/2027/mdp.39015011339705?urlappend=%3Bseq=393\" target=\"_blank\">00000393.txt</a>, 6380, The habits and movements of the razor-shell clam.                                                                                                                                                                                                                                                                                                                                                                                                                                                                                                                                                                                                                  </td><td>0.82018   </td><td></td><td>new</td></tr><tr><td><a href=\"http://hdl.handle.net/2027/mdp.39015011339705?urlappend=%3Bseq=40\" target=\"_blank\">00000040.txt</a>, 514, A living being is forever distinguished from a lifeless creature by the presence of such entelechies.                                                                                                                                                                                                                                                                                                                                                                                                                                                                                                                                                                </td><td>0.81844   </td><td></td><td>new</td></tr><tr><td><a href=\"http://hdl.handle.net/2027/mdp.39015011339705?urlappend=%3Bseq=379\" target=\"_blank\">00000379.txt</a>, 4872, Some points regarding the behavior of Metridium.                                                                                                                                                                                                                                                                                                                                                                                                                                                                                                                                                                                                                   </td><td>0.81844   </td><td></td><td>new</td></tr><tr><td><a href=\"http://hdl.handle.net/2027/mdp.39015011339705?urlappend=%3Bseq=337\" target=\"_blank\">00000337.txt</a>, 4355, Much the same sort of phenomena are reported                                                                                                                                                                                                                                                                                                                                                                                                                                                                                                                                                                                                                       </td><td>0.81844   </td><td></td><td>new</td></tr></table>"
       ],
       "metadata": {},
       "output_type": "pyout",
       "prompt_number": 10,
       "text": [
        "<IPython.core.display.HTML at 0x26e1550>"
       ]
      }
     ],
     "prompt_number": 10
    },
    {
     "cell_type": "markdown",
     "metadata": {},
     "source": [
      "**<< Mapped Arguments 13 >>** </br>\n",
      "**Chapter 1 Difficulties and Methods of Comparative Psychology __6. Inferring Mind from Behavior** </br>\n",
      "'Learning by experience', Loeb"
     ]
    },
    {
     "cell_type": "code",
     "collapsed": false,
     "input": [
      "from IPython.display import HTML\n",
      "es = extend_sdd([627, 628,629, 631,632,633, 634], v1)\n",
      "h = HTML(es); h"
     ],
     "language": "python",
     "metadata": {},
     "outputs": [
      {
       "html": [
        "<table style=\"margin: 0\"><tr><th style=\"text-align: center; background: #CEE3F6\" colspan                    =\"3\">Documents: </th></tr><tr><th style=\"text-align: center; background: #EFF2FB; \">Document                          </th><th style=\"text-align: center; background: #EFF2FB; \">Value                          </th><th style=\"text-align: center; background: #EFF2FB;\">Argument                Map</th></tr><tr><td><a href=\"http://hdl.handle.net/2027/njp.32101063553950?urlappend=%3Bseq=257\" target=\"_blank\">00000255.txt</a>, 3172, Again, when an animal is assisted in learning by   watching a human being who undertakes to show him how,   is he given an idea of the act and its results, or does he merely   have his attention called to the important part of the mechanism to be worked?                                                                                                                                                                                                                                                                                                                                                                                                                                       </td><td>0.93311   </td><td></td></tr><tr><td><a href=\"http://hdl.handle.net/2027/njp.32101063553950?urlappend=%3Bseq=327\" target=\"_blank\">00000325.txt</a>, 5399, The nature and development of animal intelligence.                                                                                                                                                                                                                                                                                                                                                                                                                                                                                                                                                                                                                                                   </td><td>0.91221   </td><td></td></tr><tr><td><a href=\"http://hdl.handle.net/2027/njp.32101063553950?urlappend=%3Bseq=255\" target=\"_blank\">00000253.txt</a>, 3145, Inferential imitation would then not differ   fundamentally from any other case of learning by ideas.                                                                                                                                                                                                                                                                                                                                                                                                                                                                                                                                                                                                </td><td>0.91136   </td><td></td></tr><tr><td><a href=\"http://hdl.handle.net/2027/njp.32101063553950?urlappend=%3Bseq=39\" target=\"_blank\">00000037.txt</a>, 549, If so,^we must also admit that human psychology is   impossible.                                                                                                                                                                                                                                                                                                                                                                                                                                                                                                                                                                                                                                       </td><td>0.91070   </td><td></td></tr><tr><td><a href=\"http://hdl.handle.net/2027/njp.32101063553950?urlappend=%3Bseq=31\" target=\"_blank\">00000029.txt</a>, 450, Descartes does not assert that animals   are unconscious in the sense which that term would carry   to-day, but only that they are without thought.                                                                                                                                                                                                                                                                                                                                                                                                                                                                                                                                                    </td><td>0.91018   </td><td>arg3</td></tr><tr><td><a href=\"http://hdl.handle.net/2027/njp.32101063553950?urlappend=%3Bseq=53\" target=\"_blank\">00000051.txt</a>, 727, Undeniably the formation of a positive notion regarding   the character arid content of psychic states in the mind, say   of an Amoeba, is next door to an impossibility.                                                                                                                                                                                                                                                                                                                                                                                                                                                                                                                              </td><td>0.90991   </td><td></td></tr><tr><td><a href=\"http://hdl.handle.net/2027/njp.32101063553950?urlappend=%3Bseq=50\" target=\"_blank\">00000048.txt</a>, 681, The fact is   that while proof of the existence of mind can be derived from   animal learning by experience only if the learning is very   rapid, other evidence, equally valid on the principle of analogy, makes it highly improbable that all animals which learn   too slowly to evince the presence of ideas are therefore unconscious.                                                                                                                                                                                                                                                                                                                                                           </td><td>0.90946   </td><td>arg14</td></tr><tr><td><a href=\"http://hdl.handle.net/2027/njp.32101063553950?urlappend=%3Bseq=47\" target=\"_blank\">00000045.txt</a>, 638, \"Because a   lowly organized animal,\" he says, \"does not learn by its own   individual experience, we may not therefore conclude that in   performing its natural or ancestral adaptations to appropriate   stimuli, consciousness, or the mind element, is wholly absent ;   we can only say that this element, if present, reveals no evidence of the fact \" (364, p. 3).                                                                                                                                                                                                                                                                                                                            </td><td>0.90687   </td><td>arg14</td></tr><tr><td><a href=\"http://hdl.handle.net/2027/njp.32101063553950?urlappend=%3Bseq=53\" target=\"_blank\">00000051.txt</a>, 728, Yet it may   not be wholly a waste of time if we spend a few pages in the   attempt to discover wherein the simplest type, of mind, supposing it to be that belonging to the simplest type of animal,   necessarily differs from our own.                                                                                                                                                                                                                                                                                                                                                                                                                                                              </td><td>0.90619   </td><td></td></tr><tr><td><a href=\"http://hdl.handle.net/2027/njp.32101063553950?urlappend=%3Bseq=286\" target=\"_blank\">00000284.txt</a>, 3512, We must admit that it   is not easy to prove the possession by any animal of memory   in the sense of having ideas of absent objects, rather than in the   sense of behaving differently to present objects because of past   experience with them.                                                                                                                                                                                                                                                                                                                                                                                                                                                  </td><td>0.90578   </td><td></td></tr></table>"
       ],
       "metadata": {},
       "output_type": "pyout",
       "prompt_number": 11,
       "text": [
        "<IPython.core.display.HTML at 0x26e1410>"
       ]
      }
     ],
     "prompt_number": 11
    },
    {
     "cell_type": "code",
     "collapsed": false,
     "input": [
      "from IPython.display import HTML\n",
      "ea = extend_across(v1, v2, bv50, [627, 628,629, 631,632,633, 634], 'table1col1.txt', 'table1col2.txt')\n",
      "h = HTML(ea); h"
     ],
     "language": "python",
     "metadata": {},
     "outputs": [
      {
       "output_type": "stream",
       "stream": "stdout",
       "text": [
        "BEAGLE composite model replaced concepts by language\n",
        "BEAGLE composite model replaced adjustments by york"
       ]
      },
      {
       "output_type": "stream",
       "stream": "stdout",
       "text": [
        "\n",
        "BEAGLE composite model replaced declares by receptors"
       ]
      },
      {
       "output_type": "stream",
       "stream": "stdout",
       "text": [
        "\n",
        "Related topics: "
       ]
      },
      {
       "output_type": "stream",
       "stream": "stdout",
       "text": [
        " [4, 17, 14]\n"
       ]
      },
      {
       "html": [
        "<table style=\"margin: 0\"><tr><th style=\"text-align: center; background: #CEE3F6\" colspan                    =\"4\">Topics: 4, 17, 14</th></tr><tr><th style=\"text-align: center; background: #EFF2FB; \">Document                          </th><th style=\"text-align: center; background: #EFF2FB; \">Prob                          </th><th style=\"text-align: center; background: #EFF2FB;\">                Argument Map</th><th style=\"text-align: center; background:                 #EFF2FB;\">Novelty</th></tr><tr><td><a href=\"http://hdl.handle.net/2027/uc2.ark:/13960/t7gq6st77?urlappend=%3Bseq=46\" target=\"_blank\">00000046.txt</a>, 609, Thus the mere fact that an animal reacts to stimulation,   even selectively and for its own best interests, offers no evidence for the existence of mind that does not apply equally   well to particles of inanimate matter.                                                                                                                                                                                                                                                                                                                                                                                                                                              </td><td>0.95779   </td><td></td><td>392 (0.957)</td></tr><tr><td><a href=\"http://hdl.handle.net/2027/uc2.ark:/13960/t7gq6st77?urlappend=%3Bseq=45\" target=\"_blank\">00000045.txt</a>, 597, In the case of man,   we know that absence of visible response does not prove   that the stimulus has not been sensed ; while it is probable   that some effect upon motor channels always occurs when   consciousness accompanies stimulation, the effect may not^   be apparent to an outside observer.                                                                                                                                                                                                                                                                                                                                                                  </td><td>0.93150   </td><td></td><td>new</td></tr><tr><td><a href=\"http://hdl.handle.net/2027/uc2.ark:/13960/t7gq6st77?urlappend=%3Bseq=73\" target=\"_blank\">00000073.txt</a>, 912, For   one thing, it may be urged that in our own case the same   external reaction is often made to stimuli that are nevertheless consciously discriminated.                                                                                                                                                                                                                                                                                                                                                                                                                                                                                                               </td><td>0.91785   </td><td></td><td>new</td></tr><tr><td><a href=\"http://hdl.handle.net/2027/uc2.ark:/13960/t7gq6st77?urlappend=%3Bseq=54\" target=\"_blank\">00000054.txt</a>, 717, The truth of the whole matter seems   to be this : We can say neither what amount of resemblance in   structure to human beings, nor what speed of learning^ constitutes a definite mark distinguishing animals with minds from   those without minds } unless we are prepared to assert that   only animals which learn so fast that they must have memory   ideas possess mind at all.                                                                                                                                                                                                                                                                                   </td><td>0.87063   </td><td></td><td>new</td></tr><tr><td><a href=\"http://hdl.handle.net/2027/uc2.ark:/13960/t7gq6st77?urlappend=%3Bseq=48\" target=\"_blank\">00000048.txt</a>, 633, Loeb declared that \"the fundamental process which occurs in all psychic phenomena as   the elemental component\" is \"the activity of the associative memory, or of association,\" and defines associative memory as \"that mechanism by which a stimulus   brings about not only the effects which its nature and the   specific structure of the irritable organ call for, but by   which it brings about also the effects of other stimuli which   formerly acted upon the organism almost or quite simultaneously with the stimulus in question.                                                                                                                           </td><td>0.86442   </td><td></td><td>new</td></tr><tr><td><a href=\"http://hdl.handle.net/2027/uc2.ark:/13960/t7gq6st77?urlappend=%3Bseq=303\" target=\"_blank\">00000303.txt</a>, 3545, They have apparently become a part of a system   of internal, organic movements, so that when these internal   processes have continued for a length of time equal to that   which usually elapses between meals, they produce the   stomach contractions, in the absence of the original stimulus,   the food.                                                                                                                                                                                                                                                                                                                                                          </td><td>0.85626   </td><td></td><td>new</td></tr><tr><td><a href=\"http://hdl.handle.net/2027/uc2.ark:/13960/t7gq6st77?urlappend=%3Bseq=91\" target=\"_blank\">00000091.txt</a>, 1116, The cause of this difference in behavior seems to lie in the   processes that have been taking   place just previously.                                                                                                                                                                                                                                                                                                                                                                                                                                                                                                                                                   </td><td>0.83989   </td><td></td><td>1112</td></tr><tr><td><a href=\"http://hdl.handle.net/2027/uc2.ark:/13960/t7gq6st77?urlappend=%3Bseq=359\" target=\"_blank\">00000359.txt</a>, 5578, The play of animals.                                                                                                                                                                                                                                                                                                                                                                                                                                                                                                                                                                                                                                                     </td><td>0.82018   </td><td></td><td>586 (0.820)</td></tr><tr><td><a href=\"http://hdl.handle.net/2027/uc2.ark:/13960/t7gq6st77?urlappend=%3Bseq=39\" target=\"_blank\">00000039.txt</a>, 526, When this is lacking, there is not   the slightest scientific justification for assuming psychic   qualities.                                                                                                                                                                                                                                                                                                                                                                                                                                                                                                                                                              </td><td>0.81844   </td><td></td><td>new</td></tr><tr><td><a href=\"http://hdl.handle.net/2027/uc2.ark:/13960/t7gq6st77?urlappend=%3Bseq=94\" target=\"_blank\">00000094.txt</a>, 1159, Special   reactions to stimuli in motion are widespread throughout   the animal kingdom ; their significance will be discussed   in the chapter on Space Perception.                                                                                                                                                                                                                                                                                                                                                                                                                                                                                                      </td><td>0.81717   </td><td></td><td>1156</td></tr></table>"
       ],
       "metadata": {},
       "output_type": "pyout",
       "prompt_number": 12,
       "text": [
        "<IPython.core.display.HTML at 0x26e1710>"
       ]
      }
     ],
     "prompt_number": 12
    },
    {
     "cell_type": "code",
     "collapsed": false,
     "input": [
      "from IPython.display import HTML\n",
      "ea = extend_across(v1, v3, bv50, [627, 628,629, 631,632,633, 634], 'table1col1.txt', 'table1col3.txt')\n",
      "h = HTML(ea); h"
     ],
     "language": "python",
     "metadata": {},
     "outputs": [
      {
       "output_type": "stream",
       "stream": "stdout",
       "text": [
        "BEAGLE composite model replaced concepts by language\n",
        "BEAGLE composite model replaced adjustments by york"
       ]
      },
      {
       "output_type": "stream",
       "stream": "stdout",
       "text": [
        "\n",
        "BEAGLE composite model replaced declares by receptors"
       ]
      },
      {
       "output_type": "stream",
       "stream": "stdout",
       "text": [
        "\n",
        "Related topics: "
       ]
      },
      {
       "output_type": "stream",
       "stream": "stdout",
       "text": [
        " [13, 11, 0]\n"
       ]
      },
      {
       "html": [
        "<table style=\"margin: 0\"><tr><th style=\"text-align: center; background: #CEE3F6\" colspan                    =\"4\">Topics: 13, 11, 0</th></tr><tr><th style=\"text-align: center; background: #EFF2FB; \">Document                          </th><th style=\"text-align: center; background: #EFF2FB; \">Prob                          </th><th style=\"text-align: center; background: #EFF2FB;\">                Argument Map</th><th style=\"text-align: center; background:                 #EFF2FB;\">Novelty</th></tr><tr><td><a href=\"http://hdl.handle.net/2027/mdp.39015011339705?urlappend=%3Bseq=41\" target=\"_blank\">00000041.txt</a>, 534, In their stead the authors propose such expressions as the following: for responses to stimulation where no nervous system exists, the term antitypes; for those involving a nervous system, antikineses: the latter are divided into reflexes, where the response is uniform, and antiklises, where the response is modifiable.                                                                                                                                                                                                                                                                                                                                     </td><td>0.99612   </td><td></td><td>193 (0.996)</td></tr><tr><td><a href=\"http://hdl.handle.net/2027/mdp.39015011339705?urlappend=%3Bseq=275\" target=\"_blank\">00000275.txt</a>, 3575, In the lower animal forms, sensory adaptation offers the most natural explanation for the phenomenon; in the higher animals, lapse of attention is very likely also involved.                                                                                                                                                                                                                                                                                                                                                                                                                                                                                      </td><td>0.98478   </td><td></td><td>new</td></tr><tr><td><a href=\"http://hdl.handle.net/2027/mdp.39015011339705?urlappend=%3Bseq=373\" target=\"_blank\">00000373.txt</a>, 4802, Sensations of injury would be least subject to fluctuations in the physiological background, yet even they may vanish from the field when the drives of fighting or mating are dominant.                                                                                                                                                                                                                                                                                                                                                                                                                                                                           </td><td>0.93094   </td><td></td><td>new</td></tr><tr><td><a href=\"http://hdl.handle.net/2027/mdp.39015011339705?urlappend=%3Bseq=314\" target=\"_blank\">00000314.txt</a>, 4056, What concerns us here is merely that these cases of repetition by one animal of another animal's acts, since they occur while the latter is still acting, do not indicate the presence of memory ideas.                                                                                                                                                                                                                                                                                                                                                                                                                                                            </td><td>0.89804   </td><td></td><td>new</td></tr><tr><td><a href=\"http://hdl.handle.net/2027/mdp.39015011339705?urlappend=%3Bseq=308\" target=\"_blank\">00000308.txt</a>, 3988, The conscious accompaniment of the formation of successive movement systems is, in our own experience and probably in that of an animal, the diminishing of attention to outside stimuli, and the disappearance of such emotional states as uncertainty and the unpleasantness of errors; a feeling of confidence and security replacing them.                                                                                                                                                                                                                                                                                                                     </td><td>0.89244   </td><td></td><td>new</td></tr><tr><td><a href=\"http://hdl.handle.net/2027/mdp.39015011339705?urlappend=%3Bseq=368\" target=\"_blank\">00000368.txt</a>, 4749, On the other hand, the further characteristic of attention; namely, that it is a state of suspended reaction involving careful discrimination of stimuli, suggests that its functioning is connected rather with the refining and modifying influence of individual experience acting on instinct, since here alone do we find delayed reaction and accurate stimulus discrimination.                                                                                                                                                                                                                                                                              </td><td>0.87183   </td><td></td><td>3784</td></tr><tr><td><a href=\"http://hdl.handle.net/2027/mdp.39015011339705?urlappend=%3Bseq=67\" target=\"_blank\">00000067.txt</a>, 883, Since its sensitiveness to changes in its environment is less developed than that of a human being, and there are no trains of ideas to fill up possible intervals between the occurrences of outside stimulation, the Amceba's conscious experience may be rather a series of \"flashes\" than a steady stream.                                                                                                                                                                                                                                                                                                                                                       </td><td>0.85767   </td><td></td><td>new</td></tr><tr><td><a href=\"http://hdl.handle.net/2027/mdp.39015011339705?urlappend=%3Bseq=50\" target=\"_blank\">00000050.txt</a>, 631, Loeb declared that \"the fundamental process which occurs in all psychic phenomena as the elemental component\" is \"the activity of the associative memory, or of association,\" and defines associative memory as \"that mechanism by which a stimulus brings about not only the effects which its' nature and the specific structure of the irritable organ call for, but by which it brings about also the effects of other stimuli which formerly acted upon the organism almost or quite simultaneously with the stimulus in question.                                                                                                                              </td><td>0.83877   </td><td></td><td>new</td></tr><tr><td><a href=\"http://hdl.handle.net/2027/mdp.39015011339705?urlappend=%3Bseq=260\" target=\"_blank\">00000260.txt</a>, 3389, Thus one might argue that the analysis of one's environment into those larger fragments called things would precede the discrimination of those minuter elements called sensory qualities.                                                                                                                                                                                                                                                                                                                                                                                                                                                                         </td><td>0.82825   </td><td></td><td>new</td></tr><tr><td><a href=\"http://hdl.handle.net/2027/mdp.39015011339705?urlappend=%3Bseq=411\" target=\"_blank\">00000411.txt</a>, 8445, The mechanistic conception of life.                                                                                                                                                                                                                                                                                                                                                                                                                                                                                                                                                                                                                                </td><td>0.82018   </td><td></td><td>new</td></tr></table>"
       ],
       "metadata": {},
       "output_type": "pyout",
       "prompt_number": 13,
       "text": [
        "<IPython.core.display.HTML at 0x26e1490>"
       ]
      }
     ],
     "prompt_number": 13
    },
    {
     "cell_type": "markdown",
     "metadata": {},
     "source": [
      "**<< Mapped Arguments 14 >>** </br>\n",
      "**Chapter 1 Difficulties and Methods of Comparative Psychology __6. Inferring Mind from Behavior** </br>\n",
      "'Learning by experience', Washburn"
     ]
    },
    {
     "cell_type": "code",
     "collapsed": false,
     "input": [
      "from IPython.display import HTML\n",
      "es = extend_sdd([636,637,638,639,640,641,643,644,645,646,657,658,659,668,670,671,672,673,676,677,678,679,681,682], v1)\n",
      "h = HTML(es); h"
     ],
     "language": "python",
     "metadata": {},
     "outputs": [
      {
       "html": [
        "<table style=\"margin: 0\"><tr><th style=\"text-align: center; background: #CEE3F6\" colspan                    =\"3\">Documents: </th></tr><tr><th style=\"text-align: center; background: #EFF2FB; \">Document                          </th><th style=\"text-align: center; background: #EFF2FB; \">Value                          </th><th style=\"text-align: center; background: #EFF2FB;\">Argument                Map</th></tr><tr><td><a href=\"http://hdl.handle.net/2027/njp.32101063553950?urlappend=%3Bseq=222\" target=\"_blank\">00000220.txt</a>, 2726, Absence of Modification     In the first place there presents itself for consideration the   case of animals that meet a situation by repeating the same   reaction over and over again.                                                                                                                                                                                                                                                                                                                                                                                                                                                                                                             </td><td>0.99559   </td><td></td></tr><tr><td><a href=\"http://hdl.handle.net/2027/njp.32101063553950?urlappend=%3Bseq=60\" target=\"_blank\">00000058.txt</a>, 814, Not only has the Amceba     t three or four qualitatively different elements in its experience, but none of these qualities can be remembered or   revived in the absence of external stimulation.                                                                                                                                                                                                                                                                                                                                                                                                                                                                                                     </td><td>0.99557   </td><td></td></tr><tr><td><a href=\"http://hdl.handle.net/2027/njp.32101063553950?urlappend=%3Bseq=59\" target=\"_blank\">00000057.txt</a>, 804, Again, in the human mind pleasantness \"and unpleasantness are connected with various sensation qualities   or complexes; we are pleased or displeased usually \"at\"   something definite.                                                                                                                                                                                                                                                                                                                                                                                                                                                                                                               </td><td>0.99390   </td><td></td></tr><tr><td><a href=\"http://hdl.handle.net/2027/njp.32101063553950?urlappend=%3Bseq=39\" target=\"_blank\">00000037.txt</a>, 551, The actions of our fellow-men resemble   our own, and we therefore infer in them like subjective states   to ours : the actions of animals resemble ours less completely,   \"but the difference is one of degree, not of kind.                                                                                                                                                                                                                                                                                                                                                                                                                                                                         </td><td>0.99369   </td><td></td></tr><tr><td><a href=\"http://hdl.handle.net/2027/njp.32101063553950?urlappend=%3Bseq=74\" target=\"_blank\">00000072.txt</a>, 980, At the outset, we must remind ourselves that, in the absence of any satisfactory proof that the lower animal forms   have minds at all, and the equal absence of any proof that they   have not, all our conclusions about the number and kind of   their possible sensations must remain subject to the proviso   that they possess consciousness.                                                                                                                                                                                                                                                                                                                                                    </td><td>0.99264   </td><td></td></tr><tr><td><a href=\"http://hdl.handle.net/2027/njp.32101063553950?urlappend=%3Bseq=28\" target=\"_blank\">00000026.txt</a>, 397, It is also obvious that they are the more threatening,   the higher the animal with which one has to deal.                                                                                                                                                                                                                                                                                                                                                                                                                                                                                                                                                                                             </td><td>0.99171   </td><td></td></tr><tr><td><a href=\"http://hdl.handle.net/2027/njp.32101063553950?urlappend=%3Bseq=26\" target=\"_blank\">00000024.txt</a>, 370, If it is desired to study the process   by which an animal learns to adapt itself to a new situation,   one must, of course, make sure in addition that the situation   really is new to the animal, and yet that it makes sufficient   appeal to some instinctive tendency to supply a motive for   the learning process.                                                                                                                                                                                                                                                                                                                                                                             </td><td>0.99120   </td><td></td></tr><tr><td><a href=\"http://hdl.handle.net/2027/njp.32101063553950?urlappend=%3Bseq=245\" target=\"_blank\">00000243.txt</a>, 3029, \" Nor can we show that an animal was not guided   by some other stimuli, say visual ones, in learning the labyrinth, when we prove that having once learned it, the animal   is not disturbed by the removal of these stimuli.                                                                                                                                                                                                                                                                                                                                                                                                                                                                       </td><td>0.99087   </td><td></td></tr><tr><td><a href=\"http://hdl.handle.net/2027/njp.32101063553950?urlappend=%3Bseq=52\" target=\"_blank\">00000050.txt</a>, 717, The truth of the whole matter seems to   be this : We can say neither what amount of resemblance in   structure to human beings, nor what speed of learning, constitutes a definite mark distinguishing animals with minds from   those without minds, unless we are prepared to assert that only   animals which learn so fast that they must have memory ideas   possess mind at all.                                                                                                                                                                                                                                                                                                                </td><td>0.99036   </td><td>arg15</td></tr><tr><td><a href=\"http://hdl.handle.net/2027/njp.32101063553950?urlappend=%3Bseq=76\" target=\"_blank\">00000074.txt</a>, 1000, If it   always reacts in the same way to both, then both may be supposed to be accompanied by the same sensation quality.                                                                                                                                                                                                                                                                                                                                                                                                                                                                                                                                                                             </td><td>0.98474   </td><td></td></tr></table>"
       ],
       "metadata": {},
       "output_type": "pyout",
       "prompt_number": 15,
       "text": [
        "<IPython.core.display.HTML at 0x26e1c10>"
       ]
      }
     ],
     "prompt_number": 15
    },
    {
     "cell_type": "code",
     "collapsed": false,
     "input": [
      "from IPython.display import HTML\n",
      "ea = extend_across(v1, v2, bv50, [636,637,638,639,640,641,643,644,645,646,657,658,659,668,670,\n",
      "                                  671,672,673,676,677,678,679,681,682], 'table1col1.txt', 'table1col2.txt')\n",
      "h = HTML(ea); h"
     ],
     "language": "python",
     "metadata": {},
     "outputs": [
      {
       "output_type": "stream",
       "stream": "stdout",
       "text": [
        "BEAGLE composite model replaced tissues by dry\n",
        "BEAGLE composite model replaced recalled by rapid"
       ]
      },
      {
       "output_type": "stream",
       "stream": "stdout",
       "text": [
        "\n",
        "Related topics: "
       ]
      },
      {
       "output_type": "stream",
       "stream": "stdout",
       "text": [
        " [4, 14, 17]\n"
       ]
      },
      {
       "html": [
        "<table style=\"margin: 0\"><tr><th style=\"text-align: center; background: #CEE3F6\" colspan                    =\"4\">Topics: 4, 14, 17</th></tr><tr><th style=\"text-align: center; background: #EFF2FB; \">Document                          </th><th style=\"text-align: center; background: #EFF2FB; \">Prob                          </th><th style=\"text-align: center; background: #EFF2FB;\">                Argument Map</th><th style=\"text-align: center; background:                 #EFF2FB;\">Novelty</th></tr><tr><td><a href=\"http://hdl.handle.net/2027/uc2.ark:/13960/t7gq6st77?urlappend=%3Bseq=46\" target=\"_blank\">00000046.txt</a>, 609, Thus the mere fact that an animal reacts to stimulation,   even selectively and for its own best interests, offers no evidence for the existence of mind that does not apply equally   well to particles of inanimate matter.                                                                                                                                                                                                                                                                                                                                                                                                                                              </td><td>0.95779   </td><td></td><td>392 (0.957)</td></tr><tr><td><a href=\"http://hdl.handle.net/2027/uc2.ark:/13960/t7gq6st77?urlappend=%3Bseq=45\" target=\"_blank\">00000045.txt</a>, 597, In the case of man,   we know that absence of visible response does not prove   that the stimulus has not been sensed ; while it is probable   that some effect upon motor channels always occurs when   consciousness accompanies stimulation, the effect may not^   be apparent to an outside observer.                                                                                                                                                                                                                                                                                                                                                                  </td><td>0.93150   </td><td></td><td>new</td></tr><tr><td><a href=\"http://hdl.handle.net/2027/uc2.ark:/13960/t7gq6st77?urlappend=%3Bseq=73\" target=\"_blank\">00000073.txt</a>, 912, For   one thing, it may be urged that in our own case the same   external reaction is often made to stimuli that are nevertheless consciously discriminated.                                                                                                                                                                                                                                                                                                                                                                                                                                                                                                               </td><td>0.91785   </td><td></td><td>new</td></tr><tr><td><a href=\"http://hdl.handle.net/2027/uc2.ark:/13960/t7gq6st77?urlappend=%3Bseq=54\" target=\"_blank\">00000054.txt</a>, 717, The truth of the whole matter seems   to be this : We can say neither what amount of resemblance in   structure to human beings, nor what speed of learning^ constitutes a definite mark distinguishing animals with minds from   those without minds } unless we are prepared to assert that   only animals which learn so fast that they must have memory   ideas possess mind at all.                                                                                                                                                                                                                                                                                   </td><td>0.87063   </td><td></td><td>new</td></tr><tr><td><a href=\"http://hdl.handle.net/2027/uc2.ark:/13960/t7gq6st77?urlappend=%3Bseq=48\" target=\"_blank\">00000048.txt</a>, 633, Loeb declared that \"the fundamental process which occurs in all psychic phenomena as   the elemental component\" is \"the activity of the associative memory, or of association,\" and defines associative memory as \"that mechanism by which a stimulus   brings about not only the effects which its nature and the   specific structure of the irritable organ call for, but by   which it brings about also the effects of other stimuli which   formerly acted upon the organism almost or quite simultaneously with the stimulus in question.                                                                                                                           </td><td>0.86442   </td><td></td><td>new</td></tr><tr><td><a href=\"http://hdl.handle.net/2027/uc2.ark:/13960/t7gq6st77?urlappend=%3Bseq=303\" target=\"_blank\">00000303.txt</a>, 3545, They have apparently become a part of a system   of internal, organic movements, so that when these internal   processes have continued for a length of time equal to that   which usually elapses between meals, they produce the   stomach contractions, in the absence of the original stimulus,   the food.                                                                                                                                                                                                                                                                                                                                                          </td><td>0.85626   </td><td></td><td>new</td></tr><tr><td><a href=\"http://hdl.handle.net/2027/uc2.ark:/13960/t7gq6st77?urlappend=%3Bseq=91\" target=\"_blank\">00000091.txt</a>, 1116, The cause of this difference in behavior seems to lie in the   processes that have been taking   place just previously.                                                                                                                                                                                                                                                                                                                                                                                                                                                                                                                                                   </td><td>0.83989   </td><td></td><td>1112</td></tr><tr><td><a href=\"http://hdl.handle.net/2027/uc2.ark:/13960/t7gq6st77?urlappend=%3Bseq=359\" target=\"_blank\">00000359.txt</a>, 5578, The play of animals.                                                                                                                                                                                                                                                                                                                                                                                                                                                                                                                                                                                                                                                     </td><td>0.82018   </td><td></td><td>586 (0.820)</td></tr><tr><td><a href=\"http://hdl.handle.net/2027/uc2.ark:/13960/t7gq6st77?urlappend=%3Bseq=39\" target=\"_blank\">00000039.txt</a>, 526, When this is lacking, there is not   the slightest scientific justification for assuming psychic   qualities.                                                                                                                                                                                                                                                                                                                                                                                                                                                                                                                                                              </td><td>0.81844   </td><td></td><td>new</td></tr><tr><td><a href=\"http://hdl.handle.net/2027/uc2.ark:/13960/t7gq6st77?urlappend=%3Bseq=94\" target=\"_blank\">00000094.txt</a>, 1159, Special   reactions to stimuli in motion are widespread throughout   the animal kingdom ; their significance will be discussed   in the chapter on Space Perception.                                                                                                                                                                                                                                                                                                                                                                                                                                                                                                      </td><td>0.81717   </td><td></td><td>1156</td></tr></table>"
       ],
       "metadata": {},
       "output_type": "pyout",
       "prompt_number": 16,
       "text": [
        "<IPython.core.display.HTML at 0x26e1dd0>"
       ]
      }
     ],
     "prompt_number": 16
    },
    {
     "cell_type": "code",
     "collapsed": false,
     "input": [
      "from IPython.display import HTML\n",
      "ea = extend_across(v1, v3, bv50, [636,637,638,639,640,641,643,644,645,646,657,658,659,668,670,\n",
      "                                  671,672,673,676,677,678,679,681,682], 'table1col1.txt', 'table1col3.txt')\n",
      "h = HTML(ea); h"
     ],
     "language": "python",
     "metadata": {},
     "outputs": [
      {
       "output_type": "stream",
       "stream": "stdout",
       "text": [
        "BEAGLE composite model replaced tissues by dry\n",
        "Related topics: "
       ]
      },
      {
       "output_type": "stream",
       "stream": "stdout",
       "text": [
        " [13, 11, 0]\n"
       ]
      },
      {
       "html": [
        "<table style=\"margin: 0\"><tr><th style=\"text-align: center; background: #CEE3F6\" colspan                    =\"4\">Topics: 13, 11, 0</th></tr><tr><th style=\"text-align: center; background: #EFF2FB; \">Document                          </th><th style=\"text-align: center; background: #EFF2FB; \">Prob                          </th><th style=\"text-align: center; background: #EFF2FB;\">                Argument Map</th><th style=\"text-align: center; background:                 #EFF2FB;\">Novelty</th></tr><tr><td><a href=\"http://hdl.handle.net/2027/mdp.39015011339705?urlappend=%3Bseq=41\" target=\"_blank\">00000041.txt</a>, 534, In their stead the authors propose such expressions as the following: for responses to stimulation where no nervous system exists, the term antitypes; for those involving a nervous system, antikineses: the latter are divided into reflexes, where the response is uniform, and antiklises, where the response is modifiable.                                                                                                                                                                                                                                                                                                                                     </td><td>0.99612   </td><td></td><td>193 (0.996)</td></tr><tr><td><a href=\"http://hdl.handle.net/2027/mdp.39015011339705?urlappend=%3Bseq=275\" target=\"_blank\">00000275.txt</a>, 3575, In the lower animal forms, sensory adaptation offers the most natural explanation for the phenomenon; in the higher animals, lapse of attention is very likely also involved.                                                                                                                                                                                                                                                                                                                                                                                                                                                                                      </td><td>0.98478   </td><td></td><td>new</td></tr><tr><td><a href=\"http://hdl.handle.net/2027/mdp.39015011339705?urlappend=%3Bseq=373\" target=\"_blank\">00000373.txt</a>, 4802, Sensations of injury would be least subject to fluctuations in the physiological background, yet even they may vanish from the field when the drives of fighting or mating are dominant.                                                                                                                                                                                                                                                                                                                                                                                                                                                                           </td><td>0.93094   </td><td></td><td>new</td></tr><tr><td><a href=\"http://hdl.handle.net/2027/mdp.39015011339705?urlappend=%3Bseq=314\" target=\"_blank\">00000314.txt</a>, 4056, What concerns us here is merely that these cases of repetition by one animal of another animal's acts, since they occur while the latter is still acting, do not indicate the presence of memory ideas.                                                                                                                                                                                                                                                                                                                                                                                                                                                            </td><td>0.89804   </td><td></td><td>new</td></tr><tr><td><a href=\"http://hdl.handle.net/2027/mdp.39015011339705?urlappend=%3Bseq=308\" target=\"_blank\">00000308.txt</a>, 3988, The conscious accompaniment of the formation of successive movement systems is, in our own experience and probably in that of an animal, the diminishing of attention to outside stimuli, and the disappearance of such emotional states as uncertainty and the unpleasantness of errors; a feeling of confidence and security replacing them.                                                                                                                                                                                                                                                                                                                     </td><td>0.89244   </td><td></td><td>new</td></tr><tr><td><a href=\"http://hdl.handle.net/2027/mdp.39015011339705?urlappend=%3Bseq=368\" target=\"_blank\">00000368.txt</a>, 4749, On the other hand, the further characteristic of attention; namely, that it is a state of suspended reaction involving careful discrimination of stimuli, suggests that its functioning is connected rather with the refining and modifying influence of individual experience acting on instinct, since here alone do we find delayed reaction and accurate stimulus discrimination.                                                                                                                                                                                                                                                                              </td><td>0.87183   </td><td></td><td>3784</td></tr><tr><td><a href=\"http://hdl.handle.net/2027/mdp.39015011339705?urlappend=%3Bseq=67\" target=\"_blank\">00000067.txt</a>, 883, Since its sensitiveness to changes in its environment is less developed than that of a human being, and there are no trains of ideas to fill up possible intervals between the occurrences of outside stimulation, the Amceba's conscious experience may be rather a series of \"flashes\" than a steady stream.                                                                                                                                                                                                                                                                                                                                                       </td><td>0.85767   </td><td></td><td>new</td></tr><tr><td><a href=\"http://hdl.handle.net/2027/mdp.39015011339705?urlappend=%3Bseq=50\" target=\"_blank\">00000050.txt</a>, 631, Loeb declared that \"the fundamental process which occurs in all psychic phenomena as the elemental component\" is \"the activity of the associative memory, or of association,\" and defines associative memory as \"that mechanism by which a stimulus brings about not only the effects which its' nature and the specific structure of the irritable organ call for, but by which it brings about also the effects of other stimuli which formerly acted upon the organism almost or quite simultaneously with the stimulus in question.                                                                                                                              </td><td>0.83877   </td><td></td><td>new</td></tr><tr><td><a href=\"http://hdl.handle.net/2027/mdp.39015011339705?urlappend=%3Bseq=260\" target=\"_blank\">00000260.txt</a>, 3389, Thus one might argue that the analysis of one's environment into those larger fragments called things would precede the discrimination of those minuter elements called sensory qualities.                                                                                                                                                                                                                                                                                                                                                                                                                                                                         </td><td>0.82825   </td><td></td><td>new</td></tr><tr><td><a href=\"http://hdl.handle.net/2027/mdp.39015011339705?urlappend=%3Bseq=411\" target=\"_blank\">00000411.txt</a>, 8445, The mechanistic conception of life.                                                                                                                                                                                                                                                                                                                                                                                                                                                                                                                                                                                                                                </td><td>0.82018   </td><td></td><td>new</td></tr></table>"
       ],
       "metadata": {},
       "output_type": "pyout",
       "prompt_number": 17,
       "text": [
        "<IPython.core.display.HTML at 0x26e1d50>"
       ]
      }
     ],
     "prompt_number": 17
    }
   ],
   "metadata": {}
  }
 ]
}