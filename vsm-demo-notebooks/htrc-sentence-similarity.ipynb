{
 "metadata": {
  "name": "htrc-sentence-similarity"
 },
 "nbformat": 3,
 "nbformat_minor": 0,
 "worksheets": [
  {
   "cells": [
    {
     "cell_type": "code",
     "collapsed": false,
     "input": [
      "from vsm.corpus import Corpus\n",
      "from vsm.model.ldagibbs import LDAGibbs as LDA\n",
      "from vsm.viewer.ldagibbsviewer import LDAGibbsViewer as LDAViewer\n",
      "\n",
      "# The Animal Mind\n",
      "corpus = 't5w66bs1h_the_animal_mind.npz'\n",
      "\n",
      "c = Corpus.load(corpus)\n",
      "# options for K = {40, 60, 80, 100}\n",
      "m = LDA.load('htrc-t5w66bs1h-LDA-K40-1200.npz')\n",
      "m1 = LDA.load('htrc-t5w66bs1h-LDA-K60-1200.npz')\n",
      "m2 = LDA.load('htrc-t5w66bs1h-LDA-K80-1200.npz')\n",
      "m3 = LDA.load('htrc-t5w66bs1h-LDA-K100-1200.npz')\n",
      "v = LDAViewer(c, m)\n",
      "v1 = LDAViewer(c, m1)\n",
      "v2 = LDAViewer(c, m2)\n",
      "v3 = LDAViewer(c, m3)"
     ],
     "language": "python",
     "metadata": {},
     "outputs": [
      {
       "output_type": "stream",
       "stream": "stdout",
       "text": [
        "Loading corpus from /home/doori/htrc/t5w66bs1h_the_animal_mind/t5w66bs1h_the_animal_mind.npz\n",
        "Loading LDA-Gibbs data from /home/doori/htrc/htrc-LDA-K40-1200.npz\n",
        "Loading LDA-Gibbs data from"
       ]
      },
      {
       "output_type": "stream",
       "stream": "stdout",
       "text": [
        " /home/doori/htrc/htrc-LDA-K60-1200.npz\n",
        "Loading LDA-Gibbs data from"
       ]
      },
      {
       "output_type": "stream",
       "stream": "stdout",
       "text": [
        " /home/doori/htrc/htrc-LDA-K80-1200.npz\n",
        "Loading LDA-Gibbs data from"
       ]
      },
      {
       "output_type": "stream",
       "stream": "stdout",
       "text": [
        " /home/doori/htrc/htrc-LDA-K100-1200.npz\n"
       ]
      }
     ],
     "prompt_number": 8
    },
    {
     "cell_type": "code",
     "collapsed": false,
     "input": [
      "v.topics()"
     ],
     "language": "python",
     "metadata": {},
     "outputs": [
      {
       "html": [
        "<table style=\"margin: 0\"><tr><th style=\"text-align: center; background: #CEE3F6\" colspan\t\t\t=\"11\">Topics Sorted by Index</th></tr><tr><th style=\"text-align: center; background: #EFF2FB;\" \t\t\t\t\t>Topic</th><th style=\"text-align: center; background: #EFF2FB;\" \t\t\t\t\t>Words</th></tr><tr><td style=\"padding-left:0.75em;\">0</td><td> p, bd, ibid, 17, 10, 1, arch, 15, f, 16                           </td></tr><tr><td style=\"padding-left:0.75em;\">1</td><td> found, animals, organs, statocysts, bodies, true, 27, hand, body, disturbance                  </td></tr><tr><td style=\"padding-left:0.75em;\">2</td><td> red, blue, white, food, placed, series, side, green, black, though                       </td></tr><tr><td style=\"padding-left:0.75em;\">3</td><td> animal, body, end, reaction, side, head, toward, one, water, stimulus                     </td></tr><tr><td style=\"padding-left:0.75em;\">4</td><td> f, j, e, h, w, l, g, c, m, r                            </td></tr><tr><td style=\"padding-left:0.75em;\">5</td><td> sense, smell, evidence, chemical, animal, may, distance, reactions, taste, animals                      </td></tr><tr><td style=\"padding-left:0.75em;\">6</td><td> one, would, two, days, times, first, right, made, second, minutes                      </td></tr><tr><td style=\"padding-left:0.75em;\">7</td><td> end, one, time, new, box, could, york, away, number, glass                        </td></tr><tr><td style=\"padding-left:0.75em;\">8</td><td> behavior, animal, method, facts, p, methods, morgan, error, one, romanes                      </td></tr><tr><td style=\"padding-left:0.75em;\">9</td><td> vol, p, psych, 2, ibid, physiol, bull, 3, paris, biol                         </td></tr><tr><td style=\"padding-left:0.75em;\">10</td><td> fish, found, cases, spider, fork, spot, web, fly, noted, sound                        </td></tr><tr><td style=\"padding-left:0.75em;\">11</td><td> der, die, und, ueber, u, d, des, iiber, zur, w                            </td></tr><tr><td style=\"padding-left:0.75em;\">12</td><td> f, ff, sense, chemical, vision, hearing, learning, reactions, mollusks, echinoderms                  </td></tr><tr><td style=\"padding-left:0.75em;\">13</td><td> movements, experiments, learning, method, movement, thorndike, imitation, dogs, labyrinth, useless                      </td></tr><tr><td style=\"padding-left:0.75em;\">14</td><td> movements, toward, position, would, like, move, point, right, make, object                       </td></tr><tr><td style=\"padding-left:0.75em;\">15</td><td> les, la, de, sur, des, et, etc, chez, recherches, du                           </td></tr><tr><td style=\"padding-left:0.75em;\">16</td><td> reactions, light, stimulation, animals, behavior, stimuli, many, effect, evidence, little                       </td></tr><tr><td style=\"padding-left:0.75em;\">17</td><td> biol, two, body, worms, observed, ordinary, light, place, various, taken                        </td></tr><tr><td style=\"padding-left:0.75em;\">18</td><td> sensation, different, may, animal, sensations, consciousness, quality, conscious, experience, qualities                    </td></tr><tr><td style=\"padding-left:0.75em;\">19</td><td> mind, animals, animal, behavior, mental, life, certain, human, forms, psychic                      </td></tr><tr><td style=\"padding-left:0.75em;\">20</td><td> box, one, get, food, go, would, way, put, second, cat                          </td></tr><tr><td style=\"padding-left:0.75em;\">21</td><td> gravity, orientation, position, animal, body, light, current, force, insects, reactions                    </td></tr><tr><td style=\"padding-left:0.75em;\">22</td><td> psychology, comparative, experimental, study, animal, animals, evidence, upon, ways, mind                         </td></tr><tr><td style=\"padding-left:0.75em;\">23</td><td> perception, stimuli, stimulus, space, reaction, different, reactions, object, movement, image                        </td></tr><tr><td style=\"padding-left:0.75em;\">24</td><td> nest, ant, ants, one, paper, placed, wasp, following, path, follow                       </td></tr><tr><td style=\"padding-left:0.75em;\">25</td><td> reaction, stimulation, contact, stimulus, response, mechanical, negative, chemical, food, reactions                    </td></tr><tr><td style=\"padding-left:0.75em;\">26</td><td> ants, nest, species, smell, odor, made, ant, antennae, even, probably                     </td></tr><tr><td style=\"padding-left:0.75em;\">27</td><td> one, two, shown, cards, card, another, different, three, learned, distinguish                  </td></tr><tr><td style=\"padding-left:0.75em;\">28</td><td> light, negative, water, positive, phototropism, certain, geotropism, response, changes, observed                     </td></tr><tr><td style=\"padding-left:0.75em;\">29</td><td> jour, c, b, r, comp, neur, acad, inst, soc, 20                           </td></tr><tr><td style=\"padding-left:0.75em;\">30</td><td> animal, experience, animals, ideas, consciousness, mind, must, would, learning, evidence                     </td></tr><tr><td style=\"padding-left:0.75em;\">31</td><td> eye, organs, eyes, vision, function, light, hearing, may, pigment, equilibrium                  </td></tr><tr><td style=\"padding-left:0.75em;\">32</td><td> experience, animal, idea, memory, may, ideas, would, movement, one, image                        </td></tr><tr><td style=\"padding-left:0.75em;\">33</td><td> bees, hive, smell, find, visual, wasps, way, ants, flowers, bee                          </td></tr><tr><td style=\"padding-left:0.75em;\">34</td><td> labyrinth, rats, learned, yerkes, white, watson, rat, maze, used, learning                     </td></tr><tr><td style=\"padding-left:0.75em;\">35</td><td> stimulus, upon, stimuli, nervous, effect, one, reaction, stimulation, attention, animal                       </td></tr><tr><td style=\"padding-left:0.75em;\">36</td><td> light, intensity, rays, direction, effect, animals, negative, illumination, phototropic, region                       </td></tr><tr><td style=\"padding-left:0.75em;\">37</td><td> side, bell, toward, one, direction, food, fish, english, tentacles, mouth                        </td></tr><tr><td style=\"padding-left:0.75em;\">38</td><td> stimulus, food, reaction, paper, stimulation, may, animal, meat, tentacles, filter                       </td></tr><tr><td style=\"padding-left:0.75em;\">39</td><td> color, experiments, different, brightness, made, preference, colors, discrimination, method, green                        </td></tr></table>"
       ],
       "output_type": "pyout",
       "prompt_number": 5,
       "text": [
        "CompactTable([[('p', 0.16505157513242977), ('bd', 0.11710064120435409),\n",
        "        ('ibid', 0.059113465291332344), ...,\n",
        "        ('neur', 1.1151379983271194e-05), ('used', 1.1151379983271194e-05),\n",
        "        ('time', 1.1151379983271194e-05)],\n",
        "       [('found', 0.018938978829390437), ('animals', 0.016946450809465087),\n",
        "        ('organs', 0.016946450809465087), ...,\n",
        "        ('may', 9.9626400996247605e-06), ('many', 9.9626400996247605e-06),\n",
        "        ('light', 9.9626400996176827e-06)],\n",
        "       [('red', 0.054471579857360612), ('blue', 0.039775232331965747),\n",
        "        ('white', 0.039775232331965747), ...,\n",
        "        ('showed', 8.6449103090540839e-06),\n",
        "        ('crab', 8.6449103090540839e-06), ('h', 8.6449103090540839e-06)],\n",
        "       ..., \n",
        "       [('side', 0.035302707636143717), ('bell', 0.034085792515973302),\n",
        "        ('toward', 0.029218132035291649), ...,\n",
        "        ('reactions', 1.2169151201701723e-05),\n",
        "        ('reaction', 1.2169151201701723e-05),\n",
        "        ('two', 1.2169151201701723e-05)],\n",
        "       [('stimulus', 0.031137605563835817), ('food', 0.026501076337142548),\n",
        "        ('reaction', 0.026501076337142545), ...,\n",
        "        ('animals', 6.6236131809890723e-06),\n",
        "        ('positive', 6.6236131809890723e-06),\n",
        "        ('object', 6.6236131809890723e-06)],\n",
        "       [('color', 0.037832333151483009),\n",
        "        ('experiments', 0.023284233497000019),\n",
        "        ('different', 0.02182942353155172), ...,\n",
        "        ('psychology', 7.2740498272400463e-06),\n",
        "        ('nervous', 7.2740498272400463e-06),\n",
        "        ('might', 7.2740498272400463e-06)]], \n",
        "      dtype=[('word', '|S27'), ('value', '<f8')])"
       ]
      }
     ],
     "prompt_number": 5
    },
    {
     "cell_type": "code",
     "collapsed": false,
     "input": [
      "v1.topics()"
     ],
     "language": "python",
     "metadata": {},
     "outputs": [
      {
       "html": [
        "<table style=\"margin: 0\"><tr><th style=\"text-align: center; background: #CEE3F6\" colspan\t\t\t=\"11\">Topics Sorted by Index</th></tr><tr><th style=\"text-align: center; background: #EFF2FB;\" \t\t\t\t\t>Topic</th><th style=\"text-align: center; background: #EFF2FB;\" \t\t\t\t\t>Words</th></tr><tr><td style=\"padding-left:0.75em;\">0</td><td> one, different, two, color, monkeys, distinguish, discriminate, brightness, cards, used                         </td></tr><tr><td style=\"padding-left:0.75em;\">1</td><td> come, animals, fish, disturbed, found, position, rest, fly, apparently, distance                     </td></tr><tr><td style=\"padding-left:0.75em;\">2</td><td> les, la, de, sur, des, et, etc, chez, ii, du                           </td></tr><tr><td style=\"padding-left:0.75em;\">3</td><td> nervous, stimulus, effect, system, animal, upon, energy, may, without, due                          </td></tr><tr><td style=\"padding-left:0.75em;\">4</td><td> light, right, position, certain, could, movements, made, away, upon, animals                      </td></tr><tr><td style=\"padding-left:0.75em;\">5</td><td> light, intensity, direction, effect, illumination, rays, orientation, movements, region, fact                         </td></tr><tr><td style=\"padding-left:0.75em;\">6</td><td> light, positive, negative, rays, red, phototropic, ultra-violet, phototropism, water, animals                      </td></tr><tr><td style=\"padding-left:0.75em;\">7</td><td> gravity, orientation, water, pressure, current, force, geotropism, part, light, response                     </td></tr><tr><td style=\"padding-left:0.75em;\">8</td><td> experience, must, sensations, different, us, variety, consciousness, number, mind, first                        </td></tr><tr><td style=\"padding-left:0.75em;\">9</td><td> form, two, ways, various, visual, found, methods, upon, different, well                         </td></tr><tr><td style=\"padding-left:0.75em;\">10</td><td> paper, food, tentacles, meat, filter, tentacle, mouth, nagel, fish, sea                          </td></tr><tr><td style=\"padding-left:0.75em;\">11</td><td> psychology, animal, comparative, methods, mental, method, facts, life, animals, mind                         </td></tr><tr><td style=\"padding-left:0.75em;\">12</td><td> c, b, r, comp, acad, soc, london, d, amoeba, 24                           </td></tr><tr><td style=\"padding-left:0.75em;\">13</td><td> movement, attention, two, human, thus, one, sensations, object, idea, movements                    </td></tr><tr><td style=\"padding-left:0.75em;\">14</td><td> stimuli, upon, reaction, important, one, attention, image, organism, cases, significance                 </td></tr><tr><td style=\"padding-left:0.75em;\">15</td><td> perception, space, animal, may, stimuli, movement, form, visual, spatial, relations                    </td></tr><tr><td style=\"padding-left:0.75em;\">16</td><td> blue, red, white, food, glass, series, green, black, number, though                       </td></tr><tr><td style=\"padding-left:0.75em;\">17</td><td> method, experiments, color, results, made, similar, evidence, obtained, another, error                        </td></tr><tr><td style=\"padding-left:0.75em;\">18</td><td> would, thought, says, forel, take, wasmann, might, thinks, account, first                        </td></tr><tr><td style=\"padding-left:0.75em;\">19</td><td> reaction, contact, stimulation, stimulus, reactions, negative, behavior, food, condition, positive                     </td></tr><tr><td style=\"padding-left:0.75em;\">20</td><td> structure, evidence, consciousness, behavior, fact, animals, mind, may, difference, animal                       </td></tr><tr><td style=\"padding-left:0.75em;\">21</td><td> sense, chemical, ff, insects, hearing, vision, smell, crustacea, discrimination, sensory                      </td></tr><tr><td style=\"padding-left:0.75em;\">22</td><td> j, w, l, f, c, e, h, r, k, g                            </td></tr><tr><td style=\"padding-left:0.75em;\">23</td><td> labyrinth, rats, learned, white, yerkes, learning, frog, maze, rat, watson                       </td></tr><tr><td style=\"padding-left:0.75em;\">24</td><td> p, morgan, example, 1, imitation, distance, lloyd, sparrow, english, pp                           </td></tr><tr><td style=\"padding-left:0.75em;\">25</td><td> sound, sounds, spider, made, species, web, water, would, number, fork                         </td></tr><tr><td style=\"padding-left:0.75em;\">26</td><td> case, instinct, animal, one, action, would, certain, experience, learning, movements                    </td></tr><tr><td style=\"padding-left:0.75em;\">27</td><td> one, two, food, fish, animal, could, tank, ones, also, substances                   </td></tr><tr><td style=\"padding-left:0.75em;\">28</td><td> animal, one, may, another, found, body, kingdom, chemical, evidence, whole                        </td></tr><tr><td style=\"padding-left:0.75em;\">29</td><td> bees, hive, way, smell, guided, find, bethe, side, back, von                          </td></tr><tr><td style=\"padding-left:0.75em;\">30</td><td> reactions, stimuli, different, stimulus, reaction, certain, body, class, degrees, responses                    </td></tr><tr><td style=\"padding-left:0.75em;\">31</td><td> p, 3, biol, 2, 6, paris, 1, psych, 5, 7                            </td></tr><tr><td style=\"padding-left:0.75em;\">32</td><td> eyes, vision, eye, organs, found, function, equilibrium, fishes, auditory, canals                       </td></tr><tr><td style=\"padding-left:0.75em;\">33</td><td> wasp, nest, wasps, back, prey, little, solitary, least, upon, find                         </td></tr><tr><td style=\"padding-left:0.75em;\">34</td><td> reaction, stimulus, stimulation, negative, response, mechanical, chemical, given, reactions, positive                     </td></tr><tr><td style=\"padding-left:0.75em;\">35</td><td> would, position, might, body, seem, case, animal, contact, may, organism                     </td></tr><tr><td style=\"padding-left:0.75em;\">36</td><td> smell, insects, ants, bees, visual, make, rather, flowers, sense, sight                        </td></tr><tr><td style=\"padding-left:0.75em;\">37</td><td> skin, found, nerves, inst, starfish, cut, fibres, nerve, eye, sea                          </td></tr><tr><td style=\"padding-left:0.75em;\">38</td><td> ants, nest, ant, odor, smell, species, made, paper, one, follow                       </td></tr><tr><td style=\"padding-left:0.75em;\">39</td><td> light, negative, observed, phototaxis, reactions, larvae, geotropism, insect, eyes, orientation                  </td></tr><tr><td style=\"padding-left:0.75em;\">40</td><td> f, ff, learning, vision, hearing, wiss, geotropism, relation, reactions, effect                       </td></tr><tr><td style=\"padding-left:0.75em;\">41</td><td> sensation, may, consciousness, sensations, different, light, animal, possible, quality, human                        </td></tr><tr><td style=\"padding-left:0.75em;\">42</td><td> animal, one, reactions, stimulation, body, end, stimulus, sensitive, series, various                      </td></tr><tr><td style=\"padding-left:0.75em;\">43</td><td> toward, side, reaction, direction, animal, body, one, stimulus, head, end                          </td></tr><tr><td style=\"padding-left:0.75em;\">44</td><td> would, conditions, animal, stimulus, state, make, must, situation, long, away                         </td></tr><tr><td style=\"padding-left:0.75em;\">45</td><td> p, 17, ibid, 10, 16, 15, 4, 8, 12, 14                           </td></tr><tr><td style=\"padding-left:0.75em;\">46</td><td> animals, forms, shall, noted, chapter, reactions, seen, one, crustacea, many                         </td></tr><tr><td style=\"padding-left:0.75em;\">47</td><td> jour, f, m, neur, h, e, g, trans, r, b                            </td></tr><tr><td style=\"padding-left:0.75em;\">48</td><td> movements, learning, method, experience, process, habit, useless, may, labyrinth, ideas                        </td></tr><tr><td style=\"padding-left:0.75em;\">49</td><td> vol, bd, ibid, psych, physiol, bull, arch, zool, cent, zeit                         </td></tr><tr><td style=\"padding-left:0.75em;\">50</td><td> one, surface, water, new, body, end, york, suggested, mouth, food                         </td></tr><tr><td style=\"padding-left:0.75em;\">51</td><td> behavior, animals, reactions, may, made, animal, study, however, lower, upon                         </td></tr><tr><td style=\"padding-left:0.75em;\">52</td><td> behavior, animal, experience, psychic, interpretation, cases, habits, conscious, aspect, human                        </td></tr><tr><td style=\"padding-left:0.75em;\">53</td><td> der, die, und, ueber, u, des, iiber, zur, den, w                            </td></tr><tr><td style=\"padding-left:0.75em;\">54</td><td> two, time, days, one, second, first, times, would, right, several                      </td></tr><tr><td style=\"padding-left:0.75em;\">55</td><td> animal, mind, ideas, animals, human, experience, would, memory, behavior, learning                     </td></tr><tr><td style=\"padding-left:0.75em;\">56</td><td> experience, may, image, memory, idea, past, ideas, form, process, time                         </td></tr><tr><td style=\"padding-left:0.75em;\">57</td><td> box, cats, dogs, thorndike, one, put, door, cat, get, cage                         </td></tr><tr><td style=\"padding-left:0.75em;\">58</td><td> sense, organs, taste, organ, also, sensation, must, smell, life, nagel                        </td></tr><tr><td style=\"padding-left:0.75em;\">59</td><td> bell, mechanical, reactions, reaction, stimulation, gonionemus, produced, light, statocysts, jellyfish                    </td></tr></table>"
       ],
       "output_type": "pyout",
       "prompt_number": 6,
       "text": [
        "CompactTable([[('one', 0.034250957422843988), ('different', 0.032448749718405993),\n",
        "        ('two', 0.029745438161749013), ..., ('4', 9.0110385221881544e-06),\n",
        "        ('psych', 9.0110385221881544e-06), ('p', 9.0110385221817508e-06)],\n",
        "       [('come', 0.023465259454706271), ('animals', 0.021119906185870063),\n",
        "        ('fish', 0.016429199648197643), ...,\n",
        "        ('thus', 1.1726766344178714e-05),\n",
        "        ('water', 1.1726766344178714e-05), ('ants', 1.1726766344178714e-05)],\n",
        "       [('les', 0.10301234567901658), ('la', 0.083259259259262683),\n",
        "        ('de', 0.063506172839508782), ...,\n",
        "        ('would', 1.410934744267855e-05),\n",
        "        ('intensity', 1.410934744267855e-05),\n",
        "        ('one', 1.4109347442668525e-05)],\n",
        "       ..., \n",
        "       [('box', 0.04608139237266607), ('cats', 0.029700537496801661),\n",
        "        ('dogs', 0.025605323777835556), ...,\n",
        "        ('another', 1.0238034297413221e-05),\n",
        "        ('side', 1.0238034297413221e-05),\n",
        "        ('animals', 1.0238034297405947e-05)],\n",
        "       [('sense', 0.068459921945364224), ('organs', 0.037238066646654008),\n",
        "        ('taste', 0.030033023116182417), ...,\n",
        "        ('color', 1.2008405884116931e-05),\n",
        "        ('wholly', 1.2008405884116931e-05),\n",
        "        ('auditory', 1.2008405884116931e-05)],\n",
        "       [('bell', 0.033946386155413552),\n",
        "        ('mechanical', 0.027159823549373255),\n",
        "        ('reactions', 0.025802511028165196), ...,\n",
        "        ('evidence', 1.3573125212077887e-05),\n",
        "        ('p', 1.3573125212077887e-05), ('may', 1.3573125212077887e-05)]], \n",
        "      dtype=[('word', '|S27'), ('value', '<f8')])"
       ]
      }
     ],
     "prompt_number": 6
    },
    {
     "cell_type": "code",
     "collapsed": false,
     "input": [
      "v2.topics()"
     ],
     "language": "python",
     "metadata": {},
     "outputs": [
      {
       "html": [
        "<table style=\"margin: 0\"><tr><th style=\"text-align: center; background: #CEE3F6\" colspan\t\t\t=\"11\">Topics Sorted by Index</th></tr><tr><th style=\"text-align: center; background: #EFF2FB;\" \t\t\t\t\t>Topic</th><th style=\"text-align: center; background: #EFF2FB;\" \t\t\t\t\t>Words</th></tr><tr><td style=\"padding-left:0.75em;\">0</td><td> stimulus, reaction, negative, response, one, another, would, unpleasantness, repeated, stimuli                      </td></tr><tr><td style=\"padding-left:0.75em;\">1</td><td> methods, shall, method, chapter, later, discrimination, image, facts, visual, sensory                      </td></tr><tr><td style=\"padding-left:0.75em;\">2</td><td> sense, smell, insects, taste, food, reactions, chemical, hearing, organs, sight                        </td></tr><tr><td style=\"padding-left:0.75em;\">3</td><td> negative, light, positive, animals, rays, phototropic, intensity, water, positively, ultra-violet                 </td></tr><tr><td style=\"padding-left:0.75em;\">4</td><td> body, reaction, animal, stimulus, part, forward, side, head, contact, direction                    </td></tr><tr><td style=\"padding-left:0.75em;\">5</td><td> red, blue, white, green, light, food, one, placed, black, glass                        </td></tr><tr><td style=\"padding-left:0.75em;\">6</td><td> bd, ibid, arch, cent, new, york, zeit, pfliigers, zool, per                          </td></tr><tr><td style=\"padding-left:0.75em;\">7</td><td> spider, fork, found, web, others, response, certain, would, species, near                         </td></tr><tr><td style=\"padding-left:0.75em;\">8</td><td> experience, animal, action, process, learning, stimulus, object, act, one, merely                       </td></tr><tr><td style=\"padding-left:0.75em;\">9</td><td> color, method, experiments, brightness, used, preference, results, made, discrimination, colors                       </td></tr><tr><td style=\"padding-left:0.75em;\">10</td><td> j, g, m, l, h, e, w, f, r, c                            </td></tr><tr><td style=\"padding-left:0.75em;\">11</td><td> light, intensity, direction, effect, rays, region, illumination, end, orientation, away                         </td></tr><tr><td style=\"padding-left:0.75em;\">12</td><td> eye, vision, pigment, spot, eyes, lens, back, objects, fibres, retina                       </td></tr><tr><td style=\"padding-left:0.75em;\">13</td><td> worms, earthworm, marine, life, worm, observation, seems, movements, convoluta, tube                         </td></tr><tr><td style=\"padding-left:0.75em;\">14</td><td> eyes, see, insects, light, vision, hand, may, phototropism, plateau, opinion                      </td></tr><tr><td style=\"padding-left:0.75em;\">15</td><td> ants, nest, ant, odor, paper, smell, follow, larvae, bethe, road                         </td></tr><tr><td style=\"padding-left:0.75em;\">16</td><td> water, sounds, yerkes, experiments, upon, sound, made, frogs, respond, frog                         </td></tr><tr><td style=\"padding-left:0.75em;\">17</td><td> starfish, two, romanes, sea, one, says, seems, preyer, almost, taking                       </td></tr><tr><td style=\"padding-left:0.75em;\">18</td><td> vol, psych, bull, physiol, ibid, zool, nat, london, rev, science                      </td></tr><tr><td style=\"padding-left:0.75em;\">19</td><td> movements, would, may, first, however, new, results, way, sight, reflex                       </td></tr><tr><td style=\"padding-left:0.75em;\">20</td><td> der, die, und, ueber, des, iiber, zur, den, u, das                          </td></tr><tr><td style=\"padding-left:0.75em;\">21</td><td> paper, food, tentacles, meat, filter, tentacle, placed, water, reaction, mouth                        </td></tr><tr><td style=\"padding-left:0.75em;\">22</td><td> food, stimulation, mechanical, reaction, chemical, response, toward, bell, find, mouth                        </td></tr><tr><td style=\"padding-left:0.75em;\">23</td><td> animals, power, must, certain, human, lower, species, say, make, use                          </td></tr><tr><td style=\"padding-left:0.75em;\">24</td><td> stimuli, attention, reaction, important, upon, cases, organism, individual, given, importance                   </td></tr><tr><td style=\"padding-left:0.75em;\">25</td><td> dog, morgan, man, experience, lloyd, individual, latter, example, state, third                        </td></tr><tr><td style=\"padding-left:0.75em;\">26</td><td> experience, psychic, behavior, animal, mind, may, must, conscious, aspect, us                           </td></tr><tr><td style=\"padding-left:0.75em;\">27</td><td> psychology, animal, comparative, mental, mind, experimental, human, study, animals, intelligence                 </td></tr><tr><td style=\"padding-left:0.75em;\">28</td><td> instinct, case, inhibition, action, animal, latter, natural, former, likely, crab                         </td></tr><tr><td style=\"padding-left:0.75em;\">29</td><td> one, two, monkeys, food, different, box, cards, able, learned, shown                        </td></tr><tr><td style=\"padding-left:0.75em;\">30</td><td> f, ff, p, 8, 1, 9, 10, 20, 23, 25                           </td></tr><tr><td style=\"padding-left:0.75em;\">31</td><td> movements, method, useless, dropping, many, gradual, one, successful, unnecessary, ones                         </td></tr><tr><td style=\"padding-left:0.75em;\">32</td><td> biol, w, u, inst, ii, j, untersuchungen, jena, crab, keeble                       </td></tr><tr><td style=\"padding-left:0.75em;\">33</td><td> one, time, first, right, number, would, series, two, placed, hand                         </td></tr><tr><td style=\"padding-left:0.75em;\">34</td><td> p, 2, 1, paris, 6, 3, psych, 5, biol, sci                          </td></tr><tr><td style=\"padding-left:0.75em;\">35</td><td> gravity, orientation, position, animal, body, animals, pressure, force, air, geotropism                   </td></tr><tr><td style=\"padding-left:0.75em;\">36</td><td> flowers, two, bees, found, observation, never, removed, pp, honey, already                      </td></tr><tr><td style=\"padding-left:0.75em;\">37</td><td> fish, direction, one, side, would, move, position, opposite, toward, object                       </td></tr><tr><td style=\"padding-left:0.75em;\">38</td><td> side, light, surface, water, animal, head, turned, would, toward, right                        </td></tr><tr><td style=\"padding-left:0.75em;\">39</td><td> distance, objects, perception, object, small, prey, hairs, significance, organs, power                        </td></tr><tr><td style=\"padding-left:0.75em;\">40</td><td> animal, though, less, even, normal, found, skin, much, eyes, time                         </td></tr><tr><td style=\"padding-left:0.75em;\">41</td><td> movement, ideas, attention, sensations, idea, external, movements, human, ff, play                         </td></tr><tr><td style=\"padding-left:0.75em;\">42</td><td> body, found, better, must, consciousness, taken, point, place, structure, change                       </td></tr><tr><td style=\"padding-left:0.75em;\">43</td><td> ants, another, might, still, made, direction, species, upon, others, track                        </td></tr><tr><td style=\"padding-left:0.75em;\">44</td><td> jour, comp, neur, gonionemus, exp, medusa, trans, roy, leipzig, 13                           </td></tr><tr><td style=\"padding-left:0.75em;\">45</td><td> organs, sense, function, equilibrium, auditory, fishes, fish, organ, hearing, ear                          </td></tr><tr><td style=\"padding-left:0.75em;\">46</td><td> c, r, acad, d, b, e, soc, n, pieron, ann                          </td></tr><tr><td style=\"padding-left:0.75em;\">47</td><td> various, found, neighborhood, cause, upon, different, great, body, species, high                         </td></tr><tr><td style=\"padding-left:0.75em;\">48</td><td> one, time, end, like, could, long, particular, continued, path, box                          </td></tr><tr><td style=\"padding-left:0.75em;\">49</td><td> light, reactions, degrees, noted, different, orientation, fly, observed, also, changes                      </td></tr><tr><td style=\"padding-left:0.75em;\">50</td><td> learned, time, labyrinth, learning, tested, two, may, form, path, found                        </td></tr><tr><td style=\"padding-left:0.75em;\">51</td><td> sensation, may, light, different, stimulation, animal, quality, consciousness, reactions, specific                     </td></tr><tr><td style=\"padding-left:0.75em;\">52</td><td> perception, different, space, sensations, visual, sensation, experience, touch, may, reaction                     </td></tr><tr><td style=\"padding-left:0.75em;\">53</td><td> f, b, c, etc, h, ii, studies, davenport, v, o                            </td></tr><tr><td style=\"padding-left:0.75em;\">54</td><td> water, current, cilia, jennings, reaction, instead, fact, thus, due, weak                         </td></tr><tr><td style=\"padding-left:0.75em;\">55</td><td> rats, box, cats, thorndike, dogs, rat, labyrinth, experiments, white, small                        </td></tr><tr><td style=\"padding-left:0.75em;\">56</td><td> crayfish, reactions, imitation, sound, 27, inclined, instinctive, statocysts, think, inferential                  </td></tr><tr><td style=\"padding-left:0.75em;\">57</td><td> bees, hive, way, wasps, bethe, visual, memory, von, find, bee                          </td></tr><tr><td style=\"padding-left:0.75em;\">58</td><td> les, la, de, sur, des, et, chez, du, dans, animaux                      </td></tr><tr><td style=\"padding-left:0.75em;\">59</td><td> one, two, made, second, days, three, times, cases, would, could                        </td></tr><tr><td style=\"padding-left:0.75em;\">60</td><td> one, animal, behavior, another, part, us, following, example, first, class                        </td></tr><tr><td style=\"padding-left:0.75em;\">61</td><td> two, one, animal, given, might, stimuli, place, first, power, substances                   </td></tr><tr><td style=\"padding-left:0.75em;\">62</td><td> nervous, effect, system, upon, condition, physiological, energy, stimulation, stimulus, animal                       </td></tr><tr><td style=\"padding-left:0.75em;\">63</td><td> f, ff, sense, chemical, vision, hearing, learning, insects, mollusks, crustacea                    </td></tr><tr><td style=\"padding-left:0.75em;\">64</td><td> p, ibid, 17, 15, 10, 14, 16, 12, 22, 21                           </td></tr><tr><td style=\"padding-left:0.75em;\">65</td><td> behavior, kind, experience, concerned, formation, habit, find, third, unless, whole                        </td></tr><tr><td style=\"padding-left:0.75em;\">66</td><td> wasp, nest, minutes, however, spider, seconds, second, several, times, three                        </td></tr><tr><td style=\"padding-left:0.75em;\">67</td><td> difference, would, wasmann, degree, account, also, shown, successively, behavior, take                         </td></tr><tr><td style=\"padding-left:0.75em;\">68</td><td> animals, stimulation, may, forms, animal, end, reactions, behavior, called, lowest                       </td></tr><tr><td style=\"padding-left:0.75em;\">69</td><td> memory, ideas, learning, experience, animal, idea, image, would, images, human                        </td></tr><tr><td style=\"padding-left:0.75em;\">70</td><td> stimuli, reaction, reactions, mouse, rather, yerkes, discrimination, dancing, general, made                         </td></tr><tr><td style=\"padding-left:0.75em;\">71</td><td> always, may, means, human, indeed, word, purpose, serve, animals, term                         </td></tr><tr><td style=\"padding-left:0.75em;\">72</td><td> certain, would, objects, cases, might, animals, far, without, confusion, less                         </td></tr><tr><td style=\"padding-left:0.75em;\">73</td><td> habits, reactions, observations, behavior, many, among, animals, powers, 1, facts                        </td></tr><tr><td style=\"padding-left:0.75em;\">74</td><td> well, course, animals, series, however, many, known, suggested, developed, even                         </td></tr><tr><td style=\"padding-left:0.75em;\">75</td><td> experience, may, find, animal, mind, make, motor, must, ideas, yet                          </td></tr><tr><td style=\"padding-left:0.75em;\">76</td><td> reactions, light, effect, upon, orientation, gravity, reference, influence, behavior, position                     </td></tr><tr><td style=\"padding-left:0.75em;\">77</td><td> reaction, contact, stimulus, response, mechanical, stimulation, negative, positive, given, reactions                    </td></tr><tr><td style=\"padding-left:0.75em;\">78</td><td> animal, behavior, mind, consciousness, animals, evidence, structure, may, yet, matter                       </td></tr><tr><td style=\"padding-left:0.75em;\">79</td><td> behavior, animal, however, animals, error, used, definite, certain, study, higher                       </td></tr></table>"
       ],
       "output_type": "pyout",
       "prompt_number": 7,
       "text": [
        "CompactTable([[('stimulus', 0.084692403486926721),\n",
        "        ('reaction', 0.061778331257785271),\n",
        "        ('negative', 0.02989788293897978), ...,\n",
        "        ('animals', 9.9626400996247368e-06),\n",
        "        ('animal', 9.9626400996247368e-06),\n",
        "        ('intensity', 9.9626400996247368e-06)],\n",
        "       [('methods', 0.038929874341306944), ('shall', 0.038929874341306944),\n",
        "        ('method', 0.03892987434130693), ...,\n",
        "        ('another', 1.6214025131736442e-05),\n",
        "        ('one', 1.6214025131736442e-05), ('act', 1.6214025131736442e-05)],\n",
        "       [('sense', 0.090257387988563448), ('smell', 0.090257387988563448),\n",
        "        ('insects', 0.058481093104545898), ...,\n",
        "        ('animal', 1.2710517953604493e-05),\n",
        "        ('experience', 1.2710517953604493e-05),\n",
        "        ('whole', 1.2710517953604493e-05)],\n",
        "       ..., \n",
        "       [('reaction', 0.089415599534344858),\n",
        "        ('contact', 0.044712456344588036),\n",
        "        ('stimulus', 0.04098719441210829), ...,\n",
        "        ('hand', 9.3131548311974885e-06),\n",
        "        ('acting', 9.3131548311974885e-06),\n",
        "        ('point', 9.3131548311974885e-06)],\n",
        "       [('animal', 0.045247549635588462),\n",
        "        ('behavior', 0.041226438803721011), ('mind', 0.039215883387787295),\n",
        "        ..., ('sensory', 1.0052777079666622e-05),\n",
        "        ('different', 1.0052777079666622e-05),\n",
        "        ('one', 1.0052777079666622e-05)],\n",
        "       [('behavior', 0.053640552995394504),\n",
        "        ('animal', 0.050289065772939359),\n",
        "        ('however', 0.035207373271891239), ...,\n",
        "        ('observed', 1.6757436112272362e-05),\n",
        "        ('light', 1.6757436112272362e-05),\n",
        "        ('special', 1.6757436112272362e-05)]], \n",
        "      dtype=[('word', '|S27'), ('value', '<f8')])"
       ]
      }
     ],
     "prompt_number": 7
    },
    {
     "cell_type": "code",
     "collapsed": false,
     "input": [
      "v3.topics()"
     ],
     "language": "python",
     "metadata": {},
     "outputs": [
      {
       "html": [
        "<table style=\"margin: 0\"><tr><th style=\"text-align: center; background: #CEE3F6\" colspan\t\t\t=\"11\">Topics Sorted by Index</th></tr><tr><th style=\"text-align: center; background: #EFF2FB;\" \t\t\t\t\t>Topic</th><th style=\"text-align: center; background: #EFF2FB;\" \t\t\t\t\t>Words</th></tr><tr><td style=\"padding-left:0.75em;\">0</td><td> reactions, light, behavior, certain, class, reference, planarians, organisms, movements, hydra                        </td></tr><tr><td style=\"padding-left:0.75em;\">1</td><td> would, spider, fork, web, water, near, found, suspended, spiders, response                     </td></tr><tr><td style=\"padding-left:0.75em;\">2</td><td> les, la, de, sur, des, et, chez, du, dans, mouvements                   </td></tr><tr><td style=\"padding-left:0.75em;\">3</td><td> nervous, system, general, stimulation, physiological, structure, seems, place, reaction, probably                     </td></tr><tr><td style=\"padding-left:0.75em;\">4</td><td> p, 1, 6, 15, 4, 3, 9, 8, 10, nat                          </td></tr><tr><td style=\"padding-left:0.75em;\">5</td><td> ibid, vol, bd, physiol, zool, d, london, whatsoever, soc, klasse                       </td></tr><tr><td style=\"padding-left:0.75em;\">6</td><td> shall, see, chapter, later, many, animals, aspect, results, less, ones                         </td></tr><tr><td style=\"padding-left:0.75em;\">7</td><td> labyrinth, rats, white, learned, watson, maze, path, rat, learning, frog                         </td></tr><tr><td style=\"padding-left:0.75em;\">8</td><td> made, often, reacted, example, show, electric, use, get, make, bell                         </td></tr><tr><td style=\"padding-left:0.75em;\">9</td><td> distance, objects, use, stimuli, make, sense, perception, power, significance, little                       </td></tr><tr><td style=\"padding-left:0.75em;\">10</td><td> food, think, however, brought, better, water, supply, rest, inclined, lack                         </td></tr><tr><td style=\"padding-left:0.75em;\">11</td><td> sense, function, organs, organ, equilibrium, fishes, hearing, static, canals, auditory                     </td></tr><tr><td style=\"padding-left:0.75em;\">12</td><td> ant, ants, nest, two, one, paper, larvae, follow, others, near                         </td></tr><tr><td style=\"padding-left:0.75em;\">13</td><td> fish, skin, cut, nerves, per, cent, although, concerned, effective, ears                         </td></tr><tr><td style=\"padding-left:0.75em;\">14</td><td> negative, water, light, positive, phototropism, geotropism, larvae, reactions, response, also                         </td></tr><tr><td style=\"padding-left:0.75em;\">15</td><td> upon, made, nest, spider, back, wasp, found, first, though, without                      </td></tr><tr><td style=\"padding-left:0.75em;\">16</td><td> 1, found, english, sparrow, concerned, may, interesting, recently, cowbird, learned                      </td></tr><tr><td style=\"padding-left:0.75em;\">17</td><td> experience, may, conscious, possible, memory, upon, image, consciousness, learning, individual                   </td></tr><tr><td style=\"padding-left:0.75em;\">18</td><td> might, case, upon, may, conscious, depends, however, extent, latter, independent                  </td></tr><tr><td style=\"padding-left:0.75em;\">19</td><td> animals, reason, sense, fact, least, like, lower, explained, many, previously                   </td></tr><tr><td style=\"padding-left:0.75em;\">20</td><td> bees, hive, back, memory, visual, way, bethe, flight, foreign, von                          </td></tr><tr><td style=\"padding-left:0.75em;\">21</td><td> f, ff, effect, wiss, stimulation, learning, relation, plateau, ideas, reaction                     </td></tr><tr><td style=\"padding-left:0.75em;\">22</td><td> attention, stimuli, object, reaction, one, objects, another, part, important, cases                        </td></tr><tr><td style=\"padding-left:0.75em;\">23</td><td> new, york, statocysts, organs, bodies, found, statocyst, hairs, also, produced                     </td></tr><tr><td style=\"padding-left:0.75em;\">24</td><td> light, intensity, direction, orientation, rays, effect, phototaxis, animal, give, photopathy                   </td></tr><tr><td style=\"padding-left:0.75em;\">25</td><td> end, body, animal, head, side, one, reaction, forward, toward, region                       </td></tr><tr><td style=\"padding-left:0.75em;\">26</td><td> one, another, fact, animal, small, consists, latter, first, instance, usually                      </td></tr><tr><td style=\"padding-left:0.75em;\">27</td><td> times, second, made, first, two, days, one, several, time, repeated                     </td></tr><tr><td style=\"padding-left:0.75em;\">28</td><td> light, worms, observed, certain, reactions, surface, annelid, marine, much, spores                       </td></tr><tr><td style=\"padding-left:0.75em;\">29</td><td> animal, show, must, conditions, make, sure, facts, say, however, attempt                      </td></tr><tr><td style=\"padding-left:0.75em;\">30</td><td> ideas, experience, animal, past, memory, would, human, consciousness, mind, learn                        </td></tr><tr><td style=\"padding-left:0.75em;\">31</td><td> behavior, evidence, structure, animal, mind, animals, certain, existence, us, amoeba                       </td></tr><tr><td style=\"padding-left:0.75em;\">32</td><td> animals, one, mental, psychic, processes, life, development, man, power, fundamental                  </td></tr><tr><td style=\"padding-left:0.75em;\">33</td><td> p, biol, paris, 7, sci, psych, 6, 5, 4, marine                       </td></tr><tr><td style=\"padding-left:0.75em;\">34</td><td> cats, thorndike, dogs, monkeys, experiments, animals, well, form, birds, work                         </td></tr><tr><td style=\"padding-left:0.75em;\">35</td><td> p, 17, ibid, 16, 12, 14, 23, 22, 10, 24                           </td></tr><tr><td style=\"padding-left:0.75em;\">36</td><td> mind, animal, must, human, experience, us, consciousness, like, minds, part                         </td></tr><tr><td style=\"padding-left:0.75em;\">37</td><td> p, 2, 1, 3, 5, pp, de, psych, biol, 13                           </td></tr><tr><td style=\"padding-left:0.75em;\">38</td><td> food, toward, mouth, bell, tentacles, tentacle, stimulus, stimulation, contraction, touched                      </td></tr><tr><td style=\"padding-left:0.75em;\">39</td><td> h, c, e, b, g, j, f, l, parker, r                            </td></tr><tr><td style=\"padding-left:0.75em;\">40</td><td> stimulation, animals, reactions, forms, lowest, sense, light, mechanical, responses, little                       </td></tr><tr><td style=\"padding-left:0.75em;\">41</td><td> animal, would, reactions, habits, intelligence, new, objects, inherited, state, observations                 </td></tr><tr><td style=\"padding-left:0.75em;\">42</td><td> movements, proper, normal, food, place, take, tube, removed, says, ground                       </td></tr><tr><td style=\"padding-left:0.75em;\">43</td><td> instinct, action, experience, animal, consequences, performance, habit, stimulus, thinks, particular                   </td></tr><tr><td style=\"padding-left:0.75em;\">44</td><td> stimulation, reaction, reactions, response, mechanical, chemical, negative, stimuli, food, positive                     </td></tr><tr><td style=\"padding-left:0.75em;\">45</td><td> stimulus, reaction, animal, may, negative, forms, response, animals, repeated, case                         </td></tr><tr><td style=\"padding-left:0.75em;\">46</td><td> gravity, current, animals, position, pressure, orientation, force, animal, air, water                        </td></tr><tr><td style=\"padding-left:0.75em;\">47</td><td> animals, whose, vision, eyes, vertebrates, fishes, higher, yet, power, lacking                      </td></tr><tr><td style=\"padding-left:0.75em;\">48</td><td> sensation, consciousness, different, sensations, may, animal, quality, light, stimulation, accompanying                 </td></tr><tr><td style=\"padding-left:0.75em;\">49</td><td> reaction, stimulus, animal, condition, may, would, effect, stimulation, upon, food                         </td></tr><tr><td style=\"padding-left:0.75em;\">50</td><td> psychology, animal, comparative, mind, writers, book, attitude, hold, statement, toward                       </td></tr><tr><td style=\"padding-left:0.75em;\">51</td><td> der, die, und, ueber, des, iiber, zur, den, das, u                            </td></tr><tr><td style=\"padding-left:0.75em;\">52</td><td> movements, method, learning, experiments, dropping, useless, labyrinth, successful, process, similar                      </td></tr><tr><td style=\"padding-left:0.75em;\">53</td><td> light, effect, produced, sudden, upon, movement, rest, vessel, shadow, intensity                    </td></tr><tr><td style=\"padding-left:0.75em;\">54</td><td> however, much, behavior, less, error, paramecium, without, course, trial, first                        </td></tr><tr><td style=\"padding-left:0.75em;\">55</td><td> one, stimulus, experience, merely, two, form, makes, response, would, get                          </td></tr><tr><td style=\"padding-left:0.75em;\">56</td><td> may, two, great, ways, play, serve, various, ideas, thus, capable                      </td></tr><tr><td style=\"padding-left:0.75em;\">57</td><td> one, end, glass, two, screen, time, went, box, number, seized                       </td></tr><tr><td style=\"padding-left:0.75em;\">58</td><td> psychic, behavior, sensation, unpleasantness, accompaniment, conscious, possible, one, every, pleasantness                 </td></tr><tr><td style=\"padding-left:0.75em;\">59</td><td> species, ants, odor, many, individual, nest, others, odors, different, young                        </td></tr><tr><td style=\"padding-left:0.75em;\">60</td><td> light, animals, phototropic, rays, negative, ultra-violet, positively, negatively, intensity, certain                      </td></tr><tr><td style=\"padding-left:0.75em;\">61</td><td> direction, move, toward, object, opposite, movement, one, side, fish, rapidly                      </td></tr><tr><td style=\"padding-left:0.75em;\">62</td><td> human, difference, different, animals, color, may, discriminations, one, produce, brightness                   </td></tr><tr><td style=\"padding-left:0.75em;\">63</td><td> seen, even, known, could, feelers, especially, within, sensibility, long, well                         </td></tr><tr><td style=\"padding-left:0.75em;\">64</td><td> jour, w, j, l, u, loeb, ii, cole, untersuchungen, nagel                        </td></tr><tr><td style=\"padding-left:0.75em;\">65</td><td> eye, eyes, vision, light, pigment, compound, spot, found, image, visual                       </td></tr><tr><td style=\"padding-left:0.75em;\">66</td><td> box, rat, door, could, soon, pulling, one, second, wire, pushing                      </td></tr><tr><td style=\"padding-left:0.75em;\">67</td><td> vol, psych, bull, physiol, nat, rev, zool, harvard, studies, science                      </td></tr><tr><td style=\"padding-left:0.75em;\">68</td><td> yerkes, found, mouse, made, could, apparently, frogs, dancing, stimuli, seems                        </td></tr><tr><td style=\"padding-left:0.75em;\">69</td><td> one, side, would, animal, right, turn, wrong, turning, eye, toward                       </td></tr><tr><td style=\"padding-left:0.75em;\">70</td><td> visual, imitation, learning, evidence, different, inferential, present, raccoon, required, instinctive                  </td></tr><tr><td style=\"padding-left:0.75em;\">71</td><td> method, discrimination, form, methods, test, called, visual, sensory, image, may                          </td></tr><tr><td style=\"padding-left:0.75em;\">72</td><td> gravity, orientation, position, animal, responses, sea, even, behavior, starfish, whose                        </td></tr><tr><td style=\"padding-left:0.75em;\">73</td><td> similar, various, species, tests, different, results, produced, sounds, degrees, animals                      </td></tr><tr><td style=\"padding-left:0.75em;\">74</td><td> reactions, sound, stimuli, come, crayfish, body, hand, contact, actual, direct                       </td></tr><tr><td style=\"padding-left:0.75em;\">75</td><td> moved, go, new, nest, distance, follow, side, prey, place, ants                         </td></tr><tr><td style=\"padding-left:0.75em;\">76</td><td> perception, space, stimuli, determined, sensations, spatial, point, reactions, important, may                          </td></tr><tr><td style=\"padding-left:0.75em;\">77</td><td> stimulus, surface, organ, body, sense, moving, drop, movement, occurs, points                       </td></tr><tr><td style=\"padding-left:0.75em;\">78</td><td> paper, meat, filter, tentacles, time, water, placed, bit, ball, nagel                        </td></tr><tr><td style=\"padding-left:0.75em;\">79</td><td> f, ff, sense, chemical, vision, hearing, insects, learning, spiders, mollusks                     </td></tr><tr><td style=\"padding-left:0.75em;\">80</td><td> etc, wasps, wasp, solitary, ii, hand, probably, social, account, nests                        </td></tr><tr><td style=\"padding-left:0.75em;\">81</td><td> box, one, cat, put, monkey, would, opening, door, go, get                          </td></tr><tr><td style=\"padding-left:0.75em;\">82</td><td> among, forel, bethe, view, beer, von, example, morgan, physiologists, special                      </td></tr><tr><td style=\"padding-left:0.75em;\">83</td><td> method, animal, experimental, behavior, facts, study, psychology, methods, comparative, problem                      </td></tr><tr><td style=\"padding-left:0.75em;\">84</td><td> substances, chemical, food, taste, nagel, edible, mouth, also, however, finds                        </td></tr><tr><td style=\"padding-left:0.75em;\">85</td><td> reaction, contact, negative, positive, come, stimuli, thus, avoiding, instead, gonionemus                   </td></tr><tr><td style=\"padding-left:0.75em;\">86</td><td> right, little, others, amoeba, reversed, left, could, along, movements, way                          </td></tr><tr><td style=\"padding-left:0.75em;\">87</td><td> also, thought, movements, observed, seem, makes, certain, would, purely, nervous                      </td></tr><tr><td style=\"padding-left:0.75em;\">88</td><td> light, move, toward, tendency, positive, influence, daphnia, downward, away, phototropism                 </td></tr><tr><td style=\"padding-left:0.75em;\">89</td><td> stimulus, upon, animal, body, effect, point, energy, acting, motor, may                          </td></tr><tr><td style=\"padding-left:0.75em;\">90</td><td> one, two, different, monkeys, distinguish, shown, cards, learned, card, box                          </td></tr><tr><td style=\"padding-left:0.75em;\">91</td><td> ants, nest, ant, smell, bethe, direction, species, thinks, would, fact                         </td></tr><tr><td style=\"padding-left:0.75em;\">92</td><td> c, r, f, m, acad, soc, w, inst, j, yerkes                       </td></tr><tr><td style=\"padding-left:0.75em;\">93</td><td> bd, arch, comp, neur, cent, jour, zeit, pfliigers, exp, pflugers                     </td></tr><tr><td style=\"padding-left:0.75em;\">94</td><td> behavior, reactions, made, study, word, response, term, also, metridium, habits                       </td></tr><tr><td style=\"padding-left:0.75em;\">95</td><td> movement, idea, ideas, movements, habit, experience, sensations, time, attention, kind                         </td></tr><tr><td style=\"padding-left:0.75em;\">96</td><td> food, crab, aquarium, fish, side, placed, tank, forceps, green, containing                   </td></tr><tr><td style=\"padding-left:0.75em;\">97</td><td> one, two, stimuli, discrimination, animal, given, presented, connection, inhibition, power                        </td></tr><tr><td style=\"padding-left:0.75em;\">98</td><td> smell, sense, insects, bees, ants, flowers, sight, experiments, evidence, taste                        </td></tr><tr><td style=\"padding-left:0.75em;\">99</td><td> red, blue, white, green, light, color, colored, colors, placed, food                         </td></tr></table>"
       ],
       "output_type": "pyout",
       "prompt_number": 9,
       "text": [
        "CompactTable([[('reactions', 0.087820316488009101),\n",
        "        ('light', 0.051066870852478678),\n",
        "        ('behavior', 0.049025012761615874), ...,\n",
        "        ('animals', 2.0418580908623959e-05),\n",
        "        ('pp', 2.0418580908623959e-05),\n",
        "        ('response', 2.0418580908623959e-05)],\n",
        "       [('would', 0.045068043172221586), ('spider', 0.045068043172221586),\n",
        "        ('fork', 0.031928671984984967), ...,\n",
        "        ('vol', 1.8770530267477143e-05),\n",
        "        ('around', 1.8770530267477143e-05),\n",
        "        ('surface', 1.8770530267477143e-05)],\n",
        "       [('les', 0.11915136678907129), ('la', 0.094671562627503439),\n",
        "        ('de', 0.075087719298249145), ...,\n",
        "        ('bouvier', 1.6319869441044893e-05),\n",
        "        ('plates', 1.6319869441044893e-05), ('h', 1.6319869441041993e-05)],\n",
        "       ..., \n",
        "       [('one', 0.052255148166753231), ('two', 0.052255148166753231),\n",
        "        ('stimuli', 0.038191863385235635), ...,\n",
        "        ('upon', 2.0090406830735423e-05),\n",
        "        ('pleasure', 2.0090406830735423e-05),\n",
        "        ('action', 2.0090406830735423e-05)],\n",
        "       [('smell', 0.094724380318168808), ('sense', 0.075486496485389645),\n",
        "        ('insects', 0.059208287088422663), ...,\n",
        "        ('animals', 1.4798372179057956e-05), ('b', 1.4798372179057956e-05),\n",
        "        ('reactions', 1.4798372179057956e-05)],\n",
        "       [('red', 0.078087694483737008), ('blue', 0.063377652050921759),\n",
        "        ('white', 0.040746817538898278), ...,\n",
        "        ('time', 1.1315417256009489e-05), ('seem', 1.1315417256009489e-05),\n",
        "        ('would', 1.1315417256001449e-05)]], \n",
        "      dtype=[('word', '|S27'), ('value', '<f8')])"
       ]
      }
     ],
     "prompt_number": 9
    },
    {
     "cell_type": "code",
     "collapsed": false,
     "input": [
      "def sim_sent_sent(sent_index, print_len=20):\n",
      "    # wrapper for sim_doc_doc.\n",
      "    # prints out the top print_len sentences.\n",
      "    sim_sents = v.sim_doc_doc(sent_index, print_len=print_len, as_strings=False)\n",
      "    lc = sim_sents['i'][:print_len]\n",
      "    for i in lc:\n",
      "        print i, ': ', c.view_contexts('sentence', as_strings=True)[i]\n",
      "    return sim_sents"
     ],
     "language": "python",
     "metadata": {},
     "outputs": [],
     "prompt_number": 4
    },
    {
     "cell_type": "code",
     "collapsed": false,
     "input": [
      "c.view_contexts('sentence', as_strings=True)[200]"
     ],
     "language": "python",
     "metadata": {},
     "outputs": [
      {
       "output_type": "pyout",
       "prompt_number": 3,
       "text": [
        "array(['wasmann', 'animal', 'mind', 'different', 'point', 'view'], \n",
        "      dtype='|S27')"
       ]
      }
     ],
     "prompt_number": 3
    },
    {
     "cell_type": "code",
     "collapsed": false,
     "input": [
      "sim_sent_sent(136)"
     ],
     "language": "python",
     "metadata": {},
     "outputs": [
      {
       "output_type": "stream",
       "stream": "stdout",
       "text": [
        "136 :  "
       ]
      },
      {
       "output_type": "stream",
       "stream": "stdout",
       "text": [
        "['owing' 'kinetic' 'influence' 'light' 'insects' 'long' 'exposed'\n",
        " 'sunlight' 'tend' 'come' 'rest' 'shaded' 'portions' 'heads' 'away' 'light'\n",
        " 'position' 'least' 'stimulated' 'movement']\n",
        "275 :  "
       ]
      },
      {
       "output_type": "stream",
       "stream": "stdout",
       "text": [
        "['region' 'little' 'brighter' 'surface' 'stay' 'surface' 'gravity'\n",
        " 'dominating']\n",
        "3017 :  "
       ]
      },
      {
       "output_type": "stream",
       "stream": "stdout",
       "text": [
        "['one' 'eye' 'received' 'light' 'positive' 'animal' 'would' 'turn' 'toward'\n",
        " 'darker' 'side' 'muscles' 'side' 'toward' 'light' 'would' 'strongly'\n",
        " 'stimulated']\n",
        "4541 :  "
       ]
      },
      {
       "output_type": "stream",
       "stream": "stdout",
       "text": [
        "['swimming' 'either' 'shadow' 'sunlight' 'sunlight' 'shadow' 'medusa'\n",
        " 'stops' 'turns' 'sinks' 'bottom']\n",
        "1244 :  "
       ]
      },
      {
       "output_type": "stream",
       "stream": "stdout",
       "text": [
        "['hand' 'direction' 'rays' 'orients' 'animal' 'precision' 'orientation'\n",
        " 'increase' 'absolute' 'intensity' 'optimum']\n",
        "2039 :  "
       ]
      },
      {
       "output_type": "stream",
       "stream": "stdout",
       "text": [
        "['weak' 'light' 'effect' 'movements' 'volvox' 'moderate' 'light' 'causes'\n",
        " 'movement' 'toward' 'source' 'light' 'strong' 'light' 'causes' 'movement'\n",
        " 'away' 'source']\n",
        "1595 :  "
       ]
      },
      {
       "output_type": "stream",
       "stream": "stdout",
       "text": [
        "['strasburger' 'results' 'swarm' 'spores' 'moved' 'toward' 'light' 'region'\n",
        " 'less' 'intense' 'illumination' 'jennings' 'holds' 'due' 'fact' 'turning'\n",
        " 'sensitive' 'anterior' 'end' 'away' 'source' 'light' 'would' 'diminish'\n",
        " 'effective' 'illumination' 'animal' 'passing' 'slightly' 'less'\n",
        " 'illuminated' 'region']\n",
        "5136 :  "
       ]
      },
      {
       "output_type": "stream",
       "stream": "stdout",
       "text": [
        "['found' 'planarians' 'placed' 'head' 'toward' 'source' 'light' 'distinct'\n",
        " 'tendency' 'turn' 'path' 'heads' 'directed' 'straight' 'away' 'light'\n",
        " 'tendency' 'keep' 'path']\n",
        "5724 :  "
       ]
      },
      {
       "output_type": "stream",
       "stream": "stdout",
       "text": [
        "['however' 'shall' 'see' 'animals' 'increase' 'illumination' 'brings'\n",
        " 'response' 'decrease' 'fails' 'vice' 'versa']\n",
        "961 :  "
       ]
      },
      {
       "output_type": "stream",
       "stream": "stdout",
       "text": [
        "['daphnia' 'seeks' 'region' 'affected' 'ultra-violet' 'rays' 'spectrum'\n",
        " 'preference' 'darkness' 'although' 'stimulate' 'polar' 'plates']\n",
        "3018 :  "
       ]
      },
      {
       "output_type": "stream",
       "stream": "stdout",
       "text": [
        "['negative' 'animal' 'would' 'turn' 'toward' 'light' 'inhibition'\n",
        " 'muscular' 'activity' 'side']\n",
        "1597 :  "
       ]
      },
      {
       "output_type": "stream",
       "stream": "stdout",
       "text": [
        "['difference' 'intensity' 'light' 'different' 'parts' 'drop' 'increased'\n",
        " 'till' 'change' 'illumination' 'due' 'progression' 'greater' 'change'\n",
        " 'due' 'swinging' 'anterior' 'end' 'away' 'source' 'light' 'positive'\n",
        " 'organisms' 'would' 'gather' 'illuminated' 'regions' 'p']\n",
        "1596 :  "
       ]
      },
      {
       "output_type": "stream",
       "stream": "stdout",
       "text": [
        "['two' 'ways' 'changing' 'intensity' 'stimulus' 'moving' 'forward' 'darker'\n",
        " 'region' 'turning' 'head' 'end' 'away' 'light' 'opposed' 'latter' 'effect'\n",
        " 'stronger' 'former' 'hence' 'organisms' 'turn' 'head' 'end' 'light'\n",
        " 'rather' 'make' 'negative' 'reaction' 'turned' 'move' 'toward' 'shaded'\n",
        " 'region']\n",
        "5395 :  "
       ]
      },
      {
       "output_type": "stream",
       "stream": "stdout",
       "text": [
        "['placed' 'vessel' 'containing' 'india' 'ink' 'screen' 'one' 'end' 'cause'\n",
        " 'gradations' 'intensity' 'light' 'reaching' 'vessel']\n",
        "5127 :  "
       ]
      },
      {
       "output_type": "stream",
       "stream": "stdout",
       "text": [
        "['amoeba' 'gives' 'negative' 'response' 'light' 'falls' 'upon' 'side'\n",
        " 'moves' 'away' 'light' 'jennings' 'probably' 'occurs' 'contraction' 'part'\n",
        " 'body' 'nearest' 'light' 'would' 'happen' 'light' 'mechanical' 'stimulus'\n",
        " 'p' 'n']\n",
        "4440 :  "
       ]
      },
      {
       "output_type": "stream",
       "stream": "stdout",
       "text": [
        "['orient' 'reference' 'direction' 'rather' 'intensity' 'light']\n",
        "4451 :  "
       ]
      },
      {
       "output_type": "stream",
       "stream": "stdout",
       "text": [
        "['effect' 'light' 'upon' 'body' 'direct' 'producing' 'orientation'\n",
        " 'bringing' 'animal' 'line' 'light' 'rays' 'effect' 'produced' 'direction'\n",
        " 'light' 'rays' 'pass' 'body' 'fact' 'oriented' 'position' 'two'\n",
        " 'symmetrical' 'points' 'opposite' 'sides' 'body' 'illuminated' 'unequal'\n",
        " 'intensity' 'theory' 'phototaxis' 'would' 'bring' 'nearer' 'relation'\n",
        " 'photopathy']\n",
        "5131 :  "
       ]
      },
      {
       "output_type": "stream",
       "stream": "stdout",
       "text": [
        "['far' 'observed' 'take' 'place' 'ordinary' 'negative' 'avoiding'\n",
        " 'reaction' 'animals' 'give' 'passing' 'region' 'less' 'one' 'greater'\n",
        " 'illumination' 'illumination' 'light' 'medusa' 'beginning' 'move'\n",
        " 'usually' 'turns' 'way' 'move' 'back' 'shaded' 'region']\n",
        "4998 :  "
       ]
      },
      {
       "output_type": "stream",
       "stream": "stdout",
       "text": [
        "['stimulus' 'light' 'organism' 'might' 'oriented' 'giving' 'negative'\n",
        " 'reaction' 'head' 'entered' 'region' 'either' 'brighter' 'darker'\n",
        " 'optimum' 'illumination']\n",
        "2038 :  "
       ]
      },
      {
       "output_type": "stream",
       "stream": "stdout",
       "text": [
        "['organism' 'called' 'volvox' 'really' 'colony' 'globular' 'turned'\n",
        " 'outward' 'eye' 'spot']\n"
       ]
      },
      {
       "html": [
        "<table style=\"margin: 0\"><tr><th style=\"text-align: center; background: #CEE3F6\" colspan\t\t        =\"2\">Documents: </th></tr><tr><th style=\"text-align: center; background: #EFF2FB; \">Document\t\t\t</th><th style=\"text-align: center; background: #EFF2FB; \">Cosine\t\t\t</th></tr><tr><td>136       </td><td>1.00000   </td></tr><tr><td>275       </td><td>0.91309   </td></tr><tr><td>3017      </td><td>0.91306   </td></tr><tr><td>4541      </td><td>0.91185   </td></tr><tr><td>1244      </td><td>0.91185   </td></tr><tr><td>2039      </td><td>0.90880   </td></tr><tr><td>1595      </td><td>0.90790   </td></tr><tr><td>5136      </td><td>0.90677   </td></tr><tr><td>5724      </td><td>0.90207   </td></tr><tr><td>961       </td><td>0.89906   </td></tr><tr><td>3018      </td><td>0.89160   </td></tr><tr><td>1597      </td><td>0.89157   </td></tr><tr><td>1596      </td><td>0.89097   </td></tr><tr><td>5395      </td><td>0.88463   </td></tr><tr><td>5127      </td><td>0.88170   </td></tr><tr><td>4440      </td><td>0.88164   </td></tr><tr><td>4451      </td><td>0.87583   </td></tr><tr><td>5131      </td><td>0.87549   </td></tr><tr><td>4998      </td><td>0.86128   </td></tr><tr><td>2038      </td><td>0.85711   </td></tr></table>"
       ],
       "output_type": "pyout",
       "prompt_number": 11,
       "text": [
        "LabeledColumn([(136, 1.0000000000000002), (275, 0.91308620211214087),\n",
        "       (3017, 0.91305514889697592), ..., (5100, 0.001565658006862816),\n",
        "       (2284, 0.0015157071156249088), (4554, 0.0014944359570440526)], \n",
        "      dtype=[('i', '<i8'), ('value', '<f8')])"
       ]
      }
     ],
     "prompt_number": 11
    },
    {
     "cell_type": "code",
     "collapsed": false,
     "input": [
      "# not a good example.\n",
      "sim_sent_sent(200).view(np.ndarray)"
     ],
     "language": "python",
     "metadata": {},
     "outputs": [
      {
       "output_type": "stream",
       "stream": "stdout",
       "text": [
        "200 :  "
       ]
      },
      {
       "output_type": "stream",
       "stream": "stdout",
       "text": [
        "['wasmann' 'animal' 'mind' 'different' 'point' 'view']\n",
        "4820 :  "
       ]
      },
      {
       "output_type": "stream",
       "stream": "stdout",
       "text": [
        "['note' 'psychology' 'fishes']\n",
        "633 :  "
       ]
      },
      {
       "output_type": "stream",
       "stream": "stdout",
       "text": [
        "['least' 'shown' 'reason' 'thinking' 'difficulties' 'methods' 'n' 'verworn'\n",
        " 'physiologist' 'published' 'exhaustive' 'experimental' 'study' 'behavior'\n",
        " 'single-celled' 'animals']\n",
        "635 :  "
       ]
      },
      {
       "output_type": "stream",
       "stream": "stdout",
       "text": [
        "['lloyd' 'morgan' 'comparative' 'psychology' 'makes' 'limited' 'use'\n",
        " 'experimental' 'method']\n",
        "1105 :  "
       ]
      },
      {
       "output_type": "stream",
       "stream": "stdout",
       "text": [
        "['page' 'references' 'text' 'translation' 'torrey' 'philosophy' 'descartes'\n",
        " 'writings']\n",
        "320 :  "
       ]
      },
      {
       "output_type": "stream",
       "stream": "stdout",
       "text": [
        "['illustration' 'third' 'objection' 'mentioned' 'disadvantage' 'ignorance'\n",
        " 'animal' 'individual' 'history' 'furnished' 'lloyd' 'morgan']\n",
        "292 :  "
       ]
      },
      {
       "output_type": "stream",
       "stream": "stdout",
       "text": [
        "['decided' 'evidence' 'favor' 'supposition' 'might' 'furnished' 'trial'\n",
        " 'error' 'needed' 'gone']\n",
        "725 :  "
       ]
      },
      {
       "output_type": "stream",
       "stream": "stdout",
       "text": [
        "['stenamma']\n",
        "4603 :  "
       ]
      },
      {
       "output_type": "stream",
       "stream": "stdout",
       "text": [
        "['essays']\n",
        "5319 :  "
       ]
      },
      {
       "output_type": "stream",
       "stream": "stdout",
       "text": [
        "['researches']\n",
        "4691 :  "
       ]
      },
      {
       "output_type": "stream",
       "stream": "stdout",
       "text": [
        "['view']\n",
        "441 :  "
       ]
      },
      {
       "output_type": "stream",
       "stream": "stdout",
       "text": [
        "['difficulties']\n",
        "2330 :  "
       ]
      },
      {
       "output_type": "stream",
       "stream": "stdout",
       "text": [
        "['chicago']\n",
        "2487 :  "
       ]
      },
      {
       "output_type": "stream",
       "stream": "stdout",
       "text": [
        "['chicago']\n",
        "2471 :  "
       ]
      },
      {
       "output_type": "stream",
       "stream": "stdout",
       "text": [
        "['bethe']\n",
        "2667 :  "
       ]
      },
      {
       "output_type": "stream",
       "stream": "stdout",
       "text": [
        "['6']\n",
        "316 :  "
       ]
      },
      {
       "output_type": "stream",
       "stream": "stdout",
       "text": [
        "['facts']\n",
        "1060 :  "
       ]
      },
      {
       "output_type": "stream",
       "stream": "stdout",
       "text": [
        "['von']\n",
        "1997 :  "
       ]
      },
      {
       "output_type": "stream",
       "stream": "stdout",
       "text": [
        "['flechsig']\n",
        "604 :  "
       ]
      },
      {
       "output_type": "stream",
       "stream": "stdout",
       "text": [
        "['psychology']\n"
       ]
      },
      {
       "output_type": "pyout",
       "prompt_number": 12,
       "text": [
        "array([(200, 1.0000000000000002), (4820, 0.99990628357425593),\n",
        "       (633, 0.98825644410899693), ..., (1553, 0.0029410172300734908),\n",
        "       (2049, 0.0029410172300734557), (4003, 0.0029071365917984139)], \n",
        "      dtype=[('i', '<i8'), ('value', '<f8')])"
       ]
      }
     ],
     "prompt_number": 12
    },
    {
     "cell_type": "code",
     "collapsed": false,
     "input": [],
     "language": "python",
     "metadata": {},
     "outputs": []
    }
   ],
   "metadata": {}
  }
 ]
}