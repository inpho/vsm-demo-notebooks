{
 "metadata": {
  "name": "htrc-sentence-similarity"
 },
 "nbformat": 3,
 "nbformat_minor": 0,
 "worksheets": [
  {
   "cells": [
    {
     "cell_type": "code",
     "collapsed": false,
     "input": "from vsm.corpus import Corpus\nfrom vsm.model.ldagibbs import LDAGibbs as LDA\nfrom vsm.viewer.ldagibbsviewer import LDAGibbsViewer as LDAViewer\n\n# The Animal Mind\npath = '/home/doori/htrc/t5w66bs1h_the_animal_mind/'\ncorpus = path + 't5w66bs1h_the_animal_mind.npz'\n\nc = Corpus.load(corpus)\n# K = {40, 60, 80, 100}\nm = LDA.load('htrc-LDA-K40-1200.npz')\nv = LDAViewer(c, m)",
     "language": "python",
     "metadata": {},
     "outputs": [
      {
       "output_type": "stream",
       "stream": "stdout",
       "text": "Loading corpus from /home/doori/htrc/t5w66bs1h_the_animal_mind/t5w66bs1h_the_animal_mind.npz\nLoading LDA-Gibbs data from"
      },
      {
       "output_type": "stream",
       "stream": "stdout",
       "text": " htrc-LDA-K40-1200.npz\n"
      }
     ],
     "prompt_number": 2
    },
    {
     "cell_type": "code",
     "collapsed": false,
     "input": "def sim_sent_sent(sent_index, print_len=20):\n    # wrapper for sim_doc_doc.\n    # prints out the top print_len sentences.\n    sim_sents = v.sim_doc_doc(sent_index, print_len=print_len, as_strings=False)\n    lc = sim_sents['i'][:print_len]\n    for i in lc:\n        print i, ': ', c.view_contexts('sentence', as_strings=True)[i]\n    return sim_sents",
     "language": "python",
     "metadata": {},
     "outputs": [],
     "prompt_number": 4
    },
    {
     "cell_type": "code",
     "collapsed": false,
     "input": "c.view_contexts('sentence', as_strings=True)[200]",
     "language": "python",
     "metadata": {},
     "outputs": [
      {
       "output_type": "pyout",
       "prompt_number": 3,
       "text": "array(['wasmann', 'animal', 'mind', 'different', 'point', 'view'], \n      dtype='|S27')"
      }
     ],
     "prompt_number": 3
    },
    {
     "cell_type": "code",
     "collapsed": false,
     "input": "# not a good example.\nsim_sent_sent(200)\n",
     "language": "python",
     "metadata": {},
     "outputs": [
      {
       "output_type": "stream",
       "stream": "stdout",
       "text": "200 :  "
      },
      {
       "output_type": "stream",
       "stream": "stdout",
       "text": "['wasmann' 'animal' 'mind' 'different' 'point' 'view']\n4820 :  "
      },
      {
       "output_type": "stream",
       "stream": "stdout",
       "text": "['note' 'psychology' 'fishes']\n633 :  "
      },
      {
       "output_type": "stream",
       "stream": "stdout",
       "text": "['least' 'shown' 'reason' 'thinking' 'difficulties' 'methods' 'n' 'verworn'\n 'physiologist' 'published' 'exhaustive' 'experimental' 'study' 'behavior'\n 'single-celled' 'animals']\n635 :  "
      },
      {
       "output_type": "stream",
       "stream": "stdout",
       "text": "['lloyd' 'morgan' 'comparative' 'psychology' 'makes' 'limited' 'use'\n 'experimental' 'method']\n1105 :  "
      },
      {
       "output_type": "stream",
       "stream": "stdout",
       "text": "['page' 'references' 'text' 'translation' 'torrey' 'philosophy' 'descartes'\n 'writings']\n320 :  "
      },
      {
       "output_type": "stream",
       "stream": "stdout",
       "text": "['illustration' 'third' 'objection' 'mentioned' 'disadvantage' 'ignorance'\n 'animal' 'individual' 'history' 'furnished' 'lloyd' 'morgan']\n292 :  "
      },
      {
       "output_type": "stream",
       "stream": "stdout",
       "text": "['decided' 'evidence' 'favor' 'supposition' 'might' 'furnished' 'trial'\n 'error' 'needed' 'gone']\n725 :  "
      },
      {
       "output_type": "stream",
       "stream": "stdout",
       "text": "['stenamma']\n4603 :  "
      },
      {
       "output_type": "stream",
       "stream": "stdout",
       "text": "['essays']\n5319 :  "
      },
      {
       "output_type": "stream",
       "stream": "stdout",
       "text": "['researches']\n4691 :  "
      },
      {
       "output_type": "stream",
       "stream": "stdout",
       "text": "['view']\n441 :  "
      },
      {
       "output_type": "stream",
       "stream": "stdout",
       "text": "['difficulties']\n2330 :  "
      },
      {
       "output_type": "stream",
       "stream": "stdout",
       "text": "['chicago']\n2487 :  "
      },
      {
       "output_type": "stream",
       "stream": "stdout",
       "text": "['chicago']\n2471 :  "
      },
      {
       "output_type": "stream",
       "stream": "stdout",
       "text": "['bethe']\n2667 :  "
      },
      {
       "output_type": "stream",
       "stream": "stdout",
       "text": "['6']\n316 :  "
      },
      {
       "output_type": "stream",
       "stream": "stdout",
       "text": "['facts']\n1060 :  "
      },
      {
       "output_type": "stream",
       "stream": "stdout",
       "text": "['von']\n1997 :  "
      },
      {
       "output_type": "stream",
       "stream": "stdout",
       "text": "['flechsig']\n604 :  "
      },
      {
       "output_type": "stream",
       "stream": "stdout",
       "text": "['psychology']\n"
      },
      {
       "html": "<table style=\"margin: 0\"><tr><th style=\"text-align: center; background: #CEE3F6\" colspan\t\t        =\"2\">Documents: </th></tr><tr><th style=\"text-align: center; background: #EFF2FB; \">Document\t\t\t</th><th style=\"text-align: center; background: #EFF2FB; \">Cosine\t\t\t</th></tr><tr><td>200       </td><td>1.00000   </td></tr><tr><td>4820      </td><td>0.99991   </td></tr><tr><td>633       </td><td>0.98826   </td></tr><tr><td>635       </td><td>0.97795   </td></tr><tr><td>1105      </td><td>0.96504   </td></tr><tr><td>320       </td><td>0.94898   </td></tr><tr><td>292       </td><td>0.94361   </td></tr><tr><td>725       </td><td>0.89746   </td></tr><tr><td>4603      </td><td>0.89746   </td></tr><tr><td>5319      </td><td>0.89746   </td></tr><tr><td>4691      </td><td>0.89746   </td></tr><tr><td>441       </td><td>0.89746   </td></tr><tr><td>2330      </td><td>0.89746   </td></tr><tr><td>2487      </td><td>0.89746   </td></tr><tr><td>2471      </td><td>0.89746   </td></tr><tr><td>2667      </td><td>0.89746   </td></tr><tr><td>316       </td><td>0.89746   </td></tr><tr><td>1060      </td><td>0.89746   </td></tr><tr><td>1997      </td><td>0.89746   </td></tr><tr><td>604       </td><td>0.89746   </td></tr></table>",
       "output_type": "pyout",
       "prompt_number": 8,
       "text": "LabeledColumn([(200, 1.0000000000000002), (4820, 0.99990628357425593),\n       (633, 0.98825644410899693), ..., (1553, 0.0029410172300734908),\n       (2049, 0.0029410172300734557), (4003, 0.0029071365917984139)], \n      dtype=[('i', '<i8'), ('value', '<f8')])"
      }
     ],
     "prompt_number": 8
    },
    {
     "cell_type": "code",
     "collapsed": false,
     "input": "sim_sent_sent(136).view(np.ndarray)",
     "language": "python",
     "metadata": {},
     "outputs": [
      {
       "output_type": "stream",
       "stream": "stdout",
       "text": "136 :  "
      },
      {
       "output_type": "stream",
       "stream": "stdout",
       "text": "['owing' 'kinetic' 'influence' 'light' 'insects' 'long' 'exposed'\n 'sunlight' 'tend' 'come' 'rest' 'shaded' 'portions' 'heads' 'away' 'light'\n 'position' 'least' 'stimulated' 'movement']\n275 :  "
      },
      {
       "output_type": "stream",
       "stream": "stdout",
       "text": "['region' 'little' 'brighter' 'surface' 'stay' 'surface' 'gravity'\n 'dominating']\n3017 :  "
      },
      {
       "output_type": "stream",
       "stream": "stdout",
       "text": "['one' 'eye' 'received' 'light' 'positive' 'animal' 'would' 'turn' 'toward'\n 'darker' 'side' 'muscles' 'side' 'toward' 'light' 'would' 'strongly'\n 'stimulated']\n4541 :  "
      },
      {
       "output_type": "stream",
       "stream": "stdout",
       "text": "['swimming' 'either' 'shadow' 'sunlight' 'sunlight' 'shadow' 'medusa'\n 'stops' 'turns' 'sinks' 'bottom']\n1244 :  "
      },
      {
       "output_type": "stream",
       "stream": "stdout",
       "text": "['hand' 'direction' 'rays' 'orients' 'animal' 'precision' 'orientation'\n 'increase' 'absolute' 'intensity' 'optimum']\n2039 :  "
      },
      {
       "output_type": "stream",
       "stream": "stdout",
       "text": "['weak' 'light' 'effect' 'movements' 'volvox' 'moderate' 'light' 'causes'\n 'movement' 'toward' 'source' 'light' 'strong' 'light' 'causes' 'movement'\n 'away' 'source']\n1595 :  "
      },
      {
       "output_type": "stream",
       "stream": "stdout",
       "text": "['strasburger' 'results' 'swarm' 'spores' 'moved' 'toward' 'light' 'region'\n 'less' 'intense' 'illumination' 'jennings' 'holds' 'due' 'fact' 'turning'\n 'sensitive' 'anterior' 'end' 'away' 'source' 'light' 'would' 'diminish'\n 'effective' 'illumination' 'animal' 'passing' 'slightly' 'less'\n 'illuminated' 'region']\n5136 :  "
      },
      {
       "output_type": "stream",
       "stream": "stdout",
       "text": "['found' 'planarians' 'placed' 'head' 'toward' 'source' 'light' 'distinct'\n 'tendency' 'turn' 'path' 'heads' 'directed' 'straight' 'away' 'light'\n 'tendency' 'keep' 'path']\n5724 :  "
      },
      {
       "output_type": "stream",
       "stream": "stdout",
       "text": "['however' 'shall' 'see' 'animals' 'increase' 'illumination' 'brings'\n 'response' 'decrease' 'fails' 'vice' 'versa']\n961 :  "
      },
      {
       "output_type": "stream",
       "stream": "stdout",
       "text": "['daphnia' 'seeks' 'region' 'affected' 'ultra-violet' 'rays' 'spectrum'\n 'preference' 'darkness' 'although' 'stimulate' 'polar' 'plates']\n3018 :  "
      },
      {
       "output_type": "stream",
       "stream": "stdout",
       "text": "['negative' 'animal' 'would' 'turn' 'toward' 'light' 'inhibition'\n 'muscular' 'activity' 'side']\n1597 :  "
      },
      {
       "output_type": "stream",
       "stream": "stdout",
       "text": "['difference' 'intensity' 'light' 'different' 'parts' 'drop' 'increased'\n 'till' 'change' 'illumination' 'due' 'progression' 'greater' 'change'\n 'due' 'swinging' 'anterior' 'end' 'away' 'source' 'light' 'positive'\n 'organisms' 'would' 'gather' 'illuminated' 'regions' 'p']\n1596 :  "
      },
      {
       "output_type": "stream",
       "stream": "stdout",
       "text": "['two' 'ways' 'changing' 'intensity' 'stimulus' 'moving' 'forward' 'darker'\n 'region' 'turning' 'head' 'end' 'away' 'light' 'opposed' 'latter' 'effect'\n 'stronger' 'former' 'hence' 'organisms' 'turn' 'head' 'end' 'light'\n 'rather' 'make' 'negative' 'reaction' 'turned' 'move' 'toward' 'shaded'\n 'region']\n5395 :  "
      },
      {
       "output_type": "stream",
       "stream": "stdout",
       "text": "['placed' 'vessel' 'containing' 'india' 'ink' 'screen' 'one' 'end' 'cause'\n 'gradations' 'intensity' 'light' 'reaching' 'vessel']\n5127 :  "
      },
      {
       "output_type": "stream",
       "stream": "stdout",
       "text": "['amoeba' 'gives' 'negative' 'response' 'light' 'falls' 'upon' 'side'\n 'moves' 'away' 'light' 'jennings' 'probably' 'occurs' 'contraction' 'part'\n 'body' 'nearest' 'light' 'would' 'happen' 'light' 'mechanical' 'stimulus'\n 'p' 'n']\n4440 :  "
      },
      {
       "output_type": "stream",
       "stream": "stdout",
       "text": "['orient' 'reference' 'direction' 'rather' 'intensity' 'light']\n4451 :  "
      },
      {
       "output_type": "stream",
       "stream": "stdout",
       "text": "['effect' 'light' 'upon' 'body' 'direct' 'producing' 'orientation'\n 'bringing' 'animal' 'line' 'light' 'rays' 'effect' 'produced' 'direction'\n 'light' 'rays' 'pass' 'body' 'fact' 'oriented' 'position' 'two'\n 'symmetrical' 'points' 'opposite' 'sides' 'body' 'illuminated' 'unequal'\n 'intensity' 'theory' 'phototaxis' 'would' 'bring' 'nearer' 'relation'\n 'photopathy']\n5131 :  "
      },
      {
       "output_type": "stream",
       "stream": "stdout",
       "text": "['far' 'observed' 'take' 'place' 'ordinary' 'negative' 'avoiding'\n 'reaction' 'animals' 'give' 'passing' 'region' 'less' 'one' 'greater'\n 'illumination' 'illumination' 'light' 'medusa' 'beginning' 'move'\n 'usually' 'turns' 'way' 'move' 'back' 'shaded' 'region']\n4998 :  "
      },
      {
       "output_type": "stream",
       "stream": "stdout",
       "text": "['stimulus' 'light' 'organism' 'might' 'oriented' 'giving' 'negative'\n 'reaction' 'head' 'entered' 'region' 'either' 'brighter' 'darker'\n 'optimum' 'illumination']\n2038 :  "
      },
      {
       "output_type": "stream",
       "stream": "stdout",
       "text": "['organism' 'called' 'volvox' 'really' 'colony' 'globular' 'turned'\n 'outward' 'eye' 'spot']\n"
      },
      {
       "output_type": "pyout",
       "prompt_number": 7,
       "text": "array([(136, 1.0000000000000002), (275, 0.91308620211214087),\n       (3017, 0.91305514889697592), ..., (5100, 0.001565658006862816),\n       (2284, 0.0015157071156249088), (4554, 0.0014944359570440526)], \n      dtype=[('i', '<i8'), ('value', '<f8')])"
      }
     ],
     "prompt_number": 7
    },
    {
     "cell_type": "code",
     "collapsed": false,
     "input": "c.view_contexts('sentence', as_strings=True)[1480]",
     "language": "python",
     "metadata": {},
     "outputs": [
      {
       "output_type": "pyout",
       "prompt_number": 9,
       "text": "array(['first', 'place', 'animal', 'shows', 'common', 'animals', 'power',\n       'getting', 'used', 'certain', 'forms', 'stimulation', 'long',\n       'cease', 'reaction'], \n      dtype='|S27')"
      }
     ],
     "prompt_number": 9
    },
    {
     "cell_type": "code",
     "collapsed": false,
     "input": "",
     "language": "python",
     "metadata": {},
     "outputs": []
    }
   ],
   "metadata": {}
  }
 ]
}