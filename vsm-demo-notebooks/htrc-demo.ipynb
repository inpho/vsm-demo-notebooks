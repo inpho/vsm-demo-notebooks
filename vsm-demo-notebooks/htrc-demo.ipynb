{
 "metadata": {
  "name": "htrc-demo"
 },
 "nbformat": 3,
 "nbformat_minor": 0,
 "worksheets": [
  {
   "cells": [
    {
     "cell_type": "heading",
     "level": 1,
     "metadata": {},
     "source": [
      "Results on a 1315-volume selection from the HTRC with books as contexts"
     ]
    },
    {
     "cell_type": "heading",
     "level": 3,
     "metadata": {},
     "source": [
      "Loading Corpus, LDA Gibbs Model and Viewer objects"
     ]
    },
    {
     "cell_type": "code",
     "collapsed": false,
     "input": [
      "from vsm.corpus import Corpus\n",
      "from vsm.model.ldagibbs import LDAGibbs\n",
      "from vsm.viewer.ldagibbsviewer import LDAGibbsViewer\n",
      "from extensions.htrc import htrc_label_fn_1315, htrc_label_fn_86\n",
      "\n",
      "c1 = Corpus.load('/var/inphosemantics/data/20130101/htrc-anthropomorphism-1315/vsm-data/hathi-1315-nltk-freq3.npz')\n",
      "m1 = LDAGibbs.load('/var/inphosemantics/data/20130101/htrc-anthropomorphism-1315/vsm-data/hathi-1315-nltk-freq3-LDA-K60-600.npz')\n",
      "v1 = LDAGibbsViewer(c1, m1)\n"
     ],
     "language": "python",
     "metadata": {},
     "outputs": [
      {
       "output_type": "stream",
       "stream": "stdout",
       "text": [
        "Loading corpus from /var/inphosemantics/data/20130101/htrc-anthropomorphism-1315/vsm-data/hathi-1315-nltk-freq3.npz\n",
        "Loading LDA-Gibbs data from"
       ]
      },
      {
       "output_type": "stream",
       "stream": "stdout",
       "text": [
        " /var/inphosemantics/data/20130101/htrc-anthropomorphism-1315/vsm-data/hathi-1315-nltk-freq3-LDA-K60-600.npz\n"
       ]
      }
     ],
     "prompt_number": 5
    },
    {
     "cell_type": "heading",
     "level": 3,
     "metadata": {},
     "source": [
      "Topics related to <i>anthropomorphism</i>"
     ]
    },
    {
     "cell_type": "code",
     "collapsed": false,
     "input": [
      "v1.sim_word_top('anthropomorphism')"
     ],
     "language": "python",
     "metadata": {},
     "outputs": [
      {
       "html": [
        "<table style=\"margin: 0\"><tr><th style=\"text-align: center; background: #CEE3F6\" colspan\t\t\t=\"11\">Sorted by Word Similarity</th></tr><tr><th style=\"text-align: center; background: #EFF2FB;\" \t\t\t\t\t>Topic</th><th style=\"text-align: center; background: #EFF2FB;\" \t\t\t\t\t>Words</th></tr><tr><td style=\"padding-left:0.75em;\">38</td><td> god, religion, life, man, religious, spirit, world, nature, spiritual, divine                                    </td></tr><tr><td style=\"padding-left:0.75em;\">16</td><td> animals, evolution, life, animal, development, man, species, cells, living, theory                                    </td></tr><tr><td style=\"padding-left:0.75em;\">51</td><td> philosophy, nature, knowledge, world, thought, idea, things, reason, truth, science                                   </td></tr><tr><td style=\"padding-left:0.75em;\">58</td><td> man, among, tribes, primitive, men, people, also, races, women, race                                      </td></tr><tr><td style=\"padding-left:0.75em;\">21</td><td> social, life, new, mind, upon, individual, human, mental, world, subfield                                  </td></tr><tr><td style=\"padding-left:0.75em;\">12</td><td> child, children, first, development, movements, play, life, little, mental, mother                                    </td></tr><tr><td style=\"padding-left:0.75em;\">11</td><td> motion, force, must, forces, matter, changes, us, parts, like, evolution                                 </td></tr><tr><td style=\"padding-left:0.75em;\">31</td><td> gods, religion, p, name, see, god, india, ancient, one, worship                                   </td></tr><tr><td style=\"padding-left:0.75em;\">1</td><td> pp, der, vol, die, de, des, und, ibid, university, la                                        </td></tr></table>"
       ],
       "output_type": "pyout",
       "prompt_number": 6,
       "text": [
        "CompactTable([[('god', 0.034420649917120939), ('religion', 0.02459173153582905),\n",
        "        ('life', 0.022671486649667422), ...,\n",
        "        ('lagrange', 7.7711245898821589e-09),\n",
        "        ('liberalism', 7.7711245898821589e-09),\n",
        "        ('emergence', 7.7711245898821589e-09)],\n",
        "       [('animals', 0.012132496632905507),\n",
        "        ('evolution', 0.010839270810416975),\n",
        "        ('life', 0.0092297003422895634), ...,\n",
        "        ('invagination', 1.1138895973189953e-08),\n",
        "        ('mesoblast', 1.1138895973189953e-08),\n",
        "        ('expands', 1.1138895973189953e-08)],\n",
        "       [('philosophy', 0.013289711909911085),\n",
        "        ('nature', 0.010788829800419326),\n",
        "        ('knowledge', 0.010627151429051464), ...,\n",
        "        ('circumstance', 6.4158083876077089e-09),\n",
        "        ('ratke', 6.4158083876077089e-09), ('o', 6.4158083876077089e-09)],\n",
        "       ..., \n",
        "       [('motion', 0.0080392513335995168),\n",
        "        ('force', 0.0075620845351035181), ('must', 0.0068795323984793735),\n",
        "        ..., ('pleistocene', 8.8528162986189915e-09),\n",
        "        ('pliocene', 8.8528162986189915e-09),\n",
        "        ('psychic', 8.8528162986189915e-09)],\n",
        "       [('gods', 0.0090838072859889714),\n",
        "        ('religion', 0.0084087742171443606), ('p', 0.0056658855285761436),\n",
        "        ..., ('destitute', 1.2956488845374217e-08),\n",
        "        ('kingdoms', 1.2956488845374217e-08),\n",
        "        ('noble', 1.2956488845374217e-08)],\n",
        "       [('pp', 0.018586942486592054), ('der', 0.016156240438971299),\n",
        "        ('vol', 0.015967690653968941), ...,\n",
        "        ('wiener', 2.2716841566528454e-08),\n",
        "        ('edward', 2.2716841566528454e-08),\n",
        "        ('january', 2.2716841566528454e-08)]], \n",
        "      dtype=[('word', '|S40'), ('value', '<f8')])"
       ]
      }
     ],
     "prompt_number": 6
    },
    {
     "cell_type": "heading",
     "level": 3,
     "metadata": {},
     "source": [
      "Topics related to <i>anthropomorphism</i> in the context of <i>animal psychology</i>"
     ]
    },
    {
     "cell_type": "code",
     "collapsed": false,
     "input": [
      "v1.sim_word_top(['anthropomorphism', 'animal', 'psychology'])"
     ],
     "language": "python",
     "metadata": {},
     "outputs": [
      {
       "html": [
        "<table style=\"margin: 0\"><tr><th style=\"text-align: center; background: #CEE3F6\" colspan\t\t\t=\"11\">Sorted by Word Similarity</th></tr><tr><th style=\"text-align: center; background: #EFF2FB;\" \t\t\t\t\t>Topic</th><th style=\"text-align: center; background: #EFF2FB;\" \t\t\t\t\t>Words</th></tr><tr><td style=\"padding-left:0.75em;\">26</td><td> consciousness, experience, p, psychology, process, individual, object, activity, relation, feeling                                   </td></tr><tr><td style=\"padding-left:0.75em;\">16</td><td> animals, evolution, life, animal, development, man, species, cells, living, theory                                    </td></tr><tr><td style=\"padding-left:0.75em;\">10</td><td> animals, water, animal, food, birds, one, leaves, insects, species, many                                      </td></tr><tr><td style=\"padding-left:0.75em;\">1</td><td> pp, der, vol, die, de, des, und, ibid, university, la                                        </td></tr><tr><td style=\"padding-left:0.75em;\">58</td><td> man, among, tribes, primitive, men, people, also, races, women, race                                      </td></tr><tr><td style=\"padding-left:0.75em;\">47</td><td> college, university, professor, school, law, work, students, degree, education, new                                       </td></tr><tr><td style=\"padding-left:0.75em;\">25</td><td> nature, ii, us, mr, without, life, human, natural, language, every                                     </td></tr><tr><td style=\"padding-left:0.75em;\">29</td><td> fig, two, body, form, cells, animals, first, ii, side, organs                                    </td></tr><tr><td style=\"padding-left:0.75em;\">12</td><td> child, children, first, development, movements, play, life, little, mental, mother                                    </td></tr><tr><td style=\"padding-left:0.75em;\">21</td><td> social, life, new, mind, upon, individual, human, mental, world, subfield                                  </td></tr><tr><td style=\"padding-left:0.75em;\">4</td><td> acid, water, body, action, blood, food, alcohol, air, substances, work                                      </td></tr><tr><td style=\"padding-left:0.75em;\">2</td><td> test, tests, age, group, children, mental, table, per, cent, number                                    </td></tr><tr><td style=\"padding-left:0.75em;\">45</td><td> brain, nerve, fibres, nervous, motor, nerves, sensory, cord, cells, spinal                                    </td></tr><tr><td style=\"padding-left:0.75em;\">8</td><td> mind, consciousness, knowledge, object, perception, sense, mental, external, ideas, phenomena                                 </td></tr><tr><td style=\"padding-left:0.75em;\">20</td><td> man, moral, men, good, law, society, social, conduct, action, pleasure                                  </td></tr><tr><td style=\"padding-left:0.75em;\">11</td><td> motion, force, must, forces, matter, changes, us, parts, like, evolution                                 </td></tr><tr><td style=\"padding-left:0.75em;\">31</td><td> gods, religion, p, name, see, god, india, ancient, one, worship                                   </td></tr><tr><td style=\"padding-left:0.75em;\">49</td><td> subfield, code, datafield, tag, ind2, ind1, b, d, c, controlfield                              </td></tr><tr><td style=\"padding-left:0.75em;\">33</td><td> tlie, may, logic, proposition, terms, term, reasoning, meaning, propositions, argument                                  </td></tr><tr><td style=\"padding-left:0.75em;\">35</td><td> history, science, historical, work, study, philosophy, century, modern, sciences, literature                                </td></tr><tr><td style=\"padding-left:0.75em;\">42</td><td> light, eye, two, eyes, visual, fig, vision, red, distance, movement                                  </td></tr><tr><td style=\"padding-left:0.75em;\">52</td><td> see, c, history, life, 9, also, j, ed, st, book                                      </td></tr><tr><td style=\"padding-left:0.75em;\">44</td><td> 8vo, svo, vols, c, pp, 6d, r, j, edition, dr                                        </td></tr><tr><td style=\"padding-left:0.75em;\">18</td><td> teacher, study, education, school, teaching, work, knowledge, pupils, method, reading                                   </td></tr><tr><td style=\"padding-left:0.75em;\">13</td><td> 8, c, n, rev, ed, tr, 6, v, w, dr                                        </td></tr><tr><td style=\"padding-left:0.75em;\">55</td><td> god, see, israel, prophet, jewish, iii, people, jews, ii, also                                      </td></tr><tr><td style=\"padding-left:0.75em;\">19</td><td> criminal, crime, number, women, criminals, prison, among, population, 1, per                                       </td></tr><tr><td style=\"padding-left:0.75em;\">51</td><td> philosophy, nature, knowledge, world, thought, idea, things, reason, truth, science                                   </td></tr><tr><td style=\"padding-left:0.75em;\">27</td><td> upon, like, would, though, yet, never, us, still, could, whose                                     </td></tr><tr><td style=\"padding-left:0.75em;\">59</td><td> london, c, m.a, college, professor, subfield, 0, shall, j, class                                     </td></tr><tr><td style=\"padding-left:0.75em;\">39</td><td> made, work, water, first, engine, time, steam, great, x, feet                                      </td></tr><tr><td style=\"padding-left:0.75em;\">34</td><td> course, 2, hours, year, courses, 3, 4, students, engineering, st                                        </td></tr><tr><td style=\"padding-left:0.75em;\">38</td><td> god, religion, life, man, religious, spirit, world, nature, spiritual, divine                                    </td></tr><tr><td style=\"padding-left:0.75em;\">22</td><td> cases, disease, mental, patient, may, brain, nervous, case, symptoms, treatment                                 </td></tr><tr><td style=\"padding-left:0.75em;\">40</td><td> de, la, p, vol, et, des, le, les, brissot, pp                                        </td></tr><tr><td style=\"padding-left:0.75em;\">56</td><td> war, german, germany, army, american, would, france, french, men, japan                                     </td></tr><tr><td style=\"padding-left:0.75em;\">6</td><td> school, schools, education, work, teachers, children, high, training, pupils, educational                               </td></tr><tr><td style=\"padding-left:0.75em;\">0</td><td> b, e, wis, n, m, y, st, c, d, mrs                                       </td></tr><tr><td style=\"padding-left:0.75em;\">7</td><td> church, jesus, christ, christian, testament, new, paul, bible, gospel, doctrine                                  </td></tr><tr><td style=\"padding-left:0.75em;\">28</td><td> one, may, would, must, time, upon, even, also, first, two                                       </td></tr><tr><td style=\"padding-left:0.75em;\">41</td><td> poetry, art, english, literature, music, life, poet, work, literary, verse                                     </td></tr><tr><td style=\"padding-left:0.75em;\">17</td><td> 1, 2, 3, 4, 5, 6, 8, 7, p, 9                                         </td></tr></table>"
       ],
       "output_type": "pyout",
       "prompt_number": 7,
       "text": [
        "CompactTable([[('consciousness', 0.015734629141412659),\n",
        "        ('experience', 0.011910584664732592), ('p', 0.011393743421870745),\n",
        "        ..., ('excluded', 7.2590062199631514e-09),\n",
        "        ('whence', 7.2590062199631514e-09),\n",
        "        ('darkness', 7.2590062199631514e-09)],\n",
        "       [('animals', 0.012132496632905507),\n",
        "        ('evolution', 0.010839270810416975),\n",
        "        ('life', 0.0092297003422895634), ...,\n",
        "        ('invagination', 1.1138895973189953e-08),\n",
        "        ('mesoblast', 1.1138895973189953e-08),\n",
        "        ('expands', 1.1138895973189953e-08)],\n",
        "       [('animals', 0.0083261137206309798),\n",
        "        ('water', 0.0081627567429070399),\n",
        "        ('animal', 0.0064079454587631464), ...,\n",
        "        ('folk', 1.2762263884671248e-08),\n",
        "        ('trade', 1.2762263884671248e-08), ('mg', 1.2762263884671248e-08)],\n",
        "       ..., \n",
        "       [('one', 0.021362612229596699), ('may', 0.0187744689663779),\n",
        "        ('would', 0.009787440548626649), ...,\n",
        "        ('stenography', 8.6372209685180946e-10),\n",
        "        ('gems', 8.6372209685180946e-10),\n",
        "        ('undoubted', 8.6372209685180946e-10)],\n",
        "       [('poetry', 0.009204014160687498), ('art', 0.0085162745172613682),\n",
        "        ('english', 0.0080260771118406179), ...,\n",
        "        ('subdivision', 9.1454739817221232e-09),\n",
        "        ('everybody', 9.1454739817221232e-09),\n",
        "        ('devotees', 9.1454739817221232e-09)],\n",
        "       [('1', 0.11055428991322785), ('2', 0.07993792004202116),\n",
        "        ('3', 0.060214665012096547), ..., ('lis', 7.2461350637079519e-09),\n",
        "        ('albertus', 7.2461350637079519e-09),\n",
        "        ('nevada', 7.2461350637079519e-09)]], \n",
        "      dtype=[('word', '|S40'), ('value', '<f8')])"
       ]
      }
     ],
     "prompt_number": 7
    },
    {
     "cell_type": "heading",
     "level": 3,
     "metadata": {},
     "source": [
      "Each word can be weighed when calculating the similar topics."
     ]
    },
    {
     "cell_type": "code",
     "collapsed": false,
     "input": [
      "v1.sim_word_top(['anthropomorphism', 'animal', 'psychology'], [1, 2, 1])"
     ],
     "language": "python",
     "metadata": {},
     "outputs": [
      {
       "html": [
        "<table style=\"margin: 0\"><tr><th style=\"text-align: center; background: #CEE3F6\" colspan\t\t\t=\"11\">Sorted by Word Similarity</th></tr><tr><th style=\"text-align: center; background: #EFF2FB;\" \t\t\t\t\t>Topic</th><th style=\"text-align: center; background: #EFF2FB;\" \t\t\t\t\t>Words</th></tr><tr><td style=\"padding-left:0.75em;\">16</td><td> animals, evolution, life, animal, development, man, species, cells, living, theory                                    </td></tr><tr><td style=\"padding-left:0.75em;\">10</td><td> animals, water, animal, food, birds, one, leaves, insects, species, many                                      </td></tr><tr><td style=\"padding-left:0.75em;\">26</td><td> consciousness, experience, p, psychology, process, individual, object, activity, relation, feeling                                   </td></tr><tr><td style=\"padding-left:0.75em;\">58</td><td> man, among, tribes, primitive, men, people, also, races, women, race                                      </td></tr><tr><td style=\"padding-left:0.75em;\">25</td><td> nature, ii, us, mr, without, life, human, natural, language, every                                     </td></tr><tr><td style=\"padding-left:0.75em;\">29</td><td> fig, two, body, form, cells, animals, first, ii, side, organs                                    </td></tr><tr><td style=\"padding-left:0.75em;\">4</td><td> acid, water, body, action, blood, food, alcohol, air, substances, work                                      </td></tr><tr><td style=\"padding-left:0.75em;\">1</td><td> pp, der, vol, die, de, des, und, ibid, university, la                                        </td></tr><tr><td style=\"padding-left:0.75em;\">45</td><td> brain, nerve, fibres, nervous, motor, nerves, sensory, cord, cells, spinal                                    </td></tr><tr><td style=\"padding-left:0.75em;\">12</td><td> child, children, first, development, movements, play, life, little, mental, mother                                    </td></tr><tr><td style=\"padding-left:0.75em;\">20</td><td> man, moral, men, good, law, society, social, conduct, action, pleasure                                  </td></tr><tr><td style=\"padding-left:0.75em;\">31</td><td> gods, religion, p, name, see, god, india, ancient, one, worship                                   </td></tr><tr><td style=\"padding-left:0.75em;\">47</td><td> college, university, professor, school, law, work, students, degree, education, new                                       </td></tr><tr><td style=\"padding-left:0.75em;\">11</td><td> motion, force, must, forces, matter, changes, us, parts, like, evolution                                 </td></tr><tr><td style=\"padding-left:0.75em;\">8</td><td> mind, consciousness, knowledge, object, perception, sense, mental, external, ideas, phenomena                                 </td></tr><tr><td style=\"padding-left:0.75em;\">21</td><td> social, life, new, mind, upon, individual, human, mental, world, subfield                                  </td></tr><tr><td style=\"padding-left:0.75em;\">2</td><td> test, tests, age, group, children, mental, table, per, cent, number                                    </td></tr><tr><td style=\"padding-left:0.75em;\">33</td><td> tlie, may, logic, proposition, terms, term, reasoning, meaning, propositions, argument                                  </td></tr><tr><td style=\"padding-left:0.75em;\">49</td><td> subfield, code, datafield, tag, ind2, ind1, b, d, c, controlfield                              </td></tr><tr><td style=\"padding-left:0.75em;\">42</td><td> light, eye, two, eyes, visual, fig, vision, red, distance, movement                                  </td></tr><tr><td style=\"padding-left:0.75em;\">35</td><td> history, science, historical, work, study, philosophy, century, modern, sciences, literature                                </td></tr><tr><td style=\"padding-left:0.75em;\">52</td><td> see, c, history, life, 9, also, j, ed, st, book                                      </td></tr><tr><td style=\"padding-left:0.75em;\">55</td><td> god, see, israel, prophet, jewish, iii, people, jews, ii, also                                      </td></tr><tr><td style=\"padding-left:0.75em;\">44</td><td> 8vo, svo, vols, c, pp, 6d, r, j, edition, dr                                        </td></tr><tr><td style=\"padding-left:0.75em;\">18</td><td> teacher, study, education, school, teaching, work, knowledge, pupils, method, reading                                   </td></tr><tr><td style=\"padding-left:0.75em;\">13</td><td> 8, c, n, rev, ed, tr, 6, v, w, dr                                        </td></tr><tr><td style=\"padding-left:0.75em;\">19</td><td> criminal, crime, number, women, criminals, prison, among, population, 1, per                                       </td></tr><tr><td style=\"padding-left:0.75em;\">51</td><td> philosophy, nature, knowledge, world, thought, idea, things, reason, truth, science                                   </td></tr><tr><td style=\"padding-left:0.75em;\">39</td><td> made, work, water, first, engine, time, steam, great, x, feet                                      </td></tr><tr><td style=\"padding-left:0.75em;\">34</td><td> course, 2, hours, year, courses, 3, 4, students, engineering, st                                        </td></tr><tr><td style=\"padding-left:0.75em;\">40</td><td> de, la, p, vol, et, des, le, les, brissot, pp                                        </td></tr><tr><td style=\"padding-left:0.75em;\">27</td><td> upon, like, would, though, yet, never, us, still, could, whose                                     </td></tr><tr><td style=\"padding-left:0.75em;\">59</td><td> london, c, m.a, college, professor, subfield, 0, shall, j, class                                     </td></tr><tr><td style=\"padding-left:0.75em;\">38</td><td> god, religion, life, man, religious, spirit, world, nature, spiritual, divine                                    </td></tr><tr><td style=\"padding-left:0.75em;\">0</td><td> b, e, wis, n, m, y, st, c, d, mrs                                       </td></tr><tr><td style=\"padding-left:0.75em;\">6</td><td> school, schools, education, work, teachers, children, high, training, pupils, educational                               </td></tr><tr><td style=\"padding-left:0.75em;\">22</td><td> cases, disease, mental, patient, may, brain, nervous, case, symptoms, treatment                                 </td></tr><tr><td style=\"padding-left:0.75em;\">56</td><td> war, german, germany, army, american, would, france, french, men, japan                                     </td></tr><tr><td style=\"padding-left:0.75em;\">7</td><td> church, jesus, christ, christian, testament, new, paul, bible, gospel, doctrine                                  </td></tr><tr><td style=\"padding-left:0.75em;\">28</td><td> one, may, would, must, time, upon, even, also, first, two                                       </td></tr><tr><td style=\"padding-left:0.75em;\">41</td><td> poetry, art, english, literature, music, life, poet, work, literary, verse                                     </td></tr><tr><td style=\"padding-left:0.75em;\">17</td><td> 1, 2, 3, 4, 5, 6, 8, 7, p, 9                                         </td></tr></table>"
       ],
       "output_type": "pyout",
       "prompt_number": 8,
       "text": [
        "CompactTable([[('animals', 0.012132496632905507),\n",
        "        ('evolution', 0.010839270810416975),\n",
        "        ('life', 0.0092297003422895634), ...,\n",
        "        ('invagination', 1.1138895973189953e-08),\n",
        "        ('mesoblast', 1.1138895973189953e-08),\n",
        "        ('expands', 1.1138895973189953e-08)],\n",
        "       [('animals', 0.0083261137206309798),\n",
        "        ('water', 0.0081627567429070399),\n",
        "        ('animal', 0.0064079454587631464), ...,\n",
        "        ('folk', 1.2762263884671248e-08),\n",
        "        ('trade', 1.2762263884671248e-08), ('mg', 1.2762263884671248e-08)],\n",
        "       [('consciousness', 0.015734629141412659),\n",
        "        ('experience', 0.011910584664732592), ('p', 0.011393743421870745),\n",
        "        ..., ('excluded', 7.2590062199631514e-09),\n",
        "        ('whence', 7.2590062199631514e-09),\n",
        "        ('darkness', 7.2590062199631514e-09)],\n",
        "       ..., \n",
        "       [('one', 0.021362612229596699), ('may', 0.0187744689663779),\n",
        "        ('would', 0.009787440548626649), ...,\n",
        "        ('stenography', 8.6372209685180946e-10),\n",
        "        ('gems', 8.6372209685180946e-10),\n",
        "        ('undoubted', 8.6372209685180946e-10)],\n",
        "       [('poetry', 0.009204014160687498), ('art', 0.0085162745172613682),\n",
        "        ('english', 0.0080260771118406179), ...,\n",
        "        ('subdivision', 9.1454739817221232e-09),\n",
        "        ('everybody', 9.1454739817221232e-09),\n",
        "        ('devotees', 9.1454739817221232e-09)],\n",
        "       [('1', 0.11055428991322785), ('2', 0.07993792004202116),\n",
        "        ('3', 0.060214665012096547), ..., ('lis', 7.2461350637079519e-09),\n",
        "        ('albertus', 7.2461350637079519e-09),\n",
        "        ('nevada', 7.2461350637079519e-09)]], \n",
        "      dtype=[('word', '|S40'), ('value', '<f8')])"
       ]
      }
     ],
     "prompt_number": 8
    },
    {
     "cell_type": "heading",
     "level": 3,
     "metadata": {},
     "source": [
      "Documents related to weighed top 3 topics of <i>anthropomorphism</i>"
     ]
    },
    {
     "cell_type": "code",
     "collapsed": false,
     "input": [
      "v1.sim_top_doc([26, 16, 10], print_len=100, label_fn=htrc_label_fn_1315)"
     ],
     "language": "python",
     "metadata": {},
     "outputs": [
      {
       "html": [
        "<table style=\"margin: 0\"><tr><th style=\"text-align: center; background: #CEE3F6\" colspan\t\t        =\"2\">Topics: 26, 16, 10</th></tr><tr><th style=\"text-align: center; background: #EFF2FB; \">Document\t\t\t</th><th style=\"text-align: center; background: #EFF2FB; \">Prob\t\t\t</th></tr><tr><td>Secrets of animal life,                                          </td><td>0.63954   </td></tr><tr><td>Comparative studies in the psychology of ants and of higher      </td><td>0.63085   </td></tr><tr><td>The colours of animals, their meaning and use, especially co     </td><td>0.55333   </td></tr><tr><td>The foundations of normal and abnormal psychology.               </td><td>0.54171   </td></tr><tr><td>The bird rookeries of the Tortugas.                              </td><td>0.53789   </td></tr><tr><td>Mind in animals.                                                 </td><td>0.53783   </td></tr><tr><td>Ants and some other insects; an inquiry into the psychic pow     </td><td>0.53606   </td></tr><tr><td>Systematic science teaching ; a manual of inductive elementa     </td><td>0.53152   </td></tr><tr><td>The riddle of the universe at the close of the nineteenth ce     </td><td>0.52804   </td></tr><tr><td>The riddle of the universe at the close of the nineteenth ce     </td><td>0.52763   </td></tr><tr><td>The riddle of the universe at the close of the nineteenth ce     </td><td>0.52035   </td></tr><tr><td>The colour-sense: its origin and development. An essay in co     </td><td>0.51658   </td></tr><tr><td>Advanced elementary science;                                     </td><td>0.50012   </td></tr><tr><td>Report of the Brown-Harvard Expedition to Nachvak, Labrador,     </td><td>0.49748   </td></tr><tr><td>The germ-plasm : a theory of heredity /                          </td><td>0.49713   </td></tr><tr><td>Biology and its makers, with portraits and other illustratio     </td><td>0.49495   </td></tr><tr><td>Report of the Brown-Harvard expedition to Nachvak, Labrador,     </td><td>0.49243   </td></tr><tr><td>Last words on evolution; a popular retrospect and summary,       </td><td>0.48496   </td></tr><tr><td>Thought and things; a study of the development and meaning o     </td><td>0.48331   </td></tr><tr><td>The psychic life of micro-organisms. A study in experimental     </td><td>0.47866   </td></tr><tr><td>The foundations of psychology,                                   </td><td>0.47818   </td></tr><tr><td>Leisure-time studies, chiefly biological. A series of essays     </td><td>0.47785   </td></tr><tr><td>The nature study course with suggestions for teaching it bas     </td><td>0.47753   </td></tr><tr><td>Pragmatism and the problem of the idea,                          </td><td>0.47576   </td></tr><tr><td>The wonders of instinct,                                         </td><td>0.47458   </td></tr><tr><td>General biology; a book of outlines and practical studies fo     </td><td>0.45917   </td></tr><tr><td>The psychic life of micro-organisms : a study in experimenta     </td><td>0.45915   </td></tr><tr><td>The spiritual interpretation of nature,                          </td><td>0.45753   </td></tr><tr><td>General zoology,                                                 </td><td>0.45647   </td></tr><tr><td>The spiritual interpretation of nature,                          </td><td>0.45537   </td></tr><tr><td>The soul; a study and an argument,                               </td><td>0.45271   </td></tr><tr><td>The nature of life; a study in metaphysical analysis,            </td><td>0.45164   </td></tr><tr><td>Genetic theory of reality; being the outcome of genetic logi     </td><td>0.43997   </td></tr><tr><td>Dogs, birds & others, natural history letters from \"The Spec     </td><td>0.43629   </td></tr><tr><td>Bergson's doctrine of intuition; the Donnellan lectures for      </td><td>0.43503   </td></tr><tr><td>Progress of science in the century,                              </td><td>0.43501   </td></tr><tr><td>The principles of heredity with some applications,               </td><td>0.43431   </td></tr><tr><td>Philosophy of the unconscious.                                   </td><td>0.42858   </td></tr><tr><td>A realistic universe; an introd. to metaphysics.                 </td><td>0.42709   </td></tr><tr><td>The principles of pragmatism ; a philosophical interpretatio     </td><td>0.42698   </td></tr><tr><td>International Congress of Arts and Science.                      </td><td>0.42479   </td></tr><tr><td>A realistic universe; an introd. to metaphysics.                 </td><td>0.42400   </td></tr><tr><td>Journal of researches into the natural history and geology o     </td><td>0.42145   </td></tr><tr><td>A text-book in general zoology,                                  </td><td>0.41958   </td></tr><tr><td>The transition to an objective standard of social control ..     </td><td>0.41506   </td></tr><tr><td>Studies in Bergson's philosophy,                                 </td><td>0.41498   </td></tr><tr><td>Zoology; the study of animal life,                               </td><td>0.41414   </td></tr><tr><td>Some modern conceptions of natural law.                          </td><td>0.41314   </td></tr><tr><td>Education through nature study; foundations & methods.           </td><td>0.41082   </td></tr><tr><td>Evolutional ethics and animal psychology;                        </td><td>0.40458   </td></tr><tr><td>Psychological principles,                                        </td><td>0.40243   </td></tr><tr><td>Wild beasts; a study of the characters and habits of the ele     </td><td>0.40156   </td></tr><tr><td>The divine pedigree of man, or, The testimony of evolution a     </td><td>0.39940   </td></tr><tr><td>The divine pedigree of man, or, The testimony of evolution a     </td><td>0.38922   </td></tr><tr><td>The metaphysics of a naturalist; philosophical and psycholog     </td><td>0.38712   </td></tr><tr><td>Outlines of psychology, with special reference to the theory     </td><td>0.38318   </td></tr><tr><td>Psychology (course A).                                           </td><td>0.38273   </td></tr><tr><td>A dictionary of philosophical terms : chiefly from the Japan     </td><td>0.38075   </td></tr><tr><td>General physiology; an outline of the science of life,           </td><td>0.37961   </td></tr><tr><td>Outlines of psychology /                                         </td><td>0.37898   </td></tr><tr><td>The animal mind; a text-book of comparative psychology.          </td><td>0.37715   </td></tr><tr><td>A manual of psychology.                                          </td><td>0.37545   </td></tr><tr><td>Na Motu; or, reef-rovings in the South seas ...                  </td><td>0.36846   </td></tr><tr><td>A defence of idealism : some questions & conclusions /           </td><td>0.36750   </td></tr><tr><td>Mind in the lower animals, in health and disease,                </td><td>0.36652   </td></tr><tr><td>Psychology,                                                      </td><td>0.36429   </td></tr><tr><td>The animal mind; a text-book of comparative psychology.          </td><td>0.36344   </td></tr><tr><td>A defence of idealism;                                           </td><td>0.36287   </td></tr><tr><td>International Congress of Arts and Science.                      </td><td>0.35834   </td></tr><tr><td>International congress of arts and science,                      </td><td>0.35490   </td></tr><tr><td>Evolution.                                                       </td><td>0.35297   </td></tr><tr><td>The nature and development of animal intelligence,               </td><td>0.34609   </td></tr><tr><td>Evolution.                                                       </td><td>0.34441   </td></tr><tr><td>The social mind and education,                                   </td><td>0.34161   </td></tr><tr><td>The life of the plant,                                           </td><td>0.34001   </td></tr><tr><td>The essentials of philosophy /                                   </td><td>0.33979   </td></tr><tr><td>The prolongation of life: optimistic studies,                    </td><td>0.33656   </td></tr><tr><td>The evolution and function of living purposive matter,           </td><td>0.33016   </td></tr><tr><td>The art of creation; essays on the self and its powers,          </td><td>0.32930   </td></tr><tr><td>The evolution and function of living purposive matter,           </td><td>0.32455   </td></tr><tr><td>Herbart and Froebel: an attempt at synthesis,                    </td><td>0.32426   </td></tr><tr><td>The social mind and education ...                                </td><td>0.32191   </td></tr><tr><td>The social mind and education,                                   </td><td>0.31919   </td></tr><tr><td>Introduction to philosophy,                                      </td><td>0.31569   </td></tr><tr><td>The anatomy of knowledge; an essay in objective logic,           </td><td>0.31329   </td></tr><tr><td>Lectures on biology.                                             </td><td>0.31258   </td></tr><tr><td>Philosophy of the unconscious.                                   </td><td>0.31242   </td></tr><tr><td>On buds and stipules,                                            </td><td>0.31185   </td></tr><tr><td>Evolution in science, philosophy, and art. Popular lectures      </td><td>0.31149   </td></tr><tr><td>Psychologic foundations of education, an attempt to show the     </td><td>0.31091   </td></tr><tr><td>The problems of philosophy,                                      </td><td>0.31031   </td></tr><tr><td>The psychic factor; an outline of psychology,                    </td><td>0.30681   </td></tr><tr><td>Biology,                                                         </td><td>0.30668   </td></tr><tr><td>The aim and achievements of scientific method; an epistemolo     </td><td>0.30588   </td></tr><tr><td>Biology,                                                         </td><td>0.30437   </td></tr><tr><td>Enjoying life, and other literary remains of W. N. P. Barbel     </td><td>0.30325   </td></tr><tr><td>Public school methods /                                          </td><td>0.30074   </td></tr><tr><td>The diseases of personality /                                    </td><td>0.29881   </td></tr><tr><td>The logic of religion ...                                        </td><td>0.29840   </td></tr><tr><td>The transformations of the animal world;                         </td><td>0.29775   </td></tr></table>"
       ],
       "output_type": "pyout",
       "prompt_number": 17,
       "text": [
        "LabeledColumn([('Secrets of animal life,', 0.63954385160913918),\n",
        "       ('Comparative studies in the psychology of ants and of higher ', 0.63085298524150291),\n",
        "       ('The colours of animals, their meaning and use, especially co', 0.5533252507761629),\n",
        "       ..., ('Catalogue.', 1.4365011363559399e-07),\n",
        "       ('Catalogue.', 1.4050728815293745e-07),\n",
        "       ('General catalogue of the officers and graduates of the Unive', 1.194149386713481e-07)], \n",
        "      dtype=[('doc', '|S60'), ('value', '<f8')])"
       ]
      }
     ],
     "prompt_number": 17
    },
    {
     "cell_type": "heading",
     "level": 3,
     "metadata": {},
     "source": [
      "Documents related to the top 3 topics of <i>anthropomorphism</i>"
     ]
    },
    {
     "cell_type": "code",
     "collapsed": false,
     "input": [
      "v1.sim_top_doc([38, 16, 51], print_len=100, label_fn=htrc_label_fn_1315)"
     ],
     "language": "python",
     "metadata": {},
     "outputs": [
      {
       "html": [
        "<table style=\"margin: 0\"><tr><th style=\"text-align: center; background: #CEE3F6\" colspan\t\t        =\"2\">Topics: 38, 16, 51</th></tr><tr><th style=\"text-align: center; background: #EFF2FB; \">Document\t\t\t</th><th style=\"text-align: center; background: #EFF2FB; \">Prob\t\t\t</th></tr><tr><td>The riddle of the universe at the close of the nineteenth ce     </td><td>0.71840   </td></tr><tr><td>The riddle of the universe at the close of the nineteenth ce     </td><td>0.71690   </td></tr><tr><td>The riddle of the universe at the close of the nineteenth ce     </td><td>0.71233   </td></tr><tr><td>Studies in European philosophy,                                  </td><td>0.68027   </td></tr><tr><td>Bases of religious belief, historic and ideal; an outline of     </td><td>0.66175   </td></tr><tr><td>Last words on evolution; a popular retrospect and summary,       </td><td>0.65467   </td></tr><tr><td>Philosophy and Christianity. A series of lectures delivered      </td><td>0.63935   </td></tr><tr><td>The divine pedigree of man, or, The testimony of evolution a     </td><td>0.63880   </td></tr><tr><td>The divine pedigree of man, or, The testimony of evolution a     </td><td>0.62060   </td></tr><tr><td>History of the arguments for the existence of God /              </td><td>0.61710   </td></tr><tr><td>Is God knowable? /                                               </td><td>0.60147   </td></tr><tr><td>History of philosophy.                                           </td><td>0.59568   </td></tr><tr><td>The development of theology in Germany since Kant; and its p     </td><td>0.57918   </td></tr><tr><td>The development from Kant to Hegel, with chapters on the phi     </td><td>0.57734   </td></tr><tr><td>Agnosticism /                                                    </td><td>0.57523   </td></tr><tr><td>A critical history of philosophy.                                </td><td>0.56659   </td></tr><tr><td>The development of theology in Germany since Kant; and its p     </td><td>0.55030   </td></tr><tr><td>Personal idealism and mysticism,                                 </td><td>0.53811   </td></tr><tr><td>The idea of God; an inquiry concerning the practical content     </td><td>0.53770   </td></tr><tr><td>Evolution.                                                       </td><td>0.53396   </td></tr><tr><td>Kant and Spencer, a study of the fallacies of agnosticism,       </td><td>0.52940   </td></tr><tr><td>Kant and Spencer; a study of the fallacies of agnosticism,       </td><td>0.52256   </td></tr><tr><td>The metaphysics of education.                                    </td><td>0.52186   </td></tr><tr><td>Evolution.                                                       </td><td>0.51820   </td></tr><tr><td>Evolution, the master-key; a discussion of the principle of      </td><td>0.51551   </td></tr><tr><td>Philosophical realism,                                           </td><td>0.51030   </td></tr><tr><td>The rational, or scientific, ideal of morality; containing a     </td><td>0.50755   </td></tr><tr><td>Studies in the philosophy of religion and history /              </td><td>0.50336   </td></tr><tr><td>The spiritual interpretation of nature,                          </td><td>0.49710   </td></tr><tr><td>A Brief history of modern philosophy /                           </td><td>0.49581   </td></tr><tr><td>Modern French philosophy: a study of the development since C     </td><td>0.49128   </td></tr><tr><td>A history of philosophy /                                        </td><td>0.48975   </td></tr><tr><td>The spiritual interpretation of nature,                          </td><td>0.48921   </td></tr><tr><td>The germ-plasm : a theory of heredity /                          </td><td>0.48879   </td></tr><tr><td>An essay on the philosophy of self-consciousness : containin     </td><td>0.48659   </td></tr><tr><td>Evolution in science, philosophy, and art. Popular lectures      </td><td>0.48434   </td></tr><tr><td>A history of modern philosophy; a sketch of the history of p     </td><td>0.48278   </td></tr><tr><td>Problems in the relations of God and man,                        </td><td>0.47830   </td></tr><tr><td>Biology and its makers, with portraits and other illustratio     </td><td>0.47511   </td></tr><tr><td>The educational theories of Herbart and Froebel,                 </td><td>0.47241   </td></tr><tr><td>The educational theories of Herbart and Froebel,                 </td><td>0.47135   </td></tr><tr><td>The theology of the Reformed church in its fundamental princ     </td><td>0.46963   </td></tr><tr><td>Philosophy and theology, being the first Edinburgh universit     </td><td>0.46777   </td></tr><tr><td>Personality, human and divine.                                   </td><td>0.46762   </td></tr><tr><td>Ethics and revelation.                                           </td><td>0.46695   </td></tr><tr><td>The philosophy of religion; a critical and speculative treat     </td><td>0.46038   </td></tr><tr><td>Personality, human and divine ; being the Bampton lectures f     </td><td>0.45852   </td></tr><tr><td>Authority : the function of authority in life and its relati     </td><td>0.45573   </td></tr><tr><td>Personality, human and divine; being the Bampton lectures fo     </td><td>0.44908   </td></tr><tr><td>The realm of ends;                                               </td><td>0.44883   </td></tr><tr><td>The realm of ends; or, Pluralism and theism; the Gifford lec     </td><td>0.44724   </td></tr><tr><td>Religious beliefs of scientists, including one hundred hithe     </td><td>0.44668   </td></tr><tr><td>The non-religion of the future, a sociological study;            </td><td>0.44552   </td></tr><tr><td>A handbook of Christian apologetics,                             </td><td>0.44279   </td></tr><tr><td>Religion and philosophy /                                        </td><td>0.43857   </td></tr><tr><td>The psychic life of micro-organisms. A study in experimental     </td><td>0.43110   </td></tr><tr><td>The next step in evolution : the present step /                  </td><td>0.42970   </td></tr><tr><td>The psychic life of micro-organisms : a study in experimenta     </td><td>0.42515   </td></tr><tr><td>The principles of religious development; a psychological and     </td><td>0.41290   </td></tr><tr><td>Science and the human mind; a critical and historical accoun     </td><td>0.40783   </td></tr><tr><td>Philosophy of the unconscious.                                   </td><td>0.40710   </td></tr><tr><td>Divine transcendence and its reflection in religious authori     </td><td>0.40670   </td></tr><tr><td>Mind and brain; or, The correlations of consciousness and or     </td><td>0.40476   </td></tr><tr><td>Ethics of literature / y John A. Kersey.                         </td><td>0.40193   </td></tr><tr><td>The veil of Isis: a series of essays on idealism.                </td><td>0.40142   </td></tr><tr><td>Mind and brain; or, The correlations of consciousness and or     </td><td>0.40085   </td></tr><tr><td>Bergson and religion,                                            </td><td>0.40026   </td></tr><tr><td>The meaning and value of mysticism /                             </td><td>0.39730   </td></tr><tr><td>International Congress of Arts and Science.                      </td><td>0.39263   </td></tr><tr><td>Progress of science in the century,                              </td><td>0.39189   </td></tr><tr><td>The principles of heredity with some applications,               </td><td>0.39185   </td></tr><tr><td>Christian dogmatics.                                             </td><td>0.39048   </td></tr><tr><td>The next step in evolution; the present step.                    </td><td>0.38676   </td></tr><tr><td>General physiology; an outline of the science of life,           </td><td>0.38275   </td></tr><tr><td>A dictionary of philosophical terms : chiefly from the Japan     </td><td>0.38215   </td></tr><tr><td>A sketch of ancient philosophy from Thales to Cicero /           </td><td>0.37739   </td></tr><tr><td>A sketch of ancient philosophy from Thales to Cicero /           </td><td>0.37399   </td></tr><tr><td>Darwin and Hegel : with other philosophical studies /            </td><td>0.37395   </td></tr><tr><td>Life more abundant; scriptural truth in modern application,      </td><td>0.36393   </td></tr><tr><td>The meaning of God in human experience; a philosophic study      </td><td>0.36340   </td></tr><tr><td>The gospel and the modern man,                                   </td><td>0.36133   </td></tr><tr><td>A history of the problems of philosophy,                         </td><td>0.35994   </td></tr><tr><td>Introduction to philosophy,                                      </td><td>0.35934   </td></tr><tr><td>The mystic way; a psychological study in Christian origins,      </td><td>0.35883   </td></tr><tr><td>Herbart and Froebel: an attempt at synthesis,                    </td><td>0.35797   </td></tr><tr><td>The higher utilities of science ...                              </td><td>0.35454   </td></tr><tr><td>The soul; a study and an argument,                               </td><td>0.35273   </td></tr><tr><td>Group theories of religion and the individual.                   </td><td>0.35242   </td></tr><tr><td>Vico,                                                            </td><td>0.35183   </td></tr><tr><td>The life of reason; or, The phases of human progress,            </td><td>0.34946   </td></tr><tr><td>Natural and comparative religion. An inaugural lecture           </td><td>0.34856   </td></tr><tr><td>Hegel's educational ideas,                                       </td><td>0.33925   </td></tr><tr><td>A student's philosophy of religion.                              </td><td>0.33835   </td></tr><tr><td>David Hume and his influence on philosophy and theology,         </td><td>0.33345   </td></tr><tr><td>The significance of ancient religions in relation to human e     </td><td>0.33076   </td></tr><tr><td>Hegel's educational ideas,                                       </td><td>0.32475   </td></tr><tr><td>The churches and modern thought, an inquiry into the grounds     </td><td>0.32262   </td></tr><tr><td>The problem of religion /                                        </td><td>0.32005   </td></tr><tr><td>The tree of life; a study of religion,                           </td><td>0.31967   </td></tr><tr><td>Philosophy of the unconscious.                                   </td><td>0.31821   </td></tr></table>"
       ],
       "output_type": "pyout",
       "prompt_number": 18,
       "text": [
        "LabeledColumn([ ('The riddle of the universe at the close of the nineteenth ce', 0.71840148914886759),\n",
        "       ('The riddle of the universe at the close of the nineteenth ce', 0.71690456066222019),\n",
        "       ('The riddle of the universe at the close of the nineteenth ce', 0.71233349586876893),\n",
        "       ..., ('Cornell university, a history,', 1.1840686806182026e-07),\n",
        "       ('Current supplement to the catalogue of the public library of', 8.1295498265440307e-08),\n",
        "       (\"Printers' ink.\", 7.1033008453892135e-08)], \n",
        "      dtype=[('doc', '|S60'), ('value', '<f8')])"
       ]
      }
     ],
     "prompt_number": 18
    },
    {
     "cell_type": "heading",
     "level": 2,
     "metadata": {},
     "source": [
      "To improve the results, a subset of documents, the top documents related to Anthropomorphism, is trained on LDA Model. <br>\n",
      "Results on an 86-volume subset with book pages as contexts"
     ]
    },
    {
     "cell_type": "code",
     "collapsed": false,
     "input": [
      "c2 = Corpus.load('/var/inphosemantics/data/20130101/htrc-anthropomorphism-86/vsm-data/htrc-anthropomorphism-86-nltk-freq3.npz')\n",
      "m2 = LDAGibbs.load('/var/inphosemantics/data/20130101/htrc-anthropomorphism-86/vsm-data/htrc-anthropomorphism-86-nltk-freq3-LDA-K60-600.npz')\n",
      "v2 = LDAGibbsViewer(c2, m2)"
     ],
     "language": "python",
     "metadata": {},
     "outputs": [
      {
       "output_type": "stream",
       "stream": "stdout",
       "text": [
        "Loading corpus from /var/inphosemantics/data/20130101/htrc-anthropomorphism-86/vsm-data/htrc-anthropomorphism-86-nltk-freq3.npz\n",
        "Loading LDA-Gibbs data from"
       ]
      },
      {
       "output_type": "stream",
       "stream": "stdout",
       "text": [
        " /var/inphosemantics/data/20130101/htrc-anthropomorphism-86/vsm-data/htrc-anthropomorphism-86-nltk-freq3-LDA-K60-600.npz\n"
       ]
      }
     ],
     "prompt_number": 13
    },
    {
     "cell_type": "heading",
     "level": 3,
     "metadata": {},
     "source": [
      "Topics related to <i>anthropomorphism</i>"
     ]
    },
    {
     "cell_type": "code",
     "collapsed": false,
     "input": [
      "v2.sim_word_top('anthropomorphism')"
     ],
     "language": "python",
     "metadata": {},
     "outputs": [
      {
       "html": [
        "<table style=\"margin: 0\"><tr><th style=\"text-align: center; background: #CEE3F6\" colspan\t\t\t=\"11\">Sorted by Word Similarity</th></tr><tr><th style=\"text-align: center; background: #EFF2FB;\" \t\t\t\t\t>Topic</th><th style=\"text-align: center; background: #EFF2FB;\" \t\t\t\t\t>Words</th></tr><tr><td style=\"padding-left:0.75em;\">18</td><td> god, religion, evolution, religious, man, human, science, world, christian, belief                       </td></tr><tr><td style=\"padding-left:0.75em;\">3</td><td> mind, man, facts, life, evolution, instinct, subjective, instincts, organic, development                  </td></tr><tr><td style=\"padding-left:0.75em;\">1</td><td> animal, animals, may, stimulus, experience, would, instinct, reaction, one, stimuli                      </td></tr><tr><td style=\"padding-left:0.75em;\">51</td><td> sense, sensation, qualities, touch, perception, sensations, extension, sight, senses, us                           </td></tr></table>"
       ],
       "output_type": "pyout",
       "prompt_number": 14,
       "text": [
        "CompactTable([[('god', 0.020326874549248173), ('religion', 0.0158308869473332),\n",
        "        ('evolution', 0.012513064771221247), ...,\n",
        "        ('connected', 1.3542131331056879e-07),\n",
        "        ('laws', 1.3542131331056879e-07),\n",
        "        ('except', 1.3542131331056879e-07)],\n",
        "       [('mind', 0.021211168566072358), ('man', 0.012475673345860193),\n",
        "        ('facts', 0.010631803845785468), ...,\n",
        "        ('occasion', 1.3077088653000332e-07),\n",
        "        ('france', 1.3077088653000332e-07),\n",
        "        ('whilst', 1.3077088653000332e-07)],\n",
        "       [('animal', 0.02185593858383391), ('animals', 0.018415533918526711),\n",
        "        ('may', 0.013684977503729314), ...,\n",
        "        ('nevertheless', 1.5358949398678881e-07),\n",
        "        ('expressed', 1.5358949398678881e-07),\n",
        "        ('f', 1.5358949398678881e-07)],\n",
        "       [('sense', 0.019975305286265597),\n",
        "        ('sensation', 0.016892319795044481),\n",
        "        ('qualities', 0.015145294683352517), ...,\n",
        "        ('alteration', 1.2845772880076286e-07),\n",
        "        ('notions', 1.2845772880076286e-07),\n",
        "        ('longer', 1.2845772880076286e-07)]], \n",
        "      dtype=[('word', '|S27'), ('value', '<f8')])"
       ]
      }
     ],
     "prompt_number": 14
    },
    {
     "cell_type": "heading",
     "level": 3,
     "metadata": {},
     "source": [
      "Topics related to <i>anthropomorphism</i> in the context of <i>animal</i>."
     ]
    },
    {
     "cell_type": "code",
     "collapsed": false,
     "input": [
      "v2.sim_word_top(['anthropomorphism', 'animal'])"
     ],
     "language": "python",
     "metadata": {},
     "outputs": [
      {
       "html": [
        "<table style=\"margin: 0\"><tr><th style=\"text-align: center; background: #CEE3F6\" colspan\t\t\t=\"11\">Sorted by Word Similarity</th></tr><tr><th style=\"text-align: center; background: #EFF2FB;\" \t\t\t\t\t>Topic</th><th style=\"text-align: center; background: #EFF2FB;\" \t\t\t\t\t>Words</th></tr><tr><td style=\"padding-left:0.75em;\">1</td><td> animal, animals, may, stimulus, experience, would, instinct, reaction, one, stimuli                      </td></tr><tr><td style=\"padding-left:0.75em;\">47</td><td> animals, animal, upon, wild, man, many, one, among, food, elephant                     </td></tr><tr><td style=\"padding-left:0.75em;\">19</td><td> life, animal, nature, animals, living, may, one, every, form, forms                        </td></tr><tr><td style=\"padding-left:0.75em;\">37</td><td> water, body, food, animal, mouth, surface, may, small, eggs, fish                         </td></tr><tr><td style=\"padding-left:0.75em;\">59</td><td> animals, man, dog, language, certain, animal, dogs, may, lower, many                         </td></tr><tr><td style=\"padding-left:0.75em;\">34</td><td> light, eyes, animal, eye, one, movements, sense, food, smell, reaction                     </td></tr><tr><td style=\"padding-left:0.75em;\">42</td><td> animals, organs, hydra, fig, one, animal, class, worms, different, body                         </td></tr><tr><td style=\"padding-left:0.75em;\">20</td><td> nervous, brain, nerve, system, organs, movements, action, matter, nerves, cells                        </td></tr><tr><td style=\"padding-left:0.75em;\">52</td><td> theory, evolution, man, development, life, great, history, soul, first, century                      </td></tr><tr><td style=\"padding-left:0.75em;\">17</td><td> species, forms, animals, series, evolution, one, period, groups, great, fossil                       </td></tr><tr><td style=\"padding-left:0.75em;\">5</td><td> living, chemical, energy, substances, food, substance, acid, oxygen, matter, organic                      </td></tr><tr><td style=\"padding-left:0.75em;\">3</td><td> mind, man, facts, life, evolution, instinct, subjective, instincts, organic, development                  </td></tr><tr><td style=\"padding-left:0.75em;\">45</td><td> science, study, physiology, work, upon, may, one, knowledge, many, anatomy                      </td></tr><tr><td style=\"padding-left:0.75em;\">38</td><td> darwin, work, theory, evolution, natural, great, history, first, century, years                        </td></tr><tr><td style=\"padding-left:0.75em;\">11</td><td> cells, cell, nucleus, protoplasm, division, two, one, fig, egg, organisms                    </td></tr><tr><td style=\"padding-left:0.75em;\">26</td><td> fig, layer, two, primitive, embryo, intestinal, first, form, egg, cells                        </td></tr><tr><td style=\"padding-left:0.75em;\">13</td><td> man, human, animals, mammals, birds, apes, teeth, fig, bones, found                        </td></tr><tr><td style=\"padding-left:0.75em;\">44</td><td> p, 1, 2, 3, vol, f, c, ii, 4, 5                            </td></tr><tr><td style=\"padding-left:0.75em;\">54</td><td> one, consciousness, action, unconscious, act, conscious, desire, may, activity, volition                     </td></tr><tr><td style=\"padding-left:0.75em;\">9</td><td> cells, determinants, one, must, germ-plasm, may, cell, two, case, number                       </td></tr><tr><td style=\"padding-left:0.75em;\">33</td><td> general, one, objects, analysis, two, judgment, concepts, abstract, concept, class                        </td></tr><tr><td style=\"padding-left:0.75em;\">58</td><td> selection, species, evolution, may, variations, natural, characters, conditions, environment, would                        </td></tr><tr><td style=\"padding-left:0.75em;\">51</td><td> sense, sensation, qualities, touch, perception, sensations, extension, sight, senses, us                           </td></tr><tr><td style=\"padding-left:0.75em;\">18</td><td> god, religion, evolution, religious, man, human, science, world, christian, belief                       </td></tr><tr><td style=\"padding-left:0.75em;\">41</td><td> ants, nest, bees, birds, species, eggs, nests, ant, young, also                         </td></tr><tr><td style=\"padding-left:0.75em;\">23</td><td> one, day, would, time, could, two, little, first, long, like                         </td></tr><tr><td style=\"padding-left:0.75em;\">6</td><td> subfield, datafield, code, tag, ind2, ind1, controlfield, b, c, d                            </td></tr><tr><td style=\"padding-left:0.75em;\">55</td><td> object, perception, knowledge, mind, consciousness, reid, immediate, known, external, act                          </td></tr><tr><td style=\"padding-left:0.75em;\">8</td><td> years, time, one, life, period, age, many, old, much, may                          </td></tr></table>"
       ],
       "output_type": "pyout",
       "prompt_number": 15,
       "text": [
        "CompactTable([[('animal', 0.02185593858383391), ('animals', 0.018415533918526711),\n",
        "        ('may', 0.013684977503729314), ...,\n",
        "        ('nevertheless', 1.5358949398678881e-07),\n",
        "        ('expressed', 1.5358949398678881e-07),\n",
        "        ('f', 1.5358949398678881e-07)],\n",
        "       [('animals', 0.015462821705892592),\n",
        "        ('animal', 0.012306088286505283), ('upon', 0.0090601816066833065),\n",
        "        ..., ('poor', 1.7834652086917712e-07),\n",
        "        ('reversion', 1.7834652086917712e-07),\n",
        "        ('perfectly', 1.7834652086917712e-07)],\n",
        "       [('life', 0.027914431818059488), ('animal', 0.016025001638945678),\n",
        "        ('nature', 0.0140982560367968), ...,\n",
        "        ('based', 1.1748448793580035e-07),\n",
        "        ('pupil', 1.1748448793580035e-07), ('f', 1.1748448793580035e-07)],\n",
        "       ..., \n",
        "       [('subfield', 0.20399778184523087),\n",
        "        ('datafield', 0.10336695970746979), ('code', 0.10306807903856623),\n",
        "        ..., ('plants', 2.2990820684868533e-07),\n",
        "        ('used', 2.2990820684868533e-07), ('fact', 2.2990820684868533e-07)],\n",
        "       [('object', 0.025326347196026097),\n",
        "        ('perception', 0.022886616207497136),\n",
        "        ('knowledge', 0.022631414221249337), ...,\n",
        "        ('ask', 1.0208079449902685e-07),\n",
        "        ('thomas', 1.0208079449902685e-07),\n",
        "        ('support', 1.0208079449902685e-07)],\n",
        "       [('years', 0.014879488837380703), ('time', 0.01299806417531784),\n",
        "        ('one', 0.010654346596290961), ...,\n",
        "        ('edge', 1.0750998068920868e-07),\n",
        "        ('covered', 1.0750998068920868e-07),\n",
        "        ('white', 1.0750998068920868e-07)]], \n",
        "      dtype=[('word', '|S27'), ('value', '<f8')])"
       ]
      }
     ],
     "prompt_number": 15
    },
    {
     "cell_type": "heading",
     "level": 3,
     "metadata": {},
     "source": [
      "Pages related to the top topic of <i>anthropomorphism</i> and <i>animal</i>"
     ]
    },
    {
     "cell_type": "code",
     "collapsed": false,
     "input": [
      "v2.sim_top_doc(1, print_len=100, label_fn=htrc_label_fn_86)"
     ],
     "language": "python",
     "metadata": {},
     "outputs": [
      {
       "html": [
        "<table style=\"margin: 0\"><tr><th style=\"text-align: center; background: #CEE3F6\" colspan\t\t        =\"2\">Topics: 1</th></tr><tr><th style=\"text-align: center; background: #EFF2FB; \">Document\t\t\t</th><th style=\"text-align: center; background: #EFF2FB; \">Prob\t\t\t</th></tr><tr><td>The animal mind, uc2.ark+=13960=t5w66bs1h/00000043.txt                                        </td><td>1.00000   </td></tr><tr><td>The animal mind, uc2.ark+=13960=t7gq6st77/00000047.txt                                        </td><td>1.00000   </td></tr><tr><td>The animal mind, uc2.ark+=13960=t7gq6st77/00000016.txt                                        </td><td>0.99999   </td></tr><tr><td>The animal mind, uc2.ark+=13960=t7gq6st77/00000263.txt                                        </td><td>0.99993   </td></tr><tr><td>Mind in the low, uc2.ark+=13960=t59c6tb7t/00000179.txt                                        </td><td>0.99988   </td></tr><tr><td>The animal mind, uc2.ark+=13960=t5w66bs1h/00000219.txt                                        </td><td>0.99937   </td></tr><tr><td>The animal mind, uc2.ark+=13960=t7gq6st77/00000071.txt                                        </td><td>0.99893   </td></tr><tr><td>The animal mind, uc2.ark+=13960=t5w66bs1h/00000232.txt                                        </td><td>0.99887   </td></tr><tr><td>The animal mind, uc2.ark+=13960=t5w66bs1h/00000057.txt                                        </td><td>0.99778   </td></tr><tr><td>The animal mind, uc2.ark+=13960=t7gq6st77/00000048.txt                                        </td><td>0.99700   </td></tr><tr><td>The animal mind, uc2.ark+=13960=t5w66bs1h/00000072.txt                                        </td><td>0.99693   </td></tr><tr><td>The animal mind, uc2.ark+=13960=t7gq6st77/00000320.txt                                        </td><td>0.99693   </td></tr><tr><td>The animal mind, uc2.ark+=13960=t5w66bs1h/00000044.txt                                        </td><td>0.99438   </td></tr><tr><td>The animal mind, uc2.ark+=13960=t5w66bs1h/00000047.txt                                        </td><td>0.99394   </td></tr><tr><td>The animal mind, uc2.ark+=13960=t5w66bs1h/00000012.txt                                        </td><td>0.99313   </td></tr><tr><td>The animal mind, uc2.ark+=13960=t5w66bs1h/00000077.txt                                        </td><td>0.99313   </td></tr><tr><td>The animal mind, uc2.ark+=13960=t5w66bs1h/00000048.txt                                        </td><td>0.99200   </td></tr><tr><td>The animal mind, uc2.ark+=13960=t5w66bs1h/00000307.txt                                        </td><td>0.99156   </td></tr><tr><td>The animal mind, uc2.ark+=13960=t7gq6st77/00000339.txt                                        </td><td>0.99113   </td></tr><tr><td>The animal mind, uc2.ark+=13960=t5w66bs1h/00000284.txt                                        </td><td>0.99093   </td></tr><tr><td>The animal mind, uc2.ark+=13960=t5w66bs1h/00000302.txt                                        </td><td>0.99034   </td></tr><tr><td>The animal mind, uc2.ark+=13960=t7gq6st77/00000052.txt                                        </td><td>0.98970   </td></tr><tr><td>The animal mind, uc2.ark+=13960=t5w66bs1h/00000220.txt                                        </td><td>0.98870   </td></tr><tr><td>The animal mind, uc2.ark+=13960=t7gq6st77/00000306.txt                                        </td><td>0.98853   </td></tr><tr><td>The animal mind, uc2.ark+=13960=t7gq6st77/00000064.txt                                        </td><td>0.98827   </td></tr><tr><td>The animal mind, uc2.ark+=13960=t7gq6st77/00000054.txt                                        </td><td>0.98791   </td></tr><tr><td>The animal mind, uc2.ark+=13960=t7gq6st77/00000267.txt                                        </td><td>0.98732   </td></tr><tr><td>The animal mind, uc2.ark+=13960=t7gq6st77/00000268.txt                                        </td><td>0.98702   </td></tr><tr><td>The animal mind, uc2.ark+=13960=t5w66bs1h/00000051.txt                                        </td><td>0.98622   </td></tr><tr><td>The animal mind, uc2.ark+=13960=t7gq6st77/00000305.txt                                        </td><td>0.98619   </td></tr><tr><td>The animal mind, uc2.ark+=13960=t5w66bs1h/00000289.txt                                        </td><td>0.98473   </td></tr><tr><td>The animal mind, uc2.ark+=13960=t5w66bs1h/00000075.txt                                        </td><td>0.98317   </td></tr><tr><td>The animal mind, uc2.ark+=13960=t5w66bs1h/00000305.txt                                        </td><td>0.98186   </td></tr><tr><td>The animal mind, uc2.ark+=13960=t7gq6st77/00000264.txt                                        </td><td>0.98096   </td></tr><tr><td>The animal mind, uc2.ark+=13960=t7gq6st77/00000077.txt                                        </td><td>0.98060   </td></tr><tr><td>The animal mind, uc2.ark+=13960=t5w66bs1h/00000078.txt                                        </td><td>0.97992   </td></tr><tr><td>The animal mind, uc2.ark+=13960=t5w66bs1h/00000306.txt                                        </td><td>0.97903   </td></tr><tr><td>The animal mind, uc2.ark+=13960=t5w66bs1h/00000050.txt                                        </td><td>0.97858   </td></tr><tr><td>The animal mind, uc2.ark+=13960=t7gq6st77/00000078.txt                                        </td><td>0.97850   </td></tr><tr><td>The animal mind, uc2.ark+=13960=t7gq6st77/00000040.txt                                        </td><td>0.97820   </td></tr><tr><td>The animal mind, uc2.ark+=13960=t7gq6st77/00000335.txt                                        </td><td>0.97706   </td></tr><tr><td>The animal mind, uc2.ark+=13960=t5w66bs1h/00000288.txt                                        </td><td>0.97650   </td></tr><tr><td>The animal mind, uc2.ark+=13960=t5w66bs1h/00000251.txt                                        </td><td>0.97641   </td></tr><tr><td>The animal mind, uc2.ark+=13960=t7gq6st77/00000336.txt                                        </td><td>0.97481   </td></tr><tr><td>The animal mind, uc2.ark+=13960=t7gq6st77/00000341.txt                                        </td><td>0.97463   </td></tr><tr><td>The animal mind, uc2.ark+=13960=t5w66bs1h/00000221.txt                                        </td><td>0.97448   </td></tr><tr><td>The animal mind, uc2.ark+=13960=t7gq6st77/00000051.txt                                        </td><td>0.97263   </td></tr><tr><td>The animal mind, uc2.ark+=13960=t5w66bs1h/00000049.txt                                        </td><td>0.97234   </td></tr><tr><td>The animal mind, uc2.ark+=13960=t5w66bs1h/00000041.txt                                        </td><td>0.97194   </td></tr><tr><td>The animal mind, uc2.ark+=13960=t7gq6st77/00000074.txt                                        </td><td>0.97123   </td></tr><tr><td>The animal mind, uc2.ark+=13960=t7gq6st77/00000022.txt                                        </td><td>0.97040   </td></tr><tr><td>The animal mind, uc2.ark+=13960=t7gq6st77/00000322.txt                                        </td><td>0.97031   </td></tr><tr><td>The animal mind, uc2.ark+=13960=t7gq6st77/00000053.txt                                        </td><td>0.96857   </td></tr><tr><td>The animal mind, uc2.ark+=13960=t7gq6st77/00000065.txt                                        </td><td>0.96842   </td></tr><tr><td>The animal mind, uc2.ark+=13960=t5w66bs1h/00000231.txt                                        </td><td>0.96804   </td></tr><tr><td>The animal mind, uc2.ark+=13960=t5w66bs1h/00000163.txt                                        </td><td>0.96750   </td></tr><tr><td>The animal mind, uc2.ark+=13960=t5w66bs1h/00000069.txt                                        </td><td>0.96691   </td></tr><tr><td>The animal mind, uc2.ark+=13960=t5w66bs1h/00000046.txt                                        </td><td>0.96652   </td></tr><tr><td>General biology, uc2.ark+=13960=t0ht2h954/00000487.txt                                        </td><td>0.96431   </td></tr><tr><td>The animal mind, uc2.ark+=13960=t7gq6st77/00000045.txt                                        </td><td>0.96364   </td></tr><tr><td>The animal mind, uc2.ark+=13960=t5w66bs1h/00000059.txt                                        </td><td>0.96275   </td></tr><tr><td>The animal mind, uc2.ark+=13960=t7gq6st77/00000338.txt                                        </td><td>0.96273   </td></tr><tr><td>The animal mind, uc2.ark+=13960=t7gq6st77/00000321.txt                                        </td><td>0.96221   </td></tr><tr><td>The animal mind, uc2.ark+=13960=t5w66bs1h/00000076.txt                                        </td><td>0.96112   </td></tr><tr><td>The animal mind, uc2.ark+=13960=t7gq6st77/00000191.txt                                        </td><td>0.95726   </td></tr><tr><td>The animal mind, uc2.ark+=13960=t7gq6st77/00000063.txt                                        </td><td>0.95681   </td></tr><tr><td>The animal mind, uc2.ark+=13960=t7gq6st77/00000050.txt                                        </td><td>0.95478   </td></tr><tr><td>The animal mind, uc2.ark+=13960=t5w66bs1h/00000255.txt                                        </td><td>0.95437   </td></tr><tr><td>The animal mind, uc2.ark+=13960=t5w66bs1h/00000162.txt                                        </td><td>0.95326   </td></tr><tr><td>The animal mind, uc2.ark+=13960=t7gq6st77/00000190.txt                                        </td><td>0.94935   </td></tr><tr><td>The animal mind, uc2.ark+=13960=t5w66bs1h/00000303.txt                                        </td><td>0.94833   </td></tr><tr><td>The animal mind, uc2.ark+=13960=t5w66bs1h/00000058.txt                                        </td><td>0.94710   </td></tr><tr><td>General biology, uc2.ark+=13960=t0ht2h954/00000488.txt                                        </td><td>0.94587   </td></tr><tr><td>The animal mind, uc2.ark+=13960=t5w66bs1h/00000032.txt                                        </td><td>0.94539   </td></tr><tr><td>The animal mind, uc2.ark+=13960=t7gq6st77/00000056.txt                                        </td><td>0.94525   </td></tr><tr><td>The animal mind, uc2.ark+=13960=t7gq6st77/00000276.txt                                        </td><td>0.94447   </td></tr><tr><td>The animal mind, uc2.ark+=13960=t5w66bs1h/00000030.txt                                        </td><td>0.94390   </td></tr><tr><td>The animal mind, uc2.ark+=13960=t5w66bs1h/00000252.txt                                        </td><td>0.94263   </td></tr><tr><td>The animal mind, uc2.ark+=13960=t5w66bs1h/00000031.txt                                        </td><td>0.94186   </td></tr><tr><td>The animal mind, uc2.ark+=13960=t5w66bs1h/00000063.txt                                        </td><td>0.94182   </td></tr><tr><td>The animal mind, uc2.ark+=13960=t5w66bs1h/00000038.txt                                        </td><td>0.94132   </td></tr><tr><td>The animal mind, uc2.ark+=13960=t7gq6st77/00000042.txt                                        </td><td>0.93811   </td></tr><tr><td>The spiritual i, yale.39002088677183/00000332.txt                                             </td><td>0.93777   </td></tr><tr><td>The animal mind, uc2.ark+=13960=t5w66bs1h/00000293.txt                                        </td><td>0.93757   </td></tr><tr><td>The animal mind, uc2.ark+=13960=t7gq6st77/00000337.txt                                        </td><td>0.93681   </td></tr><tr><td>The animal mind, uc2.ark+=13960=t5w66bs1h/00000299.txt                                        </td><td>0.93596   </td></tr><tr><td>The animal mind, uc2.ark+=13960=t7gq6st77/00000049.txt                                        </td><td>0.93561   </td></tr><tr><td>The animal mind, uc2.ark+=13960=t7gq6st77/00000035.txt                                        </td><td>0.93553   </td></tr><tr><td>The animal mind, uc2.ark+=13960=t5w66bs1h/00000304.txt                                        </td><td>0.93502   </td></tr><tr><td>The animal mind, uc2.ark+=13960=t7gq6st77/00000269.txt                                        </td><td>0.93199   </td></tr><tr><td>The animal mind, uc2.ark+=13960=t7gq6st77/00000075.txt                                        </td><td>0.93189   </td></tr><tr><td>The animal mind, uc2.ark+=13960=t5w66bs1h/00000295.txt                                        </td><td>0.93137   </td></tr><tr><td>The animal mind, uc2.ark+=13960=t7gq6st77/00000340.txt                                        </td><td>0.93135   </td></tr><tr><td>The animal mind, uc2.ark+=13960=t7gq6st77/00000044.txt                                        </td><td>0.92629   </td></tr><tr><td>The animal mind, uc2.ark+=13960=t7gq6st77/00000084.txt                                        </td><td>0.92617   </td></tr><tr><td>The animal mind, uc2.ark+=13960=t5w66bs1h/00000035.txt                                        </td><td>0.92422   </td></tr><tr><td>The animal mind, uc2.ark+=13960=t5w66bs1h/00000018.txt                                        </td><td>0.92350   </td></tr><tr><td>The animal mind, uc2.ark+=13960=t7gq6st77/00000331.txt                                        </td><td>0.92342   </td></tr><tr><td>The animal mind, uc2.ark+=13960=t5w66bs1h/00000033.txt                                        </td><td>0.92270   </td></tr><tr><td>The animal mind, uc2.ark+=13960=t5w66bs1h/00000040.txt                                        </td><td>0.92171   </td></tr></table>"
       ],
       "output_type": "pyout",
       "prompt_number": 16,
       "text": [
        "LabeledColumn([ ('The animal mind, uc2.ark+=13960=t5w66bs1h/00000043.txt', 0.99999987063686924),\n",
        "       ('The animal mind, uc2.ark+=13960=t7gq6st77/00000047.txt', 0.99999985372029809),\n",
        "       ('The animal mind, uc2.ark+=13960=t7gq6st77/00000016.txt', 0.99999183694985294),\n",
        "       ...,\n",
        "       ('A history of th, uiuo.ark+=13960=t8tb11b3m/uiuo.ark+=13960=t8tb11b3m_metadata.json.pickle', 1.4004291058515119e-05),\n",
        "       ('Public school m, uc2.ark+=13960=t0js9wj9c/uc2.ark+=13960=t0js9wj9c_metadata.json.pickle', 1.2784785660870851e-05),\n",
        "       ('International C, uc2.ark+=13960=t1kh0hv1d/uc2.ark+=13960=t1kh0hv1d_metadata.json.pickle', 6.3478879602122565e-06)], \n",
        "      dtype=[('doc', '|S89'), ('value', '<f8')])"
       ]
      }
     ],
     "prompt_number": 16
    }
   ],
   "metadata": {}
  }
 ]
}