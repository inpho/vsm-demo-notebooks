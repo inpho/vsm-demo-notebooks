{
 "metadata": {
  "name": "500-billion-words"
 },
 "nbformat": 3,
 "nbformat_minor": 0,
 "worksheets": [
  {
   "cells": [
    {
     "cell_type": "heading",
     "level": 1,
     "metadata": {},
     "source": [
      "Using Multiple Models for Word Sense Disambiguation"
     ]
    },
    {
     "cell_type": "heading",
     "level": 3,
     "metadata": {},
     "source": [
      "<h4 style=\"color:#08298A;\">importing Beagle Composite model and corpus & LDA model and corpus</h4>"
     ]
    },
    {
     "cell_type": "code",
     "collapsed": false,
     "input": [
      "from vsm.corpus import Corpus\n",
      "from vsm.model.beaglecomposite import BeagleComposite\n",
      "from vsm.viewer.beagleviewer import BeagleViewer\n",
      "\n",
      "path = '/var/inphosemantics/data/20130101/sep/vsm-data/'\n",
      "beagle_c = Corpus.load(path + 'sep-nltk-jones-freq1.npz')\n",
      "beagle_m = BeagleComposite.load(path + 'sep-nltk-jones-freq1-beaglecomposite.npz')\n",
      "beagle_v = BeagleViewer(beagle_c, beagle_m)"
     ],
     "language": "python",
     "metadata": {},
     "outputs": [
      {
       "output_type": "stream",
       "stream": "stdout",
       "text": [
        "Loading corpus from /var/inphosemantics/data/20130101/sep/vsm-data/sep-nltk-jones-freq1.npz\n",
        "Loading model from"
       ]
      },
      {
       "output_type": "stream",
       "stream": "stdout",
       "text": [
        " /var/inphosemantics/data/20130101/sep/vsm-data/sep-nltk-jones-freq1-beaglecomposite.npz\n"
       ]
      }
     ],
     "prompt_number": 1
    },
    {
     "cell_type": "code",
     "collapsed": false,
     "input": [
      "from vsm.corpus import Corpus\n",
      "from vsm.model.ldacgsmulti import LdaCgsMulti as LCM\n",
      "from vsm.viewer.ldagibbsviewer import LDAGibbsViewer as LDAViewer\n",
      "\n",
      "lda_c = Corpus.load(path + 'sep-nltk-freq1.npz')\n",
      "lda_m = LCM.load(path + 'sep-nltk-freq1-LdaCgsMulti-K140-2000-chain2.model.npz')\n",
      "lda_v = LDAViewer(lda_c, lda_m)"
     ],
     "language": "python",
     "metadata": {},
     "outputs": [
      {
       "output_type": "stream",
       "stream": "stdout",
       "text": [
        "Loading corpus from /var/inphosemantics/data/20130101/sep/vsm-data/sep-nltk-freq1.npz\n",
        "Loading LdaCgsMulti data from"
       ]
      },
      {
       "output_type": "stream",
       "stream": "stdout",
       "text": [
        " /var/inphosemantics/data/20130101/sep/vsm-data/sep-nltk-freq1-LdaCgsMulti-K140-2000-chain2.model.npz\n"
       ]
      }
     ],
     "prompt_number": 2
    },
    {
     "cell_type": "heading",
     "level": 3,
     "metadata": {},
     "source": [
      "<h3 style=\"color:#08298A;\">Beagle Model word similarity</h3>\n"
     ]
    },
    {
     "cell_type": "code",
     "collapsed": false,
     "input": [
      "beagle_v.sim_word_word(['church', 'logic', 'catholic'], print_len=5)"
     ],
     "language": "python",
     "metadata": {},
     "outputs": [
      {
       "html": [
        "<table style=\"margin: 0\"><tr><th style=\"text-align: center; background: #CEE3F6\" colspan\t\t        =\"2\">Words: church, logic, catholic</th></tr><tr><th style=\"text-align: center; background: #EFF2FB; \">Word\t\t\t</th><th style=\"text-align: center; background: #EFF2FB; \">Cosine\t\t\t</th></tr><tr><td>church                                    </td><td>0.87180   </td></tr><tr><td>catholic                                  </td><td>0.80475   </td></tr><tr><td>logic                                     </td><td>0.68584   </td></tr><tr><td>christian                                 </td><td>0.68200   </td></tr><tr><td>traditional                               </td><td>0.67639   </td></tr></table>"
       ],
       "output_type": "pyout",
       "prompt_number": 3,
       "text": [
        "LabeledColumn([('church', 0.87180102520583691), ('catholic', 0.80474536195995683),\n",
        "       ('logic', 0.68584047651394031), ...,\n",
        "       ('hj*b*c1', -0.064318711763845279), ('wada', -0.069301116276542937),\n",
        "       ('n1x', -0.077462685409841373)], \n",
        "      dtype=[('word', '|S37'), ('value', '<f8')])"
       ]
      }
     ],
     "prompt_number": 3
    },
    {
     "cell_type": "heading",
     "level": 3,
     "metadata": {},
     "source": [
      "<h3 style=\"color:#08298A;\">LDA Model topics</h3>"
     ]
    },
    {
     "cell_type": "code",
     "collapsed": false,
     "input": [
      "# Takes top 5 words from beagle outputs 98 topics.\n",
      "# We take topics (cos > 0.05), 14 topics, for clustering.\n",
      "\n",
      "church5 = lda_v.sim_word_top(['church', 'logic', 'catholic', 'christian', 'traditional'])\n",
      "church5 = church5[:14]\n",
      "church5"
     ],
     "language": "python",
     "metadata": {},
     "outputs": [
      {
       "html": [
        "<table style=\"margin: 0\"><tr><th style=\"text-align: center; background: #CEE3F6\" colspan\t\t\t=\"11\">Sorted by Word Similarity</th></tr><tr><th style=\"text-align: center; background: #EFF2FB;\" \t\t\t\t\t>Topic</th><th style=\"text-align: center; background: #EFF2FB;\" \t\t\t\t\t>Words</th></tr><tr><td style=\"padding-left:0.75em;\">108</td><td> logic, p, logics, semantics, system, l, set, b, ph, d                                                                                                 </td></tr><tr><td style=\"padding-left:0.75em;\">64</td><td> logic, aristotle, true, modal, prior, premises, sentences, propositions, false, logical                                                                                           </td></tr><tr><td style=\"padding-left:0.75em;\">57</td><td> logic, reasoning, logical, default, problem, defeasible, ai, consequence, nonmonotonic, logics                                                                                            </td></tr><tr><td style=\"padding-left:0.75em;\">91</td><td> erasmus, de, church, christian, luther, bodin, pope, latin, machiavelli, ancient                                                                                           </td></tr><tr><td style=\"padding-left:0.75em;\">125</td><td> logic, b, rules, proof, linear, one, type, negation, dialogical, sorites                                                                                           </td></tr><tr><td style=\"padding-left:0.75em;\">72</td><td> mathematics, proof, godel, mathematical, logic, brouwer, hilbert, intuitionistic, arithmetic, theorem                                                                                           </td></tr><tr><td style=\"padding-left:0.75em;\">87</td><td> ph, logical, ps, logic, first-order, consequence, rules, f, sentence, tarski                                                                                            </td></tr><tr><td style=\"padding-left:0.75em;\">137</td><td> philosophy, mind, reality, individual, green, bradley, thought, logic, strawson, consciousness                                                                                     </td></tr><tr><td style=\"padding-left:0.75em;\">116</td><td> x, frege, f, y, algebra, logic, concept, g, principle, concepts                                                                                          </td></tr><tr><td style=\"padding-left:0.75em;\">60</td><td> object, brentano, husserl, psychology, objects, meinong, content, mental, logic, twardowski                                                                                        </td></tr><tr><td style=\"padding-left:0.75em;\">10</td><td> ockham, medieval, abelard, socrates, man, john, buridan, term, de, supposition                                                                                       </td></tr><tr><td style=\"padding-left:0.75em;\">139</td><td> bolzano, ideas, propositions, proposition, idea, wl, true, logical, logic, truth                                                                                             </td></tr><tr><td style=\"padding-left:0.75em;\">31</td><td> religious, religion, faith, god, belief, beliefs, believe, christian, kierkegaard, theistic                                                                                          </td></tr><tr><td style=\"padding-left:0.75em;\">102</td><td> aristotle, philosophy, commentary, works, commentaries, plato, greek, also, century, proclus                                                                                           </td></tr></table>"
       ],
       "output_type": "pyout",
       "prompt_number": 4,
       "text": [
        "CompactTable([[('logic', 0.056131793900038966), ('p', 0.01971859254717612),\n",
        "        ('logics', 0.015303746942498916), ...,\n",
        "        ('proposition', 1.8549771448101241e-07),\n",
        "        ('provides', 1.8549771448101241e-07),\n",
        "        ('conclusion', 1.854977144807488e-07)],\n",
        "       [('logic', 0.034143116690950381),\n",
        "        ('aristotle', 0.021817230110421731),\n",
        "        ('true', 0.017420997230033177), ...,\n",
        "        ('relation', 4.1086288601549642e-07),\n",
        "        ('world', 4.1086288601491255e-07), ('men', 4.1086288601491255e-07)],\n",
        "       [('logic', 0.037078406547061585),\n",
        "        ('reasoning', 0.032552474698309901),\n",
        "        ('logical', 0.01375245009580298), ...,\n",
        "        ('need', 5.8024767291305429e-07),\n",
        "        ('movement', 5.8024767291305429e-07),\n",
        "        ('addition', 5.8024767291222971e-07)],\n",
        "       ..., \n",
        "       [('bolzano', 0.081955868140206667), ('ideas', 0.028551180724011298),\n",
        "        ('propositions', 0.027996806806196123), ...,\n",
        "        ('feelings', 9.2395652968586897e-07),\n",
        "        ('done', 9.2395652968389941e-07),\n",
        "        ('character', 9.2395652968061695e-07)],\n",
        "       [('religious', 0.070119330114356282),\n",
        "        ('religion', 0.040234474022809698), ('faith', 0.0326760473848699),\n",
        "        ..., ('could', 3.8761162245479372e-07),\n",
        "        ('order', 3.8761162245479372e-07),\n",
        "        ('greater', 3.8761162245369204e-07)],\n",
        "       [('aristotle', 0.02838394025575338),\n",
        "        ('philosophy', 0.014673495552619913),\n",
        "        ('commentary', 0.012880846608384544), ...,\n",
        "        ('sciences', 3.319720267080645e-07),\n",
        "        ('instead', 3.319720267080645e-07),\n",
        "        ('thing', 3.319720267080645e-07)]], \n",
        "      dtype=[('word', '|S96'), ('value', '<f8')])"
       ]
      }
     ],
     "prompt_number": 4
    },
    {
     "cell_type": "heading",
     "level": 2,
     "metadata": {},
     "source": [
      "<h3>Cluster topics related to 'church'</h3>\n",
      "<h4 style=\"color:#08298A;\">Cluster topics into 2 clusters by K-means clustering algorithm.</h4>"
     ]
    },
    {
     "cell_type": "code",
     "collapsed": false,
     "input": [
      "# list of topic indices for clustering.\n",
      "chr5top = church5.first_cols[:14]\n",
      "chr5top = [int(t) for t in chr5top]\n"
     ],
     "language": "python",
     "metadata": {},
     "outputs": [],
     "prompt_number": 11
    },
    {
     "cell_type": "code",
     "collapsed": false,
     "input": [
      "cls = lda_v.cluster_topics(k_indices=chr5top, n_clusters=2)"
     ],
     "language": "python",
     "metadata": {},
     "outputs": [
      {
       "output_type": "stream",
       "stream": "stdout",
       "text": [
        "Initialization complete\n",
        "Iteration 0, inertia 16.6515228567\n",
        "Iteration 1, inertia 8.45328240922\n",
        "Converged to similar centers at iteration 1\n"
       ]
      }
     ],
     "prompt_number": 12
    },
    {
     "cell_type": "code",
     "collapsed": false,
     "input": [
      "lda_v.topics(k_indices=cls[0])"
     ],
     "language": "python",
     "metadata": {},
     "outputs": [
      {
       "html": [
        "<table style=\"margin: 0\"><tr><th style=\"text-align: center; background: #CEE3F6\" colspan\t\t\t=\"11\">Topics Sorted by Index</th></tr><tr><th style=\"text-align: center; background: #EFF2FB;\" \t\t\t\t\t>Topic</th><th style=\"text-align: center; background: #EFF2FB;\" \t\t\t\t\t>Words</th></tr><tr><td style=\"padding-left:0.75em;\">91</td><td> erasmus, de, church, christian, luther, bodin, pope, latin, machiavelli, ancient                                                                                           </td></tr><tr><td style=\"padding-left:0.75em;\">137</td><td> philosophy, mind, reality, individual, green, bradley, thought, logic, strawson, consciousness                                                                                     </td></tr><tr><td style=\"padding-left:0.75em;\">60</td><td> object, brentano, husserl, psychology, objects, meinong, content, mental, logic, twardowski                                                                                        </td></tr><tr><td style=\"padding-left:0.75em;\">10</td><td> ockham, medieval, abelard, socrates, man, john, buridan, term, de, supposition                                                                                       </td></tr><tr><td style=\"padding-left:0.75em;\">139</td><td> bolzano, ideas, propositions, proposition, idea, wl, true, logical, logic, truth                                                                                             </td></tr><tr><td style=\"padding-left:0.75em;\">31</td><td> religious, religion, faith, god, belief, beliefs, believe, christian, kierkegaard, theistic                                                                                          </td></tr><tr><td style=\"padding-left:0.75em;\">102</td><td> aristotle, philosophy, commentary, works, commentaries, plato, greek, also, century, proclus                                                                                           </td></tr></table>"
       ],
       "output_type": "pyout",
       "prompt_number": 13,
       "text": [
        "CompactTable([[('erasmus', 0.015032059192542961), ('de', 0.012712871377842327),\n",
        "        ('church', 0.010250523821493506), ...,\n",
        "        ('taken', 2.8631948329367285e-07),\n",
        "        ('felt', 2.8631948329367285e-07), ('place', 2.8631948329367285e-07)],\n",
        "       [('philosophy', 0.010918629423503693),\n",
        "        ('mind', 0.010350277983689524), ('reality', 0.0098118397775497825),\n",
        "        ..., ('contrary', 2.991323367406272e-07),\n",
        "        ('purpose', 2.9913233673807662e-07),\n",
        "        ('never', 2.9913233673722641e-07)],\n",
        "       [('object', 0.026957543038418061), ('brentano', 0.0227369886663151),\n",
        "        ('husserl', 0.020104814971885297), ...,\n",
        "        ('relevant', 4.5382305076205661e-07),\n",
        "        ('approach', 4.5382305076076674e-07),\n",
        "        ('classes', 4.5382305076076674e-07)],\n",
        "       ..., \n",
        "       [('bolzano', 0.081955868140206667), ('ideas', 0.028551180724011298),\n",
        "        ('propositions', 0.027996806806196123), ...,\n",
        "        ('feelings', 9.2395652968586897e-07),\n",
        "        ('done', 9.2395652968389941e-07),\n",
        "        ('character', 9.2395652968061695e-07)],\n",
        "       [('religious', 0.070119330114356282),\n",
        "        ('religion', 0.040234474022809698), ('faith', 0.0326760473848699),\n",
        "        ..., ('could', 3.8761162245479372e-07),\n",
        "        ('order', 3.8761162245479372e-07),\n",
        "        ('greater', 3.8761162245369204e-07)],\n",
        "       [('aristotle', 0.02838394025575338),\n",
        "        ('philosophy', 0.014673495552619913),\n",
        "        ('commentary', 0.012880846608384544), ...,\n",
        "        ('sciences', 3.319720267080645e-07),\n",
        "        ('instead', 3.319720267080645e-07),\n",
        "        ('thing', 3.319720267080645e-07)]], \n",
        "      dtype=[('word', '|S96'), ('value', '<f8')])"
       ]
      }
     ],
     "prompt_number": 13
    },
    {
     "cell_type": "code",
     "collapsed": false,
     "input": [
      "lda_v.topics(k_indices=cls[1])"
     ],
     "language": "python",
     "metadata": {},
     "outputs": [
      {
       "html": [
        "<table style=\"margin: 0\"><tr><th style=\"text-align: center; background: #CEE3F6\" colspan\t\t\t=\"11\">Topics Sorted by Index</th></tr><tr><th style=\"text-align: center; background: #EFF2FB;\" \t\t\t\t\t>Topic</th><th style=\"text-align: center; background: #EFF2FB;\" \t\t\t\t\t>Words</th></tr><tr><td style=\"padding-left:0.75em;\">108</td><td> logic, p, logics, semantics, system, l, set, b, ph, d                                                                                                 </td></tr><tr><td style=\"padding-left:0.75em;\">64</td><td> logic, aristotle, true, modal, prior, premises, sentences, propositions, false, logical                                                                                           </td></tr><tr><td style=\"padding-left:0.75em;\">57</td><td> logic, reasoning, logical, default, problem, defeasible, ai, consequence, nonmonotonic, logics                                                                                            </td></tr><tr><td style=\"padding-left:0.75em;\">125</td><td> logic, b, rules, proof, linear, one, type, negation, dialogical, sorites                                                                                           </td></tr><tr><td style=\"padding-left:0.75em;\">72</td><td> mathematics, proof, godel, mathematical, logic, brouwer, hilbert, intuitionistic, arithmetic, theorem                                                                                           </td></tr><tr><td style=\"padding-left:0.75em;\">87</td><td> ph, logical, ps, logic, first-order, consequence, rules, f, sentence, tarski                                                                                            </td></tr><tr><td style=\"padding-left:0.75em;\">116</td><td> x, frege, f, y, algebra, logic, concept, g, principle, concepts                                                                                          </td></tr></table>"
       ],
       "output_type": "pyout",
       "prompt_number": 14,
       "text": [
        "CompactTable([[('logic', 0.056131793900038966), ('p', 0.01971859254717612),\n",
        "        ('logics', 0.015303746942498916), ...,\n",
        "        ('proposition', 1.8549771448101241e-07),\n",
        "        ('provides', 1.8549771448101241e-07),\n",
        "        ('conclusion', 1.854977144807488e-07)],\n",
        "       [('logic', 0.034143116690950381),\n",
        "        ('aristotle', 0.021817230110421731),\n",
        "        ('true', 0.017420997230033177), ...,\n",
        "        ('relation', 4.1086288601549642e-07),\n",
        "        ('world', 4.1086288601491255e-07), ('men', 4.1086288601491255e-07)],\n",
        "       [('logic', 0.037078406547061585),\n",
        "        ('reasoning', 0.032552474698309901),\n",
        "        ('logical', 0.01375245009580298), ...,\n",
        "        ('need', 5.8024767291305429e-07),\n",
        "        ('movement', 5.8024767291305429e-07),\n",
        "        ('addition', 5.8024767291222971e-07)],\n",
        "       ..., \n",
        "       [('mathematics', 0.029478271464205275),\n",
        "        ('proof', 0.02130758672618107), ('godel', 0.02096112659594683),\n",
        "        ..., ('white', 2.8871677519411841e-07),\n",
        "        ('society', 2.8871677519370813e-07),\n",
        "        ('far', 2.8871677519350294e-07)],\n",
        "       [('ph', 0.050690601800564075), ('logical', 0.028842189558411498),\n",
        "        ('ps', 0.019837718404218909), ...,\n",
        "        ('makes', 4.5707975401691442e-07), ('way', 4.5707975401626485e-07),\n",
        "        ('second', 4.5707975401561534e-07)],\n",
        "       [('x', 0.046668385769634169), ('frege', 0.023965017192278937),\n",
        "        ('f', 0.022598610750123298), ...,\n",
        "        ('third', 3.5036062619094549e-07), ('way', 3.5036062619044759e-07),\n",
        "        ('k', 3.503606261894518e-07)]], \n",
        "      dtype=[('word', '|S96'), ('value', '<f8')])"
       ]
      }
     ],
     "prompt_number": 14
    },
    {
     "cell_type": "heading",
     "level": 4,
     "metadata": {},
     "source": [
      "After clustering, run sim_top_doc on cls[0] and cls[1] to see the documents related to the clustered topics."
     ]
    },
    {
     "cell_type": "heading",
     "level": 2,
     "metadata": {},
     "source": [
      "Documents related to topic cluster"
     ]
    },
    {
     "cell_type": "code",
     "collapsed": false,
     "input": [
      "lda_v.sim_top_doc(cls[0])"
     ],
     "language": "python",
     "metadata": {},
     "outputs": [
      {
       "html": [
        "<table style=\"margin: 0\"><tr><th style=\"text-align: center; background: #CEE3F6\" colspan\t\t        =\"2\">Topics: 91, 137, 60, 10, 139, 31, 102</th></tr><tr><th style=\"text-align: center; background: #EFF2FB; \">Document\t\t\t</th><th style=\"text-align: center; background: #EFF2FB; \">Prob\t\t\t</th></tr><tr><td>medieval-philosophy.txt                     </td><td>0.42745   </td></tr><tr><td>medieval-literary.txt                       </td><td>0.38476   </td></tr><tr><td>john-salisbury.txt                          </td><td>0.37803   </td></tr><tr><td>arabic-islamic-greek.txt                    </td><td>0.36783   </td></tr><tr><td>twardowski.txt                              </td><td>0.36639   </td></tr><tr><td>aristotle-commentators.txt                  </td><td>0.36263   </td></tr><tr><td>medieval-political.txt                      </td><td>0.36158   </td></tr><tr><td>bolzano-logic.txt                           </td><td>0.35956   </td></tr><tr><td>bolzano.txt                                 </td><td>0.35946   </td></tr><tr><td>byzantine-philosophy.txt                    </td><td>0.35559   </td></tr></table>"
       ],
       "output_type": "pyout",
       "prompt_number": 15,
       "text": [
        "LabeledColumn([('medieval-philosophy.txt', 0.4274532310707575),\n",
        "       ('medieval-literary.txt', 0.38475995349642556),\n",
        "       ('john-salisbury.txt', 0.37803320861488754), ...,\n",
        "       ('game-theory.txt', 2.9329848584083898e-06),\n",
        "       ('mill-moral-political.txt', 2.8002192429922805e-06),\n",
        "       ('aesthetics-18th-german.txt', 2.4870713719033648e-06)], \n",
        "      dtype=[('doc', '|S39'), ('value', '<f8')])"
       ]
      }
     ],
     "prompt_number": 15
    },
    {
     "cell_type": "code",
     "collapsed": false,
     "input": [
      "lda_v.sim_top_doc(cls[1])"
     ],
     "language": "python",
     "metadata": {},
     "outputs": [
      {
       "html": [
        "<table style=\"margin: 0\"><tr><th style=\"text-align: center; background: #CEE3F6\" colspan\t\t        =\"2\">Topics: 108, 64, 57, 125, 72, 87, 116</th></tr><tr><th style=\"text-align: center; background: #EFF2FB; \">Document\t\t\t</th><th style=\"text-align: center; background: #EFF2FB; \">Prob\t\t\t</th></tr><tr><td>logic-paraconsistent.txt                    </td><td>0.58830   </td></tr><tr><td>logic-combining.txt                         </td><td>0.52606   </td></tr><tr><td>logic-connexive.txt                         </td><td>0.51853   </td></tr><tr><td>logic-provability.txt                       </td><td>0.50545   </td></tr><tr><td>logic-relevance.txt                         </td><td>0.50103   </td></tr><tr><td>logic-dialogical.txt                        </td><td>0.47457   </td></tr><tr><td>logic-manyvalued.txt                        </td><td>0.46975   </td></tr><tr><td>logic-linear.txt                            </td><td>0.46927   </td></tr><tr><td>algebra-logic-tradition.txt                 </td><td>0.46409   </td></tr><tr><td>logic-action.txt                            </td><td>0.46192   </td></tr></table>"
       ],
       "output_type": "pyout",
       "prompt_number": 16,
       "text": [
        "LabeledColumn([('logic-paraconsistent.txt', 0.5882973861337587),\n",
        "       ('logic-combining.txt', 0.52606277829291426),\n",
        "       ('logic-connexive.txt', 0.51853469972981925), ...,\n",
        "       ('consciousness-temporal.txt', 2.7069355712878606e-06),\n",
        "       ('erasmus.txt', 2.6812398607926246e-06),\n",
        "       ('aesthetics-18th-german.txt', 2.4870713719042482e-06)], \n",
        "      dtype=[('doc', '|S39'), ('value', '<f8')])"
       ]
      }
     ],
     "prompt_number": 16
    }
   ],
   "metadata": {}
  }
 ]
}