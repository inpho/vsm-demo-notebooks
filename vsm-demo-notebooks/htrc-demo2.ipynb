{
 "metadata": {
  "name": "htrc-demo2"
 },
 "nbformat": 3,
 "nbformat_minor": 0,
 "worksheets": [
  {
   "cells": [
    {
     "cell_type": "heading",
     "level": 1,
     "metadata": {},
     "source": [
      "Results on a 1315-volume selection from the HTRC with books as contexts"
     ]
    },
    {
     "cell_type": "code",
     "collapsed": false,
     "input": [
      "from vsm.corpus import Corpus\n",
      "from vsm.model.ldagibbs import LDAGibbs\n",
      "from vsm.viewer.ldagibbsviewer import LDAGibbsViewer\n",
      "from extensions.htrc import htrc_label_fn_1315, htrc_label_fn_86\n",
      "\n",
      "c = Corpus.load('/var/inphosemantics/data/20130101/htrc-anthropomorphism-1315/vsm-data/hathi-1315-nltk-freq3.npz')\n",
      "m = LDAGibbs.load('/var/inphosemantics/data/20130101/htrc-anthropomorphism-1315/vsm-data/hathi-1315-nltk-freq3-LDA-K60-600.npz')\n",
      "v = LDAGibbsViewer(c, m)"
     ],
     "language": "python",
     "metadata": {},
     "outputs": [
      {
       "output_type": "stream",
       "stream": "stdout",
       "text": [
        "Loading corpus from /var/inphosemantics/data/20130101/htrc-anthropomorphism-1315/vsm-data/hathi-1315-nltk-freq3.npz\n",
        "Loading LDA-Gibbs data from"
       ]
      },
      {
       "output_type": "stream",
       "stream": "stdout",
       "text": [
        " /var/inphosemantics/data/20130101/htrc-anthropomorphism-1315/vsm-data/hathi-1315-nltk-freq3-LDA-K60-600.npz\n"
       ]
      }
     ],
     "prompt_number": 46
    },
    {
     "cell_type": "heading",
     "level": 2,
     "metadata": {},
     "source": [
      "Clustering topics "
     ]
    },
    {
     "cell_type": "markdown",
     "metadata": {},
     "source": [
      "The model contains 60 topics, some of them are related to each other. So we first try to cluster."
     ]
    },
    {
     "cell_type": "code",
     "collapsed": false,
     "input": [
      "allcls = v.cluster_topics(method='affinity')"
     ],
     "language": "python",
     "metadata": {},
     "outputs": [],
     "prompt_number": 47
    },
    {
     "cell_type": "code",
     "collapsed": false,
     "input": [
      "# 10 clusters are finded\n",
      "len(allcls)"
     ],
     "language": "python",
     "metadata": {},
     "outputs": [
      {
       "output_type": "pyout",
       "png": "[encoded data removed]",
       "prompt_number": 93,
       "text": [
        "10"
       ]
      }
     ],
     "prompt_number": 93
    },
    {
     "cell_type": "code",
     "collapsed": false,
     "input": [
      "v.topics(k_indices=allcls[6]) # this looks like biology-related topics"
     ],
     "language": "python",
     "metadata": {},
     "outputs": [
      {
       "html": [
        "<table style=\"margin: 0\"><tr><th style=\"text-align: center; background: #CEE3F6\" colspan\t\t\t=\"11\">Topics Sorted by Index</th></tr><tr><th style=\"text-align: center; background: #EFF2FB;\" \t\t\t\t\t>Topic</th><th style=\"text-align: center; background: #EFF2FB;\" \t\t\t\t\t>Words</th></tr><tr><td style=\"padding-left:0.75em;\">4</td><td> acid, water, body, action, blood, food, alcohol, air, substances, work                                      </td></tr><tr><td style=\"padding-left:0.75em;\">10</td><td> animals, water, animal, food, birds, one, leaves, insects, species, many                                      </td></tr><tr><td style=\"padding-left:0.75em;\">16</td><td> animals, evolution, life, animal, development, man, species, cells, living, theory                                    </td></tr><tr><td style=\"padding-left:0.75em;\">29</td><td> fig, two, body, form, cells, animals, first, ii, side, organs                                    </td></tr><tr><td style=\"padding-left:0.75em;\">42</td><td> light, eye, two, eyes, visual, fig, vision, red, distance, movement                                  </td></tr><tr><td style=\"padding-left:0.75em;\">45</td><td> brain, nerve, fibres, nervous, motor, nerves, sensory, cord, cells, spinal                                    </td></tr></table>"
       ],
       "output_type": "pyout",
       "prompt_number": 48,
       "text": [
        "\n",
        "------------------------------------------------------------------------------\n",
        "                                                                              \n",
        "------------------------------------------------------------------------------\n",
        "Topic     Words                                                               \n",
        "------------------------------------------------------------------------------\n",
        "  4       acid                                      water                     \n",
        "  10      animals                                   water                     \n",
        "  16      animals                                   evolution                 \n",
        "  29      fig                                       two                       \n",
        "  42      light                                     eye                       \n",
        "  45      brain                                     nerve                     \n",
        "\n",
        "------------------------------------------------------------------------------\n",
        "                                                                              \n",
        "------------------------------------------------------------------------------\n",
        "                                                                              \n",
        "------------------------------------------------------------------------------\n",
        "                body                                      action              \n",
        "                animal                                    food                \n",
        "                life                                      animal              \n",
        "                body                                      form                \n",
        "                two                                       eyes                \n",
        "                fibres                                    nervous             \n",
        "\n",
        "------------------------------------------------------------------------------\n",
        "                                                Topics Sorted by Index        \n",
        "------------------------------------------------------------------------------\n",
        "                                                                              \n",
        "------------------------------------------------------------------------------\n",
        "                      blood                                     food          \n",
        "                      birds                                     one           \n",
        "                      development                               man           \n",
        "                      cells                                     animals       \n",
        "                      visual                                    fig           \n",
        "                      motor                                     nerves        \n",
        "\n",
        "------------------------------------------------------------------------------\n",
        "                                                                              \n",
        "------------------------------------------------------------------------------\n",
        "                                                                              \n",
        "------------------------------------------------------------------------------\n",
        "                            alcohol                                   air     \n",
        "                            leaves                                    insects \n",
        "                            species                                   cells   \n",
        "                            first                                     ii      \n",
        "                            vision                                    red     \n",
        "                            sensory                                   cord    \n",
        "\n",
        "------------------------------------------------------------------------------\n",
        "                                                                              \n",
        "------------------------------------------------------------------------------\n",
        "                                                                              \n",
        "------------------------------------------------------------------------------\n",
        "                                  substances                                wo\n",
        "                                  species                                   ma\n",
        "                                  living                                    th\n",
        "                                  side                                      or\n",
        "                                  distance                                  mo\n",
        "                                  cells                                     sp\n",
        "\n",
        "----------------------------------------\n",
        "                                        \n",
        "----------------------------------------\n",
        "                                        \n",
        "----------------------------------------\n",
        "rk                                      \n",
        "ny                                      \n",
        "eory                                    \n",
        "gans                                    \n",
        "vement                                  \n",
        "inal                                    "
       ]
      }
     ],
     "prompt_number": 48
    },
    {
     "cell_type": "code",
     "collapsed": false,
     "input": [
      "v.topics(k_indices=allcls[1]) # psychology / philosophy of mind"
     ],
     "language": "python",
     "metadata": {},
     "outputs": [
      {
       "html": [
        "<table style=\"margin: 0\"><tr><th style=\"text-align: center; background: #CEE3F6\" colspan\t\t\t=\"11\">Topics Sorted by Index</th></tr><tr><th style=\"text-align: center; background: #EFF2FB;\" \t\t\t\t\t>Topic</th><th style=\"text-align: center; background: #EFF2FB;\" \t\t\t\t\t>Words</th></tr><tr><td style=\"padding-left:0.75em;\">8</td><td> mind, consciousness, knowledge, object, perception, sense, mental, external, ideas, phenomena                                 </td></tr><tr><td style=\"padding-left:0.75em;\">25</td><td> nature, ii, us, mr, without, life, human, natural, language, every                                     </td></tr><tr><td style=\"padding-left:0.75em;\">26</td><td> consciousness, experience, p, psychology, process, individual, object, activity, relation, feeling                                   </td></tr><tr><td style=\"padding-left:0.75em;\">33</td><td> tlie, may, logic, proposition, terms, term, reasoning, meaning, propositions, argument                                  </td></tr><tr><td style=\"padding-left:0.75em;\">51</td><td> philosophy, nature, knowledge, world, thought, idea, things, reason, truth, science                                   </td></tr></table>"
       ],
       "output_type": "pyout",
       "prompt_number": 56,
       "text": [
        "\n",
        "------------------------------------------------------------------------------\n",
        "                                                                              \n",
        "------------------------------------------------------------------------------\n",
        "Topic     Words                                                               \n",
        "------------------------------------------------------------------------------\n",
        "  8       mind                                      consciousness             \n",
        "  25      nature                                    ii                        \n",
        "  26      consciousness                             experience                \n",
        "  33      tlie                                      may                       \n",
        "  51      philosophy                                nature                    \n",
        "\n",
        "------------------------------------------------------------------------------\n",
        "                                                                              \n",
        "------------------------------------------------------------------------------\n",
        "                                                                              \n",
        "------------------------------------------------------------------------------\n",
        "                knowledge                                 object              \n",
        "                us                                        mr                  \n",
        "                p                                         psychology          \n",
        "                logic                                     proposition         \n",
        "                knowledge                                 world               \n",
        "\n",
        "------------------------------------------------------------------------------\n",
        "                                                Topics Sorted by Index        \n",
        "------------------------------------------------------------------------------\n",
        "                                                                              \n",
        "------------------------------------------------------------------------------\n",
        "                      perception                                sense         \n",
        "                      without                                   life          \n",
        "                      process                                   individual    \n",
        "                      terms                                     term          \n",
        "                      thought                                   idea          \n",
        "\n",
        "------------------------------------------------------------------------------\n",
        "                                                                              \n",
        "------------------------------------------------------------------------------\n",
        "                                                                              \n",
        "------------------------------------------------------------------------------\n",
        "                            mental                                    external\n",
        "                            human                                     natural \n",
        "                            object                                    activity\n",
        "                            reasoning                                 meaning \n",
        "                            things                                    reason  \n",
        "\n",
        "------------------------------------------------------------------------------\n",
        "                                                                              \n",
        "------------------------------------------------------------------------------\n",
        "                                                                              \n",
        "------------------------------------------------------------------------------\n",
        "                                  ideas                                     ph\n",
        "                                  language                                  ev\n",
        "                                  relation                                  fe\n",
        "                                  propositions                              ar\n",
        "                                  truth                                     sc\n",
        "\n",
        "----------------------------------------\n",
        "                                        \n",
        "----------------------------------------\n",
        "                                        \n",
        "----------------------------------------\n",
        "enomena                                 \n",
        "ery                                     \n",
        "eling                                   \n",
        "gument                                  \n",
        "ience                                   "
       ]
      }
     ],
     "prompt_number": 56
    },
    {
     "cell_type": "heading",
     "level": 2,
     "metadata": {},
     "source": [
      "Exploring documents"
     ]
    },
    {
     "cell_type": "markdown",
     "metadata": {},
     "source": [
      "Suppose we are interested in books on biology"
     ]
    },
    {
     "cell_type": "code",
     "collapsed": false,
     "input": [
      "v.sim_top_doc(allcls[6], print_len=20, label_fn=htrc_label_fn_1315)"
     ],
     "language": "python",
     "metadata": {},
     "outputs": [
      {
       "html": [
        "<table style=\"margin: 0\"><tr><th style=\"text-align: center; background: #CEE3F6\" colspan\t\t        =\"2\">Topics: 4, 10, 16, 29, 42, 45</th></tr><tr><th style=\"text-align: center; background: #EFF2FB; \">Document\t\t\t</th><th style=\"text-align: center; background: #EFF2FB; \">Prob\t\t\t</th></tr><tr><td>General biology; a book of outlines and practical studies fo     </td><td>0.71013   </td></tr><tr><td>Outlines of lectures on physiology, with an introductory cha     </td><td>0.69593   </td></tr><tr><td>Syllabus of a course of lectures on physiology delivered at      </td><td>0.67826   </td></tr><tr><td>Biology,                                                         </td><td>0.67021   </td></tr><tr><td>Biology,                                                         </td><td>0.66516   </td></tr><tr><td>A text-book of comparative physiology for students and pract     </td><td>0.66001   </td></tr><tr><td>General zoology,                                                 </td><td>0.65129   </td></tr><tr><td>A syllabus of elementary physiology, with references and lab     </td><td>0.64446   </td></tr><tr><td>The human species considered from the standpoints of compara     </td><td>0.62256   </td></tr><tr><td>A text-book in general zoology,                                  </td><td>0.62091   </td></tr><tr><td>Zoology; the study of animal life,                               </td><td>0.59911   </td></tr><tr><td>The psychic life of micro-organisms. A study in experimental     </td><td>0.58173   </td></tr><tr><td>The evolution and function of living purposive matter,           </td><td>0.57670   </td></tr><tr><td>The psychic life of micro-organisms : a study in experimenta     </td><td>0.57583   </td></tr><tr><td>The physiology of the senses,                                    </td><td>0.57540   </td></tr><tr><td>General physiology; an outline of the science of life,           </td><td>0.57298   </td></tr><tr><td>The physiology of the senses,                                    </td><td>0.57298   </td></tr><tr><td>The evolution and function of living purposive matter,           </td><td>0.56149   </td></tr><tr><td>On buds and stipules,                                            </td><td>0.55497   </td></tr><tr><td>Evolution and disease.                                           </td><td>0.54675   </td></tr></table>"
       ],
       "output_type": "pyout",
       "prompt_number": 61,
       "text": [
        "\n",
        "---------------------------------------------------------------------------\n",
        "                       Topics: 4, 10, 16, 29, 42, 45                       \n",
        "---------------------------------------------------------------------------\n",
        "Document                                                         Prob      \n",
        "---------------------------------------------------------------------------\n",
        "General biology; a book of outlines and practical studies fo     0.71013   \n",
        "Outlines of lectures on physiology, with an introductory cha     0.69593   \n",
        "Syllabus of a course of lectures on physiology delivered at      0.67826   \n",
        "Biology,                                                         0.67021   \n",
        "Biology,                                                         0.66516   \n",
        "A text-book of comparative physiology for students and pract     0.66001   \n",
        "General zoology,                                                 0.65129   \n",
        "A syllabus of elementary physiology, with references and lab     0.64446   \n",
        "The human species considered from the standpoints of compara     0.62256   \n",
        "A text-book in general zoology,                                  0.62091   \n",
        "Zoology; the study of animal life,                               0.59911   \n",
        "The psychic life of micro-organisms. A study in experimental     0.58173   \n",
        "The evolution and function of living purposive matter,           0.57670   \n",
        "The psychic life of micro-organisms : a study in experimenta     0.57583   \n",
        "The physiology of the senses,                                    0.57540   \n",
        "General physiology; an outline of the science of life,           0.57298   \n",
        "The physiology of the senses,                                    0.57298   \n",
        "The evolution and function of living purposive matter,           0.56149   \n",
        "On buds and stipules,                                            0.55497   \n",
        "Evolution and disease.                                           0.54675   "
       ]
      }
     ],
     "prompt_number": 61
    },
    {
     "cell_type": "markdown",
     "metadata": {},
     "source": [
      "Likewise, books on psychology / phil. of mind"
     ]
    },
    {
     "cell_type": "code",
     "collapsed": false,
     "input": [
      "v.sim_top_doc(allcls[1], print_len=20, label_fn=htrc_label_fn_1315)"
     ],
     "language": "python",
     "metadata": {},
     "outputs": [
      {
       "html": [
        "<table style=\"margin: 0\"><tr><th style=\"text-align: center; background: #CEE3F6\" colspan\t\t        =\"2\">Topics: 8, 25, 26, 33, 51</th></tr><tr><th style=\"text-align: center; background: #EFF2FB; \">Document\t\t\t</th><th style=\"text-align: center; background: #EFF2FB; \">Prob\t\t\t</th></tr><tr><td>Psychology: empirical and rational.                              </td><td>0.67075   </td></tr><tr><td>Psychology: empirical and rational.                              </td><td>0.64318   </td></tr><tr><td>The veil of Isis: a series of essays on idealism.                </td><td>0.63560   </td></tr><tr><td>Selections from Berkeley, with an introduction and notes for     </td><td>0.61921   </td></tr><tr><td>A history of the problems of philosophy,                         </td><td>0.60938   </td></tr><tr><td>The anatomy of knowledge; an essay in objective logic,           </td><td>0.60566   </td></tr><tr><td>Mind and brain; or, The correlations of consciousness and or     </td><td>0.60135   </td></tr><tr><td>Selections from Berkeley, annotated. An introduction to the      </td><td>0.60100   </td></tr><tr><td>Mind and brain; or, The correlations of consciousness and or     </td><td>0.59688   </td></tr><tr><td>Studies in Bergson's philosophy,                                 </td><td>0.58767   </td></tr><tr><td>The principles of knowledge, with remarks on the nature of r     </td><td>0.58580   </td></tr><tr><td>History of philosophy.                                           </td><td>0.58242   </td></tr><tr><td>Locke on words. An essay concerning human understanding,         </td><td>0.57243   </td></tr><tr><td>Pragmatism and the problem of the idea,                          </td><td>0.56865   </td></tr><tr><td>Some modern conceptions of natural law.                          </td><td>0.56052   </td></tr><tr><td>A student's handbook of psychology and ethics : designed chi     </td><td>0.56030   </td></tr><tr><td>The essentials of philosophy /                                   </td><td>0.55404   </td></tr><tr><td>Elements of psychology: included in a critical examination o     </td><td>0.55279   </td></tr><tr><td>Philosophical realism,                                           </td><td>0.55098   </td></tr><tr><td>Bergson's doctrine of intuition; the Donnellan lectures for      </td><td>0.54761   </td></tr></table>"
       ],
       "output_type": "pyout",
       "prompt_number": 62,
       "text": [
        "\n",
        "---------------------------------------------------------------------------\n",
        "                         Topics: 8, 25, 26, 33, 51                         \n",
        "---------------------------------------------------------------------------\n",
        "Document                                                         Prob      \n",
        "---------------------------------------------------------------------------\n",
        "Psychology: empirical and rational.                              0.67075   \n",
        "Psychology: empirical and rational.                              0.64318   \n",
        "The veil of Isis: a series of essays on idealism.                0.63560   \n",
        "Selections from Berkeley, with an introduction and notes for     0.61921   \n",
        "A history of the problems of philosophy,                         0.60938   \n",
        "The anatomy of knowledge; an essay in objective logic,           0.60566   \n",
        "Mind and brain; or, The correlations of consciousness and or     0.60135   \n",
        "Selections from Berkeley, annotated. An introduction to the      0.60100   \n",
        "Mind and brain; or, The correlations of consciousness and or     0.59688   \n",
        "Studies in Bergson's philosophy,                                 0.58767   \n",
        "The principles of knowledge, with remarks on the nature of r     0.58580   \n",
        "History of philosophy.                                           0.58242   \n",
        "Locke on words. An essay concerning human understanding,         0.57243   \n",
        "Pragmatism and the problem of the idea,                          0.56865   \n",
        "Some modern conceptions of natural law.                          0.56052   \n",
        "A student's handbook of psychology and ethics : designed chi     0.56030   \n",
        "The essentials of philosophy /                                   0.55404   \n",
        "Elements of psychology: included in a critical examination o     0.55279   \n",
        "Philosophical realism,                                           0.55098   \n",
        "Bergson's doctrine of intuition; the Donnellan lectures for      0.54761   "
       ]
      }
     ],
     "prompt_number": 62
    },
    {
     "cell_type": "heading",
     "level": 2,
     "metadata": {},
     "source": [
      "A finer-grained search"
     ]
    },
    {
     "cell_type": "markdown",
     "metadata": {},
     "source": [
      "Cluster 3 seems to be a mixture of different topics..."
     ]
    },
    {
     "cell_type": "code",
     "collapsed": false,
     "input": [
      "v.topics(k_indices=allcls[3]) "
     ],
     "language": "python",
     "metadata": {},
     "outputs": [
      {
       "html": [
        "<table style=\"margin: 0\"><tr><th style=\"text-align: center; background: #CEE3F6\" colspan\t\t\t=\"11\">Topics Sorted by Index</th></tr><tr><th style=\"text-align: center; background: #EFF2FB;\" \t\t\t\t\t>Topic</th><th style=\"text-align: center; background: #EFF2FB;\" \t\t\t\t\t>Words</th></tr><tr><td style=\"padding-left:0.75em;\">3</td><td> labor, industrial, trade, industry, economic, work, per, capital, production, money                                     </td></tr><tr><td style=\"padding-left:0.75em;\">7</td><td> church, jesus, christ, christian, testament, new, paul, bible, gospel, doctrine                                  </td></tr><tr><td style=\"padding-left:0.75em;\">15</td><td> great, history, england, years, people, men, church, century, political, english                                   </td></tr><tr><td style=\"padding-left:0.75em;\">19</td><td> criminal, crime, number, women, criminals, prison, among, population, 1, per                                       </td></tr><tr><td style=\"padding-left:0.75em;\">31</td><td> gods, religion, p, name, see, god, india, ancient, one, worship                                   </td></tr><tr><td style=\"padding-left:0.75em;\">35</td><td> history, science, historical, work, study, philosophy, century, modern, sciences, literature                                </td></tr><tr><td style=\"padding-left:0.75em;\">36</td><td> law, state, government, shall, states, political, constitution, power, public, united                                    </td></tr><tr><td style=\"padding-left:0.75em;\">41</td><td> poetry, art, english, literature, music, life, poet, work, literary, verse                                     </td></tr><tr><td style=\"padding-left:0.75em;\">46</td><td> p, species, found, great, north, europe, south, america, country, river                                     </td></tr><tr><td style=\"padding-left:0.75em;\">54</td><td> new, years, york, american, year, state, one, city, men, states                                    </td></tr><tr><td style=\"padding-left:0.75em;\">56</td><td> war, german, germany, army, american, would, france, french, men, japan                                     </td></tr></table>"
       ],
       "output_type": "pyout",
       "prompt_number": 91,
       "text": [
        "\n",
        "------------------------------------------------------------------------------\n",
        "                                                                              \n",
        "------------------------------------------------------------------------------\n",
        "Topic     Words                                                               \n",
        "------------------------------------------------------------------------------\n",
        "  3       labor                                     industrial                \n",
        "  7       church                                    jesus                     \n",
        "  15      great                                     history                   \n",
        "  19      criminal                                  crime                     \n",
        "  31      gods                                      religion                  \n",
        "  35      history                                   science                   \n",
        "  36      law                                       state                     \n",
        "  41      poetry                                    art                       \n",
        "  46      p                                         species                   \n",
        "  54      new                                       years                     \n",
        "  56      war                                       german                    \n",
        "\n",
        "------------------------------------------------------------------------------\n",
        "                                                                              \n",
        "------------------------------------------------------------------------------\n",
        "                                                                              \n",
        "------------------------------------------------------------------------------\n",
        "                trade                                     industry            \n",
        "                christ                                    christian           \n",
        "                england                                   years               \n",
        "                number                                    women               \n",
        "                p                                         name                \n",
        "                historical                                work                \n",
        "                government                                shall               \n",
        "                english                                   literature          \n",
        "                found                                     great               \n",
        "                york                                      american            \n",
        "                germany                                   army                \n",
        "\n",
        "------------------------------------------------------------------------------\n",
        "                                                Topics Sorted by Index        \n",
        "------------------------------------------------------------------------------\n",
        "                                                                              \n",
        "------------------------------------------------------------------------------\n",
        "                      economic                                  work          \n",
        "                      testament                                 new           \n",
        "                      people                                    men           \n",
        "                      criminals                                 prison        \n",
        "                      see                                       god           \n",
        "                      study                                     philosophy    \n",
        "                      states                                    political     \n",
        "                      music                                     life          \n",
        "                      north                                     europe        \n",
        "                      year                                      state         \n",
        "                      american                                  would         \n",
        "\n",
        "------------------------------------------------------------------------------\n",
        "                                                                              \n",
        "------------------------------------------------------------------------------\n",
        "                                                                              \n",
        "------------------------------------------------------------------------------\n",
        "                            per                                       capital \n",
        "                            paul                                      bible   \n",
        "                            church                                    century \n",
        "                            among                                     populati\n",
        "                            india                                     ancient \n",
        "                            century                                   modern  \n",
        "                            constitution                              power   \n",
        "                            poet                                      work    \n",
        "                            south                                     america \n",
        "                            one                                       city    \n",
        "                            france                                    french  \n",
        "\n",
        "------------------------------------------------------------------------------\n",
        "                                                                              \n",
        "------------------------------------------------------------------------------\n",
        "                                                                              \n",
        "------------------------------------------------------------------------------\n",
        "                                  production                                mo\n",
        "                                  gospel                                    do\n",
        "                                  political                                 en\n",
        "on                                1                                         pe\n",
        "                                  one                                       wo\n",
        "                                  sciences                                  li\n",
        "                                  public                                    un\n",
        "                                  literary                                  ve\n",
        "                                  country                                   ri\n",
        "                                  men                                       st\n",
        "                                  men                                       ja\n",
        "\n",
        "----------------------------------------\n",
        "                                        \n",
        "----------------------------------------\n",
        "                                        \n",
        "----------------------------------------\n",
        "ney                                     \n",
        "ctrine                                  \n",
        "glish                                   \n",
        "r                                       \n",
        "rship                                   \n",
        "terature                                \n",
        "ited                                    \n",
        "rse                                     \n",
        "ver                                     \n",
        "ates                                    \n",
        "pan                                     "
       ]
      }
     ],
     "prompt_number": 91
    },
    {
     "cell_type": "markdown",
     "metadata": {},
     "source": [
      "So let's futher divide it into two subclusters."
     ]
    },
    {
     "cell_type": "code",
     "collapsed": false,
     "input": [
      "subcls = v.cluster_topics(k_indices=allcls[3], method='kmeans', n_clusters=2)"
     ],
     "language": "python",
     "metadata": {},
     "outputs": [
      {
       "output_type": "stream",
       "stream": "stdout",
       "text": [
        "Initialization complete\n",
        "Iteration 0, inertia 10.6781072032\n",
        "Iteration 1, inertia 5.61934193534\n",
        "Converged to similar centers at iteration 1\n"
       ]
      }
     ],
     "prompt_number": 115
    },
    {
     "cell_type": "code",
     "collapsed": false,
     "input": [
      "v.topics(k_indices=subcls[1]) "
     ],
     "language": "python",
     "metadata": {},
     "outputs": [
      {
       "html": [
        "<table style=\"margin: 0\"><tr><th style=\"text-align: center; background: #CEE3F6\" colspan\t\t\t=\"11\">Topics Sorted by Index</th></tr><tr><th style=\"text-align: center; background: #EFF2FB;\" \t\t\t\t\t>Topic</th><th style=\"text-align: center; background: #EFF2FB;\" \t\t\t\t\t>Words</th></tr><tr><td style=\"padding-left:0.75em;\">3</td><td> labor, industrial, trade, industry, economic, work, per, capital, production, money                                     </td></tr><tr><td style=\"padding-left:0.75em;\">15</td><td> great, history, england, years, people, men, church, century, political, english                                   </td></tr><tr><td style=\"padding-left:0.75em;\">19</td><td> criminal, crime, number, women, criminals, prison, among, population, 1, per                                       </td></tr><tr><td style=\"padding-left:0.75em;\">36</td><td> law, state, government, shall, states, political, constitution, power, public, united                                    </td></tr><tr><td style=\"padding-left:0.75em;\">54</td><td> new, years, york, american, year, state, one, city, men, states                                    </td></tr><tr><td style=\"padding-left:0.75em;\">56</td><td> war, german, germany, army, american, would, france, french, men, japan                                     </td></tr></table>"
       ],
       "output_type": "pyout",
       "prompt_number": 117,
       "text": [
        "\n",
        "------------------------------------------------------------------------------\n",
        "                                                                              \n",
        "------------------------------------------------------------------------------\n",
        "Topic     Words                                                               \n",
        "------------------------------------------------------------------------------\n",
        "  3       labor                                     industrial                \n",
        "  15      great                                     history                   \n",
        "  19      criminal                                  crime                     \n",
        "  36      law                                       state                     \n",
        "  54      new                                       years                     \n",
        "  56      war                                       german                    \n",
        "\n",
        "------------------------------------------------------------------------------\n",
        "                                                                              \n",
        "------------------------------------------------------------------------------\n",
        "                                                                              \n",
        "------------------------------------------------------------------------------\n",
        "                trade                                     industry            \n",
        "                england                                   years               \n",
        "                number                                    women               \n",
        "                government                                shall               \n",
        "                york                                      american            \n",
        "                germany                                   army                \n",
        "\n",
        "------------------------------------------------------------------------------\n",
        "                                                Topics Sorted by Index        \n",
        "------------------------------------------------------------------------------\n",
        "                                                                              \n",
        "------------------------------------------------------------------------------\n",
        "                      economic                                  work          \n",
        "                      people                                    men           \n",
        "                      criminals                                 prison        \n",
        "                      states                                    political     \n",
        "                      year                                      state         \n",
        "                      american                                  would         \n",
        "\n",
        "------------------------------------------------------------------------------\n",
        "                                                                              \n",
        "------------------------------------------------------------------------------\n",
        "                                                                              \n",
        "------------------------------------------------------------------------------\n",
        "                            per                                       capital \n",
        "                            church                                    century \n",
        "                            among                                     populati\n",
        "                            constitution                              power   \n",
        "                            one                                       city    \n",
        "                            france                                    french  \n",
        "\n",
        "------------------------------------------------------------------------------\n",
        "                                                                              \n",
        "------------------------------------------------------------------------------\n",
        "                                                                              \n",
        "------------------------------------------------------------------------------\n",
        "                                  production                                mo\n",
        "                                  political                                 en\n",
        "on                                1                                         pe\n",
        "                                  public                                    un\n",
        "                                  men                                       st\n",
        "                                  men                                       ja\n",
        "\n",
        "----------------------------------------\n",
        "                                        \n",
        "----------------------------------------\n",
        "                                        \n",
        "----------------------------------------\n",
        "ney                                     \n",
        "glish                                   \n",
        "r                                       \n",
        "ited                                    \n",
        "ates                                    \n",
        "pan                                     "
       ]
      }
     ],
     "prompt_number": 117
    },
    {
     "cell_type": "markdown",
     "metadata": {},
     "source": [
      "This looks like sociology/politics-related topics. Let's find documents on these topics."
     ]
    },
    {
     "cell_type": "code",
     "collapsed": false,
     "input": [
      "v.sim_top_doc(subcls[1], print_len=20, label_fn=htrc_label_fn_1315)"
     ],
     "language": "python",
     "metadata": {},
     "outputs": [
      {
       "html": [
        "<table style=\"margin: 0\"><tr><th style=\"text-align: center; background: #CEE3F6\" colspan\t\t        =\"2\">Topics: 3, 15, 19, 36, 54, 56</th></tr><tr><th style=\"text-align: center; background: #EFF2FB; \">Document\t\t\t</th><th style=\"text-align: center; background: #EFF2FB; \">Prob\t\t\t</th></tr><tr><td>The Mexican people: their struggle for freedom                   </td><td>0.67203   </td></tr><tr><td>What is America?                                                 </td><td>0.65785   </td></tr><tr><td>\"The greatest failure in all history\"; a critical examinatio     </td><td>0.62238   </td></tr><tr><td>Origins of modern German colonialism, 1871-1885,                 </td><td>0.60495   </td></tr><tr><td>The international position of Japan as a great power,            </td><td>0.60266   </td></tr><tr><td>Fifty years of a civilizing force; an historical and a criti     </td><td>0.59139   </td></tr><tr><td>Political science quarterly.                                     </td><td>0.57702   </td></tr><tr><td>The growth of law during the past year; annual address deliv     </td><td>0.57131   </td></tr><tr><td>An outline of modern imperialism ...                             </td><td>0.56865   </td></tr><tr><td>Crime in America and the police,                                 </td><td>0.56617   </td></tr><tr><td>International law, with materials for a code of internationa     </td><td>0.56359   </td></tr><tr><td>Canada to-day,                                                   </td><td>0.54663   </td></tr><tr><td>Hesitations, the American crisis and the war,                    </td><td>0.53704   </td></tr><tr><td>The science of history on an evangelical basis.                  </td><td>0.53577   </td></tr><tr><td>The society of to-morrow: a forecast of its political and ec     </td><td>0.52429   </td></tr><tr><td>Railway regulation : an analysis of the underlying problems      </td><td>0.52214   </td></tr><tr><td>Railway regulation : an analysis of the underlying problems      </td><td>0.51995   </td></tr><tr><td>Selected articles on compulsory insurance /                      </td><td>0.51936   </td></tr><tr><td>Accident insurance for workingmen                                </td><td>0.51563   </td></tr><tr><td>The soul of Europe; a character-study of the militant nation     </td><td>0.51348   </td></tr></table>"
       ],
       "output_type": "pyout",
       "prompt_number": 118,
       "text": [
        "\n",
        "---------------------------------------------------------------------------\n",
        "                       Topics: 3, 15, 19, 36, 54, 56                       \n",
        "---------------------------------------------------------------------------\n",
        "Document                                                         Prob      \n",
        "---------------------------------------------------------------------------\n",
        "The Mexican people: their struggle for freedom                   0.67203   \n",
        "What is America?                                                 0.65785   \n",
        "\"The greatest failure in all history\"; a critical examinatio     0.62238   \n",
        "Origins of modern German colonialism, 1871-1885,                 0.60495   \n",
        "The international position of Japan as a great power,            0.60266   \n",
        "Fifty years of a civilizing force; an historical and a criti     0.59139   \n",
        "Political science quarterly.                                     0.57702   \n",
        "The growth of law during the past year; annual address deliv     0.57131   \n",
        "An outline of modern imperialism ...                             0.56865   \n",
        "Crime in America and the police,                                 0.56617   \n",
        "International law, with materials for a code of internationa     0.56359   \n",
        "Canada to-day,                                                   0.54663   \n",
        "Hesitations, the American crisis and the war,                    0.53704   \n",
        "The science of history on an evangelical basis.                  0.53577   \n",
        "The society of to-morrow: a forecast of its political and ec     0.52429   \n",
        "Railway regulation : an analysis of the underlying problems      0.52214   \n",
        "Railway regulation : an analysis of the underlying problems      0.51995   \n",
        "Selected articles on compulsory insurance /                      0.51936   \n",
        "Accident insurance for workingmen                                0.51563   \n",
        "The soul of Europe; a character-study of the militant nation     0.51348   "
       ]
      }
     ],
     "prompt_number": 118
    },
    {
     "cell_type": "code",
     "collapsed": false,
     "input": [],
     "language": "python",
     "metadata": {},
     "outputs": []
    }
   ],
   "metadata": {}
  }
 ]
}