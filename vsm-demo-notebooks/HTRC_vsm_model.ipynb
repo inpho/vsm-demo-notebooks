{
 "metadata": {
  "name": ""
 },
 "nbformat": 3,
 "nbformat_minor": 0,
 "worksheets": [
  {
   "cells": [
    {
     "cell_type": "code",
     "collapsed": false,
     "input": [
      "# importing necessary libraries #\n",
      "\n",
      "from vsm.corpus import Corpus\n",
      "from vsm.model.ldacgsmulti import LdaCgsMulti as LDA\n",
      "from vsm.viewer.ldagibbsviewer import LDAGibbsViewer"
     ],
     "language": "python",
     "metadata": {},
     "outputs": [],
     "prompt_number": 2
    },
    {
     "cell_type": "code",
     "collapsed": false,
     "input": [
      "# Uploading a saved Corpus object.\n",
      "\n",
      "plain_dir = '/var/inphosemantics/data/extensions/'\n",
      "\n",
      "c = Corpus.load(plain_dir + 'uc2.ark+=13960=t5w66bs1h-nltk-freq3.npz')"
     ],
     "language": "python",
     "metadata": {},
     "outputs": [
      {
       "output_type": "stream",
       "stream": "stdout",
       "text": [
        "Loading corpus from /var/inphosemantics/data/extensions/uc2.ark+=13960=t5w66bs1h-nltk-freq3.npz\n"
       ]
      }
     ],
     "prompt_number": 5
    },
    {
     "cell_type": "code",
     "collapsed": false,
     "input": [
      "# Building an LDA model #\n",
      "# LDA model takes a Corpus object, \n",
      "# context type (what we want to consider as documents),\n",
      "# and number of topics, K.\n",
      "\n",
      "lda = LDA(c, 'sentence', K=20)"
     ],
     "language": "python",
     "metadata": {},
     "outputs": [],
     "prompt_number": 7
    },
    {
     "cell_type": "code",
     "collapsed": false,
     "input": [
      "# Training an LDA model #\n",
      "# number of iterations and number of processors (with \n",
      "# the multi-processing model) could be specified.\n",
      "\n",
      "lda.train(itr=200, n_proc=5)"
     ],
     "language": "python",
     "metadata": {},
     "outputs": [
      {
       "output_type": "stream",
       "stream": "stdout",
       "text": [
        "\r",
        "Iteration 0: mapping  "
       ]
      },
      {
       "output_type": "stream",
       "stream": "stdout",
       "text": [
        "\r",
        "Iteration 0: reducing "
       ]
      },
      {
       "output_type": "stream",
       "stream": "stdout",
       "text": [
        "\r",
        "Iteration 0: log_prob="
       ]
      },
      {
       "output_type": "stream",
       "stream": "stdout",
       "text": [
        "-497147.156288\n",
        "\r",
        "Iteration 1: mapping  "
       ]
      },
      {
       "output_type": "stream",
       "stream": "stdout",
       "text": [
        "\r",
        "Iteration 1: reducing "
       ]
      },
      {
       "output_type": "stream",
       "stream": "stdout",
       "text": [
        "\r",
        "Iteration 1: log_prob="
       ]
      },
      {
       "output_type": "stream",
       "stream": "stdout",
       "text": [
        "-328550.099915\n",
        "\r",
        "Iteration 2: mapping  "
       ]
      },
      {
       "output_type": "stream",
       "stream": "stdout",
       "text": [
        "\r",
        "Iteration 2: reducing "
       ]
      },
      {
       "output_type": "stream",
       "stream": "stdout",
       "text": [
        "\r",
        "Iteration 2: log_prob="
       ]
      },
      {
       "output_type": "stream",
       "stream": "stdout",
       "text": [
        "-320881.341446\n",
        "\r",
        "Iteration 3: mapping  "
       ]
      },
      {
       "output_type": "stream",
       "stream": "stdout",
       "text": [
        "\r",
        "Iteration 3: reducing "
       ]
      },
      {
       "output_type": "stream",
       "stream": "stdout",
       "text": [
        "\r",
        "Iteration 3: log_prob="
       ]
      },
      {
       "output_type": "stream",
       "stream": "stdout",
       "text": [
        "-314928.596270\n",
        "\r",
        "Iteration 4: mapping  "
       ]
      },
      {
       "output_type": "stream",
       "stream": "stdout",
       "text": [
        "\r",
        "Iteration 4: reducing "
       ]
      },
      {
       "output_type": "stream",
       "stream": "stdout",
       "text": [
        "\r",
        "Iteration 4: log_prob="
       ]
      },
      {
       "output_type": "stream",
       "stream": "stdout",
       "text": [
        "-311351.156646\n",
        "\r",
        "Iteration 5: mapping  "
       ]
      },
      {
       "output_type": "stream",
       "stream": "stdout",
       "text": [
        "\r",
        "Iteration 5: reducing "
       ]
      },
      {
       "output_type": "stream",
       "stream": "stdout",
       "text": [
        "\r",
        "Iteration 5: log_prob="
       ]
      },
      {
       "output_type": "stream",
       "stream": "stdout",
       "text": [
        "-308553.540982\n",
        "\r",
        "Iteration 6: mapping  "
       ]
      },
      {
       "output_type": "stream",
       "stream": "stdout",
       "text": [
        "\r",
        "Iteration 6: reducing "
       ]
      },
      {
       "output_type": "stream",
       "stream": "stdout",
       "text": [
        "\r",
        "Iteration 6: log_prob="
       ]
      },
      {
       "output_type": "stream",
       "stream": "stdout",
       "text": [
        "-306650.899854\n",
        "\r",
        "Iteration 7: mapping  "
       ]
      },
      {
       "output_type": "stream",
       "stream": "stdout",
       "text": [
        "\r",
        "Iteration 7: reducing "
       ]
      },
      {
       "output_type": "stream",
       "stream": "stdout",
       "text": [
        "\r",
        "Iteration 7: log_prob="
       ]
      },
      {
       "output_type": "stream",
       "stream": "stdout",
       "text": [
        "-305471.733543\n",
        "\r",
        "Iteration 8: mapping  "
       ]
      },
      {
       "output_type": "stream",
       "stream": "stdout",
       "text": [
        "\r",
        "Iteration 8: reducing "
       ]
      },
      {
       "output_type": "stream",
       "stream": "stdout",
       "text": [
        "\r",
        "Iteration 8: log_prob="
       ]
      },
      {
       "output_type": "stream",
       "stream": "stdout",
       "text": [
        "-303800.827884\n",
        "\r",
        "Iteration 9: mapping  "
       ]
      },
      {
       "output_type": "stream",
       "stream": "stdout",
       "text": [
        "\r",
        "Iteration 9: reducing "
       ]
      },
      {
       "output_type": "stream",
       "stream": "stdout",
       "text": [
        "\r",
        "Iteration 9: log_prob="
       ]
      },
      {
       "output_type": "stream",
       "stream": "stdout",
       "text": [
        "-302722.119229\n",
        "\r",
        "Iteration 10: mapping  "
       ]
      },
      {
       "output_type": "stream",
       "stream": "stdout",
       "text": [
        "\r",
        "Iteration 10: reducing "
       ]
      },
      {
       "output_type": "stream",
       "stream": "stdout",
       "text": [
        "\r",
        "Iteration 10: log_prob="
       ]
      },
      {
       "output_type": "stream",
       "stream": "stdout",
       "text": [
        "-301626.136432\n",
        "\r",
        "Iteration 11: mapping  "
       ]
      },
      {
       "output_type": "stream",
       "stream": "stdout",
       "text": [
        "\r",
        "Iteration 11: reducing "
       ]
      },
      {
       "output_type": "stream",
       "stream": "stdout",
       "text": [
        "\r",
        "Iteration 11: log_prob="
       ]
      },
      {
       "output_type": "stream",
       "stream": "stdout",
       "text": [
        "-300837.545021\n",
        "\r",
        "Iteration 12: mapping  "
       ]
      },
      {
       "output_type": "stream",
       "stream": "stdout",
       "text": [
        "\r",
        "Iteration 12: reducing "
       ]
      },
      {
       "output_type": "stream",
       "stream": "stdout",
       "text": [
        "\r",
        "Iteration 12: log_prob="
       ]
      },
      {
       "output_type": "stream",
       "stream": "stdout",
       "text": [
        "-299869.882633\n",
        "\r",
        "Iteration 13: mapping  "
       ]
      },
      {
       "output_type": "stream",
       "stream": "stdout",
       "text": [
        "\r",
        "Iteration 13: reducing "
       ]
      },
      {
       "output_type": "stream",
       "stream": "stdout",
       "text": [
        "\r",
        "Iteration 13: log_prob="
       ]
      },
      {
       "output_type": "stream",
       "stream": "stdout",
       "text": [
        "-299217.997946\n",
        "\r",
        "Iteration 14: mapping  "
       ]
      },
      {
       "output_type": "stream",
       "stream": "stdout",
       "text": [
        "\r",
        "Iteration 14: reducing "
       ]
      },
      {
       "output_type": "stream",
       "stream": "stdout",
       "text": [
        "\r",
        "Iteration 14: log_prob="
       ]
      },
      {
       "output_type": "stream",
       "stream": "stdout",
       "text": [
        "-298618.828259\n",
        "\r",
        "Iteration 15: mapping  "
       ]
      },
      {
       "output_type": "stream",
       "stream": "stdout",
       "text": [
        "\r",
        "Iteration 15: reducing "
       ]
      },
      {
       "output_type": "stream",
       "stream": "stdout",
       "text": [
        "\r",
        "Iteration 15: log_prob="
       ]
      },
      {
       "output_type": "stream",
       "stream": "stdout",
       "text": [
        "-298102.670813\n",
        "\r",
        "Iteration 16: mapping  "
       ]
      },
      {
       "output_type": "stream",
       "stream": "stdout",
       "text": [
        "\r",
        "Iteration 16: reducing "
       ]
      },
      {
       "output_type": "stream",
       "stream": "stdout",
       "text": [
        "\r",
        "Iteration 16: log_prob="
       ]
      },
      {
       "output_type": "stream",
       "stream": "stdout",
       "text": [
        "-297503.120144\n",
        "\r",
        "Iteration 17: mapping  "
       ]
      },
      {
       "output_type": "stream",
       "stream": "stdout",
       "text": [
        "\r",
        "Iteration 17: reducing "
       ]
      },
      {
       "output_type": "stream",
       "stream": "stdout",
       "text": [
        "\r",
        "Iteration 17: log_prob="
       ]
      },
      {
       "output_type": "stream",
       "stream": "stdout",
       "text": [
        "-296852.290919\n",
        "\r",
        "Iteration 18: mapping  "
       ]
      },
      {
       "output_type": "stream",
       "stream": "stdout",
       "text": [
        "\r",
        "Iteration 18: reducing "
       ]
      },
      {
       "output_type": "stream",
       "stream": "stdout",
       "text": [
        "\r",
        "Iteration 18: log_prob="
       ]
      },
      {
       "output_type": "stream",
       "stream": "stdout",
       "text": [
        "-296335.994018\n",
        "\r",
        "Iteration 19: mapping  "
       ]
      },
      {
       "output_type": "stream",
       "stream": "stdout",
       "text": [
        "\r",
        "Iteration 19: reducing "
       ]
      },
      {
       "output_type": "stream",
       "stream": "stdout",
       "text": [
        "\r",
        "Iteration 19: log_prob="
       ]
      },
      {
       "output_type": "stream",
       "stream": "stdout",
       "text": [
        "-295788.184099\n",
        "\r",
        "Iteration 20: mapping  "
       ]
      },
      {
       "output_type": "stream",
       "stream": "stdout",
       "text": [
        "\r",
        "Iteration 20: reducing "
       ]
      },
      {
       "output_type": "stream",
       "stream": "stdout",
       "text": [
        "\r",
        "Iteration 20: log_prob="
       ]
      },
      {
       "output_type": "stream",
       "stream": "stdout",
       "text": [
        "-295461.775252\n",
        "\r",
        "Iteration 21: mapping  "
       ]
      },
      {
       "output_type": "stream",
       "stream": "stdout",
       "text": [
        "\r",
        "Iteration 21: reducing "
       ]
      },
      {
       "output_type": "stream",
       "stream": "stdout",
       "text": [
        "\r",
        "Iteration 21: log_prob="
       ]
      },
      {
       "output_type": "stream",
       "stream": "stdout",
       "text": [
        "-295116.817625\n",
        "\r",
        "Iteration 22: mapping  "
       ]
      },
      {
       "output_type": "stream",
       "stream": "stdout",
       "text": [
        "\r",
        "Iteration 22: reducing "
       ]
      },
      {
       "output_type": "stream",
       "stream": "stdout",
       "text": [
        "\r",
        "Iteration 22: log_prob="
       ]
      },
      {
       "output_type": "stream",
       "stream": "stdout",
       "text": [
        "-294413.262042\n",
        "\r",
        "Iteration 23: mapping  "
       ]
      },
      {
       "output_type": "stream",
       "stream": "stdout",
       "text": [
        "\r",
        "Iteration 23: reducing "
       ]
      },
      {
       "output_type": "stream",
       "stream": "stdout",
       "text": [
        "\r",
        "Iteration 23: log_prob="
       ]
      },
      {
       "output_type": "stream",
       "stream": "stdout",
       "text": [
        "-294069.345420\n",
        "\r",
        "Iteration 24: mapping  "
       ]
      },
      {
       "output_type": "stream",
       "stream": "stdout",
       "text": [
        "\r",
        "Iteration 24: reducing "
       ]
      },
      {
       "output_type": "stream",
       "stream": "stdout",
       "text": [
        "\r",
        "Iteration 24: log_prob="
       ]
      },
      {
       "output_type": "stream",
       "stream": "stdout",
       "text": [
        "-293580.533374\n",
        "\r",
        "Iteration 25: mapping  "
       ]
      },
      {
       "output_type": "stream",
       "stream": "stdout",
       "text": [
        "\r",
        "Iteration 25: reducing "
       ]
      },
      {
       "output_type": "stream",
       "stream": "stdout",
       "text": [
        "\r",
        "Iteration 25: log_prob="
       ]
      },
      {
       "output_type": "stream",
       "stream": "stdout",
       "text": [
        "-293208.253823\n",
        "\r",
        "Iteration 26: mapping  "
       ]
      },
      {
       "output_type": "stream",
       "stream": "stdout",
       "text": [
        "\r",
        "Iteration 26: reducing "
       ]
      },
      {
       "output_type": "stream",
       "stream": "stdout",
       "text": [
        "\r",
        "Iteration 26: log_prob="
       ]
      },
      {
       "output_type": "stream",
       "stream": "stdout",
       "text": [
        "-293026.694337\n",
        "\r",
        "Iteration 27: mapping  "
       ]
      },
      {
       "output_type": "stream",
       "stream": "stdout",
       "text": [
        "\r",
        "Iteration 27: reducing "
       ]
      },
      {
       "output_type": "stream",
       "stream": "stdout",
       "text": [
        "\r",
        "Iteration 27: log_prob="
       ]
      },
      {
       "output_type": "stream",
       "stream": "stdout",
       "text": [
        "-292451.796312\n",
        "\r",
        "Iteration 28: mapping  "
       ]
      },
      {
       "output_type": "stream",
       "stream": "stdout",
       "text": [
        "\r",
        "Iteration 28: reducing "
       ]
      },
      {
       "output_type": "stream",
       "stream": "stdout",
       "text": [
        "\r",
        "Iteration 28: log_prob="
       ]
      },
      {
       "output_type": "stream",
       "stream": "stdout",
       "text": [
        "-292150.609670\n",
        "\r",
        "Iteration 29: mapping  "
       ]
      },
      {
       "output_type": "stream",
       "stream": "stdout",
       "text": [
        "\r",
        "Iteration 29: reducing "
       ]
      },
      {
       "output_type": "stream",
       "stream": "stdout",
       "text": [
        "\r",
        "Iteration 29: log_prob="
       ]
      },
      {
       "output_type": "stream",
       "stream": "stdout",
       "text": [
        "-292038.779850\n",
        "\r",
        "Iteration 30: mapping  "
       ]
      },
      {
       "output_type": "stream",
       "stream": "stdout",
       "text": [
        "\r",
        "Iteration 30: reducing "
       ]
      },
      {
       "output_type": "stream",
       "stream": "stdout",
       "text": [
        "\r",
        "Iteration 30: log_prob="
       ]
      },
      {
       "output_type": "stream",
       "stream": "stdout",
       "text": [
        "-291574.958147\n",
        "\r",
        "Iteration 31: mapping  "
       ]
      },
      {
       "output_type": "stream",
       "stream": "stdout",
       "text": [
        "\r",
        "Iteration 31: reducing "
       ]
      },
      {
       "output_type": "stream",
       "stream": "stdout",
       "text": [
        "\r",
        "Iteration 31: log_prob="
       ]
      },
      {
       "output_type": "stream",
       "stream": "stdout",
       "text": [
        "-291349.480752\n",
        "\r",
        "Iteration 32: mapping  "
       ]
      },
      {
       "output_type": "stream",
       "stream": "stdout",
       "text": [
        "\r",
        "Iteration 32: reducing "
       ]
      },
      {
       "output_type": "stream",
       "stream": "stdout",
       "text": [
        "\r",
        "Iteration 32: log_prob="
       ]
      },
      {
       "output_type": "stream",
       "stream": "stdout",
       "text": [
        "-290794.175909\n",
        "\r",
        "Iteration 33: mapping  "
       ]
      },
      {
       "output_type": "stream",
       "stream": "stdout",
       "text": [
        "\r",
        "Iteration 33: reducing "
       ]
      },
      {
       "output_type": "stream",
       "stream": "stdout",
       "text": [
        "\r",
        "Iteration 33: log_prob="
       ]
      },
      {
       "output_type": "stream",
       "stream": "stdout",
       "text": [
        "-290568.623692\n",
        "\r",
        "Iteration 34: mapping  "
       ]
      },
      {
       "output_type": "stream",
       "stream": "stdout",
       "text": [
        "\r",
        "Iteration 34: reducing "
       ]
      },
      {
       "output_type": "stream",
       "stream": "stdout",
       "text": [
        "\r",
        "Iteration 34: log_prob="
       ]
      },
      {
       "output_type": "stream",
       "stream": "stdout",
       "text": [
        "-290386.714184\n",
        "\r",
        "Iteration 35: mapping  "
       ]
      },
      {
       "output_type": "stream",
       "stream": "stdout",
       "text": [
        "\r",
        "Iteration 35: reducing "
       ]
      },
      {
       "output_type": "stream",
       "stream": "stdout",
       "text": [
        "\r",
        "Iteration 35: log_prob="
       ]
      },
      {
       "output_type": "stream",
       "stream": "stdout",
       "text": [
        "-290031.913222\n",
        "\r",
        "Iteration 36: mapping  "
       ]
      },
      {
       "output_type": "stream",
       "stream": "stdout",
       "text": [
        "\r",
        "Iteration 36: reducing "
       ]
      },
      {
       "output_type": "stream",
       "stream": "stdout",
       "text": [
        "\r",
        "Iteration 36: log_prob="
       ]
      },
      {
       "output_type": "stream",
       "stream": "stdout",
       "text": [
        "-289655.133253\n",
        "\r",
        "Iteration 37: mapping  "
       ]
      },
      {
       "output_type": "stream",
       "stream": "stdout",
       "text": [
        "\r",
        "Iteration 37: reducing "
       ]
      },
      {
       "output_type": "stream",
       "stream": "stdout",
       "text": [
        "\r",
        "Iteration 37: log_prob="
       ]
      },
      {
       "output_type": "stream",
       "stream": "stdout",
       "text": [
        "-289650.610410\n",
        "\r",
        "Iteration 38: mapping  "
       ]
      },
      {
       "output_type": "stream",
       "stream": "stdout",
       "text": [
        "\r",
        "Iteration 38: reducing "
       ]
      },
      {
       "output_type": "stream",
       "stream": "stdout",
       "text": [
        "\r",
        "Iteration 38: log_prob="
       ]
      },
      {
       "output_type": "stream",
       "stream": "stdout",
       "text": [
        "-289194.993841\n",
        "\r",
        "Iteration 39: mapping  "
       ]
      },
      {
       "output_type": "stream",
       "stream": "stdout",
       "text": [
        "\r",
        "Iteration 39: reducing "
       ]
      },
      {
       "output_type": "stream",
       "stream": "stdout",
       "text": [
        "\r",
        "Iteration 39: log_prob="
       ]
      },
      {
       "output_type": "stream",
       "stream": "stdout",
       "text": [
        "-289080.664917\n",
        "\r",
        "Iteration 40: mapping  "
       ]
      },
      {
       "output_type": "stream",
       "stream": "stdout",
       "text": [
        "\r",
        "Iteration 40: reducing "
       ]
      },
      {
       "output_type": "stream",
       "stream": "stdout",
       "text": [
        "\r",
        "Iteration 40: log_prob="
       ]
      },
      {
       "output_type": "stream",
       "stream": "stdout",
       "text": [
        "-288865.055773\n",
        "\r",
        "Iteration 41: mapping  "
       ]
      },
      {
       "output_type": "stream",
       "stream": "stdout",
       "text": [
        "\r",
        "Iteration 41: reducing "
       ]
      },
      {
       "output_type": "stream",
       "stream": "stdout",
       "text": [
        "\r",
        "Iteration 41: log_prob="
       ]
      },
      {
       "output_type": "stream",
       "stream": "stdout",
       "text": [
        "-288744.896458\n",
        "\r",
        "Iteration 42: mapping  "
       ]
      },
      {
       "output_type": "stream",
       "stream": "stdout",
       "text": [
        "\r",
        "Iteration 42: reducing "
       ]
      },
      {
       "output_type": "stream",
       "stream": "stdout",
       "text": [
        "\r",
        "Iteration 42: log_prob="
       ]
      },
      {
       "output_type": "stream",
       "stream": "stdout",
       "text": [
        "-288464.771760\n",
        "\r",
        "Iteration 43: mapping  "
       ]
      },
      {
       "output_type": "stream",
       "stream": "stdout",
       "text": [
        "\r",
        "Iteration 43: reducing "
       ]
      },
      {
       "output_type": "stream",
       "stream": "stdout",
       "text": [
        "\r",
        "Iteration 43: log_prob="
       ]
      },
      {
       "output_type": "stream",
       "stream": "stdout",
       "text": [
        "-288222.177270\n",
        "\r",
        "Iteration 44: mapping  "
       ]
      },
      {
       "output_type": "stream",
       "stream": "stdout",
       "text": [
        "\r",
        "Iteration 44: reducing "
       ]
      },
      {
       "output_type": "stream",
       "stream": "stdout",
       "text": [
        "\r",
        "Iteration 44: log_prob="
       ]
      },
      {
       "output_type": "stream",
       "stream": "stdout",
       "text": [
        "-287922.851316\n",
        "\r",
        "Iteration 45: mapping  "
       ]
      },
      {
       "output_type": "stream",
       "stream": "stdout",
       "text": [
        "\r",
        "Iteration 45: reducing "
       ]
      },
      {
       "output_type": "stream",
       "stream": "stdout",
       "text": [
        "\r",
        "Iteration 45: log_prob="
       ]
      },
      {
       "output_type": "stream",
       "stream": "stdout",
       "text": [
        "-287689.153587\n",
        "\r",
        "Iteration 46: mapping  "
       ]
      },
      {
       "output_type": "stream",
       "stream": "stdout",
       "text": [
        "\r",
        "Iteration 46: reducing "
       ]
      },
      {
       "output_type": "stream",
       "stream": "stdout",
       "text": [
        "\r",
        "Iteration 46: log_prob="
       ]
      },
      {
       "output_type": "stream",
       "stream": "stdout",
       "text": [
        "-287684.181915\n",
        "\r",
        "Iteration 47: mapping  "
       ]
      },
      {
       "output_type": "stream",
       "stream": "stdout",
       "text": [
        "\r",
        "Iteration 47: reducing "
       ]
      },
      {
       "output_type": "stream",
       "stream": "stdout",
       "text": [
        "\r",
        "Iteration 47: log_prob="
       ]
      },
      {
       "output_type": "stream",
       "stream": "stdout",
       "text": [
        "-287364.817643\n",
        "\r",
        "Iteration 48: mapping  "
       ]
      },
      {
       "output_type": "stream",
       "stream": "stdout",
       "text": [
        "\r",
        "Iteration 48: reducing "
       ]
      },
      {
       "output_type": "stream",
       "stream": "stdout",
       "text": [
        "\r",
        "Iteration 48: log_prob="
       ]
      },
      {
       "output_type": "stream",
       "stream": "stdout",
       "text": [
        "-287255.073182\n",
        "\r",
        "Iteration 49: mapping  "
       ]
      },
      {
       "output_type": "stream",
       "stream": "stdout",
       "text": [
        "\r",
        "Iteration 49: reducing "
       ]
      },
      {
       "output_type": "stream",
       "stream": "stdout",
       "text": [
        "\r",
        "Iteration 49: log_prob="
       ]
      },
      {
       "output_type": "stream",
       "stream": "stdout",
       "text": [
        "-286923.849522\n",
        "\r",
        "Iteration 50: mapping  "
       ]
      },
      {
       "output_type": "stream",
       "stream": "stdout",
       "text": [
        "\r",
        "Iteration 50: reducing "
       ]
      },
      {
       "output_type": "stream",
       "stream": "stdout",
       "text": [
        "\r",
        "Iteration 50: log_prob="
       ]
      },
      {
       "output_type": "stream",
       "stream": "stdout",
       "text": [
        "-286792.265615\n",
        "\r",
        "Iteration 51: mapping  "
       ]
      },
      {
       "output_type": "stream",
       "stream": "stdout",
       "text": [
        "\r",
        "Iteration 51: reducing "
       ]
      },
      {
       "output_type": "stream",
       "stream": "stdout",
       "text": [
        "\r",
        "Iteration 51: log_prob="
       ]
      },
      {
       "output_type": "stream",
       "stream": "stdout",
       "text": [
        "-286644.084571\n",
        "\r",
        "Iteration 52: mapping  "
       ]
      },
      {
       "output_type": "stream",
       "stream": "stdout",
       "text": [
        "\r",
        "Iteration 52: reducing "
       ]
      },
      {
       "output_type": "stream",
       "stream": "stdout",
       "text": [
        "\r",
        "Iteration 52: log_prob="
       ]
      },
      {
       "output_type": "stream",
       "stream": "stdout",
       "text": [
        "-286650.262329\n",
        "\r",
        "Iteration 53: mapping  "
       ]
      },
      {
       "output_type": "stream",
       "stream": "stdout",
       "text": [
        "\r",
        "Iteration 53: reducing "
       ]
      },
      {
       "output_type": "stream",
       "stream": "stdout",
       "text": [
        "\r",
        "Iteration 53: log_prob="
       ]
      },
      {
       "output_type": "stream",
       "stream": "stdout",
       "text": [
        "-286409.224753\n",
        "\r",
        "Iteration 54: mapping  "
       ]
      },
      {
       "output_type": "stream",
       "stream": "stdout",
       "text": [
        "\r",
        "Iteration 54: reducing "
       ]
      },
      {
       "output_type": "stream",
       "stream": "stdout",
       "text": [
        "\r",
        "Iteration 54: log_prob="
       ]
      },
      {
       "output_type": "stream",
       "stream": "stdout",
       "text": [
        "-286193.245819\n",
        "\r",
        "Iteration 55: mapping  "
       ]
      },
      {
       "output_type": "stream",
       "stream": "stdout",
       "text": [
        "\r",
        "Iteration 55: reducing "
       ]
      },
      {
       "output_type": "stream",
       "stream": "stdout",
       "text": [
        "\r",
        "Iteration 55: log_prob="
       ]
      },
      {
       "output_type": "stream",
       "stream": "stdout",
       "text": [
        "-286052.535230\n",
        "\r",
        "Iteration 56: mapping  "
       ]
      },
      {
       "output_type": "stream",
       "stream": "stdout",
       "text": [
        "\r",
        "Iteration 56: reducing "
       ]
      },
      {
       "output_type": "stream",
       "stream": "stdout",
       "text": [
        "\r",
        "Iteration 56: log_prob="
       ]
      },
      {
       "output_type": "stream",
       "stream": "stdout",
       "text": [
        "-285933.352257\n",
        "\r",
        "Iteration 57: mapping  "
       ]
      },
      {
       "output_type": "stream",
       "stream": "stdout",
       "text": [
        "\r",
        "Iteration 57: reducing "
       ]
      },
      {
       "output_type": "stream",
       "stream": "stdout",
       "text": [
        "\r",
        "Iteration 57: log_prob="
       ]
      },
      {
       "output_type": "stream",
       "stream": "stdout",
       "text": [
        "-285869.479308\n",
        "\r",
        "Iteration 58: mapping  "
       ]
      },
      {
       "output_type": "stream",
       "stream": "stdout",
       "text": [
        "\r",
        "Iteration 58: reducing "
       ]
      },
      {
       "output_type": "stream",
       "stream": "stdout",
       "text": [
        "\r",
        "Iteration 58: log_prob="
       ]
      },
      {
       "output_type": "stream",
       "stream": "stdout",
       "text": [
        "-285578.347648\n",
        "\r",
        "Iteration 59: mapping  "
       ]
      },
      {
       "output_type": "stream",
       "stream": "stdout",
       "text": [
        "\r",
        "Iteration 59: reducing "
       ]
      },
      {
       "output_type": "stream",
       "stream": "stdout",
       "text": [
        "\r",
        "Iteration 59: log_prob="
       ]
      },
      {
       "output_type": "stream",
       "stream": "stdout",
       "text": [
        "-285621.268774\n",
        "\r",
        "Iteration 60: mapping  "
       ]
      },
      {
       "output_type": "stream",
       "stream": "stdout",
       "text": [
        "\r",
        "Iteration 60: reducing "
       ]
      },
      {
       "output_type": "stream",
       "stream": "stdout",
       "text": [
        "\r",
        "Iteration 60: log_prob="
       ]
      },
      {
       "output_type": "stream",
       "stream": "stdout",
       "text": [
        "-285215.162784\n",
        "\r",
        "Iteration 61: mapping  "
       ]
      },
      {
       "output_type": "stream",
       "stream": "stdout",
       "text": [
        "\r",
        "Iteration 61: reducing "
       ]
      },
      {
       "output_type": "stream",
       "stream": "stdout",
       "text": [
        "\r",
        "Iteration 61: log_prob="
       ]
      },
      {
       "output_type": "stream",
       "stream": "stdout",
       "text": [
        "-284990.824394\n",
        "\r",
        "Iteration 62: mapping  "
       ]
      },
      {
       "output_type": "stream",
       "stream": "stdout",
       "text": [
        "\r",
        "Iteration 62: reducing "
       ]
      },
      {
       "output_type": "stream",
       "stream": "stdout",
       "text": [
        "\r",
        "Iteration 62: log_prob="
       ]
      },
      {
       "output_type": "stream",
       "stream": "stdout",
       "text": [
        "-284966.728145\n",
        "\r",
        "Iteration 63: mapping  "
       ]
      },
      {
       "output_type": "stream",
       "stream": "stdout",
       "text": [
        "\r",
        "Iteration 63: reducing "
       ]
      },
      {
       "output_type": "stream",
       "stream": "stdout",
       "text": [
        "\r",
        "Iteration 63: log_prob="
       ]
      },
      {
       "output_type": "stream",
       "stream": "stdout",
       "text": [
        "-285030.746491\n",
        "\r",
        "Iteration 64: mapping  "
       ]
      },
      {
       "output_type": "stream",
       "stream": "stdout",
       "text": [
        "\r",
        "Iteration 64: reducing "
       ]
      },
      {
       "output_type": "stream",
       "stream": "stdout",
       "text": [
        "\r",
        "Iteration 64: log_prob="
       ]
      },
      {
       "output_type": "stream",
       "stream": "stdout",
       "text": [
        "-284816.764997\n",
        "\r",
        "Iteration 65: mapping  "
       ]
      },
      {
       "output_type": "stream",
       "stream": "stdout",
       "text": [
        "\r",
        "Iteration 65: reducing "
       ]
      },
      {
       "output_type": "stream",
       "stream": "stdout",
       "text": [
        "\r",
        "Iteration 65: log_prob="
       ]
      },
      {
       "output_type": "stream",
       "stream": "stdout",
       "text": [
        "-284672.114523\n",
        "\r",
        "Iteration 66: mapping  "
       ]
      },
      {
       "output_type": "stream",
       "stream": "stdout",
       "text": [
        "\r",
        "Iteration 66: reducing "
       ]
      },
      {
       "output_type": "stream",
       "stream": "stdout",
       "text": [
        "\r",
        "Iteration 66: log_prob="
       ]
      },
      {
       "output_type": "stream",
       "stream": "stdout",
       "text": [
        "-284462.081475\n",
        "\r",
        "Iteration 67: mapping  "
       ]
      },
      {
       "output_type": "stream",
       "stream": "stdout",
       "text": [
        "\r",
        "Iteration 67: reducing "
       ]
      },
      {
       "output_type": "stream",
       "stream": "stdout",
       "text": [
        "\r",
        "Iteration 67: log_prob="
       ]
      },
      {
       "output_type": "stream",
       "stream": "stdout",
       "text": [
        "-284614.922691\n",
        "\r",
        "Iteration 68: mapping  "
       ]
      },
      {
       "output_type": "stream",
       "stream": "stdout",
       "text": [
        "\r",
        "Iteration 68: reducing "
       ]
      },
      {
       "output_type": "stream",
       "stream": "stdout",
       "text": [
        "\r",
        "Iteration 68: log_prob="
       ]
      },
      {
       "output_type": "stream",
       "stream": "stdout",
       "text": [
        "-284550.310858\n",
        "\r",
        "Iteration 69: mapping  "
       ]
      },
      {
       "output_type": "stream",
       "stream": "stdout",
       "text": [
        "\r",
        "Iteration 69: reducing "
       ]
      },
      {
       "output_type": "stream",
       "stream": "stdout",
       "text": [
        "\r",
        "Iteration 69: log_prob="
       ]
      },
      {
       "output_type": "stream",
       "stream": "stdout",
       "text": [
        "-284149.924332\n",
        "\r",
        "Iteration 70: mapping  "
       ]
      },
      {
       "output_type": "stream",
       "stream": "stdout",
       "text": [
        "\r",
        "Iteration 70: reducing "
       ]
      },
      {
       "output_type": "stream",
       "stream": "stdout",
       "text": [
        "\r",
        "Iteration 70: log_prob="
       ]
      },
      {
       "output_type": "stream",
       "stream": "stdout",
       "text": [
        "-284282.772966\n",
        "\r",
        "Iteration 71: mapping  "
       ]
      },
      {
       "output_type": "stream",
       "stream": "stdout",
       "text": [
        "\r",
        "Iteration 71: reducing "
       ]
      },
      {
       "output_type": "stream",
       "stream": "stdout",
       "text": [
        "\r",
        "Iteration 71: log_prob="
       ]
      },
      {
       "output_type": "stream",
       "stream": "stdout",
       "text": [
        "-283956.734497\n",
        "\r",
        "Iteration 72: mapping  "
       ]
      },
      {
       "output_type": "stream",
       "stream": "stdout",
       "text": [
        "\r",
        "Iteration 72: reducing "
       ]
      },
      {
       "output_type": "stream",
       "stream": "stdout",
       "text": [
        "\r",
        "Iteration 72: log_prob="
       ]
      },
      {
       "output_type": "stream",
       "stream": "stdout",
       "text": [
        "-283807.664262\n",
        "\r",
        "Iteration 73: mapping  "
       ]
      },
      {
       "output_type": "stream",
       "stream": "stdout",
       "text": [
        "\r",
        "Iteration 73: reducing "
       ]
      },
      {
       "output_type": "stream",
       "stream": "stdout",
       "text": [
        "\r",
        "Iteration 73: log_prob="
       ]
      },
      {
       "output_type": "stream",
       "stream": "stdout",
       "text": [
        "-283695.323407\n",
        "\r",
        "Iteration 74: mapping  "
       ]
      },
      {
       "output_type": "stream",
       "stream": "stdout",
       "text": [
        "\r",
        "Iteration 74: reducing "
       ]
      },
      {
       "output_type": "stream",
       "stream": "stdout",
       "text": [
        "\r",
        "Iteration 74: log_prob="
       ]
      },
      {
       "output_type": "stream",
       "stream": "stdout",
       "text": [
        "-283574.110341\n",
        "\r",
        "Iteration 75: mapping  "
       ]
      },
      {
       "output_type": "stream",
       "stream": "stdout",
       "text": [
        "\r",
        "Iteration 75: reducing "
       ]
      },
      {
       "output_type": "stream",
       "stream": "stdout",
       "text": [
        "\r",
        "Iteration 75: log_prob="
       ]
      },
      {
       "output_type": "stream",
       "stream": "stdout",
       "text": [
        "-283413.273069\n",
        "\r",
        "Iteration 76: mapping  "
       ]
      },
      {
       "output_type": "stream",
       "stream": "stdout",
       "text": [
        "\r",
        "Iteration 76: reducing "
       ]
      },
      {
       "output_type": "stream",
       "stream": "stdout",
       "text": [
        "\r",
        "Iteration 76: log_prob="
       ]
      },
      {
       "output_type": "stream",
       "stream": "stdout",
       "text": [
        "-283288.927394\n",
        "\r",
        "Iteration 77: mapping  "
       ]
      },
      {
       "output_type": "stream",
       "stream": "stdout",
       "text": [
        "\r",
        "Iteration 77: reducing "
       ]
      },
      {
       "output_type": "stream",
       "stream": "stdout",
       "text": [
        "\r",
        "Iteration 77: log_prob="
       ]
      },
      {
       "output_type": "stream",
       "stream": "stdout",
       "text": [
        "-283174.486044\n",
        "\r",
        "Iteration 78: mapping  "
       ]
      },
      {
       "output_type": "stream",
       "stream": "stdout",
       "text": [
        "\r",
        "Iteration 78: reducing "
       ]
      },
      {
       "output_type": "stream",
       "stream": "stdout",
       "text": [
        "\r",
        "Iteration 78: log_prob="
       ]
      },
      {
       "output_type": "stream",
       "stream": "stdout",
       "text": [
        "-283225.681534\n",
        "\r",
        "Iteration 79: mapping  "
       ]
      },
      {
       "output_type": "stream",
       "stream": "stdout",
       "text": [
        "\r",
        "Iteration 79: reducing "
       ]
      },
      {
       "output_type": "stream",
       "stream": "stdout",
       "text": [
        "\r",
        "Iteration 79: log_prob="
       ]
      },
      {
       "output_type": "stream",
       "stream": "stdout",
       "text": [
        "-283000.453349\n",
        "\r",
        "Iteration 80: mapping  "
       ]
      },
      {
       "output_type": "stream",
       "stream": "stdout",
       "text": [
        "\r",
        "Iteration 80: reducing "
       ]
      },
      {
       "output_type": "stream",
       "stream": "stdout",
       "text": [
        "\r",
        "Iteration 80: log_prob="
       ]
      },
      {
       "output_type": "stream",
       "stream": "stdout",
       "text": [
        "-282719.373179\n",
        "\r",
        "Iteration 81: mapping  "
       ]
      },
      {
       "output_type": "stream",
       "stream": "stdout",
       "text": [
        "\r",
        "Iteration 81: reducing "
       ]
      },
      {
       "output_type": "stream",
       "stream": "stdout",
       "text": [
        "\r",
        "Iteration 81: log_prob="
       ]
      },
      {
       "output_type": "stream",
       "stream": "stdout",
       "text": [
        "-282701.884575\n",
        "\r",
        "Iteration 82: mapping  "
       ]
      },
      {
       "output_type": "stream",
       "stream": "stdout",
       "text": [
        "\r",
        "Iteration 82: reducing "
       ]
      },
      {
       "output_type": "stream",
       "stream": "stdout",
       "text": [
        "\r",
        "Iteration 82: log_prob="
       ]
      },
      {
       "output_type": "stream",
       "stream": "stdout",
       "text": [
        "-282831.374099\n",
        "\r",
        "Iteration 83: mapping  "
       ]
      },
      {
       "output_type": "stream",
       "stream": "stdout",
       "text": [
        "\r",
        "Iteration 83: reducing "
       ]
      },
      {
       "output_type": "stream",
       "stream": "stdout",
       "text": [
        "\r",
        "Iteration 83: log_prob="
       ]
      },
      {
       "output_type": "stream",
       "stream": "stdout",
       "text": [
        "-282613.219064\n",
        "\r",
        "Iteration 84: mapping  "
       ]
      },
      {
       "output_type": "stream",
       "stream": "stdout",
       "text": [
        "\r",
        "Iteration 84: reducing "
       ]
      },
      {
       "output_type": "stream",
       "stream": "stdout",
       "text": [
        "\r",
        "Iteration 84: log_prob="
       ]
      },
      {
       "output_type": "stream",
       "stream": "stdout",
       "text": [
        "-282486.147017\n",
        "\r",
        "Iteration 85: mapping  "
       ]
      },
      {
       "output_type": "stream",
       "stream": "stdout",
       "text": [
        "\r",
        "Iteration 85: reducing "
       ]
      },
      {
       "output_type": "stream",
       "stream": "stdout",
       "text": [
        "\r",
        "Iteration 85: log_prob="
       ]
      },
      {
       "output_type": "stream",
       "stream": "stdout",
       "text": [
        "-282476.431580\n",
        "\r",
        "Iteration 86: mapping  "
       ]
      },
      {
       "output_type": "stream",
       "stream": "stdout",
       "text": [
        "\r",
        "Iteration 86: reducing "
       ]
      },
      {
       "output_type": "stream",
       "stream": "stdout",
       "text": [
        "\r",
        "Iteration 86: log_prob="
       ]
      },
      {
       "output_type": "stream",
       "stream": "stdout",
       "text": [
        "-282113.156630\n",
        "\r",
        "Iteration 87: mapping  "
       ]
      },
      {
       "output_type": "stream",
       "stream": "stdout",
       "text": [
        "\r",
        "Iteration 87: reducing "
       ]
      },
      {
       "output_type": "stream",
       "stream": "stdout",
       "text": [
        "\r",
        "Iteration 87: log_prob="
       ]
      },
      {
       "output_type": "stream",
       "stream": "stdout",
       "text": [
        "-282292.375634\n",
        "\r",
        "Iteration 88: mapping  "
       ]
      },
      {
       "output_type": "stream",
       "stream": "stdout",
       "text": [
        "\r",
        "Iteration 88: reducing "
       ]
      },
      {
       "output_type": "stream",
       "stream": "stdout",
       "text": [
        "\r",
        "Iteration 88: log_prob="
       ]
      },
      {
       "output_type": "stream",
       "stream": "stdout",
       "text": [
        "-282190.814441\n",
        "\r",
        "Iteration 89: mapping  "
       ]
      },
      {
       "output_type": "stream",
       "stream": "stdout",
       "text": [
        "\r",
        "Iteration 89: reducing "
       ]
      },
      {
       "output_type": "stream",
       "stream": "stdout",
       "text": [
        "\r",
        "Iteration 89: log_prob="
       ]
      },
      {
       "output_type": "stream",
       "stream": "stdout",
       "text": [
        "-282077.214523\n",
        "\r",
        "Iteration 90: mapping  "
       ]
      },
      {
       "output_type": "stream",
       "stream": "stdout",
       "text": [
        "\r",
        "Iteration 90: reducing "
       ]
      },
      {
       "output_type": "stream",
       "stream": "stdout",
       "text": [
        "\r",
        "Iteration 90: log_prob="
       ]
      },
      {
       "output_type": "stream",
       "stream": "stdout",
       "text": [
        "-282001.290200\n",
        "\r",
        "Iteration 91: mapping  "
       ]
      },
      {
       "output_type": "stream",
       "stream": "stdout",
       "text": [
        "\r",
        "Iteration 91: reducing "
       ]
      },
      {
       "output_type": "stream",
       "stream": "stdout",
       "text": [
        "\r",
        "Iteration 91: log_prob="
       ]
      },
      {
       "output_type": "stream",
       "stream": "stdout",
       "text": [
        "-281993.053888\n",
        "\r",
        "Iteration 92: mapping  "
       ]
      },
      {
       "output_type": "stream",
       "stream": "stdout",
       "text": [
        "\r",
        "Iteration 92: reducing "
       ]
      },
      {
       "output_type": "stream",
       "stream": "stdout",
       "text": [
        "\r",
        "Iteration 92: log_prob="
       ]
      },
      {
       "output_type": "stream",
       "stream": "stdout",
       "text": [
        "-281778.096287\n",
        "\r",
        "Iteration 93: mapping  "
       ]
      },
      {
       "output_type": "stream",
       "stream": "stdout",
       "text": [
        "\r",
        "Iteration 93: reducing "
       ]
      },
      {
       "output_type": "stream",
       "stream": "stdout",
       "text": [
        "\r",
        "Iteration 93: log_prob="
       ]
      },
      {
       "output_type": "stream",
       "stream": "stdout",
       "text": [
        "-281896.160436\n",
        "\r",
        "Iteration 94: mapping  "
       ]
      },
      {
       "output_type": "stream",
       "stream": "stdout",
       "text": [
        "\r",
        "Iteration 94: reducing "
       ]
      },
      {
       "output_type": "stream",
       "stream": "stdout",
       "text": [
        "\r",
        "Iteration 94: log_prob="
       ]
      },
      {
       "output_type": "stream",
       "stream": "stdout",
       "text": [
        "-281705.031660\n",
        "\r",
        "Iteration 95: mapping  "
       ]
      },
      {
       "output_type": "stream",
       "stream": "stdout",
       "text": [
        "\r",
        "Iteration 95: reducing "
       ]
      },
      {
       "output_type": "stream",
       "stream": "stdout",
       "text": [
        "\r",
        "Iteration 95: log_prob="
       ]
      },
      {
       "output_type": "stream",
       "stream": "stdout",
       "text": [
        "-281745.929099\n",
        "\r",
        "Iteration 96: mapping  "
       ]
      },
      {
       "output_type": "stream",
       "stream": "stdout",
       "text": [
        "\r",
        "Iteration 96: reducing "
       ]
      },
      {
       "output_type": "stream",
       "stream": "stdout",
       "text": [
        "\r",
        "Iteration 96: log_prob="
       ]
      },
      {
       "output_type": "stream",
       "stream": "stdout",
       "text": [
        "-281612.734880\n",
        "\r",
        "Iteration 97: mapping  "
       ]
      },
      {
       "output_type": "stream",
       "stream": "stdout",
       "text": [
        "\r",
        "Iteration 97: reducing "
       ]
      },
      {
       "output_type": "stream",
       "stream": "stdout",
       "text": [
        "\r",
        "Iteration 97: log_prob="
       ]
      },
      {
       "output_type": "stream",
       "stream": "stdout",
       "text": [
        "-281711.277499\n",
        "\r",
        "Iteration 98: mapping  "
       ]
      },
      {
       "output_type": "stream",
       "stream": "stdout",
       "text": [
        "\r",
        "Iteration 98: reducing "
       ]
      },
      {
       "output_type": "stream",
       "stream": "stdout",
       "text": [
        "\r",
        "Iteration 98: log_prob="
       ]
      },
      {
       "output_type": "stream",
       "stream": "stdout",
       "text": [
        "-281489.500825\n",
        "\r",
        "Iteration 99: mapping  "
       ]
      },
      {
       "output_type": "stream",
       "stream": "stdout",
       "text": [
        "\r",
        "Iteration 99: reducing "
       ]
      },
      {
       "output_type": "stream",
       "stream": "stdout",
       "text": [
        "\r",
        "Iteration 99: log_prob="
       ]
      },
      {
       "output_type": "stream",
       "stream": "stdout",
       "text": [
        "-281516.208871\n",
        "\r",
        "Iteration 100: mapping  "
       ]
      },
      {
       "output_type": "stream",
       "stream": "stdout",
       "text": [
        "\r",
        "Iteration 100: reducing "
       ]
      },
      {
       "output_type": "stream",
       "stream": "stdout",
       "text": [
        "\r",
        "Iteration 100: log_prob="
       ]
      },
      {
       "output_type": "stream",
       "stream": "stdout",
       "text": [
        "-281345.587015\n",
        "\r",
        "Iteration 101: mapping  "
       ]
      },
      {
       "output_type": "stream",
       "stream": "stdout",
       "text": [
        "\r",
        "Iteration 101: reducing "
       ]
      },
      {
       "output_type": "stream",
       "stream": "stdout",
       "text": [
        "\r",
        "Iteration 101: log_prob="
       ]
      },
      {
       "output_type": "stream",
       "stream": "stdout",
       "text": [
        "-281240.871406\n",
        "\r",
        "Iteration 102: mapping  "
       ]
      },
      {
       "output_type": "stream",
       "stream": "stdout",
       "text": [
        "\r",
        "Iteration 102: reducing "
       ]
      },
      {
       "output_type": "stream",
       "stream": "stdout",
       "text": [
        "\r",
        "Iteration 102: log_prob="
       ]
      },
      {
       "output_type": "stream",
       "stream": "stdout",
       "text": [
        "-281246.908204\n",
        "\r",
        "Iteration 103: mapping  "
       ]
      },
      {
       "output_type": "stream",
       "stream": "stdout",
       "text": [
        "\r",
        "Iteration 103: reducing "
       ]
      },
      {
       "output_type": "stream",
       "stream": "stdout",
       "text": [
        "\r",
        "Iteration 103: log_prob="
       ]
      },
      {
       "output_type": "stream",
       "stream": "stdout",
       "text": [
        "-281149.389575\n",
        "\r",
        "Iteration 104: mapping  "
       ]
      },
      {
       "output_type": "stream",
       "stream": "stdout",
       "text": [
        "\r",
        "Iteration 104: reducing "
       ]
      },
      {
       "output_type": "stream",
       "stream": "stdout",
       "text": [
        "\r",
        "Iteration 104: log_prob="
       ]
      },
      {
       "output_type": "stream",
       "stream": "stdout",
       "text": [
        "-281140.071309\n",
        "\r",
        "Iteration 105: mapping  "
       ]
      },
      {
       "output_type": "stream",
       "stream": "stdout",
       "text": [
        "\r",
        "Iteration 105: reducing "
       ]
      },
      {
       "output_type": "stream",
       "stream": "stdout",
       "text": [
        "\r",
        "Iteration 105: log_prob="
       ]
      },
      {
       "output_type": "stream",
       "stream": "stdout",
       "text": [
        "-281155.055855\n",
        "\r",
        "Iteration 106: mapping  "
       ]
      },
      {
       "output_type": "stream",
       "stream": "stdout",
       "text": [
        "\r",
        "Iteration 106: reducing "
       ]
      },
      {
       "output_type": "stream",
       "stream": "stdout",
       "text": [
        "\r",
        "Iteration 106: log_prob="
       ]
      },
      {
       "output_type": "stream",
       "stream": "stdout",
       "text": [
        "-280999.230564\n",
        "\r",
        "Iteration 107: mapping  "
       ]
      },
      {
       "output_type": "stream",
       "stream": "stdout",
       "text": [
        "\r",
        "Iteration 107: reducing "
       ]
      },
      {
       "output_type": "stream",
       "stream": "stdout",
       "text": [
        "\r",
        "Iteration 107: log_prob="
       ]
      },
      {
       "output_type": "stream",
       "stream": "stdout",
       "text": [
        "-280967.588820\n",
        "\r",
        "Iteration 108: mapping  "
       ]
      },
      {
       "output_type": "stream",
       "stream": "stdout",
       "text": [
        "\r",
        "Iteration 108: reducing "
       ]
      },
      {
       "output_type": "stream",
       "stream": "stdout",
       "text": [
        "\r",
        "Iteration 108: log_prob="
       ]
      },
      {
       "output_type": "stream",
       "stream": "stdout",
       "text": [
        "-280914.138421\n",
        "\r",
        "Iteration 109: mapping  "
       ]
      },
      {
       "output_type": "stream",
       "stream": "stdout",
       "text": [
        "\r",
        "Iteration 109: reducing "
       ]
      },
      {
       "output_type": "stream",
       "stream": "stdout",
       "text": [
        "\r",
        "Iteration 109: log_prob="
       ]
      },
      {
       "output_type": "stream",
       "stream": "stdout",
       "text": [
        "-280891.142451\n",
        "\r",
        "Iteration 110: mapping  "
       ]
      },
      {
       "output_type": "stream",
       "stream": "stdout",
       "text": [
        "\r",
        "Iteration 110: reducing "
       ]
      },
      {
       "output_type": "stream",
       "stream": "stdout",
       "text": [
        "\r",
        "Iteration 110: log_prob="
       ]
      },
      {
       "output_type": "stream",
       "stream": "stdout",
       "text": [
        "-280806.501194\n",
        "\r",
        "Iteration 111: mapping  "
       ]
      },
      {
       "output_type": "stream",
       "stream": "stdout",
       "text": [
        "\r",
        "Iteration 111: reducing "
       ]
      },
      {
       "output_type": "stream",
       "stream": "stdout",
       "text": [
        "\r",
        "Iteration 111: log_prob="
       ]
      },
      {
       "output_type": "stream",
       "stream": "stdout",
       "text": [
        "-280842.589346\n",
        "\r",
        "Iteration 112: mapping  "
       ]
      },
      {
       "output_type": "stream",
       "stream": "stdout",
       "text": [
        "\r",
        "Iteration 112: reducing "
       ]
      },
      {
       "output_type": "stream",
       "stream": "stdout",
       "text": [
        "\r",
        "Iteration 112: log_prob="
       ]
      },
      {
       "output_type": "stream",
       "stream": "stdout",
       "text": [
        "-280840.507641\n",
        "\r",
        "Iteration 113: mapping  "
       ]
      },
      {
       "output_type": "stream",
       "stream": "stdout",
       "text": [
        "\r",
        "Iteration 113: reducing "
       ]
      },
      {
       "output_type": "stream",
       "stream": "stdout",
       "text": [
        "\r",
        "Iteration 113: log_prob="
       ]
      },
      {
       "output_type": "stream",
       "stream": "stdout",
       "text": [
        "-280868.417154\n",
        "\r",
        "Iteration 114: mapping  "
       ]
      },
      {
       "output_type": "stream",
       "stream": "stdout",
       "text": [
        "\r",
        "Iteration 114: reducing "
       ]
      },
      {
       "output_type": "stream",
       "stream": "stdout",
       "text": [
        "\r",
        "Iteration 114: log_prob="
       ]
      },
      {
       "output_type": "stream",
       "stream": "stdout",
       "text": [
        "-280612.684513\n",
        "\r",
        "Iteration 115: mapping  "
       ]
      },
      {
       "output_type": "stream",
       "stream": "stdout",
       "text": [
        "\r",
        "Iteration 115: reducing "
       ]
      },
      {
       "output_type": "stream",
       "stream": "stdout",
       "text": [
        "\r",
        "Iteration 115: log_prob="
       ]
      },
      {
       "output_type": "stream",
       "stream": "stdout",
       "text": [
        "-280538.843942\n",
        "\r",
        "Iteration 116: mapping  "
       ]
      },
      {
       "output_type": "stream",
       "stream": "stdout",
       "text": [
        "\r",
        "Iteration 116: reducing "
       ]
      },
      {
       "output_type": "stream",
       "stream": "stdout",
       "text": [
        "\r",
        "Iteration 116: log_prob="
       ]
      },
      {
       "output_type": "stream",
       "stream": "stdout",
       "text": [
        "-280584.754964\n",
        "\r",
        "Iteration 117: mapping  "
       ]
      },
      {
       "output_type": "stream",
       "stream": "stdout",
       "text": [
        "\r",
        "Iteration 117: reducing "
       ]
      },
      {
       "output_type": "stream",
       "stream": "stdout",
       "text": [
        "\r",
        "Iteration 117: log_prob="
       ]
      },
      {
       "output_type": "stream",
       "stream": "stdout",
       "text": [
        "-280575.883565\n",
        "\r",
        "Iteration 118: mapping  "
       ]
      },
      {
       "output_type": "stream",
       "stream": "stdout",
       "text": [
        "\r",
        "Iteration 118: reducing "
       ]
      },
      {
       "output_type": "stream",
       "stream": "stdout",
       "text": [
        "\r",
        "Iteration 118: log_prob="
       ]
      },
      {
       "output_type": "stream",
       "stream": "stdout",
       "text": [
        "-280599.044006\n",
        "\r",
        "Iteration 119: mapping  "
       ]
      },
      {
       "output_type": "stream",
       "stream": "stdout",
       "text": [
        "\r",
        "Iteration 119: reducing "
       ]
      },
      {
       "output_type": "stream",
       "stream": "stdout",
       "text": [
        "\r",
        "Iteration 119: log_prob="
       ]
      },
      {
       "output_type": "stream",
       "stream": "stdout",
       "text": [
        "-280514.062587\n",
        "\r",
        "Iteration 120: mapping  "
       ]
      },
      {
       "output_type": "stream",
       "stream": "stdout",
       "text": [
        "\r",
        "Iteration 120: reducing "
       ]
      },
      {
       "output_type": "stream",
       "stream": "stdout",
       "text": [
        "\r",
        "Iteration 120: log_prob="
       ]
      },
      {
       "output_type": "stream",
       "stream": "stdout",
       "text": [
        "-280549.209199\n",
        "\r",
        "Iteration 121: mapping  "
       ]
      },
      {
       "output_type": "stream",
       "stream": "stdout",
       "text": [
        "\r",
        "Iteration 121: reducing "
       ]
      },
      {
       "output_type": "stream",
       "stream": "stdout",
       "text": [
        "\r",
        "Iteration 121: log_prob="
       ]
      },
      {
       "output_type": "stream",
       "stream": "stdout",
       "text": [
        "-280546.096945\n",
        "\r",
        "Iteration 122: mapping  "
       ]
      },
      {
       "output_type": "stream",
       "stream": "stdout",
       "text": [
        "\r",
        "Iteration 122: reducing "
       ]
      },
      {
       "output_type": "stream",
       "stream": "stdout",
       "text": [
        "\r",
        "Iteration 122: log_prob="
       ]
      },
      {
       "output_type": "stream",
       "stream": "stdout",
       "text": [
        "-280504.320382\n",
        "\r",
        "Iteration 123: mapping  "
       ]
      },
      {
       "output_type": "stream",
       "stream": "stdout",
       "text": [
        "\r",
        "Iteration 123: reducing "
       ]
      },
      {
       "output_type": "stream",
       "stream": "stdout",
       "text": [
        "\r",
        "Iteration 123: log_prob="
       ]
      },
      {
       "output_type": "stream",
       "stream": "stdout",
       "text": [
        "-280581.897390\n",
        "\r",
        "Iteration 124: mapping  "
       ]
      },
      {
       "output_type": "stream",
       "stream": "stdout",
       "text": [
        "\r",
        "Iteration 124: reducing "
       ]
      },
      {
       "output_type": "stream",
       "stream": "stdout",
       "text": [
        "\r",
        "Iteration 124: log_prob="
       ]
      },
      {
       "output_type": "stream",
       "stream": "stdout",
       "text": [
        "-280525.910377\n",
        "\r",
        "Iteration 125: mapping  "
       ]
      },
      {
       "output_type": "stream",
       "stream": "stdout",
       "text": [
        "\r",
        "Iteration 125: reducing "
       ]
      },
      {
       "output_type": "stream",
       "stream": "stdout",
       "text": [
        "\r",
        "Iteration 125: log_prob="
       ]
      },
      {
       "output_type": "stream",
       "stream": "stdout",
       "text": [
        "-280367.399561\n",
        "\r",
        "Iteration 126: mapping  "
       ]
      },
      {
       "output_type": "stream",
       "stream": "stdout",
       "text": [
        "\r",
        "Iteration 126: reducing "
       ]
      },
      {
       "output_type": "stream",
       "stream": "stdout",
       "text": [
        "\r",
        "Iteration 126: log_prob="
       ]
      },
      {
       "output_type": "stream",
       "stream": "stdout",
       "text": [
        "-280383.952373\n",
        "\r",
        "Iteration 127: mapping  "
       ]
      },
      {
       "output_type": "stream",
       "stream": "stdout",
       "text": [
        "\r",
        "Iteration 127: reducing "
       ]
      },
      {
       "output_type": "stream",
       "stream": "stdout",
       "text": [
        "\r",
        "Iteration 127: log_prob="
       ]
      },
      {
       "output_type": "stream",
       "stream": "stdout",
       "text": [
        "-280213.778760\n",
        "\r",
        "Iteration 128: mapping  "
       ]
      },
      {
       "output_type": "stream",
       "stream": "stdout",
       "text": [
        "\r",
        "Iteration 128: reducing "
       ]
      },
      {
       "output_type": "stream",
       "stream": "stdout",
       "text": [
        "\r",
        "Iteration 128: log_prob="
       ]
      },
      {
       "output_type": "stream",
       "stream": "stdout",
       "text": [
        "-280212.011397\n",
        "\r",
        "Iteration 129: mapping  "
       ]
      },
      {
       "output_type": "stream",
       "stream": "stdout",
       "text": [
        "\r",
        "Iteration 129: reducing "
       ]
      },
      {
       "output_type": "stream",
       "stream": "stdout",
       "text": [
        "\r",
        "Iteration 129: log_prob="
       ]
      },
      {
       "output_type": "stream",
       "stream": "stdout",
       "text": [
        "-280200.158260\n",
        "\r",
        "Iteration 130: mapping  "
       ]
      },
      {
       "output_type": "stream",
       "stream": "stdout",
       "text": [
        "\r",
        "Iteration 130: reducing "
       ]
      },
      {
       "output_type": "stream",
       "stream": "stdout",
       "text": [
        "\r",
        "Iteration 130: log_prob="
       ]
      },
      {
       "output_type": "stream",
       "stream": "stdout",
       "text": [
        "-280274.193646\n",
        "\r",
        "Iteration 131: mapping  "
       ]
      },
      {
       "output_type": "stream",
       "stream": "stdout",
       "text": [
        "\r",
        "Iteration 131: reducing "
       ]
      },
      {
       "output_type": "stream",
       "stream": "stdout",
       "text": [
        "\r",
        "Iteration 131: log_prob="
       ]
      },
      {
       "output_type": "stream",
       "stream": "stdout",
       "text": [
        "-280072.630572\n",
        "\r",
        "Iteration 132: mapping  "
       ]
      },
      {
       "output_type": "stream",
       "stream": "stdout",
       "text": [
        "\r",
        "Iteration 132: reducing "
       ]
      },
      {
       "output_type": "stream",
       "stream": "stdout",
       "text": [
        "\r",
        "Iteration 132: log_prob="
       ]
      },
      {
       "output_type": "stream",
       "stream": "stdout",
       "text": [
        "-279905.681252\n",
        "\r",
        "Iteration 133: mapping  "
       ]
      },
      {
       "output_type": "stream",
       "stream": "stdout",
       "text": [
        "\r",
        "Iteration 133: reducing "
       ]
      },
      {
       "output_type": "stream",
       "stream": "stdout",
       "text": [
        "\r",
        "Iteration 133: log_prob="
       ]
      },
      {
       "output_type": "stream",
       "stream": "stdout",
       "text": [
        "-280060.295721\n",
        "\r",
        "Iteration 134: mapping  "
       ]
      },
      {
       "output_type": "stream",
       "stream": "stdout",
       "text": [
        "\r",
        "Iteration 134: reducing "
       ]
      },
      {
       "output_type": "stream",
       "stream": "stdout",
       "text": [
        "\r",
        "Iteration 134: log_prob="
       ]
      },
      {
       "output_type": "stream",
       "stream": "stdout",
       "text": [
        "-280133.372513\n",
        "\r",
        "Iteration 135: mapping  "
       ]
      },
      {
       "output_type": "stream",
       "stream": "stdout",
       "text": [
        "\r",
        "Iteration 135: reducing "
       ]
      },
      {
       "output_type": "stream",
       "stream": "stdout",
       "text": [
        "\r",
        "Iteration 135: log_prob="
       ]
      },
      {
       "output_type": "stream",
       "stream": "stdout",
       "text": [
        "-279999.855856\n",
        "\r",
        "Iteration 136: mapping  "
       ]
      },
      {
       "output_type": "stream",
       "stream": "stdout",
       "text": [
        "\r",
        "Iteration 136: reducing "
       ]
      },
      {
       "output_type": "stream",
       "stream": "stdout",
       "text": [
        "\r",
        "Iteration 136: log_prob="
       ]
      },
      {
       "output_type": "stream",
       "stream": "stdout",
       "text": [
        "-279897.421876\n",
        "\r",
        "Iteration 137: mapping  "
       ]
      },
      {
       "output_type": "stream",
       "stream": "stdout",
       "text": [
        "\r",
        "Iteration 137: reducing "
       ]
      },
      {
       "output_type": "stream",
       "stream": "stdout",
       "text": [
        "\r",
        "Iteration 137: log_prob="
       ]
      },
      {
       "output_type": "stream",
       "stream": "stdout",
       "text": [
        "-279853.845351\n",
        "\r",
        "Iteration 138: mapping  "
       ]
      },
      {
       "output_type": "stream",
       "stream": "stdout",
       "text": [
        "\r",
        "Iteration 138: reducing "
       ]
      },
      {
       "output_type": "stream",
       "stream": "stdout",
       "text": [
        "\r",
        "Iteration 138: log_prob="
       ]
      },
      {
       "output_type": "stream",
       "stream": "stdout",
       "text": [
        "-279762.922452\n",
        "\r",
        "Iteration 139: mapping  "
       ]
      },
      {
       "output_type": "stream",
       "stream": "stdout",
       "text": [
        "\r",
        "Iteration 139: reducing "
       ]
      },
      {
       "output_type": "stream",
       "stream": "stdout",
       "text": [
        "\r",
        "Iteration 139: log_prob="
       ]
      },
      {
       "output_type": "stream",
       "stream": "stdout",
       "text": [
        "-279714.778538\n",
        "\r",
        "Iteration 140: mapping  "
       ]
      },
      {
       "output_type": "stream",
       "stream": "stdout",
       "text": [
        "\r",
        "Iteration 140: reducing "
       ]
      },
      {
       "output_type": "stream",
       "stream": "stdout",
       "text": [
        "\r",
        "Iteration 140: log_prob="
       ]
      },
      {
       "output_type": "stream",
       "stream": "stdout",
       "text": [
        "-279637.923775\n",
        "\r",
        "Iteration 141: mapping  "
       ]
      },
      {
       "output_type": "stream",
       "stream": "stdout",
       "text": [
        "\r",
        "Iteration 141: reducing "
       ]
      },
      {
       "output_type": "stream",
       "stream": "stdout",
       "text": [
        "\r",
        "Iteration 141: log_prob="
       ]
      },
      {
       "output_type": "stream",
       "stream": "stdout",
       "text": [
        "-279497.627857\n",
        "\r",
        "Iteration 142: mapping  "
       ]
      },
      {
       "output_type": "stream",
       "stream": "stdout",
       "text": [
        "\r",
        "Iteration 142: reducing "
       ]
      },
      {
       "output_type": "stream",
       "stream": "stdout",
       "text": [
        "\r",
        "Iteration 142: log_prob="
       ]
      },
      {
       "output_type": "stream",
       "stream": "stdout",
       "text": [
        "-279545.861108\n",
        "\r",
        "Iteration 143: mapping  "
       ]
      },
      {
       "output_type": "stream",
       "stream": "stdout",
       "text": [
        "\r",
        "Iteration 143: reducing "
       ]
      },
      {
       "output_type": "stream",
       "stream": "stdout",
       "text": [
        "\r",
        "Iteration 143: log_prob="
       ]
      },
      {
       "output_type": "stream",
       "stream": "stdout",
       "text": [
        "-279431.954193\n",
        "\r",
        "Iteration 144: mapping  "
       ]
      },
      {
       "output_type": "stream",
       "stream": "stdout",
       "text": [
        "\r",
        "Iteration 144: reducing "
       ]
      },
      {
       "output_type": "stream",
       "stream": "stdout",
       "text": [
        "\r",
        "Iteration 144: log_prob="
       ]
      },
      {
       "output_type": "stream",
       "stream": "stdout",
       "text": [
        "-279609.787909\n",
        "\r",
        "Iteration 145: mapping  "
       ]
      },
      {
       "output_type": "stream",
       "stream": "stdout",
       "text": [
        "\r",
        "Iteration 145: reducing "
       ]
      },
      {
       "output_type": "stream",
       "stream": "stdout",
       "text": [
        "\r",
        "Iteration 145: log_prob="
       ]
      },
      {
       "output_type": "stream",
       "stream": "stdout",
       "text": [
        "-279470.462770\n",
        "\r",
        "Iteration 146: mapping  "
       ]
      },
      {
       "output_type": "stream",
       "stream": "stdout",
       "text": [
        "\r",
        "Iteration 146: reducing "
       ]
      },
      {
       "output_type": "stream",
       "stream": "stdout",
       "text": [
        "\r",
        "Iteration 146: log_prob="
       ]
      },
      {
       "output_type": "stream",
       "stream": "stdout",
       "text": [
        "-279459.544925\n",
        "\r",
        "Iteration 147: mapping  "
       ]
      },
      {
       "output_type": "stream",
       "stream": "stdout",
       "text": [
        "\r",
        "Iteration 147: reducing "
       ]
      },
      {
       "output_type": "stream",
       "stream": "stdout",
       "text": [
        "\r",
        "Iteration 147: log_prob="
       ]
      },
      {
       "output_type": "stream",
       "stream": "stdout",
       "text": [
        "-279358.695775\n",
        "\r",
        "Iteration 148: mapping  "
       ]
      },
      {
       "output_type": "stream",
       "stream": "stdout",
       "text": [
        "\r",
        "Iteration 148: reducing "
       ]
      },
      {
       "output_type": "stream",
       "stream": "stdout",
       "text": [
        "\r",
        "Iteration 148: log_prob="
       ]
      },
      {
       "output_type": "stream",
       "stream": "stdout",
       "text": [
        "-279357.832343\n",
        "\r",
        "Iteration 149: mapping  "
       ]
      },
      {
       "output_type": "stream",
       "stream": "stdout",
       "text": [
        "\r",
        "Iteration 149: reducing "
       ]
      },
      {
       "output_type": "stream",
       "stream": "stdout",
       "text": [
        "\r",
        "Iteration 149: log_prob="
       ]
      },
      {
       "output_type": "stream",
       "stream": "stdout",
       "text": [
        "-279308.163335\n",
        "\r",
        "Iteration 150: mapping  "
       ]
      },
      {
       "output_type": "stream",
       "stream": "stdout",
       "text": [
        "\r",
        "Iteration 150: reducing "
       ]
      },
      {
       "output_type": "stream",
       "stream": "stdout",
       "text": [
        "\r",
        "Iteration 150: log_prob="
       ]
      },
      {
       "output_type": "stream",
       "stream": "stdout",
       "text": [
        "-279280.429262\n",
        "\r",
        "Iteration 151: mapping  "
       ]
      },
      {
       "output_type": "stream",
       "stream": "stdout",
       "text": [
        "\r",
        "Iteration 151: reducing "
       ]
      },
      {
       "output_type": "stream",
       "stream": "stdout",
       "text": [
        "\r",
        "Iteration 151: log_prob="
       ]
      },
      {
       "output_type": "stream",
       "stream": "stdout",
       "text": [
        "-279154.559136\n",
        "\r",
        "Iteration 152: mapping  "
       ]
      },
      {
       "output_type": "stream",
       "stream": "stdout",
       "text": [
        "\r",
        "Iteration 152: reducing "
       ]
      },
      {
       "output_type": "stream",
       "stream": "stdout",
       "text": [
        "\r",
        "Iteration 152: log_prob="
       ]
      },
      {
       "output_type": "stream",
       "stream": "stdout",
       "text": [
        "-279297.569539\n",
        "\r",
        "Iteration 153: mapping  "
       ]
      },
      {
       "output_type": "stream",
       "stream": "stdout",
       "text": [
        "\r",
        "Iteration 153: reducing "
       ]
      },
      {
       "output_type": "stream",
       "stream": "stdout",
       "text": [
        "\r",
        "Iteration 153: log_prob="
       ]
      },
      {
       "output_type": "stream",
       "stream": "stdout",
       "text": [
        "-279290.036864\n",
        "\r",
        "Iteration 154: mapping  "
       ]
      },
      {
       "output_type": "stream",
       "stream": "stdout",
       "text": [
        "\r",
        "Iteration 154: reducing "
       ]
      },
      {
       "output_type": "stream",
       "stream": "stdout",
       "text": [
        "\r",
        "Iteration 154: log_prob="
       ]
      },
      {
       "output_type": "stream",
       "stream": "stdout",
       "text": [
        "-279318.575729\n",
        "\r",
        "Iteration 155: mapping  "
       ]
      },
      {
       "output_type": "stream",
       "stream": "stdout",
       "text": [
        "\r",
        "Iteration 155: reducing "
       ]
      },
      {
       "output_type": "stream",
       "stream": "stdout",
       "text": [
        "\r",
        "Iteration 155: log_prob="
       ]
      },
      {
       "output_type": "stream",
       "stream": "stdout",
       "text": [
        "-279234.890090\n",
        "\r",
        "Iteration 156: mapping  "
       ]
      },
      {
       "output_type": "stream",
       "stream": "stdout",
       "text": [
        "\r",
        "Iteration 156: reducing "
       ]
      },
      {
       "output_type": "stream",
       "stream": "stdout",
       "text": [
        "\r",
        "Iteration 156: log_prob="
       ]
      },
      {
       "output_type": "stream",
       "stream": "stdout",
       "text": [
        "-279240.145133\n",
        "\r",
        "Iteration 157: mapping  "
       ]
      },
      {
       "output_type": "stream",
       "stream": "stdout",
       "text": [
        "\r",
        "Iteration 157: reducing "
       ]
      },
      {
       "output_type": "stream",
       "stream": "stdout",
       "text": [
        "\r",
        "Iteration 157: log_prob="
       ]
      },
      {
       "output_type": "stream",
       "stream": "stdout",
       "text": [
        "-279166.886573\n",
        "\r",
        "Iteration 158: mapping  "
       ]
      },
      {
       "output_type": "stream",
       "stream": "stdout",
       "text": [
        "\r",
        "Iteration 158: reducing "
       ]
      },
      {
       "output_type": "stream",
       "stream": "stdout",
       "text": [
        "\r",
        "Iteration 158: log_prob="
       ]
      },
      {
       "output_type": "stream",
       "stream": "stdout",
       "text": [
        "-279225.157579\n",
        "\r",
        "Iteration 159: mapping  "
       ]
      },
      {
       "output_type": "stream",
       "stream": "stdout",
       "text": [
        "\r",
        "Iteration 159: reducing "
       ]
      },
      {
       "output_type": "stream",
       "stream": "stdout",
       "text": [
        "\r",
        "Iteration 159: log_prob="
       ]
      },
      {
       "output_type": "stream",
       "stream": "stdout",
       "text": [
        "-279126.418236\n",
        "\r",
        "Iteration 160: mapping  "
       ]
      },
      {
       "output_type": "stream",
       "stream": "stdout",
       "text": [
        "\r",
        "Iteration 160: reducing "
       ]
      },
      {
       "output_type": "stream",
       "stream": "stdout",
       "text": [
        "\r",
        "Iteration 160: log_prob="
       ]
      },
      {
       "output_type": "stream",
       "stream": "stdout",
       "text": [
        "-279130.510578\n",
        "\r",
        "Iteration 161: mapping  "
       ]
      },
      {
       "output_type": "stream",
       "stream": "stdout",
       "text": [
        "\r",
        "Iteration 161: reducing "
       ]
      },
      {
       "output_type": "stream",
       "stream": "stdout",
       "text": [
        "\r",
        "Iteration 161: log_prob="
       ]
      },
      {
       "output_type": "stream",
       "stream": "stdout",
       "text": [
        "-279243.070842\n",
        "\r",
        "Iteration 162: mapping  "
       ]
      },
      {
       "output_type": "stream",
       "stream": "stdout",
       "text": [
        "\r",
        "Iteration 162: reducing "
       ]
      },
      {
       "output_type": "stream",
       "stream": "stdout",
       "text": [
        "\r",
        "Iteration 162: log_prob="
       ]
      },
      {
       "output_type": "stream",
       "stream": "stdout",
       "text": [
        "-279101.956069\n",
        "\r",
        "Iteration 163: mapping  "
       ]
      },
      {
       "output_type": "stream",
       "stream": "stdout",
       "text": [
        "\r",
        "Iteration 163: reducing "
       ]
      },
      {
       "output_type": "stream",
       "stream": "stdout",
       "text": [
        "\r",
        "Iteration 163: log_prob="
       ]
      },
      {
       "output_type": "stream",
       "stream": "stdout",
       "text": [
        "-279007.462857\n",
        "\r",
        "Iteration 164: mapping  "
       ]
      },
      {
       "output_type": "stream",
       "stream": "stdout",
       "text": [
        "\r",
        "Iteration 164: reducing "
       ]
      },
      {
       "output_type": "stream",
       "stream": "stdout",
       "text": [
        "\r",
        "Iteration 164: log_prob="
       ]
      },
      {
       "output_type": "stream",
       "stream": "stdout",
       "text": [
        "-278875.624810\n",
        "\r",
        "Iteration 165: mapping  "
       ]
      },
      {
       "output_type": "stream",
       "stream": "stdout",
       "text": [
        "\r",
        "Iteration 165: reducing "
       ]
      },
      {
       "output_type": "stream",
       "stream": "stdout",
       "text": [
        "\r",
        "Iteration 165: log_prob="
       ]
      },
      {
       "output_type": "stream",
       "stream": "stdout",
       "text": [
        "-278895.549031\n",
        "\r",
        "Iteration 166: mapping  "
       ]
      },
      {
       "output_type": "stream",
       "stream": "stdout",
       "text": [
        "\r",
        "Iteration 166: reducing "
       ]
      },
      {
       "output_type": "stream",
       "stream": "stdout",
       "text": [
        "\r",
        "Iteration 166: log_prob="
       ]
      },
      {
       "output_type": "stream",
       "stream": "stdout",
       "text": [
        "-278907.682588\n",
        "\r",
        "Iteration 167: mapping  "
       ]
      },
      {
       "output_type": "stream",
       "stream": "stdout",
       "text": [
        "\r",
        "Iteration 167: reducing "
       ]
      },
      {
       "output_type": "stream",
       "stream": "stdout",
       "text": [
        "\r",
        "Iteration 167: log_prob="
       ]
      },
      {
       "output_type": "stream",
       "stream": "stdout",
       "text": [
        "-278875.948320\n",
        "\r",
        "Iteration 168: mapping  "
       ]
      },
      {
       "output_type": "stream",
       "stream": "stdout",
       "text": [
        "\r",
        "Iteration 168: reducing "
       ]
      },
      {
       "output_type": "stream",
       "stream": "stdout",
       "text": [
        "\r",
        "Iteration 168: log_prob="
       ]
      },
      {
       "output_type": "stream",
       "stream": "stdout",
       "text": [
        "-278873.584387\n",
        "\r",
        "Iteration 169: mapping  "
       ]
      },
      {
       "output_type": "stream",
       "stream": "stdout",
       "text": [
        "\r",
        "Iteration 169: reducing "
       ]
      },
      {
       "output_type": "stream",
       "stream": "stdout",
       "text": [
        "\r",
        "Iteration 169: log_prob="
       ]
      },
      {
       "output_type": "stream",
       "stream": "stdout",
       "text": [
        "-278923.989186\n",
        "\r",
        "Iteration 170: mapping  "
       ]
      },
      {
       "output_type": "stream",
       "stream": "stdout",
       "text": [
        "\r",
        "Iteration 170: reducing "
       ]
      },
      {
       "output_type": "stream",
       "stream": "stdout",
       "text": [
        "\r",
        "Iteration 170: log_prob="
       ]
      },
      {
       "output_type": "stream",
       "stream": "stdout",
       "text": [
        "-278897.466062\n",
        "\r",
        "Iteration 171: mapping  "
       ]
      },
      {
       "output_type": "stream",
       "stream": "stdout",
       "text": [
        "\r",
        "Iteration 171: reducing "
       ]
      },
      {
       "output_type": "stream",
       "stream": "stdout",
       "text": [
        "\r",
        "Iteration 171: log_prob="
       ]
      },
      {
       "output_type": "stream",
       "stream": "stdout",
       "text": [
        "-278924.944640\n",
        "\r",
        "Iteration 172: mapping  "
       ]
      },
      {
       "output_type": "stream",
       "stream": "stdout",
       "text": [
        "\r",
        "Iteration 172: reducing "
       ]
      },
      {
       "output_type": "stream",
       "stream": "stdout",
       "text": [
        "\r",
        "Iteration 172: log_prob="
       ]
      },
      {
       "output_type": "stream",
       "stream": "stdout",
       "text": [
        "-278920.940370\n",
        "\r",
        "Iteration 173: mapping  "
       ]
      },
      {
       "output_type": "stream",
       "stream": "stdout",
       "text": [
        "\r",
        "Iteration 173: reducing "
       ]
      },
      {
       "output_type": "stream",
       "stream": "stdout",
       "text": [
        "\r",
        "Iteration 173: log_prob="
       ]
      },
      {
       "output_type": "stream",
       "stream": "stdout",
       "text": [
        "-278947.677276\n",
        "\r",
        "Iteration 174: mapping  "
       ]
      },
      {
       "output_type": "stream",
       "stream": "stdout",
       "text": [
        "\r",
        "Iteration 174: reducing "
       ]
      },
      {
       "output_type": "stream",
       "stream": "stdout",
       "text": [
        "\r",
        "Iteration 174: log_prob="
       ]
      },
      {
       "output_type": "stream",
       "stream": "stdout",
       "text": [
        "-279073.788844\n",
        "\r",
        "Iteration 175: mapping  "
       ]
      },
      {
       "output_type": "stream",
       "stream": "stdout",
       "text": [
        "\r",
        "Iteration 175: reducing "
       ]
      },
      {
       "output_type": "stream",
       "stream": "stdout",
       "text": [
        "\r",
        "Iteration 175: log_prob="
       ]
      },
      {
       "output_type": "stream",
       "stream": "stdout",
       "text": [
        "-278954.501307\n",
        "\r",
        "Iteration 176: mapping  "
       ]
      },
      {
       "output_type": "stream",
       "stream": "stdout",
       "text": [
        "\r",
        "Iteration 176: reducing "
       ]
      },
      {
       "output_type": "stream",
       "stream": "stdout",
       "text": [
        "\r",
        "Iteration 176: log_prob="
       ]
      },
      {
       "output_type": "stream",
       "stream": "stdout",
       "text": [
        "-278692.859260\n",
        "\r",
        "Iteration 177: mapping  "
       ]
      },
      {
       "output_type": "stream",
       "stream": "stdout",
       "text": [
        "\r",
        "Iteration 177: reducing "
       ]
      },
      {
       "output_type": "stream",
       "stream": "stdout",
       "text": [
        "\r",
        "Iteration 177: log_prob="
       ]
      },
      {
       "output_type": "stream",
       "stream": "stdout",
       "text": [
        "-278693.419368\n",
        "\r",
        "Iteration 178: mapping  "
       ]
      },
      {
       "output_type": "stream",
       "stream": "stdout",
       "text": [
        "\r",
        "Iteration 178: reducing "
       ]
      },
      {
       "output_type": "stream",
       "stream": "stdout",
       "text": [
        "\r",
        "Iteration 178: log_prob="
       ]
      },
      {
       "output_type": "stream",
       "stream": "stdout",
       "text": [
        "-278671.879721\n",
        "\r",
        "Iteration 179: mapping  "
       ]
      },
      {
       "output_type": "stream",
       "stream": "stdout",
       "text": [
        "\r",
        "Iteration 179: reducing "
       ]
      },
      {
       "output_type": "stream",
       "stream": "stdout",
       "text": [
        "\r",
        "Iteration 179: log_prob="
       ]
      },
      {
       "output_type": "stream",
       "stream": "stdout",
       "text": [
        "-278756.398915\n",
        "\r",
        "Iteration 180: mapping  "
       ]
      },
      {
       "output_type": "stream",
       "stream": "stdout",
       "text": [
        "\r",
        "Iteration 180: reducing "
       ]
      },
      {
       "output_type": "stream",
       "stream": "stdout",
       "text": [
        "\r",
        "Iteration 180: log_prob="
       ]
      },
      {
       "output_type": "stream",
       "stream": "stdout",
       "text": [
        "-278579.987108\n",
        "\r",
        "Iteration 181: mapping  "
       ]
      },
      {
       "output_type": "stream",
       "stream": "stdout",
       "text": [
        "\r",
        "Iteration 181: reducing "
       ]
      },
      {
       "output_type": "stream",
       "stream": "stdout",
       "text": [
        "\r",
        "Iteration 181: log_prob="
       ]
      },
      {
       "output_type": "stream",
       "stream": "stdout",
       "text": [
        "-278678.334474\n",
        "\r",
        "Iteration 182: mapping  "
       ]
      },
      {
       "output_type": "stream",
       "stream": "stdout",
       "text": [
        "\r",
        "Iteration 182: reducing "
       ]
      },
      {
       "output_type": "stream",
       "stream": "stdout",
       "text": [
        "\r",
        "Iteration 182: log_prob="
       ]
      },
      {
       "output_type": "stream",
       "stream": "stdout",
       "text": [
        "-278536.337861\n",
        "\r",
        "Iteration 183: mapping  "
       ]
      },
      {
       "output_type": "stream",
       "stream": "stdout",
       "text": [
        "\r",
        "Iteration 183: reducing "
       ]
      },
      {
       "output_type": "stream",
       "stream": "stdout",
       "text": [
        "\r",
        "Iteration 183: log_prob="
       ]
      },
      {
       "output_type": "stream",
       "stream": "stdout",
       "text": [
        "-278645.492024\n",
        "\r",
        "Iteration 184: mapping  "
       ]
      },
      {
       "output_type": "stream",
       "stream": "stdout",
       "text": [
        "\r",
        "Iteration 184: reducing "
       ]
      },
      {
       "output_type": "stream",
       "stream": "stdout",
       "text": [
        "\r",
        "Iteration 184: log_prob="
       ]
      },
      {
       "output_type": "stream",
       "stream": "stdout",
       "text": [
        "-278602.658180\n",
        "\r",
        "Iteration 185: mapping  "
       ]
      },
      {
       "output_type": "stream",
       "stream": "stdout",
       "text": [
        "\r",
        "Iteration 185: reducing "
       ]
      },
      {
       "output_type": "stream",
       "stream": "stdout",
       "text": [
        "\r",
        "Iteration 185: log_prob="
       ]
      },
      {
       "output_type": "stream",
       "stream": "stdout",
       "text": [
        "-278591.773284\n",
        "\r",
        "Iteration 186: mapping  "
       ]
      },
      {
       "output_type": "stream",
       "stream": "stdout",
       "text": [
        "\r",
        "Iteration 186: reducing "
       ]
      },
      {
       "output_type": "stream",
       "stream": "stdout",
       "text": [
        "\r",
        "Iteration 186: log_prob="
       ]
      },
      {
       "output_type": "stream",
       "stream": "stdout",
       "text": [
        "-278630.117318\n",
        "\r",
        "Iteration 187: mapping  "
       ]
      },
      {
       "output_type": "stream",
       "stream": "stdout",
       "text": [
        "\r",
        "Iteration 187: reducing "
       ]
      },
      {
       "output_type": "stream",
       "stream": "stdout",
       "text": [
        "\r",
        "Iteration 187: log_prob="
       ]
      },
      {
       "output_type": "stream",
       "stream": "stdout",
       "text": [
        "-278593.578745\n",
        "\r",
        "Iteration 188: mapping  "
       ]
      },
      {
       "output_type": "stream",
       "stream": "stdout",
       "text": [
        "\r",
        "Iteration 188: reducing "
       ]
      },
      {
       "output_type": "stream",
       "stream": "stdout",
       "text": [
        "\r",
        "Iteration 188: log_prob="
       ]
      },
      {
       "output_type": "stream",
       "stream": "stdout",
       "text": [
        "-278594.943152\n",
        "\r",
        "Iteration 189: mapping  "
       ]
      },
      {
       "output_type": "stream",
       "stream": "stdout",
       "text": [
        "\r",
        "Iteration 189: reducing "
       ]
      },
      {
       "output_type": "stream",
       "stream": "stdout",
       "text": [
        "\r",
        "Iteration 189: log_prob="
       ]
      },
      {
       "output_type": "stream",
       "stream": "stdout",
       "text": [
        "-278645.465722\n",
        "\r",
        "Iteration 190: mapping  "
       ]
      },
      {
       "output_type": "stream",
       "stream": "stdout",
       "text": [
        "\r",
        "Iteration 190: reducing "
       ]
      },
      {
       "output_type": "stream",
       "stream": "stdout",
       "text": [
        "\r",
        "Iteration 190: log_prob="
       ]
      },
      {
       "output_type": "stream",
       "stream": "stdout",
       "text": [
        "-278723.530195\n",
        "\r",
        "Iteration 191: mapping  "
       ]
      },
      {
       "output_type": "stream",
       "stream": "stdout",
       "text": [
        "\r",
        "Iteration 191: reducing "
       ]
      },
      {
       "output_type": "stream",
       "stream": "stdout",
       "text": [
        "\r",
        "Iteration 191: log_prob="
       ]
      },
      {
       "output_type": "stream",
       "stream": "stdout",
       "text": [
        "-278470.059406\n",
        "\r",
        "Iteration 192: mapping  "
       ]
      },
      {
       "output_type": "stream",
       "stream": "stdout",
       "text": [
        "\r",
        "Iteration 192: reducing "
       ]
      },
      {
       "output_type": "stream",
       "stream": "stdout",
       "text": [
        "\r",
        "Iteration 192: log_prob="
       ]
      },
      {
       "output_type": "stream",
       "stream": "stdout",
       "text": [
        "-278538.941629\n",
        "\r",
        "Iteration 193: mapping  "
       ]
      },
      {
       "output_type": "stream",
       "stream": "stdout",
       "text": [
        "\r",
        "Iteration 193: reducing "
       ]
      },
      {
       "output_type": "stream",
       "stream": "stdout",
       "text": [
        "\r",
        "Iteration 193: log_prob="
       ]
      },
      {
       "output_type": "stream",
       "stream": "stdout",
       "text": [
        "-278476.362100\n",
        "\r",
        "Iteration 194: mapping  "
       ]
      },
      {
       "output_type": "stream",
       "stream": "stdout",
       "text": [
        "\r",
        "Iteration 194: reducing "
       ]
      },
      {
       "output_type": "stream",
       "stream": "stdout",
       "text": [
        "\r",
        "Iteration 194: log_prob="
       ]
      },
      {
       "output_type": "stream",
       "stream": "stdout",
       "text": [
        "-278341.487584\n",
        "\r",
        "Iteration 195: mapping  "
       ]
      },
      {
       "output_type": "stream",
       "stream": "stdout",
       "text": [
        "\r",
        "Iteration 195: reducing "
       ]
      },
      {
       "output_type": "stream",
       "stream": "stdout",
       "text": [
        "\r",
        "Iteration 195: log_prob="
       ]
      },
      {
       "output_type": "stream",
       "stream": "stdout",
       "text": [
        "-278326.838013\n",
        "\r",
        "Iteration 196: mapping  "
       ]
      },
      {
       "output_type": "stream",
       "stream": "stdout",
       "text": [
        "\r",
        "Iteration 196: reducing "
       ]
      },
      {
       "output_type": "stream",
       "stream": "stdout",
       "text": [
        "\r",
        "Iteration 196: log_prob="
       ]
      },
      {
       "output_type": "stream",
       "stream": "stdout",
       "text": [
        "-278326.208874\n",
        "\r",
        "Iteration 197: mapping  "
       ]
      },
      {
       "output_type": "stream",
       "stream": "stdout",
       "text": [
        "\r",
        "Iteration 197: reducing "
       ]
      },
      {
       "output_type": "stream",
       "stream": "stdout",
       "text": [
        "\r",
        "Iteration 197: log_prob="
       ]
      },
      {
       "output_type": "stream",
       "stream": "stdout",
       "text": [
        "-278347.257967\n",
        "\r",
        "Iteration 198: mapping  "
       ]
      },
      {
       "output_type": "stream",
       "stream": "stdout",
       "text": [
        "\r",
        "Iteration 198: reducing "
       ]
      },
      {
       "output_type": "stream",
       "stream": "stdout",
       "text": [
        "\r",
        "Iteration 198: log_prob="
       ]
      },
      {
       "output_type": "stream",
       "stream": "stdout",
       "text": [
        "-278340.321894\n",
        "\r",
        "Iteration 199: mapping  "
       ]
      },
      {
       "output_type": "stream",
       "stream": "stdout",
       "text": [
        "\r",
        "Iteration 199: reducing "
       ]
      },
      {
       "output_type": "stream",
       "stream": "stdout",
       "text": [
        "\r",
        "Iteration 199: log_prob="
       ]
      },
      {
       "output_type": "stream",
       "stream": "stdout",
       "text": [
        "-278351.221305\n"
       ]
      }
     ],
     "prompt_number": 8
    },
    {
     "cell_type": "code",
     "collapsed": false,
     "input": [
      "# Saving an LDA model in a .npz file.\n",
      "\n",
      "lda.save(plain_dir + 'uc2.ark+=13960=t5w66bs1h-nltk-freq3-LDA-K20.npz')"
     ],
     "language": "python",
     "metadata": {},
     "outputs": [
      {
       "output_type": "stream",
       "stream": "stdout",
       "text": [
        "Saving LdaCgsMulti model to /var/inphosemantics/data/extensions/uc2.ark+=13960=t5w66bs1h-nltk-freq3-LDA-K20.npz\n"
       ]
      }
     ],
     "prompt_number": 10
    },
    {
     "cell_type": "code",
     "collapsed": false,
     "input": [
      "# To view results, we make a Viewer object which requires a Corpus and a Model.\n",
      "\n",
      "v = LDAGibbsViewer(c, lda)"
     ],
     "language": "python",
     "metadata": {},
     "outputs": [],
     "prompt_number": 11
    },
    {
     "cell_type": "code",
     "collapsed": false,
     "input": [
      "# Below is the 20 topics.\n",
      "\n",
      "v.topics()"
     ],
     "language": "python",
     "metadata": {},
     "outputs": [
      {
       "html": [
        "<table style=\"margin: 0\"><tr><th style=\"text-align: center; background: #CEE3F6\" colspan            =\"11\">Topics Sorted by Index</th></tr><tr><th style=\"text-align: center; background: #EFF2FB;\"                     >Topic</th><th style=\"text-align: center; background: #EFF2FB;\"                     >Words</th></tr><tr><td style=\"padding-left:0.75em;\">0</td><td> bees, ants, smell, j, hive, h, c, bethe, g, e                  </td></tr><tr><td style=\"padding-left:0.75em;\">1</td><td> animal, side, toward, body, water, end, reaction, position, one, light              </td></tr><tr><td style=\"padding-left:0.75em;\">2</td><td> jour, les, la, de, des, sur, et, etc, neur, bull               </td></tr><tr><td style=\"padding-left:0.75em;\">3</td><td> reactions, stimuli, stimulus, animal, may, different, one, sensation, objects, experience         </td></tr><tr><td style=\"padding-left:0.75em;\">4</td><td> stimuli, reaction, one, animal, stimulus, would, two, experience, second, discrimination     </td></tr><tr><td style=\"padding-left:0.75em;\">5</td><td> vol, p, psych, ibid, physiol, paris, methods, 7, method, sci                </td></tr><tr><td style=\"padding-left:0.75em;\">6</td><td> organs, found, eyes, function, organ, smell, insects, eye, auditory, stimulation        </td></tr><tr><td style=\"padding-left:0.75em;\">7</td><td> f, ff, sense, hearing, vision, chemical, reactions, insects, crustacea, learning           </td></tr><tr><td style=\"padding-left:0.75em;\">8</td><td> labyrinth, box, monkeys, rats, vol, experiments, cats, learned, used, learning           </td></tr><tr><td style=\"padding-left:0.75em;\">9</td><td> reaction, stimulus, stimulation, negative, response, mechanical, animal, may, one, stimuli            </td></tr><tr><td style=\"padding-left:0.75em;\">10</td><td> light, animals, smell, less, movements, found, however, reactions, worms, fact               </td></tr><tr><td style=\"padding-left:0.75em;\">11</td><td> red, light, one, blue, white, food, two, color, green, colors             </td></tr><tr><td style=\"padding-left:0.75em;\">12</td><td> p, der, bd, die, ibid, 1, und, 3, arch, 2                  </td></tr><tr><td style=\"padding-left:0.75em;\">13</td><td> animal, experience, may, memory, stimulus, image, learning, idea, possible, behavior           </td></tr><tr><td style=\"padding-left:0.75em;\">14</td><td> paper, food, water, one, meat, small, filter, first, spider, fork               </td></tr><tr><td style=\"padding-left:0.75em;\">15</td><td> light, negative, positive, stimulation, intensity, reaction, effect, reactions, response, water              </td></tr><tr><td style=\"padding-left:0.75em;\">16</td><td> animal, behavior, animals, may, consciousness, mind, ideas, evidence, human, would              </td></tr><tr><td style=\"padding-left:0.75em;\">17</td><td> psychology, c, animal, mind, psychic, r, comparative, b, experience, mental             </td></tr><tr><td style=\"padding-left:0.75em;\">18</td><td> one, nest, ant, would, ants, two, path, right, first, others             </td></tr><tr><td style=\"padding-left:0.75em;\">19</td><td> movements, bd, made, cent, wasps, method, experiments, results, dropping, biol               </td></tr></table>"
       ],
       "metadata": {},
       "output_type": "pyout",
       "prompt_number": 13,
       "text": [
        "CompactTable([[('bees', 0.031500755901849337), ('ants', 0.028108888630461158),\n",
        "        ('smell', 0.019871496685661304), ...,\n",
        "        ('movements', 4.8455246734107174e-06),\n",
        "        ('stimulus', 4.8455246734107174e-06), ('6', 4.8455246734098569e-06)],\n",
        "       [('animal', 0.022478951599254119), ('side', 0.019041398713825295),\n",
        "        ('toward', 0.017190408698594395), ...,\n",
        "        ('w', 2.6442714503288608e-06), ('h', 2.6442714503288608e-06),\n",
        "        ('organs', 2.6442714503283911e-06)],\n",
        "       [('jour', 0.10071738933647334), ('les', 0.082612926586405094),\n",
        "        ('la', 0.066771521680095411), ...,\n",
        "        ('body', 1.1315289218790396e-05),\n",
        "        ('first', 1.1315289218790396e-05), ('f', 1.1315289218782356e-05)],\n",
        "       ..., \n",
        "       [('psychology', 0.025523123429648503), ('c', 0.025523123429648503),\n",
        "        ('animal', 0.024050918655779137), ...,\n",
        "        ('first', 4.90734924623023e-06), ('time', 4.90734924623023e-06),\n",
        "        ('would', 4.9073492462267428e-06)],\n",
        "       [('one', 0.023753506805800014), ('nest', 0.022640235122978577),\n",
        "        ('ant', 0.017073876708871408), ...,\n",
        "        ('eye', 3.7109056094040447e-06), ('1', 3.7109056094040447e-06),\n",
        "        ('jour', 3.7109056094014079e-06)],\n",
        "       [('movements', 0.028468969555035584), ('bd', 0.02521630236794211),\n",
        "        ('made', 0.023589968774395381), ...,\n",
        "        ('ibid', 8.1316679677320541e-06),\n",
        "        ('movement', 8.1316679677320541e-06),\n",
        "        ('phototropic', 8.1316679677320541e-06)]], \n",
        "      dtype=[('word', '|S17'), ('value', '<f8')])"
       ]
      }
     ],
     "prompt_number": 13
    },
    {
     "cell_type": "code",
     "collapsed": false,
     "input": [
      "# Displaying topics that relate to a list of words.\n",
      "\n",
      "v.sim_word_top(['psychology', 'animal', 'light'])"
     ],
     "language": "python",
     "metadata": {},
     "outputs": [
      {
       "html": [
        "<table style=\"margin: 0\"><tr><th style=\"text-align: center; background: #CEE3F6\" colspan            =\"11\">Sorted by Word Similarity</th></tr><tr><th style=\"text-align: center; background: #EFF2FB;\"                     >Topic</th><th style=\"text-align: center; background: #EFF2FB;\"                     >Words</th></tr><tr><td style=\"padding-left:0.75em;\">15</td><td> light, negative, positive, stimulation, intensity, reaction, effect, reactions, response, water              </td></tr><tr><td style=\"padding-left:0.75em;\">17</td><td> psychology, c, animal, mind, psychic, r, comparative, b, experience, mental             </td></tr><tr><td style=\"padding-left:0.75em;\">1</td><td> animal, side, toward, body, water, end, reaction, position, one, light              </td></tr><tr><td style=\"padding-left:0.75em;\">11</td><td> red, light, one, blue, white, food, two, color, green, colors             </td></tr><tr><td style=\"padding-left:0.75em;\">10</td><td> light, animals, smell, less, movements, found, however, reactions, worms, fact               </td></tr><tr><td style=\"padding-left:0.75em;\">16</td><td> animal, behavior, animals, may, consciousness, mind, ideas, evidence, human, would              </td></tr><tr><td style=\"padding-left:0.75em;\">13</td><td> animal, experience, may, memory, stimulus, image, learning, idea, possible, behavior           </td></tr><tr><td style=\"padding-left:0.75em;\">3</td><td> reactions, stimuli, stimulus, animal, may, different, one, sensation, objects, experience         </td></tr><tr><td style=\"padding-left:0.75em;\">9</td><td> reaction, stimulus, stimulation, negative, response, mechanical, animal, may, one, stimuli            </td></tr><tr><td style=\"padding-left:0.75em;\">4</td><td> stimuli, reaction, one, animal, stimulus, would, two, experience, second, discrimination     </td></tr><tr><td style=\"padding-left:0.75em;\">14</td><td> paper, food, water, one, meat, small, filter, first, spider, fork               </td></tr><tr><td style=\"padding-left:0.75em;\">6</td><td> organs, found, eyes, function, organ, smell, insects, eye, auditory, stimulation        </td></tr><tr><td style=\"padding-left:0.75em;\">5</td><td> vol, p, psych, ibid, physiol, paris, methods, 7, method, sci                </td></tr><tr><td style=\"padding-left:0.75em;\">8</td><td> labyrinth, box, monkeys, rats, vol, experiments, cats, learned, used, learning           </td></tr><tr><td style=\"padding-left:0.75em;\">7</td><td> f, ff, sense, hearing, vision, chemical, reactions, insects, crustacea, learning           </td></tr></table>"
       ],
       "metadata": {},
       "output_type": "pyout",
       "prompt_number": 17,
       "text": [
        "CompactTable([[('light', 0.051550229734370769),\n",
        "        ('negative', 0.027367664091434044),\n",
        "        ('positive', 0.021958405987092935), ...,\n",
        "        ('one', 3.1819165319635948e-06), ('bd', 3.1819165319624644e-06),\n",
        "        ('ibid', 3.1819165319624644e-06)],\n",
        "       [('psychology', 0.025523123429648503), ('c', 0.025523123429648503),\n",
        "        ('animal', 0.024050918655779137), ...,\n",
        "        ('first', 4.90734924623023e-06), ('time', 4.90734924623023e-06),\n",
        "        ('would', 4.9073492462267428e-06)],\n",
        "       [('animal', 0.022478951599254119), ('side', 0.019041398713825295),\n",
        "        ('toward', 0.017190408698594395), ...,\n",
        "        ('w', 2.6442714503288608e-06), ('h', 2.6442714503288608e-06),\n",
        "        ('organs', 2.6442714503283911e-06)],\n",
        "       ..., \n",
        "       [('vol', 0.13438967136150459), ('p', 0.061245492277336534),\n",
        "        ('psych', 0.050188814043683229), ...,\n",
        "        ('smell', 8.5051371028085482e-06),\n",
        "        ('consciousness', 8.5051371028085482e-06),\n",
        "        ('upon', 8.5051371028070371e-06)],\n",
        "       [('labyrinth', 0.02280083886115505), ('box', 0.019951446351638046),\n",
        "        ('monkeys', 0.019951446351638046), ...,\n",
        "        ('sense', 5.6987850190308459e-06), ('5', 5.6987850190288207e-06),\n",
        "        ('ibid', 5.6987850190288207e-06)],\n",
        "       [('f', 0.1417247552144095), ('ff', 0.10578670427730744),\n",
        "        ('sense', 0.053574818953593104), ...,\n",
        "        ('wasmann', 6.7807643277537588e-06),\n",
        "        ('stimuli', 6.7807643277537588e-06),\n",
        "        ('eye', 6.7807643277525543e-06)]], \n",
        "      dtype=[('word', '|S17'), ('value', '<f8')])"
       ]
      }
     ],
     "prompt_number": 17
    },
    {
     "cell_type": "code",
     "collapsed": false,
     "input": [
      "# Displaying documents (i.e. pages) that are most likely generated by topic 3.\n",
      "\n",
      "v.sim_top_doc(3)"
     ],
     "language": "python",
     "metadata": {},
     "outputs": [
      {
       "html": [
        "<table style=\"margin: 0\"><tr><th style=\"text-align: center; background: #CEE3F6\" colspan                    =\"2\">Topics: 3</th></tr><tr><th style=\"text-align: center; background: #EFF2FB; \">Document                          </th><th style=\"text-align: center; background: #EFF2FB; \">Prob                          </th></tr><tr><td>00000205.txt, 204, 2570     </td><td>1.00000   </td></tr><tr><td>00000303.txt, 302, 3734     </td><td>1.00000   </td></tr><tr><td>00000206.txt, 205, 2585     </td><td>1.00000   </td></tr><tr><td>00000304.txt, 303, 3746     </td><td>1.00000   </td></tr><tr><td>00000165.txt, 164, 2099     </td><td>1.00000   </td></tr><tr><td>00000057.txt, 56, 794       </td><td>0.99999   </td></tr><tr><td>00000163.txt, 162, 2061     </td><td>0.99999   </td></tr><tr><td>00000079.txt, 78, 1055      </td><td>0.99999   </td></tr><tr><td>00000207.txt, 206, 2591     </td><td>0.99999   </td></tr><tr><td>00000165.txt, 164, 2094     </td><td>0.99999   </td></tr></table>"
       ],
       "metadata": {},
       "output_type": "pyout",
       "prompt_number": 15,
       "text": [
        "LabeledColumn([('00000205.txt, 204, 2570', 0.99999878913256668),\n",
        "       ('00000303.txt, 302, 3734', 0.9999982057242025),\n",
        "       ('00000206.txt, 205, 2585', 0.99999762738166409), ...,\n",
        "       ('00000266.txt, 265, 3299', 0.00032247630186563788),\n",
        "       ('00000143.txt, 142, 1837', 0.00032227862949963363),\n",
        "       ('00000202.txt, 201, 2534', 0.00025634436701657429)], \n",
        "      dtype=[('doc', '|S23'), ('value', '<f8')])"
       ]
      }
     ],
     "prompt_number": 15
    }
   ],
   "metadata": {}
  }
 ]
}